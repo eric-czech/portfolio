{
 "cells": [
  {
   "cell_type": "code",
   "execution_count": 20,
   "metadata": {
    "collapsed": true
   },
   "outputs": [],
   "source": [
    "%matplotlib inline\n",
    "%load_ext rpy2.ipython"
   ]
  },
  {
   "cell_type": "code",
   "execution_count": 1,
   "metadata": {
    "collapsed": false
   },
   "outputs": [
    {
     "name": "stdout",
     "output_type": "stream",
     "text": [
      "<class 'pandas.core.frame.DataFrame'>\n",
      "Int64Index: 60456 entries, 0 to 60455\n",
      "Data columns (total 21 columns):\n",
      "Requisition #                                                                    60456 non-null object\n",
      "Recruiter                                                                        60456 non-null object\n",
      "Position Title                                                                   60456 non-null object\n",
      "Assessment Level                                                                 60374 non-null object\n",
      "Candidate First Name                                                             60456 non-null object\n",
      "Candidate Last Name                                                              60456 non-null object\n",
      "Email                                                                            60099 non-null object\n",
      "Date applied                                                                     60456 non-null datetime64[ns]\n",
      "Current HR status                                                                60220 non-null object\n",
      "Hired-Onboarding                                                                 5382 non-null object\n",
      "How did you hear about this opportunity?  Please select one of the following:    60456 non-null object\n",
      "Name of referring Team Member:                                                   60339 non-null object\n",
      "Referring Team Member Work Location:                                             56110 non-null object\n",
      "Referring Team Member Phone #:                                                   33963 non-null object\n",
      "Referring Team Member Email Address:                                             15827 non-null object\n",
      "Date Open                                                                        60456 non-null datetime64[ns]\n",
      "Offer Accepted - R                                                               6256 non-null datetime64[ns]\n",
      "Offer Accepted - C                                                               314 non-null object\n",
      "Location                                                                         60456 non-null object\n",
      "Division                                                                         60455 non-null object\n",
      "HR Region                                                                        59672 non-null object\n",
      "dtypes: datetime64[ns](3), object(18)\n",
      "memory usage: 10.1+ MB\n"
     ]
    }
   ],
   "source": [
    "d = pd.read_excel('/tmp/tmrp.xls')\n",
    "d.info()"
   ]
  },
  {
   "cell_type": "code",
   "execution_count": 23,
   "metadata": {
    "collapsed": true
   },
   "outputs": [],
   "source": [
    "d = d.rename(columns={'How did you hear about this opportunity?  Please select one of the following:': 'how'})\n",
    "d = d.rename(columns={'Name of referring Team Member:': 'referrer'})"
   ]
  },
  {
   "cell_type": "code",
   "execution_count": 27,
   "metadata": {
    "collapsed": true
   },
   "outputs": [],
   "source": [
    "d['was_hired'] = ~d['Hired-Onboarding'].isnull()"
   ]
  },
  {
   "cell_type": "code",
   "execution_count": 28,
   "metadata": {
    "collapsed": false
   },
   "outputs": [
    {
     "data": {
      "text/plain": [
       "Index(['Requisition #', 'Recruiter', 'Position Title', 'Assessment Level',\n",
       "       'Candidate First Name', 'Candidate Last Name', 'Email', 'Date applied',\n",
       "       'Current HR status', 'Hired-Onboarding', 'how', 'referrer',\n",
       "       'Referring Team Member Work Location:',\n",
       "       'Referring Team Member Phone #:',\n",
       "       'Referring Team Member Email Address:', 'Date Open',\n",
       "       'Offer Accepted - R', 'Offer Accepted - C', 'Location', 'Division',\n",
       "       'HR Region', 'was_hired'],\n",
       "      dtype='object')"
      ]
     },
     "execution_count": 28,
     "metadata": {},
     "output_type": "execute_result"
    }
   ],
   "source": [
    "d.columns"
   ]
  },
  {
   "cell_type": "code",
   "execution_count": 25,
   "metadata": {
    "collapsed": false
   },
   "outputs": [
    {
     "data": {
      "text/plain": [
       "A Team Member referred me    60456\n",
       "dtype: int64"
      ]
     },
     "execution_count": 25,
     "metadata": {},
     "output_type": "execute_result"
    }
   ],
   "source": [
    "d['how'].value_counts()"
   ]
  },
  {
   "cell_type": "code",
   "execution_count": 26,
   "metadata": {
    "collapsed": false
   },
   "outputs": [
    {
     "data": {
      "text/html": [
       "<div>\n",
       "<table border=\"1\" class=\"dataframe\">\n",
       "  <thead>\n",
       "    <tr style=\"text-align: right;\">\n",
       "      <th></th>\n",
       "      <th>Requisition #</th>\n",
       "      <th>Recruiter</th>\n",
       "      <th>Position Title</th>\n",
       "      <th>Assessment Level</th>\n",
       "      <th>Candidate First Name</th>\n",
       "      <th>Candidate Last Name</th>\n",
       "      <th>Email</th>\n",
       "      <th>Date applied</th>\n",
       "      <th>Current HR status</th>\n",
       "      <th>Hired-Onboarding</th>\n",
       "      <th>...</th>\n",
       "      <th>referrer</th>\n",
       "      <th>Referring Team Member Work Location:</th>\n",
       "      <th>Referring Team Member Phone #:</th>\n",
       "      <th>Referring Team Member Email Address:</th>\n",
       "      <th>Date Open</th>\n",
       "      <th>Offer Accepted - R</th>\n",
       "      <th>Offer Accepted - C</th>\n",
       "      <th>Location</th>\n",
       "      <th>Division</th>\n",
       "      <th>HR Region</th>\n",
       "    </tr>\n",
       "  </thead>\n",
       "  <tbody>\n",
       "    <tr>\n",
       "      <th>29063</th>\n",
       "      <td>46600BR</td>\n",
       "      <td>Forrey, Sara</td>\n",
       "      <td>Overnight Produce Grocery Clerk</td>\n",
       "      <td>Level One Retail and RSC</td>\n",
       "      <td>Lee</td>\n",
       "      <td>Harris</td>\n",
       "      <td>NaN</td>\n",
       "      <td>2014-07-26</td>\n",
       "      <td>Hired-Onboarding</td>\n",
       "      <td>2014-08-08 00:00:00</td>\n",
       "      <td>...</td>\n",
       "      <td>Chris Pinkerton</td>\n",
       "      <td>Watertower</td>\n",
       "      <td>(440) 320-7477</td>\n",
       "      <td>NaN</td>\n",
       "      <td>2014-07-01</td>\n",
       "      <td>2014-07-26</td>\n",
       "      <td>NaN</td>\n",
       "      <td>Store #4086- Strongsville MD</td>\n",
       "      <td>RTL</td>\n",
       "      <td>HRREG202</td>\n",
       "    </tr>\n",
       "  </tbody>\n",
       "</table>\n",
       "<p>1 rows × 21 columns</p>\n",
       "</div>"
      ],
      "text/plain": [
       "      Requisition #     Recruiter                   Position Title  \\\n",
       "29063       46600BR  Forrey, Sara  Overnight Produce Grocery Clerk   \n",
       "\n",
       "               Assessment Level Candidate First Name Candidate Last Name  \\\n",
       "29063  Level One Retail and RSC                  Lee              Harris   \n",
       "\n",
       "      Email Date applied Current HR status     Hired-Onboarding    ...     \\\n",
       "29063   NaN   2014-07-26  Hired-Onboarding  2014-08-08 00:00:00    ...      \n",
       "\n",
       "              referrer Referring Team Member Work Location:  \\\n",
       "29063  Chris Pinkerton                           Watertower   \n",
       "\n",
       "      Referring Team Member Phone #: Referring Team Member Email Address:  \\\n",
       "29063                 (440) 320-7477                                  NaN   \n",
       "\n",
       "       Date Open Offer Accepted - R Offer Accepted - C  \\\n",
       "29063 2014-07-01         2014-07-26                NaN   \n",
       "\n",
       "                           Location Division HR Region  \n",
       "29063  Store #4086- Strongsville MD      RTL  HRREG202  \n",
       "\n",
       "[1 rows x 21 columns]"
      ]
     },
     "execution_count": 26,
     "metadata": {},
     "output_type": "execute_result"
    }
   ],
   "source": [
    "d[(d['referrer'] == 'Chris Pinkerton') & (~d['Hired-Onboarding'].isnull()) ]"
   ]
  },
  {
   "cell_type": "code",
   "execution_count": 30,
   "metadata": {
    "collapsed": false
   },
   "outputs": [
    {
     "data": {
      "text/plain": [
       "<matplotlib.text.Text at 0x10fa0ae90>"
      ]
     },
     "execution_count": 30,
     "metadata": {},
     "output_type": "execute_result"
    },
    {
     "data": {
      "image/png": "[encoded data removed]",
      "text/plain": [
       "<matplotlib.figure.Figure at 0x10f8b77d0>"
      ]
     },
     "metadata": {},
     "output_type": "display_data"
    }
   ],
   "source": [
    "ax = d['referrer'].value_counts().drop('N/a').head(10).plot(kind='bar')\n",
    "ax.set_title('Top 10 Referrers')\n",
    "ax.set_xlabel('Referrer Name')\n",
    "ax.set_ylabel('Referral Count')"
   ]
  },
  {
   "cell_type": "code",
   "execution_count": 37,
   "metadata": {
    "collapsed": false
   },
   "outputs": [
    {
     "data": {
      "text/plain": [
       "30095"
      ]
     },
     "execution_count": 37,
     "metadata": {},
     "output_type": "execute_result"
    }
   ],
   "source": [
    "d['referrer'].value_counts().drop('N/a').head(3000).sum()"
   ]
  },
  {
   "cell_type": "code",
   "execution_count": 49,
   "metadata": {
    "collapsed": false
   },
   "outputs": [
    {
     "data": {
      "text/plain": [
       "array([10,  9,  8,  7,  6,  5,  4,  3,  2,  1])"
      ]
     },
     "execution_count": 49,
     "metadata": {},
     "output_type": "execute_result"
    }
   ],
   "source": [
    "np.arange(10, 0, -1)"
   ]
  },
  {
   "cell_type": "code",
   "execution_count": 64,
   "metadata": {
    "collapsed": false
   },
   "outputs": [
    {
     "data": {
      "text/html": [
       "<div>\n",
       "<table border=\"1\" class=\"dataframe\">\n",
       "  <thead>\n",
       "    <tr style=\"text-align: right;\">\n",
       "      <th></th>\n",
       "      <th>id</th>\n",
       "      <th>total</th>\n",
       "    </tr>\n",
       "  </thead>\n",
       "  <tbody>\n",
       "    <tr>\n",
       "      <th>0</th>\n",
       "      <td>1</td>\n",
       "      <td>1881</td>\n",
       "    </tr>\n",
       "    <tr>\n",
       "      <th>1</th>\n",
       "      <td>2</td>\n",
       "      <td>1881</td>\n",
       "    </tr>\n",
       "    <tr>\n",
       "      <th>2</th>\n",
       "      <td>3</td>\n",
       "      <td>1881</td>\n",
       "    </tr>\n",
       "    <tr>\n",
       "      <th>3</th>\n",
       "      <td>4</td>\n",
       "      <td>1881</td>\n",
       "    </tr>\n",
       "    <tr>\n",
       "      <th>4</th>\n",
       "      <td>5</td>\n",
       "      <td>3566</td>\n",
       "    </tr>\n",
       "    <tr>\n",
       "      <th>5</th>\n",
       "      <td>6</td>\n",
       "      <td>3762</td>\n",
       "    </tr>\n",
       "    <tr>\n",
       "      <th>6</th>\n",
       "      <td>7</td>\n",
       "      <td>5111</td>\n",
       "    </tr>\n",
       "    <tr>\n",
       "      <th>7</th>\n",
       "      <td>8</td>\n",
       "      <td>6689</td>\n",
       "    </tr>\n",
       "    <tr>\n",
       "      <th>8</th>\n",
       "      <td>9</td>\n",
       "      <td>9853</td>\n",
       "    </tr>\n",
       "    <tr>\n",
       "      <th>9</th>\n",
       "      <td>10</td>\n",
       "      <td>23765</td>\n",
       "    </tr>\n",
       "  </tbody>\n",
       "</table>\n",
       "</div>"
      ],
      "text/plain": [
       "   id  total\n",
       "0   1   1881\n",
       "1   2   1881\n",
       "2   3   1881\n",
       "3   4   1881\n",
       "4   5   3566\n",
       "5   6   3762\n",
       "6   7   5111\n",
       "7   8   6689\n",
       "8   9   9853\n",
       "9  10  23765"
      ]
     },
     "execution_count": 64,
     "metadata": {},
     "output_type": "execute_result"
    }
   ],
   "source": [
    "x = d['referrer'].value_counts().drop('N/a').reset_index()\n",
    "x.columns = ['referrer', 'value']\n",
    "x['id'] = np.arange(len(x), 0, -1)\n",
    "import math\n",
    "q = x.groupby(x['id'].apply(lambda z: math.ceil(10 * float(z)/len(x))))['value'].sum()\n",
    "q = q.reset_index(name='total')\n",
    "q"
   ]
  },
  {
   "cell_type": "code",
   "execution_count": 72,
   "metadata": {
    "collapsed": false
   },
   "outputs": [
    {
     "data": {
      "text/html": [
       "<div>\n",
       "<table border=\"1\" class=\"dataframe\">\n",
       "  <thead>\n",
       "    <tr style=\"text-align: right;\">\n",
       "      <th></th>\n",
       "      <th>id</th>\n",
       "      <th>total</th>\n",
       "      <th>bucket</th>\n",
       "      <th>cum_total</th>\n",
       "    </tr>\n",
       "  </thead>\n",
       "  <tbody>\n",
       "    <tr>\n",
       "      <th>9</th>\n",
       "      <td>10</td>\n",
       "      <td>23765</td>\n",
       "      <td>90-100%</td>\n",
       "      <td>60270</td>\n",
       "    </tr>\n",
       "    <tr>\n",
       "      <th>8</th>\n",
       "      <td>9</td>\n",
       "      <td>9853</td>\n",
       "      <td>80-90%</td>\n",
       "      <td>36505</td>\n",
       "    </tr>\n",
       "    <tr>\n",
       "      <th>7</th>\n",
       "      <td>8</td>\n",
       "      <td>6689</td>\n",
       "      <td>70-80%</td>\n",
       "      <td>26652</td>\n",
       "    </tr>\n",
       "    <tr>\n",
       "      <th>6</th>\n",
       "      <td>7</td>\n",
       "      <td>5111</td>\n",
       "      <td>60-70%</td>\n",
       "      <td>19963</td>\n",
       "    </tr>\n",
       "    <tr>\n",
       "      <th>5</th>\n",
       "      <td>6</td>\n",
       "      <td>3762</td>\n",
       "      <td>50-60%</td>\n",
       "      <td>14852</td>\n",
       "    </tr>\n",
       "    <tr>\n",
       "      <th>4</th>\n",
       "      <td>5</td>\n",
       "      <td>3566</td>\n",
       "      <td>40-50%</td>\n",
       "      <td>11090</td>\n",
       "    </tr>\n",
       "    <tr>\n",
       "      <th>3</th>\n",
       "      <td>4</td>\n",
       "      <td>1881</td>\n",
       "      <td>30-40%</td>\n",
       "      <td>7524</td>\n",
       "    </tr>\n",
       "    <tr>\n",
       "      <th>2</th>\n",
       "      <td>3</td>\n",
       "      <td>1881</td>\n",
       "      <td>20-30%</td>\n",
       "      <td>5643</td>\n",
       "    </tr>\n",
       "    <tr>\n",
       "      <th>1</th>\n",
       "      <td>2</td>\n",
       "      <td>1881</td>\n",
       "      <td>10-20%</td>\n",
       "      <td>3762</td>\n",
       "    </tr>\n",
       "    <tr>\n",
       "      <th>0</th>\n",
       "      <td>1</td>\n",
       "      <td>1881</td>\n",
       "      <td>0-10%</td>\n",
       "      <td>1881</td>\n",
       "    </tr>\n",
       "  </tbody>\n",
       "</table>\n",
       "</div>"
      ],
      "text/plain": [
       "   id  total   bucket  cum_total\n",
       "9  10  23765  90-100%      60270\n",
       "8   9   9853   80-90%      36505\n",
       "7   8   6689   70-80%      26652\n",
       "6   7   5111   60-70%      19963\n",
       "5   6   3762   50-60%      14852\n",
       "4   5   3566   40-50%      11090\n",
       "3   4   1881   30-40%       7524\n",
       "2   3   1881   20-30%       5643\n",
       "1   2   1881   10-20%       3762\n",
       "0   1   1881    0-10%       1881"
      ]
     },
     "execution_count": 72,
     "metadata": {},
     "output_type": "execute_result"
    }
   ],
   "source": [
    "q['bucket'] = q['id'].apply(lambda x: '{}-{}%'.format((x-1)*10, x*10))\n",
    "q['cum_total'] = q['total'].cumsum()\n",
    "q = q.sort('id', ascending=False)\n",
    "q"
   ]
  },
  {
   "cell_type": "code",
   "execution_count": 84,
   "metadata": {
    "collapsed": false
   },
   "outputs": [
    {
     "data": {
      "image/png": "[encoded data removed]"
     },
     "metadata": {},
     "output_type": "display_data"
    }
   ],
   "source": [
    "%%R -i q -w 600 -h 400 -u px\n",
    "library(dplyr)\n",
    "library(ggplot2)\n",
    "\n",
    "q %>%\n",
    "    mutate(cum_total=as.numeric(cum_total)) %>%\n",
    "    ggplot(aes(x=bucket, y=cum_total)) + geom_bar(stat='identity') +\n",
    "    theme_bw() + ggtitle('Cumulative # Referrals by Referrer Percentile') + \n",
    "    xlab('Percentile Range of Referrers\\n(eg 90-100% = the 10% of employees who made the MOST referrals)') + \n",
    "    ylab('Cumulative Number of People Referred')"
   ]
  },
  {
   "cell_type": "code",
   "execution_count": null,
   "metadata": {
    "collapsed": true
   },
   "outputs": [],
   "source": []
  }
 ],
 "metadata": {
  "kernelspec": {
   "display_name": "Python 3",
   "language": "python",
   "name": "python3"
  },
  "language_info": {
   "codemirror_mode": {
    "name": "ipython",
    "version": 3
   },
   "file_extension": ".py",
   "mimetype": "text/x-python",
   "name": "python",
   "nbconvert_exporter": "python",
   "pygments_lexer": "ipython3",
   "version": "3.3.5"
  }
 },
 "nbformat": 4,
 "nbformat_minor": 0
}
