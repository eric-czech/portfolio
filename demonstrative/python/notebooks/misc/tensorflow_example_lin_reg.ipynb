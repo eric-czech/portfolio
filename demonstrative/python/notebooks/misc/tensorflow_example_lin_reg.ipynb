{
 "cells": [
  {
   "cell_type": "code",
   "execution_count": 39,
   "metadata": {
    "collapsed": false
   },
   "outputs": [],
   "source": [
    "%run -m ipy_startup\n",
    "%matplotlib inline\n",
    "import tensorflow as tf"
   ]
  },
  {
   "cell_type": "code",
   "execution_count": 49,
   "metadata": {
    "collapsed": false
   },
   "outputs": [],
   "source": [
    "# # Regression Data\n",
    "# n_vars = 2\n",
    "# n_samples = 1000\n",
    "# drop_pct = .5\n",
    "# w = np.random.randn(n_vars)\n",
    "# X = np.random.randn(n_samples, n_vars)\n",
    "# y = np.hstack((np.multiply(X, w), np.random.randn(n_samples, 1)))\n",
    "\n",
    "# y = np.sum(y, axis=1)\n",
    "# idx = np.random.choice(np.arange(len(y)), replace=True, size=int(len(y) * drop_pct))\n",
    "# y[idx] = np.nan"
   ]
  },
  {
   "cell_type": "code",
   "execution_count": null,
   "metadata": {
    "collapsed": true
   },
   "outputs": [],
   "source": [
    "# Classification Data\n",
    "n_vars = 2\n",
    "n_samples = 1000\n",
    "drop_pct = .5"
   ]
  },
  {
   "cell_type": "code",
   "execution_count": 51,
   "metadata": {
    "collapsed": true
   },
   "outputs": [],
   "source": [
    "def predict(X, W, b, y, n_samples):\n",
    "    y_pred = tf.reshape(tf.add(tf.matmul(X, W), b), [-1])\n",
    "    y_fill = tf.select(tf.is_nan(y), y_pred, y)\n",
    "    loss = tf.reduce_sum(tf.pow(y_fill - y_pred, 2)) / n_samples\n",
    "    return W, b, y_pred, y_fill, loss\n",
    "\n",
    "# def predict(X, W, b, y, n_samples):\n",
    "#     y_pred = tf.reshape(tf.add(tf.matmul(X, W), b), [-1])\n",
    "#     loss = tf.reduce_sum(tf.pow(y - y_pred, 2)) / n_samples\n",
    "#     y_fill = None\n",
    "#     return W, b, y_pred, y_fill, loss\n",
    "\n",
    "def get_model(n_samples, n_vars):\n",
    "    Xi = tf.placeholder(tf.float32, shape=[n_samples, n_vars])\n",
    "    yi = tf.placeholder(tf.float32, shape=[n_samples])\n",
    "    \n",
    "    W = tf.Variable(tf.zeros([2,1]), name=\"weights\")\n",
    "    b = tf.Variable(tf.zeros([1]), name=\"bias\")\n",
    "    #b = tf.Variable(np.random.randn(), name='bias')\n",
    "    \n",
    "    W, b, y_pred, y_fill, loss = predict(Xi, W, b, yi, n_samples)\n",
    "    optimizer = tf.train.GradientDescentOptimizer(learning_rate=.01).minimize(loss)\n",
    "    return W, b, Xi, yi, y_pred, y_fill, optimizer, loss"
   ]
  },
  {
   "cell_type": "code",
   "execution_count": 52,
   "metadata": {
    "collapsed": false
   },
   "outputs": [],
   "source": [
    "tf.reset_default_graph()\n",
    "W, b, Xi, yi, y_pred, y_fill, optimizer, loss = get_model(n_samples, n_vars)"
   ]
  },
  {
   "cell_type": "code",
   "execution_count": 53,
   "metadata": {
    "collapsed": false
   },
   "outputs": [
    {
     "name": "stdout",
     "output_type": "stream",
     "text": [
      "Iteration 1: Cost = 1.1217153072357178\n",
      "Iteration 11: Cost = 1.014649510383606\n",
      "Iteration 21: Cost = 0.9278941750526428\n",
      "Iteration 31: Cost = 0.8575946092605591\n",
      "Iteration 41: Cost = 0.8006275296211243\n",
      "Iteration 51: Cost = 0.7544631958007812\n",
      "Iteration 61: Cost = 0.7170517444610596\n",
      "Iteration 71: Cost = 0.6867326498031616\n",
      "Iteration 81: Cost = 0.6621610522270203\n",
      "Iteration 91: Cost = 0.6422466039657593\n"
     ]
    }
   ],
   "source": [
    "\n",
    "init = tf.initialize_all_variables()\n",
    "yp = None\n",
    "with tf.Session() as sess:\n",
    "    sess.run(init)\n",
    "    for i in range(100):\n",
    "        #print(sess.run(y_fill, feed_dict={Xi:X, yi:y}))\n",
    "        sess.run(optimizer, feed_dict={Xi:X, yi:y})\n",
    "        if i % 10 == 0:\n",
    "            c = sess.run(loss, feed_dict={Xi:X, yi:y})\n",
    "            print('Iteration {}: Cost = {}'.format(i + 1, c))\n",
    "    yp = sess.run(y_pred, feed_dict={Xi:X, yi:y})   "
   ]
  },
  {
   "cell_type": "code",
   "execution_count": 54,
   "metadata": {
    "collapsed": false
   },
   "outputs": [
    {
     "data": {
      "text/html": [
       "<div>\n",
       "<table border=\"1\" class=\"dataframe\">\n",
       "  <thead>\n",
       "    <tr style=\"text-align: right;\">\n",
       "      <th></th>\n",
       "      <th>X0</th>\n",
       "      <th>X1</th>\n",
       "      <th>y</th>\n",
       "      <th>y_pred</th>\n",
       "    </tr>\n",
       "  </thead>\n",
       "  <tbody>\n",
       "    <tr>\n",
       "      <th>0</th>\n",
       "      <td>0.426084</td>\n",
       "      <td>0.521041</td>\n",
       "      <td>0.906908</td>\n",
       "      <td>-0.348892</td>\n",
       "    </tr>\n",
       "    <tr>\n",
       "      <th>1</th>\n",
       "      <td>0.202492</td>\n",
       "      <td>1.816305</td>\n",
       "      <td>NaN</td>\n",
       "      <td>-0.411890</td>\n",
       "    </tr>\n",
       "    <tr>\n",
       "      <th>2</th>\n",
       "      <td>-2.300508</td>\n",
       "      <td>-0.231246</td>\n",
       "      <td>NaN</td>\n",
       "      <td>1.581662</td>\n",
       "    </tr>\n",
       "    <tr>\n",
       "      <th>3</th>\n",
       "      <td>-0.635307</td>\n",
       "      <td>-0.065465</td>\n",
       "      <td>1.945041</td>\n",
       "      <td>0.450516</td>\n",
       "    </tr>\n",
       "    <tr>\n",
       "      <th>4</th>\n",
       "      <td>-0.406291</td>\n",
       "      <td>-0.029994</td>\n",
       "      <td>1.305311</td>\n",
       "      <td>0.292883</td>\n",
       "    </tr>\n",
       "  </tbody>\n",
       "</table>\n",
       "</div>"
      ],
      "text/plain": [
       "         X0        X1         y    y_pred\n",
       "0  0.426084  0.521041  0.906908 -0.348892\n",
       "1  0.202492  1.816305       NaN -0.411890\n",
       "2 -2.300508 -0.231246       NaN  1.581662\n",
       "3 -0.635307 -0.065465  1.945041  0.450516\n",
       "4 -0.406291 -0.029994  1.305311  0.292883"
      ]
     },
     "execution_count": 54,
     "metadata": {},
     "output_type": "execute_result"
    }
   ],
   "source": [
    "d = pd.DataFrame(np.hstack([X, np.reshape(y, (-1, 1))])).add_prefix('X')\n",
    "d = d.rename(columns={d.columns[-1]:'y'})\n",
    "d['y_pred'] = yp\n",
    "d.head()"
   ]
  },
  {
   "cell_type": "code",
   "execution_count": 55,
   "metadata": {
    "collapsed": false
   },
   "outputs": [
    {
     "data": {
      "text/plain": [
       "<matplotlib.axes._subplots.AxesSubplot at 0x116ad9b38>"
      ]
     },
     "execution_count": 55,
     "metadata": {},
     "output_type": "execute_result"
    },
    {
     "data": {
      "image/png": "[encoded data removed]",
      "text/plain": [
       "<matplotlib.figure.Figure at 0x116c1d128>"
      ]
     },
     "metadata": {},
     "output_type": "display_data"
    }
   ],
   "source": [
    "d.plot(kind='scatter', x='y_pred', y='y')"
   ]
  },
  {
   "cell_type": "code",
   "execution_count": 47,
   "metadata": {
    "collapsed": false
   },
   "outputs": [
    {
     "data": {
      "text/plain": [
       "<matplotlib.axes._subplots.AxesSubplot at 0x116c19ba8>"
      ]
     },
     "execution_count": 47,
     "metadata": {},
     "output_type": "execute_result"
    },
    {
     "data": {
      "image/png": "[encoded data removed]",
      "text/plain": [
       "<matplotlib.figure.Figure at 0x117725d68>"
      ]
     },
     "metadata": {},
     "output_type": "display_data"
    }
   ],
   "source": [
    "d.plot(kind='scatter', x='y_pred', y='y')"
   ]
  },
  {
   "cell_type": "code",
   "execution_count": null,
   "metadata": {
    "collapsed": true
   },
   "outputs": [],
   "source": []
  }
 ],
 "metadata": {
  "kernelspec": {
   "display_name": "Python 3",
   "language": "python",
   "name": "python3"
  },
  "language_info": {
   "codemirror_mode": {
    "name": "ipython",
    "version": 3
   },
   "file_extension": ".py",
   "mimetype": "text/x-python",
   "name": "python",
   "nbconvert_exporter": "python",
   "pygments_lexer": "ipython3",
   "version": "3.5.2"
  }
 },
 "nbformat": 4,
 "nbformat_minor": 0
}
