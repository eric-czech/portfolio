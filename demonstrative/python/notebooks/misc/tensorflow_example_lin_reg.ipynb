{
 "cells": [
  {
   "cell_type": "code",
   "execution_count": 2,
   "metadata": {
    "collapsed": false
   },
   "outputs": [],
   "source": [
    "%run -m ipy_startup\n",
    "%matplotlib inline\n",
    "import tensorflow as tf"
   ]
  },
  {
   "cell_type": "code",
   "execution_count": 49,
   "metadata": {
    "collapsed": false
   },
   "outputs": [],
   "source": [
    "# # Regression Data\n",
    "# n_vars = 2\n",
    "# n_samples = 1000\n",
    "# drop_pct = .5\n",
    "# w = np.random.randn(n_vars)\n",
    "# X = np.random.randn(n_samples, n_vars)\n",
    "# y = np.hstack((np.multiply(X, w), np.random.randn(n_samples, 1)))\n",
    "\n",
    "# y = np.sum(y, axis=1)\n",
    "# idx = np.random.choice(np.arange(len(y)), replace=True, size=int(len(y) * drop_pct))\n",
    "# y[idx] = np.nan"
   ]
  },
  {
   "cell_type": "code",
   "execution_count": null,
   "metadata": {
    "collapsed": true
   },
   "outputs": [],
   "source": [
    "# Classification Data\n",
    "n_vars = 2\n",
    "n_samples = 1000\n",
    "drop_pct = .5"
   ]
  },
  {
   "cell_type": "code",
   "execution_count": 51,
   "metadata": {
    "collapsed": true
   },
   "outputs": [],
   "source": [
    "def predict(X, W, b, y, n_samples):\n",
    "    y_pred = tf.reshape(tf.add(tf.matmul(X, W), b), [-1])\n",
    "    y_fill = tf.select(tf.is_nan(y), y_pred, y)\n",
    "    loss = tf.reduce_sum(tf.pow(y_fill - y_pred, 2)) / n_samples\n",
    "    return W, b, y_pred, y_fill, loss\n",
    "\n",
    "# def predict(X, W, b, y, n_samples):\n",
    "#     y_pred = tf.reshape(tf.add(tf.matmul(X, W), b), [-1])\n",
    "#     loss = tf.reduce_sum(tf.pow(y - y_pred, 2)) / n_samples\n",
    "#     y_fill = None\n",
    "#     return W, b, y_pred, y_fill, loss\n",
    "\n",
    "def get_model(n_samples, n_vars):\n",
    "    Xi = tf.placeholder(tf.float32, shape=[n_samples, n_vars])\n",
    "    yi = tf.placeholder(tf.float32, shape=[n_samples])\n",
    "    \n",
    "    W = tf.Variable(tf.zeros([2,1]), name=\"weights\")\n",
    "    b = tf.Variable(tf.zeros([1]), name=\"bias\")\n",
    "    #b = tf.Variable(np.random.randn(), name='bias')\n",
    "    \n",
    "    W, b, y_pred, y_fill, loss = predict(Xi, W, b, yi, n_samples)\n",
    "    optimizer = tf.train.GradientDescentOptimizer(learning_rate=.01).minimize(loss)\n",
    "    return W, b, Xi, yi, y_pred, y_fill, optimizer, loss"
   ]
  },
  {
   "cell_type": "code",
   "execution_count": 52,
   "metadata": {
    "collapsed": false
   },
   "outputs": [],
   "source": [
    "tf.reset_default_graph()\n",
    "W, b, Xi, yi, y_pred, y_fill, optimizer, loss = get_model(n_samples, n_vars)"
   ]
  },
  {
   "cell_type": "code",
   "execution_count": 53,
   "metadata": {
    "collapsed": false
   },
   "outputs": [
    {
     "name": "stdout",
     "output_type": "stream",
     "text": [
      "Iteration 1: Cost = 1.1217153072357178\n",
      "Iteration 11: Cost = 1.014649510383606\n",
      "Iteration 21: Cost = 0.9278941750526428\n",
      "Iteration 31: Cost = 0.8575946092605591\n",
      "Iteration 41: Cost = 0.8006275296211243\n",
      "Iteration 51: Cost = 0.7544631958007812\n",
      "Iteration 61: Cost = 0.7170517444610596\n",
      "Iteration 71: Cost = 0.6867326498031616\n",
      "Iteration 81: Cost = 0.6621610522270203\n",
      "Iteration 91: Cost = 0.6422466039657593\n"
     ]
    }
   ],
   "source": [
    "\n",
    "init = tf.initialize_all_variables()\n",
    "yp = None\n",
    "with tf.Session() as sess:\n",
    "    sess.run(init)\n",
    "    for i in range(100):\n",
    "        #print(sess.run(y_fill, feed_dict={Xi:X, yi:y}))\n",
    "        sess.run(optimizer, feed_dict={Xi:X, yi:y})\n",
    "        if i % 10 == 0:\n",
    "            c = sess.run(loss, feed_dict={Xi:X, yi:y})\n",
    "            print('Iteration {}: Cost = {}'.format(i + 1, c))\n",
    "    yp = sess.run(y_pred, feed_dict={Xi:X, yi:y})   "
   ]
  },
  {
   "cell_type": "code",
   "execution_count": 54,
   "metadata": {
    "collapsed": false
   },
   "outputs": [
    {
     "data": {
      "text/html": [
       "<div>\n",
       "<table border=\"1\" class=\"dataframe\">\n",
       "  <thead>\n",
       "    <tr style=\"text-align: right;\">\n",
       "      <th></th>\n",
       "      <th>X0</th>\n",
       "      <th>X1</th>\n",
       "      <th>y</th>\n",
       "      <th>y_pred</th>\n",
       "    </tr>\n",
       "  </thead>\n",
       "  <tbody>\n",
       "    <tr>\n",
       "      <th>0</th>\n",
       "      <td>0.426084</td>\n",
       "      <td>0.521041</td>\n",
       "      <td>0.906908</td>\n",
       "      <td>-0.348892</td>\n",
       "    </tr>\n",
       "    <tr>\n",
       "      <th>1</th>\n",
       "      <td>0.202492</td>\n",
       "      <td>1.816305</td>\n",
       "      <td>NaN</td>\n",
       "      <td>-0.411890</td>\n",
       "    </tr>\n",
       "    <tr>\n",
       "      <th>2</th>\n",
       "      <td>-2.300508</td>\n",
       "      <td>-0.231246</td>\n",
       "      <td>NaN</td>\n",
       "      <td>1.581662</td>\n",
       "    </tr>\n",
       "    <tr>\n",
       "      <th>3</th>\n",
       "      <td>-0.635307</td>\n",
       "      <td>-0.065465</td>\n",
       "      <td>1.945041</td>\n",
       "      <td>0.450516</td>\n",
       "    </tr>\n",
       "    <tr>\n",
       "      <th>4</th>\n",
       "      <td>-0.406291</td>\n",
       "      <td>-0.029994</td>\n",
       "      <td>1.305311</td>\n",
       "      <td>0.292883</td>\n",
       "    </tr>\n",
       "  </tbody>\n",
       "</table>\n",
       "</div>"
      ],
      "text/plain": [
       "         X0        X1         y    y_pred\n",
       "0  0.426084  0.521041  0.906908 -0.348892\n",
       "1  0.202492  1.816305       NaN -0.411890\n",
       "2 -2.300508 -0.231246       NaN  1.581662\n",
       "3 -0.635307 -0.065465  1.945041  0.450516\n",
       "4 -0.406291 -0.029994  1.305311  0.292883"
      ]
     },
     "execution_count": 54,
     "metadata": {},
     "output_type": "execute_result"
    }
   ],
   "source": [
    "d = pd.DataFrame(np.hstack([X, np.reshape(y, (-1, 1))])).add_prefix('X')\n",
    "d = d.rename(columns={d.columns[-1]:'y'})\n",
    "d['y_pred'] = yp\n",
    "d.head()"
   ]
  },
  {
   "cell_type": "code",
   "execution_count": 55,
   "metadata": {
    "collapsed": false
   },
   "outputs": [
    {
     "data": {
      "text/plain": [
       "<matplotlib.axes._subplots.AxesSubplot at 0x116ad9b38>"
      ]
     },
     "execution_count": 55,
     "metadata": {},
     "output_type": "execute_result"
    },
    {
     "data": {
      "image/png": "[encoded data removed]",
      "text/plain": [
       "<matplotlib.figure.Figure at 0x116c1d128>"
      ]
     },
     "metadata": {},
     "output_type": "display_data"
    }
   ],
   "source": [
    "d.plot(kind='scatter', x='y_pred', y='y')"
   ]
  },
  {
   "cell_type": "code",
   "execution_count": 47,
   "metadata": {
    "collapsed": false
   },
   "outputs": [
    {
     "data": {
      "text/plain": [
       "<matplotlib.axes._subplots.AxesSubplot at 0x116c19ba8>"
      ]
     },
     "execution_count": 47,
     "metadata": {},
     "output_type": "execute_result"
    },
    {
     "data": {
      "image/png": "[encoded data removed]",
      "text/plain": [
       "<matplotlib.figure.Figure at 0x117725d68>"
      ]
     },
     "metadata": {},
     "output_type": "display_data"
    }
   ],
   "source": [
    "d.plot(kind='scatter', x='y_pred', y='y')"
   ]
  },
  {
   "cell_type": "markdown",
   "metadata": {
    "collapsed": true
   },
   "source": [
    "# TF Learn"
   ]
  },
  {
   "cell_type": "code",
   "execution_count": 108,
   "metadata": {
    "collapsed": false
   },
   "outputs": [
    {
     "data": {
      "text/plain": [
       "((1000, 10), (1000,))"
      ]
     },
     "execution_count": 108,
     "metadata": {},
     "output_type": "execute_result"
    }
   ],
   "source": [
    "from sklearn.datasets import make_classification\n",
    "from sklearn.preprocessing import StandardScaler\n",
    "from sklearn.ensemble import RandomForestClassifier, GradientBoostingClassifier\n",
    "X, y = make_classification(\n",
    "    n_samples=1000, n_informative=2, n_classes=3, n_redundant=0, \n",
    "    n_features=10, n_clusters_per_class=1, class_sep=10, \n",
    "    random_state=123\n",
    ")\n",
    "X = pd.DataFrame(StandardScaler().fit_transform(X)).add_prefix('X')\n",
    "y = pd.Series(y)\n",
    "#clf = RandomForestClassifier().fit(X, y)\n",
    "clf = GradientBoostingClassifier().fit(X, y)\n",
    "X.shape, y.shape"
   ]
  },
  {
   "cell_type": "code",
   "execution_count": 82,
   "metadata": {
    "collapsed": false
   },
   "outputs": [
    {
     "data": {
      "text/plain": [
       "<matplotlib.axes._subplots.AxesSubplot at 0x11f859898>"
      ]
     },
     "execution_count": 82,
     "metadata": {},
     "output_type": "execute_result"
    },
    {
     "data": {
      "image/png": "[encoded data removed]",
      "text/plain": [
       "<matplotlib.figure.Figure at 0x11f7c5d30>"
      ]
     },
     "metadata": {},
     "output_type": "display_data"
    }
   ],
   "source": [
    "pd.Series(clf.feature_importances_, index=X.columns).sort_values().plot(kind='bar')"
   ]
  },
  {
   "cell_type": "code",
   "execution_count": 162,
   "metadata": {
    "collapsed": false
   },
   "outputs": [
    {
     "data": {
      "text/html": [
       "<div>\n",
       "<table border=\"1\" class=\"dataframe\">\n",
       "  <thead>\n",
       "    <tr style=\"text-align: right;\">\n",
       "      <th>actual</th>\n",
       "      <th>0</th>\n",
       "      <th>1</th>\n",
       "      <th>2</th>\n",
       "    </tr>\n",
       "    <tr>\n",
       "      <th>predicted</th>\n",
       "      <th></th>\n",
       "      <th></th>\n",
       "      <th></th>\n",
       "    </tr>\n",
       "  </thead>\n",
       "  <tbody>\n",
       "    <tr>\n",
       "      <th>0</th>\n",
       "      <td>332.0</td>\n",
       "      <td>NaN</td>\n",
       "      <td>NaN</td>\n",
       "    </tr>\n",
       "    <tr>\n",
       "      <th>1</th>\n",
       "      <td>NaN</td>\n",
       "      <td>333.0</td>\n",
       "      <td>NaN</td>\n",
       "    </tr>\n",
       "    <tr>\n",
       "      <th>2</th>\n",
       "      <td>NaN</td>\n",
       "      <td>NaN</td>\n",
       "      <td>335.0</td>\n",
       "    </tr>\n",
       "  </tbody>\n",
       "</table>\n",
       "</div>"
      ],
      "text/plain": [
       "actual         0      1      2\n",
       "predicted                     \n",
       "0          332.0    NaN    NaN\n",
       "1            NaN  333.0    NaN\n",
       "2            NaN    NaN  335.0"
      ]
     },
     "execution_count": 162,
     "metadata": {},
     "output_type": "execute_result"
    }
   ],
   "source": [
    "pd.DataFrame({'predicted':clf.predict(X), 'actual': y.values}).groupby(['predicted', 'actual']).size().unstack()"
   ]
  },
  {
   "cell_type": "code",
   "execution_count": 97,
   "metadata": {
    "collapsed": false
   },
   "outputs": [],
   "source": [
    "def tfeval(exp):\n",
    "    sess = tf.InteractiveSession()\n",
    "    res = sess.run(exp)\n",
    "    sess.close()\n",
    "    return res"
   ]
  },
  {
   "cell_type": "code",
   "execution_count": 106,
   "metadata": {
    "collapsed": false
   },
   "outputs": [
    {
     "data": {
      "text/plain": [
       "array([ 2.23606801,  5.        ], dtype=float32)"
      ]
     },
     "execution_count": 106,
     "metadata": {},
     "output_type": "execute_result"
    }
   ],
   "source": [
    "x = tf.constant([[1.,2], [3,4]])\n",
    "v = x * x\n",
    "v = tf.sqrt(tf.reduce_sum(v, 1, keep_dims=False))\n",
    "tfeval(y)"
   ]
  },
  {
   "cell_type": "code",
   "execution_count": 233,
   "metadata": {
    "collapsed": true
   },
   "outputs": [],
   "source": [
    "import tensorflow.contrib.learn.python.learn as learn\n",
    "from sklearn import metrics\n",
    "\n",
    "def my_model(X, y, mode, params):\n",
    "    print(params)\n",
    "    a1=params['a1']\n",
    "    a2=params['a2']\n",
    "    a3=params['a3']\n",
    "    yt = tf.one_hot(y, 3)\n",
    "    \n",
    "    b1 = tf.Variable(tf.zeros([3]), name='b1')\n",
    "\n",
    "    W1 = tf.Variable(tf.random_normal([5, 3]), name='W1')\n",
    "    W2 = tf.Variable(tf.random_normal([5, 3]), name='W2')\n",
    "    \n",
    "    h1 = tf.matmul(X[:,0:5], W1)\n",
    "    h2 = tf.matmul(X[:,5:10], W2)\n",
    "    \n",
    "    w1 = tf.Variable(tf.zeros([3]))\n",
    "    w2 = tf.Variable(tf.zeros([3]))\n",
    "    h3 = tf.add(tf.mul(h1, w1), tf.mul(h2, w2)) + b1\n",
    "    yp = tf.nn.softmax(h3)\n",
    "    \n",
    "    loss_y = tf.reduce_mean(-tf.reduce_sum(yt * tf.log(yp), reduction_indices=[1]), name='loss_y')\n",
    "    \n",
    "    \n",
    "    loss_W1_min = -tf.minimum(tf.reduce_min(W1), 0, name='loss_W1_min')\n",
    "    loss_W1_reg = tf.reduce_sum(tf.sqrt(tf.reduce_sum(tf.pow(W1, 2), 1, keep_dims=True)), name='loss_W1_reg')\n",
    "    loss_W1 = tf.mul(a1, tf.add(loss_W1_min, loss_W1_reg), name='loss_W1')\n",
    "\n",
    "    loss_W2_min = -tf.minimum(tf.reduce_min(W2), 0, name='loss_W2_min')\n",
    "    loss_W2_reg = tf.reduce_sum(tf.sqrt(tf.reduce_sum(tf.pow(W2, 2), 1, keep_dims=True)), name='loss_W2_reg')\n",
    "    loss_W2 = tf.mul(a2, tf.add(loss_W2_min, loss_W2_reg), name='loss_W2')\n",
    "    \n",
    "    loss_w = tf.mul(a3, tf.reduce_sum(tf.abs(tf.concat(0, [w1, w2]))), name='loss_w')\n",
    "\n",
    "    loss = tf.identity(loss_y + loss_W1 + loss_W2 + loss_w, name='loss')\n",
    "    \n",
    "    train_op = tf.contrib.layers.optimize_loss(\n",
    "        loss, tf.contrib.framework.get_global_step(), optimizer='Adagrad',\n",
    "        learning_rate=0.1)\n",
    "    return yp, loss, train_op"
   ]
  },
  {
   "cell_type": "code",
   "execution_count": 232,
   "metadata": {
    "collapsed": false,
    "scrolled": true
   },
   "outputs": [
    {
     "name": "stderr",
     "output_type": "stream",
     "text": [
      "WARNING:tensorflow:Using temporary folder as model directory: /var/folders/6g/kdqcxdms5dg0dr83wxn3ydjcsy9pxl/T/tmpe0axladb\n",
      "WARNING:tensorflow:Setting feature info to TensorSignature(dtype=tf.float32, shape=TensorShape([Dimension(None), Dimension(10)]), is_sparse=False)\n",
      "WARNING:tensorflow:Setting targets info to TensorSignature(dtype=tf.int64, shape=TensorShape([Dimension(None)]), is_sparse=False)\n"
     ]
    },
    {
     "name": "stdout",
     "output_type": "stream",
     "text": [
      "{'a2': 0.01, 'a3': 0.01, 'a1': 0.01}\n"
     ]
    },
    {
     "name": "stderr",
     "output_type": "stream",
     "text": [
      "INFO:tensorflow:Create CheckpointSaver\n",
      "INFO:tensorflow:Step 1: loss_y = 1.09861, loss_W2 = 0.0929058, loss_w = 0.0, loss_W1 = 0.106699\n",
      "INFO:tensorflow:Step 1: loss = 1.29822\n",
      "INFO:tensorflow:Saving checkpoints for 60 into /var/folders/6g/kdqcxdms5dg0dr83wxn3ydjcsy9pxl/T/tmpe0axladb/model.ckpt.\n",
      "WARNING:tensorflow:Given features: Tensor(\"input:0\", shape=(?, 10), dtype=float32), required signatures: TensorSignature(dtype=tf.float32, shape=TensorShape([Dimension(None), Dimension(10)]), is_sparse=False).\n",
      "WARNING:tensorflow:Given targets: Tensor(\"output:0\", shape=(?,), dtype=int64), required signatures: TensorSignature(dtype=tf.int64, shape=TensorShape([Dimension(None)]), is_sparse=False).\n"
     ]
    },
    {
     "name": "stdout",
     "output_type": "stream",
     "text": [
      "{'a2': 0.01, 'a3': 0.01, 'a1': 0.01}\n"
     ]
    },
    {
     "ename": "KeyboardInterrupt",
     "evalue": "",
     "output_type": "error",
     "traceback": [
      "\u001b[0;31m\u001b[0m",
      "\u001b[0;31mKeyboardInterrupt\u001b[0mTraceback (most recent call last)",
      "\u001b[0;32m<ipython-input-232-482c00d13283>\u001b[0m in \u001b[0;36m<module>\u001b[0;34m()\u001b[0m\n\u001b[1;32m     50\u001b[0m     \u001b[0mmonitor_loss\u001b[0m\u001b[0;34m\u001b[0m\u001b[0m\n\u001b[1;32m     51\u001b[0m ]\n\u001b[0;32m---> 52\u001b[0;31m \u001b[0mclassifier\u001b[0m\u001b[0;34m.\u001b[0m\u001b[0mfit\u001b[0m\u001b[0;34m(\u001b[0m\u001b[0mX\u001b[0m\u001b[0;34m.\u001b[0m\u001b[0mvalues\u001b[0m\u001b[0;34m,\u001b[0m \u001b[0my\u001b[0m\u001b[0;34m.\u001b[0m\u001b[0mvalues\u001b[0m\u001b[0;34m,\u001b[0m \u001b[0mmax_steps\u001b[0m\u001b[0;34m=\u001b[0m\u001b[0;36m1000\u001b[0m\u001b[0;34m,\u001b[0m \u001b[0mmonitors\u001b[0m\u001b[0;34m=\u001b[0m\u001b[0mmonitors\u001b[0m\u001b[0;34m)\u001b[0m\u001b[0;34m\u001b[0m\u001b[0m\n\u001b[0m\u001b[1;32m     53\u001b[0m \u001b[0;31m#score = metrics.accuracy_score(y.values, classifier.predict(X.values))\u001b[0m\u001b[0;34m\u001b[0m\u001b[0;34m\u001b[0m\u001b[0m\n\u001b[1;32m     54\u001b[0m \u001b[0;31m#print(\"Accuracy: %f\" % score)\u001b[0m\u001b[0;34m\u001b[0m\u001b[0;34m\u001b[0m\u001b[0m\n",
      "\u001b[0;32m/Users/eczech/anaconda/envs/research3.5/lib/python3.5/site-packages/tensorflow/contrib/learn/python/learn/estimators/estimator.py\u001b[0m in \u001b[0;36mfit\u001b[0;34m(self, x, y, input_fn, steps, batch_size, monitors, max_steps)\u001b[0m\n\u001b[1;32m    238\u001b[0m                              \u001b[0msteps\u001b[0m\u001b[0;34m=\u001b[0m\u001b[0msteps\u001b[0m\u001b[0;34m,\u001b[0m\u001b[0;34m\u001b[0m\u001b[0m\n\u001b[1;32m    239\u001b[0m                              \u001b[0mmonitors\u001b[0m\u001b[0;34m=\u001b[0m\u001b[0mmonitors\u001b[0m\u001b[0;34m,\u001b[0m\u001b[0;34m\u001b[0m\u001b[0m\n\u001b[0;32m--> 240\u001b[0;31m                              max_steps=max_steps)\n\u001b[0m\u001b[1;32m    241\u001b[0m     \u001b[0mlogging\u001b[0m\u001b[0;34m.\u001b[0m\u001b[0minfo\u001b[0m\u001b[0;34m(\u001b[0m\u001b[0;34m'Loss for final step: %s.'\u001b[0m\u001b[0;34m,\u001b[0m \u001b[0mloss\u001b[0m\u001b[0;34m)\u001b[0m\u001b[0;34m\u001b[0m\u001b[0m\n\u001b[1;32m    242\u001b[0m     \u001b[0;32mreturn\u001b[0m \u001b[0mself\u001b[0m\u001b[0;34m\u001b[0m\u001b[0m\n",
      "\u001b[0;32m/Users/eczech/anaconda/envs/research3.5/lib/python3.5/site-packages/tensorflow/contrib/learn/python/learn/estimators/estimator.py\u001b[0m in \u001b[0;36m_train_model\u001b[0;34m(self, input_fn, steps, feed_fn, init_op, init_feed_fn, init_fn, device_fn, monitors, log_every_steps, fail_on_nan_loss, max_steps)\u001b[0m\n\u001b[1;32m    577\u001b[0m           \u001b[0mfail_on_nan_loss\u001b[0m\u001b[0;34m=\u001b[0m\u001b[0mfail_on_nan_loss\u001b[0m\u001b[0;34m,\u001b[0m\u001b[0;34m\u001b[0m\u001b[0m\n\u001b[1;32m    578\u001b[0m           \u001b[0mmonitors\u001b[0m\u001b[0;34m=\u001b[0m\u001b[0mmonitors\u001b[0m\u001b[0;34m,\u001b[0m\u001b[0;34m\u001b[0m\u001b[0m\n\u001b[0;32m--> 579\u001b[0;31m           max_steps=max_steps)\n\u001b[0m\u001b[1;32m    580\u001b[0m \u001b[0;34m\u001b[0m\u001b[0m\n\u001b[1;32m    581\u001b[0m   \u001b[0;32mdef\u001b[0m \u001b[0m_extract_metric_update_ops\u001b[0m\u001b[0;34m(\u001b[0m\u001b[0mself\u001b[0m\u001b[0;34m,\u001b[0m \u001b[0meval_dict\u001b[0m\u001b[0;34m)\u001b[0m\u001b[0;34m:\u001b[0m\u001b[0;34m\u001b[0m\u001b[0m\n",
      "\u001b[0;32m/Users/eczech/anaconda/envs/research3.5/lib/python3.5/site-packages/tensorflow/contrib/learn/python/learn/graph_actions.py\u001b[0m in \u001b[0;36m_supervised_train\u001b[0;34m(graph, output_dir, train_op, loss_op, global_step_tensor, init_op, init_feed_dict, init_fn, log_every_steps, supervisor_is_chief, supervisor_master, supervisor_save_model_secs, keep_checkpoint_max, supervisor_save_summaries_steps, feed_fn, steps, fail_on_nan_loss, monitors, max_steps)\u001b[0m\n\u001b[1;32m    279\u001b[0m       \u001b[0;32mwhile\u001b[0m \u001b[0;32mnot\u001b[0m \u001b[0msuper_sess\u001b[0m\u001b[0;34m.\u001b[0m\u001b[0mshould_stop\u001b[0m\u001b[0;34m(\u001b[0m\u001b[0;34m)\u001b[0m\u001b[0;34m:\u001b[0m\u001b[0;34m\u001b[0m\u001b[0m\n\u001b[1;32m    280\u001b[0m         _, loss = super_sess.run([train_op, loss_op], feed_fn() if feed_fn else\n\u001b[0;32m--> 281\u001b[0;31m                                  None)\n\u001b[0m\u001b[1;32m    282\u001b[0m       \u001b[0;32mreturn\u001b[0m \u001b[0mloss\u001b[0m\u001b[0;34m\u001b[0m\u001b[0m\n\u001b[1;32m    283\u001b[0m \u001b[0;34m\u001b[0m\u001b[0m\n",
      "\u001b[0;32m/Users/eczech/anaconda/envs/research3.5/lib/python3.5/site-packages/tensorflow/contrib/learn/python/learn/supervised_session.py\u001b[0m in \u001b[0;36mrun\u001b[0;34m(self, fetches, feed_dict, options, run_metadata)\u001b[0m\n\u001b[1;32m    268\u001b[0m     \"\"\"\n\u001b[1;32m    269\u001b[0m     return self._sess.run(fetches, feed_dict=feed_dict, options=options,\n\u001b[0;32m--> 270\u001b[0;31m                           run_metadata=run_metadata)\n\u001b[0m\u001b[1;32m    271\u001b[0m \u001b[0;34m\u001b[0m\u001b[0m\n\u001b[1;32m    272\u001b[0m   \u001b[0;32mdef\u001b[0m \u001b[0mshould_stop\u001b[0m\u001b[0;34m(\u001b[0m\u001b[0mself\u001b[0m\u001b[0;34m)\u001b[0m\u001b[0;34m:\u001b[0m\u001b[0;34m\u001b[0m\u001b[0m\n",
      "\u001b[0;32m/Users/eczech/anaconda/envs/research3.5/lib/python3.5/site-packages/tensorflow/contrib/learn/python/learn/recoverable_session.py\u001b[0m in \u001b[0;36mrun\u001b[0;34m(self, fetches, feed_dict, options, run_metadata)\u001b[0m\n\u001b[1;32m     52\u001b[0m           \u001b[0mself\u001b[0m\u001b[0;34m.\u001b[0m\u001b[0m_sess\u001b[0m \u001b[0;34m=\u001b[0m \u001b[0mself\u001b[0m\u001b[0;34m.\u001b[0m\u001b[0m_factory\u001b[0m\u001b[0;34m(\u001b[0m\u001b[0;34m)\u001b[0m\u001b[0;34m\u001b[0m\u001b[0m\n\u001b[1;32m     53\u001b[0m         return self._sess.run(fetches, feed_dict=feed_dict, options=options,\n\u001b[0;32m---> 54\u001b[0;31m                               run_metadata=run_metadata)\n\u001b[0m\u001b[1;32m     55\u001b[0m       \u001b[0;32mexcept\u001b[0m \u001b[0merrors\u001b[0m\u001b[0;34m.\u001b[0m\u001b[0mAbortedError\u001b[0m\u001b[0;34m:\u001b[0m\u001b[0;34m\u001b[0m\u001b[0m\n\u001b[1;32m     56\u001b[0m         \u001b[0mself\u001b[0m\u001b[0;34m.\u001b[0m\u001b[0mclose\u001b[0m\u001b[0;34m(\u001b[0m\u001b[0;34m)\u001b[0m\u001b[0;34m\u001b[0m\u001b[0m\n",
      "\u001b[0;32m/Users/eczech/anaconda/envs/research3.5/lib/python3.5/site-packages/tensorflow/contrib/learn/python/learn/coordinated_session.py\u001b[0m in \u001b[0;36mrun\u001b[0;34m(self, *args, **kwargs)\u001b[0m\n\u001b[1;32m     64\u001b[0m   \u001b[0;32mdef\u001b[0m \u001b[0mrun\u001b[0m\u001b[0;34m(\u001b[0m\u001b[0mself\u001b[0m\u001b[0;34m,\u001b[0m \u001b[0;34m*\u001b[0m\u001b[0margs\u001b[0m\u001b[0;34m,\u001b[0m \u001b[0;34m**\u001b[0m\u001b[0mkwargs\u001b[0m\u001b[0;34m)\u001b[0m\u001b[0;34m:\u001b[0m\u001b[0;34m\u001b[0m\u001b[0m\n\u001b[1;32m     65\u001b[0m     \u001b[0;32mtry\u001b[0m\u001b[0;34m:\u001b[0m\u001b[0;34m\u001b[0m\u001b[0m\n\u001b[0;32m---> 66\u001b[0;31m       \u001b[0;32mreturn\u001b[0m \u001b[0mself\u001b[0m\u001b[0;34m.\u001b[0m\u001b[0m_sess\u001b[0m\u001b[0;34m.\u001b[0m\u001b[0mrun\u001b[0m\u001b[0;34m(\u001b[0m\u001b[0;34m*\u001b[0m\u001b[0margs\u001b[0m\u001b[0;34m,\u001b[0m \u001b[0;34m**\u001b[0m\u001b[0mkwargs\u001b[0m\u001b[0;34m)\u001b[0m\u001b[0;34m\u001b[0m\u001b[0m\n\u001b[0m\u001b[1;32m     67\u001b[0m     \u001b[0;32mexcept\u001b[0m \u001b[0mException\u001b[0m \u001b[0;32mas\u001b[0m \u001b[0me\u001b[0m\u001b[0;34m:\u001b[0m  \u001b[0;31m# pylint: disable=broad-except\u001b[0m\u001b[0;34m\u001b[0m\u001b[0m\n\u001b[1;32m     68\u001b[0m       \u001b[0mself\u001b[0m\u001b[0;34m.\u001b[0m\u001b[0m_coord\u001b[0m\u001b[0;34m.\u001b[0m\u001b[0mrequest_stop\u001b[0m\u001b[0;34m(\u001b[0m\u001b[0me\u001b[0m\u001b[0;34m)\u001b[0m\u001b[0;34m\u001b[0m\u001b[0m\n",
      "\u001b[0;32m/Users/eczech/anaconda/envs/research3.5/lib/python3.5/site-packages/tensorflow/contrib/learn/python/learn/monitored_session.py\u001b[0m in \u001b[0;36mrun\u001b[0;34m(self, fetches, feed_dict, options, run_metadata)\u001b[0m\n\u001b[1;32m    105\u001b[0m \u001b[0;34m\u001b[0m\u001b[0m\n\u001b[1;32m    106\u001b[0m     \u001b[0;32mfor\u001b[0m \u001b[0mmonitor\u001b[0m \u001b[0;32min\u001b[0m \u001b[0mself\u001b[0m\u001b[0;34m.\u001b[0m\u001b[0m_monitors\u001b[0m\u001b[0;34m:\u001b[0m\u001b[0;34m\u001b[0m\u001b[0m\n\u001b[0;32m--> 107\u001b[0;31m       \u001b[0minduce_stop\u001b[0m \u001b[0;34m=\u001b[0m \u001b[0mmonitor\u001b[0m\u001b[0;34m.\u001b[0m\u001b[0mstep_end\u001b[0m\u001b[0;34m(\u001b[0m\u001b[0mmonitors_step\u001b[0m\u001b[0;34m,\u001b[0m \u001b[0mmonitor_outputs\u001b[0m\u001b[0;34m)\u001b[0m\u001b[0;34m\u001b[0m\u001b[0m\n\u001b[0m\u001b[1;32m    108\u001b[0m       \u001b[0mself\u001b[0m\u001b[0;34m.\u001b[0m\u001b[0m_should_stop\u001b[0m \u001b[0;34m=\u001b[0m \u001b[0mself\u001b[0m\u001b[0;34m.\u001b[0m\u001b[0m_should_stop\u001b[0m \u001b[0;32mor\u001b[0m \u001b[0minduce_stop\u001b[0m\u001b[0;34m\u001b[0m\u001b[0m\n\u001b[1;32m    109\u001b[0m \u001b[0;34m\u001b[0m\u001b[0m\n",
      "\u001b[0;32m/Users/eczech/anaconda/envs/research3.5/lib/python3.5/site-packages/tensorflow/contrib/learn/python/learn/monitors.py\u001b[0m in \u001b[0;36mstep_end\u001b[0;34m(self, step, output)\u001b[0m\n\u001b[1;32m    394\u001b[0m     \u001b[0msuper\u001b[0m\u001b[0;34m(\u001b[0m\u001b[0mEveryN\u001b[0m\u001b[0;34m,\u001b[0m \u001b[0mself\u001b[0m\u001b[0;34m)\u001b[0m\u001b[0;34m.\u001b[0m\u001b[0mstep_end\u001b[0m\u001b[0;34m(\u001b[0m\u001b[0mstep\u001b[0m\u001b[0;34m,\u001b[0m \u001b[0moutput\u001b[0m\u001b[0;34m)\u001b[0m\u001b[0;34m\u001b[0m\u001b[0m\n\u001b[1;32m    395\u001b[0m     \u001b[0;32mif\u001b[0m \u001b[0mself\u001b[0m\u001b[0;34m.\u001b[0m\u001b[0m_every_n_step_begin_called\u001b[0m\u001b[0;34m:\u001b[0m\u001b[0;34m\u001b[0m\u001b[0m\n\u001b[0;32m--> 396\u001b[0;31m       \u001b[0;32mreturn\u001b[0m \u001b[0mself\u001b[0m\u001b[0;34m.\u001b[0m\u001b[0mevery_n_step_end\u001b[0m\u001b[0;34m(\u001b[0m\u001b[0mstep\u001b[0m\u001b[0;34m,\u001b[0m \u001b[0moutput\u001b[0m\u001b[0;34m)\u001b[0m\u001b[0;34m\u001b[0m\u001b[0m\n\u001b[0m\u001b[1;32m    397\u001b[0m     \u001b[0;32mreturn\u001b[0m \u001b[0;32mFalse\u001b[0m\u001b[0;34m\u001b[0m\u001b[0m\n\u001b[1;32m    398\u001b[0m \u001b[0;34m\u001b[0m\u001b[0m\n",
      "\u001b[0;32m/Users/eczech/anaconda/envs/research3.5/lib/python3.5/site-packages/tensorflow/contrib/learn/python/learn/monitors.py\u001b[0m in \u001b[0;36mevery_n_step_end\u001b[0;34m(self, step, outputs)\u001b[0m\n\u001b[1;32m    685\u001b[0m     outputs = self._estimator.evaluate(\n\u001b[1;32m    686\u001b[0m         \u001b[0mx\u001b[0m\u001b[0;34m=\u001b[0m\u001b[0mself\u001b[0m\u001b[0;34m.\u001b[0m\u001b[0mx\u001b[0m\u001b[0;34m,\u001b[0m \u001b[0my\u001b[0m\u001b[0;34m=\u001b[0m\u001b[0mself\u001b[0m\u001b[0;34m.\u001b[0m\u001b[0my\u001b[0m\u001b[0;34m,\u001b[0m \u001b[0minput_fn\u001b[0m\u001b[0;34m=\u001b[0m\u001b[0mself\u001b[0m\u001b[0;34m.\u001b[0m\u001b[0minput_fn\u001b[0m\u001b[0;34m,\u001b[0m \u001b[0mbatch_size\u001b[0m\u001b[0;34m=\u001b[0m\u001b[0mself\u001b[0m\u001b[0;34m.\u001b[0m\u001b[0mbatch_size\u001b[0m\u001b[0;34m,\u001b[0m\u001b[0;34m\u001b[0m\u001b[0m\n\u001b[0;32m--> 687\u001b[0;31m         steps=self.eval_steps, metrics=self.metrics, name=self.name)\n\u001b[0m\u001b[1;32m    688\u001b[0m     \u001b[0mstats\u001b[0m \u001b[0;34m=\u001b[0m \u001b[0;34m[\u001b[0m\u001b[0;34m]\u001b[0m\u001b[0;34m\u001b[0m\u001b[0m\n\u001b[1;32m    689\u001b[0m     \u001b[0;32mfor\u001b[0m \u001b[0mname\u001b[0m \u001b[0;32min\u001b[0m \u001b[0moutputs\u001b[0m\u001b[0;34m:\u001b[0m\u001b[0;34m\u001b[0m\u001b[0m\n",
      "\u001b[0;32m/Users/eczech/anaconda/envs/research3.5/lib/python3.5/site-packages/tensorflow/contrib/learn/python/learn/estimators/estimator.py\u001b[0m in \u001b[0;36mevaluate\u001b[0;34m(self, x, y, input_fn, feed_fn, batch_size, steps, metrics, name)\u001b[0m\n\u001b[1;32m    354\u001b[0m                                                      \u001b[0msteps\u001b[0m\u001b[0;34m=\u001b[0m\u001b[0msteps\u001b[0m\u001b[0;34m,\u001b[0m\u001b[0;34m\u001b[0m\u001b[0m\n\u001b[1;32m    355\u001b[0m                                                      \u001b[0mmetrics\u001b[0m\u001b[0;34m=\u001b[0m\u001b[0mmetrics\u001b[0m\u001b[0;34m,\u001b[0m\u001b[0;34m\u001b[0m\u001b[0m\n\u001b[0;32m--> 356\u001b[0;31m                                                      name=name)\n\u001b[0m\u001b[1;32m    357\u001b[0m     \u001b[0;32mif\u001b[0m \u001b[0meval_results\u001b[0m \u001b[0;32mis\u001b[0m \u001b[0;32mnot\u001b[0m \u001b[0;32mNone\u001b[0m\u001b[0;34m:\u001b[0m\u001b[0;34m\u001b[0m\u001b[0m\n\u001b[1;32m    358\u001b[0m       \u001b[0meval_results\u001b[0m\u001b[0;34m.\u001b[0m\u001b[0mupdate\u001b[0m\u001b[0;34m(\u001b[0m\u001b[0;34m{\u001b[0m\u001b[0;34m'global_step'\u001b[0m\u001b[0;34m:\u001b[0m \u001b[0mglobal_step\u001b[0m\u001b[0;34m}\u001b[0m\u001b[0;34m)\u001b[0m\u001b[0;34m\u001b[0m\u001b[0m\n",
      "\u001b[0;32m/Users/eczech/anaconda/envs/research3.5/lib/python3.5/site-packages/tensorflow/contrib/learn/python/learn/estimators/estimator.py\u001b[0m in \u001b[0;36m_evaluate_model\u001b[0;34m(self, input_fn, steps, feed_fn, metrics, name)\u001b[0m\n\u001b[1;32m    629\u001b[0m       \u001b[0mfeatures\u001b[0m\u001b[0;34m,\u001b[0m \u001b[0mtargets\u001b[0m \u001b[0;34m=\u001b[0m \u001b[0minput_fn\u001b[0m\u001b[0;34m(\u001b[0m\u001b[0;34m)\u001b[0m\u001b[0;34m\u001b[0m\u001b[0m\n\u001b[1;32m    630\u001b[0m       \u001b[0mself\u001b[0m\u001b[0;34m.\u001b[0m\u001b[0m_check_inputs\u001b[0m\u001b[0;34m(\u001b[0m\u001b[0mfeatures\u001b[0m\u001b[0;34m,\u001b[0m \u001b[0mtargets\u001b[0m\u001b[0;34m)\u001b[0m\u001b[0;34m\u001b[0m\u001b[0m\n\u001b[0;32m--> 631\u001b[0;31m       \u001b[0meval_dict\u001b[0m \u001b[0;34m=\u001b[0m \u001b[0mself\u001b[0m\u001b[0;34m.\u001b[0m\u001b[0m_get_eval_ops\u001b[0m\u001b[0;34m(\u001b[0m\u001b[0mfeatures\u001b[0m\u001b[0;34m,\u001b[0m \u001b[0mtargets\u001b[0m\u001b[0;34m,\u001b[0m \u001b[0mmetrics\u001b[0m\u001b[0;34m)\u001b[0m\u001b[0;34m\u001b[0m\u001b[0m\n\u001b[0m\u001b[1;32m    632\u001b[0m       \u001b[0mupdate_op\u001b[0m\u001b[0;34m,\u001b[0m \u001b[0meval_dict\u001b[0m \u001b[0;34m=\u001b[0m \u001b[0mself\u001b[0m\u001b[0;34m.\u001b[0m\u001b[0m_extract_metric_update_ops\u001b[0m\u001b[0;34m(\u001b[0m\u001b[0meval_dict\u001b[0m\u001b[0;34m)\u001b[0m\u001b[0;34m\u001b[0m\u001b[0m\n\u001b[1;32m    633\u001b[0m       eval_results, current_global_step = graph_actions.evaluate(\n",
      "\u001b[0;32m/Users/eczech/anaconda/envs/research3.5/lib/python3.5/site-packages/tensorflow/contrib/learn/python/learn/estimators/estimator.py\u001b[0m in \u001b[0;36m_get_eval_ops\u001b[0;34m(self, features, targets, metrics)\u001b[0m\n\u001b[1;32m    848\u001b[0m       \u001b[0mValueError\u001b[0m\u001b[0;34m:\u001b[0m \u001b[0;32mif\u001b[0m\u001b[0;31m \u001b[0m\u001b[0;31m`\u001b[0m\u001b[0mmetrics\u001b[0m\u001b[0;31m`\u001b[0m \u001b[0mdon\u001b[0m\u001b[0;31m'\u001b[0m\u001b[0mt\u001b[0m \u001b[0mmatch\u001b[0m\u001b[0;31m \u001b[0m\u001b[0;31m`\u001b[0m\u001b[0mtargets\u001b[0m\u001b[0;31m`\u001b[0m\u001b[0;34m.\u001b[0m\u001b[0;34m\u001b[0m\u001b[0m\n\u001b[1;32m    849\u001b[0m     \"\"\"\n\u001b[0;32m--> 850\u001b[0;31m     \u001b[0mpredictions\u001b[0m\u001b[0;34m,\u001b[0m \u001b[0mloss\u001b[0m\u001b[0;34m,\u001b[0m \u001b[0m_\u001b[0m \u001b[0;34m=\u001b[0m \u001b[0mself\u001b[0m\u001b[0;34m.\u001b[0m\u001b[0m_call_model_fn\u001b[0m\u001b[0;34m(\u001b[0m\u001b[0mfeatures\u001b[0m\u001b[0;34m,\u001b[0m \u001b[0mtargets\u001b[0m\u001b[0;34m,\u001b[0m \u001b[0mModeKeys\u001b[0m\u001b[0;34m.\u001b[0m\u001b[0mEVAL\u001b[0m\u001b[0;34m)\u001b[0m\u001b[0;34m\u001b[0m\u001b[0m\n\u001b[0m\u001b[1;32m    851\u001b[0m     \u001b[0mresult\u001b[0m \u001b[0;34m=\u001b[0m \u001b[0;34m{\u001b[0m\u001b[0;34m'loss'\u001b[0m\u001b[0;34m:\u001b[0m \u001b[0mloss\u001b[0m\u001b[0;34m}\u001b[0m\u001b[0;34m\u001b[0m\u001b[0m\n\u001b[1;32m    852\u001b[0m     \u001b[0mmetrics\u001b[0m \u001b[0;34m=\u001b[0m \u001b[0mmetrics\u001b[0m \u001b[0;32mor\u001b[0m \u001b[0;34m{\u001b[0m\u001b[0;34m}\u001b[0m\u001b[0;34m\u001b[0m\u001b[0m\n",
      "\u001b[0;32m/Users/eczech/anaconda/envs/research3.5/lib/python3.5/site-packages/tensorflow/contrib/learn/python/learn/estimators/estimator.py\u001b[0m in \u001b[0;36m_call_model_fn\u001b[0;34m(self, features, targets, mode)\u001b[0m\n\u001b[1;32m    800\u001b[0m     \u001b[0;32mif\u001b[0m \u001b[0;34m'mode'\u001b[0m \u001b[0;32min\u001b[0m \u001b[0mmodel_fn_args\u001b[0m\u001b[0;34m:\u001b[0m\u001b[0;34m\u001b[0m\u001b[0m\n\u001b[1;32m    801\u001b[0m       \u001b[0;32mif\u001b[0m \u001b[0;34m'params'\u001b[0m \u001b[0;32min\u001b[0m \u001b[0mmodel_fn_args\u001b[0m\u001b[0;34m:\u001b[0m\u001b[0;34m\u001b[0m\u001b[0m\n\u001b[0;32m--> 802\u001b[0;31m         \u001b[0;32mreturn\u001b[0m \u001b[0mself\u001b[0m\u001b[0;34m.\u001b[0m\u001b[0m_model_fn\u001b[0m\u001b[0;34m(\u001b[0m\u001b[0mfeatures\u001b[0m\u001b[0;34m,\u001b[0m \u001b[0mtargets\u001b[0m\u001b[0;34m,\u001b[0m \u001b[0mmode\u001b[0m\u001b[0;34m=\u001b[0m\u001b[0mmode\u001b[0m\u001b[0;34m,\u001b[0m \u001b[0mparams\u001b[0m\u001b[0;34m=\u001b[0m\u001b[0mself\u001b[0m\u001b[0;34m.\u001b[0m\u001b[0mparams\u001b[0m\u001b[0;34m)\u001b[0m\u001b[0;34m\u001b[0m\u001b[0m\n\u001b[0m\u001b[1;32m    803\u001b[0m       \u001b[0;32melse\u001b[0m\u001b[0;34m:\u001b[0m\u001b[0;34m\u001b[0m\u001b[0m\n\u001b[1;32m    804\u001b[0m         \u001b[0;32mreturn\u001b[0m \u001b[0mself\u001b[0m\u001b[0;34m.\u001b[0m\u001b[0m_model_fn\u001b[0m\u001b[0;34m(\u001b[0m\u001b[0mfeatures\u001b[0m\u001b[0;34m,\u001b[0m \u001b[0mtargets\u001b[0m\u001b[0;34m,\u001b[0m \u001b[0mmode\u001b[0m\u001b[0;34m=\u001b[0m\u001b[0mmode\u001b[0m\u001b[0;34m)\u001b[0m\u001b[0;34m\u001b[0m\u001b[0m\n",
      "\u001b[0;32m<ipython-input-232-482c00d13283>\u001b[0m in \u001b[0;36mmy_model\u001b[0;34m(X, y, mode, params)\u001b[0m\n\u001b[1;32m     39\u001b[0m     train_op = tf.contrib.layers.optimize_loss(\n\u001b[1;32m     40\u001b[0m         \u001b[0mloss\u001b[0m\u001b[0;34m,\u001b[0m \u001b[0mtf\u001b[0m\u001b[0;34m.\u001b[0m\u001b[0mcontrib\u001b[0m\u001b[0;34m.\u001b[0m\u001b[0mframework\u001b[0m\u001b[0;34m.\u001b[0m\u001b[0mget_global_step\u001b[0m\u001b[0;34m(\u001b[0m\u001b[0;34m)\u001b[0m\u001b[0;34m,\u001b[0m \u001b[0moptimizer\u001b[0m\u001b[0;34m=\u001b[0m\u001b[0;34m'Adagrad'\u001b[0m\u001b[0;34m,\u001b[0m\u001b[0;34m\u001b[0m\u001b[0m\n\u001b[0;32m---> 41\u001b[0;31m         learning_rate=0.1)\n\u001b[0m\u001b[1;32m     42\u001b[0m     \u001b[0;32mreturn\u001b[0m \u001b[0myp\u001b[0m\u001b[0;34m,\u001b[0m \u001b[0mloss\u001b[0m\u001b[0;34m,\u001b[0m \u001b[0mtrain_op\u001b[0m\u001b[0;34m\u001b[0m\u001b[0m\n\u001b[1;32m     43\u001b[0m \u001b[0;34m\u001b[0m\u001b[0m\n",
      "\u001b[0;32m/Users/eczech/anaconda/envs/research3.5/lib/python3.5/site-packages/tensorflow/contrib/layers/python/layers/optimizers.py\u001b[0m in \u001b[0;36moptimize_loss\u001b[0;34m(loss, global_step, learning_rate, optimizer, gradient_noise_scale, gradient_multipliers, clip_gradients, moving_average_decay, learning_rate_decay_fn, update_ops, variables, name)\u001b[0m\n\u001b[1;32m    152\u001b[0m \u001b[0;34m\u001b[0m\u001b[0m\n\u001b[1;32m    153\u001b[0m     \u001b[0;31m# Compute gradients.\u001b[0m\u001b[0;34m\u001b[0m\u001b[0;34m\u001b[0m\u001b[0m\n\u001b[0;32m--> 154\u001b[0;31m     \u001b[0mgradients\u001b[0m \u001b[0;34m=\u001b[0m \u001b[0mopt\u001b[0m\u001b[0;34m.\u001b[0m\u001b[0mcompute_gradients\u001b[0m\u001b[0;34m(\u001b[0m\u001b[0mloss\u001b[0m\u001b[0;34m,\u001b[0m \u001b[0mvariables\u001b[0m\u001b[0;34m)\u001b[0m\u001b[0;34m\u001b[0m\u001b[0m\n\u001b[0m\u001b[1;32m    155\u001b[0m \u001b[0;34m\u001b[0m\u001b[0m\n\u001b[1;32m    156\u001b[0m     \u001b[0;31m# Optionally add gradient noise.\u001b[0m\u001b[0;34m\u001b[0m\u001b[0;34m\u001b[0m\u001b[0m\n",
      "\u001b[0;32m/Users/eczech/anaconda/envs/research3.5/lib/python3.5/site-packages/tensorflow/python/training/optimizer.py\u001b[0m in \u001b[0;36mcompute_gradients\u001b[0;34m(self, loss, var_list, gate_gradients, aggregation_method, colocate_gradients_with_ops, grad_loss)\u001b[0m\n\u001b[1;32m    251\u001b[0m         \u001b[0mgate_gradients\u001b[0m\u001b[0;34m=\u001b[0m\u001b[0;34m(\u001b[0m\u001b[0mgate_gradients\u001b[0m \u001b[0;34m==\u001b[0m \u001b[0mOptimizer\u001b[0m\u001b[0;34m.\u001b[0m\u001b[0mGATE_OP\u001b[0m\u001b[0;34m)\u001b[0m\u001b[0;34m,\u001b[0m\u001b[0;34m\u001b[0m\u001b[0m\n\u001b[1;32m    252\u001b[0m         \u001b[0maggregation_method\u001b[0m\u001b[0;34m=\u001b[0m\u001b[0maggregation_method\u001b[0m\u001b[0;34m,\u001b[0m\u001b[0;34m\u001b[0m\u001b[0m\n\u001b[0;32m--> 253\u001b[0;31m         colocate_gradients_with_ops=colocate_gradients_with_ops)\n\u001b[0m\u001b[1;32m    254\u001b[0m     \u001b[0;32mif\u001b[0m \u001b[0mgate_gradients\u001b[0m \u001b[0;34m==\u001b[0m \u001b[0mOptimizer\u001b[0m\u001b[0;34m.\u001b[0m\u001b[0mGATE_GRAPH\u001b[0m\u001b[0;34m:\u001b[0m\u001b[0;34m\u001b[0m\u001b[0m\n\u001b[1;32m    255\u001b[0m       \u001b[0mgrads\u001b[0m \u001b[0;34m=\u001b[0m \u001b[0mcontrol_flow_ops\u001b[0m\u001b[0;34m.\u001b[0m\u001b[0mtuple\u001b[0m\u001b[0;34m(\u001b[0m\u001b[0mgrads\u001b[0m\u001b[0;34m)\u001b[0m\u001b[0;34m\u001b[0m\u001b[0m\n",
      "\u001b[0;32m/Users/eczech/anaconda/envs/research3.5/lib/python3.5/site-packages/tensorflow/python/ops/gradients.py\u001b[0m in \u001b[0;36mgradients\u001b[0;34m(ys, xs, grad_ys, name, colocate_gradients_with_ops, gate_gradients, aggregation_method)\u001b[0m\n\u001b[1;32m    476\u001b[0m                 \u001b[0;31m# If grad_fn was found, do not use SymbolicGradient even for\u001b[0m\u001b[0;34m\u001b[0m\u001b[0;34m\u001b[0m\u001b[0m\n\u001b[1;32m    477\u001b[0m                 \u001b[0;31m# functions.\u001b[0m\u001b[0;34m\u001b[0m\u001b[0;34m\u001b[0m\u001b[0m\n\u001b[0;32m--> 478\u001b[0;31m                 \u001b[0min_grads\u001b[0m \u001b[0;34m=\u001b[0m \u001b[0m_AsList\u001b[0m\u001b[0;34m(\u001b[0m\u001b[0mgrad_fn\u001b[0m\u001b[0;34m(\u001b[0m\u001b[0mop\u001b[0m\u001b[0;34m,\u001b[0m \u001b[0;34m*\u001b[0m\u001b[0mout_grads\u001b[0m\u001b[0;34m)\u001b[0m\u001b[0;34m)\u001b[0m\u001b[0;34m\u001b[0m\u001b[0m\n\u001b[0m\u001b[1;32m    479\u001b[0m               \u001b[0;32melse\u001b[0m\u001b[0;34m:\u001b[0m\u001b[0;34m\u001b[0m\u001b[0m\n\u001b[1;32m    480\u001b[0m                 \u001b[0;31m# For function call ops, we add a 'SymbolicGradient'\u001b[0m\u001b[0;34m\u001b[0m\u001b[0;34m\u001b[0m\u001b[0m\n",
      "\u001b[0;32m/Users/eczech/anaconda/envs/research3.5/lib/python3.5/site-packages/tensorflow/python/ops/math_grad.py\u001b[0m in \u001b[0;36m_AddGrad\u001b[0;34m(op, grad)\u001b[0m\n\u001b[1;32m    499\u001b[0m   \u001b[0mrx\u001b[0m\u001b[0;34m,\u001b[0m \u001b[0mry\u001b[0m \u001b[0;34m=\u001b[0m \u001b[0mgen_array_ops\u001b[0m\u001b[0;34m.\u001b[0m\u001b[0m_broadcast_gradient_args\u001b[0m\u001b[0;34m(\u001b[0m\u001b[0msx\u001b[0m\u001b[0;34m,\u001b[0m \u001b[0msy\u001b[0m\u001b[0;34m)\u001b[0m\u001b[0;34m\u001b[0m\u001b[0m\n\u001b[1;32m    500\u001b[0m   return (array_ops.reshape(math_ops.reduce_sum(grad, rx), sx),\n\u001b[0;32m--> 501\u001b[0;31m           array_ops.reshape(math_ops.reduce_sum(grad, ry), sy))\n\u001b[0m\u001b[1;32m    502\u001b[0m \u001b[0;34m\u001b[0m\u001b[0m\n\u001b[1;32m    503\u001b[0m \u001b[0;34m\u001b[0m\u001b[0m\n",
      "\u001b[0;32m/Users/eczech/anaconda/envs/research3.5/lib/python3.5/site-packages/tensorflow/python/ops/gen_array_ops.py\u001b[0m in \u001b[0;36mreshape\u001b[0;34m(tensor, shape, name)\u001b[0m\n\u001b[1;32m   1748\u001b[0m   \"\"\"\n\u001b[1;32m   1749\u001b[0m   result = _op_def_lib.apply_op(\"Reshape\", tensor=tensor, shape=shape,\n\u001b[0;32m-> 1750\u001b[0;31m                                 name=name)\n\u001b[0m\u001b[1;32m   1751\u001b[0m   \u001b[0;32mreturn\u001b[0m \u001b[0mresult\u001b[0m\u001b[0;34m\u001b[0m\u001b[0m\n\u001b[1;32m   1752\u001b[0m \u001b[0;34m\u001b[0m\u001b[0m\n",
      "\u001b[0;32m/Users/eczech/anaconda/envs/research3.5/lib/python3.5/site-packages/tensorflow/python/framework/op_def_library.py\u001b[0m in \u001b[0;36mapply_op\u001b[0;34m(self, op_type_name, name, **keywords)\u001b[0m\n\u001b[1;32m    469\u001b[0m \u001b[0;34m\u001b[0m\u001b[0m\n\u001b[1;32m    470\u001b[0m           \u001b[0mtypes\u001b[0m \u001b[0;34m=\u001b[0m \u001b[0;34m[\u001b[0m\u001b[0mvalues\u001b[0m\u001b[0;34m.\u001b[0m\u001b[0mdtype\u001b[0m\u001b[0;34m]\u001b[0m\u001b[0;34m\u001b[0m\u001b[0m\n\u001b[0;32m--> 471\u001b[0;31m           \u001b[0minputs\u001b[0m\u001b[0;34m.\u001b[0m\u001b[0mappend\u001b[0m\u001b[0;34m(\u001b[0m\u001b[0mvalues\u001b[0m\u001b[0;34m)\u001b[0m\u001b[0;34m\u001b[0m\u001b[0m\n\u001b[0m\u001b[1;32m    472\u001b[0m         \u001b[0mbase_types\u001b[0m \u001b[0;34m=\u001b[0m \u001b[0;34m[\u001b[0m\u001b[0mx\u001b[0m\u001b[0;34m.\u001b[0m\u001b[0mbase_dtype\u001b[0m \u001b[0;32mfor\u001b[0m \u001b[0mx\u001b[0m \u001b[0;32min\u001b[0m \u001b[0mtypes\u001b[0m\u001b[0;34m]\u001b[0m\u001b[0;34m\u001b[0m\u001b[0m\n\u001b[1;32m    473\u001b[0m \u001b[0;34m\u001b[0m\u001b[0m\n",
      "\u001b[0;31mKeyboardInterrupt\u001b[0m: "
     ]
    }
   ],
   "source": [
    "tf.logging.set_verbosity(tf.logging.INFO)\n",
    "classifier = learn.Estimator(model_fn=my_model, params=dict(a1=.01, a2=.01, a3=.01))\n",
    "monitor_loss = learn.monitors.CaptureVariable('loss', every_n=1)\n",
    "monitors = [\n",
    "    learn.monitors.PrintTensor(['loss_y', 'loss_W1', 'loss_W2', 'loss_w']),\n",
    "    learn.monitors.ValidationMonitor(X.values, y.values, early_stopping_rounds=50),\n",
    "    monitor_loss\n",
    "]\n",
    "classifier.fit(X.values, y.values, max_steps=1000, monitors=monitors)\n",
    "#score = metrics.accuracy_score(y.values, classifier.predict(X.values))\n",
    "#print(\"Accuracy: %f\" % score)"
   ]
  },
  {
   "cell_type": "code",
   "execution_count": 218,
   "metadata": {
    "collapsed": true
   },
   "outputs": [],
   "source": [
    "from sklearn.base import ClassifierMixin\n",
    "??learn.Estimator"
   ]
  },
  {
   "cell_type": "code",
   "execution_count": 254,
   "metadata": {
    "collapsed": true
   },
   "outputs": [],
   "source": [
    "from sklearn.base import BaseEstimator, ClassifierMixin\n",
    "\n",
    "class LearnClassifier(BaseEstimator, ClassifierMixin):\n",
    "    \n",
    "    def __init__(self, model_fn, model_params=None, model_config=None):\n",
    "        self.model_fn = model_fn\n",
    "        self.model_params = model_params\n",
    "        self.model_config = model_config\n",
    "    \n",
    "    def fit(self, X, y, **kwargs):\n",
    "        assert 'monitors' not in kwargs, \\\n",
    "            'Monitors should not be passed directly to the fit function, '\\\n",
    "            'instead a monitor_fn argument should be supplied that takes '\\\n",
    "            'as input the X and y values to fit on and returns a map of '\\\n",
    "            'monitors keyed by name for later reference'\n",
    "        self.monitors_ = None\n",
    "        if 'monitor_fn' in kwargs:\n",
    "            self.monitors_ = kwargs['monitor_fn'](X, y)\n",
    "            assert isinstance(self.monitors_, dict), 'Monitor map must be a dictionary'\n",
    "            del kwargs['monitor_fn']\n",
    "        self.classifier_ = learn.Estimator(model_fn=self.model_fn, params=self.model_params, config=self.model_config)\n",
    "        self.classifier_.fit(X, y, monitors=list(self.monitors_.values()), **kwargs)\n",
    "        return self\n",
    "    \n",
    "    def predict(self, X):\n",
    "        return np.argmax(self.classifier_.predict(X), axis=1)\n",
    "    \n",
    "    def predict_proba(self, X):\n",
    "        return self.classifier_.predict(X)"
   ]
  },
  {
   "cell_type": "code",
   "execution_count": 264,
   "metadata": {
    "collapsed": false
   },
   "outputs": [
    {
     "name": "stderr",
     "output_type": "stream",
     "text": [
      "WARNING:tensorflow:Using temporary folder as model directory: /var/folders/6g/kdqcxdms5dg0dr83wxn3ydjcsy9pxl/T/tmp5jfoseon\n",
      "WARNING:tensorflow:Setting feature info to TensorSignature(dtype=tf.float32, shape=TensorShape([Dimension(None), Dimension(10)]), is_sparse=False)\n",
      "WARNING:tensorflow:Setting targets info to TensorSignature(dtype=tf.int64, shape=TensorShape([Dimension(None)]), is_sparse=False)\n"
     ]
    },
    {
     "name": "stdout",
     "output_type": "stream",
     "text": [
      "{'a2': 0.01, 'a3': 0.02, 'a1': 0.01}\n"
     ]
    },
    {
     "name": "stderr",
     "output_type": "stream",
     "text": [
      "INFO:tensorflow:Create CheckpointSaver\n",
      "INFO:tensorflow:Step 1: loss_y = 1.09861, loss_W2 = 0.0929058, loss_w = 0.0, loss_W1 = 0.106699\n",
      "INFO:tensorflow:Step 1: loss = 1.29822\n",
      "INFO:tensorflow:Skipping evaluation since model has not been saved yet at step 100.\n",
      "INFO:tensorflow:Saving checkpoints for 100 into /var/folders/6g/kdqcxdms5dg0dr83wxn3ydjcsy9pxl/T/tmp5jfoseon/model.ckpt.\n",
      "INFO:tensorflow:Step 101: loss_y = 0.186799, loss_W2 = 0.0836254, loss_w = 0.0488194, loss_W1 = 0.0827462\n",
      "INFO:tensorflow:Step 101: loss = 0.40199\n",
      "WARNING:tensorflow:Given features: Tensor(\"input:0\", shape=(?, 10), dtype=float32), required signatures: TensorSignature(dtype=tf.float32, shape=TensorShape([Dimension(None), Dimension(10)]), is_sparse=False).\n",
      "WARNING:tensorflow:Given targets: Tensor(\"output:0\", shape=(?,), dtype=int64), required signatures: TensorSignature(dtype=tf.int64, shape=TensorShape([Dimension(None)]), is_sparse=False).\n"
     ]
    },
    {
     "name": "stdout",
     "output_type": "stream",
     "text": [
      "{'a2': 0.01, 'a3': 0.02, 'a1': 0.01}\n"
     ]
    },
    {
     "name": "stderr",
     "output_type": "stream",
     "text": [
      "INFO:tensorflow:Restored model from /var/folders/6g/kdqcxdms5dg0dr83wxn3ydjcsy9pxl/T/tmp5jfoseon/model.ckpt-100-?????-of-00001\n",
      "INFO:tensorflow:Eval steps [0,inf) for training step 100.\n",
      "INFO:tensorflow:Input iterator is exhausted.\n",
      "INFO:tensorflow:Saving evaluation summary for 100 step: loss = 0.40199\n",
      "INFO:tensorflow:Validation (step 200): global_step = 100, loss = 0.40199\n",
      "INFO:tensorflow:Saving checkpoints for 200 into /var/folders/6g/kdqcxdms5dg0dr83wxn3ydjcsy9pxl/T/tmp5jfoseon/model.ckpt.\n",
      "INFO:tensorflow:Step 201: loss_y = 0.0521592, loss_W2 = 0.077847, loss_w = 0.0643389, loss_W1 = 0.0620415\n",
      "INFO:tensorflow:Step 201: loss = 0.256387\n",
      "WARNING:tensorflow:Given features: Tensor(\"input:0\", shape=(?, 10), dtype=float32), required signatures: TensorSignature(dtype=tf.float32, shape=TensorShape([Dimension(None), Dimension(10)]), is_sparse=False).\n",
      "WARNING:tensorflow:Given targets: Tensor(\"output:0\", shape=(?,), dtype=int64), required signatures: TensorSignature(dtype=tf.int64, shape=TensorShape([Dimension(None)]), is_sparse=False).\n"
     ]
    },
    {
     "name": "stdout",
     "output_type": "stream",
     "text": [
      "{'a2': 0.01, 'a3': 0.02, 'a1': 0.01}\n"
     ]
    },
    {
     "name": "stderr",
     "output_type": "stream",
     "text": [
      "INFO:tensorflow:Restored model from /var/folders/6g/kdqcxdms5dg0dr83wxn3ydjcsy9pxl/T/tmp5jfoseon/model.ckpt-200-?????-of-00001\n",
      "INFO:tensorflow:Eval steps [0,inf) for training step 200.\n",
      "INFO:tensorflow:Input iterator is exhausted.\n",
      "INFO:tensorflow:Saving evaluation summary for 200 step: loss = 0.256387\n",
      "INFO:tensorflow:Validation (step 300): global_step = 200, loss = 0.256387\n",
      "INFO:tensorflow:Saving checkpoints for 300 into /var/folders/6g/kdqcxdms5dg0dr83wxn3ydjcsy9pxl/T/tmp5jfoseon/model.ckpt.\n",
      "INFO:tensorflow:Step 301: loss_y = 0.0362472, loss_W2 = 0.0724959, loss_w = 0.0690335, loss_W1 = 0.0455563\n",
      "INFO:tensorflow:Step 301: loss = 0.223333\n",
      "WARNING:tensorflow:Given features: Tensor(\"input:0\", shape=(?, 10), dtype=float32), required signatures: TensorSignature(dtype=tf.float32, shape=TensorShape([Dimension(None), Dimension(10)]), is_sparse=False).\n",
      "WARNING:tensorflow:Given targets: Tensor(\"output:0\", shape=(?,), dtype=int64), required signatures: TensorSignature(dtype=tf.int64, shape=TensorShape([Dimension(None)]), is_sparse=False).\n"
     ]
    },
    {
     "name": "stdout",
     "output_type": "stream",
     "text": [
      "{'a2': 0.01, 'a3': 0.02, 'a1': 0.01}\n"
     ]
    },
    {
     "name": "stderr",
     "output_type": "stream",
     "text": [
      "INFO:tensorflow:Restored model from /var/folders/6g/kdqcxdms5dg0dr83wxn3ydjcsy9pxl/T/tmp5jfoseon/model.ckpt-300-?????-of-00001\n",
      "INFO:tensorflow:Eval steps [0,inf) for training step 300.\n",
      "INFO:tensorflow:Input iterator is exhausted.\n",
      "INFO:tensorflow:Saving evaluation summary for 300 step: loss = 0.223333\n",
      "INFO:tensorflow:Validation (step 400): global_step = 300, loss = 0.223333\n",
      "INFO:tensorflow:Saving checkpoints for 400 into /var/folders/6g/kdqcxdms5dg0dr83wxn3ydjcsy9pxl/T/tmp5jfoseon/model.ckpt.\n",
      "INFO:tensorflow:Step 401: loss_y = 0.0310968, loss_W2 = 0.0706063, loss_w = 0.0710914, loss_W1 = 0.0301329\n",
      "INFO:tensorflow:Step 401: loss = 0.202927\n",
      "WARNING:tensorflow:Given features: Tensor(\"input:0\", shape=(?, 10), dtype=float32), required signatures: TensorSignature(dtype=tf.float32, shape=TensorShape([Dimension(None), Dimension(10)]), is_sparse=False).\n",
      "WARNING:tensorflow:Given targets: Tensor(\"output:0\", shape=(?,), dtype=int64), required signatures: TensorSignature(dtype=tf.int64, shape=TensorShape([Dimension(None)]), is_sparse=False).\n"
     ]
    },
    {
     "name": "stdout",
     "output_type": "stream",
     "text": [
      "{'a2': 0.01, 'a3': 0.02, 'a1': 0.01}\n"
     ]
    },
    {
     "name": "stderr",
     "output_type": "stream",
     "text": [
      "INFO:tensorflow:Restored model from /var/folders/6g/kdqcxdms5dg0dr83wxn3ydjcsy9pxl/T/tmp5jfoseon/model.ckpt-400-?????-of-00001\n",
      "INFO:tensorflow:Eval steps [0,inf) for training step 400.\n",
      "INFO:tensorflow:Input iterator is exhausted.\n",
      "INFO:tensorflow:Saving evaluation summary for 400 step: loss = 0.202927\n",
      "INFO:tensorflow:Validation (step 500): global_step = 400, loss = 0.202927\n",
      "INFO:tensorflow:Saving checkpoints for 500 into /var/folders/6g/kdqcxdms5dg0dr83wxn3ydjcsy9pxl/T/tmp5jfoseon/model.ckpt.\n",
      "INFO:tensorflow:Step 501: loss_y = 0.0287554, loss_W2 = 0.0688061, loss_w = 0.0720146, loss_W1 = 0.0159913\n",
      "INFO:tensorflow:Step 501: loss = 0.185567\n",
      "WARNING:tensorflow:Given features: Tensor(\"input:0\", shape=(?, 10), dtype=float32), required signatures: TensorSignature(dtype=tf.float32, shape=TensorShape([Dimension(None), Dimension(10)]), is_sparse=False).\n",
      "WARNING:tensorflow:Given targets: Tensor(\"output:0\", shape=(?,), dtype=int64), required signatures: TensorSignature(dtype=tf.int64, shape=TensorShape([Dimension(None)]), is_sparse=False).\n"
     ]
    },
    {
     "name": "stdout",
     "output_type": "stream",
     "text": [
      "{'a2': 0.01, 'a3': 0.02, 'a1': 0.01}\n"
     ]
    },
    {
     "name": "stderr",
     "output_type": "stream",
     "text": [
      "INFO:tensorflow:Restored model from /var/folders/6g/kdqcxdms5dg0dr83wxn3ydjcsy9pxl/T/tmp5jfoseon/model.ckpt-500-?????-of-00001\n",
      "INFO:tensorflow:Eval steps [0,inf) for training step 500.\n",
      "INFO:tensorflow:Input iterator is exhausted.\n",
      "INFO:tensorflow:Saving evaluation summary for 500 step: loss = 0.185567\n",
      "INFO:tensorflow:Validation (step 600): global_step = 500, loss = 0.185567\n",
      "INFO:tensorflow:Saving checkpoints for 600 into /var/folders/6g/kdqcxdms5dg0dr83wxn3ydjcsy9pxl/T/tmp5jfoseon/model.ckpt.\n",
      "INFO:tensorflow:Step 601: loss_y = 0.0275603, loss_W2 = 0.0674068, loss_w = 0.0724571, loss_W1 = 0.00544417\n",
      "INFO:tensorflow:Step 601: loss = 0.172868\n",
      "WARNING:tensorflow:Given features: Tensor(\"input:0\", shape=(?, 10), dtype=float32), required signatures: TensorSignature(dtype=tf.float32, shape=TensorShape([Dimension(None), Dimension(10)]), is_sparse=False).\n",
      "WARNING:tensorflow:Given targets: Tensor(\"output:0\", shape=(?,), dtype=int64), required signatures: TensorSignature(dtype=tf.int64, shape=TensorShape([Dimension(None)]), is_sparse=False).\n"
     ]
    },
    {
     "name": "stdout",
     "output_type": "stream",
     "text": [
      "{'a2': 0.01, 'a3': 0.02, 'a1': 0.01}\n"
     ]
    },
    {
     "name": "stderr",
     "output_type": "stream",
     "text": [
      "INFO:tensorflow:Restored model from /var/folders/6g/kdqcxdms5dg0dr83wxn3ydjcsy9pxl/T/tmp5jfoseon/model.ckpt-600-?????-of-00001\n",
      "INFO:tensorflow:Eval steps [0,inf) for training step 600.\n",
      "INFO:tensorflow:Input iterator is exhausted.\n",
      "INFO:tensorflow:Saving evaluation summary for 600 step: loss = 0.172868\n",
      "INFO:tensorflow:Validation (step 700): global_step = 600, loss = 0.172868\n",
      "INFO:tensorflow:Saving checkpoints for 700 into /var/folders/6g/kdqcxdms5dg0dr83wxn3ydjcsy9pxl/T/tmp5jfoseon/model.ckpt.\n",
      "INFO:tensorflow:Step 701: loss_y = 0.0268598, loss_W2 = 0.0677462, loss_w = 0.0726649, loss_W1 = 0.0018138\n",
      "INFO:tensorflow:Step 701: loss = 0.169085\n",
      "WARNING:tensorflow:Given features: Tensor(\"input:0\", shape=(?, 10), dtype=float32), required signatures: TensorSignature(dtype=tf.float32, shape=TensorShape([Dimension(None), Dimension(10)]), is_sparse=False).\n",
      "WARNING:tensorflow:Given targets: Tensor(\"output:0\", shape=(?,), dtype=int64), required signatures: TensorSignature(dtype=tf.int64, shape=TensorShape([Dimension(None)]), is_sparse=False).\n"
     ]
    },
    {
     "name": "stdout",
     "output_type": "stream",
     "text": [
      "{'a2': 0.01, 'a3': 0.02, 'a1': 0.01}\n"
     ]
    },
    {
     "name": "stderr",
     "output_type": "stream",
     "text": [
      "INFO:tensorflow:Restored model from /var/folders/6g/kdqcxdms5dg0dr83wxn3ydjcsy9pxl/T/tmp5jfoseon/model.ckpt-700-?????-of-00001\n",
      "INFO:tensorflow:Eval steps [0,inf) for training step 700.\n",
      "INFO:tensorflow:Input iterator is exhausted.\n",
      "INFO:tensorflow:Saving evaluation summary for 700 step: loss = 0.169085\n",
      "INFO:tensorflow:Validation (step 800): global_step = 700, loss = 0.169085\n",
      "INFO:tensorflow:Saving checkpoints for 800 into /var/folders/6g/kdqcxdms5dg0dr83wxn3ydjcsy9pxl/T/tmp5jfoseon/model.ckpt.\n",
      "INFO:tensorflow:Step 801: loss_y = 0.0264448, loss_W2 = 0.0679971, loss_w = 0.0727322, loss_W1 = 9.58395e-05\n",
      "INFO:tensorflow:Step 801: loss = 0.16727\n",
      "WARNING:tensorflow:Given features: Tensor(\"input:0\", shape=(?, 10), dtype=float32), required signatures: TensorSignature(dtype=tf.float32, shape=TensorShape([Dimension(None), Dimension(10)]), is_sparse=False).\n",
      "WARNING:tensorflow:Given targets: Tensor(\"output:0\", shape=(?,), dtype=int64), required signatures: TensorSignature(dtype=tf.int64, shape=TensorShape([Dimension(None)]), is_sparse=False).\n"
     ]
    },
    {
     "name": "stdout",
     "output_type": "stream",
     "text": [
      "{'a2': 0.01, 'a3': 0.02, 'a1': 0.01}\n"
     ]
    },
    {
     "name": "stderr",
     "output_type": "stream",
     "text": [
      "INFO:tensorflow:Restored model from /var/folders/6g/kdqcxdms5dg0dr83wxn3ydjcsy9pxl/T/tmp5jfoseon/model.ckpt-800-?????-of-00001\n",
      "INFO:tensorflow:Eval steps [0,inf) for training step 800.\n",
      "INFO:tensorflow:Input iterator is exhausted.\n",
      "INFO:tensorflow:Saving evaluation summary for 800 step: loss = 0.16727\n",
      "INFO:tensorflow:Validation (step 900): global_step = 800, loss = 0.16727\n",
      "INFO:tensorflow:Saving checkpoints for 900 into /var/folders/6g/kdqcxdms5dg0dr83wxn3ydjcsy9pxl/T/tmp5jfoseon/model.ckpt.\n",
      "INFO:tensorflow:Step 901: loss_y = 0.0261946, loss_W2 = 0.0682122, loss_w = 0.0727085, loss_W1 = 9.90003e-05\n",
      "INFO:tensorflow:Step 901: loss = 0.167214\n",
      "WARNING:tensorflow:Given features: Tensor(\"input:0\", shape=(?, 10), dtype=float32), required signatures: TensorSignature(dtype=tf.float32, shape=TensorShape([Dimension(None), Dimension(10)]), is_sparse=False).\n",
      "WARNING:tensorflow:Given targets: Tensor(\"output:0\", shape=(?,), dtype=int64), required signatures: TensorSignature(dtype=tf.int64, shape=TensorShape([Dimension(None)]), is_sparse=False).\n"
     ]
    },
    {
     "name": "stdout",
     "output_type": "stream",
     "text": [
      "{'a2': 0.01, 'a3': 0.02, 'a1': 0.01}\n"
     ]
    },
    {
     "name": "stderr",
     "output_type": "stream",
     "text": [
      "INFO:tensorflow:Restored model from /var/folders/6g/kdqcxdms5dg0dr83wxn3ydjcsy9pxl/T/tmp5jfoseon/model.ckpt-900-?????-of-00001\n",
      "INFO:tensorflow:Eval steps [0,inf) for training step 900.\n",
      "INFO:tensorflow:Input iterator is exhausted.\n",
      "INFO:tensorflow:Saving evaluation summary for 900 step: loss = 0.167214\n",
      "INFO:tensorflow:Validation (step 1000): global_step = 900, loss = 0.167214\n",
      "INFO:tensorflow:Saving checkpoints for 1000 into /var/folders/6g/kdqcxdms5dg0dr83wxn3ydjcsy9pxl/T/tmp5jfoseon/model.ckpt.\n",
      "INFO:tensorflow:Loss for final step: 0.167154.\n"
     ]
    },
    {
     "name": "stdout",
     "output_type": "stream",
     "text": [
      "{'a2': 0.01, 'a3': 0.02, 'a1': 0.01}\n"
     ]
    },
    {
     "name": "stderr",
     "output_type": "stream",
     "text": [
      "INFO:tensorflow:Loading model from checkpoint: /var/folders/6g/kdqcxdms5dg0dr83wxn3ydjcsy9pxl/T/tmp5jfoseon/model.ckpt-1000-?????-of-00001.\n",
      "WARNING:tensorflow:Using temporary folder as model directory: /var/folders/6g/kdqcxdms5dg0dr83wxn3ydjcsy9pxl/T/tmpprvwit57\n",
      "WARNING:tensorflow:Setting feature info to TensorSignature(dtype=tf.float32, shape=TensorShape([Dimension(None), Dimension(10)]), is_sparse=False)\n",
      "WARNING:tensorflow:Setting targets info to TensorSignature(dtype=tf.int64, shape=TensorShape([Dimension(None)]), is_sparse=False)\n"
     ]
    },
    {
     "name": "stdout",
     "output_type": "stream",
     "text": [
      "{'a2': 0.01, 'a3': 0.02, 'a1': 0.01}\n"
     ]
    },
    {
     "name": "stderr",
     "output_type": "stream",
     "text": [
      "INFO:tensorflow:Create CheckpointSaver\n",
      "INFO:tensorflow:Step 1: loss_y = 1.09861, loss_W2 = 0.0929058, loss_w = 0.0, loss_W1 = 0.106699\n",
      "INFO:tensorflow:Step 1: loss = 1.29822\n",
      "INFO:tensorflow:Skipping evaluation since model has not been saved yet at step 100.\n",
      "INFO:tensorflow:Saving checkpoints for 100 into /var/folders/6g/kdqcxdms5dg0dr83wxn3ydjcsy9pxl/T/tmpprvwit57/model.ckpt.\n",
      "INFO:tensorflow:Step 101: loss_y = 0.154931, loss_W2 = 0.0863789, loss_w = 0.0602108, loss_W1 = 0.0829347\n",
      "INFO:tensorflow:Step 101: loss = 0.384455\n",
      "WARNING:tensorflow:Given features: Tensor(\"input:0\", shape=(?, 10), dtype=float32), required signatures: TensorSignature(dtype=tf.float32, shape=TensorShape([Dimension(None), Dimension(10)]), is_sparse=False).\n",
      "WARNING:tensorflow:Given targets: Tensor(\"output:0\", shape=(?,), dtype=int64), required signatures: TensorSignature(dtype=tf.int64, shape=TensorShape([Dimension(None)]), is_sparse=False).\n"
     ]
    },
    {
     "name": "stdout",
     "output_type": "stream",
     "text": [
      "{'a2': 0.01, 'a3': 0.02, 'a1': 0.01}\n"
     ]
    },
    {
     "name": "stderr",
     "output_type": "stream",
     "text": [
      "INFO:tensorflow:Restored model from /var/folders/6g/kdqcxdms5dg0dr83wxn3ydjcsy9pxl/T/tmpprvwit57/model.ckpt-100-?????-of-00001\n",
      "INFO:tensorflow:Eval steps [0,inf) for training step 100.\n",
      "INFO:tensorflow:Input iterator is exhausted.\n",
      "INFO:tensorflow:Saving evaluation summary for 100 step: loss = 0.384455\n",
      "INFO:tensorflow:Validation (step 200): global_step = 100, loss = 0.384455\n",
      "INFO:tensorflow:Saving checkpoints for 200 into /var/folders/6g/kdqcxdms5dg0dr83wxn3ydjcsy9pxl/T/tmpprvwit57/model.ckpt.\n",
      "INFO:tensorflow:Step 201: loss_y = 0.0708982, loss_W2 = 0.0830026, loss_w = 0.0728317, loss_W1 = 0.0621805\n",
      "INFO:tensorflow:Step 201: loss = 0.288913\n",
      "WARNING:tensorflow:Given features: Tensor(\"input:0\", shape=(?, 10), dtype=float32), required signatures: TensorSignature(dtype=tf.float32, shape=TensorShape([Dimension(None), Dimension(10)]), is_sparse=False).\n",
      "WARNING:tensorflow:Given targets: Tensor(\"output:0\", shape=(?,), dtype=int64), required signatures: TensorSignature(dtype=tf.int64, shape=TensorShape([Dimension(None)]), is_sparse=False).\n"
     ]
    },
    {
     "name": "stdout",
     "output_type": "stream",
     "text": [
      "{'a2': 0.01, 'a3': 0.02, 'a1': 0.01}\n"
     ]
    },
    {
     "name": "stderr",
     "output_type": "stream",
     "text": [
      "INFO:tensorflow:Restored model from /var/folders/6g/kdqcxdms5dg0dr83wxn3ydjcsy9pxl/T/tmpprvwit57/model.ckpt-200-?????-of-00001\n",
      "INFO:tensorflow:Eval steps [0,inf) for training step 200.\n",
      "INFO:tensorflow:Input iterator is exhausted.\n",
      "INFO:tensorflow:Saving evaluation summary for 200 step: loss = 0.288913\n",
      "INFO:tensorflow:Validation (step 300): global_step = 200, loss = 0.288913\n",
      "INFO:tensorflow:Saving checkpoints for 300 into /var/folders/6g/kdqcxdms5dg0dr83wxn3ydjcsy9pxl/T/tmpprvwit57/model.ckpt.\n",
      "INFO:tensorflow:Step 301: loss_y = 0.0621483, loss_W2 = 0.0777881, loss_w = 0.0735227, loss_W1 = 0.0456666\n",
      "INFO:tensorflow:Step 301: loss = 0.259126\n",
      "WARNING:tensorflow:Given features: Tensor(\"input:0\", shape=(?, 10), dtype=float32), required signatures: TensorSignature(dtype=tf.float32, shape=TensorShape([Dimension(None), Dimension(10)]), is_sparse=False).\n",
      "WARNING:tensorflow:Given targets: Tensor(\"output:0\", shape=(?,), dtype=int64), required signatures: TensorSignature(dtype=tf.int64, shape=TensorShape([Dimension(None)]), is_sparse=False).\n"
     ]
    },
    {
     "name": "stdout",
     "output_type": "stream",
     "text": [
      "{'a2': 0.01, 'a3': 0.02, 'a1': 0.01}\n"
     ]
    },
    {
     "name": "stderr",
     "output_type": "stream",
     "text": [
      "INFO:tensorflow:Restored model from /var/folders/6g/kdqcxdms5dg0dr83wxn3ydjcsy9pxl/T/tmpprvwit57/model.ckpt-300-?????-of-00001\n",
      "INFO:tensorflow:Eval steps [0,inf) for training step 300.\n",
      "INFO:tensorflow:Input iterator is exhausted.\n",
      "INFO:tensorflow:Saving evaluation summary for 300 step: loss = 0.259126\n",
      "INFO:tensorflow:Validation (step 400): global_step = 300, loss = 0.259126\n",
      "INFO:tensorflow:Saving checkpoints for 400 into /var/folders/6g/kdqcxdms5dg0dr83wxn3ydjcsy9pxl/T/tmpprvwit57/model.ckpt.\n",
      "INFO:tensorflow:Step 401: loss_y = 0.0590147, loss_W2 = 0.0726249, loss_w = 0.0734177, loss_W1 = 0.0302387\n",
      "INFO:tensorflow:Step 401: loss = 0.235296\n",
      "WARNING:tensorflow:Given features: Tensor(\"input:0\", shape=(?, 10), dtype=float32), required signatures: TensorSignature(dtype=tf.float32, shape=TensorShape([Dimension(None), Dimension(10)]), is_sparse=False).\n",
      "WARNING:tensorflow:Given targets: Tensor(\"output:0\", shape=(?,), dtype=int64), required signatures: TensorSignature(dtype=tf.int64, shape=TensorShape([Dimension(None)]), is_sparse=False).\n"
     ]
    },
    {
     "name": "stdout",
     "output_type": "stream",
     "text": [
      "{'a2': 0.01, 'a3': 0.02, 'a1': 0.01}\n"
     ]
    },
    {
     "name": "stderr",
     "output_type": "stream",
     "text": [
      "INFO:tensorflow:Restored model from /var/folders/6g/kdqcxdms5dg0dr83wxn3ydjcsy9pxl/T/tmpprvwit57/model.ckpt-400-?????-of-00001\n",
      "INFO:tensorflow:Eval steps [0,inf) for training step 400.\n",
      "INFO:tensorflow:Input iterator is exhausted.\n",
      "INFO:tensorflow:Saving evaluation summary for 400 step: loss = 0.235296\n",
      "INFO:tensorflow:Validation (step 500): global_step = 400, loss = 0.235296\n",
      "INFO:tensorflow:Saving checkpoints for 500 into /var/folders/6g/kdqcxdms5dg0dr83wxn3ydjcsy9pxl/T/tmpprvwit57/model.ckpt.\n",
      "INFO:tensorflow:Step 501: loss_y = 0.0581819, loss_W2 = 0.0681811, loss_w = 0.0730158, loss_W1 = 0.016074\n",
      "INFO:tensorflow:Step 501: loss = 0.215453\n",
      "WARNING:tensorflow:Given features: Tensor(\"input:0\", shape=(?, 10), dtype=float32), required signatures: TensorSignature(dtype=tf.float32, shape=TensorShape([Dimension(None), Dimension(10)]), is_sparse=False).\n",
      "WARNING:tensorflow:Given targets: Tensor(\"output:0\", shape=(?,), dtype=int64), required signatures: TensorSignature(dtype=tf.int64, shape=TensorShape([Dimension(None)]), is_sparse=False).\n"
     ]
    },
    {
     "name": "stdout",
     "output_type": "stream",
     "text": [
      "{'a2': 0.01, 'a3': 0.02, 'a1': 0.01}\n"
     ]
    },
    {
     "name": "stderr",
     "output_type": "stream",
     "text": [
      "INFO:tensorflow:Restored model from /var/folders/6g/kdqcxdms5dg0dr83wxn3ydjcsy9pxl/T/tmpprvwit57/model.ckpt-500-?????-of-00001\n",
      "INFO:tensorflow:Eval steps [0,inf) for training step 500.\n",
      "INFO:tensorflow:Input iterator is exhausted.\n",
      "INFO:tensorflow:Saving evaluation summary for 500 step: loss = 0.215453\n",
      "INFO:tensorflow:Validation (step 600): global_step = 500, loss = 0.215453\n",
      "INFO:tensorflow:Saving checkpoints for 600 into /var/folders/6g/kdqcxdms5dg0dr83wxn3ydjcsy9pxl/T/tmpprvwit57/model.ckpt.\n",
      "INFO:tensorflow:Step 601: loss_y = 0.0583899, loss_W2 = 0.0656757, loss_w = 0.072506, loss_W1 = 0.00549526\n",
      "INFO:tensorflow:Step 601: loss = 0.202067\n",
      "WARNING:tensorflow:Given features: Tensor(\"input:0\", shape=(?, 10), dtype=float32), required signatures: TensorSignature(dtype=tf.float32, shape=TensorShape([Dimension(None), Dimension(10)]), is_sparse=False).\n",
      "WARNING:tensorflow:Given targets: Tensor(\"output:0\", shape=(?,), dtype=int64), required signatures: TensorSignature(dtype=tf.int64, shape=TensorShape([Dimension(None)]), is_sparse=False).\n"
     ]
    },
    {
     "name": "stdout",
     "output_type": "stream",
     "text": [
      "{'a2': 0.01, 'a3': 0.02, 'a1': 0.01}\n"
     ]
    },
    {
     "name": "stderr",
     "output_type": "stream",
     "text": [
      "INFO:tensorflow:Restored model from /var/folders/6g/kdqcxdms5dg0dr83wxn3ydjcsy9pxl/T/tmpprvwit57/model.ckpt-600-?????-of-00001\n",
      "INFO:tensorflow:Eval steps [0,inf) for training step 600.\n",
      "INFO:tensorflow:Input iterator is exhausted.\n",
      "INFO:tensorflow:Saving evaluation summary for 600 step: loss = 0.202067\n",
      "INFO:tensorflow:Validation (step 700): global_step = 600, loss = 0.202067\n",
      "INFO:tensorflow:Saving checkpoints for 700 into /var/folders/6g/kdqcxdms5dg0dr83wxn3ydjcsy9pxl/T/tmpprvwit57/model.ckpt.\n",
      "INFO:tensorflow:Step 701: loss_y = 0.058386, loss_W2 = 0.0651769, loss_w = 0.072095, loss_W1 = 0.00183956\n",
      "INFO:tensorflow:Step 701: loss = 0.197498\n",
      "WARNING:tensorflow:Given features: Tensor(\"input:0\", shape=(?, 10), dtype=float32), required signatures: TensorSignature(dtype=tf.float32, shape=TensorShape([Dimension(None), Dimension(10)]), is_sparse=False).\n",
      "WARNING:tensorflow:Given targets: Tensor(\"output:0\", shape=(?,), dtype=int64), required signatures: TensorSignature(dtype=tf.int64, shape=TensorShape([Dimension(None)]), is_sparse=False).\n"
     ]
    },
    {
     "name": "stdout",
     "output_type": "stream",
     "text": [
      "{'a2': 0.01, 'a3': 0.02, 'a1': 0.01}\n"
     ]
    },
    {
     "name": "stderr",
     "output_type": "stream",
     "text": [
      "INFO:tensorflow:Restored model from /var/folders/6g/kdqcxdms5dg0dr83wxn3ydjcsy9pxl/T/tmpprvwit57/model.ckpt-700-?????-of-00001\n",
      "INFO:tensorflow:Eval steps [0,inf) for training step 700.\n",
      "INFO:tensorflow:Input iterator is exhausted.\n",
      "INFO:tensorflow:Saving evaluation summary for 700 step: loss = 0.197498\n",
      "INFO:tensorflow:Validation (step 800): global_step = 700, loss = 0.197498\n",
      "INFO:tensorflow:Saving checkpoints for 800 into /var/folders/6g/kdqcxdms5dg0dr83wxn3ydjcsy9pxl/T/tmpprvwit57/model.ckpt.\n",
      "INFO:tensorflow:Step 801: loss_y = 0.0582551, loss_W2 = 0.065182, loss_w = 0.0718366, loss_W1 = 8.87818e-05\n",
      "INFO:tensorflow:Step 801: loss = 0.195363\n",
      "WARNING:tensorflow:Given features: Tensor(\"input:0\", shape=(?, 10), dtype=float32), required signatures: TensorSignature(dtype=tf.float32, shape=TensorShape([Dimension(None), Dimension(10)]), is_sparse=False).\n",
      "WARNING:tensorflow:Given targets: Tensor(\"output:0\", shape=(?,), dtype=int64), required signatures: TensorSignature(dtype=tf.int64, shape=TensorShape([Dimension(None)]), is_sparse=False).\n"
     ]
    },
    {
     "name": "stdout",
     "output_type": "stream",
     "text": [
      "{'a2': 0.01, 'a3': 0.02, 'a1': 0.01}\n"
     ]
    },
    {
     "name": "stderr",
     "output_type": "stream",
     "text": [
      "INFO:tensorflow:Restored model from /var/folders/6g/kdqcxdms5dg0dr83wxn3ydjcsy9pxl/T/tmpprvwit57/model.ckpt-800-?????-of-00001\n",
      "INFO:tensorflow:Eval steps [0,inf) for training step 800.\n",
      "INFO:tensorflow:Input iterator is exhausted.\n",
      "INFO:tensorflow:Saving evaluation summary for 800 step: loss = 0.195363\n",
      "INFO:tensorflow:Validation (step 900): global_step = 800, loss = 0.195363\n",
      "INFO:tensorflow:Saving checkpoints for 900 into /var/folders/6g/kdqcxdms5dg0dr83wxn3ydjcsy9pxl/T/tmpprvwit57/model.ckpt.\n",
      "INFO:tensorflow:Step 901: loss_y = 0.058126, loss_W2 = 0.0652911, loss_w = 0.0715537, loss_W1 = 9.08444e-05\n",
      "INFO:tensorflow:Step 901: loss = 0.195062\n",
      "WARNING:tensorflow:Given features: Tensor(\"input:0\", shape=(?, 10), dtype=float32), required signatures: TensorSignature(dtype=tf.float32, shape=TensorShape([Dimension(None), Dimension(10)]), is_sparse=False).\n",
      "WARNING:tensorflow:Given targets: Tensor(\"output:0\", shape=(?,), dtype=int64), required signatures: TensorSignature(dtype=tf.int64, shape=TensorShape([Dimension(None)]), is_sparse=False).\n"
     ]
    },
    {
     "name": "stdout",
     "output_type": "stream",
     "text": [
      "{'a2': 0.01, 'a3': 0.02, 'a1': 0.01}\n"
     ]
    },
    {
     "name": "stderr",
     "output_type": "stream",
     "text": [
      "INFO:tensorflow:Restored model from /var/folders/6g/kdqcxdms5dg0dr83wxn3ydjcsy9pxl/T/tmpprvwit57/model.ckpt-900-?????-of-00001\n",
      "INFO:tensorflow:Eval steps [0,inf) for training step 900.\n",
      "INFO:tensorflow:Input iterator is exhausted.\n",
      "INFO:tensorflow:Saving evaluation summary for 900 step: loss = 0.195062\n",
      "INFO:tensorflow:Validation (step 1000): global_step = 900, loss = 0.195062\n",
      "INFO:tensorflow:Saving checkpoints for 1000 into /var/folders/6g/kdqcxdms5dg0dr83wxn3ydjcsy9pxl/T/tmpprvwit57/model.ckpt.\n",
      "INFO:tensorflow:Loss for final step: 0.194708.\n"
     ]
    },
    {
     "name": "stdout",
     "output_type": "stream",
     "text": [
      "{'a2': 0.01, 'a3': 0.02, 'a1': 0.01}\n"
     ]
    },
    {
     "name": "stderr",
     "output_type": "stream",
     "text": [
      "INFO:tensorflow:Loading model from checkpoint: /var/folders/6g/kdqcxdms5dg0dr83wxn3ydjcsy9pxl/T/tmpprvwit57/model.ckpt-1000-?????-of-00001.\n",
      "WARNING:tensorflow:Using temporary folder as model directory: /var/folders/6g/kdqcxdms5dg0dr83wxn3ydjcsy9pxl/T/tmp4cbx6z6w\n",
      "WARNING:tensorflow:Setting feature info to TensorSignature(dtype=tf.float32, shape=TensorShape([Dimension(None), Dimension(10)]), is_sparse=False)\n",
      "WARNING:tensorflow:Setting targets info to TensorSignature(dtype=tf.int64, shape=TensorShape([Dimension(None)]), is_sparse=False)\n"
     ]
    },
    {
     "name": "stdout",
     "output_type": "stream",
     "text": [
      "{'a2': 0.01, 'a3': 0.01, 'a1': 0.01}\n"
     ]
    },
    {
     "name": "stderr",
     "output_type": "stream",
     "text": [
      "INFO:tensorflow:Create CheckpointSaver\n",
      "INFO:tensorflow:Step 1: loss_y = 1.09861, loss_W2 = 0.0929058, loss_w = 0.0, loss_W1 = 0.106699\n",
      "INFO:tensorflow:Step 1: loss = 1.29822\n",
      "INFO:tensorflow:Skipping evaluation since model has not been saved yet at step 100.\n",
      "INFO:tensorflow:Saving checkpoints for 100 into /var/folders/6g/kdqcxdms5dg0dr83wxn3ydjcsy9pxl/T/tmp4cbx6z6w/model.ckpt.\n",
      "INFO:tensorflow:Step 101: loss_y = 0.135454, loss_W2 = 0.0863113, loss_w = 0.0304917, loss_W1 = 0.0827579\n",
      "INFO:tensorflow:Step 101: loss = 0.335015\n",
      "WARNING:tensorflow:Given features: Tensor(\"input:0\", shape=(?, 10), dtype=float32), required signatures: TensorSignature(dtype=tf.float32, shape=TensorShape([Dimension(None), Dimension(10)]), is_sparse=False).\n",
      "WARNING:tensorflow:Given targets: Tensor(\"output:0\", shape=(?,), dtype=int64), required signatures: TensorSignature(dtype=tf.int64, shape=TensorShape([Dimension(None)]), is_sparse=False).\n"
     ]
    },
    {
     "name": "stdout",
     "output_type": "stream",
     "text": [
      "{'a2': 0.01, 'a3': 0.01, 'a1': 0.01}\n"
     ]
    },
    {
     "name": "stderr",
     "output_type": "stream",
     "text": [
      "INFO:tensorflow:Restored model from /var/folders/6g/kdqcxdms5dg0dr83wxn3ydjcsy9pxl/T/tmp4cbx6z6w/model.ckpt-100-?????-of-00001\n",
      "INFO:tensorflow:Eval steps [0,inf) for training step 100.\n",
      "INFO:tensorflow:Input iterator is exhausted.\n",
      "INFO:tensorflow:Saving evaluation summary for 100 step: loss = 0.335015\n",
      "INFO:tensorflow:Validation (step 200): global_step = 100, loss = 0.335015\n",
      "INFO:tensorflow:Saving checkpoints for 200 into /var/folders/6g/kdqcxdms5dg0dr83wxn3ydjcsy9pxl/T/tmp4cbx6z6w/model.ckpt.\n",
      "INFO:tensorflow:Step 201: loss_y = 0.0344868, loss_W2 = 0.0833674, loss_w = 0.0408676, loss_W1 = 0.0620426\n",
      "INFO:tensorflow:Step 201: loss = 0.220764\n",
      "WARNING:tensorflow:Given features: Tensor(\"input:0\", shape=(?, 10), dtype=float32), required signatures: TensorSignature(dtype=tf.float32, shape=TensorShape([Dimension(None), Dimension(10)]), is_sparse=False).\n",
      "WARNING:tensorflow:Given targets: Tensor(\"output:0\", shape=(?,), dtype=int64), required signatures: TensorSignature(dtype=tf.int64, shape=TensorShape([Dimension(None)]), is_sparse=False).\n"
     ]
    },
    {
     "name": "stdout",
     "output_type": "stream",
     "text": [
      "{'a2': 0.01, 'a3': 0.01, 'a1': 0.01}\n"
     ]
    },
    {
     "name": "stderr",
     "output_type": "stream",
     "text": [
      "INFO:tensorflow:Restored model from /var/folders/6g/kdqcxdms5dg0dr83wxn3ydjcsy9pxl/T/tmp4cbx6z6w/model.ckpt-200-?????-of-00001\n",
      "INFO:tensorflow:Eval steps [0,inf) for training step 200.\n",
      "INFO:tensorflow:Input iterator is exhausted.\n",
      "INFO:tensorflow:Saving evaluation summary for 200 step: loss = 0.220764\n",
      "INFO:tensorflow:Validation (step 300): global_step = 200, loss = 0.220764\n",
      "INFO:tensorflow:Saving checkpoints for 300 into /var/folders/6g/kdqcxdms5dg0dr83wxn3ydjcsy9pxl/T/tmp4cbx6z6w/model.ckpt.\n",
      "INFO:tensorflow:Step 301: loss_y = 0.0247151, loss_W2 = 0.0767429, loss_w = 0.0439796, loss_W1 = 0.045553\n",
      "INFO:tensorflow:Step 301: loss = 0.190991\n",
      "WARNING:tensorflow:Given features: Tensor(\"input:0\", shape=(?, 10), dtype=float32), required signatures: TensorSignature(dtype=tf.float32, shape=TensorShape([Dimension(None), Dimension(10)]), is_sparse=False).\n",
      "WARNING:tensorflow:Given targets: Tensor(\"output:0\", shape=(?,), dtype=int64), required signatures: TensorSignature(dtype=tf.int64, shape=TensorShape([Dimension(None)]), is_sparse=False).\n"
     ]
    },
    {
     "name": "stdout",
     "output_type": "stream",
     "text": [
      "{'a2': 0.01, 'a3': 0.01, 'a1': 0.01}\n"
     ]
    },
    {
     "name": "stderr",
     "output_type": "stream",
     "text": [
      "INFO:tensorflow:Restored model from /var/folders/6g/kdqcxdms5dg0dr83wxn3ydjcsy9pxl/T/tmp4cbx6z6w/model.ckpt-300-?????-of-00001\n",
      "INFO:tensorflow:Eval steps [0,inf) for training step 300.\n",
      "INFO:tensorflow:Input iterator is exhausted.\n",
      "INFO:tensorflow:Saving evaluation summary for 300 step: loss = 0.190991\n",
      "INFO:tensorflow:Validation (step 400): global_step = 300, loss = 0.190991\n",
      "INFO:tensorflow:Saving checkpoints for 400 into /var/folders/6g/kdqcxdms5dg0dr83wxn3ydjcsy9pxl/T/tmp4cbx6z6w/model.ckpt.\n",
      "INFO:tensorflow:Step 401: loss_y = 0.0218599, loss_W2 = 0.0694193, loss_w = 0.0455305, loss_W1 = 0.0301319\n",
      "INFO:tensorflow:Step 401: loss = 0.166942\n",
      "WARNING:tensorflow:Given features: Tensor(\"input:0\", shape=(?, 10), dtype=float32), required signatures: TensorSignature(dtype=tf.float32, shape=TensorShape([Dimension(None), Dimension(10)]), is_sparse=False).\n",
      "WARNING:tensorflow:Given targets: Tensor(\"output:0\", shape=(?,), dtype=int64), required signatures: TensorSignature(dtype=tf.int64, shape=TensorShape([Dimension(None)]), is_sparse=False).\n"
     ]
    },
    {
     "name": "stdout",
     "output_type": "stream",
     "text": [
      "{'a2': 0.01, 'a3': 0.01, 'a1': 0.01}\n"
     ]
    },
    {
     "name": "stderr",
     "output_type": "stream",
     "text": [
      "INFO:tensorflow:Restored model from /var/folders/6g/kdqcxdms5dg0dr83wxn3ydjcsy9pxl/T/tmp4cbx6z6w/model.ckpt-400-?????-of-00001\n",
      "INFO:tensorflow:Eval steps [0,inf) for training step 400.\n",
      "INFO:tensorflow:Input iterator is exhausted.\n",
      "INFO:tensorflow:Saving evaluation summary for 400 step: loss = 0.166942\n",
      "INFO:tensorflow:Validation (step 500): global_step = 400, loss = 0.166942\n",
      "INFO:tensorflow:Saving checkpoints for 500 into /var/folders/6g/kdqcxdms5dg0dr83wxn3ydjcsy9pxl/T/tmp4cbx6z6w/model.ckpt.\n",
      "INFO:tensorflow:Step 501: loss_y = 0.0206325, loss_W2 = 0.0632547, loss_w = 0.0464124, loss_W1 = 0.0159866\n",
      "INFO:tensorflow:Step 501: loss = 0.146286\n",
      "WARNING:tensorflow:Given features: Tensor(\"input:0\", shape=(?, 10), dtype=float32), required signatures: TensorSignature(dtype=tf.float32, shape=TensorShape([Dimension(None), Dimension(10)]), is_sparse=False).\n",
      "WARNING:tensorflow:Given targets: Tensor(\"output:0\", shape=(?,), dtype=int64), required signatures: TensorSignature(dtype=tf.int64, shape=TensorShape([Dimension(None)]), is_sparse=False).\n"
     ]
    },
    {
     "name": "stdout",
     "output_type": "stream",
     "text": [
      "{'a2': 0.01, 'a3': 0.01, 'a1': 0.01}\n"
     ]
    },
    {
     "name": "stderr",
     "output_type": "stream",
     "text": [
      "INFO:tensorflow:Restored model from /var/folders/6g/kdqcxdms5dg0dr83wxn3ydjcsy9pxl/T/tmp4cbx6z6w/model.ckpt-500-?????-of-00001\n",
      "INFO:tensorflow:Eval steps [0,inf) for training step 500.\n",
      "INFO:tensorflow:Input iterator is exhausted.\n",
      "INFO:tensorflow:Saving evaluation summary for 500 step: loss = 0.146286\n",
      "INFO:tensorflow:Validation (step 600): global_step = 500, loss = 0.146286\n",
      "INFO:tensorflow:Saving checkpoints for 600 into /var/folders/6g/kdqcxdms5dg0dr83wxn3ydjcsy9pxl/T/tmp4cbx6z6w/model.ckpt.\n",
      "INFO:tensorflow:Step 601: loss_y = 0.0200582, loss_W2 = 0.0619944, loss_w = 0.047023, loss_W1 = 0.00544297\n",
      "INFO:tensorflow:Step 601: loss = 0.134519\n",
      "WARNING:tensorflow:Given features: Tensor(\"input:0\", shape=(?, 10), dtype=float32), required signatures: TensorSignature(dtype=tf.float32, shape=TensorShape([Dimension(None), Dimension(10)]), is_sparse=False).\n",
      "WARNING:tensorflow:Given targets: Tensor(\"output:0\", shape=(?,), dtype=int64), required signatures: TensorSignature(dtype=tf.int64, shape=TensorShape([Dimension(None)]), is_sparse=False).\n"
     ]
    },
    {
     "name": "stdout",
     "output_type": "stream",
     "text": [
      "{'a2': 0.01, 'a3': 0.01, 'a1': 0.01}\n"
     ]
    },
    {
     "name": "stderr",
     "output_type": "stream",
     "text": [
      "INFO:tensorflow:Restored model from /var/folders/6g/kdqcxdms5dg0dr83wxn3ydjcsy9pxl/T/tmp4cbx6z6w/model.ckpt-600-?????-of-00001\n",
      "INFO:tensorflow:Eval steps [0,inf) for training step 600.\n",
      "INFO:tensorflow:Input iterator is exhausted.\n",
      "INFO:tensorflow:Saving evaluation summary for 600 step: loss = 0.134519\n",
      "INFO:tensorflow:Validation (step 700): global_step = 600, loss = 0.134519\n",
      "INFO:tensorflow:Saving checkpoints for 700 into /var/folders/6g/kdqcxdms5dg0dr83wxn3ydjcsy9pxl/T/tmp4cbx6z6w/model.ckpt.\n",
      "INFO:tensorflow:Step 701: loss_y = 0.019759, loss_W2 = 0.0613944, loss_w = 0.0474626, loss_W1 = 0.00179538\n",
      "INFO:tensorflow:Step 701: loss = 0.130411\n",
      "WARNING:tensorflow:Given features: Tensor(\"input:0\", shape=(?, 10), dtype=float32), required signatures: TensorSignature(dtype=tf.float32, shape=TensorShape([Dimension(None), Dimension(10)]), is_sparse=False).\n",
      "WARNING:tensorflow:Given targets: Tensor(\"output:0\", shape=(?,), dtype=int64), required signatures: TensorSignature(dtype=tf.int64, shape=TensorShape([Dimension(None)]), is_sparse=False).\n"
     ]
    },
    {
     "name": "stdout",
     "output_type": "stream",
     "text": [
      "{'a2': 0.01, 'a3': 0.01, 'a1': 0.01}\n"
     ]
    },
    {
     "name": "stderr",
     "output_type": "stream",
     "text": [
      "INFO:tensorflow:Restored model from /var/folders/6g/kdqcxdms5dg0dr83wxn3ydjcsy9pxl/T/tmp4cbx6z6w/model.ckpt-700-?????-of-00001\n",
      "INFO:tensorflow:Eval steps [0,inf) for training step 700.\n",
      "INFO:tensorflow:Input iterator is exhausted.\n",
      "INFO:tensorflow:Saving evaluation summary for 700 step: loss = 0.130411\n",
      "INFO:tensorflow:Validation (step 800): global_step = 700, loss = 0.130411\n",
      "INFO:tensorflow:Saving checkpoints for 800 into /var/folders/6g/kdqcxdms5dg0dr83wxn3ydjcsy9pxl/T/tmp4cbx6z6w/model.ckpt.\n",
      "INFO:tensorflow:Step 801: loss_y = 0.0195896, loss_W2 = 0.0607975, loss_w = 0.0478414, loss_W1 = 0.000141489\n",
      "INFO:tensorflow:Step 801: loss = 0.12837\n",
      "WARNING:tensorflow:Given features: Tensor(\"input:0\", shape=(?, 10), dtype=float32), required signatures: TensorSignature(dtype=tf.float32, shape=TensorShape([Dimension(None), Dimension(10)]), is_sparse=False).\n",
      "WARNING:tensorflow:Given targets: Tensor(\"output:0\", shape=(?,), dtype=int64), required signatures: TensorSignature(dtype=tf.int64, shape=TensorShape([Dimension(None)]), is_sparse=False).\n"
     ]
    },
    {
     "name": "stdout",
     "output_type": "stream",
     "text": [
      "{'a2': 0.01, 'a3': 0.01, 'a1': 0.01}\n"
     ]
    },
    {
     "name": "stderr",
     "output_type": "stream",
     "text": [
      "INFO:tensorflow:Restored model from /var/folders/6g/kdqcxdms5dg0dr83wxn3ydjcsy9pxl/T/tmp4cbx6z6w/model.ckpt-800-?????-of-00001\n",
      "INFO:tensorflow:Eval steps [0,inf) for training step 800.\n",
      "INFO:tensorflow:Input iterator is exhausted.\n",
      "INFO:tensorflow:Saving evaluation summary for 800 step: loss = 0.12837\n",
      "INFO:tensorflow:Validation (step 900): global_step = 800, loss = 0.12837\n",
      "INFO:tensorflow:Saving checkpoints for 900 into /var/folders/6g/kdqcxdms5dg0dr83wxn3ydjcsy9pxl/T/tmp4cbx6z6w/model.ckpt.\n",
      "INFO:tensorflow:Step 901: loss_y = 0.0194904, loss_W2 = 0.0601786, loss_w = 0.0481649, loss_W1 = 0.000104947\n",
      "INFO:tensorflow:Step 901: loss = 0.127939\n",
      "WARNING:tensorflow:Given features: Tensor(\"input:0\", shape=(?, 10), dtype=float32), required signatures: TensorSignature(dtype=tf.float32, shape=TensorShape([Dimension(None), Dimension(10)]), is_sparse=False).\n",
      "WARNING:tensorflow:Given targets: Tensor(\"output:0\", shape=(?,), dtype=int64), required signatures: TensorSignature(dtype=tf.int64, shape=TensorShape([Dimension(None)]), is_sparse=False).\n"
     ]
    },
    {
     "name": "stdout",
     "output_type": "stream",
     "text": [
      "{'a2': 0.01, 'a3': 0.01, 'a1': 0.01}\n"
     ]
    },
    {
     "name": "stderr",
     "output_type": "stream",
     "text": [
      "INFO:tensorflow:Restored model from /var/folders/6g/kdqcxdms5dg0dr83wxn3ydjcsy9pxl/T/tmp4cbx6z6w/model.ckpt-900-?????-of-00001\n",
      "INFO:tensorflow:Eval steps [0,inf) for training step 900.\n",
      "INFO:tensorflow:Input iterator is exhausted.\n",
      "INFO:tensorflow:Saving evaluation summary for 900 step: loss = 0.127939\n",
      "INFO:tensorflow:Validation (step 1000): global_step = 900, loss = 0.127939\n",
      "INFO:tensorflow:Saving checkpoints for 1000 into /var/folders/6g/kdqcxdms5dg0dr83wxn3ydjcsy9pxl/T/tmp4cbx6z6w/model.ckpt.\n",
      "INFO:tensorflow:Loss for final step: 0.127551.\n",
      "INFO:tensorflow:Loading model from checkpoint: /var/folders/6g/kdqcxdms5dg0dr83wxn3ydjcsy9pxl/T/tmp4cbx6z6w/model.ckpt-1000-?????-of-00001.\n"
     ]
    },
    {
     "name": "stdout",
     "output_type": "stream",
     "text": [
      "{'a2': 0.01, 'a3': 0.01, 'a1': 0.01}\n"
     ]
    },
    {
     "name": "stderr",
     "output_type": "stream",
     "text": [
      "WARNING:tensorflow:Using temporary folder as model directory: /var/folders/6g/kdqcxdms5dg0dr83wxn3ydjcsy9pxl/T/tmp5_p0kk4t\n",
      "WARNING:tensorflow:Setting feature info to TensorSignature(dtype=tf.float32, shape=TensorShape([Dimension(None), Dimension(10)]), is_sparse=False)\n",
      "WARNING:tensorflow:Setting targets info to TensorSignature(dtype=tf.int64, shape=TensorShape([Dimension(None)]), is_sparse=False)\n"
     ]
    },
    {
     "name": "stdout",
     "output_type": "stream",
     "text": [
      "{'a2': 0.01, 'a3': 0.01, 'a1': 0.01}\n"
     ]
    },
    {
     "name": "stderr",
     "output_type": "stream",
     "text": [
      "INFO:tensorflow:Create CheckpointSaver\n",
      "INFO:tensorflow:Step 1: loss_y = 1.09861, loss_W2 = 0.0929058, loss_w = 0.0, loss_W1 = 0.106699\n",
      "INFO:tensorflow:Step 1: loss = 1.29822\n",
      "INFO:tensorflow:Skipping evaluation since model has not been saved yet at step 100.\n",
      "INFO:tensorflow:Saving checkpoints for 100 into /var/folders/6g/kdqcxdms5dg0dr83wxn3ydjcsy9pxl/T/tmp5_p0kk4t/model.ckpt.\n",
      "INFO:tensorflow:Step 101: loss_y = 0.132923, loss_W2 = 0.0866929, loss_w = 0.0321284, loss_W1 = 0.0829375\n",
      "INFO:tensorflow:Step 101: loss = 0.334682\n",
      "WARNING:tensorflow:Given features: Tensor(\"input:0\", shape=(?, 10), dtype=float32), required signatures: TensorSignature(dtype=tf.float32, shape=TensorShape([Dimension(None), Dimension(10)]), is_sparse=False).\n",
      "WARNING:tensorflow:Given targets: Tensor(\"output:0\", shape=(?,), dtype=int64), required signatures: TensorSignature(dtype=tf.int64, shape=TensorShape([Dimension(None)]), is_sparse=False).\n"
     ]
    },
    {
     "name": "stdout",
     "output_type": "stream",
     "text": [
      "{'a2': 0.01, 'a3': 0.01, 'a1': 0.01}\n"
     ]
    },
    {
     "name": "stderr",
     "output_type": "stream",
     "text": [
      "INFO:tensorflow:Restored model from /var/folders/6g/kdqcxdms5dg0dr83wxn3ydjcsy9pxl/T/tmp5_p0kk4t/model.ckpt-100-?????-of-00001\n",
      "INFO:tensorflow:Eval steps [0,inf) for training step 100.\n",
      "INFO:tensorflow:Input iterator is exhausted.\n",
      "INFO:tensorflow:Saving evaluation summary for 100 step: loss = 0.334682\n",
      "INFO:tensorflow:Validation (step 200): global_step = 100, loss = 0.334682\n",
      "INFO:tensorflow:Saving checkpoints for 200 into /var/folders/6g/kdqcxdms5dg0dr83wxn3ydjcsy9pxl/T/tmp5_p0kk4t/model.ckpt.\n",
      "INFO:tensorflow:Step 201: loss_y = 0.0657341, loss_W2 = 0.0824958, loss_w = 0.0387216, loss_W1 = 0.062232\n",
      "INFO:tensorflow:Step 201: loss = 0.249184\n",
      "WARNING:tensorflow:Given features: Tensor(\"input:0\", shape=(?, 10), dtype=float32), required signatures: TensorSignature(dtype=tf.float32, shape=TensorShape([Dimension(None), Dimension(10)]), is_sparse=False).\n",
      "WARNING:tensorflow:Given targets: Tensor(\"output:0\", shape=(?,), dtype=int64), required signatures: TensorSignature(dtype=tf.int64, shape=TensorShape([Dimension(None)]), is_sparse=False).\n"
     ]
    },
    {
     "name": "stdout",
     "output_type": "stream",
     "text": [
      "{'a2': 0.01, 'a3': 0.01, 'a1': 0.01}\n"
     ]
    },
    {
     "name": "stderr",
     "output_type": "stream",
     "text": [
      "INFO:tensorflow:Restored model from /var/folders/6g/kdqcxdms5dg0dr83wxn3ydjcsy9pxl/T/tmp5_p0kk4t/model.ckpt-200-?????-of-00001\n",
      "INFO:tensorflow:Eval steps [0,inf) for training step 200.\n",
      "INFO:tensorflow:Input iterator is exhausted.\n",
      "INFO:tensorflow:Saving evaluation summary for 200 step: loss = 0.249184\n",
      "INFO:tensorflow:Validation (step 300): global_step = 200, loss = 0.249184\n",
      "INFO:tensorflow:Saving checkpoints for 300 into /var/folders/6g/kdqcxdms5dg0dr83wxn3ydjcsy9pxl/T/tmp5_p0kk4t/model.ckpt.\n",
      "INFO:tensorflow:Step 301: loss_y = 0.0573539, loss_W2 = 0.0762205, loss_w = 0.0404549, loss_W1 = 0.0457252\n",
      "INFO:tensorflow:Step 301: loss = 0.219755\n",
      "WARNING:tensorflow:Given features: Tensor(\"input:0\", shape=(?, 10), dtype=float32), required signatures: TensorSignature(dtype=tf.float32, shape=TensorShape([Dimension(None), Dimension(10)]), is_sparse=False).\n",
      "WARNING:tensorflow:Given targets: Tensor(\"output:0\", shape=(?,), dtype=int64), required signatures: TensorSignature(dtype=tf.int64, shape=TensorShape([Dimension(None)]), is_sparse=False).\n"
     ]
    },
    {
     "name": "stdout",
     "output_type": "stream",
     "text": [
      "{'a2': 0.01, 'a3': 0.01, 'a1': 0.01}\n"
     ]
    },
    {
     "name": "stderr",
     "output_type": "stream",
     "text": [
      "INFO:tensorflow:Restored model from /var/folders/6g/kdqcxdms5dg0dr83wxn3ydjcsy9pxl/T/tmp5_p0kk4t/model.ckpt-300-?????-of-00001\n",
      "INFO:tensorflow:Eval steps [0,inf) for training step 300.\n",
      "INFO:tensorflow:Input iterator is exhausted.\n",
      "INFO:tensorflow:Saving evaluation summary for 300 step: loss = 0.219755\n",
      "INFO:tensorflow:Validation (step 400): global_step = 300, loss = 0.219755\n",
      "INFO:tensorflow:Saving checkpoints for 400 into /var/folders/6g/kdqcxdms5dg0dr83wxn3ydjcsy9pxl/T/tmp5_p0kk4t/model.ckpt.\n",
      "INFO:tensorflow:Step 401: loss_y = 0.0542026, loss_W2 = 0.0699722, loss_w = 0.0415054, loss_W1 = 0.0302806\n",
      "INFO:tensorflow:Step 401: loss = 0.195961\n",
      "WARNING:tensorflow:Given features: Tensor(\"input:0\", shape=(?, 10), dtype=float32), required signatures: TensorSignature(dtype=tf.float32, shape=TensorShape([Dimension(None), Dimension(10)]), is_sparse=False).\n",
      "WARNING:tensorflow:Given targets: Tensor(\"output:0\", shape=(?,), dtype=int64), required signatures: TensorSignature(dtype=tf.int64, shape=TensorShape([Dimension(None)]), is_sparse=False).\n"
     ]
    },
    {
     "name": "stdout",
     "output_type": "stream",
     "text": [
      "{'a2': 0.01, 'a3': 0.01, 'a1': 0.01}\n"
     ]
    },
    {
     "name": "stderr",
     "output_type": "stream",
     "text": [
      "INFO:tensorflow:Restored model from /var/folders/6g/kdqcxdms5dg0dr83wxn3ydjcsy9pxl/T/tmp5_p0kk4t/model.ckpt-400-?????-of-00001\n",
      "INFO:tensorflow:Eval steps [0,inf) for training step 400.\n",
      "INFO:tensorflow:Input iterator is exhausted.\n",
      "INFO:tensorflow:Saving evaluation summary for 400 step: loss = 0.195961\n",
      "INFO:tensorflow:Validation (step 500): global_step = 400, loss = 0.195961\n",
      "INFO:tensorflow:Saving checkpoints for 500 into /var/folders/6g/kdqcxdms5dg0dr83wxn3ydjcsy9pxl/T/tmp5_p0kk4t/model.ckpt.\n",
      "INFO:tensorflow:Step 501: loss_y = 0.0532689, loss_W2 = 0.0644621, loss_w = 0.042297, loss_W1 = 0.0161192\n",
      "INFO:tensorflow:Step 501: loss = 0.176147\n",
      "WARNING:tensorflow:Given features: Tensor(\"input:0\", shape=(?, 10), dtype=float32), required signatures: TensorSignature(dtype=tf.float32, shape=TensorShape([Dimension(None), Dimension(10)]), is_sparse=False).\n",
      "WARNING:tensorflow:Given targets: Tensor(\"output:0\", shape=(?,), dtype=int64), required signatures: TensorSignature(dtype=tf.int64, shape=TensorShape([Dimension(None)]), is_sparse=False).\n"
     ]
    },
    {
     "name": "stdout",
     "output_type": "stream",
     "text": [
      "{'a2': 0.01, 'a3': 0.01, 'a1': 0.01}\n"
     ]
    },
    {
     "name": "stderr",
     "output_type": "stream",
     "text": [
      "INFO:tensorflow:Restored model from /var/folders/6g/kdqcxdms5dg0dr83wxn3ydjcsy9pxl/T/tmp5_p0kk4t/model.ckpt-500-?????-of-00001\n",
      "INFO:tensorflow:Eval steps [0,inf) for training step 500.\n",
      "INFO:tensorflow:Input iterator is exhausted.\n",
      "INFO:tensorflow:Saving evaluation summary for 500 step: loss = 0.176147\n",
      "INFO:tensorflow:Validation (step 600): global_step = 500, loss = 0.176147\n",
      "INFO:tensorflow:Saving checkpoints for 600 into /var/folders/6g/kdqcxdms5dg0dr83wxn3ydjcsy9pxl/T/tmp5_p0kk4t/model.ckpt.\n",
      "INFO:tensorflow:Step 601: loss_y = 0.0535878, loss_W2 = 0.0605517, loss_w = 0.0428272, loss_W1 = 0.00547119\n",
      "INFO:tensorflow:Step 601: loss = 0.162438\n",
      "WARNING:tensorflow:Given features: Tensor(\"input:0\", shape=(?, 10), dtype=float32), required signatures: TensorSignature(dtype=tf.float32, shape=TensorShape([Dimension(None), Dimension(10)]), is_sparse=False).\n",
      "WARNING:tensorflow:Given targets: Tensor(\"output:0\", shape=(?,), dtype=int64), required signatures: TensorSignature(dtype=tf.int64, shape=TensorShape([Dimension(None)]), is_sparse=False).\n"
     ]
    },
    {
     "name": "stdout",
     "output_type": "stream",
     "text": [
      "{'a2': 0.01, 'a3': 0.01, 'a1': 0.01}\n"
     ]
    },
    {
     "name": "stderr",
     "output_type": "stream",
     "text": [
      "INFO:tensorflow:Restored model from /var/folders/6g/kdqcxdms5dg0dr83wxn3ydjcsy9pxl/T/tmp5_p0kk4t/model.ckpt-600-?????-of-00001\n",
      "INFO:tensorflow:Eval steps [0,inf) for training step 600.\n",
      "INFO:tensorflow:Input iterator is exhausted.\n",
      "INFO:tensorflow:Saving evaluation summary for 600 step: loss = 0.162438\n",
      "INFO:tensorflow:Validation (step 700): global_step = 600, loss = 0.162438\n",
      "INFO:tensorflow:Saving checkpoints for 700 into /var/folders/6g/kdqcxdms5dg0dr83wxn3ydjcsy9pxl/T/tmp5_p0kk4t/model.ckpt.\n",
      "INFO:tensorflow:Step 701: loss_y = 0.053987, loss_W2 = 0.0585157, loss_w = 0.0433327, loss_W1 = 0.00181845\n",
      "INFO:tensorflow:Step 701: loss = 0.157654\n",
      "WARNING:tensorflow:Given features: Tensor(\"input:0\", shape=(?, 10), dtype=float32), required signatures: TensorSignature(dtype=tf.float32, shape=TensorShape([Dimension(None), Dimension(10)]), is_sparse=False).\n",
      "WARNING:tensorflow:Given targets: Tensor(\"output:0\", shape=(?,), dtype=int64), required signatures: TensorSignature(dtype=tf.int64, shape=TensorShape([Dimension(None)]), is_sparse=False).\n"
     ]
    },
    {
     "name": "stdout",
     "output_type": "stream",
     "text": [
      "{'a2': 0.01, 'a3': 0.01, 'a1': 0.01}\n"
     ]
    },
    {
     "name": "stderr",
     "output_type": "stream",
     "text": [
      "INFO:tensorflow:Restored model from /var/folders/6g/kdqcxdms5dg0dr83wxn3ydjcsy9pxl/T/tmp5_p0kk4t/model.ckpt-700-?????-of-00001\n",
      "INFO:tensorflow:Eval steps [0,inf) for training step 700.\n",
      "INFO:tensorflow:Input iterator is exhausted.\n",
      "INFO:tensorflow:Saving evaluation summary for 700 step: loss = 0.157654\n",
      "INFO:tensorflow:Validation (step 800): global_step = 700, loss = 0.157654\n",
      "INFO:tensorflow:Saving checkpoints for 800 into /var/folders/6g/kdqcxdms5dg0dr83wxn3ydjcsy9pxl/T/tmp5_p0kk4t/model.ckpt.\n",
      "INFO:tensorflow:Step 801: loss_y = 0.0540521, loss_W2 = 0.0574353, loss_w = 0.0437969, loss_W1 = 8.2428e-05\n",
      "INFO:tensorflow:Step 801: loss = 0.155367\n",
      "WARNING:tensorflow:Given features: Tensor(\"input:0\", shape=(?, 10), dtype=float32), required signatures: TensorSignature(dtype=tf.float32, shape=TensorShape([Dimension(None), Dimension(10)]), is_sparse=False).\n",
      "WARNING:tensorflow:Given targets: Tensor(\"output:0\", shape=(?,), dtype=int64), required signatures: TensorSignature(dtype=tf.int64, shape=TensorShape([Dimension(None)]), is_sparse=False).\n"
     ]
    },
    {
     "name": "stdout",
     "output_type": "stream",
     "text": [
      "{'a2': 0.01, 'a3': 0.01, 'a1': 0.01}\n"
     ]
    },
    {
     "name": "stderr",
     "output_type": "stream",
     "text": [
      "INFO:tensorflow:Restored model from /var/folders/6g/kdqcxdms5dg0dr83wxn3ydjcsy9pxl/T/tmp5_p0kk4t/model.ckpt-800-?????-of-00001\n",
      "INFO:tensorflow:Eval steps [0,inf) for training step 800.\n",
      "INFO:tensorflow:Input iterator is exhausted.\n",
      "INFO:tensorflow:Saving evaluation summary for 800 step: loss = 0.155367\n",
      "INFO:tensorflow:Validation (step 900): global_step = 800, loss = 0.155367\n",
      "INFO:tensorflow:Saving checkpoints for 900 into /var/folders/6g/kdqcxdms5dg0dr83wxn3ydjcsy9pxl/T/tmp5_p0kk4t/model.ckpt.\n",
      "INFO:tensorflow:Step 901: loss_y = 0.0539423, loss_W2 = 0.0567173, loss_w = 0.0442422, loss_W1 = 7.56562e-05\n",
      "INFO:tensorflow:Step 901: loss = 0.154977\n",
      "WARNING:tensorflow:Given features: Tensor(\"input:0\", shape=(?, 10), dtype=float32), required signatures: TensorSignature(dtype=tf.float32, shape=TensorShape([Dimension(None), Dimension(10)]), is_sparse=False).\n",
      "WARNING:tensorflow:Given targets: Tensor(\"output:0\", shape=(?,), dtype=int64), required signatures: TensorSignature(dtype=tf.int64, shape=TensorShape([Dimension(None)]), is_sparse=False).\n"
     ]
    },
    {
     "name": "stdout",
     "output_type": "stream",
     "text": [
      "{'a2': 0.01, 'a3': 0.01, 'a1': 0.01}\n"
     ]
    },
    {
     "name": "stderr",
     "output_type": "stream",
     "text": [
      "INFO:tensorflow:Restored model from /var/folders/6g/kdqcxdms5dg0dr83wxn3ydjcsy9pxl/T/tmp5_p0kk4t/model.ckpt-900-?????-of-00001\n",
      "INFO:tensorflow:Eval steps [0,inf) for training step 900.\n",
      "INFO:tensorflow:Input iterator is exhausted.\n",
      "INFO:tensorflow:Saving evaluation summary for 900 step: loss = 0.154977\n",
      "INFO:tensorflow:Validation (step 1000): global_step = 900, loss = 0.154977\n",
      "INFO:tensorflow:Saving checkpoints for 1000 into /var/folders/6g/kdqcxdms5dg0dr83wxn3ydjcsy9pxl/T/tmp5_p0kk4t/model.ckpt.\n",
      "INFO:tensorflow:Loss for final step: 0.154697.\n"
     ]
    },
    {
     "name": "stdout",
     "output_type": "stream",
     "text": [
      "{'a2': 0.01, 'a3': 0.01, 'a1': 0.01}\n"
     ]
    },
    {
     "name": "stderr",
     "output_type": "stream",
     "text": [
      "INFO:tensorflow:Loading model from checkpoint: /var/folders/6g/kdqcxdms5dg0dr83wxn3ydjcsy9pxl/T/tmp5_p0kk4t/model.ckpt-1000-?????-of-00001.\n",
      "WARNING:tensorflow:Using temporary folder as model directory: /var/folders/6g/kdqcxdms5dg0dr83wxn3ydjcsy9pxl/T/tmpcwcsyyaq\n",
      "WARNING:tensorflow:Setting feature info to TensorSignature(dtype=tf.float32, shape=TensorShape([Dimension(None), Dimension(10)]), is_sparse=False)\n",
      "WARNING:tensorflow:Setting targets info to TensorSignature(dtype=tf.int64, shape=TensorShape([Dimension(None)]), is_sparse=False)\n"
     ]
    },
    {
     "name": "stdout",
     "output_type": "stream",
     "text": [
      "{'a2': 0.01, 'a3': 0.02, 'a1': 0.01}\n"
     ]
    },
    {
     "name": "stderr",
     "output_type": "stream",
     "text": [
      "INFO:tensorflow:Create CheckpointSaver\n",
      "INFO:tensorflow:Step 1: loss_y = 1.09861, loss_W2 = 0.0929058, loss_w = 0.0, loss_W1 = 0.106699\n",
      "INFO:tensorflow:Step 1: loss = 1.29822\n",
      "INFO:tensorflow:Skipping evaluation since model has not been saved yet at step 100.\n",
      "INFO:tensorflow:Saving checkpoints for 100 into /var/folders/6g/kdqcxdms5dg0dr83wxn3ydjcsy9pxl/T/tmpcwcsyyaq/model.ckpt.\n",
      "INFO:tensorflow:Step 101: loss_y = 0.198064, loss_W2 = 0.082784, loss_w = 0.0540523, loss_W1 = 0.0827825\n",
      "INFO:tensorflow:Step 101: loss = 0.417683\n",
      "WARNING:tensorflow:Given features: Tensor(\"input:0\", shape=(?, 10), dtype=float32), required signatures: TensorSignature(dtype=tf.float32, shape=TensorShape([Dimension(None), Dimension(10)]), is_sparse=False).\n",
      "WARNING:tensorflow:Given targets: Tensor(\"output:0\", shape=(?,), dtype=int64), required signatures: TensorSignature(dtype=tf.int64, shape=TensorShape([Dimension(None)]), is_sparse=False).\n"
     ]
    },
    {
     "name": "stdout",
     "output_type": "stream",
     "text": [
      "{'a2': 0.01, 'a3': 0.02, 'a1': 0.01}\n"
     ]
    },
    {
     "name": "stderr",
     "output_type": "stream",
     "text": [
      "INFO:tensorflow:Restored model from /var/folders/6g/kdqcxdms5dg0dr83wxn3ydjcsy9pxl/T/tmpcwcsyyaq/model.ckpt-100-?????-of-00001\n",
      "INFO:tensorflow:Eval steps [0,inf) for training step 100.\n",
      "INFO:tensorflow:Input iterator is exhausted.\n",
      "INFO:tensorflow:Saving evaluation summary for 100 step: loss = 0.417683\n",
      "INFO:tensorflow:Validation (step 200): global_step = 100, loss = 0.417683\n",
      "INFO:tensorflow:Saving checkpoints for 200 into /var/folders/6g/kdqcxdms5dg0dr83wxn3ydjcsy9pxl/T/tmpcwcsyyaq/model.ckpt.\n",
      "INFO:tensorflow:Step 201: loss_y = 0.0669573, loss_W2 = 0.0775829, loss_w = 0.0726939, loss_W1 = 0.0620808\n",
      "INFO:tensorflow:Step 201: loss = 0.279315\n",
      "WARNING:tensorflow:Given features: Tensor(\"input:0\", shape=(?, 10), dtype=float32), required signatures: TensorSignature(dtype=tf.float32, shape=TensorShape([Dimension(None), Dimension(10)]), is_sparse=False).\n",
      "WARNING:tensorflow:Given targets: Tensor(\"output:0\", shape=(?,), dtype=int64), required signatures: TensorSignature(dtype=tf.int64, shape=TensorShape([Dimension(None)]), is_sparse=False).\n"
     ]
    },
    {
     "name": "stdout",
     "output_type": "stream",
     "text": [
      "{'a2': 0.01, 'a3': 0.02, 'a1': 0.01}\n"
     ]
    },
    {
     "name": "stderr",
     "output_type": "stream",
     "text": [
      "INFO:tensorflow:Restored model from /var/folders/6g/kdqcxdms5dg0dr83wxn3ydjcsy9pxl/T/tmpcwcsyyaq/model.ckpt-200-?????-of-00001\n",
      "INFO:tensorflow:Eval steps [0,inf) for training step 200.\n",
      "INFO:tensorflow:Input iterator is exhausted.\n",
      "INFO:tensorflow:Saving evaluation summary for 200 step: loss = 0.279315\n",
      "INFO:tensorflow:Validation (step 300): global_step = 200, loss = 0.279315\n",
      "INFO:tensorflow:Saving checkpoints for 300 into /var/folders/6g/kdqcxdms5dg0dr83wxn3ydjcsy9pxl/T/tmpcwcsyyaq/model.ckpt.\n",
      "INFO:tensorflow:Step 301: loss_y = 0.0557302, loss_W2 = 0.0734767, loss_w = 0.0758477, loss_W1 = 0.0455932\n",
      "INFO:tensorflow:Step 301: loss = 0.250648\n",
      "WARNING:tensorflow:Given features: Tensor(\"input:0\", shape=(?, 10), dtype=float32), required signatures: TensorSignature(dtype=tf.float32, shape=TensorShape([Dimension(None), Dimension(10)]), is_sparse=False).\n",
      "WARNING:tensorflow:Given targets: Tensor(\"output:0\", shape=(?,), dtype=int64), required signatures: TensorSignature(dtype=tf.int64, shape=TensorShape([Dimension(None)]), is_sparse=False).\n"
     ]
    },
    {
     "name": "stdout",
     "output_type": "stream",
     "text": [
      "{'a2': 0.01, 'a3': 0.02, 'a1': 0.01}\n"
     ]
    },
    {
     "name": "stderr",
     "output_type": "stream",
     "text": [
      "INFO:tensorflow:Restored model from /var/folders/6g/kdqcxdms5dg0dr83wxn3ydjcsy9pxl/T/tmpcwcsyyaq/model.ckpt-300-?????-of-00001\n",
      "INFO:tensorflow:Eval steps [0,inf) for training step 300.\n",
      "INFO:tensorflow:Input iterator is exhausted.\n",
      "INFO:tensorflow:Saving evaluation summary for 300 step: loss = 0.250648\n",
      "INFO:tensorflow:Validation (step 400): global_step = 300, loss = 0.250648\n",
      "INFO:tensorflow:Saving checkpoints for 400 into /var/folders/6g/kdqcxdms5dg0dr83wxn3ydjcsy9pxl/T/tmpcwcsyyaq/model.ckpt.\n",
      "INFO:tensorflow:Step 401: loss_y = 0.0518729, loss_W2 = 0.0711881, loss_w = 0.0765848, loss_W1 = 0.0301702\n",
      "INFO:tensorflow:Step 401: loss = 0.229816\n",
      "WARNING:tensorflow:Given features: Tensor(\"input:0\", shape=(?, 10), dtype=float32), required signatures: TensorSignature(dtype=tf.float32, shape=TensorShape([Dimension(None), Dimension(10)]), is_sparse=False).\n",
      "WARNING:tensorflow:Given targets: Tensor(\"output:0\", shape=(?,), dtype=int64), required signatures: TensorSignature(dtype=tf.int64, shape=TensorShape([Dimension(None)]), is_sparse=False).\n"
     ]
    },
    {
     "name": "stdout",
     "output_type": "stream",
     "text": [
      "{'a2': 0.01, 'a3': 0.02, 'a1': 0.01}\n"
     ]
    },
    {
     "name": "stderr",
     "output_type": "stream",
     "text": [
      "INFO:tensorflow:Restored model from /var/folders/6g/kdqcxdms5dg0dr83wxn3ydjcsy9pxl/T/tmpcwcsyyaq/model.ckpt-400-?????-of-00001\n",
      "INFO:tensorflow:Eval steps [0,inf) for training step 400.\n",
      "INFO:tensorflow:Input iterator is exhausted.\n",
      "INFO:tensorflow:Saving evaluation summary for 400 step: loss = 0.229816\n",
      "INFO:tensorflow:Validation (step 500): global_step = 400, loss = 0.229816\n",
      "INFO:tensorflow:Saving checkpoints for 500 into /var/folders/6g/kdqcxdms5dg0dr83wxn3ydjcsy9pxl/T/tmpcwcsyyaq/model.ckpt.\n",
      "INFO:tensorflow:Step 501: loss_y = 0.0494366, loss_W2 = 0.0692725, loss_w = 0.0765141, loss_W1 = 0.0160268\n",
      "INFO:tensorflow:Step 501: loss = 0.21125\n",
      "WARNING:tensorflow:Given features: Tensor(\"input:0\", shape=(?, 10), dtype=float32), required signatures: TensorSignature(dtype=tf.float32, shape=TensorShape([Dimension(None), Dimension(10)]), is_sparse=False).\n",
      "WARNING:tensorflow:Given targets: Tensor(\"output:0\", shape=(?,), dtype=int64), required signatures: TensorSignature(dtype=tf.int64, shape=TensorShape([Dimension(None)]), is_sparse=False).\n"
     ]
    },
    {
     "name": "stdout",
     "output_type": "stream",
     "text": [
      "{'a2': 0.01, 'a3': 0.02, 'a1': 0.01}\n"
     ]
    },
    {
     "name": "stderr",
     "output_type": "stream",
     "text": [
      "INFO:tensorflow:Restored model from /var/folders/6g/kdqcxdms5dg0dr83wxn3ydjcsy9pxl/T/tmpcwcsyyaq/model.ckpt-500-?????-of-00001\n",
      "INFO:tensorflow:Eval steps [0,inf) for training step 500.\n",
      "INFO:tensorflow:Input iterator is exhausted.\n",
      "INFO:tensorflow:Saving evaluation summary for 500 step: loss = 0.21125\n",
      "INFO:tensorflow:Validation (step 600): global_step = 500, loss = 0.21125\n",
      "INFO:tensorflow:Saving checkpoints for 600 into /var/folders/6g/kdqcxdms5dg0dr83wxn3ydjcsy9pxl/T/tmpcwcsyyaq/model.ckpt.\n",
      "INFO:tensorflow:Step 601: loss_y = 0.0478343, loss_W2 = 0.0674765, loss_w = 0.0762873, loss_W1 = 0.0054595\n",
      "INFO:tensorflow:Step 601: loss = 0.197058\n",
      "WARNING:tensorflow:Given features: Tensor(\"input:0\", shape=(?, 10), dtype=float32), required signatures: TensorSignature(dtype=tf.float32, shape=TensorShape([Dimension(None), Dimension(10)]), is_sparse=False).\n",
      "WARNING:tensorflow:Given targets: Tensor(\"output:0\", shape=(?,), dtype=int64), required signatures: TensorSignature(dtype=tf.int64, shape=TensorShape([Dimension(None)]), is_sparse=False).\n"
     ]
    },
    {
     "name": "stdout",
     "output_type": "stream",
     "text": [
      "{'a2': 0.01, 'a3': 0.02, 'a1': 0.01}\n"
     ]
    },
    {
     "name": "stderr",
     "output_type": "stream",
     "text": [
      "INFO:tensorflow:Restored model from /var/folders/6g/kdqcxdms5dg0dr83wxn3ydjcsy9pxl/T/tmpcwcsyyaq/model.ckpt-600-?????-of-00001\n",
      "INFO:tensorflow:Eval steps [0,inf) for training step 600.\n",
      "INFO:tensorflow:Input iterator is exhausted.\n",
      "INFO:tensorflow:Saving evaluation summary for 600 step: loss = 0.197058\n",
      "INFO:tensorflow:Validation (step 700): global_step = 600, loss = 0.197058\n",
      "INFO:tensorflow:Saving checkpoints for 700 into /var/folders/6g/kdqcxdms5dg0dr83wxn3ydjcsy9pxl/T/tmpcwcsyyaq/model.ckpt.\n",
      "INFO:tensorflow:Step 701: loss_y = 0.0466776, loss_W2 = 0.0672378, loss_w = 0.0758569, loss_W1 = 0.00182166\n",
      "INFO:tensorflow:Step 701: loss = 0.191594\n",
      "WARNING:tensorflow:Given features: Tensor(\"input:0\", shape=(?, 10), dtype=float32), required signatures: TensorSignature(dtype=tf.float32, shape=TensorShape([Dimension(None), Dimension(10)]), is_sparse=False).\n",
      "WARNING:tensorflow:Given targets: Tensor(\"output:0\", shape=(?,), dtype=int64), required signatures: TensorSignature(dtype=tf.int64, shape=TensorShape([Dimension(None)]), is_sparse=False).\n"
     ]
    },
    {
     "name": "stdout",
     "output_type": "stream",
     "text": [
      "{'a2': 0.01, 'a3': 0.02, 'a1': 0.01}\n"
     ]
    },
    {
     "name": "stderr",
     "output_type": "stream",
     "text": [
      "INFO:tensorflow:Restored model from /var/folders/6g/kdqcxdms5dg0dr83wxn3ydjcsy9pxl/T/tmpcwcsyyaq/model.ckpt-700-?????-of-00001\n",
      "INFO:tensorflow:Eval steps [0,inf) for training step 700.\n",
      "INFO:tensorflow:Input iterator is exhausted.\n",
      "INFO:tensorflow:Saving evaluation summary for 700 step: loss = 0.191594\n",
      "INFO:tensorflow:Validation (step 800): global_step = 700, loss = 0.191594\n",
      "INFO:tensorflow:Saving checkpoints for 800 into /var/folders/6g/kdqcxdms5dg0dr83wxn3ydjcsy9pxl/T/tmpcwcsyyaq/model.ckpt.\n",
      "INFO:tensorflow:Step 801: loss_y = 0.0455845, loss_W2 = 0.0675013, loss_w = 0.0752851, loss_W1 = 7.58358e-05\n",
      "INFO:tensorflow:Step 801: loss = 0.188447\n",
      "WARNING:tensorflow:Given features: Tensor(\"input:0\", shape=(?, 10), dtype=float32), required signatures: TensorSignature(dtype=tf.float32, shape=TensorShape([Dimension(None), Dimension(10)]), is_sparse=False).\n",
      "WARNING:tensorflow:Given targets: Tensor(\"output:0\", shape=(?,), dtype=int64), required signatures: TensorSignature(dtype=tf.int64, shape=TensorShape([Dimension(None)]), is_sparse=False).\n"
     ]
    },
    {
     "name": "stdout",
     "output_type": "stream",
     "text": [
      "{'a2': 0.01, 'a3': 0.02, 'a1': 0.01}\n"
     ]
    },
    {
     "name": "stderr",
     "output_type": "stream",
     "text": [
      "INFO:tensorflow:Restored model from /var/folders/6g/kdqcxdms5dg0dr83wxn3ydjcsy9pxl/T/tmpcwcsyyaq/model.ckpt-800-?????-of-00001\n",
      "INFO:tensorflow:Eval steps [0,inf) for training step 800.\n",
      "INFO:tensorflow:Input iterator is exhausted.\n",
      "INFO:tensorflow:Saving evaluation summary for 800 step: loss = 0.188447\n",
      "INFO:tensorflow:Validation (step 900): global_step = 800, loss = 0.188447\n",
      "INFO:tensorflow:Saving checkpoints for 900 into /var/folders/6g/kdqcxdms5dg0dr83wxn3ydjcsy9pxl/T/tmpcwcsyyaq/model.ckpt.\n",
      "INFO:tensorflow:Step 901: loss_y = 0.0447126, loss_W2 = 0.0677172, loss_w = 0.0746865, loss_W1 = 0.000105496\n",
      "INFO:tensorflow:Step 901: loss = 0.187222\n",
      "WARNING:tensorflow:Given features: Tensor(\"input:0\", shape=(?, 10), dtype=float32), required signatures: TensorSignature(dtype=tf.float32, shape=TensorShape([Dimension(None), Dimension(10)]), is_sparse=False).\n",
      "WARNING:tensorflow:Given targets: Tensor(\"output:0\", shape=(?,), dtype=int64), required signatures: TensorSignature(dtype=tf.int64, shape=TensorShape([Dimension(None)]), is_sparse=False).\n"
     ]
    },
    {
     "name": "stdout",
     "output_type": "stream",
     "text": [
      "{'a2': 0.01, 'a3': 0.02, 'a1': 0.01}\n"
     ]
    },
    {
     "name": "stderr",
     "output_type": "stream",
     "text": [
      "INFO:tensorflow:Restored model from /var/folders/6g/kdqcxdms5dg0dr83wxn3ydjcsy9pxl/T/tmpcwcsyyaq/model.ckpt-900-?????-of-00001\n",
      "INFO:tensorflow:Eval steps [0,inf) for training step 900.\n",
      "INFO:tensorflow:Input iterator is exhausted.\n",
      "INFO:tensorflow:Saving evaluation summary for 900 step: loss = 0.187222\n",
      "INFO:tensorflow:Validation (step 1000): global_step = 900, loss = 0.187222\n",
      "INFO:tensorflow:Saving checkpoints for 1000 into /var/folders/6g/kdqcxdms5dg0dr83wxn3ydjcsy9pxl/T/tmpcwcsyyaq/model.ckpt.\n",
      "INFO:tensorflow:Loss for final step: 0.186128.\n"
     ]
    }
   ],
   "source": [
    "from sklearn.grid_search import GridSearchCV\n",
    "from sklearn.metrics import accuracy_score\n",
    "#clfx.set_params(params=dict(a1=.01, a2=.01, a3=.02))\n",
    "grid = {\n",
    "    'model_fn': [my_model],\n",
    "    'model_params': [dict(a1=.01, a2=.01, a3=.02), dict(a1=.01, a2=.01, a3=.01)]\n",
    "}\n",
    "\n",
    "def monitor_fn(X, y):\n",
    "    return {\n",
    "        'print': learn.monitors.PrintTensor(['loss_y', 'loss_W1', 'loss_W2', 'loss_w']),\n",
    "        'validate': learn.monitors.ValidationMonitor(X, y, early_stopping_rounds=10),\n",
    "        'loss': learn.monitors.CaptureVariable('loss', every_n=1)\n",
    "    }\n",
    "\n",
    "clf = LearnClassifier(\n",
    "    model_fn=my_model, \n",
    "    model_params=dict(a1=.01, a2=.01, a3=.01),\n",
    "    model_config=learn.run_config.RunConfig(save_checkpoints_secs=100)\n",
    ")\n",
    "clf_grid = GridSearchCV(clf, grid, cv=2, fit_params=dict(max_steps=1000, monitor_fn=monitor_fn))\n",
    "clf_grid = clf_grid.fit(X.values, y.values)\n",
    "#clfx.get_params()"
   ]
  },
  {
   "cell_type": "code",
   "execution_count": 246,
   "metadata": {
    "collapsed": false
   },
   "outputs": [
    {
     "data": {
      "text/plain": [
       "{'model_fn': <function __main__.my_model>,\n",
       " 'model_params': {'a1': 0.01, 'a2': 0.01, 'a3': 0.02}}"
      ]
     },
     "execution_count": 246,
     "metadata": {},
     "output_type": "execute_result"
    }
   ],
   "source": [
    "clf_grid.best_params_"
   ]
  },
  {
   "cell_type": "code",
   "execution_count": 272,
   "metadata": {
    "collapsed": false
   },
   "outputs": [
    {
     "data": {
      "text/plain": [
       "1000"
      ]
     },
     "execution_count": 272,
     "metadata": {},
     "output_type": "execute_result"
    }
   ],
   "source": [
    "mx = clf_grid.best_estimator_.monitors_['validate']\n",
    "mx.best_step"
   ]
  },
  {
   "cell_type": "code",
   "execution_count": 273,
   "metadata": {
    "collapsed": false
   },
   "outputs": [
    {
     "data": {
      "text/plain": [
       "<matplotlib.axes._subplots.AxesSubplot at 0x1373422b0>"
      ]
     },
     "execution_count": 273,
     "metadata": {},
     "output_type": "execute_result"
    },
    {
     "data": {
      "image/png": "[encoded data removed]",
      "text/plain": [
       "<matplotlib.figure.Figure at 0x142f9cc18>"
      ]
     },
     "metadata": {},
     "output_type": "display_data"
    }
   ],
   "source": [
    "pd.Series(clf_grid.best_estimator_.monitors_['loss'].values).plot()"
   ]
  },
  {
   "cell_type": "code",
   "execution_count": 201,
   "metadata": {
    "collapsed": false
   },
   "outputs": [
    {
     "data": {
      "text/plain": [
       "(3, 5)"
      ]
     },
     "execution_count": 201,
     "metadata": {},
     "output_type": "execute_result"
    }
   ],
   "source": [
    "classifier.get_variable_value('W2').T.shape"
   ]
  },
  {
   "cell_type": "code",
   "execution_count": 196,
   "metadata": {
    "collapsed": true
   },
   "outputs": [],
   "source": [
    "??classifier.get_variable_value"
   ]
  },
  {
   "cell_type": "code",
   "execution_count": 197,
   "metadata": {
    "collapsed": false
   },
   "outputs": [
    {
     "data": {
      "text/html": [
       "<div>\n",
       "<table border=\"1\" class=\"dataframe\">\n",
       "  <thead>\n",
       "    <tr style=\"text-align: right;\">\n",
       "      <th></th>\n",
       "      <th>X0</th>\n",
       "      <th>X1</th>\n",
       "      <th>X2</th>\n",
       "      <th>X3</th>\n",
       "      <th>X4</th>\n",
       "      <th>X5</th>\n",
       "      <th>X6</th>\n",
       "      <th>X7</th>\n",
       "      <th>X8</th>\n",
       "      <th>X9</th>\n",
       "    </tr>\n",
       "  </thead>\n",
       "  <tbody>\n",
       "    <tr>\n",
       "      <th>0</th>\n",
       "      <td>7.590570e-07</td>\n",
       "      <td>0.000007</td>\n",
       "      <td>7.182880e-07</td>\n",
       "      <td>2.121569e-07</td>\n",
       "      <td>-5.213333e-07</td>\n",
       "      <td>-0.000339</td>\n",
       "      <td>-0.000105</td>\n",
       "      <td>-0.000886</td>\n",
       "      <td>0.399872</td>\n",
       "      <td>-1.533133</td>\n",
       "    </tr>\n",
       "    <tr>\n",
       "      <th>1</th>\n",
       "      <td>-2.584211e-03</td>\n",
       "      <td>-0.000005</td>\n",
       "      <td>4.702329e-04</td>\n",
       "      <td>-1.067056e-04</td>\n",
       "      <td>3.061176e-03</td>\n",
       "      <td>0.000252</td>\n",
       "      <td>-0.000497</td>\n",
       "      <td>-0.000726</td>\n",
       "      <td>-1.532622</td>\n",
       "      <td>0.037584</td>\n",
       "    </tr>\n",
       "    <tr>\n",
       "      <th>2</th>\n",
       "      <td>3.535604e-07</td>\n",
       "      <td>-0.001238</td>\n",
       "      <td>-9.332093e-07</td>\n",
       "      <td>-8.378229e-07</td>\n",
       "      <td>9.369740e-06</td>\n",
       "      <td>-0.001001</td>\n",
       "      <td>-0.000774</td>\n",
       "      <td>-0.000492</td>\n",
       "      <td>-1.532028</td>\n",
       "      <td>-1.309981</td>\n",
       "    </tr>\n",
       "  </tbody>\n",
       "</table>\n",
       "</div>"
      ],
      "text/plain": [
       "             X0        X1            X2            X3            X4        X5  \\\n",
       "0  7.590570e-07  0.000007  7.182880e-07  2.121569e-07 -5.213333e-07 -0.000339   \n",
       "1 -2.584211e-03 -0.000005  4.702329e-04 -1.067056e-04  3.061176e-03  0.000252   \n",
       "2  3.535604e-07 -0.001238 -9.332093e-07 -8.378229e-07  9.369740e-06 -0.001001   \n",
       "\n",
       "         X6        X7        X8        X9  \n",
       "0 -0.000105 -0.000886  0.399872 -1.533133  \n",
       "1 -0.000497 -0.000726 -1.532622  0.037584  \n",
       "2 -0.000774 -0.000492 -1.532028 -1.309981  "
      ]
     },
     "execution_count": 197,
     "metadata": {},
     "output_type": "execute_result"
    }
   ],
   "source": [
    "wts = np.hstack((classifier.get_variable_value('W1').T, classifier.get_variable_value('W2').T))\n",
    "pd.DataFrame(wts, columns=X.columns)#.T.plot(kind='bar')"
   ]
  },
  {
   "cell_type": "code",
   "execution_count": 174,
   "metadata": {
    "collapsed": false
   },
   "outputs": [
    {
     "name": "stderr",
     "output_type": "stream",
     "text": [
      "INFO:tensorflow:Loading model from checkpoint: /var/folders/6g/kdqcxdms5dg0dr83wxn3ydjcsy9pxl/T/tmp5lww9941/model.ckpt-1000-?????-of-00001.\n"
     ]
    },
    {
     "data": {
      "text/plain": [
       "0    334\n",
       "2    333\n",
       "1    333\n",
       "dtype: int64"
      ]
     },
     "execution_count": 174,
     "metadata": {},
     "output_type": "execute_result"
    }
   ],
   "source": [
    "pd.Series(np.argmax(classifier.predict(X), axis=1)).value_counts()"
   ]
  },
  {
   "cell_type": "code",
   "execution_count": 175,
   "metadata": {
    "collapsed": false
   },
   "outputs": [
    {
     "name": "stderr",
     "output_type": "stream",
     "text": [
      "INFO:tensorflow:Loading model from checkpoint: /var/folders/6g/kdqcxdms5dg0dr83wxn3ydjcsy9pxl/T/tmp5lww9941/model.ckpt-1000-?????-of-00001.\n"
     ]
    },
    {
     "data": {
      "text/html": [
       "<div>\n",
       "<table border=\"1\" class=\"dataframe\">\n",
       "  <thead>\n",
       "    <tr style=\"text-align: right;\">\n",
       "      <th>actual</th>\n",
       "      <th>0</th>\n",
       "      <th>1</th>\n",
       "      <th>2</th>\n",
       "    </tr>\n",
       "    <tr>\n",
       "      <th>predicted</th>\n",
       "      <th></th>\n",
       "      <th></th>\n",
       "      <th></th>\n",
       "    </tr>\n",
       "  </thead>\n",
       "  <tbody>\n",
       "    <tr>\n",
       "      <th>0</th>\n",
       "      <td>331.0</td>\n",
       "      <td>2.0</td>\n",
       "      <td>1.0</td>\n",
       "    </tr>\n",
       "    <tr>\n",
       "      <th>1</th>\n",
       "      <td>1.0</td>\n",
       "      <td>331.0</td>\n",
       "      <td>1.0</td>\n",
       "    </tr>\n",
       "    <tr>\n",
       "      <th>2</th>\n",
       "      <td>NaN</td>\n",
       "      <td>NaN</td>\n",
       "      <td>333.0</td>\n",
       "    </tr>\n",
       "  </tbody>\n",
       "</table>\n",
       "</div>"
      ],
      "text/plain": [
       "actual         0      1      2\n",
       "predicted                     \n",
       "0          331.0    2.0    1.0\n",
       "1            1.0  331.0    1.0\n",
       "2            NaN    NaN  333.0"
      ]
     },
     "execution_count": 175,
     "metadata": {},
     "output_type": "execute_result"
    }
   ],
   "source": [
    "yp = np.argmax(classifier.predict(X), axis=1)\n",
    "pd.DataFrame({'predicted':yp, 'actual': y.values}).groupby(['predicted', 'actual']).size().unstack()"
   ]
  },
  {
   "cell_type": "code",
   "execution_count": null,
   "metadata": {
    "collapsed": true
   },
   "outputs": [],
   "source": []
  }
 ],
 "metadata": {
  "kernelspec": {
   "display_name": "Python 3",
   "language": "python",
   "name": "python3"
  },
  "language_info": {
   "codemirror_mode": {
    "name": "ipython",
    "version": 3
   },
   "file_extension": ".py",
   "mimetype": "text/x-python",
   "name": "python",
   "nbconvert_exporter": "python",
   "pygments_lexer": "ipython3",
   "version": "3.5.2"
  }
 },
 "nbformat": 4,
 "nbformat_minor": 0
}
