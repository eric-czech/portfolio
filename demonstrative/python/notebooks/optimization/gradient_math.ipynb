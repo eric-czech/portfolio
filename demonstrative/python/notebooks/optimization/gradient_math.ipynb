{
 "cells": [
  {
   "cell_type": "markdown",
   "metadata": {},
   "source": [
    "# Gradient Math"
   ]
  },
  {
   "cell_type": "markdown",
   "metadata": {},
   "source": [
    "### Ordered Logit"
   ]
  },
  {
   "cell_type": "code",
   "execution_count": 1,
   "metadata": {
    "collapsed": true
   },
   "outputs": [],
   "source": [
    "%run -m ipy_startup"
   ]
  },
  {
   "cell_type": "code",
   "execution_count": null,
   "metadata": {
    "collapsed": true
   },
   "outputs": [],
   "source": [
    "\n",
    "from py_utils.math import sigmoid\n",
    "\n",
    "def f1(aj, ajm1, b, x):\n",
    "    # from https://www.biomedcentral.com/content/supplementary/s12911-015-0133-y-s1.pdf\n",
    "    v1 = np.exp(aj) / (np.exp(aj) - np.exp(ajm1))\n",
    "    v2 = sigmoid(aj + x * b)\n",
    "    return v1 - v2\n",
    "\n",
    "def f2(aj, ajm1, b, x):\n",
    "    # from http://fa.bianp.net/blog/2013/logistic-ordinal-regression/\n",
    "    return sigmoid(aj - x * b) + ( 1 / (1 - np.exp(ajm1 - aj)) ) - 1\n",
    "\n",
    "def f3(aj, ajm1, b, x):\n",
    "    # my derivative\n",
    "    v1 = sigmoid(aj + x * b)\n",
    "    v2 = sigmoid(ajm1 + x * b)\n",
    "    return ( v1 * (1-v1) ) / (v1 - v2)\n",
    "\n",
    "args = [1.1, .8, 2., 1.5]\n",
    "f1(*args), f2(*args), f3(*args)"
   ]
  }
 ],
 "metadata": {
  "kernelspec": {
   "display_name": "Python 3",
   "language": "python",
   "name": "python3"
  },
  "language_info": {
   "codemirror_mode": {
    "name": "ipython",
    "version": 3
   },
   "file_extension": ".py",
   "mimetype": "text/x-python",
   "name": "python",
   "nbconvert_exporter": "python",
   "pygments_lexer": "ipython3",
   "version": "3.5.2"
  }
 },
 "nbformat": 4,
 "nbformat_minor": 2
}
