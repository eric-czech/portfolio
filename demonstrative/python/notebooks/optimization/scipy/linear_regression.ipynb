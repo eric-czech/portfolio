{
 "cells": [
  {
   "cell_type": "markdown",
   "metadata": {
    "deletable": true,
    "editable": true
   },
   "source": [
    "# Linear Regression"
   ]
  },
  {
   "cell_type": "code",
   "execution_count": 1,
   "metadata": {
    "collapsed": true,
    "deletable": true,
    "editable": true
   },
   "outputs": [],
   "source": [
    "%run -m ipy_startup\n",
    "%matplotlib inline\n",
    "from scipy.stats import norm"
   ]
  },
  {
   "cell_type": "code",
   "execution_count": 2,
   "metadata": {
    "collapsed": false,
    "deletable": true,
    "editable": true
   },
   "outputs": [
    {
     "data": {
      "text/plain": [
       "((10000, 10), (10000,))"
      ]
     },
     "execution_count": 2,
     "metadata": {},
     "output_type": "execute_result"
    }
   ],
   "source": [
    "# Generate random data to model\n",
    "np.random.seed(1)\n",
    "n, n_var = 10000, 10\n",
    "positive_only = False\n",
    "#n, n_class, n_var = 10000, 4, 5\n",
    "\n",
    "X = np.random.randn(n, n_var)\n",
    "\n",
    "b_act = np.random.randn(n_var)\n",
    "b_int = -.3\n",
    "\n",
    "ym = b_int + np.dot(X, b_act)\n",
    "\n",
    "y = norm.rvs(ym, .1)\n",
    "if positive_only:\n",
    "    y = np.exp(y)\n",
    "\n",
    "X.shape, y.shape"
   ]
  },
  {
   "cell_type": "code",
   "execution_count": 3,
   "metadata": {
    "collapsed": false,
    "deletable": true,
    "editable": true
   },
   "outputs": [
    {
     "data": {
      "text/plain": [
       "count    10000.000000\n",
       "mean        -0.318699\n",
       "std          2.932502\n",
       "min        -10.235781\n",
       "25%         -2.297516\n",
       "50%         -0.308880\n",
       "75%          1.641000\n",
       "max         11.612354\n",
       "dtype: float64"
      ]
     },
     "execution_count": 3,
     "metadata": {},
     "output_type": "execute_result"
    }
   ],
   "source": [
    "pd.Series(y).describe()"
   ]
  },
  {
   "cell_type": "code",
   "execution_count": 4,
   "metadata": {
    "collapsed": false,
    "deletable": true,
    "editable": true
   },
   "outputs": [],
   "source": [
    "from ml.scipy import optimize, models\n",
    "from ml.sklearn.preprocessing import MeanScaler\n",
    "\n",
    "param_names = ['X{}'.format(i) for i in range(n_var)]\n",
    "constraints = optimize.ScipyConstraints()\n",
    "lam = 5.\n",
    "constraints.add_l2_regularization(param_names, lam)\n",
    "#constraints.add_l2_regularization(param_names[5:], 10.)\n",
    "constraints.add_gtez('X0')\n",
    "constraints.add_gte('X0', 'X1')\n",
    "# constraints.add_gte('X0', 'X2')\n",
    "# constraints.add_gte('X2', 'X3')\n",
    "#constraints.add_gtev('X4', 5.0)\n",
    "\n",
    "\n",
    "model = (\n",
    "    models.ScipyLinearRegressionModelBuilder()\n",
    "    .add_linear_params(param_names)\n",
    "    .add_intercept()\n",
    "#     .set_y_scaler(MeanScaler())\n",
    "    .add_constraints(constraints)\n",
    "    .build()\n",
    ")\n"
   ]
  },
  {
   "cell_type": "code",
   "execution_count": 5,
   "metadata": {
    "collapsed": false,
    "deletable": true,
    "editable": true
   },
   "outputs": [
    {
     "name": "stdout",
     "output_type": "stream",
     "text": [
      "CPU times: user 49.2 ms, sys: 9.92 ms, total: 59.2 ms\n",
      "Wall time: 15.7 ms\n"
     ]
    }
   ],
   "source": [
    "%%time\n",
    "est = optimize.ScipyRegressor(model, analytical_gradients=True, monitor_gradient=True, raise_on_failure=False)\n",
    "est.fit(X, y)"
   ]
  },
  {
   "cell_type": "code",
   "execution_count": 6,
   "metadata": {
    "collapsed": false,
    "deletable": true,
    "editable": true
   },
   "outputs": [
    {
     "name": "stdout",
     "output_type": "stream",
     "text": [
      "Optimization converged successfully:\n",
      "\n",
      "    Success: True\n",
      "    Status Code: 0\n",
      "    Message: Optimization terminated successfully.\n",
      "    Number of iterations: 4\n",
      "    Number of function evaluations: 7\n",
      "    Objective Function Value: 5.514360274591712\n",
      "    \n"
     ]
    }
   ],
   "source": [
    "print(est.get_fit_summary())"
   ]
  },
  {
   "cell_type": "code",
   "execution_count": 7,
   "metadata": {
    "collapsed": false,
    "deletable": true,
    "editable": true
   },
   "outputs": [
    {
     "data": {
      "text/plain": [
       "array([  2.56533251e-07,   1.68283908e-07,   2.53144707e-07,\n",
       "         1.15702741e-07])"
      ]
     },
     "execution_count": 7,
     "metadata": {},
     "output_type": "execute_result"
    }
   ],
   "source": [
    "est.get_gradient_error_history()"
   ]
  },
  {
   "cell_type": "code",
   "execution_count": 8,
   "metadata": {
    "collapsed": false,
    "deletable": true,
    "editable": true
   },
   "outputs": [
    {
     "data": {
      "text/plain": [
       "     fun: 5.514360274591712\n",
       "     jac: array([ -3.22217476e-06,   4.55271352e+00,  -1.26600154e+00,\n",
       "         3.97939137e-06,  -1.43251387e-05,   4.56713756e-06,\n",
       "         8.47990125e-06,  -2.41997551e-06,   1.12047814e-05,\n",
       "        -2.57841110e-06,  -3.41877371e-06])\n",
       " message: 'Optimization terminated successfully.'\n",
       "    nfev: 7\n",
       "     nit: 4\n",
       "    njev: 4\n",
       "  status: 0\n",
       " success: True\n",
       "       x: array([ -3.27721013e-01,   5.73606039e-15,  -4.27711499e-16,\n",
       "         1.21126669e+00,   3.24335133e-01,   3.63612627e-02,\n",
       "         6.47988089e-01,   2.64856645e-01,  -1.92368828e-01,\n",
       "         3.85175509e-01,   9.07148871e-01])"
      ]
     },
     "execution_count": 8,
     "metadata": {},
     "output_type": "execute_result"
    }
   ],
   "source": [
    "est.fit_"
   ]
  },
  {
   "cell_type": "code",
   "execution_count": 9,
   "metadata": {
    "collapsed": false,
    "deletable": true,
    "editable": true
   },
   "outputs": [
    {
     "data": {
      "text/plain": [
       "{'linear': OrderedDict([('X0', 5.7360603920000845e-15), ('X1', -4.2771149906512107e-16), ('X2', 1.2112666941773342), ('X3', 0.3243351330499572), ('X4', 0.036361262659349788), ('X5', 0.64798808903480343), ('X6', 0.26485664455456831), ('X7', -0.19236882801001329), ('X8', 0.38517550946595852), ('X9', 0.90714887139014078)]), 'fit': OrderedDict(), 'intercept': OrderedDict([('intercept', -0.32772101309997137)])}"
      ]
     },
     "execution_count": 9,
     "metadata": {},
     "output_type": "execute_result"
    }
   ],
   "source": [
    "d_inf = est.inference()\n",
    "d_inf"
   ]
  },
  {
   "cell_type": "code",
   "execution_count": 11,
   "metadata": {
    "collapsed": false
   },
   "outputs": [
    {
     "data": {
      "text/plain": [
       "X0    9.317343e-15\n",
       "X1    2.616553e-16\n",
       "X2   -6.397569e-01\n",
       "X3   -3.480014e-01\n",
       "X4    3.146731e-02\n",
       "X5   -1.491370e+00\n",
       "X6    4.621250e-01\n",
       "X7    1.464325e-01\n",
       "X8    1.228860e-01\n",
       "X9   -2.262161e-01\n",
       "dtype: float64"
      ]
     },
     "execution_count": 11,
     "metadata": {},
     "output_type": "execute_result"
    }
   ],
   "source": [
    "est.influence(d_inf, pd.DataFrame(X).add_prefix('X').iloc[0])"
   ]
  },
  {
   "cell_type": "code",
   "execution_count": 48,
   "metadata": {
    "collapsed": false,
    "deletable": true,
    "editable": true
   },
   "outputs": [
    {
     "data": {
      "text/plain": [
       "(-0.3, intercept    60.376251\n",
       " dtype: float64)"
      ]
     },
     "execution_count": 48,
     "metadata": {},
     "output_type": "execute_result"
    }
   ],
   "source": [
    "b_int, d_inf['intercept']"
   ]
  },
  {
   "cell_type": "code",
   "execution_count": 49,
   "metadata": {
    "collapsed": false,
    "deletable": true,
    "editable": true
   },
   "outputs": [
    {
     "data": {
      "text/html": [
       "<div>\n",
       "<style>\n",
       "    .dataframe thead tr:only-child th {\n",
       "        text-align: right;\n",
       "    }\n",
       "\n",
       "    .dataframe thead th {\n",
       "        text-align: left;\n",
       "    }\n",
       "\n",
       "    .dataframe tbody tr th {\n",
       "        vertical-align: top;\n",
       "    }\n",
       "</style>\n",
       "<table border=\"1\" class=\"dataframe\">\n",
       "  <thead>\n",
       "    <tr style=\"text-align: right;\">\n",
       "      <th></th>\n",
       "      <th>actual</th>\n",
       "      <th>est</th>\n",
       "    </tr>\n",
       "  </thead>\n",
       "  <tbody>\n",
       "    <tr>\n",
       "      <th>X0</th>\n",
       "      <td>-2.252118</td>\n",
       "      <td>3.153181e-13</td>\n",
       "    </tr>\n",
       "    <tr>\n",
       "      <th>X1</th>\n",
       "      <td>0.605687</td>\n",
       "      <td>-1.007820e-13</td>\n",
       "    </tr>\n",
       "    <tr>\n",
       "      <th>X2</th>\n",
       "      <td>1.183385</td>\n",
       "      <td>7.417174e+01</td>\n",
       "    </tr>\n",
       "    <tr>\n",
       "      <th>X3</th>\n",
       "      <td>0.328989</td>\n",
       "      <td>3.233524e+01</td>\n",
       "    </tr>\n",
       "    <tr>\n",
       "      <th>X4</th>\n",
       "      <td>0.063897</td>\n",
       "      <td>1.187035e+01</td>\n",
       "    </tr>\n",
       "    <tr>\n",
       "      <th>X5</th>\n",
       "      <td>0.656272</td>\n",
       "      <td>3.507556e+01</td>\n",
       "    </tr>\n",
       "    <tr>\n",
       "      <th>X6</th>\n",
       "      <td>0.229844</td>\n",
       "      <td>9.506805e+00</td>\n",
       "    </tr>\n",
       "    <tr>\n",
       "      <th>X7</th>\n",
       "      <td>-0.176799</td>\n",
       "      <td>-2.228239e+01</td>\n",
       "    </tr>\n",
       "    <tr>\n",
       "      <th>X8</th>\n",
       "      <td>0.396847</td>\n",
       "      <td>3.198034e+01</td>\n",
       "    </tr>\n",
       "    <tr>\n",
       "      <th>X9</th>\n",
       "      <td>0.938709</td>\n",
       "      <td>5.580360e+01</td>\n",
       "    </tr>\n",
       "  </tbody>\n",
       "</table>\n",
       "</div>"
      ],
      "text/plain": [
       "      actual           est\n",
       "X0 -2.252118  3.153181e-13\n",
       "X1  0.605687 -1.007820e-13\n",
       "X2  1.183385  7.417174e+01\n",
       "X3  0.328989  3.233524e+01\n",
       "X4  0.063897  1.187035e+01\n",
       "X5  0.656272  3.507556e+01\n",
       "X6  0.229844  9.506805e+00\n",
       "X7 -0.176799 -2.228239e+01\n",
       "X8  0.396847  3.198034e+01\n",
       "X9  0.938709  5.580360e+01"
      ]
     },
     "execution_count": 49,
     "metadata": {},
     "output_type": "execute_result"
    }
   ],
   "source": [
    "pd.DataFrame({'actual': b_act, 'est': d_inf['linear']})"
   ]
  },
  {
   "cell_type": "code",
   "execution_count": 129,
   "metadata": {
    "collapsed": false,
    "deletable": true,
    "editable": true
   },
   "outputs": [
    {
     "data": {
      "text/plain": [
       "0.62184922973156098"
      ]
     },
     "execution_count": 129,
     "metadata": {},
     "output_type": "execute_result"
    }
   ],
   "source": [
    "# Use this: https://stats.stackexchange.com/questions/190993/how-to-find-regression-coefficients-beta-in-ridge-regression\n",
    "# to see if there is some way to figure out what alpha should be for ridge (based on lambda above) \n",
    "# to make estimates the same (and check that they are equivalent)\n",
    "# *Answer = This doesn't seem to work -- coefs don't come out the same\n",
    "\n",
    "from sklearn.linear_model import LinearRegression\n",
    "est_lin = LinearRegression(fit_intercept=False).fit(X, y)\n",
    "alpha = np.sqrt(np.dot(est_lin.coef_, est_lin.coef_) / lam) - 1\n",
    "print('alpha = ', alpha)\n",
    "\n",
    "from sklearn.linear_model import Ridge\n",
    "est_ridge = Ridge(alpha=alpha, fit_intercept=False).fit(X, y)\n",
    "est_ridge.coef_"
   ]
  },
  {
   "cell_type": "code",
   "execution_count": 131,
   "metadata": {
    "collapsed": true,
    "deletable": true,
    "editable": true
   },
   "outputs": [],
   "source": [
    "def compare(v_est, v_act):\n",
    "    plt.scatter(v_est, v_act)\n",
    "    vmin, vmax = v_act.min(), v_act.max()\n",
    "    plt.xlim(vmin - .1, vmax + .1)\n",
    "    plt.ylim(vmin - .1, vmax + .1)"
   ]
  },
  {
   "cell_type": "code",
   "execution_count": 132,
   "metadata": {
    "collapsed": false,
    "deletable": true,
    "editable": true
   },
   "outputs": [
    {
     "data": {
      "image/png": "[encoded data removed]",
      "text/plain": [
       "<matplotlib.figure.Figure at 0x116337978>"
      ]
     },
     "metadata": {},
     "output_type": "display_data"
    }
   ],
   "source": [
    "compare(pd.Series(d_inf['linear']), b_act)"
   ]
  },
  {
   "cell_type": "code",
   "execution_count": 48,
   "metadata": {
    "collapsed": false,
    "deletable": true,
    "editable": true
   },
   "outputs": [
    {
     "data": {
      "text/plain": [
       "<matplotlib.axes._subplots.AxesSubplot at 0x1145546a0>"
      ]
     },
     "execution_count": 48,
     "metadata": {},
     "output_type": "execute_result"
    },
    {
     "data": {
      "image/png": "[encoded data removed]",
      "text/plain": [
       "<matplotlib.figure.Figure at 0x114567c18>"
      ]
     },
     "metadata": {},
     "output_type": "display_data"
    }
   ],
   "source": [
    "pd.DataFrame({\n",
    "    'predicted': est.predict(X),\n",
    "    'actual': y\n",
    "}).plot(kind='scatter', x='predicted', y='actual')"
   ]
  },
  {
   "cell_type": "code",
   "execution_count": 49,
   "metadata": {
    "collapsed": false,
    "deletable": true,
    "editable": true
   },
   "outputs": [
    {
     "data": {
      "text/plain": [
       "<matplotlib.axes._subplots.AxesSubplot at 0x114c026d8>"
      ]
     },
     "execution_count": 49,
     "metadata": {},
     "output_type": "execute_result"
    },
    {
     "data": {
      "image/png": "[encoded data removed]",
      "text/plain": [
       "<matplotlib.figure.Figure at 0x11462c5f8>"
      ]
     },
     "metadata": {},
     "output_type": "display_data"
    }
   ],
   "source": [
    "#from sklearn.linear_model import LogisticRegression\n",
    "from sklearn.ensemble import GradientBoostingRegressor\n",
    "pd.DataFrame({\n",
    "    'predicted': GradientBoostingRegressor().fit(X, y).predict(X),\n",
    "    'actual': y\n",
    "}).plot(kind='scatter', x='predicted', y='actual')"
   ]
  },
  {
   "cell_type": "code",
   "execution_count": null,
   "metadata": {
    "collapsed": true,
    "deletable": true,
    "editable": true
   },
   "outputs": [],
   "source": []
  }
 ],
 "metadata": {
  "kernelspec": {
   "display_name": "Python 3",
   "language": "python",
   "name": "python3"
  },
  "language_info": {
   "codemirror_mode": {
    "name": "ipython",
    "version": 3
   },
   "file_extension": ".py",
   "mimetype": "text/x-python",
   "name": "python",
   "nbconvert_exporter": "python",
   "pygments_lexer": "ipython3",
   "version": "3.5.2"
  }
 },
 "nbformat": 4,
 "nbformat_minor": 2
}
