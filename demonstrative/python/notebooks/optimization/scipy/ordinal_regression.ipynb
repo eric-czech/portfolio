{
 "cells": [
  {
   "cell_type": "markdown",
   "metadata": {},
   "source": [
    "# Ordinal Regression"
   ]
  },
  {
   "cell_type": "code",
   "execution_count": 1,
   "metadata": {
    "collapsed": true
   },
   "outputs": [],
   "source": [
    "%run -m ipy_startup\n",
    "%matplotlib inline\n",
    "from py_utils import math"
   ]
  },
  {
   "cell_type": "code",
   "execution_count": 2,
   "metadata": {
    "collapsed": false
   },
   "outputs": [
    {
     "data": {
      "text/plain": [
       "((10000, 4), (10000,))"
      ]
     },
     "execution_count": 2,
     "metadata": {},
     "output_type": "execute_result"
    }
   ],
   "source": [
    "# Generate random data to model\n",
    "np.random.seed(1)\n",
    "n, n_class, n_var = 10000, 5, 4\n",
    "#n, n_class, n_var = 10000, 4, 5\n",
    "\n",
    "X = np.random.randn(n, n_var)\n",
    "\n",
    "b_act = np.random.randn(n_var)\n",
    "#b_out = np.sort(np.random.randn(n_class-1))\n",
    "b_out = np.linspace(-2, 2, n_class-1)\n",
    "y_logit = np.dot(X, b_act)[:, np.newaxis]\n",
    "p = y_logit + np.tile(b_out, (n, 1))\n",
    "p = math.sigmoid(p)\n",
    "p = np.hstack((np.zeros((n, 1)), p, np.ones((n, 1))))\n",
    "p = np.diff(p, axis=1)\n",
    "\n",
    "y_vals = np.arange(1, n_class + 1)\n",
    "assert len(y_vals) == p.shape[1]\n",
    "\n",
    "y = np.array([np.random.choice(y_vals, size=1, p=p[i])[0] for i in range(n)])\n",
    "\n",
    "X.shape, y.shape"
   ]
  },
  {
   "cell_type": "code",
   "execution_count": 3,
   "metadata": {
    "collapsed": false
   },
   "outputs": [
    {
     "data": {
      "text/plain": [
       "array([-2.        , -0.66666667,  0.66666667,  2.        ])"
      ]
     },
     "execution_count": 3,
     "metadata": {},
     "output_type": "execute_result"
    }
   ],
   "source": [
    "b_out"
   ]
  },
  {
   "cell_type": "code",
   "execution_count": 4,
   "metadata": {
    "collapsed": false
   },
   "outputs": [
    {
     "data": {
      "text/plain": [
       "1    3011\n",
       "5    2837\n",
       "3    1447\n",
       "4    1372\n",
       "2    1333\n",
       "dtype: int64"
      ]
     },
     "execution_count": 4,
     "metadata": {},
     "output_type": "execute_result"
    }
   ],
   "source": [
    "pd.Series(y).value_counts()"
   ]
  },
  {
   "cell_type": "code",
   "execution_count": 5,
   "metadata": {
    "collapsed": false
   },
   "outputs": [],
   "source": [
    "from ml.scipy import optimize, models\n",
    "param_names = ['X{}'.format(i) for i in range(n_var)]\n",
    "constraints = optimize.ScipyConstraints()\n",
    "#constraints.add_gtez('X0')\n",
    "# constraints.add_gte('X1', 'X8')\n",
    "# constraints.add_gte('X2', 'X9')\n",
    "# constraints.add_gte('X3', 'X10')\n",
    "# constraints.add_gte('X4', 'X11')\n",
    "# constraints.add_gte('X5', 'X12')\n",
    "# constraints.add_gte('X6', 'X13')\n",
    "#constraints.add_gtev('X1', 5.0)\n",
    "\n",
    "model = (\n",
    "    models.ScipyOrdinalRegressionModelBuilder()\n",
    "    .add_linear_params(param_names)\n",
    "    .add_outcome_intercepts(n_class)\n",
    "    .build()\n",
    ")\n"
   ]
  },
  {
   "cell_type": "code",
   "execution_count": 6,
   "metadata": {
    "collapsed": false
   },
   "outputs": [
    {
     "name": "stdout",
     "output_type": "stream",
     "text": [
      "CPU times: user 32.3 s, sys: 601 ms, total: 32.9 s\n",
      "Wall time: 19.2 s\n"
     ]
    }
   ],
   "source": [
    "%%time\n",
    "est = optimize.ScipyRegressor(model, analytical_gradients=True, check_gradient=True)\n",
    "est.fit(X, y)"
   ]
  },
  {
   "cell_type": "code",
   "execution_count": 7,
   "metadata": {
    "collapsed": false
   },
   "outputs": [
    {
     "name": "stdout",
     "output_type": "stream",
     "text": [
      "Optimization converged successfully:\n",
      "\n",
      "    Success: True\n",
      "    Status Code: 0\n",
      "    Message: Optimization terminated successfully.\n",
      "    Number of iterations: 21\n",
      "    Number of function evaluations: 24\n",
      "    Objective Function Value: 0.9745157498875303\n",
      "    \n"
     ]
    }
   ],
   "source": [
    "print(est.get_fit_summary())"
   ]
  },
  {
   "cell_type": "code",
   "execution_count": 8,
   "metadata": {
    "collapsed": false
   },
   "outputs": [
    {
     "data": {
      "text/html": [
       "<div>\n",
       "<style>\n",
       "    .dataframe thead tr:only-child th {\n",
       "        text-align: right;\n",
       "    }\n",
       "\n",
       "    .dataframe thead th {\n",
       "        text-align: left;\n",
       "    }\n",
       "\n",
       "    .dataframe tbody tr th {\n",
       "        vertical-align: top;\n",
       "    }\n",
       "</style>\n",
       "<table border=\"1\" class=\"dataframe\">\n",
       "  <thead>\n",
       "    <tr style=\"text-align: right;\">\n",
       "      <th></th>\n",
       "      <th>error</th>\n",
       "      <th>parameters</th>\n",
       "    </tr>\n",
       "  </thead>\n",
       "  <tbody>\n",
       "    <tr>\n",
       "      <th>0</th>\n",
       "      <td>4.395770e-08</td>\n",
       "      <td>[0.0682105772189, -0.179323626614, 0.222350392...</td>\n",
       "    </tr>\n",
       "    <tr>\n",
       "      <th>1</th>\n",
       "      <td>1.085764e-07</td>\n",
       "      <td>[0.116390509719, -0.302561345192, 0.3771157765...</td>\n",
       "    </tr>\n",
       "    <tr>\n",
       "      <th>2</th>\n",
       "      <td>6.109178e-08</td>\n",
       "      <td>[0.162156986503, -0.419739550111, 0.5255665018...</td>\n",
       "    </tr>\n",
       "    <tr>\n",
       "      <th>3</th>\n",
       "      <td>3.114654e-08</td>\n",
       "      <td>[0.398862138577, -1.03723819432, 1.31249250401...</td>\n",
       "    </tr>\n",
       "    <tr>\n",
       "      <th>4</th>\n",
       "      <td>1.437393e-08</td>\n",
       "      <td>[0.488369572228, -1.27884098599, 1.62801451097...</td>\n",
       "    </tr>\n",
       "    <tr>\n",
       "      <th>5</th>\n",
       "      <td>1.944122e-08</td>\n",
       "      <td>[0.572494240522, -1.51215891104, 1.93756522844...</td>\n",
       "    </tr>\n",
       "    <tr>\n",
       "      <th>6</th>\n",
       "      <td>4.727905e-08</td>\n",
       "      <td>[0.630375826347, -1.67807603041, 2.16173351131...</td>\n",
       "    </tr>\n",
       "    <tr>\n",
       "      <th>7</th>\n",
       "      <td>2.275784e-08</td>\n",
       "      <td>[0.683259896001, -1.83593225387, 2.37967927175...</td>\n",
       "    </tr>\n",
       "    <tr>\n",
       "      <th>8</th>\n",
       "      <td>2.832861e-08</td>\n",
       "      <td>[0.714195546208, -1.93621108377, 2.52406557117...</td>\n",
       "    </tr>\n",
       "    <tr>\n",
       "      <th>9</th>\n",
       "      <td>3.003764e-08</td>\n",
       "      <td>[0.709171247306, -1.93205022401, 2.52692206222...</td>\n",
       "    </tr>\n",
       "    <tr>\n",
       "      <th>10</th>\n",
       "      <td>1.106058e-08</td>\n",
       "      <td>[0.683716111805, -1.85701096796, 2.42517864207...</td>\n",
       "    </tr>\n",
       "    <tr>\n",
       "      <th>11</th>\n",
       "      <td>1.534164e-08</td>\n",
       "      <td>[0.671013244159, -1.81148519952, 2.35768968902...</td>\n",
       "    </tr>\n",
       "    <tr>\n",
       "      <th>12</th>\n",
       "      <td>9.983437e-09</td>\n",
       "      <td>[0.665808161666, -1.78499471989, 2.31403794214...</td>\n",
       "    </tr>\n",
       "    <tr>\n",
       "      <th>13</th>\n",
       "      <td>2.793981e-08</td>\n",
       "      <td>[0.66728431507, -1.78056477297, 2.30210814544,...</td>\n",
       "    </tr>\n",
       "    <tr>\n",
       "      <th>14</th>\n",
       "      <td>2.158236e-08</td>\n",
       "      <td>[0.672391792349, -1.78453795515, 2.30012710158...</td>\n",
       "    </tr>\n",
       "    <tr>\n",
       "      <th>15</th>\n",
       "      <td>1.555414e-08</td>\n",
       "      <td>[0.677550482637, -1.79310804078, 2.30736416354...</td>\n",
       "    </tr>\n",
       "    <tr>\n",
       "      <th>16</th>\n",
       "      <td>2.135285e-08</td>\n",
       "      <td>[0.679145502374, -1.79829710555, 2.31469061655...</td>\n",
       "    </tr>\n",
       "    <tr>\n",
       "      <th>17</th>\n",
       "      <td>2.504352e-08</td>\n",
       "      <td>[0.678256391981, -1.79896433223, 2.31769198418...</td>\n",
       "    </tr>\n",
       "    <tr>\n",
       "      <th>18</th>\n",
       "      <td>8.760441e-09</td>\n",
       "      <td>[0.676143970303, -1.79738682176, 2.31850759166...</td>\n",
       "    </tr>\n",
       "    <tr>\n",
       "      <th>19</th>\n",
       "      <td>2.117346e-08</td>\n",
       "      <td>[0.67424014392, -1.7949715836, 2.31726526712, ...</td>\n",
       "    </tr>\n",
       "    <tr>\n",
       "      <th>20</th>\n",
       "      <td>2.117346e-08</td>\n",
       "      <td>[0.67424014392, -1.7949715836, 2.31726526712, ...</td>\n",
       "    </tr>\n",
       "  </tbody>\n",
       "</table>\n",
       "</div>"
      ],
      "text/plain": [
       "           error                                         parameters\n",
       "0   4.395770e-08  [0.0682105772189, -0.179323626614, 0.222350392...\n",
       "1   1.085764e-07  [0.116390509719, -0.302561345192, 0.3771157765...\n",
       "2   6.109178e-08  [0.162156986503, -0.419739550111, 0.5255665018...\n",
       "3   3.114654e-08  [0.398862138577, -1.03723819432, 1.31249250401...\n",
       "4   1.437393e-08  [0.488369572228, -1.27884098599, 1.62801451097...\n",
       "5   1.944122e-08  [0.572494240522, -1.51215891104, 1.93756522844...\n",
       "6   4.727905e-08  [0.630375826347, -1.67807603041, 2.16173351131...\n",
       "7   2.275784e-08  [0.683259896001, -1.83593225387, 2.37967927175...\n",
       "8   2.832861e-08  [0.714195546208, -1.93621108377, 2.52406557117...\n",
       "9   3.003764e-08  [0.709171247306, -1.93205022401, 2.52692206222...\n",
       "10  1.106058e-08  [0.683716111805, -1.85701096796, 2.42517864207...\n",
       "11  1.534164e-08  [0.671013244159, -1.81148519952, 2.35768968902...\n",
       "12  9.983437e-09  [0.665808161666, -1.78499471989, 2.31403794214...\n",
       "13  2.793981e-08  [0.66728431507, -1.78056477297, 2.30210814544,...\n",
       "14  2.158236e-08  [0.672391792349, -1.78453795515, 2.30012710158...\n",
       "15  1.555414e-08  [0.677550482637, -1.79310804078, 2.30736416354...\n",
       "16  2.135285e-08  [0.679145502374, -1.79829710555, 2.31469061655...\n",
       "17  2.504352e-08  [0.678256391981, -1.79896433223, 2.31769198418...\n",
       "18  8.760441e-09  [0.676143970303, -1.79738682176, 2.31850759166...\n",
       "19  2.117346e-08  [0.67424014392, -1.7949715836, 2.31726526712, ...\n",
       "20  2.117346e-08  [0.67424014392, -1.7949715836, 2.31726526712, ..."
      ]
     },
     "execution_count": 8,
     "metadata": {},
     "output_type": "execute_result"
    }
   ],
   "source": [
    "est.get_gradient_comparison()"
   ]
  },
  {
   "cell_type": "code",
   "execution_count": 75,
   "metadata": {
    "collapsed": false
   },
   "outputs": [
    {
     "data": {
      "text/html": [
       "<div>\n",
       "<style>\n",
       "    .dataframe thead tr:only-child th {\n",
       "        text-align: right;\n",
       "    }\n",
       "\n",
       "    .dataframe thead th {\n",
       "        text-align: left;\n",
       "    }\n",
       "\n",
       "    .dataframe tbody tr th {\n",
       "        vertical-align: top;\n",
       "    }\n",
       "</style>\n",
       "<table border=\"1\" class=\"dataframe\">\n",
       "  <thead>\n",
       "    <tr style=\"text-align: right;\">\n",
       "      <th></th>\n",
       "      <th>error</th>\n",
       "      <th>parameters</th>\n",
       "    </tr>\n",
       "  </thead>\n",
       "  <tbody>\n",
       "    <tr>\n",
       "      <th>0</th>\n",
       "      <td>1.284255e-06</td>\n",
       "      <td>[0.0682105772189, -0.179323626614, 0.222350392...</td>\n",
       "    </tr>\n",
       "    <tr>\n",
       "      <th>1</th>\n",
       "      <td>3.581825e-07</td>\n",
       "      <td>[0.116390509719, -0.302561345192, 0.3771157765...</td>\n",
       "    </tr>\n",
       "    <tr>\n",
       "      <th>2</th>\n",
       "      <td>7.312830e-07</td>\n",
       "      <td>[0.162156986503, -0.419739550111, 0.5255665018...</td>\n",
       "    </tr>\n",
       "    <tr>\n",
       "      <th>3</th>\n",
       "      <td>3.659264e-07</td>\n",
       "      <td>[0.398862138577, -1.03723819432, 1.31249250401...</td>\n",
       "    </tr>\n",
       "    <tr>\n",
       "      <th>4</th>\n",
       "      <td>2.775195e-07</td>\n",
       "      <td>[0.488369572228, -1.27884098599, 1.62801451097...</td>\n",
       "    </tr>\n",
       "    <tr>\n",
       "      <th>5</th>\n",
       "      <td>6.350871e-07</td>\n",
       "      <td>[0.572494240522, -1.51215891104, 1.93756522844...</td>\n",
       "    </tr>\n",
       "    <tr>\n",
       "      <th>6</th>\n",
       "      <td>5.330318e-07</td>\n",
       "      <td>[0.630375826347, -1.67807603041, 2.16173351131...</td>\n",
       "    </tr>\n",
       "    <tr>\n",
       "      <th>7</th>\n",
       "      <td>9.931508e-07</td>\n",
       "      <td>[0.683259896001, -1.83593225387, 2.37967927175...</td>\n",
       "    </tr>\n",
       "    <tr>\n",
       "      <th>8</th>\n",
       "      <td>4.860502e-07</td>\n",
       "      <td>[0.714195546208, -1.93621108377, 2.52406557117...</td>\n",
       "    </tr>\n",
       "    <tr>\n",
       "      <th>9</th>\n",
       "      <td>4.599654e-07</td>\n",
       "      <td>[0.709171247306, -1.93205022401, 2.52692206222...</td>\n",
       "    </tr>\n",
       "    <tr>\n",
       "      <th>10</th>\n",
       "      <td>6.395953e-07</td>\n",
       "      <td>[0.683716111805, -1.85701096796, 2.42517864207...</td>\n",
       "    </tr>\n",
       "    <tr>\n",
       "      <th>11</th>\n",
       "      <td>4.163509e-07</td>\n",
       "      <td>[0.671013244159, -1.81148519952, 2.35768968902...</td>\n",
       "    </tr>\n",
       "    <tr>\n",
       "      <th>12</th>\n",
       "      <td>5.641364e-07</td>\n",
       "      <td>[0.665808161666, -1.78499471989, 2.31403794214...</td>\n",
       "    </tr>\n",
       "    <tr>\n",
       "      <th>13</th>\n",
       "      <td>4.029399e-07</td>\n",
       "      <td>[0.66728431507, -1.78056477297, 2.30210814544,...</td>\n",
       "    </tr>\n",
       "    <tr>\n",
       "      <th>14</th>\n",
       "      <td>6.127576e-07</td>\n",
       "      <td>[0.672391792349, -1.78453795515, 2.30012710158...</td>\n",
       "    </tr>\n",
       "    <tr>\n",
       "      <th>15</th>\n",
       "      <td>1.130889e-06</td>\n",
       "      <td>[0.677550482637, -1.79310804078, 2.30736416354...</td>\n",
       "    </tr>\n",
       "    <tr>\n",
       "      <th>16</th>\n",
       "      <td>5.078414e-07</td>\n",
       "      <td>[0.679145502374, -1.79829710555, 2.31469061655...</td>\n",
       "    </tr>\n",
       "    <tr>\n",
       "      <th>17</th>\n",
       "      <td>3.521045e-07</td>\n",
       "      <td>[0.678256391981, -1.79896433223, 2.31769198418...</td>\n",
       "    </tr>\n",
       "    <tr>\n",
       "      <th>18</th>\n",
       "      <td>4.790007e-07</td>\n",
       "      <td>[0.676143970303, -1.79738682176, 2.31850759166...</td>\n",
       "    </tr>\n",
       "    <tr>\n",
       "      <th>19</th>\n",
       "      <td>3.204585e-07</td>\n",
       "      <td>[0.67424014392, -1.7949715836, 2.31726526712, ...</td>\n",
       "    </tr>\n",
       "    <tr>\n",
       "      <th>20</th>\n",
       "      <td>3.204585e-07</td>\n",
       "      <td>[0.67424014392, -1.7949715836, 2.31726526712, ...</td>\n",
       "    </tr>\n",
       "  </tbody>\n",
       "</table>\n",
       "</div>"
      ],
      "text/plain": [
       "           error                                         parameters\n",
       "0   1.284255e-06  [0.0682105772189, -0.179323626614, 0.222350392...\n",
       "1   3.581825e-07  [0.116390509719, -0.302561345192, 0.3771157765...\n",
       "2   7.312830e-07  [0.162156986503, -0.419739550111, 0.5255665018...\n",
       "3   3.659264e-07  [0.398862138577, -1.03723819432, 1.31249250401...\n",
       "4   2.775195e-07  [0.488369572228, -1.27884098599, 1.62801451097...\n",
       "5   6.350871e-07  [0.572494240522, -1.51215891104, 1.93756522844...\n",
       "6   5.330318e-07  [0.630375826347, -1.67807603041, 2.16173351131...\n",
       "7   9.931508e-07  [0.683259896001, -1.83593225387, 2.37967927175...\n",
       "8   4.860502e-07  [0.714195546208, -1.93621108377, 2.52406557117...\n",
       "9   4.599654e-07  [0.709171247306, -1.93205022401, 2.52692206222...\n",
       "10  6.395953e-07  [0.683716111805, -1.85701096796, 2.42517864207...\n",
       "11  4.163509e-07  [0.671013244159, -1.81148519952, 2.35768968902...\n",
       "12  5.641364e-07  [0.665808161666, -1.78499471989, 2.31403794214...\n",
       "13  4.029399e-07  [0.66728431507, -1.78056477297, 2.30210814544,...\n",
       "14  6.127576e-07  [0.672391792349, -1.78453795515, 2.30012710158...\n",
       "15  1.130889e-06  [0.677550482637, -1.79310804078, 2.30736416354...\n",
       "16  5.078414e-07  [0.679145502374, -1.79829710555, 2.31469061655...\n",
       "17  3.521045e-07  [0.678256391981, -1.79896433223, 2.31769198418...\n",
       "18  4.790007e-07  [0.676143970303, -1.79738682176, 2.31850759166...\n",
       "19  3.204585e-07  [0.67424014392, -1.7949715836, 2.31726526712, ...\n",
       "20  3.204585e-07  [0.67424014392, -1.7949715836, 2.31726526712, ..."
      ]
     },
     "execution_count": 75,
     "metadata": {},
     "output_type": "execute_result"
    }
   ],
   "source": [
    "est.get_gradient_comparison()"
   ]
  },
  {
   "cell_type": "code",
   "execution_count": 9,
   "metadata": {
    "collapsed": false
   },
   "outputs": [
    {
     "data": {
      "text/plain": [
       "     fun: 0.9745157498875303\n",
       "     jac: array([ -1.06188969e-04,   6.54336690e-05,   4.29177837e-05,\n",
       "        -1.68795692e-06,   4.59328135e-05,   3.53401889e-05,\n",
       "         7.62154584e-05,   3.49002720e-04])\n",
       " message: 'Optimization terminated successfully.'\n",
       "    nfev: 24\n",
       "     nit: 21\n",
       "    njev: 21\n",
       "  status: 0\n",
       " success: True\n",
       "       x: array([ 0.67424014, -1.79497158,  2.31726527,  1.31418292, -2.02124262,\n",
       "       -0.67701529,  0.68733554,  2.07735594])"
      ]
     },
     "execution_count": 9,
     "metadata": {},
     "output_type": "execute_result"
    }
   ],
   "source": [
    "est.fit_"
   ]
  },
  {
   "cell_type": "code",
   "execution_count": 10,
   "metadata": {
    "collapsed": false
   },
   "outputs": [
    {
     "data": {
      "text/plain": [
       "{'intercepts': OrderedDict([('Outcome:1', -2.0212426226703957), ('Outcome:2', -0.67701529378108161), ('Outcome:3', 0.68733553909795453), ('Outcome:4', 2.0773559405486695)]), 'linear': OrderedDict([('X0', 0.6742401439198209), ('X1', -1.7949715836039617), ('X2', 2.317265267124466), ('X3', 1.3141829226090704)]), 'fit': OrderedDict()}"
      ]
     },
     "execution_count": 10,
     "metadata": {},
     "output_type": "execute_result"
    }
   ],
   "source": [
    "d_inf = est.inference()\n",
    "d_inf"
   ]
  },
  {
   "cell_type": "code",
   "execution_count": 11,
   "metadata": {
    "collapsed": false
   },
   "outputs": [
    {
     "data": {
      "text/plain": [
       "array([ 0.65018006, -1.76494683,  2.29100388,  1.3242936 ])"
      ]
     },
     "execution_count": 11,
     "metadata": {},
     "output_type": "execute_result"
    }
   ],
   "source": [
    "b_act"
   ]
  },
  {
   "cell_type": "code",
   "execution_count": 12,
   "metadata": {
    "collapsed": true
   },
   "outputs": [],
   "source": [
    "def compare(v_est, v_act):\n",
    "    plt.scatter(v_est, v_act)\n",
    "    vmin, vmax = v_act.min(), v_act.max()\n",
    "    plt.xlim(vmin - .1, vmax + .1)\n",
    "    plt.ylim(vmin - .1, vmax + .1)"
   ]
  },
  {
   "cell_type": "code",
   "execution_count": 80,
   "metadata": {
    "collapsed": false
   },
   "outputs": [
    {
     "data": {
      "image/png": "[encoded data removed]",
      "text/plain": [
       "<matplotlib.figure.Figure at 0x1133c83c8>"
      ]
     },
     "metadata": {},
     "output_type": "display_data"
    }
   ],
   "source": [
    "compare(pd.Series(d_inf['linear']), b_act)"
   ]
  },
  {
   "cell_type": "code",
   "execution_count": 81,
   "metadata": {
    "collapsed": false
   },
   "outputs": [
    {
     "data": {
      "image/png": "[encoded data removed]",
      "text/plain": [
       "<matplotlib.figure.Figure at 0x113442978>"
      ]
     },
     "metadata": {},
     "output_type": "display_data"
    }
   ],
   "source": [
    "compare(pd.Series(d_inf['intercepts']), b_out)"
   ]
  },
  {
   "cell_type": "code",
   "execution_count": 14,
   "metadata": {
    "collapsed": false
   },
   "outputs": [
    {
     "data": {
      "text/plain": [
       "array([[  7.85690860e-02,   1.67864958e-01,   3.14912485e-01,\n",
       "          2.75731931e-01,   1.62921539e-01],\n",
       "       [  9.96783607e-01,   2.37574848e-03,   6.25686378e-04,\n",
       "          1.61409988e-04,   5.35483698e-05],\n",
       "       [  3.36745636e-01,   3.23950195e-01,   2.23291922e-01,\n",
       "          8.43595623e-02,   3.16526849e-02],\n",
       "       [  4.09150962e-01,   3.17312100e-01,   1.85761286e-01,\n",
       "          6.43706489e-02,   2.34050036e-02],\n",
       "       [  5.74925623e-01,   2.63451707e-01,   1.14671351e-01,\n",
       "          3.48297724e-02,   1.21215466e-02]])"
      ]
     },
     "execution_count": 14,
     "metadata": {},
     "output_type": "execute_result"
    }
   ],
   "source": [
    "d_proba = est.predict(X, key='probabilities')\n",
    "d_proba[:5]"
   ]
  },
  {
   "cell_type": "code",
   "execution_count": 15,
   "metadata": {
    "collapsed": false
   },
   "outputs": [
    {
     "data": {
      "text/plain": [
       "0    3586\n",
       "4    3301\n",
       "2    1594\n",
       "3     865\n",
       "1     654\n",
       "dtype: int64"
      ]
     },
     "execution_count": 15,
     "metadata": {},
     "output_type": "execute_result"
    }
   ],
   "source": [
    "pd.Series(np.argmax(d_proba, axis=1)).value_counts()"
   ]
  },
  {
   "cell_type": "code",
   "execution_count": 16,
   "metadata": {
    "collapsed": false
   },
   "outputs": [
    {
     "data": {
      "text/html": [
       "<style  type=\"text/css\" >\n",
       "    #T_7e3d0186_b29e_11e7_80cb_60f81db72a82row0_col0 {\n",
       "            background-color:  #023858;\n",
       "        }    #T_7e3d0186_b29e_11e7_80cb_60f81db72a82row0_col1 {\n",
       "            background-color:  #023858;\n",
       "        }    #T_7e3d0186_b29e_11e7_80cb_60f81db72a82row0_col2 {\n",
       "            background-color:  #b0c2de;\n",
       "        }    #T_7e3d0186_b29e_11e7_80cb_60f81db72a82row0_col3 {\n",
       "            background-color:  #fdf5fa;\n",
       "        }    #T_7e3d0186_b29e_11e7_80cb_60f81db72a82row0_col4 {\n",
       "            background-color:  #fff7fb;\n",
       "        }    #T_7e3d0186_b29e_11e7_80cb_60f81db72a82row1_col0 {\n",
       "            background-color:  #f7f0f7;\n",
       "        }    #T_7e3d0186_b29e_11e7_80cb_60f81db72a82row1_col1 {\n",
       "            background-color:  #d1d2e6;\n",
       "        }    #T_7e3d0186_b29e_11e7_80cb_60f81db72a82row1_col2 {\n",
       "            background-color:  #fff7fb;\n",
       "        }    #T_7e3d0186_b29e_11e7_80cb_60f81db72a82row1_col3 {\n",
       "            background-color:  #fff7fb;\n",
       "        }    #T_7e3d0186_b29e_11e7_80cb_60f81db72a82row1_col4 {\n",
       "            background-color:  #fff7fb;\n",
       "        }    #T_7e3d0186_b29e_11e7_80cb_60f81db72a82row2_col0 {\n",
       "            background-color:  #f6eff7;\n",
       "        }    #T_7e3d0186_b29e_11e7_80cb_60f81db72a82row2_col1 {\n",
       "            background-color:  #7bacd1;\n",
       "        }    #T_7e3d0186_b29e_11e7_80cb_60f81db72a82row2_col2 {\n",
       "            background-color:  #023858;\n",
       "        }    #T_7e3d0186_b29e_11e7_80cb_60f81db72a82row2_col3 {\n",
       "            background-color:  #529bc7;\n",
       "        }    #T_7e3d0186_b29e_11e7_80cb_60f81db72a82row2_col4 {\n",
       "            background-color:  #f4eef6;\n",
       "        }    #T_7e3d0186_b29e_11e7_80cb_60f81db72a82row3_col0 {\n",
       "            background-color:  #fff7fb;\n",
       "        }    #T_7e3d0186_b29e_11e7_80cb_60f81db72a82row3_col1 {\n",
       "            background-color:  #fbf4f9;\n",
       "        }    #T_7e3d0186_b29e_11e7_80cb_60f81db72a82row3_col2 {\n",
       "            background-color:  #dedcec;\n",
       "        }    #T_7e3d0186_b29e_11e7_80cb_60f81db72a82row3_col3 {\n",
       "            background-color:  #a2bcda;\n",
       "        }    #T_7e3d0186_b29e_11e7_80cb_60f81db72a82row3_col4 {\n",
       "            background-color:  #f2ecf5;\n",
       "        }    #T_7e3d0186_b29e_11e7_80cb_60f81db72a82row4_col0 {\n",
       "            background-color:  #fff7fb;\n",
       "        }    #T_7e3d0186_b29e_11e7_80cb_60f81db72a82row4_col1 {\n",
       "            background-color:  #fff7fb;\n",
       "        }    #T_7e3d0186_b29e_11e7_80cb_60f81db72a82row4_col2 {\n",
       "            background-color:  #d9d8ea;\n",
       "        }    #T_7e3d0186_b29e_11e7_80cb_60f81db72a82row4_col3 {\n",
       "            background-color:  #023858;\n",
       "        }    #T_7e3d0186_b29e_11e7_80cb_60f81db72a82row4_col4 {\n",
       "            background-color:  #023858;\n",
       "        }</style>  \n",
       "<table id=\"T_7e3d0186_b29e_11e7_80cb_60f81db72a82\" > \n",
       "<thead>    <tr> \n",
       "        <th class=\"index_name level0\" >actual</th> \n",
       "        <th class=\"col_heading level0 col0\" >1</th> \n",
       "        <th class=\"col_heading level0 col1\" >2</th> \n",
       "        <th class=\"col_heading level0 col2\" >3</th> \n",
       "        <th class=\"col_heading level0 col3\" >4</th> \n",
       "        <th class=\"col_heading level0 col4\" >5</th> \n",
       "    </tr>    <tr> \n",
       "        <th class=\"index_name level0\" >predicted</th> \n",
       "        <th class=\"blank\" ></th> \n",
       "        <th class=\"blank\" ></th> \n",
       "        <th class=\"blank\" ></th> \n",
       "        <th class=\"blank\" ></th> \n",
       "        <th class=\"blank\" ></th> \n",
       "    </tr></thead> \n",
       "<tbody>    <tr> \n",
       "        <th id=\"T_7e3d0186_b29e_11e7_80cb_60f81db72a82level0_row0\" class=\"row_heading level0 row0\" >1</th> \n",
       "        <td id=\"T_7e3d0186_b29e_11e7_80cb_60f81db72a82row0_col0\" class=\"data row0 col0\" >2591</td> \n",
       "        <td id=\"T_7e3d0186_b29e_11e7_80cb_60f81db72a82row0_col1\" class=\"data row0 col1\" >587</td> \n",
       "        <td id=\"T_7e3d0186_b29e_11e7_80cb_60f81db72a82row0_col2\" class=\"data row0 col2\" >288</td> \n",
       "        <td id=\"T_7e3d0186_b29e_11e7_80cb_60f81db72a82row0_col3\" class=\"data row0 col3\" >89</td> \n",
       "        <td id=\"T_7e3d0186_b29e_11e7_80cb_60f81db72a82row0_col4\" class=\"data row0 col4\" >31</td> \n",
       "    </tr>    <tr> \n",
       "        <th id=\"T_7e3d0186_b29e_11e7_80cb_60f81db72a82level0_row1\" class=\"row_heading level0 row1\" >2</th> \n",
       "        <td id=\"T_7e3d0186_b29e_11e7_80cb_60f81db72a82row1_col0\" class=\"data row1 col0\" >169</td> \n",
       "        <td id=\"T_7e3d0186_b29e_11e7_80cb_60f81db72a82row1_col1\" class=\"data row1 col1\" >215</td> \n",
       "        <td id=\"T_7e3d0186_b29e_11e7_80cb_60f81db72a82row1_col2\" class=\"data row1 col2\" >166</td> \n",
       "        <td id=\"T_7e3d0186_b29e_11e7_80cb_60f81db72a82row1_col3\" class=\"data row1 col3\" >80</td> \n",
       "        <td id=\"T_7e3d0186_b29e_11e7_80cb_60f81db72a82row1_col4\" class=\"data row1 col4\" >24</td> \n",
       "    </tr>    <tr> \n",
       "        <th id=\"T_7e3d0186_b29e_11e7_80cb_60f81db72a82level0_row2\" class=\"row_heading level0 row2\" >3</th> \n",
       "        <td id=\"T_7e3d0186_b29e_11e7_80cb_60f81db72a82row2_col0\" class=\"data row2 col0\" >185</td> \n",
       "        <td id=\"T_7e3d0186_b29e_11e7_80cb_60f81db72a82row2_col1\" class=\"data row2 col1\" >332</td> \n",
       "        <td id=\"T_7e3d0186_b29e_11e7_80cb_60f81db72a82row2_col2\" class=\"data row2 col2\" >520</td> \n",
       "        <td id=\"T_7e3d0186_b29e_11e7_80cb_60f81db72a82row2_col3\" class=\"data row2 col3\" >360</td> \n",
       "        <td id=\"T_7e3d0186_b29e_11e7_80cb_60f81db72a82row2_col4\" class=\"data row2 col4\" >197</td> \n",
       "    </tr>    <tr> \n",
       "        <th id=\"T_7e3d0186_b29e_11e7_80cb_60f81db72a82level0_row3\" class=\"row_heading level0 row3\" >4</th> \n",
       "        <td id=\"T_7e3d0186_b29e_11e7_80cb_60f81db72a82row3_col0\" class=\"data row3 col0\" >35</td> \n",
       "        <td id=\"T_7e3d0186_b29e_11e7_80cb_60f81db72a82row3_col1\" class=\"data row3 col1\" >106</td> \n",
       "        <td id=\"T_7e3d0186_b29e_11e7_80cb_60f81db72a82row3_col2\" class=\"data row3 col2\" >233</td> \n",
       "        <td id=\"T_7e3d0186_b29e_11e7_80cb_60f81db72a82row3_col3\" class=\"data row3 col3\" >270</td> \n",
       "        <td id=\"T_7e3d0186_b29e_11e7_80cb_60f81db72a82row3_col4\" class=\"data row3 col4\" >221</td> \n",
       "    </tr>    <tr> \n",
       "        <th id=\"T_7e3d0186_b29e_11e7_80cb_60f81db72a82level0_row4\" class=\"row_heading level0 row4\" >5</th> \n",
       "        <td id=\"T_7e3d0186_b29e_11e7_80cb_60f81db72a82row4_col0\" class=\"data row4 col0\" >31</td> \n",
       "        <td id=\"T_7e3d0186_b29e_11e7_80cb_60f81db72a82row4_col1\" class=\"data row4 col1\" >93</td> \n",
       "        <td id=\"T_7e3d0186_b29e_11e7_80cb_60f81db72a82row4_col2\" class=\"data row4 col2\" >240</td> \n",
       "        <td id=\"T_7e3d0186_b29e_11e7_80cb_60f81db72a82row4_col3\" class=\"data row4 col3\" >573</td> \n",
       "        <td id=\"T_7e3d0186_b29e_11e7_80cb_60f81db72a82row4_col4\" class=\"data row4 col4\" >2364</td> \n",
       "    </tr></tbody> \n",
       "</table> "
      ],
      "text/plain": [
       "<pandas.io.formats.style.Styler at 0x113116b38>"
      ]
     },
     "execution_count": 16,
     "metadata": {},
     "output_type": "execute_result"
    }
   ],
   "source": [
    "pd.DataFrame({\n",
    "    'predicted': est.predict(X),\n",
    "    'actual': y\n",
    "}).groupby(['predicted', 'actual']).size().unstack().style.background_gradient()"
   ]
  },
  {
   "cell_type": "code",
   "execution_count": 86,
   "metadata": {
    "collapsed": false
   },
   "outputs": [
    {
     "data": {
      "text/html": [
       "<style  type=\"text/css\" >\n",
       "    #T_210b4968_b298_11e7_a615_60f81db72a82row0_col0 {\n",
       "            background-color:  #023858;\n",
       "        }    #T_210b4968_b298_11e7_a615_60f81db72a82row0_col1 {\n",
       "            background-color:  #023858;\n",
       "        }    #T_210b4968_b298_11e7_a615_60f81db72a82row0_col2 {\n",
       "            background-color:  #9ebad9;\n",
       "        }    #T_210b4968_b298_11e7_a615_60f81db72a82row0_col3 {\n",
       "            background-color:  #fbf4f9;\n",
       "        }    #T_210b4968_b298_11e7_a615_60f81db72a82row0_col4 {\n",
       "            background-color:  #fff7fb;\n",
       "        }    #T_210b4968_b298_11e7_a615_60f81db72a82row1_col0 {\n",
       "            background-color:  #fbf4f9;\n",
       "        }    #T_210b4968_b298_11e7_a615_60f81db72a82row1_col1 {\n",
       "            background-color:  #0a73b2;\n",
       "        }    #T_210b4968_b298_11e7_a615_60f81db72a82row1_col2 {\n",
       "            background-color:  #fff7fb;\n",
       "        }    #T_210b4968_b298_11e7_a615_60f81db72a82row1_col3 {\n",
       "            background-color:  #fff7fb;\n",
       "        }    #T_210b4968_b298_11e7_a615_60f81db72a82row1_col4 {\n",
       "            background-color:  #fff7fb;\n",
       "        }    #T_210b4968_b298_11e7_a615_60f81db72a82row2_col0 {\n",
       "            background-color:  #fcf4fa;\n",
       "        }    #T_210b4968_b298_11e7_a615_60f81db72a82row2_col1 {\n",
       "            background-color:  #dedcec;\n",
       "        }    #T_210b4968_b298_11e7_a615_60f81db72a82row2_col2 {\n",
       "            background-color:  #023858;\n",
       "        }    #T_210b4968_b298_11e7_a615_60f81db72a82row2_col3 {\n",
       "            background-color:  #ebe6f2;\n",
       "        }    #T_210b4968_b298_11e7_a615_60f81db72a82row2_col4 {\n",
       "            background-color:  #faf2f8;\n",
       "        }    #T_210b4968_b298_11e7_a615_60f81db72a82row3_col0 {\n",
       "            background-color:  #fef6fb;\n",
       "        }    #T_210b4968_b298_11e7_a615_60f81db72a82row3_col1 {\n",
       "            background-color:  #fff7fb;\n",
       "        }    #T_210b4968_b298_11e7_a615_60f81db72a82row3_col2 {\n",
       "            background-color:  #f4eef6;\n",
       "        }    #T_210b4968_b298_11e7_a615_60f81db72a82row3_col3 {\n",
       "            background-color:  #04588a;\n",
       "        }    #T_210b4968_b298_11e7_a615_60f81db72a82row3_col4 {\n",
       "            background-color:  #faf2f8;\n",
       "        }    #T_210b4968_b298_11e7_a615_60f81db72a82row4_col0 {\n",
       "            background-color:  #fff7fb;\n",
       "        }    #T_210b4968_b298_11e7_a615_60f81db72a82row4_col1 {\n",
       "            background-color:  #f3edf5;\n",
       "        }    #T_210b4968_b298_11e7_a615_60f81db72a82row4_col2 {\n",
       "            background-color:  #abbfdc;\n",
       "        }    #T_210b4968_b298_11e7_a615_60f81db72a82row4_col3 {\n",
       "            background-color:  #023858;\n",
       "        }    #T_210b4968_b298_11e7_a615_60f81db72a82row4_col4 {\n",
       "            background-color:  #023858;\n",
       "        }</style>  \n",
       "<table id=\"T_210b4968_b298_11e7_a615_60f81db72a82\" > \n",
       "<thead>    <tr> \n",
       "        <th class=\"index_name level0\" >actual</th> \n",
       "        <th class=\"col_heading level0 col0\" >1</th> \n",
       "        <th class=\"col_heading level0 col1\" >2</th> \n",
       "        <th class=\"col_heading level0 col2\" >3</th> \n",
       "        <th class=\"col_heading level0 col3\" >4</th> \n",
       "        <th class=\"col_heading level0 col4\" >5</th> \n",
       "    </tr>    <tr> \n",
       "        <th class=\"index_name level0\" >predicted</th> \n",
       "        <th class=\"blank\" ></th> \n",
       "        <th class=\"blank\" ></th> \n",
       "        <th class=\"blank\" ></th> \n",
       "        <th class=\"blank\" ></th> \n",
       "        <th class=\"blank\" ></th> \n",
       "    </tr></thead> \n",
       "<tbody>    <tr> \n",
       "        <th id=\"T_210b4968_b298_11e7_a615_60f81db72a82level0_row0\" class=\"row_heading level0 row0\" >1</th> \n",
       "        <td id=\"T_210b4968_b298_11e7_a615_60f81db72a82row0_col0\" class=\"data row0 col0\" >2706</td> \n",
       "        <td id=\"T_210b4968_b298_11e7_a615_60f81db72a82row0_col1\" class=\"data row0 col1\" >542</td> \n",
       "        <td id=\"T_210b4968_b298_11e7_a615_60f81db72a82row0_col2\" class=\"data row0 col2\" >302</td> \n",
       "        <td id=\"T_210b4968_b298_11e7_a615_60f81db72a82row0_col3\" class=\"data row0 col3\" >112</td> \n",
       "        <td id=\"T_210b4968_b298_11e7_a615_60f81db72a82row0_col4\" class=\"data row0 col4\" >39</td> \n",
       "    </tr>    <tr> \n",
       "        <th id=\"T_210b4968_b298_11e7_a615_60f81db72a82level0_row1\" class=\"row_heading level0 row1\" >2</th> \n",
       "        <td id=\"T_210b4968_b298_11e7_a615_60f81db72a82row1_col0\" class=\"data row1 col0\" >106</td> \n",
       "        <td id=\"T_210b4968_b298_11e7_a615_60f81db72a82row1_col1\" class=\"data row1 col1\" >421</td> \n",
       "        <td id=\"T_210b4968_b298_11e7_a615_60f81db72a82row1_col2\" class=\"data row1 col2\" >134</td> \n",
       "        <td id=\"T_210b4968_b298_11e7_a615_60f81db72a82row1_col3\" class=\"data row1 col3\" >102</td> \n",
       "        <td id=\"T_210b4968_b298_11e7_a615_60f81db72a82row1_col4\" class=\"data row1 col4\" >35</td> \n",
       "    </tr>    <tr> \n",
       "        <th id=\"T_210b4968_b298_11e7_a615_60f81db72a82level0_row2\" class=\"row_heading level0 row2\" >3</th> \n",
       "        <td id=\"T_210b4968_b298_11e7_a615_60f81db72a82row2_col0\" class=\"data row2 col0\" >102</td> \n",
       "        <td id=\"T_210b4968_b298_11e7_a615_60f81db72a82row2_col1\" class=\"data row2 col1\" >169</td> \n",
       "        <td id=\"T_210b4968_b298_11e7_a615_60f81db72a82row2_col2\" class=\"data row2 col2\" >559</td> \n",
       "        <td id=\"T_210b4968_b298_11e7_a615_60f81db72a82row2_col3\" class=\"data row2 col3\" >157</td> \n",
       "        <td id=\"T_210b4968_b298_11e7_a615_60f81db72a82row2_col4\" class=\"data row2 col4\" >130</td> \n",
       "    </tr>    <tr> \n",
       "        <th id=\"T_210b4968_b298_11e7_a615_60f81db72a82level0_row3\" class=\"row_heading level0 row3\" >4</th> \n",
       "        <td id=\"T_210b4968_b298_11e7_a615_60f81db72a82row3_col0\" class=\"data row3 col0\" >55</td> \n",
       "        <td id=\"T_210b4968_b298_11e7_a615_60f81db72a82row3_col1\" class=\"data row3 col1\" >82</td> \n",
       "        <td id=\"T_210b4968_b298_11e7_a615_60f81db72a82row3_col2\" class=\"data row3 col2\" >165</td> \n",
       "        <td id=\"T_210b4968_b298_11e7_a615_60f81db72a82row3_col3\" class=\"data row3 col3\" >475</td> \n",
       "        <td id=\"T_210b4968_b298_11e7_a615_60f81db72a82row3_col4\" class=\"data row3 col4\" >125</td> \n",
       "    </tr>    <tr> \n",
       "        <th id=\"T_210b4968_b298_11e7_a615_60f81db72a82level0_row4\" class=\"row_heading level0 row4\" >5</th> \n",
       "        <td id=\"T_210b4968_b298_11e7_a615_60f81db72a82row4_col0\" class=\"data row4 col0\" >42</td> \n",
       "        <td id=\"T_210b4968_b298_11e7_a615_60f81db72a82row4_col1\" class=\"data row4 col1\" >119</td> \n",
       "        <td id=\"T_210b4968_b298_11e7_a615_60f81db72a82row4_col2\" class=\"data row4 col2\" >287</td> \n",
       "        <td id=\"T_210b4968_b298_11e7_a615_60f81db72a82row4_col3\" class=\"data row4 col3\" >526</td> \n",
       "        <td id=\"T_210b4968_b298_11e7_a615_60f81db72a82row4_col4\" class=\"data row4 col4\" >2508</td> \n",
       "    </tr></tbody> \n",
       "</table> "
      ],
      "text/plain": [
       "<pandas.io.formats.style.Styler at 0x114c1f278>"
      ]
     },
     "execution_count": 86,
     "metadata": {},
     "output_type": "execute_result"
    }
   ],
   "source": [
    "#from sklearn.linear_model import LogisticRegression\n",
    "from sklearn.ensemble import GradientBoostingClassifier\n",
    "pd.DataFrame({\n",
    "    'predicted': GradientBoostingClassifier().fit(X, y).predict(X),\n",
    "    'actual': y\n",
    "}).groupby(['predicted', 'actual']).size().unstack().style.background_gradient()"
   ]
  },
  {
   "cell_type": "code",
   "execution_count": null,
   "metadata": {
    "collapsed": true
   },
   "outputs": [],
   "source": []
  }
 ],
 "metadata": {
  "kernelspec": {
   "display_name": "Python 3",
   "language": "python",
   "name": "python3"
  },
  "language_info": {
   "codemirror_mode": {
    "name": "ipython",
    "version": 3
   },
   "file_extension": ".py",
   "mimetype": "text/x-python",
   "name": "python",
   "nbconvert_exporter": "python",
   "pygments_lexer": "ipython3",
   "version": "3.5.2"
  }
 },
 "nbformat": 4,
 "nbformat_minor": 2
}
