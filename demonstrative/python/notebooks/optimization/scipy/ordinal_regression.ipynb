{
 "cells": [
  {
   "cell_type": "markdown",
   "metadata": {},
   "source": [
    "# Ordinal Regression"
   ]
  },
  {
   "cell_type": "code",
   "execution_count": 1,
   "metadata": {
    "collapsed": true
   },
   "outputs": [],
   "source": [
    "%run -m ipy_startup\n",
    "%matplotlib inline\n",
    "from py_utils import math"
   ]
  },
  {
   "cell_type": "code",
   "execution_count": 2,
   "metadata": {
    "collapsed": false
   },
   "outputs": [
    {
     "data": {
      "text/plain": [
       "((100000, 5), (100000,))"
      ]
     },
     "execution_count": 2,
     "metadata": {},
     "output_type": "execute_result"
    }
   ],
   "source": [
    "# Generate random data to model\n",
    "np.random.seed(1)\n",
    "n, n_class, n_var = 100000, 7, 5\n",
    "#n, n_class, n_var = 10000, 4, 5\n",
    "\n",
    "X = np.random.randn(n, n_var)\n",
    "\n",
    "b_act = np.random.randn(n_var)\n",
    "#b_out = np.sort(np.random.randn(n_class-1))\n",
    "b_out = np.linspace(-2, 2, n_class-1)\n",
    "y_logit = np.dot(X, b_act)[:, np.newaxis]\n",
    "p = y_logit + np.tile(b_out, (n, 1))\n",
    "p = math.sigmoid(p)\n",
    "p = np.hstack((np.zeros((n, 1)), p, np.ones((n, 1))))\n",
    "p = np.diff(p, axis=1)\n",
    "\n",
    "y_vals = np.arange(1, n_class + 1)\n",
    "assert len(y_vals) == p.shape[1]\n",
    "\n",
    "y = np.array([np.random.choice(y_vals, size=1, p=p[i])[0] for i in range(n)])\n",
    "\n",
    "X.shape, y.shape"
   ]
  },
  {
   "cell_type": "code",
   "execution_count": 3,
   "metadata": {
    "collapsed": false
   },
   "outputs": [
    {
     "data": {
      "text/plain": [
       "array([-2. , -1.2, -0.4,  0.4,  1.2,  2. ])"
      ]
     },
     "execution_count": 3,
     "metadata": {},
     "output_type": "execute_result"
    }
   ],
   "source": [
    "b_out"
   ]
  },
  {
   "cell_type": "code",
   "execution_count": 4,
   "metadata": {
    "collapsed": false
   },
   "outputs": [
    {
     "data": {
      "text/plain": [
       "7    24750\n",
       "1    24607\n",
       "4    10884\n",
       "3    10725\n",
       "5    10249\n",
       "6     9430\n",
       "2     9355\n",
       "dtype: int64"
      ]
     },
     "execution_count": 4,
     "metadata": {},
     "output_type": "execute_result"
    }
   ],
   "source": [
    "pd.Series(y).value_counts()"
   ]
  },
  {
   "cell_type": "code",
   "execution_count": 5,
   "metadata": {
    "collapsed": false
   },
   "outputs": [],
   "source": [
    "from ml.scipy import optimize, models\n",
    "param_names = ['X{}'.format(i) for i in range(n_var)]\n",
    "constraints = optimize.ScipyConstraints()\n",
    "constraints.add_gtez('X0')\n",
    "constraints.add_gte('X1', 'X2')\n",
    "constraints.add_gte('X2', 'X3')\n",
    "constraints.add_gtev('X4', 2.0)\n",
    "\n",
    "model = (\n",
    "    models.ScipyOrdinalRegressionModelBuilder()\n",
    "    .add_linear_params(param_names)\n",
    "    .add_outcome_intercepts(n_class)\n",
    "    #.add_constraints(constraints)\n",
    "    .build()\n",
    ")\n"
   ]
  },
  {
   "cell_type": "code",
   "execution_count": 6,
   "metadata": {
    "collapsed": false
   },
   "outputs": [
    {
     "name": "stdout",
     "output_type": "stream",
     "text": [
      "CPU times: user 38.5 s, sys: 1.93 s, total: 40.4 s\n",
      "Wall time: 10.2 s\n"
     ]
    }
   ],
   "source": [
    "%%time\n",
    "est = optimize.ScipyRegressor(model, analytical_gradients=True, monitor_gradient=True)\n",
    "est.fit(X, y)"
   ]
  },
  {
   "cell_type": "code",
   "execution_count": 7,
   "metadata": {
    "collapsed": false
   },
   "outputs": [
    {
     "name": "stdout",
     "output_type": "stream",
     "text": [
      "Optimization converged successfully:\n",
      "\n",
      "    Success: True\n",
      "    Status Code: 0\n",
      "    Message: Optimization terminated successfully.\n",
      "    Number of iterations: 21\n",
      "    Number of function evaluations: 27\n",
      "    Objective Function Value: 1.4222517724394255\n",
      "    \n"
     ]
    }
   ],
   "source": [
    "print(est.get_fit_summary())"
   ]
  },
  {
   "cell_type": "code",
   "execution_count": 8,
   "metadata": {
    "collapsed": false
   },
   "outputs": [
    {
     "data": {
      "text/plain": [
       "array([  2.13261393e-07,              nan,              nan,\n",
       "                    nan,   5.18250518e-08,   4.03084411e-08,\n",
       "         3.40477449e-08,   6.66826450e-08,   8.61791269e-08,\n",
       "         3.74602240e-08,   3.79214060e-08,   4.45606824e-08,\n",
       "         5.31027217e-08,   3.87425289e-08,   3.56423749e-08,\n",
       "         9.31529956e-08,   3.66579478e-08,   4.52392888e-08,\n",
       "         6.40010176e-08,   3.81221749e-08,   5.66465800e-08])"
      ]
     },
     "execution_count": 8,
     "metadata": {},
     "output_type": "execute_result"
    }
   ],
   "source": [
    "est.get_gradient_error_history()"
   ]
  },
  {
   "cell_type": "code",
   "execution_count": 9,
   "metadata": {
    "collapsed": false
   },
   "outputs": [
    {
     "data": {
      "text/plain": [
       "     fun: 1.4222517724394255\n",
       "     jac: array([  6.36632047e-05,  -1.05471132e-06,  -2.30718990e-05,\n",
       "        -1.12000899e-04,   1.88384709e-05,  -8.15275279e-05,\n",
       "         4.29758434e-04,  -7.14170011e-04,  -3.84169495e-04,\n",
       "         1.02691371e-03,  -2.23954590e-04])\n",
       " message: 'Optimization terminated successfully.'\n",
       "    nfev: 27\n",
       "     nit: 21\n",
       "    njev: 21\n",
       "  status: 0\n",
       " success: True\n",
       "       x: array([ 0.68525376, -1.91424263, -0.52717295, -0.46554297,  0.8983579 ,\n",
       "       -1.99927578, -1.20387624, -0.39294279,  0.40444159,  1.18742902,\n",
       "        1.98860078])"
      ]
     },
     "execution_count": 9,
     "metadata": {},
     "output_type": "execute_result"
    }
   ],
   "source": [
    "est.fit_"
   ]
  },
  {
   "cell_type": "code",
   "execution_count": 10,
   "metadata": {
    "collapsed": false
   },
   "outputs": [
    {
     "data": {
      "text/plain": [
       "{'fit': OrderedDict(), 'linear': OrderedDict([('X0', 0.68525375875989059), ('X1', -1.9142426325070718), ('X2', -0.52717295412115994), ('X3', -0.46554296822189034), ('X4', 0.89835790185709985)]), 'intercepts': OrderedDict([('Outcome:1', -1.9992757802407239), ('Outcome:2', -1.2038762449835325), ('Outcome:3', -0.39294279111468072), ('Outcome:4', 0.40444158905971778), ('Outcome:5', 1.1874290208364162), ('Outcome:6', 1.988600780487179)])}"
      ]
     },
     "execution_count": 10,
     "metadata": {},
     "output_type": "execute_result"
    }
   ],
   "source": [
    "d_inf = est.inference()\n",
    "d_inf"
   ]
  },
  {
   "cell_type": "code",
   "execution_count": 11,
   "metadata": {
    "collapsed": false
   },
   "outputs": [
    {
     "data": {
      "text/plain": [
       "array([ 0.6804625 , -1.90674304, -0.52907885, -0.45989862,  0.90816104])"
      ]
     },
     "execution_count": 11,
     "metadata": {},
     "output_type": "execute_result"
    }
   ],
   "source": [
    "b_act"
   ]
  },
  {
   "cell_type": "code",
   "execution_count": 12,
   "metadata": {
    "collapsed": true
   },
   "outputs": [],
   "source": [
    "def compare(v_est, v_act):\n",
    "    plt.scatter(v_est, v_act)\n",
    "    vmin, vmax = v_act.min(), v_act.max()\n",
    "    plt.xlim(vmin - .1, vmax + .1)\n",
    "    plt.ylim(vmin - .1, vmax + .1)"
   ]
  },
  {
   "cell_type": "code",
   "execution_count": 13,
   "metadata": {
    "collapsed": false
   },
   "outputs": [
    {
     "data": {
      "text/plain": [
       "X0    0.685254\n",
       "X1   -1.914243\n",
       "X2   -0.527173\n",
       "X3   -0.465543\n",
       "X4    0.898358\n",
       "dtype: float64"
      ]
     },
     "execution_count": 13,
     "metadata": {},
     "output_type": "execute_result"
    }
   ],
   "source": [
    "d_inf['linear']"
   ]
  },
  {
   "cell_type": "code",
   "execution_count": 14,
   "metadata": {
    "collapsed": false
   },
   "outputs": [
    {
     "data": {
      "image/png": "[encoded data removed]",
      "text/plain": [
       "<matplotlib.figure.Figure at 0x1148d6ac8>"
      ]
     },
     "metadata": {},
     "output_type": "display_data"
    }
   ],
   "source": [
    "compare(pd.Series(d_inf['linear']), b_act)"
   ]
  },
  {
   "cell_type": "code",
   "execution_count": 15,
   "metadata": {
    "collapsed": false
   },
   "outputs": [
    {
     "data": {
      "image/png": "[encoded data removed]",
      "text/plain": [
       "<matplotlib.figure.Figure at 0x1165cda58>"
      ]
     },
     "metadata": {},
     "output_type": "display_data"
    }
   ],
   "source": [
    "compare(pd.Series(d_inf['intercepts']), b_out)"
   ]
  },
  {
   "cell_type": "code",
   "execution_count": 16,
   "metadata": {
    "collapsed": false
   },
   "outputs": [
    {
     "data": {
      "text/plain": [
       "array([[  8.62979435e-01,   7.01421584e-02,   3.60077756e-02,\n",
       "          1.67232482e-02,   7.63143075e-03,   3.58103389e-03,\n",
       "          2.93491840e-03],\n",
       "       [  1.01924898e-03,   1.23592617e-03,   2.80472159e-03,\n",
       "          6.10280175e-03,   1.29416207e-02,   2.80594829e-02,\n",
       "          9.47836198e-01],\n",
       "       [  9.86790774e-01,   7.20304586e-03,   3.32783825e-03,\n",
       "          1.46995486e-03,   6.55744811e-04,   3.04539172e-04,\n",
       "          2.48102840e-04],\n",
       "       [  1.89048688e-01,   1.51510364e-01,   1.96903003e-01,\n",
       "          1.83152883e-01,   1.28861603e-01,   7.68560699e-02,\n",
       "          7.36673895e-02],\n",
       "       [  7.80857146e-03,   9.32734020e-03,   2.06114651e-02,\n",
       "          4.23535413e-02,   7.99311864e-02,   1.37972593e-01,\n",
       "          7.01995303e-01]])"
      ]
     },
     "execution_count": 16,
     "metadata": {},
     "output_type": "execute_result"
    }
   ],
   "source": [
    "d_proba = est.predict(X, key='probabilities')\n",
    "d_proba[:5]"
   ]
  },
  {
   "cell_type": "code",
   "execution_count": 17,
   "metadata": {
    "collapsed": false
   },
   "outputs": [
    {
     "data": {
      "text/plain": [
       "7    40735\n",
       "1    39892\n",
       "4    13577\n",
       "3     4190\n",
       "5     1606\n",
       "dtype: int64"
      ]
     },
     "execution_count": 17,
     "metadata": {},
     "output_type": "execute_result"
    }
   ],
   "source": [
    "pd.Series(np.argmax(d_proba, axis=1) + 1).value_counts()"
   ]
  },
  {
   "cell_type": "code",
   "execution_count": 18,
   "metadata": {
    "collapsed": false
   },
   "outputs": [
    {
     "data": {
      "text/html": [
       "<style  type=\"text/css\" >\n",
       "    #T_b9cda0f8_b2be_11e7_aeda_60f81db72a82row0_col0 {\n",
       "            background-color:  #023858;\n",
       "        }    #T_b9cda0f8_b2be_11e7_aeda_60f81db72a82row0_col1 {\n",
       "            background-color:  #023858;\n",
       "        }    #T_b9cda0f8_b2be_11e7_aeda_60f81db72a82row0_col2 {\n",
       "            background-color:  #023858;\n",
       "        }    #T_b9cda0f8_b2be_11e7_aeda_60f81db72a82row0_col3 {\n",
       "            background-color:  #023e62;\n",
       "        }    #T_b9cda0f8_b2be_11e7_aeda_60f81db72a82row0_col4 {\n",
       "            background-color:  #b1c2de;\n",
       "        }    #T_b9cda0f8_b2be_11e7_aeda_60f81db72a82row0_col5 {\n",
       "            background-color:  #e8e4f0;\n",
       "        }    #T_b9cda0f8_b2be_11e7_aeda_60f81db72a82row0_col6 {\n",
       "            background-color:  #fbf3f9;\n",
       "        }    #T_b9cda0f8_b2be_11e7_aeda_60f81db72a82row1_col0 {\n",
       "            background-color:  #fbf3f9;\n",
       "        }    #T_b9cda0f8_b2be_11e7_aeda_60f81db72a82row1_col1 {\n",
       "            background-color:  #f2ecf5;\n",
       "        }    #T_b9cda0f8_b2be_11e7_aeda_60f81db72a82row1_col2 {\n",
       "            background-color:  #eee8f3;\n",
       "        }    #T_b9cda0f8_b2be_11e7_aeda_60f81db72a82row1_col3 {\n",
       "            background-color:  #eae6f1;\n",
       "        }    #T_b9cda0f8_b2be_11e7_aeda_60f81db72a82row1_col4 {\n",
       "            background-color:  #f6eff7;\n",
       "        }    #T_b9cda0f8_b2be_11e7_aeda_60f81db72a82row1_col5 {\n",
       "            background-color:  #fdf5fa;\n",
       "        }    #T_b9cda0f8_b2be_11e7_aeda_60f81db72a82row1_col6 {\n",
       "            background-color:  #fff7fb;\n",
       "        }    #T_b9cda0f8_b2be_11e7_aeda_60f81db72a82row2_col0 {\n",
       "            background-color:  #f5eef6;\n",
       "        }    #T_b9cda0f8_b2be_11e7_aeda_60f81db72a82row2_col1 {\n",
       "            background-color:  #d3d4e7;\n",
       "        }    #T_b9cda0f8_b2be_11e7_aeda_60f81db72a82row2_col2 {\n",
       "            background-color:  #94b6d7;\n",
       "        }    #T_b9cda0f8_b2be_11e7_aeda_60f81db72a82row2_col3 {\n",
       "            background-color:  #1b7eb7;\n",
       "        }    #T_b9cda0f8_b2be_11e7_aeda_60f81db72a82row2_col4 {\n",
       "            background-color:  #99b8d8;\n",
       "        }    #T_b9cda0f8_b2be_11e7_aeda_60f81db72a82row2_col5 {\n",
       "            background-color:  #d9d8ea;\n",
       "        }    #T_b9cda0f8_b2be_11e7_aeda_60f81db72a82row2_col6 {\n",
       "            background-color:  #f5eef6;\n",
       "        }    #T_b9cda0f8_b2be_11e7_aeda_60f81db72a82row3_col0 {\n",
       "            background-color:  #fff7fb;\n",
       "        }    #T_b9cda0f8_b2be_11e7_aeda_60f81db72a82row3_col1 {\n",
       "            background-color:  #fff7fb;\n",
       "        }    #T_b9cda0f8_b2be_11e7_aeda_60f81db72a82row3_col2 {\n",
       "            background-color:  #fff7fb;\n",
       "        }    #T_b9cda0f8_b2be_11e7_aeda_60f81db72a82row3_col3 {\n",
       "            background-color:  #fff7fb;\n",
       "        }    #T_b9cda0f8_b2be_11e7_aeda_60f81db72a82row3_col4 {\n",
       "            background-color:  #fff7fb;\n",
       "        }    #T_b9cda0f8_b2be_11e7_aeda_60f81db72a82row3_col5 {\n",
       "            background-color:  #fff7fb;\n",
       "        }    #T_b9cda0f8_b2be_11e7_aeda_60f81db72a82row3_col6 {\n",
       "            background-color:  #fff7fb;\n",
       "        }    #T_b9cda0f8_b2be_11e7_aeda_60f81db72a82row4_col0 {\n",
       "            background-color:  #f9f2f8;\n",
       "        }    #T_b9cda0f8_b2be_11e7_aeda_60f81db72a82row4_col1 {\n",
       "            background-color:  #e2dfee;\n",
       "        }    #T_b9cda0f8_b2be_11e7_aeda_60f81db72a82row4_col2 {\n",
       "            background-color:  #9fbad9;\n",
       "        }    #T_b9cda0f8_b2be_11e7_aeda_60f81db72a82row4_col3 {\n",
       "            background-color:  #023858;\n",
       "        }    #T_b9cda0f8_b2be_11e7_aeda_60f81db72a82row4_col4 {\n",
       "            background-color:  #023858;\n",
       "        }    #T_b9cda0f8_b2be_11e7_aeda_60f81db72a82row4_col5 {\n",
       "            background-color:  #023858;\n",
       "        }    #T_b9cda0f8_b2be_11e7_aeda_60f81db72a82row4_col6 {\n",
       "            background-color:  #023858;\n",
       "        }</style>  \n",
       "<table id=\"T_b9cda0f8_b2be_11e7_aeda_60f81db72a82\" > \n",
       "<thead>    <tr> \n",
       "        <th class=\"index_name level0\" >actual</th> \n",
       "        <th class=\"col_heading level0 col0\" >1</th> \n",
       "        <th class=\"col_heading level0 col1\" >2</th> \n",
       "        <th class=\"col_heading level0 col2\" >3</th> \n",
       "        <th class=\"col_heading level0 col3\" >4</th> \n",
       "        <th class=\"col_heading level0 col4\" >5</th> \n",
       "        <th class=\"col_heading level0 col5\" >6</th> \n",
       "        <th class=\"col_heading level0 col6\" >7</th> \n",
       "    </tr>    <tr> \n",
       "        <th class=\"index_name level0\" >predicted</th> \n",
       "        <th class=\"blank\" ></th> \n",
       "        <th class=\"blank\" ></th> \n",
       "        <th class=\"blank\" ></th> \n",
       "        <th class=\"blank\" ></th> \n",
       "        <th class=\"blank\" ></th> \n",
       "        <th class=\"blank\" ></th> \n",
       "        <th class=\"blank\" ></th> \n",
       "    </tr></thead> \n",
       "<tbody>    <tr> \n",
       "        <th id=\"T_b9cda0f8_b2be_11e7_aeda_60f81db72a82level0_row0\" class=\"row_heading level0 row0\" >1</th> \n",
       "        <td id=\"T_b9cda0f8_b2be_11e7_aeda_60f81db72a82row0_col0\" class=\"data row0 col0\" >21139</td> \n",
       "        <td id=\"T_b9cda0f8_b2be_11e7_aeda_60f81db72a82row0_col1\" class=\"data row0 col1\" >6009</td> \n",
       "        <td id=\"T_b9cda0f8_b2be_11e7_aeda_60f81db72a82row0_col2\" class=\"data row0 col2\" >5188</td> \n",
       "        <td id=\"T_b9cda0f8_b2be_11e7_aeda_60f81db72a82row0_col3\" class=\"data row0 col3\" >3574</td> \n",
       "        <td id=\"T_b9cda0f8_b2be_11e7_aeda_60f81db72a82row0_col4\" class=\"data row0 col4\" >1945</td> \n",
       "        <td id=\"T_b9cda0f8_b2be_11e7_aeda_60f81db72a82row0_col5\" class=\"data row0 col5\" >1094</td> \n",
       "        <td id=\"T_b9cda0f8_b2be_11e7_aeda_60f81db72a82row0_col6\" class=\"data row0 col6\" >943</td> \n",
       "    </tr>    <tr> \n",
       "        <th id=\"T_b9cda0f8_b2be_11e7_aeda_60f81db72a82level0_row1\" class=\"row_heading level0 row1\" >3</th> \n",
       "        <td id=\"T_b9cda0f8_b2be_11e7_aeda_60f81db72a82row1_col0\" class=\"data row1 col0\" >750</td> \n",
       "        <td id=\"T_b9cda0f8_b2be_11e7_aeda_60f81db72a82row1_col1\" class=\"data row1 col1\" >613</td> \n",
       "        <td id=\"T_b9cda0f8_b2be_11e7_aeda_60f81db72a82row1_col2\" class=\"data row1 col2\" >814</td> \n",
       "        <td id=\"T_b9cda0f8_b2be_11e7_aeda_60f81db72a82row1_col3\" class=\"data row1 col3\" >743</td> \n",
       "        <td id=\"T_b9cda0f8_b2be_11e7_aeda_60f81db72a82row1_col4\" class=\"data row1 col4\" >584</td> \n",
       "        <td id=\"T_b9cda0f8_b2be_11e7_aeda_60f81db72a82row1_col5\" class=\"data row1 col5\" >341</td> \n",
       "        <td id=\"T_b9cda0f8_b2be_11e7_aeda_60f81db72a82row1_col6\" class=\"data row1 col6\" >345</td> \n",
       "    </tr>    <tr> \n",
       "        <th id=\"T_b9cda0f8_b2be_11e7_aeda_60f81db72a82level0_row2\" class=\"row_heading level0 row2\" >4</th> \n",
       "        <td id=\"T_b9cda0f8_b2be_11e7_aeda_60f81db72a82row2_col0\" class=\"data row2 col0\" >1575</td> \n",
       "        <td id=\"T_b9cda0f8_b2be_11e7_aeda_60f81db72a82row2_col1\" class=\"data row2 col1\" >1508</td> \n",
       "        <td id=\"T_b9cda0f8_b2be_11e7_aeda_60f81db72a82row2_col2\" class=\"data row2 col2\" >2307</td> \n",
       "        <td id=\"T_b9cda0f8_b2be_11e7_aeda_60f81db72a82row2_col3\" class=\"data row2 col3\" >2618</td> \n",
       "        <td id=\"T_b9cda0f8_b2be_11e7_aeda_60f81db72a82row2_col4\" class=\"data row2 col4\" >2273</td> \n",
       "        <td id=\"T_b9cda0f8_b2be_11e7_aeda_60f81db72a82row2_col5\" class=\"data row2 col5\" >1511</td> \n",
       "        <td id=\"T_b9cda0f8_b2be_11e7_aeda_60f81db72a82row2_col6\" class=\"data row2 col6\" >1785</td> \n",
       "    </tr>    <tr> \n",
       "        <th id=\"T_b9cda0f8_b2be_11e7_aeda_60f81db72a82level0_row3\" class=\"row_heading level0 row3\" >5</th> \n",
       "        <td id=\"T_b9cda0f8_b2be_11e7_aeda_60f81db72a82row3_col0\" class=\"data row3 col0\" >129</td> \n",
       "        <td id=\"T_b9cda0f8_b2be_11e7_aeda_60f81db72a82row3_col1\" class=\"data row3 col1\" >113</td> \n",
       "        <td id=\"T_b9cda0f8_b2be_11e7_aeda_60f81db72a82row3_col2\" class=\"data row3 col2\" >235</td> \n",
       "        <td id=\"T_b9cda0f8_b2be_11e7_aeda_60f81db72a82row3_col3\" class=\"data row3 col3\" >294</td> \n",
       "        <td id=\"T_b9cda0f8_b2be_11e7_aeda_60f81db72a82row3_col4\" class=\"data row3 col4\" >288</td> \n",
       "        <td id=\"T_b9cda0f8_b2be_11e7_aeda_60f81db72a82row3_col5\" class=\"data row3 col5\" >235</td> \n",
       "        <td id=\"T_b9cda0f8_b2be_11e7_aeda_60f81db72a82row3_col6\" class=\"data row3 col6\" >312</td> \n",
       "    </tr>    <tr> \n",
       "        <th id=\"T_b9cda0f8_b2be_11e7_aeda_60f81db72a82level0_row4\" class=\"row_heading level0 row4\" >7</th> \n",
       "        <td id=\"T_b9cda0f8_b2be_11e7_aeda_60f81db72a82row4_col0\" class=\"data row4 col0\" >1014</td> \n",
       "        <td id=\"T_b9cda0f8_b2be_11e7_aeda_60f81db72a82row4_col1\" class=\"data row4 col1\" >1112</td> \n",
       "        <td id=\"T_b9cda0f8_b2be_11e7_aeda_60f81db72a82row4_col2\" class=\"data row4 col2\" >2181</td> \n",
       "        <td id=\"T_b9cda0f8_b2be_11e7_aeda_60f81db72a82row4_col3\" class=\"data row4 col3\" >3655</td> \n",
       "        <td id=\"T_b9cda0f8_b2be_11e7_aeda_60f81db72a82row4_col4\" class=\"data row4 col4\" >5159</td> \n",
       "        <td id=\"T_b9cda0f8_b2be_11e7_aeda_60f81db72a82row4_col5\" class=\"data row4 col5\" >6249</td> \n",
       "        <td id=\"T_b9cda0f8_b2be_11e7_aeda_60f81db72a82row4_col6\" class=\"data row4 col6\" >21365</td> \n",
       "    </tr></tbody> \n",
       "</table> "
      ],
      "text/plain": [
       "<pandas.io.formats.style.Styler at 0x1166c3eb8>"
      ]
     },
     "execution_count": 18,
     "metadata": {},
     "output_type": "execute_result"
    }
   ],
   "source": [
    "pd.DataFrame({\n",
    "    'predicted': est.predict(X),\n",
    "    'actual': y\n",
    "}).groupby(['predicted', 'actual']).size().unstack().style.background_gradient()"
   ]
  },
  {
   "cell_type": "code",
   "execution_count": 20,
   "metadata": {
    "collapsed": false
   },
   "outputs": [
    {
     "data": {
      "text/html": [
       "<style  type=\"text/css\" >\n",
       "    #T_35aa0aa8_b2b1_11e7_969b_60f81db72a82row0_col0 {\n",
       "            background-color:  #023858;\n",
       "        }    #T_35aa0aa8_b2b1_11e7_969b_60f81db72a82row0_col1 {\n",
       "            background-color:  #023858;\n",
       "        }    #T_35aa0aa8_b2b1_11e7_969b_60f81db72a82row0_col2 {\n",
       "            background-color:  #023858;\n",
       "        }    #T_35aa0aa8_b2b1_11e7_969b_60f81db72a82row0_col3 {\n",
       "            background-color:  #023b5d;\n",
       "        }    #T_35aa0aa8_b2b1_11e7_969b_60f81db72a82row0_col4 {\n",
       "            background-color:  #89b1d4;\n",
       "        }    #T_35aa0aa8_b2b1_11e7_969b_60f81db72a82row0_col5 {\n",
       "            background-color:  #dbdaeb;\n",
       "        }    #T_35aa0aa8_b2b1_11e7_969b_60f81db72a82row0_col6 {\n",
       "            background-color:  #faf3f9;\n",
       "        }    #T_35aa0aa8_b2b1_11e7_969b_60f81db72a82row1_col0 {\n",
       "            background-color:  #fff7fb;\n",
       "        }    #T_35aa0aa8_b2b1_11e7_969b_60f81db72a82row1_col1 {\n",
       "            background-color:  #fbf4f9;\n",
       "        }    #T_35aa0aa8_b2b1_11e7_969b_60f81db72a82row1_col2 {\n",
       "            background-color:  #fff7fb;\n",
       "        }    #T_35aa0aa8_b2b1_11e7_969b_60f81db72a82row1_col3 {\n",
       "            background-color:  #fff7fb;\n",
       "        }    #T_35aa0aa8_b2b1_11e7_969b_60f81db72a82row1_col4 {\n",
       "            background-color:  #fff7fb;\n",
       "        }    #T_35aa0aa8_b2b1_11e7_969b_60f81db72a82row1_col5 {\n",
       "            background-color:  #fff7fb;\n",
       "        }    #T_35aa0aa8_b2b1_11e7_969b_60f81db72a82row1_col6 {\n",
       "            background-color:  #fff7fb;\n",
       "        }    #T_35aa0aa8_b2b1_11e7_969b_60f81db72a82row2_col0 {\n",
       "            background-color:  #fef6fb;\n",
       "        }    #T_35aa0aa8_b2b1_11e7_969b_60f81db72a82row2_col1 {\n",
       "            background-color:  #f9f2f8;\n",
       "        }    #T_35aa0aa8_b2b1_11e7_969b_60f81db72a82row2_col2 {\n",
       "            background-color:  #ede8f3;\n",
       "        }    #T_35aa0aa8_b2b1_11e7_969b_60f81db72a82row2_col3 {\n",
       "            background-color:  #f2ecf5;\n",
       "        }    #T_35aa0aa8_b2b1_11e7_969b_60f81db72a82row2_col4 {\n",
       "            background-color:  #f7f0f7;\n",
       "        }    #T_35aa0aa8_b2b1_11e7_969b_60f81db72a82row2_col5 {\n",
       "            background-color:  #faf3f9;\n",
       "        }    #T_35aa0aa8_b2b1_11e7_969b_60f81db72a82row2_col6 {\n",
       "            background-color:  #fef6fb;\n",
       "        }    #T_35aa0aa8_b2b1_11e7_969b_60f81db72a82row3_col0 {\n",
       "            background-color:  #fef6fb;\n",
       "        }    #T_35aa0aa8_b2b1_11e7_969b_60f81db72a82row3_col1 {\n",
       "            background-color:  #faf2f8;\n",
       "        }    #T_35aa0aa8_b2b1_11e7_969b_60f81db72a82row3_col2 {\n",
       "            background-color:  #f8f1f8;\n",
       "        }    #T_35aa0aa8_b2b1_11e7_969b_60f81db72a82row3_col3 {\n",
       "            background-color:  #e2dfee;\n",
       "        }    #T_35aa0aa8_b2b1_11e7_969b_60f81db72a82row3_col4 {\n",
       "            background-color:  #f7f0f7;\n",
       "        }    #T_35aa0aa8_b2b1_11e7_969b_60f81db72a82row3_col5 {\n",
       "            background-color:  #faf2f8;\n",
       "        }    #T_35aa0aa8_b2b1_11e7_969b_60f81db72a82row3_col6 {\n",
       "            background-color:  #fef6fb;\n",
       "        }    #T_35aa0aa8_b2b1_11e7_969b_60f81db72a82row4_col0 {\n",
       "            background-color:  #fef6fb;\n",
       "        }    #T_35aa0aa8_b2b1_11e7_969b_60f81db72a82row4_col1 {\n",
       "            background-color:  #fcf4fa;\n",
       "        }    #T_35aa0aa8_b2b1_11e7_969b_60f81db72a82row4_col2 {\n",
       "            background-color:  #faf3f9;\n",
       "        }    #T_35aa0aa8_b2b1_11e7_969b_60f81db72a82row4_col3 {\n",
       "            background-color:  #f5eef6;\n",
       "        }    #T_35aa0aa8_b2b1_11e7_969b_60f81db72a82row4_col4 {\n",
       "            background-color:  #f1ebf5;\n",
       "        }    #T_35aa0aa8_b2b1_11e7_969b_60f81db72a82row4_col5 {\n",
       "            background-color:  #faf3f9;\n",
       "        }    #T_35aa0aa8_b2b1_11e7_969b_60f81db72a82row4_col6 {\n",
       "            background-color:  #fef6fb;\n",
       "        }    #T_35aa0aa8_b2b1_11e7_969b_60f81db72a82row5_col0 {\n",
       "            background-color:  #fff7fb;\n",
       "        }    #T_35aa0aa8_b2b1_11e7_969b_60f81db72a82row5_col1 {\n",
       "            background-color:  #fff7fb;\n",
       "        }    #T_35aa0aa8_b2b1_11e7_969b_60f81db72a82row5_col2 {\n",
       "            background-color:  #fef6fb;\n",
       "        }    #T_35aa0aa8_b2b1_11e7_969b_60f81db72a82row5_col3 {\n",
       "            background-color:  #fdf5fa;\n",
       "        }    #T_35aa0aa8_b2b1_11e7_969b_60f81db72a82row5_col4 {\n",
       "            background-color:  #fef6fa;\n",
       "        }    #T_35aa0aa8_b2b1_11e7_969b_60f81db72a82row5_col5 {\n",
       "            background-color:  #fbf3f9;\n",
       "        }    #T_35aa0aa8_b2b1_11e7_969b_60f81db72a82row5_col6 {\n",
       "            background-color:  #fff7fb;\n",
       "        }    #T_35aa0aa8_b2b1_11e7_969b_60f81db72a82row6_col0 {\n",
       "            background-color:  #faf3f9;\n",
       "        }    #T_35aa0aa8_b2b1_11e7_969b_60f81db72a82row6_col1 {\n",
       "            background-color:  #dddbec;\n",
       "        }    #T_35aa0aa8_b2b1_11e7_969b_60f81db72a82row6_col2 {\n",
       "            background-color:  #8bb2d4;\n",
       "        }    #T_35aa0aa8_b2b1_11e7_969b_60f81db72a82row6_col3 {\n",
       "            background-color:  #023858;\n",
       "        }    #T_35aa0aa8_b2b1_11e7_969b_60f81db72a82row6_col4 {\n",
       "            background-color:  #023858;\n",
       "        }    #T_35aa0aa8_b2b1_11e7_969b_60f81db72a82row6_col5 {\n",
       "            background-color:  #023858;\n",
       "        }    #T_35aa0aa8_b2b1_11e7_969b_60f81db72a82row6_col6 {\n",
       "            background-color:  #023858;\n",
       "        }</style>  \n",
       "<table id=\"T_35aa0aa8_b2b1_11e7_969b_60f81db72a82\" > \n",
       "<thead>    <tr> \n",
       "        <th class=\"index_name level0\" >actual</th> \n",
       "        <th class=\"col_heading level0 col0\" >1</th> \n",
       "        <th class=\"col_heading level0 col1\" >2</th> \n",
       "        <th class=\"col_heading level0 col2\" >3</th> \n",
       "        <th class=\"col_heading level0 col3\" >4</th> \n",
       "        <th class=\"col_heading level0 col4\" >5</th> \n",
       "        <th class=\"col_heading level0 col5\" >6</th> \n",
       "        <th class=\"col_heading level0 col6\" >7</th> \n",
       "    </tr>    <tr> \n",
       "        <th class=\"index_name level0\" >predicted</th> \n",
       "        <th class=\"blank\" ></th> \n",
       "        <th class=\"blank\" ></th> \n",
       "        <th class=\"blank\" ></th> \n",
       "        <th class=\"blank\" ></th> \n",
       "        <th class=\"blank\" ></th> \n",
       "        <th class=\"blank\" ></th> \n",
       "        <th class=\"blank\" ></th> \n",
       "    </tr></thead> \n",
       "<tbody>    <tr> \n",
       "        <th id=\"T_35aa0aa8_b2b1_11e7_969b_60f81db72a82level0_row0\" class=\"row_heading level0 row0\" >1</th> \n",
       "        <td id=\"T_35aa0aa8_b2b1_11e7_969b_60f81db72a82row0_col0\" class=\"data row0 col0\" >29029</td> \n",
       "        <td id=\"T_35aa0aa8_b2b1_11e7_969b_60f81db72a82row0_col1\" class=\"data row0 col1\" >5466</td> \n",
       "        <td id=\"T_35aa0aa8_b2b1_11e7_969b_60f81db72a82row0_col2\" class=\"data row0 col2\" >4519</td> \n",
       "        <td id=\"T_35aa0aa8_b2b1_11e7_969b_60f81db72a82row0_col3\" class=\"data row0 col3\" >3242</td> \n",
       "        <td id=\"T_35aa0aa8_b2b1_11e7_969b_60f81db72a82row0_col4\" class=\"data row0 col4\" >2017</td> \n",
       "        <td id=\"T_35aa0aa8_b2b1_11e7_969b_60f81db72a82row0_col5\" class=\"data row0 col5\" >1143</td> \n",
       "        <td id=\"T_35aa0aa8_b2b1_11e7_969b_60f81db72a82row0_col6\" class=\"data row0 col6\" >1004</td> \n",
       "    </tr>    <tr> \n",
       "        <th id=\"T_35aa0aa8_b2b1_11e7_969b_60f81db72a82level0_row1\" class=\"row_heading level0 row1\" >2</th> \n",
       "        <td id=\"T_35aa0aa8_b2b1_11e7_969b_60f81db72a82row1_col0\" class=\"data row1 col0\" >58</td> \n",
       "        <td id=\"T_35aa0aa8_b2b1_11e7_969b_60f81db72a82row1_col1\" class=\"data row1 col1\" >183</td> \n",
       "        <td id=\"T_35aa0aa8_b2b1_11e7_969b_60f81db72a82row1_col2\" class=\"data row1 col2\" >72</td> \n",
       "        <td id=\"T_35aa0aa8_b2b1_11e7_969b_60f81db72a82row1_col3\" class=\"data row1 col3\" >73</td> \n",
       "        <td id=\"T_35aa0aa8_b2b1_11e7_969b_60f81db72a82row1_col4\" class=\"data row1 col4\" >63</td> \n",
       "        <td id=\"T_35aa0aa8_b2b1_11e7_969b_60f81db72a82row1_col5\" class=\"data row1 col5\" >32</td> \n",
       "        <td id=\"T_35aa0aa8_b2b1_11e7_969b_60f81db72a82row1_col6\" class=\"data row1 col6\" >35</td> \n",
       "    </tr>    <tr> \n",
       "        <th id=\"T_35aa0aa8_b2b1_11e7_969b_60f81db72a82level0_row2\" class=\"row_heading level0 row2\" >3</th> \n",
       "        <td id=\"T_35aa0aa8_b2b1_11e7_969b_60f81db72a82row2_col0\" class=\"data row2 col0\" >236</td> \n",
       "        <td id=\"T_35aa0aa8_b2b1_11e7_969b_60f81db72a82row2_col1\" class=\"data row2 col1\" >253</td> \n",
       "        <td id=\"T_35aa0aa8_b2b1_11e7_969b_60f81db72a82row2_col2\" class=\"data row2 col2\" >596</td> \n",
       "        <td id=\"T_35aa0aa8_b2b1_11e7_969b_60f81db72a82row2_col3\" class=\"data row2 col3\" >359</td> \n",
       "        <td id=\"T_35aa0aa8_b2b1_11e7_969b_60f81db72a82row2_col4\" class=\"data row2 col4\" >296</td> \n",
       "        <td id=\"T_35aa0aa8_b2b1_11e7_969b_60f81db72a82row2_col5\" class=\"data row2 col5\" >215</td> \n",
       "        <td id=\"T_35aa0aa8_b2b1_11e7_969b_60f81db72a82row2_col6\" class=\"data row2 col6\" >204</td> \n",
       "    </tr>    <tr> \n",
       "        <th id=\"T_35aa0aa8_b2b1_11e7_969b_60f81db72a82level0_row3\" class=\"row_heading level0 row3\" >4</th> \n",
       "        <td id=\"T_35aa0aa8_b2b1_11e7_969b_60f81db72a82row3_col0\" class=\"data row3 col0\" >228</td> \n",
       "        <td id=\"T_35aa0aa8_b2b1_11e7_969b_60f81db72a82row3_col1\" class=\"data row3 col1\" >242</td> \n",
       "        <td id=\"T_35aa0aa8_b2b1_11e7_969b_60f81db72a82row3_col2\" class=\"data row3 col2\" >283</td> \n",
       "        <td id=\"T_35aa0aa8_b2b1_11e7_969b_60f81db72a82row3_col3\" class=\"data row3 col3\" >624</td> \n",
       "        <td id=\"T_35aa0aa8_b2b1_11e7_969b_60f81db72a82row3_col4\" class=\"data row3 col4\" >306</td> \n",
       "        <td id=\"T_35aa0aa8_b2b1_11e7_969b_60f81db72a82row3_col5\" class=\"data row3 col5\" >240</td> \n",
       "        <td id=\"T_35aa0aa8_b2b1_11e7_969b_60f81db72a82row3_col6\" class=\"data row3 col6\" >240</td> \n",
       "    </tr>    <tr> \n",
       "        <th id=\"T_35aa0aa8_b2b1_11e7_969b_60f81db72a82level0_row4\" class=\"row_heading level0 row4\" >5</th> \n",
       "        <td id=\"T_35aa0aa8_b2b1_11e7_969b_60f81db72a82row4_col0\" class=\"data row4 col0\" >178</td> \n",
       "        <td id=\"T_35aa0aa8_b2b1_11e7_969b_60f81db72a82row4_col1\" class=\"data row4 col1\" >147</td> \n",
       "        <td id=\"T_35aa0aa8_b2b1_11e7_969b_60f81db72a82row4_col2\" class=\"data row4 col2\" >227</td> \n",
       "        <td id=\"T_35aa0aa8_b2b1_11e7_969b_60f81db72a82row4_col3\" class=\"data row4 col3\" >297</td> \n",
       "        <td id=\"T_35aa0aa8_b2b1_11e7_969b_60f81db72a82row4_col4\" class=\"data row4 col4\" >464</td> \n",
       "        <td id=\"T_35aa0aa8_b2b1_11e7_969b_60f81db72a82row4_col5\" class=\"data row4 col5\" >205</td> \n",
       "        <td id=\"T_35aa0aa8_b2b1_11e7_969b_60f81db72a82row4_col6\" class=\"data row4 col6\" >206</td> \n",
       "    </tr>    <tr> \n",
       "        <th id=\"T_35aa0aa8_b2b1_11e7_969b_60f81db72a82level0_row5\" class=\"row_heading level0 row5\" >6</th> \n",
       "        <td id=\"T_35aa0aa8_b2b1_11e7_969b_60f81db72a82row5_col0\" class=\"data row5 col0\" >51</td> \n",
       "        <td id=\"T_35aa0aa8_b2b1_11e7_969b_60f81db72a82row5_col1\" class=\"data row5 col1\" >39</td> \n",
       "        <td id=\"T_35aa0aa8_b2b1_11e7_969b_60f81db72a82row5_col2\" class=\"data row5 col2\" >91</td> \n",
       "        <td id=\"T_35aa0aa8_b2b1_11e7_969b_60f81db72a82row5_col3\" class=\"data row5 col3\" >111</td> \n",
       "        <td id=\"T_35aa0aa8_b2b1_11e7_969b_60f81db72a82row5_col4\" class=\"data row5 col4\" >98</td> \n",
       "        <td id=\"T_35aa0aa8_b2b1_11e7_969b_60f81db72a82row5_col5\" class=\"data row5 col5\" >198</td> \n",
       "        <td id=\"T_35aa0aa8_b2b1_11e7_969b_60f81db72a82row5_col6\" class=\"data row5 col6\" >100</td> \n",
       "    </tr>    <tr> \n",
       "        <th id=\"T_35aa0aa8_b2b1_11e7_969b_60f81db72a82level0_row6\" class=\"row_heading level0 row6\" >7</th> \n",
       "        <td id=\"T_35aa0aa8_b2b1_11e7_969b_60f81db72a82row6_col0\" class=\"data row6 col0\" >971</td> \n",
       "        <td id=\"T_35aa0aa8_b2b1_11e7_969b_60f81db72a82row6_col1\" class=\"data row6 col1\" >1098</td> \n",
       "        <td id=\"T_35aa0aa8_b2b1_11e7_969b_60f81db72a82row6_col2\" class=\"data row6 col2\" >2043</td> \n",
       "        <td id=\"T_35aa0aa8_b2b1_11e7_969b_60f81db72a82row6_col3\" class=\"data row6 col3\" >3284</td> \n",
       "        <td id=\"T_35aa0aa8_b2b1_11e7_969b_60f81db72a82row6_col4\" class=\"data row6 col4\" >4440</td> \n",
       "        <td id=\"T_35aa0aa8_b2b1_11e7_969b_60f81db72a82row6_col5\" class=\"data row6 col5\" >5538</td> \n",
       "        <td id=\"T_35aa0aa8_b2b1_11e7_969b_60f81db72a82row6_col6\" class=\"data row6 col6\" >28956</td> \n",
       "    </tr></tbody> \n",
       "</table> "
      ],
      "text/plain": [
       "<pandas.io.formats.style.Styler at 0x1154ffa90>"
      ]
     },
     "execution_count": 20,
     "metadata": {},
     "output_type": "execute_result"
    }
   ],
   "source": [
    "#from sklearn.linear_model import LogisticRegression\n",
    "from sklearn.ensemble import GradientBoostingClassifier\n",
    "pd.DataFrame({\n",
    "    'predicted': GradientBoostingClassifier().fit(X, y).predict(X),\n",
    "    'actual': y\n",
    "}).groupby(['predicted', 'actual']).size().unstack().style.background_gradient()"
   ]
  },
  {
   "cell_type": "code",
   "execution_count": null,
   "metadata": {
    "collapsed": true
   },
   "outputs": [],
   "source": []
  }
 ],
 "metadata": {
  "kernelspec": {
   "display_name": "Python 3",
   "language": "python",
   "name": "python3"
  },
  "language_info": {
   "codemirror_mode": {
    "name": "ipython",
    "version": 3
   },
   "file_extension": ".py",
   "mimetype": "text/x-python",
   "name": "python",
   "nbconvert_exporter": "python",
   "pygments_lexer": "ipython3",
   "version": "3.5.2"
  }
 },
 "nbformat": 4,
 "nbformat_minor": 2
}
