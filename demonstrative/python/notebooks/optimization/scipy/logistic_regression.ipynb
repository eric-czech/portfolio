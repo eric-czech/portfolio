{
 "cells": [
  {
   "cell_type": "markdown",
   "metadata": {
    "deletable": true,
    "editable": true
   },
   "source": [
    "# Logistic Regression"
   ]
  },
  {
   "cell_type": "code",
   "execution_count": 1,
   "metadata": {
    "collapsed": true,
    "deletable": true,
    "editable": true
   },
   "outputs": [],
   "source": [
    "%run -m ipy_startup\n",
    "%matplotlib inline\n",
    "from py_utils import math"
   ]
  },
  {
   "cell_type": "code",
   "execution_count": 18,
   "metadata": {
    "collapsed": false,
    "deletable": true,
    "editable": true
   },
   "outputs": [
    {
     "data": {
      "text/plain": [
       "((100000, 25), (100000,))"
      ]
     },
     "execution_count": 18,
     "metadata": {},
     "output_type": "execute_result"
    }
   ],
   "source": [
    "# Generate random data to model\n",
    "np.random.seed(1)\n",
    "n, n_var = 100000, 25\n",
    "#n, n_class, n_var = 10000, 4, 5\n",
    "\n",
    "X = np.random.randn(n, n_var)\n",
    "\n",
    "b_act = np.random.randn(n_var)\n",
    "b_int = -1.5\n",
    "p = math.sigmoid(b_int + np.dot(X, b_act))\n",
    "\n",
    "y = np.array([np.random.choice(np.array([0, 1]), size=1, p=[1-v, v])[0] for v in p])\n",
    "\n",
    "X.shape, y.shape"
   ]
  },
  {
   "cell_type": "code",
   "execution_count": 19,
   "metadata": {
    "collapsed": false,
    "deletable": true,
    "editable": true
   },
   "outputs": [
    {
     "data": {
      "text/plain": [
       "0    64688\n",
       "1    35312\n",
       "dtype: int64"
      ]
     },
     "execution_count": 19,
     "metadata": {},
     "output_type": "execute_result"
    }
   ],
   "source": [
    "pd.Series(y).value_counts()"
   ]
  },
  {
   "cell_type": "code",
   "execution_count": 20,
   "metadata": {
    "collapsed": false,
    "deletable": true,
    "editable": true
   },
   "outputs": [],
   "source": [
    "from ml.scipy import optimize, models\n",
    "param_names = ['X{}'.format(i) for i in range(n_var)]\n",
    "constraints = optimize.ScipyConstraints()\n",
    "#constraints.add_gtez('X0')\n",
    "# constraints.add_gte('X1', 'X8')\n",
    "# constraints.add_gte('X2', 'X9')\n",
    "# constraints.add_gte('X3', 'X10')\n",
    "# constraints.add_gte('X4', 'X11')\n",
    "# constraints.add_gte('X5', 'X12')\n",
    "# constraints.add_gte('X6', 'X13')\n",
    "#constraints.add_gtev('X1', 5.0)\n",
    "\n",
    "model = (\n",
    "    models.ScipyLogisticRegressionModelBuilder()\n",
    "    .add_linear_params(param_names)\n",
    "    .add_intercept()\n",
    "    .build()\n",
    ")\n"
   ]
  },
  {
   "cell_type": "code",
   "execution_count": 21,
   "metadata": {
    "collapsed": false,
    "deletable": true,
    "editable": true
   },
   "outputs": [
    {
     "name": "stdout",
     "output_type": "stream",
     "text": [
      "CPU times: user 3.99 s, sys: 50.3 ms, total: 4.04 s\n",
      "Wall time: 1.03 s\n"
     ]
    }
   ],
   "source": [
    "%%time\n",
    "est = optimize.ScipyRegressor(model, analytical_gradients=True, monitor_gradient=True)\n",
    "est.fit(X, y)"
   ]
  },
  {
   "cell_type": "code",
   "execution_count": 22,
   "metadata": {
    "collapsed": false,
    "deletable": true,
    "editable": true
   },
   "outputs": [
    {
     "name": "stdout",
     "output_type": "stream",
     "text": [
      "Optimization converged successfully:\n",
      "\n",
      "    Success: True\n",
      "    Status Code: 0\n",
      "    Message: Optimization terminated successfully.\n",
      "    Number of iterations: 12\n",
      "    Number of function evaluations: 13\n",
      "    Objective Function Value: 0.2961519778451411\n",
      "    \n"
     ]
    }
   ],
   "source": [
    "print(est.get_fit_summary())"
   ]
  },
  {
   "cell_type": "code",
   "execution_count": 23,
   "metadata": {
    "collapsed": false,
    "deletable": true,
    "editable": true
   },
   "outputs": [
    {
     "data": {
      "text/plain": [
       "array([  2.37471445e-08,   1.60932554e-08,   1.53922473e-08,\n",
       "         1.09171950e-08,   3.11467994e-08,   1.21765947e-08,\n",
       "         1.45349393e-08,   1.23837600e-08,   1.61291802e-08,\n",
       "         2.54392475e-08,   1.96485653e-08,   2.13310067e-08])"
      ]
     },
     "execution_count": 23,
     "metadata": {},
     "output_type": "execute_result"
    }
   ],
   "source": [
    "est.get_gradient_error_history()"
   ]
  },
  {
   "cell_type": "code",
   "execution_count": 24,
   "metadata": {
    "collapsed": false,
    "deletable": true,
    "editable": true
   },
   "outputs": [
    {
     "data": {
      "text/plain": [
       "     fun: 0.2961519778451411\n",
       "     jac: array([ -3.23943272e-05,  -1.98823499e-05,  -3.60572254e-05,\n",
       "         2.77765728e-05,  -2.26867948e-05,   2.05430901e-05,\n",
       "        -2.38734395e-05,   8.37480555e-05,   2.59035038e-05,\n",
       "         2.11523987e-05,   3.47835488e-06,   3.67495761e-05,\n",
       "        -8.73140369e-05,   1.02793600e-05,  -5.84601774e-05,\n",
       "        -4.77776565e-05,   3.59872703e-05,   1.46178969e-05,\n",
       "         7.00250836e-07,  -2.57525842e-05,  -2.49943925e-05,\n",
       "        -6.00261363e-05,   3.39212025e-05,   1.08715319e-05,\n",
       "        -3.32607494e-05,   1.38294761e-05])\n",
       " message: 'Optimization terminated successfully.'\n",
       "    nfev: 13\n",
       "     nit: 12\n",
       "    njev: 12\n",
       "  status: 0\n",
       " success: True\n",
       "       x: array([-1.50697783,  0.5030532 , -0.77216461, -0.0170197 , -0.49477452,\n",
       "        0.57759569, -0.37420178,  1.61479035,  0.96798676,  0.42357443,\n",
       "       -0.51620624, -0.1936134 , -0.94429151, -0.12387243, -0.60887483,\n",
       "       -0.24584615,  0.3305212 , -0.04756696,  0.40700388, -0.05871122,\n",
       "       -0.80953402, -1.87864461,  0.64120124, -0.20066757, -0.82537646,\n",
       "       -0.60351881])"
      ]
     },
     "execution_count": 24,
     "metadata": {},
     "output_type": "execute_result"
    }
   ],
   "source": [
    "est.fit_"
   ]
  },
  {
   "cell_type": "code",
   "execution_count": 25,
   "metadata": {
    "collapsed": false,
    "deletable": true,
    "editable": true
   },
   "outputs": [
    {
     "data": {
      "text/plain": [
       "{'linear': OrderedDict([('X0', 0.50305320371473961), ('X1', -0.77216461442676576), ('X2', -0.017019695808120613), ('X3', -0.49477452170510838), ('X4', 0.57759569283814693), ('X5', -0.37420178426720468), ('X6', 1.6147903490269511), ('X7', 0.96798675821643188), ('X8', 0.42357443385798899), ('X9', -0.5162062428072407), ('X10', -0.19361340056699089), ('X11', -0.94429151076055906), ('X12', -0.12387242870346886), ('X13', -0.60887482639798041), ('X14', -0.24584614535521751), ('X15', 0.33052119542999936), ('X16', -0.047566964097619104), ('X17', 0.40700387636245561), ('X18', -0.058711224322447249), ('X19', -0.80953402119845841), ('X20', -1.8786446081525778), ('X21', 0.6412012390319658), ('X22', -0.20066756653292267), ('X23', -0.82537646332129699), ('X24', -0.60351881448206446)]), 'fit': OrderedDict(), 'intercept': OrderedDict([('intercept', -1.5069778297712662)])}"
      ]
     },
     "execution_count": 25,
     "metadata": {},
     "output_type": "execute_result"
    }
   ],
   "source": [
    "d_inf = est.inference()\n",
    "d_inf"
   ]
  },
  {
   "cell_type": "code",
   "execution_count": 26,
   "metadata": {
    "collapsed": false
   },
   "outputs": [
    {
     "data": {
      "text/plain": [
       "-1.5"
      ]
     },
     "execution_count": 26,
     "metadata": {},
     "output_type": "execute_result"
    }
   ],
   "source": [
    "b_int"
   ]
  },
  {
   "cell_type": "code",
   "execution_count": 27,
   "metadata": {
    "collapsed": false,
    "deletable": true,
    "editable": true
   },
   "outputs": [
    {
     "data": {
      "text/plain": [
       "array([ 0.47834502, -0.7695831 , -0.03104586, -0.47849118,  0.56173319,\n",
       "       -0.37009213,  1.59485012,  0.9710682 ,  0.43058281, -0.50694111,\n",
       "       -0.18585817, -0.94271725, -0.12937793, -0.61099284, -0.24448332,\n",
       "        0.33918714, -0.03179941,  0.40415388, -0.06600022, -0.81839942,\n",
       "       -1.86816648,  0.63376793, -0.20945399, -0.81956493, -0.60325046])"
      ]
     },
     "execution_count": 27,
     "metadata": {},
     "output_type": "execute_result"
    }
   ],
   "source": [
    "b_act"
   ]
  },
  {
   "cell_type": "code",
   "execution_count": 28,
   "metadata": {
    "collapsed": true,
    "deletable": true,
    "editable": true
   },
   "outputs": [],
   "source": [
    "def compare(v_est, v_act):\n",
    "    plt.scatter(v_est, v_act)\n",
    "    vmin, vmax = v_act.min(), v_act.max()\n",
    "    plt.xlim(vmin - .1, vmax + .1)\n",
    "    plt.ylim(vmin - .1, vmax + .1)"
   ]
  },
  {
   "cell_type": "code",
   "execution_count": 29,
   "metadata": {
    "collapsed": false,
    "deletable": true,
    "editable": true
   },
   "outputs": [
    {
     "data": {
      "image/png": "[encoded data removed]",
      "text/plain": [
       "<matplotlib.figure.Figure at 0x113007710>"
      ]
     },
     "metadata": {},
     "output_type": "display_data"
    }
   ],
   "source": [
    "compare(pd.Series(d_inf['linear']), b_act)"
   ]
  },
  {
   "cell_type": "code",
   "execution_count": 30,
   "metadata": {
    "collapsed": false,
    "deletable": true,
    "editable": true
   },
   "outputs": [
    {
     "data": {
      "text/plain": [
       "array([[ 0.00210619,  0.99789381],\n",
       "       [ 0.92851674,  0.07148326],\n",
       "       [ 0.06693114,  0.93306886],\n",
       "       [ 0.89165233,  0.10834767],\n",
       "       [ 0.99733573,  0.00266427]])"
      ]
     },
     "execution_count": 30,
     "metadata": {},
     "output_type": "execute_result"
    }
   ],
   "source": [
    "d_proba = est.predict(X, key='probabilities')\n",
    "d_proba[:5]"
   ]
  },
  {
   "cell_type": "code",
   "execution_count": 31,
   "metadata": {
    "collapsed": false,
    "deletable": true,
    "editable": true
   },
   "outputs": [
    {
     "data": {
      "text/plain": [
       "1    66175\n",
       "2    33825\n",
       "dtype: int64"
      ]
     },
     "execution_count": 31,
     "metadata": {},
     "output_type": "execute_result"
    }
   ],
   "source": [
    "pd.Series(np.argmax(d_proba, axis=1) + 1).value_counts()"
   ]
  },
  {
   "cell_type": "code",
   "execution_count": 32,
   "metadata": {
    "collapsed": false,
    "deletable": true,
    "editable": true
   },
   "outputs": [
    {
     "data": {
      "text/html": [
       "<style  type=\"text/css\" >\n",
       "    #T_727cb480_b2b8_11e7_b9d2_60f81db72a82row0_col0 {\n",
       "            background-color:  #023858;\n",
       "        }    #T_727cb480_b2b8_11e7_b9d2_60f81db72a82row0_col1 {\n",
       "            background-color:  #fff7fb;\n",
       "        }    #T_727cb480_b2b8_11e7_b9d2_60f81db72a82row1_col0 {\n",
       "            background-color:  #fff7fb;\n",
       "        }    #T_727cb480_b2b8_11e7_b9d2_60f81db72a82row1_col1 {\n",
       "            background-color:  #023858;\n",
       "        }</style>  \n",
       "<table id=\"T_727cb480_b2b8_11e7_b9d2_60f81db72a82\" > \n",
       "<thead>    <tr> \n",
       "        <th class=\"index_name level0\" >actual</th> \n",
       "        <th class=\"col_heading level0 col0\" >0</th> \n",
       "        <th class=\"col_heading level0 col1\" >1</th> \n",
       "    </tr>    <tr> \n",
       "        <th class=\"index_name level0\" >predicted</th> \n",
       "        <th class=\"blank\" ></th> \n",
       "        <th class=\"blank\" ></th> \n",
       "    </tr></thead> \n",
       "<tbody>    <tr> \n",
       "        <th id=\"T_727cb480_b2b8_11e7_b9d2_60f81db72a82level0_row0\" class=\"row_heading level0 row0\" >0</th> \n",
       "        <td id=\"T_727cb480_b2b8_11e7_b9d2_60f81db72a82row0_col0\" class=\"data row0 col0\" >58872</td> \n",
       "        <td id=\"T_727cb480_b2b8_11e7_b9d2_60f81db72a82row0_col1\" class=\"data row0 col1\" >7303</td> \n",
       "    </tr>    <tr> \n",
       "        <th id=\"T_727cb480_b2b8_11e7_b9d2_60f81db72a82level0_row1\" class=\"row_heading level0 row1\" >1</th> \n",
       "        <td id=\"T_727cb480_b2b8_11e7_b9d2_60f81db72a82row1_col0\" class=\"data row1 col0\" >5816</td> \n",
       "        <td id=\"T_727cb480_b2b8_11e7_b9d2_60f81db72a82row1_col1\" class=\"data row1 col1\" >28009</td> \n",
       "    </tr></tbody> \n",
       "</table> "
      ],
      "text/plain": [
       "<pandas.io.formats.style.Styler at 0x11304c390>"
      ]
     },
     "execution_count": 32,
     "metadata": {},
     "output_type": "execute_result"
    }
   ],
   "source": [
    "pd.DataFrame({\n",
    "    'predicted': est.predict(X),\n",
    "    'actual': y\n",
    "}).groupby(['predicted', 'actual']).size().unstack().style.background_gradient()"
   ]
  },
  {
   "cell_type": "code",
   "execution_count": 33,
   "metadata": {
    "collapsed": false,
    "deletable": true,
    "editable": true
   },
   "outputs": [
    {
     "data": {
      "text/html": [
       "<style  type=\"text/css\" >\n",
       "    #T_86bbb3d8_b2b8_11e7_a875_60f81db72a82row0_col0 {\n",
       "            background-color:  #023858;\n",
       "        }    #T_86bbb3d8_b2b8_11e7_a875_60f81db72a82row0_col1 {\n",
       "            background-color:  #fff7fb;\n",
       "        }    #T_86bbb3d8_b2b8_11e7_a875_60f81db72a82row1_col0 {\n",
       "            background-color:  #fff7fb;\n",
       "        }    #T_86bbb3d8_b2b8_11e7_a875_60f81db72a82row1_col1 {\n",
       "            background-color:  #023858;\n",
       "        }</style>  \n",
       "<table id=\"T_86bbb3d8_b2b8_11e7_a875_60f81db72a82\" > \n",
       "<thead>    <tr> \n",
       "        <th class=\"index_name level0\" >actual</th> \n",
       "        <th class=\"col_heading level0 col0\" >0</th> \n",
       "        <th class=\"col_heading level0 col1\" >1</th> \n",
       "    </tr>    <tr> \n",
       "        <th class=\"index_name level0\" >predicted</th> \n",
       "        <th class=\"blank\" ></th> \n",
       "        <th class=\"blank\" ></th> \n",
       "    </tr></thead> \n",
       "<tbody>    <tr> \n",
       "        <th id=\"T_86bbb3d8_b2b8_11e7_a875_60f81db72a82level0_row0\" class=\"row_heading level0 row0\" >0</th> \n",
       "        <td id=\"T_86bbb3d8_b2b8_11e7_a875_60f81db72a82row0_col0\" class=\"data row0 col0\" >60055</td> \n",
       "        <td id=\"T_86bbb3d8_b2b8_11e7_a875_60f81db72a82row0_col1\" class=\"data row0 col1\" >11075</td> \n",
       "    </tr>    <tr> \n",
       "        <th id=\"T_86bbb3d8_b2b8_11e7_a875_60f81db72a82level0_row1\" class=\"row_heading level0 row1\" >1</th> \n",
       "        <td id=\"T_86bbb3d8_b2b8_11e7_a875_60f81db72a82row1_col0\" class=\"data row1 col0\" >4633</td> \n",
       "        <td id=\"T_86bbb3d8_b2b8_11e7_a875_60f81db72a82row1_col1\" class=\"data row1 col1\" >24237</td> \n",
       "    </tr></tbody> \n",
       "</table> "
      ],
      "text/plain": [
       "<pandas.io.formats.style.Styler at 0x112eb9be0>"
      ]
     },
     "execution_count": 33,
     "metadata": {},
     "output_type": "execute_result"
    }
   ],
   "source": [
    "#from sklearn.linear_model import LogisticRegression\n",
    "from sklearn.ensemble import GradientBoostingClassifier\n",
    "pd.DataFrame({\n",
    "    'predicted': GradientBoostingClassifier().fit(X, y).predict(X),\n",
    "    'actual': y\n",
    "}).groupby(['predicted', 'actual']).size().unstack().style.background_gradient()"
   ]
  },
  {
   "cell_type": "code",
   "execution_count": null,
   "metadata": {
    "collapsed": true,
    "deletable": true,
    "editable": true
   },
   "outputs": [],
   "source": []
  }
 ],
 "metadata": {
  "kernelspec": {
   "display_name": "Python 3",
   "language": "python",
   "name": "python3"
  },
  "language_info": {
   "codemirror_mode": {
    "name": "ipython",
    "version": 3
   },
   "file_extension": ".py",
   "mimetype": "text/x-python",
   "name": "python",
   "nbconvert_exporter": "python",
   "pygments_lexer": "ipython3",
   "version": "3.5.2"
  }
 },
 "nbformat": 4,
 "nbformat_minor": 2
}
