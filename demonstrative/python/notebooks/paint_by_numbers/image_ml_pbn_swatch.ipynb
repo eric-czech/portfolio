{
 "cells": [
  {
   "cell_type": "code",
   "execution_count": 2,
   "metadata": {
    "collapsed": true
   },
   "outputs": [],
   "source": [
    "%matplotlib inline"
   ]
  },
  {
   "cell_type": "code",
   "execution_count": 3,
   "metadata": {
    "collapsed": false
   },
   "outputs": [
    {
     "data": {
      "text/html": [
       "<div>\n",
       "<table border=\"1\" class=\"dataframe\">\n",
       "  <thead>\n",
       "    <tr style=\"text-align: right;\">\n",
       "      <th></th>\n",
       "      <th>letter</th>\n",
       "      <th>r</th>\n",
       "      <th>g</th>\n",
       "      <th>b</th>\n",
       "    </tr>\n",
       "  </thead>\n",
       "  <tbody>\n",
       "    <tr>\n",
       "      <th>0</th>\n",
       "      <td>C</td>\n",
       "      <td>0.167501</td>\n",
       "      <td>0.127238</td>\n",
       "      <td>0.181714</td>\n",
       "    </tr>\n",
       "    <tr>\n",
       "      <th>1</th>\n",
       "      <td>H</td>\n",
       "      <td>0.490522</td>\n",
       "      <td>0.152973</td>\n",
       "      <td>0.092223</td>\n",
       "    </tr>\n",
       "    <tr>\n",
       "      <th>2</th>\n",
       "      <td>X</td>\n",
       "      <td>0.891883</td>\n",
       "      <td>0.804097</td>\n",
       "      <td>0.613262</td>\n",
       "    </tr>\n",
       "    <tr>\n",
       "      <th>3</th>\n",
       "      <td>M</td>\n",
       "      <td>0.537425</td>\n",
       "      <td>0.347009</td>\n",
       "      <td>0.232841</td>\n",
       "    </tr>\n",
       "    <tr>\n",
       "      <th>4</th>\n",
       "      <td>O</td>\n",
       "      <td>0.776520</td>\n",
       "      <td>0.330333</td>\n",
       "      <td>0.101629</td>\n",
       "    </tr>\n",
       "  </tbody>\n",
       "</table>\n",
       "</div>"
      ],
      "text/plain": [
       "  letter         r         g         b\n",
       "0      C  0.167501  0.127238  0.181714\n",
       "1      H  0.490522  0.152973  0.092223\n",
       "2      X  0.891883  0.804097  0.613262\n",
       "3      M  0.537425  0.347009  0.232841\n",
       "4      O  0.776520  0.330333  0.101629"
      ]
     },
     "execution_count": 3,
     "metadata": {},
     "output_type": "execute_result"
    }
   ],
   "source": [
    "index_file = '/Users/eczech/repos/portfolio/demonstrative/python/notebooks/paint_by_numbers/color_index/rgb_index.csv'\n",
    "rgb_index = pd.read_csv(index_file)\n",
    "rgb_index.head()"
   ]
  },
  {
   "cell_type": "code",
   "execution_count": 11,
   "metadata": {
    "collapsed": false
   },
   "outputs": [
    {
     "data": {
      "text/html": [
       "<div>\n",
       "<table border=\"1\" class=\"dataframe\">\n",
       "  <thead>\n",
       "    <tr style=\"text-align: right;\">\n",
       "      <th></th>\n",
       "      <th>r</th>\n",
       "      <th>g</th>\n",
       "      <th>b</th>\n",
       "      <th>index</th>\n",
       "    </tr>\n",
       "    <tr>\n",
       "      <th>letter</th>\n",
       "      <th></th>\n",
       "      <th></th>\n",
       "      <th></th>\n",
       "      <th></th>\n",
       "    </tr>\n",
       "  </thead>\n",
       "  <tbody>\n",
       "    <tr>\n",
       "      <th>A</th>\n",
       "      <td>0.103776</td>\n",
       "      <td>0.080634</td>\n",
       "      <td>0.105808</td>\n",
       "      <td>-0.565931</td>\n",
       "    </tr>\n",
       "    <tr>\n",
       "      <th>B</th>\n",
       "      <td>0.213638</td>\n",
       "      <td>0.089836</td>\n",
       "      <td>0.103097</td>\n",
       "      <td>-0.490850</td>\n",
       "    </tr>\n",
       "    <tr>\n",
       "      <th>C</th>\n",
       "      <td>0.167501</td>\n",
       "      <td>0.127238</td>\n",
       "      <td>0.181714</td>\n",
       "      <td>-0.465114</td>\n",
       "    </tr>\n",
       "    <tr>\n",
       "      <th>D</th>\n",
       "      <td>0.331201</td>\n",
       "      <td>0.122686</td>\n",
       "      <td>0.106418</td>\n",
       "      <td>-0.392727</td>\n",
       "    </tr>\n",
       "    <tr>\n",
       "      <th>F</th>\n",
       "      <td>0.162770</td>\n",
       "      <td>0.284683</td>\n",
       "      <td>0.194055</td>\n",
       "      <td>-0.358005</td>\n",
       "    </tr>\n",
       "  </tbody>\n",
       "</table>\n",
       "</div>"
      ],
      "text/plain": [
       "               r         g         b     index\n",
       "letter                                        \n",
       "A       0.103776  0.080634  0.105808 -0.565931\n",
       "B       0.213638  0.089836  0.103097 -0.490850\n",
       "C       0.167501  0.127238  0.181714 -0.465114\n",
       "D       0.331201  0.122686  0.106418 -0.392727\n",
       "F       0.162770  0.284683  0.194055 -0.358005"
      ]
     },
     "execution_count": 11,
     "metadata": {},
     "output_type": "execute_result"
    }
   ],
   "source": [
    "from sklearn.decomposition import PCA\n",
    "def sort_rgb_index(rgb_index):\n",
    "    rgb_sorted = rgb_index.copy()\n",
    "    pca = PCA(n_components=3)\n",
    "    rgb_sorted['index'] = pca.fit_transform(rgb_sorted[['r', 'g', 'b']])[:,0]\n",
    "    return rgb_sorted.sort('index')\n",
    "\n",
    "rgb_df = sort_rgb_index(rgb_index).set_index('letter').sort('index')\n",
    "rgb_df.head()"
   ]
  },
  {
   "cell_type": "code",
   "execution_count": 12,
   "metadata": {
    "collapsed": false
   },
   "outputs": [
    {
     "data": {
      "text/plain": [
       "[{'b': 0.10580827029076237,\n",
       "  'g': 0.080634150667902305,\n",
       "  'index': -0.56593106570928986,\n",
       "  'key': 'A',\n",
       "  'r': 0.10377566377520084},\n",
       " {'b': 0.10309717691016053,\n",
       "  'g': 0.089836371921539204,\n",
       "  'index': -0.49084958071012441,\n",
       "  'key': 'B',\n",
       "  'r': 0.21363825778755524},\n",
       " {'b': 0.18171434759163335,\n",
       "  'g': 0.12723825952093332,\n",
       "  'index': -0.46511416366170605,\n",
       "  'key': 'C',\n",
       "  'r': 0.16750122826892419}]"
      ]
     },
     "execution_count": 12,
     "metadata": {},
     "output_type": "execute_result"
    }
   ],
   "source": [
    "rgb_sorted = []\n",
    "for k, r in rgb_df.iterrows():\n",
    "    v = r.to_dict()\n",
    "    v['key'] = k\n",
    "    rgb_sorted.append(v)\n",
    "rgb_sorted[:3]"
   ]
  },
  {
   "cell_type": "code",
   "execution_count": 99,
   "metadata": {
    "collapsed": false
   },
   "outputs": [
    {
     "data": {
      "image/png": "[encoded data removed]",
      "text/plain": [
       "<matplotlib.figure.Figure at 0x10d28b490>"
      ]
     },
     "metadata": {},
     "output_type": "display_data"
    }
   ],
   "source": [
    "import matplotlib\n",
    "\n",
    "n_colors = len(rgb_sorted)\n",
    "\n",
    "\n",
    "swatch_height = 300\n",
    "swatch_width = 4\n",
    "vmargin = 50\n",
    "vpad = vmargin / 2\n",
    "width, height = swatch_width + 50, n_colors * swatch_height + 2 * vmargin\n",
    "\n",
    "fig = plt.figure()\n",
    "fig.set_size_inches((12, n_colors * 1))\n",
    "ax = fig.add_subplot(111)\n",
    "\n",
    "for i, color in enumerate(rgb_sorted):\n",
    "    c = (color['r'], color['g'], color['b'])\n",
    "    y = vmargin + i * swatch_height\n",
    "    rect = matplotlib.patches.FancyBboxPatch((10, y + vmargin), swatch_width, \n",
    "                                             swatch_height - vmargin, fc=c, \n",
    "                                             boxstyle=\"round,pad=.5,rounding_size=1\")\n",
    "    ax.add_patch(rect)\n",
    "    ax.text(12 + swatch_width, y + swatch_height/2 - 20, color['key'], fontsize=25)\n",
    "plt.xlim([0, width])\n",
    "plt.ylim([0, height])\n",
    "fig.savefig('/tmp/swatch.png')"
   ]
  },
  {
   "cell_type": "code",
   "execution_count": null,
   "metadata": {
    "collapsed": true
   },
   "outputs": [],
   "source": []
  }
 ],
 "metadata": {
  "kernelspec": {
   "display_name": "Python 3",
   "language": "python",
   "name": "python3"
  },
  "language_info": {
   "codemirror_mode": {
    "name": "ipython",
    "version": 3
   },
   "file_extension": ".py",
   "mimetype": "text/x-python",
   "name": "python",
   "nbconvert_exporter": "python",
   "pygments_lexer": "ipython3",
   "version": "3.4.3"
  }
 },
 "nbformat": 4,
 "nbformat_minor": 0
}
