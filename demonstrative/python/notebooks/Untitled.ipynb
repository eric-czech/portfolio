{
 "cells": [
  {
   "cell_type": "code",
   "execution_count": 137,
   "metadata": {
    "collapsed": true
   },
   "outputs": [],
   "source": [
    "%run -m ipy_startup"
   ]
  },
  {
   "cell_type": "code",
   "execution_count": 138,
   "metadata": {
    "collapsed": true
   },
   "outputs": [],
   "source": [
    "from sklearn.linear_model import Ridge"
   ]
  },
  {
   "cell_type": "code",
   "execution_count": 139,
   "metadata": {
    "collapsed": false
   },
   "outputs": [
    {
     "data": {
      "text/plain": [
       "(array([[ 1.        ,  0.98826671,  0.69079169,  1.54392859],\n",
       "        [ 1.        , -0.56390941, -1.71830628,  0.33467423],\n",
       "        [ 1.        ,  0.53257642,  0.2566109 , -0.05528603],\n",
       "        [ 1.        ,  0.15053761,  0.70168193,  0.46105576],\n",
       "        [ 1.        ,  0.36128768,  0.18848588,  0.17610384],\n",
       "        [ 1.        , -1.76490603, -0.21587501, -0.85888912],\n",
       "        [ 1.        ,  0.332849  , -2.03248529,  1.53781048],\n",
       "        [ 1.        , -1.53250631, -0.43814661,  0.8894395 ],\n",
       "        [ 1.        ,  0.43172347,  0.47227341,  0.05562302],\n",
       "        [ 1.        , -0.41551664,  0.14767624,  0.32522431]]),\n",
       " array([ 2.33366255, -0.42306255,  1.66088187,  1.50137857,  1.45553062,\n",
       "        -0.87284354,  0.31660636, -0.75157961,  1.66786017,  0.65832148]))"
      ]
     },
     "execution_count": 139,
     "metadata": {},
     "output_type": "execute_result"
    }
   ],
   "source": [
    "n = 10\n",
    "p = 3\n",
    "d = np.random.randn(n, p)\n",
    "d = np.hstack((np.ones((10, 1)), d))\n",
    "dh = np.mean(d, axis=0)\n",
    "dh = np.repeat(np.reshape(dh, (-1, 1)), n, axis=1).T\n",
    "b = np.array([1, 1, .5, 0])\n",
    "y = np.dot(d, b)\n",
    "d, y"
   ]
  },
  {
   "cell_type": "code",
   "execution_count": 140,
   "metadata": {
    "collapsed": false
   },
   "outputs": [
    {
     "data": {
      "text/plain": [
       "array([[ 1.        , -0.14795975, -0.19472931,  0.44096846],\n",
       "       [ 1.        , -0.14795975, -0.19472931,  0.44096846],\n",
       "       [ 1.        , -0.14795975, -0.19472931,  0.44096846],\n",
       "       [ 1.        , -0.14795975, -0.19472931,  0.44096846],\n",
       "       [ 1.        , -0.14795975, -0.19472931,  0.44096846],\n",
       "       [ 1.        , -0.14795975, -0.19472931,  0.44096846],\n",
       "       [ 1.        , -0.14795975, -0.19472931,  0.44096846],\n",
       "       [ 1.        , -0.14795975, -0.19472931,  0.44096846],\n",
       "       [ 1.        , -0.14795975, -0.19472931,  0.44096846],\n",
       "       [ 1.        , -0.14795975, -0.19472931,  0.44096846]])"
      ]
     },
     "execution_count": 140,
     "metadata": {},
     "output_type": "execute_result"
    }
   ],
   "source": [
    "dh"
   ]
  },
  {
   "cell_type": "code",
   "execution_count": 134,
   "metadata": {
    "collapsed": false
   },
   "outputs": [
    {
     "data": {
      "text/plain": [
       "array([ 0.71072287,  0.85005135,  0.31575083, -0.13746824])"
      ]
     },
     "execution_count": 134,
     "metadata": {},
     "output_type": "execute_result"
    }
   ],
   "source": [
    "est = Ridge(fit_intercept=False, normalize=False, alpha=1.)\n",
    "est.fit(d, y)\n",
    "est.coef_"
   ]
  },
  {
   "cell_type": "code",
   "execution_count": 135,
   "metadata": {
    "collapsed": false
   },
   "outputs": [
    {
     "data": {
      "text/plain": [
       "array([ 0.1789955 ,  0.90022607,  0.39836341, -0.0748735 ])"
      ]
     },
     "execution_count": 135,
     "metadata": {},
     "output_type": "execute_result"
    }
   ],
   "source": [
    "est = Ridge(fit_intercept=False, normalize=False, alpha=1.)\n",
    "X = d - dh\n",
    "X[:,0] = 1\n",
    "est.fit(X, y)\n",
    "est.coef_"
   ]
  },
  {
   "cell_type": "code",
   "execution_count": 101,
   "metadata": {
    "collapsed": false
   },
   "outputs": [],
   "source": [
    "def get_ridge_coefs(d, alpha):\n",
    "    return np.dot(np.dot(np.linalg.inv(np.dot(d.T, d) + alpha * np.eye(d.shape[1])), d.T), y)"
   ]
  },
  {
   "cell_type": "code",
   "execution_count": 103,
   "metadata": {
    "collapsed": false
   },
   "outputs": [
    {
     "data": {
      "text/plain": [
       "array([ 0.96187598,  0.82942005,  0.47634786, -0.14917297])"
      ]
     },
     "execution_count": 103,
     "metadata": {},
     "output_type": "execute_result"
    }
   ],
   "source": [
    "get_ridge_coefs(d, 1)"
   ]
  },
  {
   "cell_type": "code",
   "execution_count": 104,
   "metadata": {
    "collapsed": false
   },
   "outputs": [
    {
     "data": {
      "text/plain": [
       "array([ 1.05806947,  0.17256724,  0.32193708,  0.16346318])"
      ]
     },
     "execution_count": 104,
     "metadata": {},
     "output_type": "execute_result"
    }
   ],
   "source": [
    "get_ridge_coefs(dh, 1)"
   ]
  },
  {
   "cell_type": "code",
   "execution_count": 106,
   "metadata": {
    "collapsed": false
   },
   "outputs": [
    {
     "data": {
      "text/plain": [
       "array([[ 1.        ,  0.74463874, -0.45495711, -0.3687891 ],\n",
       "       [ 1.        , -0.54488594,  0.78065966,  1.23190545],\n",
       "       [ 1.        , -0.38517494,  0.28660867,  0.54483023],\n",
       "       [ 1.        ,  1.18581434, -0.61771719,  0.12485629],\n",
       "       [ 1.        , -1.37672752,  0.53015711,  1.41600915],\n",
       "       [ 1.        , -2.34469545, -1.03485277,  2.26347858],\n",
       "       [ 1.        ,  0.38331348,  1.25953654, -0.6647481 ],\n",
       "       [ 1.        ,  0.66202557,  2.42410343, -0.46477879],\n",
       "       [ 1.        ,  1.42115462,  0.58011974, -0.52286189],\n",
       "       [ 1.        ,  1.88550036, -0.71097427, -2.01498269]])"
      ]
     },
     "execution_count": 106,
     "metadata": {},
     "output_type": "execute_result"
    }
   ],
   "source": [
    "d"
   ]
  },
  {
   "cell_type": "code",
   "execution_count": 98,
   "metadata": {
    "collapsed": false
   },
   "outputs": [
    {
     "data": {
      "text/plain": [
       "array([ 0.        ,  0.36757365,  0.25933202, -0.32571714])"
      ]
     },
     "execution_count": 98,
     "metadata": {},
     "output_type": "execute_result"
    }
   ],
   "source": [
    "est2 = Ridge(fit_intercept=True, normalize=True)\n",
    "est2.fit(d, y)\n",
    "est2.coef_"
   ]
  },
  {
   "cell_type": "code",
   "execution_count": 28,
   "metadata": {
    "collapsed": false
   },
   "outputs": [
    {
     "data": {
      "text/plain": [
       "array([ 0.        ,  0.86303043,  0.36344384, -0.01848619])"
      ]
     },
     "execution_count": 28,
     "metadata": {},
     "output_type": "execute_result"
    }
   ],
   "source": [
    "from sklearn.preprocessing import StandardScaler\n",
    "est2 = Ridge(fit_intercept=False, normalize=False)\n",
    "scaler = StandardScaler(with_std=False)\n",
    "#pd.DataFrame(scaler.fit_transform(d)).describe()\n",
    "est2.fit(scaler.fit_transform(d), y)\n",
    "est2.coef_"
   ]
  },
  {
   "cell_type": "code",
   "execution_count": 53,
   "metadata": {
    "collapsed": false
   },
   "outputs": [
    {
     "data": {
      "text/plain": [
       "array([[ 0.        , -0.30905463,  0.53920769, -0.87298364],\n",
       "       [ 0.        , -0.67817603, -0.78057886,  0.60846845],\n",
       "       [ 0.        , -1.38004272,  0.40738172, -0.04221903],\n",
       "       [ 0.        ,  0.16388985, -0.12091719,  1.41985942],\n",
       "       [ 0.        , -0.33755971,  0.89211952,  0.16006641],\n",
       "       [ 0.        ,  0.02808699,  0.23436833,  0.3007047 ],\n",
       "       [ 0.        ,  2.07993279, -0.10222746,  0.03497708],\n",
       "       [ 0.        , -0.16926617, -1.03609712,  0.33454895],\n",
       "       [ 0.        ,  0.01207526,  0.48898253,  0.18244235],\n",
       "       [ 0.        ,  0.59011438, -0.52223916, -2.12586469]])"
      ]
     },
     "execution_count": 53,
     "metadata": {},
     "output_type": "execute_result"
    }
   ],
   "source": [
    "scaler.fit_transform(d)"
   ]
  },
  {
   "cell_type": "code",
   "execution_count": 25,
   "metadata": {
    "collapsed": false
   },
   "outputs": [
    {
     "data": {
      "text/plain": [
       "array([[ 1.,  0.,  0.],\n",
       "       [ 0.,  1.,  0.],\n",
       "       [ 0.,  0.,  1.]])"
      ]
     },
     "execution_count": 25,
     "metadata": {},
     "output_type": "execute_result"
    }
   ],
   "source": [
    "np.eye(3)"
   ]
  },
  {
   "cell_type": "code",
   "execution_count": 55,
   "metadata": {
    "collapsed": false
   },
   "outputs": [
    {
     "data": {
      "text/plain": [
       "array([[1, 3, 5],\n",
       "       [2, 4, 6]])"
      ]
     },
     "execution_count": 55,
     "metadata": {},
     "output_type": "execute_result"
    }
   ],
   "source": [
    "np.array([[1,2], [3, 4], [5, 6]]).T"
   ]
  },
  {
   "cell_type": "code",
   "execution_count": 54,
   "metadata": {
    "collapsed": false
   },
   "outputs": [
    {
     "data": {
      "text/plain": [
       "array([[35, 44],\n",
       "       [44, 56]])"
      ]
     },
     "execution_count": 54,
     "metadata": {},
     "output_type": "execute_result"
    }
   ],
   "source": [
    "np.dot(np.array([[1,2], [3, 4], [5, 6]]).T, np.array([[1,2], [3, 4], [5, 6]]))"
   ]
  },
  {
   "cell_type": "code",
   "execution_count": 66,
   "metadata": {
    "collapsed": false
   },
   "outputs": [
    {
     "data": {
      "text/plain": [
       "array([[ 1.        , -0.18688326,  1.17734072, -0.59992053],\n",
       "       [ 1.        , -0.55600466, -0.14244583,  0.88153156],\n",
       "       [ 1.        , -1.25787135,  1.04551476,  0.23084408],\n",
       "       [ 1.        ,  0.28606122,  0.51721584,  1.69292253],\n",
       "       [ 1.        , -0.21538833,  1.53025256,  0.43312952],\n",
       "       [ 1.        ,  0.15025836,  0.87250136,  0.57376781],\n",
       "       [ 1.        ,  2.20210416,  0.53590557,  0.30804019],\n",
       "       [ 1.        , -0.04709479, -0.39796409,  0.60761206],\n",
       "       [ 1.        ,  0.13424664,  1.12711556,  0.45550546],\n",
       "       [ 1.        ,  0.71228576,  0.11589387, -1.85280158]])"
      ]
     },
     "execution_count": 66,
     "metadata": {},
     "output_type": "execute_result"
    }
   ],
   "source": [
    "x"
   ]
  },
  {
   "cell_type": "code",
   "execution_count": 67,
   "metadata": {
    "collapsed": false
   },
   "outputs": [
    {
     "data": {
      "text/plain": [
       "array([[ 1.        ,  0.12217138,  0.63813303,  0.27306311],\n",
       "       [ 1.        ,  0.12217138,  0.63813303,  0.27306311],\n",
       "       [ 1.        ,  0.12217138,  0.63813303,  0.27306311],\n",
       "       [ 1.        ,  0.12217138,  0.63813303,  0.27306311],\n",
       "       [ 1.        ,  0.12217138,  0.63813303,  0.27306311],\n",
       "       [ 1.        ,  0.12217138,  0.63813303,  0.27306311],\n",
       "       [ 1.        ,  0.12217138,  0.63813303,  0.27306311],\n",
       "       [ 1.        ,  0.12217138,  0.63813303,  0.27306311],\n",
       "       [ 1.        ,  0.12217138,  0.63813303,  0.27306311],\n",
       "       [ 1.        ,  0.12217138,  0.63813303,  0.27306311]])"
      ]
     },
     "execution_count": 67,
     "metadata": {},
     "output_type": "execute_result"
    }
   ],
   "source": [
    "xh"
   ]
  },
  {
   "cell_type": "code",
   "execution_count": 77,
   "metadata": {
    "collapsed": true
   },
   "outputs": [],
   "source": [
    "def get_coefs(b0, x, xh, y, n, p, alpha):\n",
    "    m0 = x - xh\n",
    "    m1 = np.linalg.inv(np.dot(x.T, x) + alpha * np.eye(p))\n",
    "    \n",
    "    m2 = np.dot(m1, np.dot(m0.T, m0) + alpha * np.eye(p))\n",
    "    \n",
    "    print(m1.shape, xh.shape, y.shape)\n",
    "    m3 = b0 - np.dot(m1, np.dot(xh.T, y))\n",
    "    \n",
    "    return np.dot(np.linalg.inv(m2), m3)"
   ]
  },
  {
   "cell_type": "code",
   "execution_count": 78,
   "metadata": {
    "collapsed": false
   },
   "outputs": [],
   "source": [
    "x = d\n",
    "n = x.shape[0]\n",
    "p = x.shape[1]\n",
    "b0 = est2.coef_\n",
    "xh = np.mean(x, axis=0)\n",
    "xh = np.repeat(np.reshape(xh, (-1, 1)), n, axis=1).T\n",
    "alpha = 1."
   ]
  },
  {
   "cell_type": "code",
   "execution_count": 79,
   "metadata": {
    "collapsed": false
   },
   "outputs": [
    {
     "name": "stdout",
     "output_type": "stream",
     "text": [
      "(4, 4) (10, 4) (10,)\n"
     ]
    },
    {
     "data": {
      "text/plain": [
       "array([ 18.91077351,   1.52246149,   3.16420482,   0.6659422 ])"
      ]
     },
     "execution_count": 79,
     "metadata": {},
     "output_type": "execute_result"
    }
   ],
   "source": [
    "get_coefs(b0, x, xh, y, n, p, alpha)"
   ]
  },
  {
   "cell_type": "code",
   "execution_count": null,
   "metadata": {
    "collapsed": true
   },
   "outputs": [],
   "source": []
  }
 ],
 "metadata": {
  "anaconda-cloud": {},
  "kernelspec": {
   "display_name": "Python 3",
   "language": "python",
   "name": "python3"
  },
  "language_info": {
   "codemirror_mode": {
    "name": "ipython",
    "version": 3
   },
   "file_extension": ".py",
   "mimetype": "text/x-python",
   "name": "python",
   "nbconvert_exporter": "python",
   "pygments_lexer": "ipython3",
   "version": "3.5.2"
  }
 },
 "nbformat": 4,
 "nbformat_minor": 2
}
