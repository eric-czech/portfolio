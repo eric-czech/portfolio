{
 "cells": [
  {
   "cell_type": "code",
   "execution_count": 7,
   "metadata": {
    "collapsed": true
   },
   "outputs": [],
   "source": [
    "%matplotlib inline\n",
    "import numpy as np"
   ]
  },
  {
   "cell_type": "code",
   "execution_count": 8,
   "metadata": {
    "collapsed": true
   },
   "outputs": [],
   "source": [
    "x = np.linspace(-10, 10, 100)\n",
    "y = 1 / (1 + np.exp(- x))"
   ]
  },
  {
   "cell_type": "code",
   "execution_count": 9,
   "metadata": {
    "collapsed": false
   },
   "outputs": [
    {
     "data": {
      "text/plain": [
       "<matplotlib.axes._subplots.AxesSubplot at 0x10a5b5ed0>"
      ]
     },
     "execution_count": 9,
     "metadata": {},
     "output_type": "execute_result"
    },
    {
     "data": {
      "image/png": "[encoded data removed]",
      "text/plain": [
       "<matplotlib.figure.Figure at 0x10a5c7910>"
      ]
     },
     "metadata": {},
     "output_type": "display_data"
    }
   ],
   "source": [
    "pd.Series(y, index=x).plot()"
   ]
  },
  {
   "cell_type": "code",
   "execution_count": 115,
   "metadata": {
    "collapsed": true
   },
   "outputs": [],
   "source": [
    "b0 = -3\n",
    "b1 = .3\n",
    "b2 = -.1\n",
    "nd = 5000\n",
    "ng = 25\n",
    "offset = 25"
   ]
  },
  {
   "cell_type": "code",
   "execution_count": 116,
   "metadata": {
    "collapsed": false
   },
   "outputs": [
    {
     "data": {
      "text/html": [
       "<div>\n",
       "<table border=\"1\" class=\"dataframe\">\n",
       "  <thead>\n",
       "    <tr style=\"text-align: right;\">\n",
       "      <th></th>\n",
       "      <th>i</th>\n",
       "      <th>j</th>\n",
       "      <th>x1</th>\n",
       "      <th>x2</th>\n",
       "      <th>p</th>\n",
       "      <th>r</th>\n",
       "    </tr>\n",
       "  </thead>\n",
       "  <tbody>\n",
       "    <tr>\n",
       "      <th>0</th>\n",
       "      <td>0</td>\n",
       "      <td>0</td>\n",
       "      <td>0</td>\n",
       "      <td>0.009866</td>\n",
       "      <td>0.047186</td>\n",
       "      <td>0</td>\n",
       "    </tr>\n",
       "    <tr>\n",
       "      <th>1</th>\n",
       "      <td>0</td>\n",
       "      <td>1</td>\n",
       "      <td>0</td>\n",
       "      <td>-0.000337</td>\n",
       "      <td>0.047866</td>\n",
       "      <td>0</td>\n",
       "    </tr>\n",
       "    <tr>\n",
       "      <th>2</th>\n",
       "      <td>0</td>\n",
       "      <td>2</td>\n",
       "      <td>0</td>\n",
       "      <td>0.019123</td>\n",
       "      <td>0.046928</td>\n",
       "      <td>0</td>\n",
       "    </tr>\n",
       "    <tr>\n",
       "      <th>3</th>\n",
       "      <td>0</td>\n",
       "      <td>3</td>\n",
       "      <td>0</td>\n",
       "      <td>0.009878</td>\n",
       "      <td>0.047186</td>\n",
       "      <td>0</td>\n",
       "    </tr>\n",
       "    <tr>\n",
       "      <th>4</th>\n",
       "      <td>0</td>\n",
       "      <td>4</td>\n",
       "      <td>0</td>\n",
       "      <td>0.004174</td>\n",
       "      <td>0.047783</td>\n",
       "      <td>0</td>\n",
       "    </tr>\n",
       "  </tbody>\n",
       "</table>\n",
       "</div>"
      ],
      "text/plain": [
       "   i  j  x1        x2         p  r\n",
       "0  0  0   0  0.009866  0.047186  0\n",
       "1  0  1   0 -0.000337  0.047866  0\n",
       "2  0  2   0  0.019123  0.046928  0\n",
       "3  0  3   0  0.009878  0.047186  0\n",
       "4  0  4   0  0.004174  0.047783  0"
      ]
     },
     "execution_count": 116,
     "metadata": {},
     "output_type": "execute_result"
    }
   ],
   "source": [
    "data = []\n",
    "for i in range(ng):\n",
    "    max_j = None\n",
    "    for j in range(nd):\n",
    "        x1 = i/100; x2 = np.random.normal(scale=.01)\n",
    "        lp = b0 + x1 * b1 + x2 * b2 + np.random.normal(scale=.01)\n",
    "        p = 1 / (1 + np.exp(-lp))\n",
    "        if np.random.uniform() < p:\n",
    "            max_j = j + 5\n",
    "        death = 0\n",
    "        if max_j and j == max_j:\n",
    "            death = 1\n",
    "        data.append((i, j, x1, x2, p, death))\n",
    "        if death > 0:\n",
    "            break\n",
    "data = pd.DataFrame(data, columns=['i', 'j', 'x1', 'x2', 'p', 'r'])\n",
    "data.head()"
   ]
  },
  {
   "cell_type": "code",
   "execution_count": 117,
   "metadata": {
    "collapsed": false
   },
   "outputs": [
    {
     "data": {
      "text/plain": [
       "<matplotlib.axes._subplots.AxesSubplot at 0x10dd78bd0>"
      ]
     },
     "execution_count": 117,
     "metadata": {},
     "output_type": "execute_result"
    },
    {
     "data": {
      "image/png": "[encoded data removed]",
      "text/plain": [
       "<matplotlib.figure.Figure at 0x10dd6b050>"
      ]
     },
     "metadata": {},
     "output_type": "display_data"
    }
   ],
   "source": [
    "data['p'].plot(kind='kde')"
   ]
  },
  {
   "cell_type": "code",
   "execution_count": 124,
   "metadata": {
    "collapsed": true
   },
   "outputs": [],
   "source": [
    "from sklearn.linear_model import LogisticRegression\n",
    "\n",
    "def prep_data(x, offset):\n",
    "    x['r_lag'] = x['r'].shift(-1).apply(lambda v: np.nan if v == 0 else v).bfill(limit=offset-1).fillna(0)\n",
    "    return x\n",
    "\n",
    "def get_data(d, offset):\n",
    "    return data.groupby('i').apply(prep_data, offset)\n",
    "\n",
    "\n",
    "def model_likelihood(X, y, m):\n",
    "    p = m.predict_proba(X)\n",
    "    return [ v if y[i] == 1 else 1-v for i, v in enumerate(p) ] \n",
    "\n",
    "def get_likelihood(d, offset):\n",
    "    d = get_data(d, offset)\n",
    "    X, y = d[['x1', 'x2']], d['r_lag']\n",
    "    m = LogisticRegression()\n",
    "    m.fit(X, y)\n",
    "    y_pred = pd.Series(m.predict(X))\n",
    "    if len(y_pred.value_counts()) > 1:\n",
    "        print(offset)\n",
    "    lk = model_likelihood(X, y, m)\n",
    "    return np.sum(np.log(lk))\n",
    "    "
   ]
  },
  {
   "cell_type": "code",
   "execution_count": 125,
   "metadata": {
    "collapsed": false
   },
   "outputs": [
    {
     "name": "stdout",
     "output_type": "stream",
     "text": [
      "11\n",
      "12\n",
      "13\n",
      "14\n",
      "15\n",
      "16\n",
      "17\n",
      "18\n",
      "19\n",
      "20\n",
      "21\n",
      "22\n"
     ]
    },
    {
     "data": {
      "text/plain": [
       "<matplotlib.axes._subplots.AxesSubplot at 0x10e305090>"
      ]
     },
     "execution_count": 125,
     "metadata": {},
     "output_type": "execute_result"
    },
    {
     "data": {
      "image/png": "[encoded data removed]",
      "text/plain": [
       "<matplotlib.figure.Figure at 0x10df19b10>"
      ]
     },
     "metadata": {},
     "output_type": "display_data"
    }
   ],
   "source": [
    "offsets = np.arange(2, 50)\n",
    "lks = pd.Series([get_likelihood(data, o) for o in offsets], index=offsets)\n",
    "lks.plot()"
   ]
  },
  {
   "cell_type": "code",
   "execution_count": null,
   "metadata": {
    "collapsed": true
   },
   "outputs": [],
   "source": []
  },
  {
   "cell_type": "code",
   "execution_count": null,
   "metadata": {
    "collapsed": true
   },
   "outputs": [],
   "source": []
  }
 ],
 "metadata": {
  "kernelspec": {
   "display_name": "Python 3",
   "language": "python",
   "name": "python3"
  },
  "language_info": {
   "codemirror_mode": {
    "name": "ipython",
    "version": 3
   },
   "file_extension": ".py",
   "mimetype": "text/x-python",
   "name": "python",
   "nbconvert_exporter": "python",
   "pygments_lexer": "ipython3",
   "version": "3.3.5"
  }
 },
 "nbformat": 4,
 "nbformat_minor": 0
}
