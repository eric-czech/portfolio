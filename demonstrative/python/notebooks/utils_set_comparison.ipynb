{
 "metadata": {
  "name": "",
  "signature": "sha256:5888b990ed3da5e41f502a2f570854727cd000868509d0ec9e589d8754642d4b"
 },
 "nbformat": 3,
 "nbformat_minor": 0,
 "worksheets": [
  {
   "cells": [
    {
     "cell_type": "code",
     "collapsed": false,
     "input": [
      "import pandas as pd\n",
      "import numpy as np"
     ],
     "language": "python",
     "metadata": {},
     "outputs": [],
     "prompt_number": 4
    },
    {
     "cell_type": "code",
     "collapsed": false,
     "input": [
      "def getclip():\n",
      "    return pd.read_clipboard(header=None, sep=r'$')\\\n",
      "        .applymap(lambda x: str(x).strip())\\\n",
      "        .drop_duplicates()"
     ],
     "language": "python",
     "metadata": {},
     "outputs": [],
     "prompt_number": 5
    },
    {
     "cell_type": "code",
     "collapsed": false,
     "input": [
      "x = getclip()\n",
      "x.head()"
     ],
     "language": "python",
     "metadata": {},
     "outputs": [
      {
       "html": [
        "<div style=\"max-height:1000px;max-width:1500px;overflow:auto;\">\n",
        "<table border=\"1\" class=\"dataframe\">\n",
        "  <thead>\n",
        "    <tr style=\"text-align: right;\">\n",
        "      <th></th>\n",
        "      <th>0</th>\n",
        "    </tr>\n",
        "  </thead>\n",
        "  <tbody>\n",
        "    <tr>\n",
        "      <th>0</th>\n",
        "      <td> x = getclip()</td>\n",
        "    </tr>\n",
        "    <tr>\n",
        "      <th>1</th>\n",
        "      <td>      x.head()</td>\n",
        "    </tr>\n",
        "  </tbody>\n",
        "</table>\n",
        "</div>"
       ],
       "metadata": {},
       "output_type": "pyout",
       "prompt_number": 6,
       "text": [
        "               0\n",
        "0  x = getclip()\n",
        "1       x.head()"
       ]
      }
     ],
     "prompt_number": 6
    },
    {
     "cell_type": "code",
     "collapsed": false,
     "input": [
      "y = getclip()\n",
      "y.head()"
     ],
     "language": "python",
     "metadata": {},
     "outputs": []
    },
    {
     "cell_type": "code",
     "collapsed": false,
     "input": [
      "# x - y\n",
      "xy = np.setdiff1d(x[0], y[0])\n",
      "# y - x\n",
      "yx = np.setdiff1d(y[0], x[0])\n",
      "# union\n",
      "u = np.union1d(x[0], y[0])\n",
      "# intersection\n",
      "i = np.intersect1d(x[0], y[0])\n",
      "\n",
      "# sizes \n",
      "print (u'|x| = {}, |y| = {}, |x-y| = {}, |y-x| = {}, |x U y| = {}, |x '+unichr(8745)+' y| = {}')\\\n",
      "    .format(len(x), len(y), len(xy), len(yx), len(u), len(i))"
     ],
     "language": "python",
     "metadata": {},
     "outputs": []
    }
   ],
   "metadata": {}
  }
 ]
}