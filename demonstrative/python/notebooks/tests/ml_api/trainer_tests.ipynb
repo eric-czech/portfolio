{
 "cells": [
  {
   "cell_type": "markdown",
   "metadata": {},
   "source": [
    "# ML Trainer Tests"
   ]
  },
  {
   "cell_type": "code",
   "execution_count": 1,
   "metadata": {
    "collapsed": true
   },
   "outputs": [],
   "source": [
    "%run -m ipy_startup"
   ]
  },
  {
   "cell_type": "code",
   "execution_count": 2,
   "metadata": {
    "collapsed": true
   },
   "outputs": [],
   "source": [
    "from sklearn.datasets import load_boston"
   ]
  },
  {
   "cell_type": "code",
   "execution_count": 3,
   "metadata": {
    "collapsed": false
   },
   "outputs": [
    {
     "name": "stdout",
     "output_type": "stream",
     "text": [
      "<class 'pandas.core.frame.DataFrame'>\n",
      "RangeIndex: 506 entries, 0 to 505\n",
      "Data columns (total 13 columns):\n",
      "CRIM       506 non-null float64\n",
      "ZN         506 non-null float64\n",
      "INDUS      506 non-null float64\n",
      "CHAS       506 non-null float64\n",
      "NOX        506 non-null float64\n",
      "RM         506 non-null float64\n",
      "AGE        506 non-null float64\n",
      "DIS        506 non-null float64\n",
      "RAD        506 non-null float64\n",
      "TAX        506 non-null float64\n",
      "PTRATIO    506 non-null float64\n",
      "B          506 non-null float64\n",
      "LSTAT      506 non-null float64\n",
      "dtypes: float64(13)\n",
      "memory usage: 51.5 KB\n"
     ]
    }
   ],
   "source": [
    "d_raw = load_boston()\n",
    "X = pd.DataFrame(d_raw['data'], columns=d_raw['feature_names'])\n",
    "y = pd.Series(d_raw['target'], name='price')\n",
    "Y = pd.concat([y.rename('y1'), y.rename('y2')], axis=1)\n",
    "\n",
    "X_eval = X.head(250)\n",
    "y_eval = y.head(250)\n",
    "Y_eval = Y.head(250)\n",
    "\n",
    "X.info()"
   ]
  },
  {
   "cell_type": "code",
   "execution_count": 4,
   "metadata": {
    "collapsed": false
   },
   "outputs": [
    {
     "name": "stdout",
     "output_type": "stream",
     "text": [
      "Beginning cross validation (see /tmp/ml-models-exec.log for progress updates)\n",
      "Beginning model refitting\n",
      "Training complete\n",
      "Beginning cross validation (see /tmp/ml-models-exec.log for progress updates)\n",
      "Beginning model refitting\n",
      "Training complete\n"
     ]
    }
   ],
   "source": [
    "from ml.api import trainer\n",
    "from sklearn.ensemble import RandomForestRegressor\n",
    "from sklearn.linear_model import ElasticNet\n",
    "from sklearn.model_selection import KFold\n",
    "from collections import OrderedDict\n",
    "\n",
    "ests = OrderedDict({\n",
    "  'enet': ElasticNet(random_state=1),\n",
    "  'rf': RandomForestRegressor(random_state=1)\n",
    "})\n",
    "cv = KFold(n_splits=3, random_state=1)\n",
    "cv_trainer = trainer.Trainer(trainer.TrainerConfig())\n",
    "\n",
    "# Train on single outcome\n",
    "cv_res_st = cv_trainer.train_regressors(X, y, ests, cv.split(X))\n",
    "\n",
    "# Train on multiple outcomes\n",
    "cv_res_mt = cv_trainer.train_regressors(X, Y, ests, cv.split(X))"
   ]
  },
  {
   "cell_type": "markdown",
   "metadata": {},
   "source": [
    "### Single Task"
   ]
  },
  {
   "cell_type": "code",
   "execution_count": 5,
   "metadata": {
    "collapsed": false
   },
   "outputs": [
    {
     "data": {
      "text/html": [
       "<div>\n",
       "<table border=\"1\" class=\"dataframe\">\n",
       "  <thead>\n",
       "    <tr>\n",
       "      <th>Category</th>\n",
       "      <th colspan=\"2\" halign=\"left\">Metadata</th>\n",
       "      <th colspan=\"2\" halign=\"left\">Predictions</th>\n",
       "    </tr>\n",
       "    <tr>\n",
       "      <th>Task</th>\n",
       "      <th>Fold</th>\n",
       "      <th>Model</th>\n",
       "      <th>Value:Actual:price</th>\n",
       "      <th>Value:Predicted:price</th>\n",
       "    </tr>\n",
       "  </thead>\n",
       "  <tbody>\n",
       "    <tr>\n",
       "      <th>0</th>\n",
       "      <td>1</td>\n",
       "      <td>enet</td>\n",
       "      <td>24.0</td>\n",
       "      <td>31.747575</td>\n",
       "    </tr>\n",
       "    <tr>\n",
       "      <th>1</th>\n",
       "      <td>1</td>\n",
       "      <td>enet</td>\n",
       "      <td>21.6</td>\n",
       "      <td>25.669645</td>\n",
       "    </tr>\n",
       "    <tr>\n",
       "      <th>2</th>\n",
       "      <td>1</td>\n",
       "      <td>enet</td>\n",
       "      <td>34.7</td>\n",
       "      <td>29.801338</td>\n",
       "    </tr>\n",
       "    <tr>\n",
       "      <th>3</th>\n",
       "      <td>1</td>\n",
       "      <td>enet</td>\n",
       "      <td>33.4</td>\n",
       "      <td>29.468843</td>\n",
       "    </tr>\n",
       "    <tr>\n",
       "      <th>4</th>\n",
       "      <td>1</td>\n",
       "      <td>enet</td>\n",
       "      <td>36.2</td>\n",
       "      <td>27.860452</td>\n",
       "    </tr>\n",
       "  </tbody>\n",
       "</table>\n",
       "</div>"
      ],
      "text/plain": [
       "Category Metadata              Predictions                      \n",
       "Task         Fold Model Value:Actual:price Value:Predicted:price\n",
       "0               1  enet               24.0             31.747575\n",
       "1               1  enet               21.6             25.669645\n",
       "2               1  enet               34.7             29.801338\n",
       "3               1  enet               33.4             29.468843\n",
       "4               1  enet               36.2             27.860452"
      ]
     },
     "execution_count": 5,
     "metadata": {},
     "output_type": "execute_result"
    }
   ],
   "source": [
    "from ml.api.results import predictions\n",
    "d_pred_st = predictions.extract(cv_res_st)\n",
    "d_pred_st.head()"
   ]
  },
  {
   "cell_type": "code",
   "execution_count": 6,
   "metadata": {
    "collapsed": false
   },
   "outputs": [],
   "source": [
    "from ml.api.results import predictions\n",
    "pred_res_st1 = cv_trainer.predict(cv_res_st, X_eval)\n",
    "pred_res_st2 = cv_trainer.predict(cv_res_st, X_eval, y_eval)\n",
    "\n",
    "d_eval_st1 = predictions.extract(pred_res_st1)\n",
    "d_eval_st2 = predictions.extract(pred_res_st2)"
   ]
  },
  {
   "cell_type": "code",
   "execution_count": 11,
   "metadata": {
    "collapsed": false
   },
   "outputs": [
    {
     "data": {
      "text/html": [
       "<div>\n",
       "<table border=\"1\" class=\"dataframe\">\n",
       "  <thead>\n",
       "    <tr>\n",
       "      <th>Category</th>\n",
       "      <th colspan=\"2\" halign=\"left\">Metadata</th>\n",
       "      <th>Predictions</th>\n",
       "    </tr>\n",
       "    <tr>\n",
       "      <th>Task</th>\n",
       "      <th>Fold</th>\n",
       "      <th>Model</th>\n",
       "      <th>Value:Predicted:price</th>\n",
       "    </tr>\n",
       "  </thead>\n",
       "  <tbody>\n",
       "    <tr>\n",
       "      <th>0</th>\n",
       "      <td>0</td>\n",
       "      <td>enet</td>\n",
       "      <td>31.049180</td>\n",
       "    </tr>\n",
       "    <tr>\n",
       "      <th>1</th>\n",
       "      <td>0</td>\n",
       "      <td>enet</td>\n",
       "      <td>25.661981</td>\n",
       "    </tr>\n",
       "    <tr>\n",
       "      <th>2</th>\n",
       "      <td>0</td>\n",
       "      <td>enet</td>\n",
       "      <td>29.850903</td>\n",
       "    </tr>\n",
       "    <tr>\n",
       "      <th>3</th>\n",
       "      <td>0</td>\n",
       "      <td>enet</td>\n",
       "      <td>29.386711</td>\n",
       "    </tr>\n",
       "    <tr>\n",
       "      <th>4</th>\n",
       "      <td>0</td>\n",
       "      <td>enet</td>\n",
       "      <td>27.901432</td>\n",
       "    </tr>\n",
       "  </tbody>\n",
       "</table>\n",
       "</div>"
      ],
      "text/plain": [
       "Category Metadata                 Predictions\n",
       "Task         Fold Model Value:Predicted:price\n",
       "0               0  enet             31.049180\n",
       "1               0  enet             25.661981\n",
       "2               0  enet             29.850903\n",
       "3               0  enet             29.386711\n",
       "4               0  enet             27.901432"
      ]
     },
     "execution_count": 11,
     "metadata": {},
     "output_type": "execute_result"
    }
   ],
   "source": [
    "d_eval_st1.head()"
   ]
  },
  {
   "cell_type": "code",
   "execution_count": 12,
   "metadata": {
    "collapsed": false
   },
   "outputs": [
    {
     "data": {
      "text/html": [
       "<div>\n",
       "<table border=\"1\" class=\"dataframe\">\n",
       "  <thead>\n",
       "    <tr>\n",
       "      <th>Category</th>\n",
       "      <th colspan=\"2\" halign=\"left\">Metadata</th>\n",
       "      <th colspan=\"2\" halign=\"left\">Predictions</th>\n",
       "    </tr>\n",
       "    <tr>\n",
       "      <th>Task</th>\n",
       "      <th>Fold</th>\n",
       "      <th>Model</th>\n",
       "      <th>Value:Actual:price</th>\n",
       "      <th>Value:Predicted:price</th>\n",
       "    </tr>\n",
       "  </thead>\n",
       "  <tbody>\n",
       "    <tr>\n",
       "      <th>0</th>\n",
       "      <td>0</td>\n",
       "      <td>enet</td>\n",
       "      <td>24.0</td>\n",
       "      <td>31.049180</td>\n",
       "    </tr>\n",
       "    <tr>\n",
       "      <th>1</th>\n",
       "      <td>0</td>\n",
       "      <td>enet</td>\n",
       "      <td>21.6</td>\n",
       "      <td>25.661981</td>\n",
       "    </tr>\n",
       "    <tr>\n",
       "      <th>2</th>\n",
       "      <td>0</td>\n",
       "      <td>enet</td>\n",
       "      <td>34.7</td>\n",
       "      <td>29.850903</td>\n",
       "    </tr>\n",
       "    <tr>\n",
       "      <th>3</th>\n",
       "      <td>0</td>\n",
       "      <td>enet</td>\n",
       "      <td>33.4</td>\n",
       "      <td>29.386711</td>\n",
       "    </tr>\n",
       "    <tr>\n",
       "      <th>4</th>\n",
       "      <td>0</td>\n",
       "      <td>enet</td>\n",
       "      <td>36.2</td>\n",
       "      <td>27.901432</td>\n",
       "    </tr>\n",
       "  </tbody>\n",
       "</table>\n",
       "</div>"
      ],
      "text/plain": [
       "Category Metadata              Predictions                      \n",
       "Task         Fold Model Value:Actual:price Value:Predicted:price\n",
       "0               0  enet               24.0             31.049180\n",
       "1               0  enet               21.6             25.661981\n",
       "2               0  enet               34.7             29.850903\n",
       "3               0  enet               33.4             29.386711\n",
       "4               0  enet               36.2             27.901432"
      ]
     },
     "execution_count": 12,
     "metadata": {},
     "output_type": "execute_result"
    }
   ],
   "source": [
    "d_eval_st2.head()"
   ]
  },
  {
   "cell_type": "code",
   "execution_count": 13,
   "metadata": {
    "collapsed": false
   },
   "outputs": [],
   "source": [
    "assert len(d_pred_st) == len(X) * len(ests)\n",
    "assert len(d_eval_st1) == len(X_eval) * len(ests)\n",
    "assert len(d_eval_st2) == len(X_eval) * len(ests)"
   ]
  },
  {
   "cell_type": "markdown",
   "metadata": {},
   "source": [
    "### Multi Task"
   ]
  },
  {
   "cell_type": "code",
   "execution_count": 15,
   "metadata": {
    "collapsed": false
   },
   "outputs": [
    {
     "data": {
      "text/html": [
       "<div>\n",
       "<table border=\"1\" class=\"dataframe\">\n",
       "  <thead>\n",
       "    <tr>\n",
       "      <th>Category</th>\n",
       "      <th colspan=\"2\" halign=\"left\">Metadata</th>\n",
       "      <th colspan=\"4\" halign=\"left\">Predictions</th>\n",
       "    </tr>\n",
       "    <tr>\n",
       "      <th>Task</th>\n",
       "      <th>Fold</th>\n",
       "      <th>Model</th>\n",
       "      <th>Value:Actual:y1</th>\n",
       "      <th>Value:Actual:y2</th>\n",
       "      <th>Value:Predicted:y1</th>\n",
       "      <th>Value:Predicted:y2</th>\n",
       "    </tr>\n",
       "  </thead>\n",
       "  <tbody>\n",
       "    <tr>\n",
       "      <th>0</th>\n",
       "      <td>1</td>\n",
       "      <td>enet</td>\n",
       "      <td>24.0</td>\n",
       "      <td>24.0</td>\n",
       "      <td>31.747575</td>\n",
       "      <td>31.747575</td>\n",
       "    </tr>\n",
       "    <tr>\n",
       "      <th>1</th>\n",
       "      <td>1</td>\n",
       "      <td>enet</td>\n",
       "      <td>21.6</td>\n",
       "      <td>21.6</td>\n",
       "      <td>25.669645</td>\n",
       "      <td>25.669645</td>\n",
       "    </tr>\n",
       "    <tr>\n",
       "      <th>2</th>\n",
       "      <td>1</td>\n",
       "      <td>enet</td>\n",
       "      <td>34.7</td>\n",
       "      <td>34.7</td>\n",
       "      <td>29.801338</td>\n",
       "      <td>29.801338</td>\n",
       "    </tr>\n",
       "    <tr>\n",
       "      <th>3</th>\n",
       "      <td>1</td>\n",
       "      <td>enet</td>\n",
       "      <td>33.4</td>\n",
       "      <td>33.4</td>\n",
       "      <td>29.468843</td>\n",
       "      <td>29.468843</td>\n",
       "    </tr>\n",
       "    <tr>\n",
       "      <th>4</th>\n",
       "      <td>1</td>\n",
       "      <td>enet</td>\n",
       "      <td>36.2</td>\n",
       "      <td>36.2</td>\n",
       "      <td>27.860452</td>\n",
       "      <td>27.860452</td>\n",
       "    </tr>\n",
       "  </tbody>\n",
       "</table>\n",
       "</div>"
      ],
      "text/plain": [
       "Category Metadata           Predictions                                     \\\n",
       "Task         Fold Model Value:Actual:y1 Value:Actual:y2 Value:Predicted:y1   \n",
       "0               1  enet            24.0            24.0          31.747575   \n",
       "1               1  enet            21.6            21.6          25.669645   \n",
       "2               1  enet            34.7            34.7          29.801338   \n",
       "3               1  enet            33.4            33.4          29.468843   \n",
       "4               1  enet            36.2            36.2          27.860452   \n",
       "\n",
       "Category                     \n",
       "Task     Value:Predicted:y2  \n",
       "0                 31.747575  \n",
       "1                 25.669645  \n",
       "2                 29.801338  \n",
       "3                 29.468843  \n",
       "4                 27.860452  "
      ]
     },
     "execution_count": 15,
     "metadata": {},
     "output_type": "execute_result"
    }
   ],
   "source": [
    "from ml.api.results import predictions\n",
    "d_pred_mt = predictions.extract(cv_res_mt)\n",
    "d_pred_mt.head()"
   ]
  },
  {
   "cell_type": "code",
   "execution_count": 16,
   "metadata": {
    "collapsed": true
   },
   "outputs": [],
   "source": [
    "from ml.api.results import predictions\n",
    "pred_res_mt1 = cv_trainer.predict(cv_res_mt, X_eval)\n",
    "pred_res_mt2 = cv_trainer.predict(cv_res_mt, X_eval, Y_eval)\n",
    "\n",
    "d_eval_mt1 = predictions.extract(pred_res_mt1)\n",
    "d_eval_mt2 = predictions.extract(pred_res_mt2)"
   ]
  },
  {
   "cell_type": "code",
   "execution_count": 18,
   "metadata": {
    "collapsed": false
   },
   "outputs": [
    {
     "data": {
      "text/html": [
       "<div>\n",
       "<table border=\"1\" class=\"dataframe\">\n",
       "  <thead>\n",
       "    <tr>\n",
       "      <th>Category</th>\n",
       "      <th colspan=\"2\" halign=\"left\">Metadata</th>\n",
       "      <th colspan=\"2\" halign=\"left\">Predictions</th>\n",
       "    </tr>\n",
       "    <tr>\n",
       "      <th>Task</th>\n",
       "      <th>Fold</th>\n",
       "      <th>Model</th>\n",
       "      <th>Value:Predicted:y1</th>\n",
       "      <th>Value:Predicted:y2</th>\n",
       "    </tr>\n",
       "  </thead>\n",
       "  <tbody>\n",
       "    <tr>\n",
       "      <th>0</th>\n",
       "      <td>0</td>\n",
       "      <td>enet</td>\n",
       "      <td>31.049180</td>\n",
       "      <td>31.049180</td>\n",
       "    </tr>\n",
       "    <tr>\n",
       "      <th>1</th>\n",
       "      <td>0</td>\n",
       "      <td>enet</td>\n",
       "      <td>25.661981</td>\n",
       "      <td>25.661981</td>\n",
       "    </tr>\n",
       "    <tr>\n",
       "      <th>2</th>\n",
       "      <td>0</td>\n",
       "      <td>enet</td>\n",
       "      <td>29.850903</td>\n",
       "      <td>29.850903</td>\n",
       "    </tr>\n",
       "    <tr>\n",
       "      <th>3</th>\n",
       "      <td>0</td>\n",
       "      <td>enet</td>\n",
       "      <td>29.386711</td>\n",
       "      <td>29.386711</td>\n",
       "    </tr>\n",
       "    <tr>\n",
       "      <th>4</th>\n",
       "      <td>0</td>\n",
       "      <td>enet</td>\n",
       "      <td>27.901432</td>\n",
       "      <td>27.901432</td>\n",
       "    </tr>\n",
       "  </tbody>\n",
       "</table>\n",
       "</div>"
      ],
      "text/plain": [
       "Category Metadata              Predictions                   \n",
       "Task         Fold Model Value:Predicted:y1 Value:Predicted:y2\n",
       "0               0  enet          31.049180          31.049180\n",
       "1               0  enet          25.661981          25.661981\n",
       "2               0  enet          29.850903          29.850903\n",
       "3               0  enet          29.386711          29.386711\n",
       "4               0  enet          27.901432          27.901432"
      ]
     },
     "execution_count": 18,
     "metadata": {},
     "output_type": "execute_result"
    }
   ],
   "source": [
    "d_eval_mt1.head()"
   ]
  },
  {
   "cell_type": "code",
   "execution_count": 19,
   "metadata": {
    "collapsed": false
   },
   "outputs": [
    {
     "data": {
      "text/html": [
       "<div>\n",
       "<table border=\"1\" class=\"dataframe\">\n",
       "  <thead>\n",
       "    <tr>\n",
       "      <th>Category</th>\n",
       "      <th colspan=\"2\" halign=\"left\">Metadata</th>\n",
       "      <th colspan=\"4\" halign=\"left\">Predictions</th>\n",
       "    </tr>\n",
       "    <tr>\n",
       "      <th>Task</th>\n",
       "      <th>Fold</th>\n",
       "      <th>Model</th>\n",
       "      <th>Value:Actual:y1</th>\n",
       "      <th>Value:Actual:y2</th>\n",
       "      <th>Value:Predicted:y1</th>\n",
       "      <th>Value:Predicted:y2</th>\n",
       "    </tr>\n",
       "  </thead>\n",
       "  <tbody>\n",
       "    <tr>\n",
       "      <th>0</th>\n",
       "      <td>0</td>\n",
       "      <td>enet</td>\n",
       "      <td>24.0</td>\n",
       "      <td>24.0</td>\n",
       "      <td>31.049180</td>\n",
       "      <td>31.049180</td>\n",
       "    </tr>\n",
       "    <tr>\n",
       "      <th>1</th>\n",
       "      <td>0</td>\n",
       "      <td>enet</td>\n",
       "      <td>21.6</td>\n",
       "      <td>21.6</td>\n",
       "      <td>25.661981</td>\n",
       "      <td>25.661981</td>\n",
       "    </tr>\n",
       "    <tr>\n",
       "      <th>2</th>\n",
       "      <td>0</td>\n",
       "      <td>enet</td>\n",
       "      <td>34.7</td>\n",
       "      <td>34.7</td>\n",
       "      <td>29.850903</td>\n",
       "      <td>29.850903</td>\n",
       "    </tr>\n",
       "    <tr>\n",
       "      <th>3</th>\n",
       "      <td>0</td>\n",
       "      <td>enet</td>\n",
       "      <td>33.4</td>\n",
       "      <td>33.4</td>\n",
       "      <td>29.386711</td>\n",
       "      <td>29.386711</td>\n",
       "    </tr>\n",
       "    <tr>\n",
       "      <th>4</th>\n",
       "      <td>0</td>\n",
       "      <td>enet</td>\n",
       "      <td>36.2</td>\n",
       "      <td>36.2</td>\n",
       "      <td>27.901432</td>\n",
       "      <td>27.901432</td>\n",
       "    </tr>\n",
       "  </tbody>\n",
       "</table>\n",
       "</div>"
      ],
      "text/plain": [
       "Category Metadata           Predictions                                     \\\n",
       "Task         Fold Model Value:Actual:y1 Value:Actual:y2 Value:Predicted:y1   \n",
       "0               0  enet            24.0            24.0          31.049180   \n",
       "1               0  enet            21.6            21.6          25.661981   \n",
       "2               0  enet            34.7            34.7          29.850903   \n",
       "3               0  enet            33.4            33.4          29.386711   \n",
       "4               0  enet            36.2            36.2          27.901432   \n",
       "\n",
       "Category                     \n",
       "Task     Value:Predicted:y2  \n",
       "0                 31.049180  \n",
       "1                 25.661981  \n",
       "2                 29.850903  \n",
       "3                 29.386711  \n",
       "4                 27.901432  "
      ]
     },
     "execution_count": 19,
     "metadata": {},
     "output_type": "execute_result"
    }
   ],
   "source": [
    "d_eval_mt2.head()"
   ]
  },
  {
   "cell_type": "code",
   "execution_count": 17,
   "metadata": {
    "collapsed": true
   },
   "outputs": [],
   "source": [
    "assert len(d_pred_mt) == len(X) * len(ests)\n",
    "assert len(d_eval_mt1) == len(X_eval) * len(ests)\n",
    "assert len(d_eval_mt2) == len(X_eval) * len(ests)"
   ]
  },
  {
   "cell_type": "code",
   "execution_count": null,
   "metadata": {
    "collapsed": true
   },
   "outputs": [],
   "source": []
  }
 ],
 "metadata": {
  "kernelspec": {
   "display_name": "Python 3",
   "language": "python",
   "name": "python3"
  },
  "language_info": {
   "codemirror_mode": {
    "name": "ipython",
    "version": 3
   },
   "file_extension": ".py",
   "mimetype": "text/x-python",
   "name": "python",
   "nbconvert_exporter": "python",
   "pygments_lexer": "ipython3",
   "version": "3.5.2"
  }
 },
 "nbformat": 4,
 "nbformat_minor": 2
}
