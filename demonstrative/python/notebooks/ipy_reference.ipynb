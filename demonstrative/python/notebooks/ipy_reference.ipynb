{
 "metadata": {
  "name": "",
  "signature": "sha256:afd546e88bbf2152f5a20b5267b74826b8e8f63c6344479f12be3a2eee418a4b"
 },
 "nbformat": 3,
 "nbformat_minor": 0,
 "worksheets": [
  {
   "cells": [
    {
     "cell_type": "code",
     "collapsed": false,
     "input": [
      "import pandas as pd\n",
      "import numpy as np\n",
      "%pylab inline"
     ],
     "language": "python",
     "metadata": {},
     "outputs": [
      {
       "output_type": "stream",
       "stream": "stdout",
       "text": [
        "Populating the interactive namespace from numpy and matplotlib\n"
       ]
      }
     ],
     "prompt_number": 9
    },
    {
     "cell_type": "markdown",
     "metadata": {},
     "source": [
      "## Local Shell IO"
     ]
    },
    {
     "cell_type": "code",
     "collapsed": false,
     "input": [
      "%%capture hosts\n",
      "!cat /etc/hosts | grep -o dc1hddn... | sort | uniq"
     ],
     "language": "python",
     "metadata": {},
     "outputs": [],
     "prompt_number": 1
    },
    {
     "cell_type": "code",
     "collapsed": false,
     "input": [
      "','.join(hosts.stdout.splitlines()[:5])"
     ],
     "language": "python",
     "metadata": {},
     "outputs": [
      {
       "metadata": {},
       "output_type": "pyout",
       "prompt_number": 3,
       "text": [
        "u'dc1hddn001,dc1hddn002,dc1hddn003,dc1hddn004,dc1hddn005'"
       ]
      }
     ],
     "prompt_number": 3
    },
    {
     "cell_type": "markdown",
     "metadata": {},
     "source": [
      "## LaTeX"
     ]
    },
    {
     "cell_type": "markdown",
     "metadata": {},
     "source": [
      "In markdown => $$\\sum\\limits_{i}^n {n \\choose i} p^i * q^{n-i}$$ =>"
     ]
    },
    {
     "cell_type": "markdown",
     "metadata": {},
     "source": [
      "$$\\sum\\limits_{i}^n {n \\choose i} p^i * q^{n-i}$$"
     ]
    },
    {
     "cell_type": "code",
     "collapsed": false,
     "input": [
      "# In matplotlib text =>\n",
      "pd.Series([1,2,3]).plot(kind='bar', title='Title with $Lat \\epsilon \\chi$')"
     ],
     "language": "python",
     "metadata": {},
     "outputs": [
      {
       "metadata": {},
       "output_type": "pyout",
       "prompt_number": 41,
       "text": [
        "<matplotlib.axes.AxesSubplot at 0x10a1ba410>"
       ]
      },
      {
       "metadata": {},
       "output_type": "display_data",
       "png": "[encoded data removed]",
       "text": [
        "<matplotlib.figure.Figure at 0x10a146cd0>"
       ]
      }
     ],
     "prompt_number": 41
    },
    {
     "cell_type": "markdown",
     "metadata": {},
     "source": [
      "## Fabric"
     ]
    },
    {
     "cell_type": "code",
     "collapsed": false,
     "input": [
      "from fabric.api import execute, settings, run\n",
      "import itertools\n",
      "\n",
      "# This is a generic method that could be used in most situations to\n",
      "# make concurrent fab requests (though more complicated calls will need to customize)\n",
      "def fab(command, hosts, user, pool_size=10):\n",
      "    with settings(parallel=True, user=user, pool_size=pool_size):\n",
      "        def cmd():\n",
      "            return run(command, quiet=True)\n",
      "        # Get the command output from each host, keyed by host name\n",
      "        res = execute(cmd, hosts=hosts)\n",
      "        \n",
      "        # Convert the host => output dict into a list of tuples\n",
      "        res = [[ (h, l) for l in res[h].splitlines()] for h in res.keys()]\n",
      "        \n",
      "        # Collapse list of lists into single list of tuples and return result\n",
      "        res = list(itertools.chain(*res))\n",
      "        return pd.DataFrame(res, columns=['host', 'line'])\n",
      "    \n",
      "# Example call:\n",
      "fab('ls', ['vc1node001', 'vc1node002'], 'eric-czech').head()"
     ],
     "language": "python",
     "metadata": {},
     "outputs": [
      {
       "output_type": "stream",
       "stream": "stdout",
       "text": [
        "[vc1node001] Executing task 'cmd'\n",
        "[vc1node002] Executing task 'cmd'\n"
       ]
      },
      {
       "html": [
        "<div style=\"max-height:1000px;max-width:1500px;overflow:auto;\">\n",
        "<table border=\"1\" class=\"dataframe\">\n",
        "  <thead>\n",
        "    <tr style=\"text-align: right;\">\n",
        "      <th></th>\n",
        "      <th>host</th>\n",
        "      <th>line</th>\n",
        "    </tr>\n",
        "  </thead>\n",
        "  <tbody>\n",
        "    <tr>\n",
        "      <th>0</th>\n",
        "      <td> vc1node001</td>\n",
        "      <td>         bin</td>\n",
        "    </tr>\n",
        "    <tr>\n",
        "      <th>1</th>\n",
        "      <td> vc1node001</td>\n",
        "      <td> cfstats.txt</td>\n",
        "    </tr>\n",
        "    <tr>\n",
        "      <th>2</th>\n",
        "      <td> vc1node001</td>\n",
        "      <td>        data</td>\n",
        "    </tr>\n",
        "    <tr>\n",
        "      <th>3</th>\n",
        "      <td> vc1node001</td>\n",
        "      <td>  fbtest.jar</td>\n",
        "    </tr>\n",
        "    <tr>\n",
        "      <th>4</th>\n",
        "      <td> vc1node001</td>\n",
        "      <td>  index.html</td>\n",
        "    </tr>\n",
        "  </tbody>\n",
        "</table>\n",
        "</div>"
       ],
       "metadata": {},
       "output_type": "pyout",
       "prompt_number": 34,
       "text": [
        "         host         line\n",
        "0  vc1node001          bin\n",
        "1  vc1node001  cfstats.txt\n",
        "2  vc1node001         data\n",
        "3  vc1node001   fbtest.jar\n",
        "4  vc1node001   index.html"
       ]
      }
     ],
     "prompt_number": 34
    },
    {
     "cell_type": "markdown",
     "metadata": {},
     "source": [
      "## Running R"
     ]
    },
    {
     "cell_type": "code",
     "collapsed": false,
     "input": [
      "%load_ext rpy2.ipython"
     ],
     "language": "python",
     "metadata": {},
     "outputs": [],
     "prompt_number": 35
    },
    {
     "cell_type": "code",
     "collapsed": false,
     "input": [
      "%%R\n",
      "library(ggplot2)\n",
      "d = read.csv('http://www.ats.ucla.edu/stat/data/binary.csv')\n",
      "print(summary(d))\n",
      "ggplot(d, aes(x=factor(rank), y=gre, fill=factor(admit))) + geom_boxplot()"
     ],
     "language": "python",
     "metadata": {},
     "outputs": [
      {
       "metadata": {},
       "output_type": "display_data",
       "text": [
        "     admit             gre             gpa             rank      \n",
        " Min.   :0.0000   Min.   :220.0   Min.   :2.260   Min.   :1.000  \n",
        " 1st Qu.:0.0000   1st Qu.:520.0   1st Qu.:3.130   1st Qu.:2.000  \n",
        " Median :0.0000   Median :580.0   Median :3.395   Median :2.000  \n",
        " Mean   :0.3175   Mean   :587.7   Mean   :3.390   Mean   :2.485  \n",
        " 3rd Qu.:1.0000   3rd Qu.:660.0   3rd Qu.:3.670   3rd Qu.:3.000  \n",
        " Max.   :1.0000   Max.   :800.0   Max.   :4.000   Max.   :4.000  \n"
       ]
      },
      {
       "metadata": {},
       "output_type": "display_data",
       "png": "[encoded data removed]"
      }
     ],
     "prompt_number": 40
    },
    {
     "cell_type": "code",
     "collapsed": false,
     "input": [],
     "language": "python",
     "metadata": {},
     "outputs": []
    }
   ],
   "metadata": {}
  }
 ]
}