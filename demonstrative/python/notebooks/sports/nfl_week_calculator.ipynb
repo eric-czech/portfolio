{
 "cells": [
  {
   "cell_type": "code",
   "execution_count": 86,
   "metadata": {
    "collapsed": true
   },
   "outputs": [],
   "source": [
    "from nfl import date as nfl_date"
   ]
  },
  {
   "cell_type": "code",
   "execution_count": 87,
   "metadata": {
    "collapsed": false
   },
   "outputs": [
    {
     "data": {
      "text/plain": [
       "(Timestamp('2015-10-14 00:00:00'), Timestamp('2015-10-07 00:00:00'))"
      ]
     },
     "execution_count": 87,
     "metadata": {},
     "output_type": "execute_result"
    }
   ],
   "source": [
    "d1 = nfl_date.truncate_date(pd.to_datetime('2015-10-16'))\n",
    "d2 = nfl_date.truncate_date(pd.to_datetime('2015-10-13'))\n",
    "d1, d2"
   ]
  },
  {
   "cell_type": "code",
   "execution_count": 88,
   "metadata": {
    "collapsed": false
   },
   "outputs": [
    {
     "name": "stdout",
     "output_type": "stream",
     "text": [
      "[Mongo] On extraction of document #10000\n"
     ]
    }
   ],
   "source": [
    "dates = nfl_date.get_reg_season_weeks()"
   ]
  },
  {
   "cell_type": "markdown",
   "metadata": {},
   "source": [
    "## Verification\n",
    "\n",
    "This link is helpful: http://www.nfl.com/schedules/2001/REG17"
   ]
  },
  {
   "cell_type": "code",
   "execution_count": 89,
   "metadata": {
    "collapsed": false
   },
   "outputs": [],
   "source": [
    "# Make sure week numbers are between 1 and 17\n",
    "dmin, dmax = dates['WeekNumber'].min(), dates['WeekNumber'].max()\n",
    "assert dmin == 1\n",
    "assert dmax == 17"
   ]
  },
  {
   "cell_type": "code",
   "execution_count": 90,
   "metadata": {
    "collapsed": false
   },
   "outputs": [],
   "source": [
    "# Make sure there are 17 weeks for every year (and that all years are present)\n",
    "min_year, max_year = games['Year'].min(), games['Year'].max()\n",
    "matches = dates.groupby('Year').apply(lambda x: sorted(x['WeekNumber'].unique()) == list(range(1, 18)))\n",
    "assert np.all(matches)\n",
    "assert sorted(matches.index.values) == list(range(min_year, max_year + 1))"
   ]
  },
  {
   "cell_type": "code",
   "execution_count": 84,
   "metadata": {
    "collapsed": false
   },
   "outputs": [
    {
     "data": {
      "text/html": [
       "<div>\n",
       "<table border=\"1\" class=\"dataframe\">\n",
       "  <thead>\n",
       "    <tr style=\"text-align: right;\">\n",
       "      <th></th>\n",
       "      <th>Year</th>\n",
       "      <th>Date</th>\n",
       "      <th>WeekNumber</th>\n",
       "    </tr>\n",
       "  </thead>\n",
       "  <tbody>\n",
       "    <tr>\n",
       "      <th>814</th>\n",
       "      <td>2014</td>\n",
       "      <td>2014-09-04</td>\n",
       "      <td>1</td>\n",
       "    </tr>\n",
       "    <tr>\n",
       "      <th>796</th>\n",
       "      <td>2014</td>\n",
       "      <td>2014-09-07</td>\n",
       "      <td>1</td>\n",
       "    </tr>\n",
       "    <tr>\n",
       "      <th>780</th>\n",
       "      <td>2014</td>\n",
       "      <td>2014-09-08</td>\n",
       "      <td>1</td>\n",
       "    </tr>\n",
       "    <tr>\n",
       "      <th>801</th>\n",
       "      <td>2014</td>\n",
       "      <td>2014-09-11</td>\n",
       "      <td>2</td>\n",
       "    </tr>\n",
       "    <tr>\n",
       "      <th>781</th>\n",
       "      <td>2014</td>\n",
       "      <td>2014-09-14</td>\n",
       "      <td>2</td>\n",
       "    </tr>\n",
       "    <tr>\n",
       "      <th>818</th>\n",
       "      <td>2014</td>\n",
       "      <td>2014-09-15</td>\n",
       "      <td>2</td>\n",
       "    </tr>\n",
       "  </tbody>\n",
       "</table>\n",
       "</div>"
      ],
      "text/plain": [
       "     Year       Date  WeekNumber\n",
       "814  2014 2014-09-04           1\n",
       "796  2014 2014-09-07           1\n",
       "780  2014 2014-09-08           1\n",
       "801  2014 2014-09-11           2\n",
       "781  2014 2014-09-14           2\n",
       "818  2014 2014-09-15           2"
      ]
     },
     "execution_count": 84,
     "metadata": {},
     "output_type": "execute_result"
    }
   ],
   "source": [
    "# Spot check certain date and week pairs at the beginning and end of the season\n",
    "year = 2014\n",
    "dates[(dates['Year'] == year) & (dates['WeekNumber'] < 3)].sort('Date')"
   ]
  },
  {
   "cell_type": "code",
   "execution_count": 85,
   "metadata": {
    "collapsed": false
   },
   "outputs": [
    {
     "data": {
      "text/html": [
       "<div>\n",
       "<table border=\"1\" class=\"dataframe\">\n",
       "  <thead>\n",
       "    <tr style=\"text-align: right;\">\n",
       "      <th></th>\n",
       "      <th>Year</th>\n",
       "      <th>Date</th>\n",
       "      <th>WeekNumber</th>\n",
       "    </tr>\n",
       "  </thead>\n",
       "  <tbody>\n",
       "    <tr>\n",
       "      <th>820</th>\n",
       "      <td>2014</td>\n",
       "      <td>2014-12-18</td>\n",
       "      <td>16</td>\n",
       "    </tr>\n",
       "    <tr>\n",
       "      <th>826</th>\n",
       "      <td>2014</td>\n",
       "      <td>2014-12-20</td>\n",
       "      <td>16</td>\n",
       "    </tr>\n",
       "    <tr>\n",
       "      <th>794</th>\n",
       "      <td>2014</td>\n",
       "      <td>2014-12-21</td>\n",
       "      <td>16</td>\n",
       "    </tr>\n",
       "    <tr>\n",
       "      <th>811</th>\n",
       "      <td>2014</td>\n",
       "      <td>2014-12-22</td>\n",
       "      <td>16</td>\n",
       "    </tr>\n",
       "    <tr>\n",
       "      <th>795</th>\n",
       "      <td>2014</td>\n",
       "      <td>2014-12-28</td>\n",
       "      <td>17</td>\n",
       "    </tr>\n",
       "  </tbody>\n",
       "</table>\n",
       "</div>"
      ],
      "text/plain": [
       "     Year       Date  WeekNumber\n",
       "820  2014 2014-12-18          16\n",
       "826  2014 2014-12-20          16\n",
       "794  2014 2014-12-21          16\n",
       "811  2014 2014-12-22          16\n",
       "795  2014 2014-12-28          17"
      ]
     },
     "execution_count": 85,
     "metadata": {},
     "output_type": "execute_result"
    }
   ],
   "source": [
    "dates[(dates['Year'] == year) & (dates['WeekNumber'] > 15)].sort('Date')"
   ]
  },
  {
   "cell_type": "code",
   "execution_count": null,
   "metadata": {
    "collapsed": true
   },
   "outputs": [],
   "source": []
  }
 ],
 "metadata": {
  "kernelspec": {
   "display_name": "Python 3",
   "language": "python",
   "name": "python3"
  },
  "language_info": {
   "codemirror_mode": {
    "name": "ipython",
    "version": 3
   },
   "file_extension": ".py",
   "mimetype": "text/x-python",
   "name": "python",
   "nbconvert_exporter": "python",
   "pygments_lexer": "ipython3",
   "version": "3.4.3"
  }
 },
 "nbformat": 4,
 "nbformat_minor": 0
}
