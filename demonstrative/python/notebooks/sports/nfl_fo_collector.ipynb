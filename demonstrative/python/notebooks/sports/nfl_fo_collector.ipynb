{
 "cells": [
  {
   "cell_type": "code",
   "execution_count": 7,
   "metadata": {
    "collapsed": true
   },
   "outputs": [],
   "source": [
    "from nfl import storage as nfl_db\n",
    "from nfl.fo import parser as fo_parser\n",
    "from nfl.fo import const as fo_const\n",
    "import functools"
   ]
  },
  {
   "cell_type": "markdown",
   "metadata": {},
   "source": [
    "# Collect Teams\n",
    "\n",
    "Team List:  \n",
    "ARI/PHX,ATL,BAL/CLE1,BUF,CAR,CHI,CIN,CLE,DAL,DEN,DET,GB,HOU,IND,JAC,KC,MIA,\n",
    "MIN,NE,NO,NYG,NYJ,OAK/LARD,PHI,PIT,SD,SEA,SF,STL/LARM,TB,TEN/HOIL,WAS"
   ]
  },
  {
   "cell_type": "code",
   "execution_count": 2,
   "metadata": {
    "collapsed": false
   },
   "outputs": [
    {
     "data": {
      "text/html": [
       "<div>\n",
       "<table border=\"1\" class=\"dataframe\">\n",
       "  <thead>\n",
       "    <tr style=\"text-align: right;\">\n",
       "      <th></th>\n",
       "      <th>TeamName</th>\n",
       "      <th>TeamNameAlt</th>\n",
       "    </tr>\n",
       "  </thead>\n",
       "  <tbody>\n",
       "    <tr>\n",
       "      <th>0</th>\n",
       "      <td>ARI</td>\n",
       "      <td>PHX</td>\n",
       "    </tr>\n",
       "    <tr>\n",
       "      <th>1</th>\n",
       "      <td>ATL</td>\n",
       "      <td>NaN</td>\n",
       "    </tr>\n",
       "    <tr>\n",
       "      <th>2</th>\n",
       "      <td>BAL</td>\n",
       "      <td>CLE1</td>\n",
       "    </tr>\n",
       "    <tr>\n",
       "      <th>3</th>\n",
       "      <td>BUF</td>\n",
       "      <td>NaN</td>\n",
       "    </tr>\n",
       "    <tr>\n",
       "      <th>4</th>\n",
       "      <td>CAR</td>\n",
       "      <td>NaN</td>\n",
       "    </tr>\n",
       "  </tbody>\n",
       "</table>\n",
       "</div>"
      ],
      "text/plain": [
       "  TeamName TeamNameAlt\n",
       "0      ARI         PHX\n",
       "1      ATL         NaN\n",
       "2      BAL        CLE1\n",
       "3      BUF         NaN\n",
       "4      CAR         NaN"
      ]
     },
     "execution_count": 2,
     "metadata": {},
     "output_type": "execute_result"
    }
   ],
   "source": [
    "teams = nfl_db.get_data(DB, COLL_TEAM)\n",
    "teams.head()"
   ]
  },
  {
   "cell_type": "code",
   "execution_count": 3,
   "metadata": {
    "collapsed": false
   },
   "outputs": [
    {
     "data": {
      "text/plain": [
       "['ARI', 'ATL', 'BAL', 'BUF', 'CAR']"
      ]
     },
     "execution_count": 3,
     "metadata": {},
     "output_type": "execute_result"
    }
   ],
   "source": [
    "all_teams = list(teams['TeamName']) + list(teams['TeamNameAlt'].dropna())\n",
    "all_teams = list(np.unique(all_teams))\n",
    "all_teams[:5]"
   ]
  },
  {
   "cell_type": "markdown",
   "metadata": {},
   "source": [
    "# Collection Initialization"
   ]
  },
  {
   "cell_type": "code",
   "execution_count": 26,
   "metadata": {
    "collapsed": true
   },
   "outputs": [],
   "source": [
    "import imp\n",
    "imp.reload(fo_parser)\n",
    "imp.reload(fo_const)\n",
    "COOKIE = 'blogads_book_excerpt_put_ttd_tracking_tags=1; __gads=ID=70fe1433aa592883:T=1443693660:S=ALNI_MZbI69s2KbZtRiIDzSxz9Kt0vi9UA; OX_plg=swf|shk|pm; SESS6eb19ca60f8d07f8010b5d3a4118be7d=h56vlu2vgb09p086et3gh2bfb6; __utmt=1; __utma=136201382.349159816.1443693713.1444837543.1444851352.7; __utmb=136201382.13.10.1444851352; __utmc=136201382; __utmz=136201382.1444530967.3.3.utmcsr=google|utmccn=(organic)|utmcmd=organic|utmctr=(not%20provided); OX_sd=13'\n",
    "fo_parser.set_cookie(COOKIE)"
   ]
  },
  {
   "cell_type": "markdown",
   "metadata": {},
   "source": [
    "# Collect Overall DVOA\n"
   ]
  },
  {
   "cell_type": "code",
   "execution_count": 20,
   "metadata": {
    "collapsed": false
   },
   "outputs": [
    {
     "name": "stdout",
     "output_type": "stream",
     "text": [
      "Running collector Overall DVOA for year 1989\n",
      "Running collector Overall DVOA for year 1990\n",
      "Running collector Overall DVOA for year 1991\n",
      "Running collector Overall DVOA for year 1992\n",
      "Running collector Overall DVOA for year 1993\n",
      "Running collector Overall DVOA for year 1994\n",
      "Running collector Overall DVOA for year 1995\n",
      "Running collector Overall DVOA for year 1996\n",
      "Running collector Overall DVOA for year 1997\n",
      "Running collector Overall DVOA for year 1998\n",
      "Running collector Overall DVOA for year 1999\n",
      "Running collector Overall DVOA for year 2000\n",
      "Running collector Overall DVOA for year 2001\n",
      "Running collector Overall DVOA for year 2002\n",
      "Running collector Overall DVOA for year 2003\n",
      "Running collector Overall DVOA for year 2004\n",
      "Running collector Overall DVOA for year 2005\n",
      "Running collector Overall DVOA for year 2006\n",
      "Running collector Overall DVOA for year 2007\n",
      "Running collector Overall DVOA for year 2008\n",
      "Running collector Overall DVOA for year 2009\n",
      "Running collector Overall DVOA for year 2010\n",
      "Running collector Overall DVOA for year 2011\n",
      "Running collector Overall DVOA for year 2012\n",
      "Running collector Overall DVOA for year 2013\n",
      "Running collector Overall DVOA for year 2014\n",
      "Collection Complete\n"
     ]
    }
   ],
   "source": [
    "def run_overall_dvoa_collector(weeks=range(1,18), years=range(1989, 2015)):\n",
    "    res = []\n",
    "    for year in years:\n",
    "        print('Running Overall DVOA Collector for year {}'.format(year))\n",
    "        for week in weeks:\n",
    "            res = fo_parser.get_overall_dvoa(year, week)\n",
    "            if len(res) > 0:\n",
    "                nfl_db.insert_data(fo_const.DB, fo_const.COLL_OVERALL_DVOA, res, ['Year', 'Week', 'Team'])\n",
    "            else:\n",
    "                print('\\tFound no data for year {} and week {}'.format(year, week))\n",
    "    print('Collection Complete')\n",
    "    \n",
    "run_overall_dvoa_collector()"
   ]
  },
  {
   "cell_type": "code",
   "execution_count": 21,
   "metadata": {
    "collapsed": false
   },
   "outputs": [
    {
     "name": "stdout",
     "output_type": "stream",
     "text": [
      "[Mongo] On extraction of document #10000\n"
     ]
    },
    {
     "data": {
      "text/html": [
       "<div>\n",
       "<table border=\"1\" class=\"dataframe\">\n",
       "  <thead>\n",
       "    <tr style=\"text-align: right;\">\n",
       "      <th></th>\n",
       "      <th>Defense DVOA</th>\n",
       "      <th>Offense DVOA</th>\n",
       "      <th>Opponent</th>\n",
       "      <th>ST DVOA</th>\n",
       "      <th>Team</th>\n",
       "      <th>Total DVOA</th>\n",
       "      <th>Week</th>\n",
       "      <th>Year</th>\n",
       "    </tr>\n",
       "  </thead>\n",
       "  <tbody>\n",
       "    <tr>\n",
       "      <th>0</th>\n",
       "      <td>21.8%</td>\n",
       "      <td>12.2%</td>\n",
       "      <td>LARM</td>\n",
       "      <td>-5.9%</td>\n",
       "      <td>ATL</td>\n",
       "      <td>-15.6%</td>\n",
       "      <td>1</td>\n",
       "      <td>1989</td>\n",
       "    </tr>\n",
       "    <tr>\n",
       "      <th>1</th>\n",
       "      <td>-6.1%</td>\n",
       "      <td>4.5%</td>\n",
       "      <td>MIA</td>\n",
       "      <td>-9.6%</td>\n",
       "      <td>BUF</td>\n",
       "      <td>1.0%</td>\n",
       "      <td>1</td>\n",
       "      <td>1989</td>\n",
       "    </tr>\n",
       "    <tr>\n",
       "      <th>2</th>\n",
       "      <td>-6.5%</td>\n",
       "      <td>7.1%</td>\n",
       "      <td>CIN</td>\n",
       "      <td>16.7%</td>\n",
       "      <td>CHI</td>\n",
       "      <td>30.3%</td>\n",
       "      <td>1</td>\n",
       "      <td>1989</td>\n",
       "    </tr>\n",
       "    <tr>\n",
       "      <th>3</th>\n",
       "      <td>-3.3%</td>\n",
       "      <td>12.1%</td>\n",
       "      <td>CHI</td>\n",
       "      <td>-20.1%</td>\n",
       "      <td>CIN</td>\n",
       "      <td>-4.8%</td>\n",
       "      <td>1</td>\n",
       "      <td>1989</td>\n",
       "    </tr>\n",
       "    <tr>\n",
       "      <th>4</th>\n",
       "      <td>-124.2%</td>\n",
       "      <td>15.6%</td>\n",
       "      <td>PIT</td>\n",
       "      <td>9.3%</td>\n",
       "      <td>CLE1</td>\n",
       "      <td>149.2%</td>\n",
       "      <td>1</td>\n",
       "      <td>1989</td>\n",
       "    </tr>\n",
       "  </tbody>\n",
       "</table>\n",
       "</div>"
      ],
      "text/plain": [
       "  Defense DVOA Offense DVOA Opponent ST DVOA  Team Total DVOA  Week  Year\n",
       "0        21.8%        12.2%     LARM   -5.9%   ATL     -15.6%     1  1989\n",
       "1        -6.1%         4.5%      MIA   -9.6%   BUF       1.0%     1  1989\n",
       "2        -6.5%         7.1%      CIN   16.7%   CHI      30.3%     1  1989\n",
       "3        -3.3%        12.1%      CHI  -20.1%   CIN      -4.8%     1  1989\n",
       "4      -124.2%        15.6%      PIT    9.3%  CLE1     149.2%     1  1989"
      ]
     },
     "execution_count": 21,
     "metadata": {},
     "output_type": "execute_result"
    }
   ],
   "source": [
    "dvoa = nfl_db.get_data(fo_const.DB, fo_const.COLL_OVERALL_DVOA)\n",
    "dvoa.head()"
   ]
  },
  {
   "cell_type": "markdown",
   "metadata": {},
   "source": [
    "# Team DVOA Collection"
   ]
  },
  {
   "cell_type": "code",
   "execution_count": 27,
   "metadata": {
    "collapsed": false
   },
   "outputs": [
    {
     "name": "stdout",
     "output_type": "stream",
     "text": [
      "[Mongo] On extraction of document #10000\n"
     ]
    }
   ],
   "source": [
    "dvoa = nfl_db.get_data(fo_const.DB, fo_const.COLL_OVERALL_DVOA)\n",
    "teams = dvoa['Team'].unique()"
   ]
  },
  {
   "cell_type": "code",
   "execution_count": 28,
   "metadata": {
    "collapsed": false
   },
   "outputs": [
    {
     "data": {
      "text/plain": [
       "array(['ATL', 'BUF', 'CHI', 'CIN', 'CLE1', 'DAL', 'DEN', 'DET', 'GB',\n",
       "       'HOIL', 'IND', 'KC', 'LARD', 'LARM', 'MIA', 'MIN', 'NE', 'NO',\n",
       "       'NYG', 'NYJ', 'PHI', 'PHX', 'PIT', 'SD', 'SEA', 'SF', 'TB', 'WAS',\n",
       "       'ARI', 'CAR', 'JAC', 'OAK', 'STL', 'BAL', 'TEN', 'CLE', 'HOU'], dtype=object)"
      ]
     },
     "execution_count": 28,
     "metadata": {},
     "output_type": "execute_result"
    }
   ],
   "source": [
    "teams"
   ]
  },
  {
   "cell_type": "code",
   "execution_count": 36,
   "metadata": {
    "collapsed": false
   },
   "outputs": [
    {
     "name": "stdout",
     "output_type": "stream",
     "text": [
      "Running Overall DVOA Collector for year 2000\n",
      "\tFound no data for team CLE1 in year 2000\n",
      "\tFound no data for team HOIL in year 2000\n",
      "\tFound no data for team LARD in year 2000\n",
      "\tFound no data for team LARM in year 2000\n",
      "\tFound no data for team PHX in year 2000\n",
      "\tFound no data for team HOU in year 2000\n",
      "Running Overall DVOA Collector for year 2001\n",
      "\tFound no data for team CLE1 in year 2001\n",
      "\tFound no data for team HOIL in year 2001\n",
      "\tFound no data for team LARD in year 2001\n",
      "\tFound no data for team LARM in year 2001\n",
      "\tFound no data for team PHX in year 2001\n",
      "\tFound no data for team HOU in year 2001\n",
      "Running Overall DVOA Collector for year 2002\n",
      "\tFound no data for team CLE1 in year 2002\n",
      "\tFound no data for team HOIL in year 2002\n",
      "\tFound no data for team LARD in year 2002\n",
      "\tFound no data for team LARM in year 2002\n",
      "\tFound no data for team PHX in year 2002\n",
      "Running Overall DVOA Collector for year 2003\n",
      "\tFound no data for team CLE1 in year 2003\n",
      "\tFound no data for team HOIL in year 2003\n",
      "\tFound no data for team LARD in year 2003\n",
      "\tFound no data for team LARM in year 2003\n",
      "\tFound no data for team PHX in year 2003\n",
      "Running Overall DVOA Collector for year 2004\n",
      "\tFound no data for team CLE1 in year 2004\n",
      "\tFound no data for team HOIL in year 2004\n",
      "\tFound no data for team LARD in year 2004\n",
      "\tFound no data for team LARM in year 2004\n",
      "\tFound no data for team PHX in year 2004\n",
      "Running Overall DVOA Collector for year 2005\n",
      "\tFound no data for team CLE1 in year 2005\n",
      "\tFound no data for team HOIL in year 2005\n",
      "\tFound no data for team LARD in year 2005\n",
      "\tFound no data for team LARM in year 2005\n",
      "\tFound no data for team PHX in year 2005\n",
      "Running Overall DVOA Collector for year 2006\n",
      "\tFound no data for team CLE1 in year 2006\n",
      "\tFound no data for team HOIL in year 2006\n",
      "\tFound no data for team LARD in year 2006\n",
      "\tFound no data for team LARM in year 2006\n",
      "\tFound no data for team PHX in year 2006\n",
      "Running Overall DVOA Collector for year 2007\n",
      "\tFound no data for team CLE1 in year 2007\n",
      "\tFound no data for team HOIL in year 2007\n",
      "\tFound no data for team LARD in year 2007\n",
      "\tFound no data for team LARM in year 2007\n",
      "\tFound no data for team PHX in year 2007\n",
      "Running Overall DVOA Collector for year 2008\n",
      "\tFound no data for team CLE1 in year 2008\n",
      "\tFound no data for team HOIL in year 2008\n",
      "\tFound no data for team LARD in year 2008\n",
      "\tFound no data for team LARM in year 2008\n",
      "\tFound no data for team PHX in year 2008\n",
      "Running Overall DVOA Collector for year 2009\n",
      "\tFound no data for team CLE1 in year 2009\n",
      "\tFound no data for team HOIL in year 2009\n",
      "\tFound no data for team LARD in year 2009\n",
      "\tFound no data for team LARM in year 2009\n",
      "\tFound no data for team PHX in year 2009\n",
      "Running Overall DVOA Collector for year 2010\n",
      "\tFound no data for team CLE1 in year 2010\n",
      "\tFound no data for team HOIL in year 2010\n",
      "\tFound no data for team LARD in year 2010\n",
      "\tFound no data for team LARM in year 2010\n",
      "\tFound no data for team PHX in year 2010\n",
      "Running Overall DVOA Collector for year 2011\n",
      "\tFound no data for team CLE1 in year 2011\n",
      "\tFound no data for team HOIL in year 2011\n",
      "\tFound no data for team LARD in year 2011\n",
      "\tFound no data for team LARM in year 2011\n",
      "\tFound no data for team PHX in year 2011\n",
      "Running Overall DVOA Collector for year 2012\n",
      "\tFound no data for team CLE1 in year 2012\n",
      "\tFound no data for team HOIL in year 2012\n",
      "\tFound no data for team LARD in year 2012\n",
      "\tFound no data for team LARM in year 2012\n",
      "\tFound no data for team PHX in year 2012\n",
      "Running Overall DVOA Collector for year 2013\n",
      "\tFound no data for team CLE1 in year 2013\n",
      "\tFound no data for team HOIL in year 2013\n",
      "\tFound no data for team LARD in year 2013\n",
      "\tFound no data for team LARM in year 2013\n",
      "\tFound no data for team PHX in year 2013\n",
      "Running Overall DVOA Collector for year 2014\n",
      "\tFound no data for team CLE1 in year 2014\n",
      "\tFound no data for team HOIL in year 2014\n",
      "\tFound no data for team LARD in year 2014\n",
      "\tFound no data for team LARM in year 2014\n",
      "\tFound no data for team PHX in year 2014\n",
      "Collection Complete\n"
     ]
    }
   ],
   "source": [
    "def run_team_dvoa_collector(teams, years=range(1989, 2015)):\n",
    "    res = []\n",
    "    for year in years:\n",
    "        print('Running Overall DVOA Collector for year {}'.format(year))\n",
    "        for team in teams:\n",
    "            res = fo_parser.get_team_dvoa(year, team)\n",
    "            if len(res) > 0:\n",
    "                nfl_db.insert_data(fo_const.DB, fo_const.COLL_TEAM_DVOA, res, ['Year', 'Week', 'Team'])\n",
    "            else:\n",
    "                print('\\tFound no data for team {} in year {}'.format(team, year))\n",
    "    print('Collection Complete')\n",
    "    \n",
    "run_team_dvoa_collector(teams, years=range(2000, 2015))"
   ]
  },
  {
   "cell_type": "code",
   "execution_count": 37,
   "metadata": {
    "collapsed": false
   },
   "outputs": [
    {
     "name": "stdout",
     "output_type": "stream",
     "text": [
      "[Mongo] On extraction of document #10000\n"
     ]
    },
    {
     "data": {
      "text/plain": [
       "array([1989, 1990, 1991, 1992, 1993, 1994, 1995, 1996, 1997, 1998, 1999,\n",
       "       2000, 2001, 2002, 2003, 2004, 2005, 2006, 2007, 2008, 2009, 2010,\n",
       "       2011, 2012, 2013, 2014])"
      ]
     },
     "execution_count": 37,
     "metadata": {},
     "output_type": "execute_result"
    }
   ],
   "source": [
    "team_dvoa = nfl_db.get_data(fo_const.DB, fo_const.COLL_TEAM_DVOA)\n",
    "team_dvoa.Year.unique()"
   ]
  },
  {
   "cell_type": "code",
   "execution_count": 32,
   "metadata": {
    "collapsed": false
   },
   "outputs": [
    {
     "data": {
      "text/html": [
       "<div>\n",
       "<table border=\"1\" class=\"dataframe\">\n",
       "  <thead>\n",
       "    <tr style=\"text-align: right;\">\n",
       "      <th></th>\n",
       "      <th>Week</th>\n",
       "      <th>Opponent</th>\n",
       "      <th>Total DVOA</th>\n",
       "      <th>Offense DVOA</th>\n",
       "      <th>Off Pass DVOA</th>\n",
       "      <th>Off Rush DVOA</th>\n",
       "      <th>Defense DVOA</th>\n",
       "      <th>Def Pass DVOA</th>\n",
       "      <th>Def Rush DVOA</th>\n",
       "      <th>ST DVOA</th>\n",
       "      <th>Year</th>\n",
       "      <th>Team</th>\n",
       "    </tr>\n",
       "  </thead>\n",
       "  <tbody>\n",
       "    <tr>\n",
       "      <th>0</th>\n",
       "      <td>1</td>\n",
       "      <td>TEN</td>\n",
       "      <td>-34.6%</td>\n",
       "      <td>-40.1%</td>\n",
       "      <td>-5.9%</td>\n",
       "      <td>-129.8%</td>\n",
       "      <td>-10.7%</td>\n",
       "      <td>4.4%</td>\n",
       "      <td>-16.8%</td>\n",
       "      <td>-5.3%</td>\n",
       "      <td>2013</td>\n",
       "      <td>PIT</td>\n",
       "    </tr>\n",
       "    <tr>\n",
       "      <th>1</th>\n",
       "      <td>2</td>\n",
       "      <td>CIN</td>\n",
       "      <td>6.7%</td>\n",
       "      <td>7.6%</td>\n",
       "      <td>30.0%</td>\n",
       "      <td>-38.5%</td>\n",
       "      <td>11.5%</td>\n",
       "      <td>17.0%</td>\n",
       "      <td>4.8%</td>\n",
       "      <td>10.7%</td>\n",
       "      <td>2013</td>\n",
       "      <td>PIT</td>\n",
       "    </tr>\n",
       "    <tr>\n",
       "      <th>2</th>\n",
       "      <td>3</td>\n",
       "      <td>CHI</td>\n",
       "      <td>2.2%</td>\n",
       "      <td>-17.7%</td>\n",
       "      <td>12.6%</td>\n",
       "      <td>-65.0%</td>\n",
       "      <td>-18.5%</td>\n",
       "      <td>-21.7%</td>\n",
       "      <td>-15.1%</td>\n",
       "      <td>1.4%</td>\n",
       "      <td>2013</td>\n",
       "      <td>PIT</td>\n",
       "    </tr>\n",
       "    <tr>\n",
       "      <th>3</th>\n",
       "      <td>4</td>\n",
       "      <td>MIN</td>\n",
       "      <td>-41.5%</td>\n",
       "      <td>13.3%</td>\n",
       "      <td>12.7%</td>\n",
       "      <td>14.8%</td>\n",
       "      <td>34.7%</td>\n",
       "      <td>59.0%</td>\n",
       "      <td>12.7%</td>\n",
       "      <td>-20.2%</td>\n",
       "      <td>2013</td>\n",
       "      <td>PIT</td>\n",
       "    </tr>\n",
       "    <tr>\n",
       "      <th>4</th>\n",
       "      <td>5</td>\n",
       "      <td>BYE</td>\n",
       "      <td>0.0%</td>\n",
       "      <td>0.0%</td>\n",
       "      <td>0.0%</td>\n",
       "      <td>0.0%</td>\n",
       "      <td>0.0%</td>\n",
       "      <td>0.0%</td>\n",
       "      <td>0.0%</td>\n",
       "      <td>0.0%</td>\n",
       "      <td>2013</td>\n",
       "      <td>PIT</td>\n",
       "    </tr>\n",
       "    <tr>\n",
       "      <th>5</th>\n",
       "      <td>6</td>\n",
       "      <td>NYJ</td>\n",
       "      <td>2.9%</td>\n",
       "      <td>-6.2%</td>\n",
       "      <td>17.2%</td>\n",
       "      <td>-17.8%</td>\n",
       "      <td>-11.1%</td>\n",
       "      <td>-0.9%</td>\n",
       "      <td>-26.1%</td>\n",
       "      <td>-2.0%</td>\n",
       "      <td>2013</td>\n",
       "      <td>PIT</td>\n",
       "    </tr>\n",
       "    <tr>\n",
       "      <th>6</th>\n",
       "      <td>7</td>\n",
       "      <td>BAL</td>\n",
       "      <td>12.7%</td>\n",
       "      <td>15.3%</td>\n",
       "      <td>18.1%</td>\n",
       "      <td>29.8%</td>\n",
       "      <td>17.7%</td>\n",
       "      <td>37.7%</td>\n",
       "      <td>-4.0%</td>\n",
       "      <td>15.1%</td>\n",
       "      <td>2013</td>\n",
       "      <td>PIT</td>\n",
       "    </tr>\n",
       "    <tr>\n",
       "      <th>7</th>\n",
       "      <td>8</td>\n",
       "      <td>OAK</td>\n",
       "      <td>-18.5%</td>\n",
       "      <td>-30.6%</td>\n",
       "      <td>-29.3%</td>\n",
       "      <td>-23.9%</td>\n",
       "      <td>-24.3%</td>\n",
       "      <td>-82.6%</td>\n",
       "      <td>3.3%</td>\n",
       "      <td>-12.2%</td>\n",
       "      <td>2013</td>\n",
       "      <td>PIT</td>\n",
       "    </tr>\n",
       "    <tr>\n",
       "      <th>8</th>\n",
       "      <td>9</td>\n",
       "      <td>NE</td>\n",
       "      <td>-38.6%</td>\n",
       "      <td>14.0%</td>\n",
       "      <td>29.6%</td>\n",
       "      <td>-6.1%</td>\n",
       "      <td>56.8%</td>\n",
       "      <td>75.7%</td>\n",
       "      <td>36.8%</td>\n",
       "      <td>4.2%</td>\n",
       "      <td>2013</td>\n",
       "      <td>PIT</td>\n",
       "    </tr>\n",
       "    <tr>\n",
       "      <th>9</th>\n",
       "      <td>10</td>\n",
       "      <td>BUF</td>\n",
       "      <td>36.3%</td>\n",
       "      <td>6.0%</td>\n",
       "      <td>-0.7%</td>\n",
       "      <td>12.1%</td>\n",
       "      <td>-13.7%</td>\n",
       "      <td>-19.8%</td>\n",
       "      <td>-1.7%</td>\n",
       "      <td>16.5%</td>\n",
       "      <td>2013</td>\n",
       "      <td>PIT</td>\n",
       "    </tr>\n",
       "    <tr>\n",
       "      <th>10</th>\n",
       "      <td>11</td>\n",
       "      <td>DET</td>\n",
       "      <td>24.6%</td>\n",
       "      <td>23.9%</td>\n",
       "      <td>76.4%</td>\n",
       "      <td>-50.5%</td>\n",
       "      <td>1.0%</td>\n",
       "      <td>14.9%</td>\n",
       "      <td>-21.9%</td>\n",
       "      <td>1.6%</td>\n",
       "      <td>2013</td>\n",
       "      <td>PIT</td>\n",
       "    </tr>\n",
       "    <tr>\n",
       "      <th>11</th>\n",
       "      <td>12</td>\n",
       "      <td>CLE</td>\n",
       "      <td>36.0%</td>\n",
       "      <td>15.4%</td>\n",
       "      <td>64.9%</td>\n",
       "      <td>-27.3%</td>\n",
       "      <td>-14.8%</td>\n",
       "      <td>-12.9%</td>\n",
       "      <td>-20.0%</td>\n",
       "      <td>5.9%</td>\n",
       "      <td>2013</td>\n",
       "      <td>PIT</td>\n",
       "    </tr>\n",
       "    <tr>\n",
       "      <th>12</th>\n",
       "      <td>13</td>\n",
       "      <td>BAL</td>\n",
       "      <td>-9.4%</td>\n",
       "      <td>29.6%</td>\n",
       "      <td>46.2%</td>\n",
       "      <td>7.5%</td>\n",
       "      <td>21.5%</td>\n",
       "      <td>34.4%</td>\n",
       "      <td>0.7%</td>\n",
       "      <td>-17.5%</td>\n",
       "      <td>2013</td>\n",
       "      <td>PIT</td>\n",
       "    </tr>\n",
       "    <tr>\n",
       "      <th>13</th>\n",
       "      <td>14</td>\n",
       "      <td>MIA</td>\n",
       "      <td>-7.1%</td>\n",
       "      <td>20.7%</td>\n",
       "      <td>50.0%</td>\n",
       "      <td>-15.5%</td>\n",
       "      <td>21.1%</td>\n",
       "      <td>15.6%</td>\n",
       "      <td>28.6%</td>\n",
       "      <td>-6.6%</td>\n",
       "      <td>2013</td>\n",
       "      <td>PIT</td>\n",
       "    </tr>\n",
       "    <tr>\n",
       "      <th>14</th>\n",
       "      <td>15</td>\n",
       "      <td>CIN</td>\n",
       "      <td>38.6%</td>\n",
       "      <td>12.4%</td>\n",
       "      <td>61.9%</td>\n",
       "      <td>-14.5%</td>\n",
       "      <td>-4.8%</td>\n",
       "      <td>8.4%</td>\n",
       "      <td>-24.6%</td>\n",
       "      <td>21.4%</td>\n",
       "      <td>2013</td>\n",
       "      <td>PIT</td>\n",
       "    </tr>\n",
       "    <tr>\n",
       "      <th>15</th>\n",
       "      <td>16</td>\n",
       "      <td>GB</td>\n",
       "      <td>-11.1%</td>\n",
       "      <td>-2.3%</td>\n",
       "      <td>0.8%</td>\n",
       "      <td>7.3%</td>\n",
       "      <td>4.1%</td>\n",
       "      <td>-11.1%</td>\n",
       "      <td>22.2%</td>\n",
       "      <td>-4.7%</td>\n",
       "      <td>2013</td>\n",
       "      <td>PIT</td>\n",
       "    </tr>\n",
       "    <tr>\n",
       "      <th>16</th>\n",
       "      <td>17</td>\n",
       "      <td>CLE</td>\n",
       "      <td>3.1%</td>\n",
       "      <td>-8.8%</td>\n",
       "      <td>-11.9%</td>\n",
       "      <td>-5.1%</td>\n",
       "      <td>-11.5%</td>\n",
       "      <td>-10.2%</td>\n",
       "      <td>-13.9%</td>\n",
       "      <td>0.4%</td>\n",
       "      <td>2013</td>\n",
       "      <td>PIT</td>\n",
       "    </tr>\n",
       "  </tbody>\n",
       "</table>\n",
       "</div>"
      ],
      "text/plain": [
       "    Week Opponent Total DVOA Offense DVOA Off Pass DVOA Off Rush DVOA  \\\n",
       "0      1      TEN     -34.6%       -40.1%         -5.9%       -129.8%   \n",
       "1      2      CIN       6.7%         7.6%         30.0%        -38.5%   \n",
       "2      3      CHI       2.2%       -17.7%         12.6%        -65.0%   \n",
       "3      4      MIN     -41.5%        13.3%         12.7%         14.8%   \n",
       "4      5      BYE       0.0%         0.0%          0.0%          0.0%   \n",
       "5      6      NYJ       2.9%        -6.2%         17.2%        -17.8%   \n",
       "6      7      BAL      12.7%        15.3%         18.1%         29.8%   \n",
       "7      8      OAK     -18.5%       -30.6%        -29.3%        -23.9%   \n",
       "8      9       NE     -38.6%        14.0%         29.6%         -6.1%   \n",
       "9     10      BUF      36.3%         6.0%         -0.7%         12.1%   \n",
       "10    11      DET      24.6%        23.9%         76.4%        -50.5%   \n",
       "11    12      CLE      36.0%        15.4%         64.9%        -27.3%   \n",
       "12    13      BAL      -9.4%        29.6%         46.2%          7.5%   \n",
       "13    14      MIA      -7.1%        20.7%         50.0%        -15.5%   \n",
       "14    15      CIN      38.6%        12.4%         61.9%        -14.5%   \n",
       "15    16       GB     -11.1%        -2.3%          0.8%          7.3%   \n",
       "16    17      CLE       3.1%        -8.8%        -11.9%         -5.1%   \n",
       "\n",
       "   Defense DVOA Def Pass DVOA Def Rush DVOA ST DVOA  Year Team  \n",
       "0        -10.7%          4.4%        -16.8%   -5.3%  2013  PIT  \n",
       "1         11.5%         17.0%          4.8%   10.7%  2013  PIT  \n",
       "2        -18.5%        -21.7%        -15.1%    1.4%  2013  PIT  \n",
       "3         34.7%         59.0%         12.7%  -20.2%  2013  PIT  \n",
       "4          0.0%          0.0%          0.0%    0.0%  2013  PIT  \n",
       "5        -11.1%         -0.9%        -26.1%   -2.0%  2013  PIT  \n",
       "6         17.7%         37.7%         -4.0%   15.1%  2013  PIT  \n",
       "7        -24.3%        -82.6%          3.3%  -12.2%  2013  PIT  \n",
       "8         56.8%         75.7%         36.8%    4.2%  2013  PIT  \n",
       "9        -13.7%        -19.8%         -1.7%   16.5%  2013  PIT  \n",
       "10         1.0%         14.9%        -21.9%    1.6%  2013  PIT  \n",
       "11       -14.8%        -12.9%        -20.0%    5.9%  2013  PIT  \n",
       "12        21.5%         34.4%          0.7%  -17.5%  2013  PIT  \n",
       "13        21.1%         15.6%         28.6%   -6.6%  2013  PIT  \n",
       "14        -4.8%          8.4%        -24.6%   21.4%  2013  PIT  \n",
       "15         4.1%        -11.1%         22.2%   -4.7%  2013  PIT  \n",
       "16       -11.5%        -10.2%        -13.9%    0.4%  2013  PIT  "
      ]
     },
     "execution_count": 32,
     "metadata": {},
     "output_type": "execute_result"
    }
   ],
   "source": [
    "fo_parser.get_team_dvoa(2013, 'PIT')"
   ]
  },
  {
   "cell_type": "code",
   "execution_count": null,
   "metadata": {
    "collapsed": true
   },
   "outputs": [],
   "source": []
  }
 ],
 "metadata": {
  "kernelspec": {
   "display_name": "Python 3",
   "language": "python",
   "name": "python3"
  },
  "language_info": {
   "codemirror_mode": {
    "name": "ipython",
    "version": 3
   },
   "file_extension": ".py",
   "mimetype": "text/x-python",
   "name": "python",
   "nbconvert_exporter": "python",
   "pygments_lexer": "ipython3",
   "version": "3.4.3"
  }
 },
 "nbformat": 4,
 "nbformat_minor": 0
}
