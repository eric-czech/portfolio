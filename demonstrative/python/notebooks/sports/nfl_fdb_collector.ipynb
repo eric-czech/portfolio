{
 "cells": [
  {
   "cell_type": "code",
   "execution_count": 1,
   "metadata": {
    "collapsed": true
   },
   "outputs": [],
   "source": [
    "%matplotlib inline\n",
    "from nfl.fdb import parser as nfl\n",
    "from nfl.fdb.const import *\n",
    "from nfl import storage as nfl_db\n",
    "YEARS = list(range(1995, 2012))"
   ]
  },
  {
   "cell_type": "markdown",
   "metadata": {},
   "source": [
    "## Mongo DB commands\n",
    "mongod --dbpath /Users/eczech/data/dbs/mongodb/data"
   ]
  },
  {
   "cell_type": "code",
   "execution_count": 10,
   "metadata": {
    "collapsed": false
   },
   "outputs": [
    {
     "data": {
      "text/plain": [
       "<module 'nfl.storage' from '/Users/eczech/repos/portfolio/functional/sports/python/nfl/storage.py'>"
      ]
     },
     "execution_count": 10,
     "metadata": {},
     "output_type": "execute_result"
    }
   ],
   "source": [
    "import imp\n",
    "imp.reload(nfl)\n",
    "imp.reload(nfl_db)"
   ]
  },
  {
   "cell_type": "markdown",
   "metadata": {},
   "source": [
    "## Get Teams"
   ]
  },
  {
   "cell_type": "code",
   "execution_count": 15,
   "metadata": {
    "collapsed": false
   },
   "outputs": [
    {
     "name": "stdout",
     "output_type": "stream",
     "text": [
      "Collecting team data for year 1995\n",
      "Collecting team data for year 1996\n",
      "Collecting team data for year 1997\n",
      "Collecting team data for year 1998\n",
      "Collecting team data for year 1999\n",
      "Collecting team data for year 2000\n",
      "Collecting team data for year 2001\n",
      "Collecting team data for year 2002\n",
      "Collecting team data for year 2003\n",
      "Collecting team data for year 2004\n",
      "Collecting team data for year 2005\n",
      "Collecting team data for year 2006\n",
      "Collecting team data for year 2007\n",
      "Collecting team data for year 2008\n",
      "Collecting team data for year 2009\n",
      "Collecting team data for year 2010\n",
      "Collecting team data for year 2011\n"
     ]
    }
   ],
   "source": [
    "for year in YEARS:\n",
    "    print('Collecting team data for year {}'.format(year))\n",
    "    teams = nfl.get_teams(year)\n",
    "    nfl_db.insert_data(DB, COLL_TEAMS, teams, ['Year', 'Id'])"
   ]
  },
  {
   "cell_type": "code",
   "execution_count": 17,
   "metadata": {
    "collapsed": false
   },
   "outputs": [
    {
     "data": {
      "text/html": [
       "<div>\n",
       "<table border=\"1\" class=\"dataframe\">\n",
       "  <thead>\n",
       "    <tr style=\"text-align: right;\">\n",
       "      <th></th>\n",
       "      <th>Id</th>\n",
       "      <th>Link</th>\n",
       "      <th>Name</th>\n",
       "      <th>Year</th>\n",
       "    </tr>\n",
       "  </thead>\n",
       "  <tbody>\n",
       "    <tr>\n",
       "      <th>0</th>\n",
       "      <td>miami-dolphins</td>\n",
       "      <td>/teams/nfl/miami-dolphins</td>\n",
       "      <td>Miami Dolphins</td>\n",
       "      <td>2012</td>\n",
       "    </tr>\n",
       "    <tr>\n",
       "      <th>1</th>\n",
       "      <td>new-england-patriots</td>\n",
       "      <td>/teams/nfl/new-england-patriots</td>\n",
       "      <td>New England Patriots</td>\n",
       "      <td>2012</td>\n",
       "    </tr>\n",
       "    <tr>\n",
       "      <th>2</th>\n",
       "      <td>new-york-jets</td>\n",
       "      <td>/teams/nfl/new-york-jets</td>\n",
       "      <td>New York Jets</td>\n",
       "      <td>2012</td>\n",
       "    </tr>\n",
       "    <tr>\n",
       "      <th>3</th>\n",
       "      <td>baltimore-ravens</td>\n",
       "      <td>/teams/nfl/baltimore-ravens</td>\n",
       "      <td>Baltimore Ravens</td>\n",
       "      <td>2012</td>\n",
       "    </tr>\n",
       "    <tr>\n",
       "      <th>4</th>\n",
       "      <td>cincinnati-bengals</td>\n",
       "      <td>/teams/nfl/cincinnati-bengals</td>\n",
       "      <td>Cincinnati Bengals</td>\n",
       "      <td>2012</td>\n",
       "    </tr>\n",
       "  </tbody>\n",
       "</table>\n",
       "</div>"
      ],
      "text/plain": [
       "                     Id                             Link  \\\n",
       "0        miami-dolphins        /teams/nfl/miami-dolphins   \n",
       "1  new-england-patriots  /teams/nfl/new-england-patriots   \n",
       "2         new-york-jets         /teams/nfl/new-york-jets   \n",
       "3      baltimore-ravens      /teams/nfl/baltimore-ravens   \n",
       "4    cincinnati-bengals    /teams/nfl/cincinnati-bengals   \n",
       "\n",
       "                   Name  Year  \n",
       "0        Miami Dolphins  2012  \n",
       "1  New England Patriots  2012  \n",
       "2         New York Jets  2012  \n",
       "3      Baltimore Ravens  2012  \n",
       "4    Cincinnati Bengals  2012  "
      ]
     },
     "execution_count": 17,
     "metadata": {},
     "output_type": "execute_result"
    }
   ],
   "source": [
    "teams = nfl_db.get_data(DB, COLL_TEAMS)\n",
    "teams.head()"
   ]
  },
  {
   "cell_type": "markdown",
   "metadata": {},
   "source": [
    "## Get Rosters"
   ]
  },
  {
   "cell_type": "code",
   "execution_count": 18,
   "metadata": {
    "collapsed": false
   },
   "outputs": [
    {
     "name": "stdout",
     "output_type": "stream",
     "text": [
      "Collecting roster data for year 1995\n",
      "Collecting roster data for year 1996\n",
      "Collecting roster data for year 1997\n",
      "Collecting roster data for year 1998\n",
      "Collecting roster data for year 1999\n",
      "Collecting roster data for year 2000\n",
      "Collecting roster data for year 2001\n",
      "Collecting roster data for year 2002\n",
      "Collecting roster data for year 2003\n",
      "Collecting roster data for year 2004\n",
      "Collecting roster data for year 2005\n",
      "Collecting roster data for year 2006\n",
      "Collecting roster data for year 2007\n",
      "Collecting roster data for year 2008\n",
      "Collecting roster data for year 2009\n",
      "Collecting roster data for year 2010\n",
      "Collecting roster data for year 2011\n"
     ]
    }
   ],
   "source": [
    "for year in YEARS:\n",
    "    print('Collecting roster data for year {}'.format(year))\n",
    "    teams = nfl_db.get_data(DB, COLL_TEAMS, {'Year': year})\n",
    "    for team_id in teams['Id']:\n",
    "        try:\n",
    "            roster = nfl.get_roster(team_id, year)\n",
    "        except:\n",
    "            print('Failed to find roster for {} {}'.format(year, team_id))\n",
    "            continue\n",
    "        roster['TeamId'] = team_id\n",
    "        nfl_db.insert_data(DB, COLL_ROSTR, roster, ['Year', 'TeamId', 'PlayerLink'])"
   ]
  },
  {
   "cell_type": "code",
   "execution_count": 19,
   "metadata": {
    "collapsed": false
   },
   "outputs": [
    {
     "name": "stdout",
     "output_type": "stream",
     "text": [
      "[Mongo] On extraction of document #10000\n",
      "[Mongo] On extraction of document #20000\n",
      "[Mongo] On extraction of document #30000\n"
     ]
    },
    {
     "data": {
      "text/html": [
       "<div>\n",
       "<table border=\"1\" class=\"dataframe\">\n",
       "  <thead>\n",
       "    <tr style=\"text-align: right;\">\n",
       "      <th></th>\n",
       "      <th>Birthdate</th>\n",
       "      <th>College</th>\n",
       "      <th>G</th>\n",
       "      <th>GS</th>\n",
       "      <th>Number</th>\n",
       "      <th>Player</th>\n",
       "      <th>PlayerLink</th>\n",
       "      <th>Pos</th>\n",
       "      <th>TeamId</th>\n",
       "      <th>Year</th>\n",
       "    </tr>\n",
       "  </thead>\n",
       "  <tbody>\n",
       "    <tr>\n",
       "      <th>0</th>\n",
       "      <td>1988-09-06 00:00:00</td>\n",
       "      <td>Texas</td>\n",
       "      <td>16</td>\n",
       "      <td>16</td>\n",
       "      <td>94</td>\n",
       "      <td>Sam Acho</td>\n",
       "      <td>/players/sam-acho-achosa01</td>\n",
       "      <td>DE</td>\n",
       "      <td>arizona-cardinals</td>\n",
       "      <td>2012</td>\n",
       "    </tr>\n",
       "    <tr>\n",
       "      <th>1</th>\n",
       "      <td>1985-06-17 00:00:00</td>\n",
       "      <td>Louisiana-Lafayette</td>\n",
       "      <td>15</td>\n",
       "      <td>0</td>\n",
       "      <td>27</td>\n",
       "      <td>Michael Adams</td>\n",
       "      <td>/players/michael-adams-adamsmi04</td>\n",
       "      <td>DB</td>\n",
       "      <td>arizona-cardinals</td>\n",
       "      <td>2012</td>\n",
       "    </tr>\n",
       "    <tr>\n",
       "      <th>2</th>\n",
       "      <td>1981-03-29 00:00:00</td>\n",
       "      <td>Louisiana-Lafayette</td>\n",
       "      <td>15</td>\n",
       "      <td>10</td>\n",
       "      <td>74</td>\n",
       "      <td>D'Anthony Batiste</td>\n",
       "      <td>/players/danthony-batiste-batisda02</td>\n",
       "      <td>OT</td>\n",
       "      <td>arizona-cardinals</td>\n",
       "      <td>2012</td>\n",
       "    </tr>\n",
       "    <tr>\n",
       "      <th>3</th>\n",
       "      <td>1990-06-17 00:00:00</td>\n",
       "      <td>Presbyterian</td>\n",
       "      <td>16</td>\n",
       "      <td>0</td>\n",
       "      <td>31</td>\n",
       "      <td>Justin Bethel</td>\n",
       "      <td>/players/justin-bethel-betheju01</td>\n",
       "      <td>DB</td>\n",
       "      <td>arizona-cardinals</td>\n",
       "      <td>2012</td>\n",
       "    </tr>\n",
       "    <tr>\n",
       "      <th>4</th>\n",
       "      <td>1983-11-02 00:00:00</td>\n",
       "      <td>Nebraska</td>\n",
       "      <td>16</td>\n",
       "      <td>0</td>\n",
       "      <td>55</td>\n",
       "      <td>Stewart Bradley</td>\n",
       "      <td>/players/stewart-bradley-bradlst02</td>\n",
       "      <td>LB</td>\n",
       "      <td>arizona-cardinals</td>\n",
       "      <td>2012</td>\n",
       "    </tr>\n",
       "  </tbody>\n",
       "</table>\n",
       "</div>"
      ],
      "text/plain": [
       "             Birthdate              College   G  GS Number             Player  \\\n",
       "0  1988-09-06 00:00:00                Texas  16  16     94           Sam Acho   \n",
       "1  1985-06-17 00:00:00  Louisiana-Lafayette  15   0     27      Michael Adams   \n",
       "2  1981-03-29 00:00:00  Louisiana-Lafayette  15  10     74  D'Anthony Batiste   \n",
       "3  1990-06-17 00:00:00         Presbyterian  16   0     31      Justin Bethel   \n",
       "4  1983-11-02 00:00:00             Nebraska  16   0     55    Stewart Bradley   \n",
       "\n",
       "                            PlayerLink Pos             TeamId  Year  \n",
       "0           /players/sam-acho-achosa01  DE  arizona-cardinals  2012  \n",
       "1     /players/michael-adams-adamsmi04  DB  arizona-cardinals  2012  \n",
       "2  /players/danthony-batiste-batisda02  OT  arizona-cardinals  2012  \n",
       "3     /players/justin-bethel-betheju01  DB  arizona-cardinals  2012  \n",
       "4   /players/stewart-bradley-bradlst02  LB  arizona-cardinals  2012  "
      ]
     },
     "execution_count": 19,
     "metadata": {},
     "output_type": "execute_result"
    }
   ],
   "source": [
    "rosters = nfl_db.get_data(DB, COLL_ROSTR)\n",
    "rosters.head()"
   ]
  },
  {
   "cell_type": "markdown",
   "metadata": {},
   "source": [
    "## Get Games"
   ]
  },
  {
   "cell_type": "code",
   "execution_count": 20,
   "metadata": {
    "collapsed": false
   },
   "outputs": [
    {
     "name": "stdout",
     "output_type": "stream",
     "text": [
      "Collecting game data for year 1995\n",
      "Collecting game data for year 1996\n",
      "Collecting game data for year 1997\n",
      "Collecting game data for year 1998\n",
      "Collecting game data for year 1999\n",
      "Collecting game data for year 2000\n",
      "Collecting game data for year 2001\n",
      "Collecting game data for year 2002\n",
      "Collecting game data for year 2003\n",
      "Collecting game data for year 2004\n",
      "Collecting game data for year 2005\n",
      "Collecting game data for year 2006\n",
      "Collecting game data for year 2007\n",
      "Collecting game data for year 2008\n",
      "Collecting game data for year 2009\n",
      "Collecting game data for year 2010\n",
      "Collecting game data for year 2011\n"
     ]
    }
   ],
   "source": [
    "for year in YEARS:\n",
    "    print('Collecting game data for year {}'.format(year))\n",
    "    teams = nfl_db.get_data(DB, COLL_TEAMS, {\"Year\": year})\n",
    "    for team_id in teams['Id']:\n",
    "        try:\n",
    "            games = nfl.get_games(team_id, year)\n",
    "        except:\n",
    "            print('Failed to find game data for {} {}'.format(year, team_id))\n",
    "            continue\n",
    "        games['TeamId'] = team_id\n",
    "        nfl_db.insert_data(DB, COLL_GAMES, games, ['Year', 'TeamId', 'Date'])\n"
   ]
  },
  {
   "cell_type": "code",
   "execution_count": 21,
   "metadata": {
    "collapsed": false
   },
   "outputs": [
    {
     "name": "stdout",
     "output_type": "stream",
     "text": [
      "[Mongo] On extraction of document #10000\n"
     ]
    },
    {
     "data": {
      "text/html": [
       "<div>\n",
       "<table border=\"1\" class=\"dataframe\">\n",
       "  <thead>\n",
       "    <tr style=\"text-align: right;\">\n",
       "      <th></th>\n",
       "      <th>Attend</th>\n",
       "      <th>Date</th>\n",
       "      <th>GameType</th>\n",
       "      <th>Location</th>\n",
       "      <th>Opponent</th>\n",
       "      <th>OpponentLink</th>\n",
       "      <th>OutcomeLink</th>\n",
       "      <th>Result</th>\n",
       "      <th>TeamId</th>\n",
       "      <th>Year</th>\n",
       "    </tr>\n",
       "  </thead>\n",
       "  <tbody>\n",
       "    <tr>\n",
       "      <th>0</th>\n",
       "      <td>60,032</td>\n",
       "      <td>2012-09-09</td>\n",
       "      <td>Regular Season</td>\n",
       "      <td>University of Phoenix Stadium (Glendale, AZ)</td>\n",
       "      <td>Seattle</td>\n",
       "      <td>/teams/nfl/seattle-seahawks/results/2012</td>\n",
       "      <td>/games/boxscore.html?gid=2012090911</td>\n",
       "      <td>W 20-16</td>\n",
       "      <td>arizona-cardinals</td>\n",
       "      <td>2012</td>\n",
       "    </tr>\n",
       "    <tr>\n",
       "      <th>1</th>\n",
       "      <td>68,756</td>\n",
       "      <td>2012-09-16</td>\n",
       "      <td>Regular Season</td>\n",
       "      <td>Gillette Stadium (Foxborough, MA)</td>\n",
       "      <td>@ New England</td>\n",
       "      <td>/teams/nfl/new-england-patriots/results/2012</td>\n",
       "      <td>/games/boxscore.html?gid=2012091605</td>\n",
       "      <td>W 20-18</td>\n",
       "      <td>arizona-cardinals</td>\n",
       "      <td>2012</td>\n",
       "    </tr>\n",
       "    <tr>\n",
       "      <th>2</th>\n",
       "      <td>60,436</td>\n",
       "      <td>2012-09-23</td>\n",
       "      <td>Regular Season</td>\n",
       "      <td>University of Phoenix Stadium (Glendale, AZ)</td>\n",
       "      <td>Philadelphia</td>\n",
       "      <td>/teams/nfl/philadelphia-eagles/results/2012</td>\n",
       "      <td>/games/boxscore.html?gid=2012092311</td>\n",
       "      <td>W 27-6</td>\n",
       "      <td>arizona-cardinals</td>\n",
       "      <td>2012</td>\n",
       "    </tr>\n",
       "    <tr>\n",
       "      <th>3</th>\n",
       "      <td>60,183</td>\n",
       "      <td>2012-09-30</td>\n",
       "      <td>Regular Season</td>\n",
       "      <td>University of Phoenix Stadium (Glendale, AZ)</td>\n",
       "      <td>Miami</td>\n",
       "      <td>/teams/nfl/miami-dolphins/results/2012</td>\n",
       "      <td>/games/boxscore.html?gid=2012093009</td>\n",
       "      <td>W 24-21, OT</td>\n",
       "      <td>arizona-cardinals</td>\n",
       "      <td>2012</td>\n",
       "    </tr>\n",
       "    <tr>\n",
       "      <th>4</th>\n",
       "      <td>54,653</td>\n",
       "      <td>2012-10-04</td>\n",
       "      <td>Regular Season</td>\n",
       "      <td>Edward Jones Dome (St. Louis, MO)</td>\n",
       "      <td>@ St. Louis</td>\n",
       "      <td>/teams/nfl/st-louis-rams/results/2012</td>\n",
       "      <td>/games/boxscore.html?gid=2012100401</td>\n",
       "      <td>L 17-3</td>\n",
       "      <td>arizona-cardinals</td>\n",
       "      <td>2012</td>\n",
       "    </tr>\n",
       "  </tbody>\n",
       "</table>\n",
       "</div>"
      ],
      "text/plain": [
       "   Attend       Date        GameType  \\\n",
       "0  60,032 2012-09-09  Regular Season   \n",
       "1  68,756 2012-09-16  Regular Season   \n",
       "2  60,436 2012-09-23  Regular Season   \n",
       "3  60,183 2012-09-30  Regular Season   \n",
       "4  54,653 2012-10-04  Regular Season   \n",
       "\n",
       "                                       Location       Opponent  \\\n",
       "0  University of Phoenix Stadium (Glendale, AZ)        Seattle   \n",
       "1             Gillette Stadium (Foxborough, MA)  @ New England   \n",
       "2  University of Phoenix Stadium (Glendale, AZ)   Philadelphia   \n",
       "3  University of Phoenix Stadium (Glendale, AZ)          Miami   \n",
       "4             Edward Jones Dome (St. Louis, MO)    @ St. Louis   \n",
       "\n",
       "                                   OpponentLink  \\\n",
       "0      /teams/nfl/seattle-seahawks/results/2012   \n",
       "1  /teams/nfl/new-england-patriots/results/2012   \n",
       "2   /teams/nfl/philadelphia-eagles/results/2012   \n",
       "3        /teams/nfl/miami-dolphins/results/2012   \n",
       "4         /teams/nfl/st-louis-rams/results/2012   \n",
       "\n",
       "                           OutcomeLink       Result             TeamId  Year  \n",
       "0  /games/boxscore.html?gid=2012090911      W 20-16  arizona-cardinals  2012  \n",
       "1  /games/boxscore.html?gid=2012091605      W 20-18  arizona-cardinals  2012  \n",
       "2  /games/boxscore.html?gid=2012092311       W 27-6  arizona-cardinals  2012  \n",
       "3  /games/boxscore.html?gid=2012093009  W 24-21, OT  arizona-cardinals  2012  \n",
       "4  /games/boxscore.html?gid=2012100401       L 17-3  arizona-cardinals  2012  "
      ]
     },
     "execution_count": 21,
     "metadata": {},
     "output_type": "execute_result"
    }
   ],
   "source": [
    "games = nfl_db.get_data(DB, COLL_GAMES)\n",
    "games.head()"
   ]
  },
  {
   "cell_type": "markdown",
   "metadata": {},
   "source": [
    "## Get Game Stats"
   ]
  },
  {
   "cell_type": "code",
   "execution_count": 22,
   "metadata": {
    "collapsed": false
   },
   "outputs": [
    {
     "name": "stdout",
     "output_type": "stream",
     "text": [
      "Collecting game statistic data for year 1995\n",
      "Ignoring null box score link for row \"GameType       Regular Season\n",
      "OutcomeLink               NaN\n",
      "Name: 237, dtype: object\"\n",
      "Collecting game statistic data for year 1996\n",
      "Collecting game statistic data for year 1997\n",
      "Collecting game statistic data for year 1998\n",
      "Collecting game statistic data for year 1999\n",
      "Collecting game statistic data for year 2000\n",
      "Collecting game statistic data for year 2001\n",
      "Collecting game statistic data for year 2002\n",
      "Collecting game statistic data for year 2003\n",
      "Collecting game statistic data for year 2004\n",
      "Collecting game statistic data for year 2005\n",
      "Collecting game statistic data for year 2006\n",
      "Collecting game statistic data for year 2007\n",
      "Collecting game statistic data for year 2008\n",
      "Collecting game statistic data for year 2009\n",
      "Collecting game statistic data for year 2010\n",
      "Collecting game statistic data for year 2011\n"
     ]
    }
   ],
   "source": [
    "for year in YEARS:\n",
    "    print('Collecting game statistic data for year {}'.format(year))\n",
    "    games = nfl_db.get_data(DB, COLL_GAMES, {\"Year\": year})\n",
    "    for i, r in games[['GameType', 'OutcomeLink']].drop_duplicates().iterrows():\n",
    "        game_type = r['GameType']\n",
    "        assert game_type, 'Game type not present for row \"{}\"'.format(r)\n",
    "        if game_type not in ['Regular Season', 'Preseason', 'Postseason']:\n",
    "            raise ValueError('Found unexpected game type {} in row \"{}\"'.format(game_type, r))\n",
    "        if game_type == 'Preseason':\n",
    "            continue\n",
    "        box_score_link = r['OutcomeLink']\n",
    "        if pd.isnull(box_score_link):\n",
    "            print('Ignoring null box score link for row \"{}\"'.format(r))\n",
    "            continue\n",
    "        \n",
    "        try:\n",
    "            stats = nfl.get_game_stats(box_score_link, year)\n",
    "        except:\n",
    "            print('Failed to find game statistic data for {}, box score = {}'.format(year, box_score_link))\n",
    "            continue\n",
    "        for stat_cat in stats:\n",
    "            # Ignore team level statistics\n",
    "            if stat_cat == 'Team Stats':\n",
    "                continue\n",
    "            col_name = stat_cat.replace(' ', '_').lower()\n",
    "            col_name = COLL_STATS + '_' + col_name\n",
    "            stat_data = stats[stat_cat]\n",
    "            if len(stat_data) == 0:\n",
    "                continue\n",
    "            stat_data['OutcomeLink'] = box_score_link\n",
    "            stat_data = stat_data.fillna('')\n",
    "            nfl_db.insert_data(DB, col_name, stat_data, ['Year', 'OutcomeLink', 'RowLink', 'RowName'])\n"
   ]
  },
  {
   "cell_type": "code",
   "execution_count": 169,
   "metadata": {
    "collapsed": false
   },
   "outputs": [
    {
     "data": {
      "text/plain": [
       "['fdb_games',\n",
       " 'fdb_roster',\n",
       " 'fdb_stats_defense',\n",
       " 'fdb_stats_fumbles',\n",
       " 'fdb_stats_kicking',\n",
       " 'fdb_stats_kickoff_returns',\n",
       " 'fdb_stats_kickoffs',\n",
       " 'fdb_stats_passing',\n",
       " 'fdb_stats_punt_returns',\n",
       " 'fdb_stats_punting',\n",
       " 'fdb_stats_receiving',\n",
       " 'fdb_stats_rushing',\n",
       " 'fdb_stats_team_stats',\n",
       " 'fdb_teams',\n",
       " 'system.indexes']"
      ]
     },
     "execution_count": 169,
     "metadata": {},
     "output_type": "execute_result"
    }
   ],
   "source": [
    "nfl_db.get_collections(DB)"
   ]
  },
  {
   "cell_type": "code",
   "execution_count": 170,
   "metadata": {
    "collapsed": false
   },
   "outputs": [
    {
     "data": {
      "text/html": [
       "<div>\n",
       "<table border=\"1\" class=\"dataframe\">\n",
       "  <thead>\n",
       "    <tr style=\"text-align: right;\">\n",
       "      <th></th>\n",
       "      <th>Ast</th>\n",
       "      <th>Avg</th>\n",
       "      <th>Int</th>\n",
       "      <th>Lg</th>\n",
       "      <th>OutcomeLink</th>\n",
       "      <th>RowLink</th>\n",
       "      <th>RowName</th>\n",
       "      <th>Sack</th>\n",
       "      <th>Solo</th>\n",
       "      <th>TD</th>\n",
       "      <th>Tot</th>\n",
       "      <th>Yds</th>\n",
       "      <th>YdsL</th>\n",
       "      <th>Year</th>\n",
       "    </tr>\n",
       "  </thead>\n",
       "  <tbody>\n",
       "    <tr>\n",
       "      <th>0</th>\n",
       "      <td>4</td>\n",
       "      <td>0.00</td>\n",
       "      <td>0</td>\n",
       "      <td>0</td>\n",
       "      <td>/games/boxscore.html?gid=2012090911</td>\n",
       "      <td>/players/kj-wright-wrighkj01</td>\n",
       "      <td>K.J. Wright</td>\n",
       "      <td>0.0</td>\n",
       "      <td>5</td>\n",
       "      <td>0</td>\n",
       "      <td>9</td>\n",
       "      <td>0</td>\n",
       "      <td>0.0</td>\n",
       "      <td>2012</td>\n",
       "    </tr>\n",
       "    <tr>\n",
       "      <th>1</th>\n",
       "      <td>0</td>\n",
       "      <td>0.00</td>\n",
       "      <td>0</td>\n",
       "      <td>0</td>\n",
       "      <td>/games/boxscore.html?gid=2012090911</td>\n",
       "      <td>/players/kam-chancellor-chancka01</td>\n",
       "      <td>Kam Chancellor</td>\n",
       "      <td>0.0</td>\n",
       "      <td>6</td>\n",
       "      <td>0</td>\n",
       "      <td>6</td>\n",
       "      <td>0</td>\n",
       "      <td>0.0</td>\n",
       "      <td>2012</td>\n",
       "    </tr>\n",
       "    <tr>\n",
       "      <th>2</th>\n",
       "      <td>0</td>\n",
       "      <td>0.00</td>\n",
       "      <td>1</td>\n",
       "      <td>0</td>\n",
       "      <td>/games/boxscore.html?gid=2012090911</td>\n",
       "      <td>/players/richard-sherman-shermri01</td>\n",
       "      <td>Richard Sherman</td>\n",
       "      <td>0.0</td>\n",
       "      <td>4</td>\n",
       "      <td>0</td>\n",
       "      <td>4</td>\n",
       "      <td>0</td>\n",
       "      <td>0.0</td>\n",
       "      <td>2012</td>\n",
       "    </tr>\n",
       "    <tr>\n",
       "      <th>3</th>\n",
       "      <td>2</td>\n",
       "      <td>0.00</td>\n",
       "      <td>0</td>\n",
       "      <td>0</td>\n",
       "      <td>/games/boxscore.html?gid=2012090911</td>\n",
       "      <td>/players/bobby-wagner-wagnebo01</td>\n",
       "      <td>Bobby Wagner</td>\n",
       "      <td>0.0</td>\n",
       "      <td>2</td>\n",
       "      <td>0</td>\n",
       "      <td>4</td>\n",
       "      <td>0</td>\n",
       "      <td>0.0</td>\n",
       "      <td>2012</td>\n",
       "    </tr>\n",
       "    <tr>\n",
       "      <th>4</th>\n",
       "      <td>2</td>\n",
       "      <td>0.00</td>\n",
       "      <td>0</td>\n",
       "      <td>0</td>\n",
       "      <td>/games/boxscore.html?gid=2012090911</td>\n",
       "      <td>/players/brandon-browner-brownbr01</td>\n",
       "      <td>Brandon Browner</td>\n",
       "      <td>0.0</td>\n",
       "      <td>2</td>\n",
       "      <td>0</td>\n",
       "      <td>4</td>\n",
       "      <td>0</td>\n",
       "      <td>0.0</td>\n",
       "      <td>2012</td>\n",
       "    </tr>\n",
       "  </tbody>\n",
       "</table>\n",
       "</div>"
      ],
      "text/plain": [
       "  Ast   Avg Int Lg                          OutcomeLink  \\\n",
       "0   4  0.00   0  0  /games/boxscore.html?gid=2012090911   \n",
       "1   0  0.00   0  0  /games/boxscore.html?gid=2012090911   \n",
       "2   0  0.00   1  0  /games/boxscore.html?gid=2012090911   \n",
       "3   2  0.00   0  0  /games/boxscore.html?gid=2012090911   \n",
       "4   2  0.00   0  0  /games/boxscore.html?gid=2012090911   \n",
       "\n",
       "                              RowLink          RowName Sack Solo TD Tot Yds  \\\n",
       "0        /players/kj-wright-wrighkj01      K.J. Wright  0.0    5  0   9   0   \n",
       "1   /players/kam-chancellor-chancka01   Kam Chancellor  0.0    6  0   6   0   \n",
       "2  /players/richard-sherman-shermri01  Richard Sherman  0.0    4  0   4   0   \n",
       "3     /players/bobby-wagner-wagnebo01     Bobby Wagner  0.0    2  0   4   0   \n",
       "4  /players/brandon-browner-brownbr01  Brandon Browner  0.0    2  0   4   0   \n",
       "\n",
       "  YdsL  Year  \n",
       "0  0.0  2012  \n",
       "1  0.0  2012  \n",
       "2  0.0  2012  \n",
       "3  0.0  2012  \n",
       "4  0.0  2012  "
      ]
     },
     "execution_count": 170,
     "metadata": {},
     "output_type": "execute_result"
    }
   ],
   "source": [
    "stats = nfl_db.get_data(DB, 'fdb_stats_defense')\n",
    "stats.head()"
   ]
  },
  {
   "cell_type": "markdown",
   "metadata": {},
   "source": [
    "## Scratch"
   ]
  },
  {
   "cell_type": "code",
   "execution_count": 72,
   "metadata": {
    "collapsed": false
   },
   "outputs": [
    {
     "name": "stdout",
     "output_type": "stream",
     "text": [
      "Defense ['/players/earl-thomas-thomaea03' '/players/bobby-wagner-wagnebo01'\n",
      " '/players/kam-chancellor-chancka01' '/players/tony-mcdaniel-mcdanto01'\n",
      " '/players/kj-wright-wrighkj01' '/players/malcolm-smith-smithma15'\n",
      " '/players/richard-sherman-shermri01' '/players/walter-thurmond-thurmwa01'\n",
      " '/players/brandon-mebane-mebanbr01' '/players/benson-mayowa-mayowbe01'\n",
      " '/players/obrien-schofield-schofob01' '/players/red-bryant-bryanre01'\n",
      " '/players/heath-farwell-farwehe01' '/players/russell-wilson-wilsoru01'\n",
      " '/players/byron-maxwell-maxweby01' '/players/chris-maragos-maragch01'\n",
      " '/players/danthony-smith-smithda19' '/players/thomas-davis-davisth02'\n",
      " '/players/luke-kuechly-kuechlu01' '/players/charles-godfrey-godfrch02'\n",
      " '/players/jon-beason-beasojo01' '/players/josh-thomas-thomajo12'\n",
      " '/players/captain-munnerlyn-munneca01' '/players/star-lotulelei-lotulst01'\n",
      " '/players/greg-hardy-hardygr01' '/players/mario-addison-addisma01'\n",
      " '/players/dj-moore-mooredj01' '/players/jj-jansen-jansejj01'\n",
      " '/players/jordan-senn-sennjo01' '/players/quintin-mikell-mikelqu01'\n",
      " '/players/charles-johnson-johnsch17'\n",
      " '/players/deangelo-williams-willide07' '/players/dwan-edwards-edwardw01'] 33\n",
      "Team Stats [ nan] 12\n",
      "Kicking ['/players/steven-hauschka-hauscst01' '/players/graham-gano-ganogr01'] 2\n",
      "Rushing ['/players/marshawn-lynch-lynchma01' '/players/robert-turbin-turbiro01'\n",
      " '/players/russell-wilson-wilsoru01' '/players/doug-baldwin-baldwdo02'\n",
      " '/players/deangelo-williams-willide07' '/players/cam-newton-newtoca02'\n",
      " '/players/mike-tolbert-tolbemi02'] 7\n",
      "Passing ['/players/russell-wilson-wilsoru01' '/players/cam-newton-newtoca02'] 2\n",
      "Punting ['/players/jon-ryan-ryanjo03' '/players/brad-nortman-nortmbr01'] 2\n",
      "Punt Returns ['/players/golden-tate-tatego02' '/players/ted-ginn-ginnte01'\n",
      " '/players/josh-thomas-thomajo12'] 3\n",
      "Kickoffs ['/players/steven-hauschka-hauscst01' '/players/graham-gano-ganogr01'] 2\n",
      "Kickoff Returns [] 0\n",
      "Fumbles ['/players/russell-wilson-wilsoru01' '/players/chris-maragos-maragch01'\n",
      " '/players/byron-maxwell-maxweby01' '/players/tony-mcdaniel-mcdanto01'\n",
      " '/players/earl-thomas-thomaea03' '/players/deangelo-williams-willide07'\n",
      " '/players/josh-thomas-thomajo12' '/players/charles-johnson-johnsch17'] 8\n",
      "Receiving ['/players/doug-baldwin-baldwdo02' '/players/golden-tate-tatego02'\n",
      " '/players/derrick-coleman-colemde02' '/players/zach-miller-milleza01'\n",
      " '/players/robert-turbin-turbiro01' '/players/sidney-rice-ricesi02'\n",
      " '/players/marshawn-lynch-lynchma01' '/players/jermaine-kearse-kearsje02'\n",
      " '/players/stephen-williams-willist07' '/players/steve-smith-smithst01'\n",
      " '/players/greg-olsen-olsengr01' '/players/deangelo-williams-willide07'\n",
      " '/players/mike-tolbert-tolbemi02' '/players/ted-ginn-ginnte01'] 14\n"
     ]
    }
   ],
   "source": [
    "for k in stats:\n",
    "    print(k, stats[k]['RowLink'].unique(), len(stats[k]))"
   ]
  },
  {
   "cell_type": "code",
   "execution_count": 10,
   "metadata": {
    "collapsed": false
   },
   "outputs": [
    {
     "data": {
      "text/html": [
       "<div>\n",
       "<table border=\"1\" class=\"dataframe\">\n",
       "  <thead>\n",
       "    <tr style=\"text-align: right;\">\n",
       "      <th></th>\n",
       "      <th>RowLink</th>\n",
       "      <th>RowName</th>\n",
       "      <th>PAT</th>\n",
       "      <th>FG</th>\n",
       "      <th>0-19</th>\n",
       "      <th>20-29</th>\n",
       "      <th>30-39</th>\n",
       "      <th>40-49</th>\n",
       "      <th>50+</th>\n",
       "      <th>Lg</th>\n",
       "      <th>Miss</th>\n",
       "      <th>Pts</th>\n",
       "      <th>Year</th>\n",
       "    </tr>\n",
       "  </thead>\n",
       "  <tbody>\n",
       "    <tr>\n",
       "      <th>0</th>\n",
       "      <td>/players/steven-hauschka-hauscst01</td>\n",
       "      <td>Steven Hauschka</td>\n",
       "      <td>0/0</td>\n",
       "      <td>2/2</td>\n",
       "      <td>0/0</td>\n",
       "      <td>1/1</td>\n",
       "      <td>0/0</td>\n",
       "      <td>1/1</td>\n",
       "      <td>0/0</td>\n",
       "      <td>40</td>\n",
       "      <td>--</td>\n",
       "      <td>6</td>\n",
       "      <td>2013</td>\n",
       "    </tr>\n",
       "    <tr>\n",
       "      <th>1</th>\n",
       "      <td>/players/graham-gano-ganogr01</td>\n",
       "      <td>Graham Gano</td>\n",
       "      <td>1/1</td>\n",
       "      <td>0/0</td>\n",
       "      <td>0/0</td>\n",
       "      <td>0/0</td>\n",
       "      <td>0/0</td>\n",
       "      <td>0/0</td>\n",
       "      <td>0/0</td>\n",
       "      <td>0</td>\n",
       "      <td>--</td>\n",
       "      <td>1</td>\n",
       "      <td>2013</td>\n",
       "    </tr>\n",
       "  </tbody>\n",
       "</table>\n",
       "</div>"
      ],
      "text/plain": [
       "                              RowLink          RowName  PAT   FG 0-19 20-29  \\\n",
       "0  /players/steven-hauschka-hauscst01  Steven Hauschka  0/0  2/2  0/0   1/1   \n",
       "1       /players/graham-gano-ganogr01      Graham Gano  1/1  0/0  0/0   0/0   \n",
       "\n",
       "  30-39 40-49  50+  Lg Miss Pts  Year  \n",
       "0   0/0   1/1  0/0  40   --   6  2013  \n",
       "1   0/0   0/0  0/0   0   --   1  2013  "
      ]
     },
     "execution_count": 10,
     "metadata": {},
     "output_type": "execute_result"
    }
   ],
   "source": [
    "stats['Kicking']"
   ]
  },
  {
   "cell_type": "code",
   "execution_count": null,
   "metadata": {
    "collapsed": true
   },
   "outputs": [],
   "source": []
  }
 ],
 "metadata": {
  "kernelspec": {
   "display_name": "Python 3",
   "language": "python",
   "name": "python3"
  },
  "language_info": {
   "codemirror_mode": {
    "name": "ipython",
    "version": 3
   },
   "file_extension": ".py",
   "mimetype": "text/x-python",
   "name": "python",
   "nbconvert_exporter": "python",
   "pygments_lexer": "ipython3",
   "version": "3.4.3"
  }
 },
 "nbformat": 4,
 "nbformat_minor": 0
}
