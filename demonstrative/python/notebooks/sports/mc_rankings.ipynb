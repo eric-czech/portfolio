{
 "cells": [
  {
   "cell_type": "code",
   "execution_count": 36,
   "metadata": {
    "collapsed": true
   },
   "outputs": [],
   "source": [
    "%matplotlib inline\n",
    "import itertools"
   ]
  },
  {
   "cell_type": "code",
   "execution_count": 484,
   "metadata": {
    "collapsed": false
   },
   "outputs": [
    {
     "data": {
      "text/html": [
       "<div>\n",
       "<table border=\"1\" class=\"dataframe\">\n",
       "  <thead>\n",
       "    <tr style=\"text-align: right;\">\n",
       "      <th></th>\n",
       "      <th>Team1</th>\n",
       "      <th>Team2</th>\n",
       "      <th>Date</th>\n",
       "      <th>Year</th>\n",
       "      <th>Value</th>\n",
       "    </tr>\n",
       "  </thead>\n",
       "  <tbody>\n",
       "    <tr>\n",
       "      <th>0</th>\n",
       "      <td>T0</td>\n",
       "      <td>T1</td>\n",
       "      <td>2010-09-01</td>\n",
       "      <td>2010</td>\n",
       "      <td>100.648172</td>\n",
       "    </tr>\n",
       "    <tr>\n",
       "      <th>1</th>\n",
       "      <td>T1</td>\n",
       "      <td>T0</td>\n",
       "      <td>2010-09-01</td>\n",
       "      <td>2010</td>\n",
       "      <td>109.557627</td>\n",
       "    </tr>\n",
       "    <tr>\n",
       "      <th>2</th>\n",
       "      <td>T0</td>\n",
       "      <td>T1</td>\n",
       "      <td>2011-09-01</td>\n",
       "      <td>2011</td>\n",
       "      <td>84.548691</td>\n",
       "    </tr>\n",
       "    <tr>\n",
       "      <th>3</th>\n",
       "      <td>T1</td>\n",
       "      <td>T0</td>\n",
       "      <td>2011-09-01</td>\n",
       "      <td>2011</td>\n",
       "      <td>116.502620</td>\n",
       "    </tr>\n",
       "    <tr>\n",
       "      <th>4</th>\n",
       "      <td>T0</td>\n",
       "      <td>T1</td>\n",
       "      <td>2012-09-01</td>\n",
       "      <td>2012</td>\n",
       "      <td>81.679652</td>\n",
       "    </tr>\n",
       "  </tbody>\n",
       "</table>\n",
       "</div>"
      ],
      "text/plain": [
       "  Team1 Team2        Date  Year       Value\n",
       "0    T0    T1  2010-09-01  2010  100.648172\n",
       "1    T1    T0  2010-09-01  2010  109.557627\n",
       "2    T0    T1  2011-09-01  2011   84.548691\n",
       "3    T1    T0  2011-09-01  2011  116.502620\n",
       "4    T0    T1  2012-09-01  2012   81.679652"
      ]
     },
     "execution_count": 484,
     "metadata": {},
     "output_type": "execute_result"
    }
   ],
   "source": [
    "n_teams = 10\n",
    "teams = ['T{}'.format(i) for i in range(n_teams)]\n",
    "days = ['09-01', '09-02', '09-03']\n",
    "years = [2010, 2011, 2012, 2013, 2014]\n",
    "\n",
    "import random\n",
    "teams = set(['T{}'.format(i) for i in range(10)])\n",
    "matchups = []\n",
    "for t in teams:\n",
    "    opp = list(teams - set([t]))\n",
    "    opp = random.sample(opp, int(len(opp) * .5))\n",
    "    for o in opp:\n",
    "        matchups.append('-'.join(sorted((t, o))))\n",
    "matchups = np.unique(sorted(matchups))\n",
    "\n",
    "data = []\n",
    "for m in matchups:\n",
    "    t1, t2 = m.split('-')[0], m.split('-')[1]\n",
    "    t1i = int(t1.replace('T', ''))\n",
    "    t2i = int(t2.replace('T', ''))\n",
    "    for d in days:\n",
    "        for y in years:\n",
    "            mu_start = n_teams * 10 \n",
    "            v1 = np.random.normal(loc=mu_start + (t1i - t2i)*10, scale=8, size=1)[0]\n",
    "            v2 = np.random.normal(loc=mu_start + (t2i - t1i)*10, scale=8, size=1)[0]\n",
    "            date = '{}-{}'.format(y, d)\n",
    "            data.append([t1, t2, date, y, v1])\n",
    "            data.append([t2, t1, date, y, v2])\n",
    "data = pd.DataFrame(data, columns=['Team1', 'Team2', 'Date', 'Year', 'Value'])\n",
    "data.head()"
   ]
  },
  {
   "cell_type": "code",
   "execution_count": 490,
   "metadata": {
    "collapsed": false
   },
   "outputs": [
    {
     "data": {
      "text/plain": [
       "Team2\n",
       "T9     44.002812\n",
       "T8     55.816418\n",
       "T7     74.543587\n",
       "T6     83.175435\n",
       "T5     95.320923\n",
       "T4    110.554115\n",
       "T3    120.393798\n",
       "T2    144.316004\n",
       "T1    149.050012\n",
       "T0    153.676824\n",
       "Name: Value, dtype: float64"
      ]
     },
     "execution_count": 490,
     "metadata": {},
     "output_type": "execute_result"
    }
   ],
   "source": [
    "data.groupby('Team2')['Value'].mean().order()"
   ]
  },
  {
   "cell_type": "code",
   "execution_count": 478,
   "metadata": {
    "collapsed": false
   },
   "outputs": [
    {
     "data": {
      "text/plain": [
       "<module 'sports_math.scoring' from '/Users/eczech/repos/portfolio/functional/sports/python/sports_math/scoring.py'>"
      ]
     },
     "execution_count": 478,
     "metadata": {},
     "output_type": "execute_result"
    }
   ],
   "source": [
    "import imp\n",
    "imp.reload(scoring)"
   ]
  },
  {
   "cell_type": "code",
   "execution_count": 357,
   "metadata": {
    "collapsed": false
   },
   "outputs": [
    {
     "name": "stdout",
     "output_type": "stream",
     "text": [
      "88.2898131724 88.4916777738\n"
     ]
    },
    {
     "data": {
      "text/plain": [
       "<matplotlib.axes._subplots.AxesSubplot at 0x12456e2e8>"
      ]
     },
     "execution_count": 357,
     "metadata": {},
     "output_type": "execute_result"
    },
    {
     "data": {
      "text/plain": [
       "<matplotlib.figure.Figure at 0x122e98438>"
      ]
     },
     "metadata": {},
     "output_type": "display_data"
    },
    {
     "data": {
      "image/png": "[encoded data removed]",
      "text/plain": [
       "<matplotlib.figure.Figure at 0x124565668>"
      ]
     },
     "metadata": {},
     "output_type": "display_data"
    }
   ],
   "source": [
    "from scipy import stats\n",
    "from sports_math import scoring\n",
    "\n",
    "psamp = [100, 95, 100, 103, 98, 110, 90]\n",
    "samp = [50, 100, 150]\n",
    "\n",
    "M0, L0, A0, B0 = scoring.ngamma_posterior(samp, psamp)\n",
    "#print(M0, L0, A0, B0)\n",
    "\n",
    "params = scoring.rngamma(M0, L0, A0, B0, 10000)\n",
    "\n",
    "plt.figure()\n",
    "params['Marginal'] = np.random.standard_t(2*A0, size=10000) * TS + M0\n",
    "params['Marginal2'] = stats.t(2*A0, loc=M0, scale=TS).rvs(10000)\n",
    "p25 = scoring.ngamma_marginal_mu_ppf(M0, L0, A0, B0, [.25])\n",
    "print(p25.iloc[0], np.percentile(params['Mean'], 25))\n",
    "params[['Mean', 'Marginal', 'Marginal2']].plot(kind='kde')"
   ]
  },
  {
   "cell_type": "code",
   "execution_count": 491,
   "metadata": {
    "collapsed": true
   },
   "outputs": [],
   "source": [
    "def get_scores(d, year, date, season_threshold=3):\n",
    "    d = d[d['Date'] <= date]\n",
    "    prior_d = d[d['Year'] < year - season_threshold]['Value']\n",
    "    curr_d = d[d['Year'] >= year - season_threshold]\n",
    "    print(len(curr_d), len(prior_d))\n",
    "    def get_team_scores(x):\n",
    "        def get_opp_scores(y):\n",
    "            raw_v = y['Value']\n",
    "            w = np.array([year - y_past for y_past in y['Year']])\n",
    "            w = np.max(w) - w + 1\n",
    "            rep_v = []\n",
    "            for i in range(len(raw_v)):\n",
    "                #rep_v.extend(np.repeat(raw_v.iloc[i], 1))\n",
    "                rep_v.extend(np.repeat(raw_v.iloc[i], w[i]))\n",
    "            #print(y, rep_v)\n",
    "            M0, L0, A0, B0 = scoring.ngamma_posterior(rep_v, prior_d)\n",
    "            score = scoring.ngamma_marginal_mu_ppf(M0, L0, A0, B0, [.25]).iloc[0]\n",
    "            #print(np.mean(raw_v), score)\n",
    "            return score\n",
    "        return x.groupby('Team2').apply(get_opp_scores)\n",
    "    res = curr_d.groupby('Team1').apply(get_team_scores)\n",
    "    res.name = 'Score'\n",
    "    return res"
   ]
  },
  {
   "cell_type": "code",
   "execution_count": 492,
   "metadata": {
    "collapsed": false
   },
   "outputs": [
    {
     "name": "stdout",
     "output_type": "stream",
     "text": [
      "748 204\n"
     ]
    },
    {
     "data": {
      "text/html": [
       "<div>\n",
       "<table border=\"1\" class=\"dataframe\">\n",
       "  <thead>\n",
       "    <tr style=\"text-align: right;\">\n",
       "      <th></th>\n",
       "      <th>Team1</th>\n",
       "      <th>Team2</th>\n",
       "      <th>Score</th>\n",
       "    </tr>\n",
       "  </thead>\n",
       "  <tbody>\n",
       "    <tr>\n",
       "      <th>0</th>\n",
       "      <td>T0</td>\n",
       "      <td>T1</td>\n",
       "      <td>92.072739</td>\n",
       "    </tr>\n",
       "    <tr>\n",
       "      <th>1</th>\n",
       "      <td>T0</td>\n",
       "      <td>T3</td>\n",
       "      <td>70.734240</td>\n",
       "    </tr>\n",
       "    <tr>\n",
       "      <th>2</th>\n",
       "      <td>T0</td>\n",
       "      <td>T4</td>\n",
       "      <td>62.898048</td>\n",
       "    </tr>\n",
       "    <tr>\n",
       "      <th>3</th>\n",
       "      <td>T0</td>\n",
       "      <td>T6</td>\n",
       "      <td>42.943141</td>\n",
       "    </tr>\n",
       "    <tr>\n",
       "      <th>4</th>\n",
       "      <td>T0</td>\n",
       "      <td>T7</td>\n",
       "      <td>31.971284</td>\n",
       "    </tr>\n",
       "  </tbody>\n",
       "</table>\n",
       "</div>"
      ],
      "text/plain": [
       "  Team1 Team2      Score\n",
       "0    T0    T1  92.072739\n",
       "1    T0    T3  70.734240\n",
       "2    T0    T4  62.898048\n",
       "3    T0    T6  42.943141\n",
       "4    T0    T7  31.971284"
      ]
     },
     "execution_count": 492,
     "metadata": {},
     "output_type": "execute_result"
    }
   ],
   "source": [
    "scores = get_scores(data, 2014, '2014-09-02').reset_index()\n",
    "scores.head()"
   ]
  },
  {
   "cell_type": "code",
   "execution_count": 493,
   "metadata": {
    "collapsed": false
   },
   "outputs": [
    {
     "data": {
      "text/plain": [
       "Team2\n",
       "T0    0.095849\n",
       "T1    0.084349\n",
       "T2    0.072554\n",
       "T3    0.085638\n",
       "T4    0.101213\n",
       "T5    0.087577\n",
       "T6    0.134319\n",
       "T7    0.122050\n",
       "T8    0.122542\n",
       "T9    0.093909\n",
       "dtype: float64"
      ]
     },
     "execution_count": 493,
     "metadata": {},
     "output_type": "execute_result"
    }
   ],
   "source": [
    "from sports_math import markov_chain_rank as mc_rank\n",
    "ranks = mc_rank.get_ranks(scoring.get_normalized_scores(scores, linear=True))\n",
    "ranks"
   ]
  },
  {
   "cell_type": "code",
   "execution_count": 494,
   "metadata": {
    "collapsed": false
   },
   "outputs": [
    {
     "data": {
      "text/plain": [
       "Team2\n",
       "T0    0.018018\n",
       "T1    0.023387\n",
       "T2    0.027823\n",
       "T3    0.037347\n",
       "T4    0.071071\n",
       "T5    0.074182\n",
       "T6    0.156461\n",
       "T7    0.231724\n",
       "T8    0.172468\n",
       "T9    0.187521\n",
       "dtype: float64"
      ]
     },
     "execution_count": 494,
     "metadata": {},
     "output_type": "execute_result"
    }
   ],
   "source": [
    "from sports_math import markov_chain_rank as mc_rank\n",
    "ranks = mc_rank.get_ranks(scoring.get_normalized_scores(scores, linear=False))\n",
    "ranks"
   ]
  },
  {
   "cell_type": "code",
   "execution_count": null,
   "metadata": {
    "collapsed": true
   },
   "outputs": [],
   "source": []
  }
 ],
 "metadata": {
  "kernelspec": {
   "display_name": "Python 3",
   "language": "python",
   "name": "python3"
  },
  "language_info": {
   "codemirror_mode": {
    "name": "ipython",
    "version": 3
   },
   "file_extension": ".py",
   "mimetype": "text/x-python",
   "name": "python",
   "nbconvert_exporter": "python",
   "pygments_lexer": "ipython3",
   "version": "3.4.3"
  }
 },
 "nbformat": 4,
 "nbformat_minor": 0
}
