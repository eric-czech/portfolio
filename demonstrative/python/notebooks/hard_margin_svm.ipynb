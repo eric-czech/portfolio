{
 "cells": [
  {
   "cell_type": "markdown",
   "metadata": {},
   "source": [
    "Notebook contains **hard-margin svm** manual solution using lagrangian dual as well as **Perceptron Algorithm** implementation"
   ]
  },
  {
   "cell_type": "code",
   "execution_count": 22,
   "metadata": {
    "collapsed": false
   },
   "outputs": [],
   "source": [
    "%run -m ipy_startup\n",
    "%matplotlib inline"
   ]
  },
  {
   "cell_type": "code",
   "execution_count": 2,
   "metadata": {
    "collapsed": true
   },
   "outputs": [],
   "source": [
    "from sklearn.svm import SVC"
   ]
  },
  {
   "cell_type": "markdown",
   "metadata": {},
   "source": [
    "# Scikit Learn Solution\n",
    "\n",
    "To SVM hard margin problem\n",
    "\n",
    "Visualizing hyperplane: http://scikit-learn.org/stable/auto_examples/svm/plot_separating_hyperplane.html"
   ]
  },
  {
   "cell_type": "code",
   "execution_count": 177,
   "metadata": {
    "collapsed": false
   },
   "outputs": [
    {
     "data": {
      "text/plain": [
       "(array([[-1, -1],\n",
       "        [ 0,  1],\n",
       "        [ 1, -2],\n",
       "        [ 1,  2]]), array([-1,  1, -1,  1]))"
      ]
     },
     "execution_count": 177,
     "metadata": {},
     "output_type": "execute_result"
    }
   ],
   "source": [
    "X = [\n",
    "    [-1, -1],\n",
    "    [0, 1],\n",
    "    [1, -2],\n",
    "    [1, 2]\n",
    "]\n",
    "y = [-1, 1, -1, 1]\n",
    "X, y = np.array(X), np.array(y)\n",
    "X, y"
   ]
  },
  {
   "cell_type": "code",
   "execution_count": 178,
   "metadata": {
    "collapsed": false
   },
   "outputs": [
    {
     "data": {
      "text/plain": [
       "SVC(C=inf, cache_size=200, class_weight=None, coef0=0.0,\n",
       "  decision_function_shape=None, degree=1, gamma='auto', kernel='linear',\n",
       "  max_iter=-1, probability=False, random_state=None, shrinking=False,\n",
       "  tol=0.001, verbose=False)"
      ]
     },
     "execution_count": 178,
     "metadata": {},
     "output_type": "execute_result"
    }
   ],
   "source": [
    "m = SVC(kernel='linear', degree=1, C=np.inf, shrinking=False)\n",
    "m.fit(X, y)"
   ]
  },
  {
   "cell_type": "code",
   "execution_count": 183,
   "metadata": {
    "collapsed": false
   },
   "outputs": [
    {
     "data": {
      "text/plain": [
       "(array([ 0.2]), array([[ 0.4,  0.8]]))"
      ]
     },
     "execution_count": 183,
     "metadata": {},
     "output_type": "execute_result"
    }
   ],
   "source": [
    "# These are values of parameters for weight vector that is normal\n",
    "# to separating hyperplane (i.e. a line in 2D)\n",
    "m.intercept_, m.coef_"
   ]
  },
  {
   "cell_type": "code",
   "execution_count": 184,
   "metadata": {
    "collapsed": false
   },
   "outputs": [
    {
     "data": {
      "text/plain": [
       "array([[-0.4,  0.4]])"
      ]
     },
     "execution_count": 184,
     "metadata": {},
     "output_type": "execute_result"
    }
   ],
   "source": [
    "# Presmuably these are all the non-zero lagrange multipliers though\n",
    "# I'm not sure why they're ever negative\n",
    "m.dual_coef_"
   ]
  },
  {
   "cell_type": "code",
   "execution_count": 185,
   "metadata": {
    "collapsed": false
   },
   "outputs": [
    {
     "data": {
      "text/plain": [
       "array([[-1., -1.],\n",
       "       [ 0.,  1.]])"
      ]
     },
     "execution_count": 185,
     "metadata": {},
     "output_type": "execute_result"
    }
   ],
   "source": [
    "# Obvious \n",
    "m.support_vectors_"
   ]
  },
  {
   "cell_type": "code",
   "execution_count": 186,
   "metadata": {
    "collapsed": false
   },
   "outputs": [
    {
     "data": {
      "text/plain": [
       "array([0, 1], dtype=int32)"
      ]
     },
     "execution_count": 186,
     "metadata": {},
     "output_type": "execute_result"
    }
   ],
   "source": [
    "m.support_"
   ]
  },
  {
   "cell_type": "code",
   "execution_count": 208,
   "metadata": {
    "collapsed": false
   },
   "outputs": [],
   "source": [
    "# w = clf.coef_[0]\n",
    "# a = -w[0] / w[1]\n",
    "# xx = np.linspace(-5, 5)\n",
    "# yy = a * xx - (clf.intercept_[0]) / w[1]\n",
    "\n",
    "# To get the separating line, you first have to find an equation for the line\n",
    "# normal to the weight vector w (which has slope equal to negative reciprocal)\n",
    "w = m.coef_[0]\n",
    "s = -w[0]/w[1]\n",
    "b = - m.intercept_[0] / w[1]\n",
    "xl = np.linspace(-2, 2, num=100)\n",
    "yl = s * xl + b"
   ]
  },
  {
   "cell_type": "code",
   "execution_count": 210,
   "metadata": {
    "collapsed": false
   },
   "outputs": [
    {
     "data": {
      "text/plain": [
       "(-0.49999999999999994, -0.24999999999999989)"
      ]
     },
     "execution_count": 210,
     "metadata": {},
     "output_type": "execute_result"
    }
   ],
   "source": [
    "s, b"
   ]
  },
  {
   "cell_type": "code",
   "execution_count": 190,
   "metadata": {
    "collapsed": false
   },
   "outputs": [
    {
     "name": "stdout",
     "output_type": "stream",
     "text": [
      "[-1 -1] dist =  [-1.11803399]\n",
      "[0 1] dist =  [ 1.11803399]\n",
      "[ 1 -2] dist =  [-1.11803399]\n",
      "[1 2] dist =  [ 2.45967478]\n"
     ]
    }
   ],
   "source": [
    "# ax + by + c = 0\n",
    "# => a =-s, b=1, c=-b\n",
    "def get_dist(slope, intercept, p):\n",
    "    \"\"\" Find smallest distance from `p` to line given by `slope` and `intercept`\"\"\"\n",
    "    return (-slope*p[0] + p[1] - intercept) / np.sqrt(slope**2 + 1)\n",
    "\n",
    "for p in X:\n",
    "    print(p, 'dist = ', get_dist(s, b, p))"
   ]
  },
  {
   "cell_type": "code",
   "execution_count": 191,
   "metadata": {
    "collapsed": false
   },
   "outputs": [
    {
     "data": {
      "image/png": "[encoded data removed]",
      "text/plain": [
       "<matplotlib.figure.Figure at 0x111bed358>"
      ]
     },
     "metadata": {},
     "output_type": "display_data"
    }
   ],
   "source": [
    "plt.scatter(x=X[:,0], y=X[:,1], c=y, s=100)\n",
    "plt.plot(xl, yl)\n",
    "plt.grid()"
   ]
  },
  {
   "cell_type": "markdown",
   "metadata": {},
   "source": [
    "# Direct Optimization"
   ]
  },
  {
   "cell_type": "markdown",
   "metadata": {},
   "source": [
    "### Dual Lagrangian"
   ]
  },
  {
   "cell_type": "code",
   "execution_count": 202,
   "metadata": {
    "collapsed": false
   },
   "outputs": [],
   "source": [
    "import numpy as np\n",
    "from scipy.optimize import minimize\n",
    "\n",
    "\n",
    "\n",
    "def dual_lagrangian_max_margin(X, y):\n",
    "    \"\"\" Solves for lagrangian weights in dual formulation for max-margin classification \n",
    "    \n",
    "    Note that this formulation is found by:\n",
    "    1. Expressing the primal formulation in terms of the weights for the hyperplane and \n",
    "        the lagrange multipliers times the constraints that make that hyperplane separating.\n",
    "            - The constraints are all >= 0 inequalities like 1 - y(w*x + b) >= 0\n",
    "            - The number of constraints is equal to number of data points (n), thus the number \n",
    "                of lagrange multipliers is also n\n",
    "    2. Differentiating primal by w and b, setting to 0, and then plugging those answers back\n",
    "        into the original observation problem.  These will come out as:\n",
    "            - w = sum(ai * yi * xi) over all i [where ai is lagrange multiplier i]\n",
    "            - b = not defined in solution for maximum value, though this differentiation does\n",
    "                give the important \"balance\" constraint (that sum(ai * yi) over all i = 0)\n",
    "    3. Those values placed back in the primal expression give the dual formulation with the\n",
    "        following constraints:\n",
    "            - sum(ai * yi) over all i = 0\n",
    "            - ai >= 0 for all i\n",
    "    4. And the dual lagrangian objective function is: \n",
    "            - L(a) = sum(ai) - 1/2 * sum(pairwise points[xi, xj] {ai aj yi yj <xi, xj>})\n",
    "            \n",
    "    This function will maximize the above function with respect to the lagrange multipliers ai\n",
    "    and return the optimization result (which will contain those weights)\n",
    "    \n",
    "    :param X: data matrix (n,p)\n",
    "    :param y: response array (n,) in {-1, 1}\n",
    "    :return scipy optimize result\n",
    "    \"\"\"\n",
    "    n = X.shape[0]\n",
    "    \n",
    "    def loss(w):\n",
    "        assert len(w) == n\n",
    "        \n",
    "        # Compute right half of L\n",
    "        l = 0\n",
    "        for i in range(n):\n",
    "            for j in range(n):\n",
    "                l += y[i]*y[j]*w[i]*w[j]*np.dot(X[i], X[j])\n",
    "                \n",
    "        # Add to left half of L\n",
    "        #L = np.sum(w) - .5 * l\n",
    "        \n",
    "        w1, w2, w3, w4 = w\n",
    "        L = np.sum(w) - (w1**2 + w1*w2 + w1*w3 + 3*w1*w4 + .5*w2*w2 + 2*w2*w3 + 2*w2*w4 + 2.5*w3*w3 + 3*w3*w4 + 2.5*w4*w4)\n",
    "        #l = 2*w2 + 2*w4 - w1**2 - w1*w2 - w1 * w3 + 3*w1*w4 - .5*w2**2 - 2*w2*w3 - 2*w2*w4 - 2.5*w3**2 - 3*w3*w4 - 2.5*w4**2\n",
    "        \n",
    "        # Return negative L to maximize\n",
    "        return -L\n",
    "\n",
    "    cons = (\n",
    "        {\n",
    "            'type': 'eq',\n",
    "            'fun' : lambda w: (w[1] + w[3]) - (w[0] + w[2])\n",
    "        },\n",
    "        {\n",
    "            'type': 'ineq',\n",
    "            'fun': lambda w: np.sum(w)\n",
    "        }\n",
    "    )\n",
    "\n",
    "    x0 = np.zeros(n)\n",
    "    return minimize(\n",
    "        loss, x0, tol=1e-32,\n",
    "        method='SLSQP', \n",
    "        constraints=cons,\n",
    "        bounds=[(0., np.inf) for i in range(n)], \n",
    "        options={'disp': True}\n",
    "    )"
   ]
  },
  {
   "cell_type": "code",
   "execution_count": 203,
   "metadata": {
    "collapsed": false
   },
   "outputs": [
    {
     "name": "stdout",
     "output_type": "stream",
     "text": [
      "Positive directional derivative for linesearch    (Exit mode 8)\n",
      "            Current function value: -0.4\n",
      "            Iterations: 12\n",
      "            Function evaluations: 55\n",
      "            Gradient evaluations: 8\n"
     ]
    },
    {
     "data": {
      "text/plain": [
       "     fun: -0.40000000000000019\n",
       "     jac: array([ 0.20000001, -0.2       ,  0.20000003,  1.00000002,  0.        ])\n",
       " message: 'Positive directional derivative for linesearch'\n",
       "    nfev: 55\n",
       "     nit: 12\n",
       "    njev: 8\n",
       "  status: 8\n",
       " success: False\n",
       "       x: array([ 0.4,  0.4,  0. ,  0. ])"
      ]
     },
     "execution_count": 203,
     "metadata": {},
     "output_type": "execute_result"
    }
   ],
   "source": [
    "dual_lagrangian_max_margin(X, y)"
   ]
  },
  {
   "cell_type": "code",
   "execution_count": 193,
   "metadata": {
    "collapsed": false
   },
   "outputs": [
    {
     "name": "stdout",
     "output_type": "stream",
     "text": [
      "Positive directional derivative for linesearch    (Exit mode 8)\n",
      "            Current function value: -0.4\n",
      "            Iterations: 31\n",
      "            Function evaluations: 327\n",
      "            Gradient evaluations: 27\n"
     ]
    },
    {
     "data": {
      "text/plain": [
       "     fun: -0.40000000000000019\n",
       "     jac: array([ 0.2       , -0.2       ,  0.20000004,  1.00000001,  0.        ])\n",
       " message: 'Positive directional derivative for linesearch'\n",
       "    nfev: 327\n",
       "     nit: 31\n",
       "    njev: 27\n",
       "  status: 8\n",
       " success: False\n",
       "       x: array([  3.99999996e-01,   3.99999996e-01,   2.58688200e-14,\n",
       "         2.75944946e-21])"
      ]
     },
     "execution_count": 193,
     "metadata": {},
     "output_type": "execute_result"
    }
   ],
   "source": [
    "dual_lagrangian_max_margin(X, y)"
   ]
  },
  {
   "cell_type": "code",
   "execution_count": 165,
   "metadata": {
    "collapsed": false
   },
   "outputs": [
    {
     "data": {
      "text/plain": [
       "array([  3.99999996e-01,   3.99999996e-01,   2.58688200e-14,\n",
       "         2.75944946e-21])"
      ]
     },
     "execution_count": 165,
     "metadata": {},
     "output_type": "execute_result"
    }
   ],
   "source": [
    "res.x"
   ]
  },
  {
   "cell_type": "code",
   "execution_count": 166,
   "metadata": {
    "collapsed": false
   },
   "outputs": [
    {
     "data": {
      "text/plain": [
       "array([[  3.99999996e-01,   3.99999996e-01],\n",
       "       [  0.00000000e+00,   3.99999996e-01],\n",
       "       [ -2.58688200e-14,   5.17376401e-14],\n",
       "       [  2.75944946e-21,   5.51889891e-21]])"
      ]
     },
     "execution_count": 166,
     "metadata": {},
     "output_type": "execute_result"
    }
   ],
   "source": [
    "wstar = np.array([res.x[i]*y[i]*X[i] for i in range(4)])\n",
    "#wstar = wstar.sum(axis=0)\n",
    "wstar"
   ]
  },
  {
   "cell_type": "code",
   "execution_count": 167,
   "metadata": {
    "collapsed": false
   },
   "outputs": [
    {
     "data": {
      "text/plain": [
       "array([ 0.4       ,  0.79999999])"
      ]
     },
     "execution_count": 167,
     "metadata": {},
     "output_type": "execute_result"
    }
   ],
   "source": [
    "wstar.sum(axis=0)"
   ]
  },
  {
   "cell_type": "code",
   "execution_count": 123,
   "metadata": {
    "collapsed": false
   },
   "outputs": [
    {
     "data": {
      "text/plain": [
       "array([ 1.        ,  5.66666667, -2.66666667,  0.33333333])"
      ]
     },
     "execution_count": 123,
     "metadata": {},
     "output_type": "execute_result"
    }
   ],
   "source": [
    "# A = np.array([\n",
    "#     [2, -1, -1, 3],\n",
    "#     [-1, -1, -2, -2],\n",
    "#     [-1, -2, -5, -3],\n",
    "#     [3, -2, -3, -5]\n",
    "# ]) \n",
    "# Ainv = np.linalg.inv(A)\n",
    "# alphas = np.matmul(Ainv, np.array([0, -2, 0, -2]))\n",
    "# alphas"
   ]
  },
  {
   "cell_type": "code",
   "execution_count": 200,
   "metadata": {
    "collapsed": false
   },
   "outputs": [],
   "source": [
    "A = np.array([\n",
    "    [2, 1, 1, 3],\n",
    "    [1, 1, 2, 2],\n",
    "    [1, 2, 5, 3],\n",
    "    [3, 2, 3, 5]#,\n",
    "    #[1, -1, 1, -1]\n",
    "]) \n",
    "#b = np.array([1, 1, 1, 1, 0])\n",
    "b = np.array([0, 2, 0, 0])\n",
    "#Ainv = np.linalg.inv(A)\n",
    "#alphas = np.matmul(Ainv, b)\n",
    "#alphas"
   ]
  },
  {
   "cell_type": "code",
   "execution_count": 201,
   "metadata": {
    "collapsed": false
   },
   "outputs": [
    {
     "data": {
      "text/plain": [
       "(array([ 0.18787158,  0.04042806, -0.0665874 ,  0.22829964]),\n",
       " array([], dtype=float64),\n",
       " 2,\n",
       " array([  1.01400549e+01,   2.85994506e+00,   6.88218710e-16,\n",
       "          5.99439662e-18]))"
      ]
     },
     "execution_count": 201,
     "metadata": {},
     "output_type": "execute_result"
    }
   ],
   "source": [
    "np.linalg.lstsq(A, b)"
   ]
  },
  {
   "cell_type": "code",
   "execution_count": 196,
   "metadata": {
    "collapsed": false
   },
   "outputs": [
    {
     "name": "stderr",
     "output_type": "stream",
     "text": [
      "/Users/eczech/anaconda/envs/research3.5/lib/python3.5/site-packages/ipykernel/__main__.py:1: RuntimeWarning: divide by zero encountered in true_divide\n",
      "  if __name__ == '__main__':\n"
     ]
    },
    {
     "data": {
      "text/plain": [
       "array([[ inf,  0.5,  inf,  1.5],\n",
       "       [ inf,  0.5,  inf,  1. ],\n",
       "       [ inf,  1. ,  inf,  1.5],\n",
       "       [ inf,  1. ,  inf,  2.5]])"
      ]
     },
     "execution_count": 196,
     "metadata": {},
     "output_type": "execute_result"
    }
   ],
   "source": []
  },
  {
   "cell_type": "code",
   "execution_count": 124,
   "metadata": {
    "collapsed": false
   },
   "outputs": [
    {
     "data": {
      "text/plain": [
       "array([[ 1.        ,  1.        ],\n",
       "       [ 0.        ,  5.66666667],\n",
       "       [ 2.66666667, -5.33333333],\n",
       "       [ 0.33333333,  0.66666667]])"
      ]
     },
     "execution_count": 124,
     "metadata": {},
     "output_type": "execute_result"
    }
   ],
   "source": [
    "wstar = np.array([alphas[i]*y[i]*X[i] for i in range(4)])\n",
    "#wstar = wstar.sum(axis=0)\n",
    "wstar"
   ]
  },
  {
   "cell_type": "code",
   "execution_count": 125,
   "metadata": {
    "collapsed": false
   },
   "outputs": [
    {
     "data": {
      "text/plain": [
       "array([ 4.,  2.])"
      ]
     },
     "execution_count": 125,
     "metadata": {},
     "output_type": "execute_result"
    }
   ],
   "source": [
    "wstar.sum(axis=0)"
   ]
  },
  {
   "cell_type": "code",
   "execution_count": 89,
   "metadata": {
    "collapsed": false
   },
   "outputs": [
    {
     "data": {
      "text/plain": [
       "-0.16666666666666674"
      ]
     },
     "execution_count": 89,
     "metadata": {},
     "output_type": "execute_result"
    }
   ],
   "source": [
    "z[0] + z[2]"
   ]
  },
  {
   "cell_type": "code",
   "execution_count": 90,
   "metadata": {
    "collapsed": false
   },
   "outputs": [
    {
     "data": {
      "text/plain": [
       "1.5000000000000004"
      ]
     },
     "execution_count": 90,
     "metadata": {},
     "output_type": "execute_result"
    }
   ],
   "source": [
    "z[1] + z[3]"
   ]
  },
  {
   "cell_type": "markdown",
   "metadata": {},
   "source": [
    "# Perceptron"
   ]
  },
  {
   "cell_type": "code",
   "execution_count": 240,
   "metadata": {
    "collapsed": false
   },
   "outputs": [],
   "source": [
    "X = np.array([\n",
    "    [1, 1],\n",
    "    [1, 0],\n",
    "    [1, -1],\n",
    "    [-1, -1],\n",
    "    [-1, 0],\n",
    "    [-1, 1]\n",
    "])\n",
    "y = np.array([1, 1, 1, -1, -1, -1])"
   ]
  },
  {
   "cell_type": "code",
   "execution_count": 242,
   "metadata": {
    "collapsed": false
   },
   "outputs": [
    {
     "name": "stdout",
     "output_type": "stream",
     "text": [
      "Step 0 (change = N)| index:0\tw: [-1.  2.] => [-1.  2.]\tb: 0.0 => 0.0\tH: y = 0.5 x + -0.0\n",
      "Step 1 (change = Y)| index:1\tw: [-1.  2.] => [ 0.  2.]\tb: 0.0 => 1.0\tH: y = -0.0 x + -0.5\n",
      "Step 2 (change = Y)| index:2\tw: [ 0.  2.] => [ 1.  1.]\tb: 1.0 => 2.0\tH: y = -1.0 x + -2.0\n",
      "Step 3 (change = Y)| index:3\tw: [ 1.  1.] => [ 2.  2.]\tb: 2.0 => 1.0\tH: y = -1.0 x + -0.5\n",
      "Step 4 (change = N)| index:4\tw: [ 2.  2.] => [ 2.  2.]\tb: 1.0 => 1.0\tH: y = -1.0 x + -0.5\n",
      "Step 5 (change = Y)| index:5\tw: [ 2.  2.] => [ 3.  1.]\tb: 1.0 => 0.0\tH: y = -3.0 x + -0.0\n",
      "Complete\n"
     ]
    }
   ],
   "source": [
    "# Implementation of Perceptron Algorithm with assumption that correctly classified\n",
    "# points involve no weight update\n",
    "\n",
    "def sign(x, w, b):\n",
    "    s = int(np.sign(np.dot(x, w) + b) >= 0)\n",
    "    return -1 if s == 0 else 1\n",
    "\n",
    "\n",
    "def all_correct(X, y, w, b):\n",
    "    for i in range(len(y)):\n",
    "        xi = X[i]\n",
    "        yi = y[i]\n",
    "        if sign(xi, w, b) != yi:\n",
    "            return False\n",
    "    return True\n",
    "\n",
    "def train(X, y):\n",
    "    \n",
    "    w = np.array([-1., 2.])\n",
    "    b = 0.\n",
    "    a = 1.\n",
    "    ct = -1\n",
    "    n = len(y)\n",
    "    \n",
    "    while True:\n",
    "        ct += 1\n",
    "        i = ct % n\n",
    "        \n",
    "        xi = X[i]\n",
    "        yi = y[i]\n",
    "        \n",
    "        s = sign(xi, w, b)\n",
    "        old = (w, b)\n",
    "        if s != yi:\n",
    "            w = w + a*(yi * xi)\n",
    "            b = b + a*(yi)    \n",
    "        h = 'y = {} x + {}'.format(-w[0]/w[1], -b/w[1])\n",
    "        change = 'Y' if s != yi else 'N'\n",
    "        print(\n",
    "            'Step {} (change = {})| index:{}\\tw: {} => {}\\tb: {} => {}\\tH: {}'\n",
    "            .format(ct, change, i, old[0], w, old[1], b, h)\n",
    "        )\n",
    "        \n",
    "        if i > 100:\n",
    "            raise AssertionError('Failed to converge after 100 steps')\n",
    "            \n",
    "        if all_correct(X, y, w, b):\n",
    "            break\n",
    "    print('Complete')\n",
    "train(X, y)\n",
    "        "
   ]
  },
  {
   "cell_type": "code",
   "execution_count": null,
   "metadata": {
    "collapsed": true
   },
   "outputs": [],
   "source": []
  },
  {
   "cell_type": "code",
   "execution_count": null,
   "metadata": {
    "collapsed": true
   },
   "outputs": [],
   "source": []
  }
 ],
 "metadata": {
  "anaconda-cloud": {},
  "kernelspec": {
   "display_name": "Python 3",
   "language": "python",
   "name": "python3"
  },
  "language_info": {
   "codemirror_mode": {
    "name": "ipython",
    "version": 3
   },
   "file_extension": ".py",
   "mimetype": "text/x-python",
   "name": "python",
   "nbconvert_exporter": "python",
   "pygments_lexer": "ipython3",
   "version": "3.5.2"
  }
 },
 "nbformat": 4,
 "nbformat_minor": 2
}
