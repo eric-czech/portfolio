{
 "metadata": {
  "name": "",
  "signature": "sha256:09f21439238d45e06b080cbd5eea5b69d00b2b6f4d65511161f5bed39f6771e0"
 },
 "nbformat": 3,
 "nbformat_minor": 0,
 "worksheets": [
  {
   "cells": [
    {
     "cell_type": "code",
     "collapsed": false,
     "input": [
      "import pandas as pd\n",
      "import numpy as np\n",
      "import datetime as dt\n",
      "import matplotlib.pyplot as plt\n",
      "from data_api.metrics_research import MetricResearchAPI"
     ],
     "language": "python",
     "metadata": {},
     "outputs": [],
     "prompt_number": 2
    },
    {
     "cell_type": "code",
     "collapsed": false,
     "input": [
      "api_access_token = '37d03cab02ce2a5131abebf1cb07ac76'\n",
      "api = MetricResearchAPI(api_access_token)"
     ],
     "language": "python",
     "metadata": {},
     "outputs": [],
     "prompt_number": 4
    },
    {
     "cell_type": "code",
     "collapsed": false,
     "input": [
      "data = api.get_entity_global_data(entities=269811, metrics='258,11', start='2014-06-01', end='2014-07-01')"
     ],
     "language": "python",
     "metadata": {},
     "outputs": [
      {
       "output_type": "stream",
       "stream": "stdout",
       "text": [
        "Fetching API data for URL: https://api.nextbigsound.com/metrics/v1/entityData?access_token=37d03cab02ce2a5131abebf1cb07ac76&metrics=258,11&entities=269811&end=2014-07-01&start=2014-06-01\n"
       ]
      }
     ],
     "prompt_number": 5
    },
    {
     "cell_type": "code",
     "collapsed": false,
     "input": [
      "data.head()\n"
     ],
     "language": "python",
     "metadata": {},
     "outputs": [
      {
       "html": [
        "<div style=\"max-height:1000px;max-width:1500px;overflow:auto;\">\n",
        "<table border=\"1\" class=\"dataframe\">\n",
        "  <thead>\n",
        "    <tr style=\"text-align: right;\">\n",
        "      <th></th>\n",
        "      <th>entity_id</th>\n",
        "      <th>entity_name</th>\n",
        "      <th>metric_id</th>\n",
        "      <th>metric_name</th>\n",
        "      <th>metric_network_id</th>\n",
        "      <th>metric_divisor</th>\n",
        "      <th>count_type</th>\n",
        "      <th>timestamp</th>\n",
        "      <th>value</th>\n",
        "    </tr>\n",
        "  </thead>\n",
        "  <tbody>\n",
        "    <tr>\n",
        "      <th>0</th>\n",
        "      <td> 269811</td>\n",
        "      <td> Ke$ha</td>\n",
        "      <td> 11</td>\n",
        "      <td> Page Likes</td>\n",
        "      <td> 4</td>\n",
        "      <td> 1</td>\n",
        "      <td> totals</td>\n",
        "      <td>2014-06-01</td>\n",
        "      <td> 32741176</td>\n",
        "    </tr>\n",
        "    <tr>\n",
        "      <th>1</th>\n",
        "      <td> 269811</td>\n",
        "      <td> Ke$ha</td>\n",
        "      <td> 11</td>\n",
        "      <td> Page Likes</td>\n",
        "      <td> 4</td>\n",
        "      <td> 1</td>\n",
        "      <td> totals</td>\n",
        "      <td>2014-06-02</td>\n",
        "      <td> 32753441</td>\n",
        "    </tr>\n",
        "    <tr>\n",
        "      <th>2</th>\n",
        "      <td> 269811</td>\n",
        "      <td> Ke$ha</td>\n",
        "      <td> 11</td>\n",
        "      <td> Page Likes</td>\n",
        "      <td> 4</td>\n",
        "      <td> 1</td>\n",
        "      <td> totals</td>\n",
        "      <td>2014-06-03</td>\n",
        "      <td> 32764617</td>\n",
        "    </tr>\n",
        "    <tr>\n",
        "      <th>3</th>\n",
        "      <td> 269811</td>\n",
        "      <td> Ke$ha</td>\n",
        "      <td> 11</td>\n",
        "      <td> Page Likes</td>\n",
        "      <td> 4</td>\n",
        "      <td> 1</td>\n",
        "      <td> totals</td>\n",
        "      <td>2014-06-04</td>\n",
        "      <td> 32776344</td>\n",
        "    </tr>\n",
        "    <tr>\n",
        "      <th>4</th>\n",
        "      <td> 269811</td>\n",
        "      <td> Ke$ha</td>\n",
        "      <td> 11</td>\n",
        "      <td> Page Likes</td>\n",
        "      <td> 4</td>\n",
        "      <td> 1</td>\n",
        "      <td> totals</td>\n",
        "      <td>2014-06-05</td>\n",
        "      <td> 32789732</td>\n",
        "    </tr>\n",
        "  </tbody>\n",
        "</table>\n",
        "</div>"
       ],
       "metadata": {},
       "output_type": "pyout",
       "prompt_number": 6,
       "text": [
        "   entity_id entity_name  metric_id metric_name  metric_network_id  \\\n",
        "0     269811       Ke$ha         11  Page Likes                  4   \n",
        "1     269811       Ke$ha         11  Page Likes                  4   \n",
        "2     269811       Ke$ha         11  Page Likes                  4   \n",
        "3     269811       Ke$ha         11  Page Likes                  4   \n",
        "4     269811       Ke$ha         11  Page Likes                  4   \n",
        "\n",
        "   metric_divisor count_type  timestamp     value  \n",
        "0               1     totals 2014-06-01  32741176  \n",
        "1               1     totals 2014-06-02  32753441  \n",
        "2               1     totals 2014-06-03  32764617  \n",
        "3               1     totals 2014-06-04  32776344  \n",
        "4               1     totals 2014-06-05  32789732  "
       ]
      }
     ],
     "prompt_number": 6
    },
    {
     "cell_type": "code",
     "collapsed": false,
     "input": [
      "data.index\n"
     ],
     "language": "python",
     "metadata": {},
     "outputs": [
      {
       "metadata": {},
       "output_type": "pyout",
       "prompt_number": 7,
       "text": [
        "Int64Index([0, 1, 2, 3, 4, 5, 6, 7, 8, 9, 10, 11, 12, 13, 14, 15, 16, 17, 18, 19, 20, 21, 22, 23, 24, 25, 26, 27, 28, 29, 30, 31, 32, 33, 34, 35, 36, 37, 38, 39, 40, 41, 42, 43, 44, 45, 46, 47, 48, 49, 50, 51, 52, 53, 54, 55, 56, 57, 58, 59, 60, 61], dtype='int64')"
       ]
      }
     ],
     "prompt_number": 7
    },
    {
     "cell_type": "code",
     "collapsed": false,
     "input": [
      "ts = data.set_index(['timestamp', 'entity_name', 'metric_name'])\n",
      "ts.head()"
     ],
     "language": "python",
     "metadata": {},
     "outputs": [
      {
       "html": [
        "<div style=\"max-height:1000px;max-width:1500px;overflow:auto;\">\n",
        "<table border=\"1\" class=\"dataframe\">\n",
        "  <thead>\n",
        "    <tr style=\"text-align: right;\">\n",
        "      <th></th>\n",
        "      <th></th>\n",
        "      <th></th>\n",
        "      <th>entity_id</th>\n",
        "      <th>metric_id</th>\n",
        "      <th>metric_network_id</th>\n",
        "      <th>metric_divisor</th>\n",
        "      <th>count_type</th>\n",
        "      <th>value</th>\n",
        "    </tr>\n",
        "    <tr>\n",
        "      <th>timestamp</th>\n",
        "      <th>entity_name</th>\n",
        "      <th>metric_name</th>\n",
        "      <th></th>\n",
        "      <th></th>\n",
        "      <th></th>\n",
        "      <th></th>\n",
        "      <th></th>\n",
        "      <th></th>\n",
        "    </tr>\n",
        "  </thead>\n",
        "  <tbody>\n",
        "    <tr>\n",
        "      <th>2014-06-01</th>\n",
        "      <th>Ke$ha</th>\n",
        "      <th>Page Likes</th>\n",
        "      <td> 269811</td>\n",
        "      <td> 11</td>\n",
        "      <td> 4</td>\n",
        "      <td> 1</td>\n",
        "      <td> totals</td>\n",
        "      <td> 32741176</td>\n",
        "    </tr>\n",
        "    <tr>\n",
        "      <th>2014-06-02</th>\n",
        "      <th>Ke$ha</th>\n",
        "      <th>Page Likes</th>\n",
        "      <td> 269811</td>\n",
        "      <td> 11</td>\n",
        "      <td> 4</td>\n",
        "      <td> 1</td>\n",
        "      <td> totals</td>\n",
        "      <td> 32753441</td>\n",
        "    </tr>\n",
        "    <tr>\n",
        "      <th>2014-06-03</th>\n",
        "      <th>Ke$ha</th>\n",
        "      <th>Page Likes</th>\n",
        "      <td> 269811</td>\n",
        "      <td> 11</td>\n",
        "      <td> 4</td>\n",
        "      <td> 1</td>\n",
        "      <td> totals</td>\n",
        "      <td> 32764617</td>\n",
        "    </tr>\n",
        "    <tr>\n",
        "      <th>2014-06-04</th>\n",
        "      <th>Ke$ha</th>\n",
        "      <th>Page Likes</th>\n",
        "      <td> 269811</td>\n",
        "      <td> 11</td>\n",
        "      <td> 4</td>\n",
        "      <td> 1</td>\n",
        "      <td> totals</td>\n",
        "      <td> 32776344</td>\n",
        "    </tr>\n",
        "    <tr>\n",
        "      <th>2014-06-05</th>\n",
        "      <th>Ke$ha</th>\n",
        "      <th>Page Likes</th>\n",
        "      <td> 269811</td>\n",
        "      <td> 11</td>\n",
        "      <td> 4</td>\n",
        "      <td> 1</td>\n",
        "      <td> totals</td>\n",
        "      <td> 32789732</td>\n",
        "    </tr>\n",
        "  </tbody>\n",
        "</table>\n",
        "</div>"
       ],
       "metadata": {},
       "output_type": "pyout",
       "prompt_number": 10,
       "text": [
        "                                    entity_id  metric_id  metric_network_id  \\\n",
        "timestamp  entity_name metric_name                                            \n",
        "2014-06-01 Ke$ha       Page Likes      269811         11                  4   \n",
        "2014-06-02 Ke$ha       Page Likes      269811         11                  4   \n",
        "2014-06-03 Ke$ha       Page Likes      269811         11                  4   \n",
        "2014-06-04 Ke$ha       Page Likes      269811         11                  4   \n",
        "2014-06-05 Ke$ha       Page Likes      269811         11                  4   \n",
        "\n",
        "                                    metric_divisor count_type     value  \n",
        "timestamp  entity_name metric_name                                       \n",
        "2014-06-01 Ke$ha       Page Likes                1     totals  32741176  \n",
        "2014-06-02 Ke$ha       Page Likes                1     totals  32753441  \n",
        "2014-06-03 Ke$ha       Page Likes                1     totals  32764617  \n",
        "2014-06-04 Ke$ha       Page Likes                1     totals  32776344  \n",
        "2014-06-05 Ke$ha       Page Likes                1     totals  32789732  "
       ]
      }
     ],
     "prompt_number": 10
    },
    {
     "cell_type": "code",
     "collapsed": false,
     "input": [],
     "language": "python",
     "metadata": {},
     "outputs": []
    }
   ],
   "metadata": {}
  }
 ]
}