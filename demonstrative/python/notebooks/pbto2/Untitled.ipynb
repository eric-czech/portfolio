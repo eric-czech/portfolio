{
 "cells": [
  {
   "cell_type": "code",
   "execution_count": 1,
   "metadata": {
    "collapsed": true
   },
   "outputs": [],
   "source": [
    "%matplotlib inline\n",
    "%load_ext rpy2.ipython\n",
    "from ml import query\n",
    "import math\n",
    "from pbto2 import data"
   ]
  },
  {
   "cell_type": "code",
   "execution_count": 2,
   "metadata": {
    "collapsed": false
   },
   "outputs": [],
   "source": [
    "# x = pd.DataFrame({'tsi_min': [10, 20, 50, 60, 70, 90, 100], 'pbto2': [1, 2, 5, 6, 7, 9, 10]})\n",
    "# x = x.set_index('tsi_min')\n",
    "# idx = np.arange(x.index.min(), x.index.max() + 1, 10)\n",
    "# print(idx)\n",
    "# x = x.reindex(pd.Int64Index(idx, name='tsi_min')).interpolate()\n",
    "# x.reset_index()"
   ]
  },
  {
   "cell_type": "code",
   "execution_count": 3,
   "metadata": {
    "collapsed": false
   },
   "outputs": [
    {
     "name": "stdout",
     "output_type": "stream",
     "text": [
      "<class 'pandas.core.frame.DataFrame'>\n",
      "Int64Index: 8179 entries, 0 to 29515\n",
      "Data columns (total 36 columns):\n",
      "datetime                 8179 non-null datetime64[ns]\n",
      "base_deficit_arterial    2134 non-null float64\n",
      "base_excess_arterial     972 non-null float64\n",
      "blood_gases              3082 non-null datetime64[ns]\n",
      "hco3a                    3056 non-null float64\n",
      "icp1                     4983 non-null float64\n",
      "icp2                     2698 non-null float64\n",
      "map                      4906 non-null float64\n",
      "paco2                    3064 non-null float64\n",
      "pao2                     3063 non-null float64\n",
      "pbto2                    8179 non-null float64\n",
      "pha                      3066 non-null float64\n",
      "pupil_response_l         2844 non-null float64\n",
      "pupil_response_r         2817 non-null float64\n",
      "pupil_size_l             2219 non-null float64\n",
      "pupil_size_r             2219 non-null float64\n",
      "sao2                     2083 non-null float64\n",
      "sheet_name               8179 non-null float64\n",
      "spo2                     7934 non-null float64\n",
      "uid                      8179 non-null int64\n",
      "vital_signs              8110 non-null datetime64[ns]\n",
      "bo2                      6457 non-null float64\n",
      "birthdate                8179 non-null datetime64[ns]\n",
      "age                      8179 non-null int64\n",
      "sex                      8179 non-null float64\n",
      "gcs                      8179 non-null float64\n",
      "death_date               1889 non-null datetime64[ns]\n",
      "injury_date              8179 non-null datetime64[ns]\n",
      "tsi                      8179 non-null timedelta64[ns]\n",
      "tsi_min                  8179 non-null float64\n",
      "marshall                 8179 non-null float64\n",
      "gos-12                   7063 non-null float64\n",
      "gos-24                   5521 non-null float64\n",
      "gos-3                    8179 non-null float64\n",
      "gos-6                    7500 non-null float64\n",
      "gos-3-binary             8179 non-null int64\n",
      "dtypes: datetime64[ns](6), float64(26), int64(3), timedelta64[ns](1)\n",
      "memory usage: 2.3 MB\n"
     ]
    }
   ],
   "source": [
    "d = data.get_raw_data()\n",
    "d = d[~d['gos-3'].isnull()]\n",
    "d = d[~d['marshall'].isnull()]\n",
    "#d = d[d['tsi_min'] <= 4320]\n",
    "#d = d[d['tsi_min'] <= 1440]\n",
    "d = d[d['tsi_min'] <= 2880]\n",
    "d = d[d['pbto2'] > 0]\n",
    "#d = d.iloc[np.random.permutation(np.arange(len(d)))[:5000],:]\n",
    "d['gos-3-binary'] = d['gos-3'].apply(lambda x: 0 if x <= 3 else 1)\n",
    "d.info()"
   ]
  },
  {
   "cell_type": "code",
   "execution_count": 4,
   "metadata": {
    "collapsed": false
   },
   "outputs": [
    {
     "name": "stdout",
     "output_type": "stream",
     "text": [
      "Feature NA fractions:\n",
      "feature\n",
      "pao2_p990           0.015564\n",
      "pao2_p10            0.015564\n",
      "pao2_mean           0.015564\n",
      "pao2_std            0.023346\n",
      "gos-3-favalive      0.260700\n",
      "__n_records__     257.000000\n",
      "dtype: float64\n",
      "---------------------\n",
      "<class 'pandas.core.frame.DataFrame'>\n",
      "Int64Index: 257 entries, 461 to 1056\n",
      "Data columns (total 19 columns):\n",
      "age                257 non-null float64\n",
      "gcs                257 non-null float64\n",
      "gos-3              257 non-null float64\n",
      "marshall           257 non-null float64\n",
      "pao2_mean          257 non-null float64\n",
      "pao2_p10           257 non-null float64\n",
      "pao2_p990          257 non-null float64\n",
      "pao2_std           257 non-null float64\n",
      "pbto2_ct_bin_01    257 non-null float64\n",
      "pbto2_ct_bin_05    257 non-null float64\n",
      "pbto2_ct_bin_10    257 non-null float64\n",
      "pbto2_ct_bin_15    257 non-null float64\n",
      "pbto2_ct_bin_20    257 non-null float64\n",
      "pbto2_ct_bin_25    257 non-null float64\n",
      "pbto2_ct_bin_30    257 non-null float64\n",
      "sex                257 non-null float64\n",
      "gos-3-favalive     190 non-null float64\n",
      "gos-3-favorable    257 non-null int64\n",
      "gos-3-alive        257 non-null int64\n",
      "dtypes: float64(17), int64(2)\n",
      "memory usage: 40.2 KB\n"
     ]
    }
   ],
   "source": [
    "outcome = 'gos-3'\n",
    "feats = [\n",
    "    ([outcome, 'uid', 'age', 'sex', 'gcs', 'marshall'],),\n",
    "    (['pbto2'], ['ct_bin.*']),\n",
    "    (['pao2', 'icp'], ['mean', 'p10', 'p990', 'std'])\n",
    "]\n",
    "\n",
    "d_feat = data.get_raw_feature_data(d)\n",
    "d_in, n_frac = data.get_prepared_features(d_feat, feats, outcome=None)\n",
    "\n",
    "print('Feature NA fractions:')\n",
    "print(n_frac)\n",
    "print('---------------------')\n",
    "\n",
    "d_in.info()"
   ]
  },
  {
   "cell_type": "code",
   "execution_count": 5,
   "metadata": {
    "collapsed": true
   },
   "outputs": [],
   "source": [
    "d_in.to_csv('/Users/eczech/data/ptbo2/export/data_wide_bin_48hr.csv')"
   ]
  },
  {
   "cell_type": "code",
   "execution_count": null,
   "metadata": {
    "collapsed": true
   },
   "outputs": [],
   "source": []
  }
 ],
 "metadata": {
  "kernelspec": {
   "display_name": "Python 3",
   "language": "python",
   "name": "python3"
  },
  "language_info": {
   "codemirror_mode": {
    "name": "ipython",
    "version": 3
   },
   "file_extension": ".py",
   "mimetype": "text/x-python",
   "name": "python",
   "nbconvert_exporter": "python",
   "pygments_lexer": "ipython3",
   "version": "3.4.3"
  }
 },
 "nbformat": 4,
 "nbformat_minor": 0
}
