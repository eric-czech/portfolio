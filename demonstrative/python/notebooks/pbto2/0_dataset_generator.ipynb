{
 "cells": [
  {
   "cell_type": "code",
   "execution_count": 11,
   "metadata": {
    "collapsed": true
   },
   "outputs": [],
   "source": [
    "script = '/Users/eczech/repos/portfolio/demonstrative/python/notebooks/pbto2/dataset_generator.py'"
   ]
  },
  {
   "cell_type": "code",
   "execution_count": 12,
   "metadata": {
    "collapsed": false
   },
   "outputs": [
    {
     "name": "stdout",
     "output_type": "stream",
     "text": [
      "Running data generator with args: export_file = /Users/eczech/data/pbto2/export/data_clean_interp_4.pkl, enable_interp = True, interp_limit = 4\n",
      "Number of patients total = 622\n",
      "Number of UIDs missing in dataset d_outcome = 287\n",
      "Number of UIDs missing in dataset d_demo = 0\n",
      "Number of UIDs missing in dataset d_marsh = 309\n",
      "Number of UIDs missing in dataset d_meas = 283\n",
      "Number of UIDs missing in dataset d_bo2 = 283\n",
      "Saving data set to file /Users/eczech/data/pbto2/export/data_clean_interp_4.pkl\n"
     ]
    }
   ],
   "source": [
    "%run $script /Users/eczech/data/pbto2/export/data_clean_interp_4.pkl True 4"
   ]
  },
  {
   "cell_type": "code",
   "execution_count": 13,
   "metadata": {
    "collapsed": false
   },
   "outputs": [
    {
     "name": "stdout",
     "output_type": "stream",
     "text": [
      "Running data generator with args: export_file = /Users/eczech/data/pbto2/export/data_clean_interp_6.pkl, enable_interp = True, interp_limit = 6\n",
      "Number of patients total = 622\n",
      "Number of UIDs missing in dataset d_outcome = 287\n",
      "Number of UIDs missing in dataset d_demo = 0\n",
      "Number of UIDs missing in dataset d_marsh = 309\n",
      "Number of UIDs missing in dataset d_meas = 283\n",
      "Number of UIDs missing in dataset d_bo2 = 283\n",
      "Saving data set to file /Users/eczech/data/pbto2/export/data_clean_interp_6.pkl\n"
     ]
    }
   ],
   "source": [
    "%run $script /Users/eczech/data/pbto2/export/data_clean_interp_6.pkl True 6"
   ]
  },
  {
   "cell_type": "code",
   "execution_count": 14,
   "metadata": {
    "collapsed": false
   },
   "outputs": [
    {
     "name": "stdout",
     "output_type": "stream",
     "text": [
      "Running data generator with args: export_file = /Users/eczech/data/pbto2/export/data_clean_interp_8.pkl, enable_interp = True, interp_limit = 8\n",
      "Number of patients total = 622\n",
      "Number of UIDs missing in dataset d_outcome = 287\n",
      "Number of UIDs missing in dataset d_demo = 0\n",
      "Number of UIDs missing in dataset d_marsh = 309\n",
      "Number of UIDs missing in dataset d_meas = 283\n",
      "Number of UIDs missing in dataset d_bo2 = 283\n",
      "Saving data set to file /Users/eczech/data/pbto2/export/data_clean_interp_8.pkl\n"
     ]
    }
   ],
   "source": [
    "%run $script /Users/eczech/data/pbto2/export/data_clean_interp_8.pkl True 8"
   ]
  },
  {
   "cell_type": "code",
   "execution_count": 15,
   "metadata": {
    "collapsed": false
   },
   "outputs": [
    {
     "name": "stdout",
     "output_type": "stream",
     "text": [
      "Running data generator with args: export_file = /Users/eczech/data/pbto2/export/data_clean_interp_24.pkl, enable_interp = True, interp_limit = 24\n",
      "Number of patients total = 622\n",
      "Number of UIDs missing in dataset d_outcome = 287\n",
      "Number of UIDs missing in dataset d_demo = 0\n",
      "Number of UIDs missing in dataset d_marsh = 309\n",
      "Number of UIDs missing in dataset d_meas = 283\n",
      "Number of UIDs missing in dataset d_bo2 = 283\n",
      "Saving data set to file /Users/eczech/data/pbto2/export/data_clean_interp_24.pkl\n"
     ]
    }
   ],
   "source": [
    "%run $script /Users/eczech/data/pbto2/export/data_clean_interp_24.pkl True 24"
   ]
  },
  {
   "cell_type": "code",
   "execution_count": 16,
   "metadata": {
    "collapsed": false
   },
   "outputs": [
    {
     "name": "stdout",
     "output_type": "stream",
     "text": [
      "Running data generator with args: export_file = /Users/eczech/data/pbto2/export/data_clean_interp_none.pkl, enable_interp = True, interp_limit = 0\n",
      "Number of patients total = 622\n",
      "Number of UIDs missing in dataset d_outcome = 287\n",
      "Number of UIDs missing in dataset d_demo = 0\n",
      "Number of UIDs missing in dataset d_marsh = 309\n",
      "Number of UIDs missing in dataset d_meas = 283\n",
      "Number of UIDs missing in dataset d_bo2 = 283\n",
      "Saving data set to file /Users/eczech/data/pbto2/export/data_clean_interp_none.pkl\n"
     ]
    }
   ],
   "source": [
    "%run $script /Users/eczech/data/pbto2/export/data_clean_interp_none.pkl False 0"
   ]
  },
  {
   "cell_type": "code",
   "execution_count": null,
   "metadata": {
    "collapsed": true
   },
   "outputs": [],
   "source": []
  }
 ],
 "metadata": {
  "kernelspec": {
   "display_name": "Python 3",
   "language": "python",
   "name": "python3"
  },
  "language_info": {
   "codemirror_mode": {
    "name": "ipython",
    "version": 3
   },
   "file_extension": ".py",
   "mimetype": "text/x-python",
   "name": "python",
   "nbconvert_exporter": "python",
   "pygments_lexer": "ipython3",
   "version": "3.4.3"
  }
 },
 "nbformat": 4,
 "nbformat_minor": 0
}
