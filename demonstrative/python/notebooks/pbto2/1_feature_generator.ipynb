{
 "cells": [
  {
   "cell_type": "code",
   "execution_count": 1191,
   "metadata": {
    "collapsed": false
   },
   "outputs": [
    {
     "name": "stdout",
     "output_type": "stream",
     "text": [
      "The rpy2.ipython extension is already loaded. To reload it, use:\n",
      "  %reload_ext rpy2.ipython\n"
     ]
    }
   ],
   "source": [
    "%run -m ipy_startup\n",
    "%matplotlib inline\n",
    "%load_ext rpy2.ipython\n",
    "from ml import query\n",
    "from pbto2 import data, prep"
   ]
  },
  {
   "cell_type": "code",
   "execution_count": 1192,
   "metadata": {
    "collapsed": true
   },
   "outputs": [],
   "source": [
    "# Good results:\n",
    "\n",
    "# max_hours = 48\n",
    "# time = 'tsi_min'\n",
    "# pbto2_thresh = .25\n",
    "# agg_mode = 'pct'\n",
    "# pbto2_bins = [0, 20, 100, np.inf]\n",
    "# pao2_bins = [0, 300, 800, np.inf]\n",
    "# interp = '4'\n",
    "# allow_gos_interp = True\n",
    "\n",
    "# max_hours = 48\n",
    "# time = 'tsi_min'\n",
    "# pbto2_thresh = 8 / max_hours\n",
    "# agg_mode = 'pct'\n",
    "# pbto2_bins = [0, 20, 100, np.inf]\n",
    "# pao2_bins = [0, 30, 100, np.inf]\n",
    "# interp = 'none'\n",
    "# allow_gos_interp = True"
   ]
  },
  {
   "cell_type": "code",
   "execution_count": 1210,
   "metadata": {
    "collapsed": false
   },
   "outputs": [],
   "source": [
    "max_hours = 48\n",
    "time = 'tsi_min'\n",
    "pbto2_thresh = 8 / max_hours\n",
    "agg_mode = 'pct'\n",
    "pbto2_bins = [0, 20, 100, np.inf]\n",
    "pao2_bins = [0, 30, 100, np.inf]\n",
    "icp_bins = [0, 20, np.inf]\n",
    "pha_bins = [0, 7.35, 7.45, np.inf]\n",
    "paco2_bins = [0, 35, 45, np.inf]\n",
    "interp = 'none'\n",
    "allow_gos_interp = True\n",
    "\n",
    "d = data.get_raw_data(f='data_clean_interp_{}.pkl'.format(interp))\n",
    "\n",
    "# Multiply pao2 values by constant\n",
    "d['pao2'] = d['pao2'] * .4\n",
    "\n",
    "# This patient has an excessively long string of consecutive 0 pbto2 values after this tsa_min value\n",
    "# (so remove the unnecessary measurements)\n",
    "d = d[(d['uid'] != 1001) | (d['tsa_min'] <= 1320)]\n",
    "\n",
    "def plot_ts(d, col, uids, figsize=(12,6), ylim=None):\n",
    "    df = d[d['uid'].isin(uids)][['tsa_min', col, 'uid']]\n",
    "    ax = df.pivot_table(index='tsa_min', columns='uid', values=col).plot(figsize=figsize)\n",
    "    if ylim is not None:\n",
    "        ax.set_ylim(ylim)\n",
    "        \n",
    "# Limit to only some subset of early measurments\n",
    "d = d[d[time] <= max_hours * 60]\n",
    "\n",
    "# Remove patients that don't have enough measurments within the early subset\n",
    "ct = d.groupby('uid').apply(lambda x: len(x['pbto2'].dropna()) / max_hours)\n",
    "#ct.hist()\n",
    "rm_uids = ct[ct < pbto2_thresh].index.values\n",
    "d = d[~d['uid'].isin(rm_uids)]\n",
    "\n",
    "# Set gos response column, using interpolation if enabled\n",
    "if allow_gos_interp:\n",
    "    d['gos'] = d.apply(lambda x: x['gos-3'] if not pd.isnull(x['gos-3']) else x['gos-6'], axis=1)\n",
    "else:\n",
    "    d['gos'] = d['gos-3']"
   ]
  },
  {
   "cell_type": "code",
   "execution_count": 1194,
   "metadata": {
    "collapsed": false
   },
   "outputs": [],
   "source": [
    "#d.paco2.hist(bins=50)"
   ]
  },
  {
   "cell_type": "code",
   "execution_count": 1195,
   "metadata": {
    "collapsed": false
   },
   "outputs": [],
   "source": [
    "# uids = d[d['pbto2'] <= 0].groupby('uid').size()\n",
    "# uids = uids[uids > 6].index.values\n",
    "# plot_ts(d, 'pbto2', uids)"
   ]
  },
  {
   "cell_type": "code",
   "execution_count": 1196,
   "metadata": {
    "collapsed": false
   },
   "outputs": [],
   "source": [
    "# uids = d['uid'].unique()\n",
    "# uids = uids[np.random.permutation(np.arange(len(uids)))[:10]]\n",
    "# plot_ts(d, 'pao2', uids)"
   ]
  },
  {
   "cell_type": "code",
   "execution_count": 1211,
   "metadata": {
    "collapsed": false
   },
   "outputs": [
    {
     "name": "stdout",
     "output_type": "stream",
     "text": [
      "<class 'pandas.core.frame.DataFrame'>\n",
      "Int64Index: 268 entries, 461 to 1056\n",
      "Data columns (total 19 columns):\n",
      "age              268 non-null float64\n",
      "gcs              268 non-null float64\n",
      "gos              268 non-null float64\n",
      "icp1_0_20        268 non-null float64\n",
      "icp1_20_inf      268 non-null float64\n",
      "marshall         268 non-null float64\n",
      "paco2_0_35       268 non-null float64\n",
      "paco2_35_45      268 non-null float64\n",
      "paco2_45_inf     268 non-null float64\n",
      "pao2_0_30        268 non-null float64\n",
      "pao2_100_inf     268 non-null float64\n",
      "pao2_30_100      268 non-null float64\n",
      "pbto2_0_20       268 non-null float64\n",
      "pbto2_100_inf    268 non-null float64\n",
      "pbto2_20_100     268 non-null float64\n",
      "pha_0_7.35       268 non-null float64\n",
      "pha_7.35_7.45    268 non-null float64\n",
      "pha_7.45_inf     268 non-null float64\n",
      "sex              268 non-null float64\n",
      "dtypes: float64(19)\n",
      "memory usage: 41.9 KB\n"
     ]
    }
   ],
   "source": [
    "def get_features(x):\n",
    "    def bin_values(v, bins, prefix, mode='count'):\n",
    "        assert mode in ['count', 'mean', 'pct'], 'Mode {} is not valid'.format(mode)\n",
    "        labels = ['{}_{}_{}'.format(prefix, bins[i-1], bins[i]) for i in range(1, len(bins))]\n",
    "        ct = pd.cut(v, bins=bins, include_lowest=True, right=False, labels=labels)\n",
    "        if mode == 'count':\n",
    "            ct = ct.value_counts()\n",
    "        elif mode == 'pct':\n",
    "            ct = ct.value_counts()\n",
    "            ct = ct if ct.sum() == 0 else ct / ct.sum()\n",
    "        elif mode == 'mean':\n",
    "            ct = v.groupby(ct).mean()\n",
    "        return ct.to_dict()\n",
    "    \n",
    "    r = {}\n",
    "    r.update(bin_values(x['pbto2'], pbto2_bins, 'pbto2', mode=agg_mode))\n",
    "    r.update(bin_values(x['pao2'], pao2_bins, 'pao2', mode=agg_mode))\n",
    "    r.update(bin_values(x['icp1'], icp_bins, 'icp1', mode=agg_mode))\n",
    "    r.update(bin_values(x['pha'], pha_bins, 'pha', mode=agg_mode))\n",
    "    r.update(bin_values(x['paco2'], paco2_bins, 'paco2', mode=agg_mode))\n",
    "#     r['n_pbto2'] = len(x['pbto2'].dropna())\n",
    "#     r['n_pao2'] = len(x['pao2'].dropna())\n",
    "#     r['n_icp1'] = len(x['icp1'].dropna())\n",
    "#     r['n_pha'] = len(x['pha'].dropna())\n",
    "#     r['n_paco2'] = len(x['paco2'].dropna())\n",
    "        \n",
    "    x = x.iloc[0]\n",
    "    r['gos'] = x['gos']\n",
    "    r['marshall'] = x['marshall']\n",
    "    r['gcs'] = x['gcs']\n",
    "    r['age'] = x['age']\n",
    "    r['sex'] = x['sex']\n",
    "    \n",
    "    return pd.Series(r)\n",
    "do = d.groupby('uid').apply(get_features)\n",
    "do = do[~do['gos'].isnull()]\n",
    "do = do[~do['marshall'].isnull()]\n",
    "do.info()"
   ]
  },
  {
   "cell_type": "code",
   "execution_count": 1216,
   "metadata": {
    "collapsed": false
   },
   "outputs": [],
   "source": [
    "#do.to_csv('/Users/eczech/data/pbto2/export/data_modeling.csv', index=False)\n",
    "d_exp = d[d['uid'].isin(do.index.values)]\n",
    "d_exp.to_csv('/Users/eczech/data/pbto2/export/data_stan_input.csv', index=False)"
   ]
  },
  {
   "cell_type": "code",
   "execution_count": 1218,
   "metadata": {
    "collapsed": false
   },
   "outputs": [
    {
     "data": {
      "text/html": [
       "<div>\n",
       "<table border=\"1\" class=\"dataframe\">\n",
       "  <thead>\n",
       "    <tr style=\"text-align: right;\">\n",
       "      <th></th>\n",
       "      <th>uid</th>\n",
       "      <th>datetime</th>\n",
       "      <th>pbto2</th>\n",
       "      <th>pao2</th>\n",
       "      <th>pha</th>\n",
       "      <th>icp1</th>\n",
       "      <th>paco2</th>\n",
       "      <th>map</th>\n",
       "      <th>bo2</th>\n",
       "      <th>birthdate</th>\n",
       "      <th>...</th>\n",
       "      <th>tsi</th>\n",
       "      <th>tsa</th>\n",
       "      <th>tsi_min</th>\n",
       "      <th>tsa_min</th>\n",
       "      <th>marshall</th>\n",
       "      <th>gos-12</th>\n",
       "      <th>gos-24</th>\n",
       "      <th>gos-3</th>\n",
       "      <th>gos-6</th>\n",
       "      <th>gos</th>\n",
       "    </tr>\n",
       "  </thead>\n",
       "  <tbody>\n",
       "    <tr>\n",
       "      <th>31074</th>\n",
       "      <td>534</td>\n",
       "      <td>2003-08-27 11:00:00</td>\n",
       "      <td>NaN</td>\n",
       "      <td>NaN</td>\n",
       "      <td>NaN</td>\n",
       "      <td>NaN</td>\n",
       "      <td>NaN</td>\n",
       "      <td>NaN</td>\n",
       "      <td>31.4</td>\n",
       "      <td>1978-05-14</td>\n",
       "      <td>...</td>\n",
       "      <td>13:00:00</td>\n",
       "      <td>0 days</td>\n",
       "      <td>780</td>\n",
       "      <td>0</td>\n",
       "      <td>2</td>\n",
       "      <td>3</td>\n",
       "      <td>NaN</td>\n",
       "      <td>3</td>\n",
       "      <td>3</td>\n",
       "      <td>3</td>\n",
       "    </tr>\n",
       "  </tbody>\n",
       "</table>\n",
       "<p>1 rows × 25 columns</p>\n",
       "</div>"
      ],
      "text/plain": [
       "       uid            datetime  pbto2  pao2  pha  icp1  paco2  map   bo2  \\\n",
       "31074  534 2003-08-27 11:00:00    NaN   NaN  NaN   NaN    NaN  NaN  31.4   \n",
       "\n",
       "       birthdate ...       tsi    tsa  tsi_min tsa_min marshall  gos-12  \\\n",
       "31074 1978-05-14 ...  13:00:00 0 days      780       0        2       3   \n",
       "\n",
       "       gos-24  gos-3  gos-6  gos  \n",
       "31074     NaN      3      3    3  \n",
       "\n",
       "[1 rows x 25 columns]"
      ]
     },
     "execution_count": 1218,
     "metadata": {},
     "output_type": "execute_result"
    }
   ],
   "source": [
    "d_exp[d_exp['pbto2'].isnull()]"
   ]
  },
  {
   "cell_type": "code",
   "execution_count": 1206,
   "metadata": {
    "collapsed": false
   },
   "outputs": [
    {
     "data": {
      "text/html": [
       "<div>\n",
       "<table border=\"1\" class=\"dataframe\">\n",
       "  <thead>\n",
       "    <tr style=\"text-align: right;\">\n",
       "      <th></th>\n",
       "      <th>age</th>\n",
       "      <th>gcs</th>\n",
       "      <th>gos</th>\n",
       "      <th>icp1_0_20</th>\n",
       "      <th>icp1_20_inf</th>\n",
       "      <th>marshall</th>\n",
       "      <th>paco2_0_35</th>\n",
       "      <th>paco2_35_45</th>\n",
       "      <th>paco2_45_inf</th>\n",
       "      <th>pao2_0_30</th>\n",
       "      <th>pao2_100_inf</th>\n",
       "      <th>pao2_30_100</th>\n",
       "      <th>pbto2_0_20</th>\n",
       "      <th>pbto2_100_inf</th>\n",
       "      <th>pbto2_20_100</th>\n",
       "      <th>pha_0_7.35</th>\n",
       "      <th>pha_7.35_7.45</th>\n",
       "      <th>pha_7.45_inf</th>\n",
       "      <th>sex</th>\n",
       "    </tr>\n",
       "  </thead>\n",
       "  <tbody>\n",
       "    <tr>\n",
       "      <th>count</th>\n",
       "      <td>268.000000</td>\n",
       "      <td>268.000000</td>\n",
       "      <td>268.000000</td>\n",
       "      <td>268.000000</td>\n",
       "      <td>268.000000</td>\n",
       "      <td>268.000000</td>\n",
       "      <td>268.000000</td>\n",
       "      <td>268.000000</td>\n",
       "      <td>268.000000</td>\n",
       "      <td>268.000000</td>\n",
       "      <td>268.000000</td>\n",
       "      <td>268.000000</td>\n",
       "      <td>268.000000</td>\n",
       "      <td>268.000000</td>\n",
       "      <td>268.000000</td>\n",
       "      <td>268.000000</td>\n",
       "      <td>268.000000</td>\n",
       "      <td>268.000000</td>\n",
       "      <td>268.000000</td>\n",
       "    </tr>\n",
       "    <tr>\n",
       "      <th>mean</th>\n",
       "      <td>37.705224</td>\n",
       "      <td>5.888060</td>\n",
       "      <td>2.735075</td>\n",
       "      <td>0.579579</td>\n",
       "      <td>0.043555</td>\n",
       "      <td>3.052239</td>\n",
       "      <td>0.471788</td>\n",
       "      <td>0.492550</td>\n",
       "      <td>0.031931</td>\n",
       "      <td>0.027332</td>\n",
       "      <td>0.067346</td>\n",
       "      <td>0.901591</td>\n",
       "      <td>0.313504</td>\n",
       "      <td>0.002742</td>\n",
       "      <td>0.683754</td>\n",
       "      <td>0.084388</td>\n",
       "      <td>0.634929</td>\n",
       "      <td>0.276952</td>\n",
       "      <td>0.768657</td>\n",
       "    </tr>\n",
       "    <tr>\n",
       "      <th>std</th>\n",
       "      <td>16.286263</td>\n",
       "      <td>1.467043</td>\n",
       "      <td>1.199548</td>\n",
       "      <td>0.469347</td>\n",
       "      <td>0.132368</td>\n",
       "      <td>1.462731</td>\n",
       "      <td>0.310014</td>\n",
       "      <td>0.296203</td>\n",
       "      <td>0.098684</td>\n",
       "      <td>0.078882</td>\n",
       "      <td>0.147622</td>\n",
       "      <td>0.169339</td>\n",
       "      <td>0.323366</td>\n",
       "      <td>0.017864</td>\n",
       "      <td>0.322236</td>\n",
       "      <td>0.176621</td>\n",
       "      <td>0.277633</td>\n",
       "      <td>0.279998</td>\n",
       "      <td>0.422480</td>\n",
       "    </tr>\n",
       "    <tr>\n",
       "      <th>min</th>\n",
       "      <td>16.000000</td>\n",
       "      <td>3.000000</td>\n",
       "      <td>1.000000</td>\n",
       "      <td>0.000000</td>\n",
       "      <td>0.000000</td>\n",
       "      <td>1.000000</td>\n",
       "      <td>0.000000</td>\n",
       "      <td>0.000000</td>\n",
       "      <td>0.000000</td>\n",
       "      <td>0.000000</td>\n",
       "      <td>0.000000</td>\n",
       "      <td>0.000000</td>\n",
       "      <td>0.000000</td>\n",
       "      <td>0.000000</td>\n",
       "      <td>0.000000</td>\n",
       "      <td>0.000000</td>\n",
       "      <td>0.000000</td>\n",
       "      <td>0.000000</td>\n",
       "      <td>0.000000</td>\n",
       "    </tr>\n",
       "    <tr>\n",
       "      <th>25%</th>\n",
       "      <td>23.000000</td>\n",
       "      <td>5.000000</td>\n",
       "      <td>1.000000</td>\n",
       "      <td>0.000000</td>\n",
       "      <td>0.000000</td>\n",
       "      <td>2.000000</td>\n",
       "      <td>0.241260</td>\n",
       "      <td>0.233333</td>\n",
       "      <td>0.000000</td>\n",
       "      <td>0.000000</td>\n",
       "      <td>0.000000</td>\n",
       "      <td>0.870331</td>\n",
       "      <td>0.041229</td>\n",
       "      <td>0.000000</td>\n",
       "      <td>0.534139</td>\n",
       "      <td>0.000000</td>\n",
       "      <td>0.461197</td>\n",
       "      <td>0.025987</td>\n",
       "      <td>1.000000</td>\n",
       "    </tr>\n",
       "    <tr>\n",
       "      <th>50%</th>\n",
       "      <td>34.000000</td>\n",
       "      <td>6.000000</td>\n",
       "      <td>3.000000</td>\n",
       "      <td>0.911438</td>\n",
       "      <td>0.000000</td>\n",
       "      <td>2.000000</td>\n",
       "      <td>0.444444</td>\n",
       "      <td>0.500000</td>\n",
       "      <td>0.000000</td>\n",
       "      <td>0.000000</td>\n",
       "      <td>0.000000</td>\n",
       "      <td>0.975305</td>\n",
       "      <td>0.213203</td>\n",
       "      <td>0.000000</td>\n",
       "      <td>0.786797</td>\n",
       "      <td>0.000000</td>\n",
       "      <td>0.680815</td>\n",
       "      <td>0.209707</td>\n",
       "      <td>1.000000</td>\n",
       "    </tr>\n",
       "    <tr>\n",
       "      <th>75%</th>\n",
       "      <td>49.000000</td>\n",
       "      <td>7.000000</td>\n",
       "      <td>4.000000</td>\n",
       "      <td>1.000000</td>\n",
       "      <td>0.000000</td>\n",
       "      <td>4.000000</td>\n",
       "      <td>0.730224</td>\n",
       "      <td>0.695076</td>\n",
       "      <td>0.000000</td>\n",
       "      <td>0.000000</td>\n",
       "      <td>0.074306</td>\n",
       "      <td>1.000000</td>\n",
       "      <td>0.454781</td>\n",
       "      <td>0.000000</td>\n",
       "      <td>0.951510</td>\n",
       "      <td>0.074786</td>\n",
       "      <td>0.858135</td>\n",
       "      <td>0.436166</td>\n",
       "      <td>1.000000</td>\n",
       "    </tr>\n",
       "    <tr>\n",
       "      <th>max</th>\n",
       "      <td>77.000000</td>\n",
       "      <td>8.000000</td>\n",
       "      <td>5.000000</td>\n",
       "      <td>1.000000</td>\n",
       "      <td>1.000000</td>\n",
       "      <td>6.000000</td>\n",
       "      <td>1.000000</td>\n",
       "      <td>1.000000</td>\n",
       "      <td>0.846154</td>\n",
       "      <td>0.666667</td>\n",
       "      <td>1.000000</td>\n",
       "      <td>1.000000</td>\n",
       "      <td>1.000000</td>\n",
       "      <td>0.200000</td>\n",
       "      <td>1.000000</td>\n",
       "      <td>1.000000</td>\n",
       "      <td>1.000000</td>\n",
       "      <td>1.000000</td>\n",
       "      <td>1.000000</td>\n",
       "    </tr>\n",
       "  </tbody>\n",
       "</table>\n",
       "</div>"
      ],
      "text/plain": [
       "              age         gcs         gos   icp1_0_20  icp1_20_inf  \\\n",
       "count  268.000000  268.000000  268.000000  268.000000   268.000000   \n",
       "mean    37.705224    5.888060    2.735075    0.579579     0.043555   \n",
       "std     16.286263    1.467043    1.199548    0.469347     0.132368   \n",
       "min     16.000000    3.000000    1.000000    0.000000     0.000000   \n",
       "25%     23.000000    5.000000    1.000000    0.000000     0.000000   \n",
       "50%     34.000000    6.000000    3.000000    0.911438     0.000000   \n",
       "75%     49.000000    7.000000    4.000000    1.000000     0.000000   \n",
       "max     77.000000    8.000000    5.000000    1.000000     1.000000   \n",
       "\n",
       "         marshall  paco2_0_35  paco2_35_45  paco2_45_inf   pao2_0_30  \\\n",
       "count  268.000000  268.000000   268.000000    268.000000  268.000000   \n",
       "mean     3.052239    0.471788     0.492550      0.031931    0.027332   \n",
       "std      1.462731    0.310014     0.296203      0.098684    0.078882   \n",
       "min      1.000000    0.000000     0.000000      0.000000    0.000000   \n",
       "25%      2.000000    0.241260     0.233333      0.000000    0.000000   \n",
       "50%      2.000000    0.444444     0.500000      0.000000    0.000000   \n",
       "75%      4.000000    0.730224     0.695076      0.000000    0.000000   \n",
       "max      6.000000    1.000000     1.000000      0.846154    0.666667   \n",
       "\n",
       "       pao2_100_inf  pao2_30_100  pbto2_0_20  pbto2_100_inf  pbto2_20_100  \\\n",
       "count    268.000000   268.000000  268.000000     268.000000    268.000000   \n",
       "mean       0.067346     0.901591    0.313504       0.002742      0.683754   \n",
       "std        0.147622     0.169339    0.323366       0.017864      0.322236   \n",
       "min        0.000000     0.000000    0.000000       0.000000      0.000000   \n",
       "25%        0.000000     0.870331    0.041229       0.000000      0.534139   \n",
       "50%        0.000000     0.975305    0.213203       0.000000      0.786797   \n",
       "75%        0.074306     1.000000    0.454781       0.000000      0.951510   \n",
       "max        1.000000     1.000000    1.000000       0.200000      1.000000   \n",
       "\n",
       "       pha_0_7.35  pha_7.35_7.45  pha_7.45_inf         sex  \n",
       "count  268.000000     268.000000    268.000000  268.000000  \n",
       "mean     0.084388       0.634929      0.276952    0.768657  \n",
       "std      0.176621       0.277633      0.279998    0.422480  \n",
       "min      0.000000       0.000000      0.000000    0.000000  \n",
       "25%      0.000000       0.461197      0.025987    1.000000  \n",
       "50%      0.000000       0.680815      0.209707    1.000000  \n",
       "75%      0.074786       0.858135      0.436166    1.000000  \n",
       "max      1.000000       1.000000      1.000000    1.000000  "
      ]
     },
     "execution_count": 1206,
     "metadata": {},
     "output_type": "execute_result"
    }
   ],
   "source": [
    "do.describe()"
   ]
  },
  {
   "cell_type": "code",
   "execution_count": 1207,
   "metadata": {
    "collapsed": false
   },
   "outputs": [],
   "source": [
    "#do.plot(kind='scatter', x='n_pbto2', y='gos')"
   ]
  },
  {
   "cell_type": "code",
   "execution_count": 1208,
   "metadata": {
    "collapsed": false
   },
   "outputs": [],
   "source": [
    "%%R -i do\n",
    "library(dplyr)\n",
    "library(MASS)\n",
    "scale <- function(x) (x - mean(x)) / sd(x)\n",
    "d <- do %>% mutate_each(funs(as.numeric)) %>%\n",
    "    mutate_each(funs(scale), -gos) %>%\n",
    "    #dplyr::select(-pao2_300_800, -pbto2_20_100, -starts_with('n_'), -starts_with('pao2'))\n",
    "    dplyr::select(-paco2_35_45, -icp1_0_20, -pha_7.35_7.45, -pao2_30_100, -pbto2_20_100, -starts_with('n_'))"
   ]
  },
  {
   "cell_type": "code",
   "execution_count": 1151,
   "metadata": {
    "collapsed": false
   },
   "outputs": [
    {
     "data": {
      "text/plain": [
       "\n",
       "Call:\n",
       "glm(formula = gos ~ ., family = \"binomial\", data = .)\n",
       "\n",
       "Deviance Residuals: \n",
       "    Min       1Q   Median       3Q      Max  \n",
       "-2.2112  -0.7386  -0.4278   0.4293   2.4207  \n",
       "\n",
       "Coefficients:\n",
       "              Estimate Std. Error z value Pr(>|z|)    \n",
       "(Intercept)    -1.6092     0.2217  -7.258 3.92e-13 ***\n",
       "age            -0.7259     0.2023  -3.587 0.000334 ***\n",
       "gcs             0.5320     0.1857   2.864 0.004181 ** \n",
       "icp1_20_inf    -0.6440     0.3239  -1.989 0.046752 *  \n",
       "marshall       -0.3524     0.1942  -1.814 0.069638 .  \n",
       "paco2_0_35     -0.1095     0.1943  -0.564 0.572983    \n",
       "paco2_45_inf    0.3859     0.2255   1.711 0.087077 .  \n",
       "pao2_0_30      -0.7626     0.3447  -2.212 0.026943 *  \n",
       "pao2_100_inf   -0.1473     0.1751  -0.841 0.400275    \n",
       "pbto2_0_20     -0.2346     0.1808  -1.298 0.194452    \n",
       "pbto2_100_inf  -0.9017     0.6208  -1.453 0.146342    \n",
       "pha_0_7.35     -0.1639     0.1932  -0.848 0.396246    \n",
       "pha_7.45_inf   -0.4447     0.2156  -2.063 0.039123 *  \n",
       "sex             0.3048     0.1935   1.575 0.115222    \n",
       "---\n",
       "Signif. codes:  0 '***' 0.001 '**' 0.01 '*' 0.05 '.' 0.1 ' ' 1\n",
       "\n",
       "(Dispersion parameter for binomial family taken to be 1)\n",
       "\n",
       "    Null deviance: 303.59  on 267  degrees of freedom\n",
       "Residual deviance: 238.76  on 254  degrees of freedom\n",
       "AIC: 266.76\n",
       "\n",
       "Number of Fisher Scoring iterations: 7\n",
       "\n"
      ]
     },
     "metadata": {},
     "output_type": "display_data"
    }
   ],
   "source": [
    "%%R \n",
    "res <- d %>% mutate(gos = ifelse(gos <= 3, 0, 1)) %>%\n",
    "    glm(gos ~ ., data=., family='binomial')\n",
    "summary(res)"
   ]
  },
  {
   "cell_type": "code",
   "execution_count": 1152,
   "metadata": {
    "collapsed": false
   },
   "outputs": [
    {
     "data": {
      "text/plain": [
       "Call:\n",
       "polr(formula = gos ~ ., data = ., Hess = TRUE)\n",
       "\n",
       "Coefficients:\n",
       "                Value Std. Error t value\n",
       "age           -0.9729     0.1481 -6.5710\n",
       "gcs            0.6893     0.1339  5.1463\n",
       "icp1_20_inf   -0.4965     0.1676 -2.9618\n",
       "marshall      -0.3050     0.1380 -2.2095\n",
       "paco2_0_35    -0.1597     0.1371 -1.1642\n",
       "paco2_45_inf   0.4392     0.1641  2.6760\n",
       "pao2_0_30     -0.2488     0.1198 -2.0778\n",
       "pao2_100_inf  -0.1846     0.1255 -1.4709\n",
       "pbto2_0_20    -0.1608     0.1267 -1.2691\n",
       "pbto2_100_inf -0.1283     0.1176 -1.0915\n",
       "pha_0_7.35    -0.1468     0.1472 -0.9971\n",
       "pha_7.45_inf  -0.2773     0.1379 -2.0104\n",
       "sex            0.1857     0.1305  1.4234\n",
       "\n",
       "Intercepts:\n",
       "            Value   Std. Error t value\n",
       "Dead|Bad1   -1.3815  0.1693    -8.1620\n",
       "Bad1|Bad2   -1.0375  0.1594    -6.5082\n",
       "Bad2|Good1   1.5687  0.1747     8.9786\n",
       "Good1|Good2  3.7355  0.3159    11.8255\n",
       "\n",
       "Residual Deviance: 592.5141 \n",
       "AIC: 626.5141 \n",
       "                   Value Std. Error   t value      p value\n",
       "age           -0.9729214  0.1480618 -6.571049 4.996198e-11\n",
       "gcs            0.6893294  0.1339469  5.146290 2.656889e-07\n",
       "icp1_20_inf   -0.4964754  0.1676235 -2.961849 3.057980e-03\n",
       "marshall      -0.3050055  0.1380406 -2.209535 2.713742e-02\n",
       "paco2_0_35    -0.1596679  0.1371449 -1.164227 2.443318e-01\n",
       "paco2_45_inf   0.4392438  0.1641419  2.676000 7.450669e-03\n",
       "pao2_0_30     -0.2488431  0.1197626 -2.077803 3.772749e-02\n",
       "pao2_100_inf  -0.1846294  0.1255193 -1.470924 1.413117e-01\n",
       "pbto2_0_20    -0.1608032  0.1267043 -1.269123 2.043973e-01\n",
       "pbto2_100_inf -0.1283147  0.1175584 -1.091498 2.750539e-01\n",
       "pha_0_7.35    -0.1468141  0.1472446 -0.997076 3.187276e-01\n",
       "pha_7.45_inf  -0.2772603  0.1379099 -2.010445 4.438413e-02\n",
       "sex            0.1856856  0.1304545  1.423374 1.546277e-01\n",
       "Dead|Bad1     -1.3815404  0.1692655 -8.161973 3.295951e-16\n",
       "Bad1|Bad2     -1.0374682  0.1594097 -6.508186 7.606378e-11\n",
       "Bad2|Good1     1.5686861  0.1747145  8.978570 2.743090e-19\n",
       "Good1|Good2    3.7354595  0.3158813 11.825515 2.881300e-32\n"
      ]
     },
     "metadata": {},
     "output_type": "display_data"
    }
   ],
   "source": [
    "%%R\n",
    "get.polr.coefs <- function(m){\n",
    "    coefs <- coef(summary(m))\n",
    "    p <- pnorm(abs(coefs[, \"t value\"]), lower.tail = FALSE) * 2\n",
    "    coefs <- cbind(coefs, \"p value\" = p)\n",
    "    coefs\n",
    "}\n",
    "m <- d %>% \n",
    "    mutate(gos=factor(gos, levels=1:5, labels=c('Dead', 'Bad1', 'Bad2', 'Good1', 'Good2'))) %>%\n",
    "    polr(gos ~ ., data = ., Hess=TRUE)\n",
    "print(summary(m))\n",
    "get.polr.coefs(m)"
   ]
  },
  {
   "cell_type": "code",
   "execution_count": 1153,
   "metadata": {
    "collapsed": false
   },
   "outputs": [
    {
     "data": {
      "text/plain": [
       "Call:\n",
       "polr(formula = gos ~ ., data = ., Hess = TRUE)\n",
       "\n",
       "Coefficients:\n",
       "                 Value Std. Error t value\n",
       "age           -0.39266     0.2208 -1.7780\n",
       "gcs            0.36341     0.1919  1.8941\n",
       "icp1_20_inf   -0.55704     0.3473 -1.6038\n",
       "marshall      -0.32836     0.1975 -1.6622\n",
       "paco2_0_35    -0.11203     0.2084 -0.5375\n",
       "paco2_45_inf   0.26140     0.2249  1.1621\n",
       "pao2_0_30     -0.77566     0.3494 -2.2201\n",
       "pao2_100_inf  -0.07828     0.1836 -0.4263\n",
       "pbto2_0_20    -0.27370     0.1892 -1.4464\n",
       "pbto2_100_inf -0.90275     0.6316 -1.4292\n",
       "pha_0_7.35    -0.05644     0.2111 -0.2674\n",
       "pha_7.45_inf  -0.38630     0.2198 -1.7572\n",
       "sex            0.27179     0.1975  1.3760\n",
       "\n",
       "Intercepts:\n",
       "         Value    Std. Error t value \n",
       "Dead|Bad   1.2168   0.2330     5.2212\n",
       "Bad|Good  47.3939   0.2330   203.3681\n",
       "\n",
       "Residual Deviance: 217.2206 \n",
       "AIC: 247.2206 \n",
       "(70 observations deleted due to missingness)\n",
       "                    Value Std. Error     t value      p value\n",
       "age           -0.39265883  0.2208476  -1.7779628 7.540996e-02\n",
       "gcs            0.36340703  0.1918618   1.8941086 5.821060e-02\n",
       "icp1_20_inf   -0.55703562  0.3473196  -1.6038126 1.087554e-01\n",
       "marshall      -0.32835527  0.1975472  -1.6621608 9.648054e-02\n",
       "paco2_0_35    -0.11203362  0.2084358  -0.5374970 5.909244e-01\n",
       "paco2_45_inf   0.26140493  0.2249353   1.1621336 2.451812e-01\n",
       "pao2_0_30     -0.77566115  0.3493822  -2.2200934 2.641243e-02\n",
       "pao2_100_inf  -0.07827654  0.1836051  -0.4263310 6.698666e-01\n",
       "pbto2_0_20    -0.27370297  0.1892347  -1.4463677 1.480741e-01\n",
       "pbto2_100_inf -0.90275486  0.6316324  -1.4292410 1.529350e-01\n",
       "pha_0_7.35    -0.05644233  0.2110516  -0.2674338 7.891352e-01\n",
       "pha_7.45_inf  -0.38630180  0.2198376  -1.7572144 7.888127e-02\n",
       "sex            0.27179468  0.1975257   1.3759966 1.688227e-01\n",
       "Dead|Bad       1.21677921  0.2330447   5.2212262 1.777423e-07\n",
       "Bad|Good      47.39386735  0.2330447 203.3681205 0.000000e+00\n"
      ]
     },
     "metadata": {},
     "output_type": "display_data"
    }
   ],
   "source": [
    "%%R\n",
    "m <- d %>% \n",
    "    mutate(gos=ifelse(gos==1, 0, ifelse(gos <= 3, 1, 2))) %>%\n",
    "    mutate(gos=factor(gos, levels=1:3, labels=c('Dead', 'Bad', 'Good'))) %>%\n",
    "    polr(gos ~ ., data = ., Hess=TRUE)\n",
    "print(summary(m))\n",
    "get.polr.coefs(m)"
   ]
  },
  {
   "cell_type": "code",
   "execution_count": 1250,
   "metadata": {
    "collapsed": false
   },
   "outputs": [
    {
     "data": {
      "text/plain": [
       "[<matplotlib.lines.Line2D at 0x1221cdd68>]"
      ]
     },
     "execution_count": 1250,
     "metadata": {},
     "output_type": "execute_result"
    },
    {
     "data": {
      "image/png": "[encoded data removed]",
      "text/plain": [
       "<matplotlib.figure.Figure at 0x120061710>"
      ]
     },
     "metadata": {},
     "output_type": "display_data"
    }
   ],
   "source": [
    "import math\n",
    "x = np.linspace(-5, 5, 1000)\n",
    "\n",
    "a1, a2 = 1, 1\n",
    "b1, b2 = 2.7, -2.7\n",
    "c1, c2 = -1, 2\n",
    "def f1(x):\n",
    "    return a1 / (1 + np.exp(b1*(x - c1)))\n",
    "def f2(x):\n",
    "    return a2 / (1 + np.exp(b2*(x - c2)))\n",
    "fl1 = np.vectorize(f1)\n",
    "fl2 = np.vectorize(f2)\n",
    "\n",
    "y = (fl1(x) + fl2(x))\n",
    "#y = .5 * fl1(x)\n",
    "plt.plot(x, y)"
   ]
  },
  {
   "cell_type": "code",
   "execution_count": null,
   "metadata": {
    "collapsed": true
   },
   "outputs": [],
   "source": []
  }
 ],
 "metadata": {
  "kernelspec": {
   "display_name": "Python 3",
   "language": "python",
   "name": "python3"
  },
  "language_info": {
   "codemirror_mode": {
    "name": "ipython",
    "version": 3
   },
   "file_extension": ".py",
   "mimetype": "text/x-python",
   "name": "python",
   "nbconvert_exporter": "python",
   "pygments_lexer": "ipython3",
   "version": "3.4.3"
  }
 },
 "nbformat": 4,
 "nbformat_minor": 0
}
