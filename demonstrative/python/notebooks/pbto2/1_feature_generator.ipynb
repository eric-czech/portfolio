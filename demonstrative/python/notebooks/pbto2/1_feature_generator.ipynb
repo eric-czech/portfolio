{
 "cells": [
  {
   "cell_type": "code",
   "execution_count": 2,
   "metadata": {
    "collapsed": false
   },
   "outputs": [],
   "source": [
    "%run -m ipy_startup\n",
    "%matplotlib inline\n",
    "%load_ext rpy2.ipython\n",
    "from ml import query\n",
    "from pbto2 import data, prep"
   ]
  },
  {
   "cell_type": "code",
   "execution_count": null,
   "metadata": {
    "collapsed": true
   },
   "outputs": [],
   "source": [
    "# config_name = 'config1'\n",
    "# max_hours = 48\n",
    "# time = 'tsi_min'\n",
    "# pbto2_thresh = 8 / max_hours\n",
    "# agg_mode = 'pct'\n",
    "# pbto2_bins = [0, 20, 100, np.inf]\n",
    "# pao2_bins = [0, 30, 100, np.inf]\n",
    "# icp_bins = [0, 20, np.inf]\n",
    "# pha_bins = [0, 7.35, 7.45, np.inf]\n",
    "# paco2_bins = [0, 35, 45, np.inf]\n",
    "# interp = 'all'\n",
    "# allow_gos_interp = True"
   ]
  },
  {
   "cell_type": "code",
   "execution_count": null,
   "metadata": {
    "collapsed": true
   },
   "outputs": [],
   "source": [
    "# config_name = 'config2'\n",
    "# max_hours = 48\n",
    "# time = 'tsi_min'\n",
    "# pbto2_thresh = 8 / max_hours\n",
    "# agg_mode = 'pct'\n",
    "# pbto2_bins = [0, 20, 100, np.inf]\n",
    "# pao2_bins = [0, 30, 100, np.inf]\n",
    "# icp_bins = [0, 20, np.inf]\n",
    "# pha_bins = [0, 7.35, 7.45, np.inf]\n",
    "# paco2_bins = [0, 35, 45, np.inf]\n",
    "# interp = 'none'\n",
    "# allow_gos_interp = True"
   ]
  },
  {
   "cell_type": "code",
   "execution_count": null,
   "metadata": {
    "collapsed": true
   },
   "outputs": [],
   "source": [
    "# config_name = 'config3'\n",
    "# max_hours = 48\n",
    "# time = 'tsi_min'\n",
    "# pbto2_thresh = 8 / max_hours\n",
    "# agg_mode = 'pct'\n",
    "# pbto2_bins = [0, 20, 70, np.inf]\n",
    "# pao2_bins = [0, 300, 875, np.inf]\n",
    "# icp_bins = [0, 20, np.inf]\n",
    "# pha_bins = [0, 7.35, 7.45, np.inf]\n",
    "# paco2_bins = [0, 28, 42, np.inf]\n",
    "# interp = 'none'\n",
    "# allow_gos_interp = True"
   ]
  },
  {
   "cell_type": "code",
   "execution_count": null,
   "metadata": {
    "collapsed": true
   },
   "outputs": [],
   "source": [
    "# config_name = 'config4'\n",
    "# max_hours = 96\n",
    "# time = 'tsi_min'\n",
    "# pbto2_thresh = 8 / max_hours\n",
    "# agg_mode = 'pct'\n",
    "# pbto2_bins = [0, 20, 70, np.inf]\n",
    "# pao2_bins = [0, 300, 875, np.inf]\n",
    "# icp_bins = [0, 20, np.inf]\n",
    "# pha_bins = [0, 7.35, 7.45, np.inf]\n",
    "# paco2_bins = [0, 28, 42, np.inf]\n",
    "# interp = 'none'\n",
    "# allow_gos_interp = True"
   ]
  },
  {
   "cell_type": "code",
   "execution_count": null,
   "metadata": {
    "collapsed": true
   },
   "outputs": [],
   "source": [
    "# config_name = 'config5'\n",
    "# max_hours = 24\n",
    "# time = 'tsi_min'\n",
    "# pbto2_thresh = 8 / max_hours\n",
    "# agg_mode = 'pct'\n",
    "# pbto2_bins = [0, 20, 70, np.inf]\n",
    "# pao2_bins = [0, 300, 875, np.inf]\n",
    "# icp_bins = [0, 20, np.inf]\n",
    "# pha_bins = [0, 7.35, 7.45, np.inf]\n",
    "# paco2_bins = [0, 28, 42, np.inf]\n",
    "# interp = 'none'\n",
    "# allow_gos_interp = True"
   ]
  },
  {
   "cell_type": "code",
   "execution_count": null,
   "metadata": {
    "collapsed": true
   },
   "outputs": [],
   "source": [
    "# config_name = 'config6'\n",
    "# max_hours = 72\n",
    "# time = 'tsi_min'\n",
    "# pbto2_thresh = 8 / max_hours\n",
    "# agg_mode = 'pct'\n",
    "# pbto2_bins = [0, 20, 70, np.inf]\n",
    "# pao2_bins = [0, 300, 875, np.inf]\n",
    "# icp_bins = [0, 20, np.inf]\n",
    "# pha_bins = [0, 7.35, 7.45, np.inf]\n",
    "# paco2_bins = [0, 28, 42, np.inf]\n",
    "# interp = 'none'\n",
    "# allow_gos_interp = True"
   ]
  },
  {
   "cell_type": "code",
   "execution_count": 75,
   "metadata": {
    "collapsed": false
   },
   "outputs": [],
   "source": [
    "config_name = 'config7'\n",
    "max_hours = 36\n",
    "time = 'tsi_min'\n",
    "pbto2_thresh = 8 / max_hours\n",
    "agg_mode = 'pct'\n",
    "pbto2_bins = [0, 20, 70, np.inf]\n",
    "pao2_bins = [0, 300, 875, np.inf]\n",
    "icp_bins = [0, 20, np.inf]\n",
    "pha_bins = [0, 7.35, 7.45, np.inf]\n",
    "paco2_bins = [0, 28, 42, np.inf]\n",
    "interp = 'none'\n",
    "allow_gos_interp = True\n",
    "\n",
    "d = data.get_raw_data(f='data_clean_interp_{}.pkl'.format(interp))\n",
    "\n",
    "# Divide pao2 values by constant\n",
    "d['pao2'] = d['pao2'] / .4\n",
    "\n",
    "# This patient has an excessively long string of consecutive 0 pbto2 values after this tsa_min value\n",
    "# (so remove the unnecessary measurements)\n",
    "d = d[(d['uid'] != 1001) | (d['tsa_min'] <= 1320)]\n",
    "\n",
    "def plot_ts(d, col, uids, figsize=(12,6), ylim=None):\n",
    "    df = d[d['uid'].isin(uids)][['tsa_min', col, 'uid']]\n",
    "    ax = df.pivot_table(index='tsa_min', columns='uid', values=col).plot(figsize=figsize)\n",
    "    if ylim is not None:\n",
    "        ax.set_ylim(ylim)\n",
    "        \n",
    "# Limit to only some subset of early measurments\n",
    "d = d[d[time] <= max_hours * 60]\n",
    "\n",
    "# Remove patients that don't have enough measurments within the early subset\n",
    "ct = d.groupby('uid').apply(lambda x: len(x['pbto2'].dropna()) / max_hours)\n",
    "#ct.hist()\n",
    "rm_uids = ct[ct < pbto2_thresh].index.values\n",
    "d = d[~d['uid'].isin(rm_uids)]\n",
    "\n",
    "# Set gos response column, using interpolation if enabled\n",
    "if allow_gos_interp:\n",
    "    d['gos'] = d.apply(lambda x: x['gos-3'] if not pd.isnull(x['gos-3']) else x['gos-6'], axis=1)\n",
    "else:\n",
    "    d['gos'] = d['gos-3']"
   ]
  },
  {
   "cell_type": "code",
   "execution_count": 76,
   "metadata": {
    "collapsed": false
   },
   "outputs": [],
   "source": [
    "#d.paco2.hist(bins=50)"
   ]
  },
  {
   "cell_type": "code",
   "execution_count": 77,
   "metadata": {
    "collapsed": false
   },
   "outputs": [],
   "source": [
    "# uids = d[d['pbto2'] <= 0].groupby('uid').size()\n",
    "# uids = uids[uids > 6].index.values\n",
    "# plot_ts(d, 'pbto2', uids)"
   ]
  },
  {
   "cell_type": "code",
   "execution_count": 78,
   "metadata": {
    "collapsed": false
   },
   "outputs": [],
   "source": [
    "# uids = d['uid'].unique()\n",
    "# uids = uids[np.random.permutation(np.arange(len(uids)))[:10]]\n",
    "# plot_ts(d, 'pao2', uids)"
   ]
  },
  {
   "cell_type": "code",
   "execution_count": 79,
   "metadata": {
    "collapsed": false
   },
   "outputs": [
    {
     "name": "stdout",
     "output_type": "stream",
     "text": [
      "<class 'pandas.core.frame.DataFrame'>\n",
      "Int64Index: 231 entries, 464 to 1056\n",
      "Data columns (total 24 columns):\n",
      "age              231 non-null float64\n",
      "gcs              231 non-null float64\n",
      "gos              231 non-null float64\n",
      "icp1_0_20        231 non-null float64\n",
      "icp1_20_inf      231 non-null float64\n",
      "icp1_is_na       231 non-null float64\n",
      "marshall         231 non-null float64\n",
      "paco2_0_28       231 non-null float64\n",
      "paco2_28_42      231 non-null float64\n",
      "paco2_42_inf     231 non-null float64\n",
      "paco2_is_na      231 non-null float64\n",
      "pao2_0_300       231 non-null float64\n",
      "pao2_300_875     231 non-null float64\n",
      "pao2_875_inf     231 non-null float64\n",
      "pao2_is_na       231 non-null float64\n",
      "pbto2_0_20       231 non-null float64\n",
      "pbto2_20_70      231 non-null float64\n",
      "pbto2_70_inf     231 non-null float64\n",
      "pbto2_is_na      231 non-null float64\n",
      "pha_0_7.35       231 non-null float64\n",
      "pha_7.35_7.45    231 non-null float64\n",
      "pha_7.45_inf     231 non-null float64\n",
      "pha_is_na        231 non-null float64\n",
      "sex              231 non-null float64\n",
      "dtypes: float64(24)\n",
      "memory usage: 45.1 KB\n"
     ]
    }
   ],
   "source": [
    "def get_features(x):\n",
    "    def bin_values(v, bins, prefix, mode='count'):\n",
    "        assert mode in ['count', 'mean', 'pct'], 'Mode {} is not valid'.format(mode)\n",
    "        labels = ['{}_{}_{}'.format(prefix, bins[i-1], bins[i]) for i in range(1, len(bins))]\n",
    "        ct = pd.cut(v, bins=bins, include_lowest=True, right=False, labels=labels)\n",
    "        if mode == 'count':\n",
    "            ct = ct.value_counts()\n",
    "        elif mode == 'pct':\n",
    "            ct = ct.value_counts()\n",
    "            ct = ct if ct.sum() == 0 else ct / ct.sum()\n",
    "        elif mode == 'mean':\n",
    "            ct = v.groupby(ct).mean()\n",
    "        ct = ct.to_dict()\n",
    "        ct['{}_is_na'.format(prefix)] = 1 if len(v.dropna()) == 0 else 0\n",
    "        return ct\n",
    "    \n",
    "    r = {}\n",
    "    r.update(bin_values(x['pbto2'], pbto2_bins, 'pbto2', mode=agg_mode))\n",
    "    r.update(bin_values(x['pao2'], pao2_bins, 'pao2', mode=agg_mode))\n",
    "    r.update(bin_values(x['icp1'], icp_bins, 'icp1', mode=agg_mode))\n",
    "    r.update(bin_values(x['pha'], pha_bins, 'pha', mode=agg_mode))\n",
    "    r.update(bin_values(x['paco2'], paco2_bins, 'paco2', mode=agg_mode))\n",
    "#     r['n_pbto2'] = len(x['pbto2'].dropna())\n",
    "#     r['n_pao2'] = len(x['pao2'].dropna())\n",
    "#     r['n_icp1'] = len(x['icp1'].dropna())\n",
    "#     r['n_pha'] = len(x['pha'].dropna())\n",
    "#     r['n_paco2'] = len(x['paco2'].dropna())\n",
    "        \n",
    "    x = x.iloc[0]\n",
    "    r['gos'] = x['gos']\n",
    "    r['marshall'] = x['marshall']\n",
    "    r['gcs'] = x['gcs']\n",
    "    r['age'] = x['age']\n",
    "    r['sex'] = x['sex']\n",
    "    \n",
    "    return pd.Series(r)\n",
    "do = d.groupby('uid').apply(get_features)\n",
    "do = do[~do['gos'].isnull()]\n",
    "do = do[~do['marshall'].isnull()]\n",
    "do.info()"
   ]
  },
  {
   "cell_type": "markdown",
   "metadata": {},
   "source": [
    "# Exports"
   ]
  },
  {
   "cell_type": "code",
   "execution_count": 80,
   "metadata": {
    "collapsed": true
   },
   "outputs": [],
   "source": [
    "config = {\n",
    "    'max_hours': max_hours, 'pbto2_thresh': pbto2_thresh, 'agg_mode': agg_mode,\n",
    "    'ts_interp': interp, 'gos_interp': allow_gos_interp\n",
    "}\n",
    "export_dir = '/Users/eczech/data/pbto2/final/{}'.format(config_name)\n",
    "import os\n",
    "if not os.path.exists(export_dir):\n",
    "    os.mkdir(export_dir)"
   ]
  },
  {
   "cell_type": "code",
   "execution_count": 81,
   "metadata": {
    "collapsed": true
   },
   "outputs": [],
   "source": [
    "# Save data in wide format\n",
    "do.reset_index().to_csv('{}/data_wide.csv'.format(export_dir), index=False)"
   ]
  },
  {
   "cell_type": "code",
   "execution_count": 82,
   "metadata": {
    "collapsed": false
   },
   "outputs": [],
   "source": [
    "# Save data in long format\n",
    "d_exp = d[d['uid'].isin(do.index.values)]\n",
    "d_exp.to_csv('{}/data_long.csv'.format(export_dir), index=False)"
   ]
  },
  {
   "cell_type": "code",
   "execution_count": 83,
   "metadata": {
    "collapsed": false
   },
   "outputs": [
    {
     "data": {
      "text/html": [
       "<div>\n",
       "<table border=\"1\" class=\"dataframe\">\n",
       "  <thead>\n",
       "    <tr style=\"text-align: right;\">\n",
       "      <th></th>\n",
       "      <th>pbto2</th>\n",
       "      <th>pao2</th>\n",
       "      <th>pha</th>\n",
       "      <th>icp1</th>\n",
       "      <th>paco2</th>\n",
       "      <th>map</th>\n",
       "      <th>uid</th>\n",
       "      <th>datetime</th>\n",
       "      <th>bo2</th>\n",
       "      <th>birthdate</th>\n",
       "      <th>...</th>\n",
       "      <th>tsi</th>\n",
       "      <th>tsa</th>\n",
       "      <th>tsi_min</th>\n",
       "      <th>tsa_min</th>\n",
       "      <th>marshall</th>\n",
       "      <th>gos-12</th>\n",
       "      <th>gos-24</th>\n",
       "      <th>gos-3</th>\n",
       "      <th>gos-6</th>\n",
       "      <th>gos</th>\n",
       "    </tr>\n",
       "  </thead>\n",
       "  <tbody>\n",
       "    <tr>\n",
       "      <th>23671</th>\n",
       "      <td>NaN</td>\n",
       "      <td>NaN</td>\n",
       "      <td>NaN</td>\n",
       "      <td>NaN</td>\n",
       "      <td>NaN</td>\n",
       "      <td>NaN</td>\n",
       "      <td>534</td>\n",
       "      <td>2003-08-27 11:00:00</td>\n",
       "      <td>31.4</td>\n",
       "      <td>1978-05-14</td>\n",
       "      <td>...</td>\n",
       "      <td>13:00:00</td>\n",
       "      <td>0 days</td>\n",
       "      <td>780</td>\n",
       "      <td>0</td>\n",
       "      <td>2</td>\n",
       "      <td>3</td>\n",
       "      <td>NaN</td>\n",
       "      <td>3</td>\n",
       "      <td>3</td>\n",
       "      <td>3</td>\n",
       "    </tr>\n",
       "  </tbody>\n",
       "</table>\n",
       "<p>1 rows × 25 columns</p>\n",
       "</div>"
      ],
      "text/plain": [
       "       pbto2  pao2  pha  icp1  paco2  map  uid            datetime   bo2  \\\n",
       "23671    NaN   NaN  NaN   NaN    NaN  NaN  534 2003-08-27 11:00:00  31.4   \n",
       "\n",
       "       birthdate ...       tsi    tsa  tsi_min tsa_min marshall  gos-12  \\\n",
       "23671 1978-05-14 ...  13:00:00 0 days      780       0        2       3   \n",
       "\n",
       "       gos-24  gos-3  gos-6  gos  \n",
       "23671     NaN      3      3    3  \n",
       "\n",
       "[1 rows x 25 columns]"
      ]
     },
     "execution_count": 83,
     "metadata": {},
     "output_type": "execute_result"
    }
   ],
   "source": [
    "d_exp[d_exp['pbto2'].isnull()]"
   ]
  },
  {
   "cell_type": "markdown",
   "metadata": {},
   "source": [
    "# Modeling"
   ]
  },
  {
   "cell_type": "code",
   "execution_count": 11,
   "metadata": {
    "collapsed": false
   },
   "outputs": [],
   "source": [
    "#do.plot(kind='scatter', x='n_pbto2', y='gos')"
   ]
  },
  {
   "cell_type": "code",
   "execution_count": 13,
   "metadata": {
    "collapsed": false
   },
   "outputs": [],
   "source": [
    "%%R -i do\n",
    "library(dplyr)\n",
    "library(MASS)\n",
    "scale <- function(x) (x - mean(x)) / sd(x)\n",
    "d <- do %>% mutate_each(funs(as.numeric)) %>%\n",
    "    mutate_each(funs(scale), -gos) %>%\n",
    "    #dplyr::select(-pao2_300_800, -pbto2_20_100, -starts_with('n_'), -starts_with('pao2'))\n",
    "    dplyr::select(-paco2_35_45, -icp1_0_20, -pha_7.35_7.45, -pao2_30_100, -pbto2_20_100, -starts_with('n_'))"
   ]
  },
  {
   "cell_type": "code",
   "execution_count": 38,
   "metadata": {
    "collapsed": false
   },
   "outputs": [
    {
     "data": {
      "text/plain": [
       "\n",
       "Call:\n",
       "glm(formula = gos ~ age + sex + marshall + gcs + pbto2_0_20 + \n",
       "    pao2_0_30 + pbto2_100_inf + pao2_100_inf, family = \"binomial\", \n",
       "    data = .)\n",
       "\n",
       "Deviance Residuals: \n",
       "    Min       1Q   Median       3Q      Max  \n",
       "-1.5199  -0.7988  -0.4999   0.8342   2.6860  \n",
       "\n",
       "Coefficients:\n",
       "              Estimate Std. Error z value Pr(>|z|)    \n",
       "(Intercept)    -1.4029     0.1894  -7.409 1.28e-13 ***\n",
       "age            -0.5892     0.1867  -3.156   0.0016 ** \n",
       "sex             0.1695     0.1651   1.026   0.3047    \n",
       "marshall       -0.3556     0.1909  -1.863   0.0625 .  \n",
       "gcs             0.4450     0.1788   2.489   0.0128 *  \n",
       "pbto2_0_20     -0.4038     0.1793  -2.252   0.0243 *  \n",
       "pao2_0_30      -0.4103     0.1983  -2.069   0.0385 *  \n",
       "pbto2_100_inf  -0.7165     0.4738  -1.512   0.1304    \n",
       "pao2_100_inf   -0.2191     0.1752  -1.251   0.2111    \n",
       "---\n",
       "Signif. codes:  0 '***' 0.001 '**' 0.01 '*' 0.05 '.' 0.1 ' ' 1\n",
       "\n",
       "(Dispersion parameter for binomial family taken to be 1)\n",
       "\n",
       "    Null deviance: 298.50  on 262  degrees of freedom\n",
       "Residual deviance: 254.38  on 254  degrees of freedom\n",
       "AIC: 272.38\n",
       "\n",
       "Number of Fisher Scoring iterations: 6\n",
       "\n"
      ]
     },
     "metadata": {},
     "output_type": "display_data"
    }
   ],
   "source": [
    "%%R \n",
    "res <- d %>% mutate(gos = ifelse(gos <= 3, 0, 1)) %>%\n",
    "    #glm(gos ~ ., data=., family='binomial')\n",
    "    glm(gos ~ age + sex + marshall + gcs + pbto2_0_20 + pao2_0_30 + pbto2_100_inf + pao2_100_inf, data=., family='binomial')\n",
    "    #glm(gos ~ age + sex + marshall + gcs + icp1_20_inf, data=., family='binomial')\n",
    "    #glm(gos ~ age + sex + marshall + gcs + pao2_0_30, data=., family='binomial')\n",
    "    #glm(gos ~ age + sex + marshall + gcs + paco2_45_inf, data=., family='binomial')\n",
    "summary(res)"
   ]
  },
  {
   "cell_type": "code",
   "execution_count": 26,
   "metadata": {
    "collapsed": false
   },
   "outputs": [
    {
     "data": {
      "text/plain": [
       "Call:\n",
       "polr(formula = gos ~ age + sex + marshall + gcs + pbto2_0_20 + \n",
       "    pbto2_100_inf + pao2_0_30, data = ., Hess = T)\n",
       "\n",
       "Coefficients:\n",
       "                 Value Std. Error t value\n",
       "age           -0.83941     0.1401 -5.9935\n",
       "sex            0.16232     0.1204  1.3481\n",
       "marshall      -0.30964     0.1368 -2.2630\n",
       "gcs            0.62843     0.1302  4.8282\n",
       "pbto2_0_20    -0.28603     0.1225 -2.3346\n",
       "pbto2_100_inf -0.09902     0.1130 -0.8764\n",
       "pao2_0_30     -0.17431     0.1174 -1.4841\n",
       "\n",
       "Intercepts:\n",
       "            Value   Std. Error t value\n",
       "Dead|Bad1   -1.3014  0.1638    -7.9443\n",
       "Bad1|Bad2   -0.9939  0.1546    -6.4284\n",
       "Bad2|Good1   1.4540  0.1665     8.7346\n",
       "Good1|Good2  3.4610  0.2976    11.6300\n",
       "\n",
       "Residual Deviance: 608.7859 \n",
       "AIC: 630.7859 \n",
       "                    Value Std. Error    t value      p value\n",
       "age           -0.83940810  0.1400540 -5.9934599 2.054229e-09\n",
       "sex            0.16231688  0.1204062  1.3480773 1.776335e-01\n",
       "marshall      -0.30964035  0.1368259 -2.2630244 2.363419e-02\n",
       "gcs            0.62843099  0.1301595  4.8281596 1.378006e-06\n",
       "pbto2_0_20    -0.28603127  0.1225199 -2.3345693 1.956593e-02\n",
       "pbto2_100_inf -0.09901635  0.1129788 -0.8764152 3.808043e-01\n",
       "pao2_0_30     -0.17430680  0.1174491 -1.4841044 1.377812e-01\n",
       "Dead|Bad1     -1.30136160  0.1638103 -7.9443223 1.952553e-15\n",
       "Bad1|Bad2     -0.99394034  0.1546167 -6.4284148 1.289415e-10\n",
       "Bad2|Good1     1.45395256  0.1664586  8.7346182 2.444804e-18\n",
       "Good1|Good2    3.46102802  0.2975949 11.6299990 2.901011e-31\n"
      ]
     },
     "metadata": {},
     "output_type": "display_data"
    }
   ],
   "source": [
    "%%R\n",
    "get.polr.coefs <- function(m){\n",
    "    coefs <- coef(summary(m))\n",
    "    p <- pnorm(abs(coefs[, \"t value\"]), lower.tail = FALSE) * 2\n",
    "    coefs <- cbind(coefs, \"p value\" = p)\n",
    "    coefs\n",
    "}\n",
    "m <- d %>% \n",
    "    mutate(gos=factor(gos, levels=1:5, labels=c('Dead', 'Bad1', 'Bad2', 'Good1', 'Good2'))) %>%\n",
    "    #polr(gos ~ ., data = ., Hess=TRUE)\n",
    "    polr(gos ~ age + sex + marshall + gcs + pbto2_0_20 + pbto2_100_inf + pao2_0_30, data=., Hess=T)\n",
    "print(summary(m))\n",
    "get.polr.coefs(m)"
   ]
  },
  {
   "cell_type": "code",
   "execution_count": 34,
   "metadata": {
    "collapsed": false
   },
   "outputs": [
    {
     "data": {
      "text/plain": [
       "Call:\n",
       "polr(formula = gos ~ age + sex + marshall + gcs + pbto2_100_inf, \n",
       "    data = ., Hess = T)\n",
       "\n",
       "Coefficients:\n",
       "                Value Std. Error t value\n",
       "age           -0.2288     0.1964 -1.1651\n",
       "sex            0.1127     0.1650  0.6832\n",
       "marshall      -0.2838     0.1860 -1.5259\n",
       "gcs            0.2742     0.1736  1.5797\n",
       "pbto2_100_inf -0.5811     0.4464 -1.3016\n",
       "\n",
       "Intercepts:\n",
       "         Value   Std. Error t value\n",
       "Dead|Bad  0.8671  0.1854     4.6778\n",
       "Bad|Good 13.7204 61.0817     0.2246\n",
       "\n",
       "Residual Deviance: 239.5522 \n",
       "AIC: 253.5522 \n",
       "(68 observations deleted due to missingness)\n",
       "                   Value Std. Error    t value      p value\n",
       "age           -0.2287880  0.1963687 -1.1650942 2.439809e-01\n",
       "sex            0.1127001  0.1649707  0.6831527 4.945104e-01\n",
       "marshall      -0.2838243  0.1859992 -1.5259433 1.270240e-01\n",
       "gcs            0.2741758  0.1735586  1.5797307 1.141685e-01\n",
       "pbto2_100_inf -0.5810889  0.4464319 -1.3016294 1.930431e-01\n",
       "Dead|Bad       0.8671314  0.1853714  4.6778062 2.899604e-06\n",
       "Bad|Good      13.7204368 61.0817309  0.2246242 8.222716e-01\n"
      ]
     },
     "metadata": {},
     "output_type": "display_data"
    }
   ],
   "source": [
    "%%R\n",
    "m <- d %>% \n",
    "    mutate(gos=ifelse(gos==1, 0, ifelse(gos <= 3, 1, 2))) %>%\n",
    "    mutate(gos=factor(gos, levels=1:3, labels=c('Dead', 'Bad', 'Good'))) %>%\n",
    "    #polr(gos ~ ., data = ., Hess=TRUE)\n",
    "    polr(gos ~ age + sex + marshall + gcs + pbto2_0_20 + pbto2_100_inf + pao2_0_30, data=., Hess=T)\n",
    "print(summary(m))\n",
    "get.polr.coefs(m)"
   ]
  },
  {
   "cell_type": "code",
   "execution_count": 4,
   "metadata": {
    "collapsed": false
   },
   "outputs": [
    {
     "data": {
      "text/plain": [
       "[<matplotlib.lines.Line2D at 0x10f05ba58>]"
      ]
     },
     "execution_count": 4,
     "metadata": {},
     "output_type": "execute_result"
    },
    {
     "data": {
      "image/png": "[encoded data removed]",
      "text/plain": [
       "<matplotlib.figure.Figure at 0x10ed68ba8>"
      ]
     },
     "metadata": {},
     "output_type": "display_data"
    }
   ],
   "source": [
    "import math\n",
    "x = np.linspace(-5, 5, 1000)\n",
    "\n",
    "a1, a2 = 1, 1\n",
    "b1, b2 = -15, 15\n",
    "c1, c2 = -2, 2\n",
    "def f1(x):\n",
    "    return a1 / (1 + np.exp(b1*(x - c1)))\n",
    "def f2(x):\n",
    "    return a2 / (1 + np.exp(b2*(x - c2)))\n",
    "fl1 = np.vectorize(f1)\n",
    "fl2 = np.vectorize(f2)\n",
    "\n",
    "y = (fl1(x) + fl2(x))\n",
    "#y = .5 * fl1(x)\n",
    "plt.plot(x, y)"
   ]
  },
  {
   "cell_type": "code",
   "execution_count": null,
   "metadata": {
    "collapsed": true
   },
   "outputs": [],
   "source": []
  }
 ],
 "metadata": {
  "kernelspec": {
   "display_name": "Python 3",
   "language": "python",
   "name": "python3"
  },
  "language_info": {
   "codemirror_mode": {
    "name": "ipython",
    "version": 3
   },
   "file_extension": ".py",
   "mimetype": "text/x-python",
   "name": "python",
   "nbconvert_exporter": "python",
   "pygments_lexer": "ipython3",
   "version": "3.4.3"
  }
 },
 "nbformat": 4,
 "nbformat_minor": 0
}
