{
 "cells": [
  {
   "cell_type": "code",
   "execution_count": 37,
   "metadata": {
    "collapsed": false
   },
   "outputs": [
    {
     "name": "stdout",
     "output_type": "stream",
     "text": [
      "The rpy2.ipython extension is already loaded. To reload it, use:\n",
      "  %reload_ext rpy2.ipython\n"
     ]
    }
   ],
   "source": [
    "%run -m ipy_startup\n",
    "%matplotlib inline\n",
    "%load_ext rpy2.ipython\n",
    "from ml import query\n",
    "from pbto2 import data, prep"
   ]
  },
  {
   "cell_type": "code",
   "execution_count": 38,
   "metadata": {
    "collapsed": true
   },
   "outputs": [],
   "source": [
    "# Good results:\n",
    "\n",
    "# max_hours = 48\n",
    "# time = 'tsi_min'\n",
    "# pbto2_thresh = .25\n",
    "# agg_mode = 'pct'\n",
    "# pbto2_bins = [0, 20, 100, np.inf]\n",
    "# pao2_bins = [0, 300, 800, np.inf]\n",
    "# interp = '4'\n",
    "# allow_gos_interp = True\n",
    "\n",
    "# max_hours = 48\n",
    "# time = 'tsi_min'\n",
    "# pbto2_thresh = 8 / max_hours\n",
    "# agg_mode = 'pct'\n",
    "# pbto2_bins = [0, 20, 100, np.inf]\n",
    "# pao2_bins = [0, 30, 100, np.inf]\n",
    "# interp = 'none'\n",
    "# allow_gos_interp = True"
   ]
  },
  {
   "cell_type": "code",
   "execution_count": null,
   "metadata": {
    "collapsed": true
   },
   "outputs": [],
   "source": [
    "# config_name = 'config1'\n",
    "# max_hours = 48\n",
    "# time = 'tsi_min'\n",
    "# pbto2_thresh = 8 / max_hours\n",
    "# agg_mode = 'pct'\n",
    "# pbto2_bins = [0, 20, 100, np.inf]\n",
    "# pao2_bins = [0, 30, 100, np.inf]\n",
    "# icp_bins = [0, 20, np.inf]\n",
    "# pha_bins = [0, 7.35, 7.45, np.inf]\n",
    "# paco2_bins = [0, 35, 45, np.inf]\n",
    "# interp = 'all'\n",
    "# allow_gos_interp = True"
   ]
  },
  {
   "cell_type": "code",
   "execution_count": 49,
   "metadata": {
    "collapsed": false
   },
   "outputs": [],
   "source": [
    "config_name = 'config2'\n",
    "max_hours = 48\n",
    "time = 'tsi_min'\n",
    "pbto2_thresh = 8 / max_hours\n",
    "agg_mode = 'pct'\n",
    "pbto2_bins = [0, 20, 100, np.inf]\n",
    "pao2_bins = [0, 30, 100, np.inf]\n",
    "icp_bins = [0, 20, np.inf]\n",
    "pha_bins = [0, 7.35, 7.45, np.inf]\n",
    "paco2_bins = [0, 35, 45, np.inf]\n",
    "interp = 'none'\n",
    "allow_gos_interp = True\n",
    "\n",
    "d = data.get_raw_data(f='data_clean_interp_{}.pkl'.format(interp))\n",
    "\n",
    "# Multiply pao2 values by constant\n",
    "d['pao2'] = d['pao2'] * .4\n",
    "\n",
    "# This patient has an excessively long string of consecutive 0 pbto2 values after this tsa_min value\n",
    "# (so remove the unnecessary measurements)\n",
    "d = d[(d['uid'] != 1001) | (d['tsa_min'] <= 1320)]\n",
    "\n",
    "def plot_ts(d, col, uids, figsize=(12,6), ylim=None):\n",
    "    df = d[d['uid'].isin(uids)][['tsa_min', col, 'uid']]\n",
    "    ax = df.pivot_table(index='tsa_min', columns='uid', values=col).plot(figsize=figsize)\n",
    "    if ylim is not None:\n",
    "        ax.set_ylim(ylim)\n",
    "        \n",
    "# Limit to only some subset of early measurments\n",
    "d = d[d[time] <= max_hours * 60]\n",
    "\n",
    "# Remove patients that don't have enough measurments within the early subset\n",
    "ct = d.groupby('uid').apply(lambda x: len(x['pbto2'].dropna()) / max_hours)\n",
    "#ct.hist()\n",
    "rm_uids = ct[ct < pbto2_thresh].index.values\n",
    "d = d[~d['uid'].isin(rm_uids)]\n",
    "\n",
    "# Set gos response column, using interpolation if enabled\n",
    "if allow_gos_interp:\n",
    "    d['gos'] = d.apply(lambda x: x['gos-3'] if not pd.isnull(x['gos-3']) else x['gos-6'], axis=1)\n",
    "else:\n",
    "    d['gos'] = d['gos-3']"
   ]
  },
  {
   "cell_type": "code",
   "execution_count": 50,
   "metadata": {
    "collapsed": false
   },
   "outputs": [],
   "source": [
    "#d.paco2.hist(bins=50)"
   ]
  },
  {
   "cell_type": "code",
   "execution_count": 51,
   "metadata": {
    "collapsed": false
   },
   "outputs": [],
   "source": [
    "# uids = d[d['pbto2'] <= 0].groupby('uid').size()\n",
    "# uids = uids[uids > 6].index.values\n",
    "# plot_ts(d, 'pbto2', uids)"
   ]
  },
  {
   "cell_type": "code",
   "execution_count": 52,
   "metadata": {
    "collapsed": false
   },
   "outputs": [],
   "source": [
    "# uids = d['uid'].unique()\n",
    "# uids = uids[np.random.permutation(np.arange(len(uids)))[:10]]\n",
    "# plot_ts(d, 'pao2', uids)"
   ]
  },
  {
   "cell_type": "code",
   "execution_count": 53,
   "metadata": {
    "collapsed": false
   },
   "outputs": [
    {
     "name": "stdout",
     "output_type": "stream",
     "text": [
      "<class 'pandas.core.frame.DataFrame'>\n",
      "Int64Index: 263 entries, 461 to 1056\n",
      "Data columns (total 19 columns):\n",
      "age              263 non-null float64\n",
      "gcs              263 non-null float64\n",
      "gos              263 non-null float64\n",
      "icp1_0_20        263 non-null float64\n",
      "icp1_20_inf      263 non-null float64\n",
      "marshall         263 non-null float64\n",
      "paco2_0_35       263 non-null float64\n",
      "paco2_35_45      263 non-null float64\n",
      "paco2_45_inf     263 non-null float64\n",
      "pao2_0_30        263 non-null float64\n",
      "pao2_100_inf     263 non-null float64\n",
      "pao2_30_100      263 non-null float64\n",
      "pbto2_0_20       263 non-null float64\n",
      "pbto2_100_inf    263 non-null float64\n",
      "pbto2_20_100     263 non-null float64\n",
      "pha_0_7.35       263 non-null float64\n",
      "pha_7.35_7.45    263 non-null float64\n",
      "pha_7.45_inf     263 non-null float64\n",
      "sex              263 non-null float64\n",
      "dtypes: float64(19)\n",
      "memory usage: 41.1 KB\n"
     ]
    }
   ],
   "source": [
    "def get_features(x):\n",
    "    def bin_values(v, bins, prefix, mode='count'):\n",
    "        assert mode in ['count', 'mean', 'pct'], 'Mode {} is not valid'.format(mode)\n",
    "        labels = ['{}_{}_{}'.format(prefix, bins[i-1], bins[i]) for i in range(1, len(bins))]\n",
    "        ct = pd.cut(v, bins=bins, include_lowest=True, right=False, labels=labels)\n",
    "        if mode == 'count':\n",
    "            ct = ct.value_counts()\n",
    "        elif mode == 'pct':\n",
    "            ct = ct.value_counts()\n",
    "            ct = ct if ct.sum() == 0 else ct / ct.sum()\n",
    "        elif mode == 'mean':\n",
    "            ct = v.groupby(ct).mean()\n",
    "        return ct.to_dict()\n",
    "    \n",
    "    r = {}\n",
    "    r.update(bin_values(x['pbto2'], pbto2_bins, 'pbto2', mode=agg_mode))\n",
    "    r.update(bin_values(x['pao2'], pao2_bins, 'pao2', mode=agg_mode))\n",
    "    r.update(bin_values(x['icp1'], icp_bins, 'icp1', mode=agg_mode))\n",
    "    r.update(bin_values(x['pha'], pha_bins, 'pha', mode=agg_mode))\n",
    "    r.update(bin_values(x['paco2'], paco2_bins, 'paco2', mode=agg_mode))\n",
    "#     r['n_pbto2'] = len(x['pbto2'].dropna())\n",
    "#     r['n_pao2'] = len(x['pao2'].dropna())\n",
    "#     r['n_icp1'] = len(x['icp1'].dropna())\n",
    "#     r['n_pha'] = len(x['pha'].dropna())\n",
    "#     r['n_paco2'] = len(x['paco2'].dropna())\n",
    "        \n",
    "    x = x.iloc[0]\n",
    "    r['gos'] = x['gos']\n",
    "    r['marshall'] = x['marshall']\n",
    "    r['gcs'] = x['gcs']\n",
    "    r['age'] = x['age']\n",
    "    r['sex'] = x['sex']\n",
    "    \n",
    "    return pd.Series(r)\n",
    "do = d.groupby('uid').apply(get_features)\n",
    "do = do[~do['gos'].isnull()]\n",
    "do = do[~do['marshall'].isnull()]\n",
    "do.info()"
   ]
  },
  {
   "cell_type": "markdown",
   "metadata": {},
   "source": [
    "# Exports"
   ]
  },
  {
   "cell_type": "code",
   "execution_count": 54,
   "metadata": {
    "collapsed": true
   },
   "outputs": [],
   "source": [
    "config = {\n",
    "    'max_hours': max_hours, 'pbto2_thresh': pbto2_thresh, 'agg_mode': agg_mode,\n",
    "    'ts_interp': interp, 'gos_interp': allow_gos_interp\n",
    "}\n",
    "export_dir = '/Users/eczech/data/pbto2/final/{}'.format(config_name)\n",
    "import os\n",
    "if not os.path.exists(export_dir):\n",
    "    os.mkdir(export_dir)"
   ]
  },
  {
   "cell_type": "code",
   "execution_count": 55,
   "metadata": {
    "collapsed": true
   },
   "outputs": [],
   "source": [
    "# Save data in wide format\n",
    "do.reset_index().to_csv('{}/data_wide.csv'.format(export_dir), index=False)"
   ]
  },
  {
   "cell_type": "code",
   "execution_count": 56,
   "metadata": {
    "collapsed": false
   },
   "outputs": [],
   "source": [
    "# Save data in long format\n",
    "d_exp = d[d['uid'].isin(do.index.values)]\n",
    "d_exp.to_csv('{}/data_long.csv'.format(export_dir), index=False)"
   ]
  },
  {
   "cell_type": "code",
   "execution_count": 57,
   "metadata": {
    "collapsed": false
   },
   "outputs": [
    {
     "data": {
      "text/html": [
       "<div>\n",
       "<table border=\"1\" class=\"dataframe\">\n",
       "  <thead>\n",
       "    <tr style=\"text-align: right;\">\n",
       "      <th></th>\n",
       "      <th>pbto2</th>\n",
       "      <th>pao2</th>\n",
       "      <th>pha</th>\n",
       "      <th>icp1</th>\n",
       "      <th>paco2</th>\n",
       "      <th>map</th>\n",
       "      <th>uid</th>\n",
       "      <th>datetime</th>\n",
       "      <th>bo2</th>\n",
       "      <th>birthdate</th>\n",
       "      <th>...</th>\n",
       "      <th>tsi</th>\n",
       "      <th>tsa</th>\n",
       "      <th>tsi_min</th>\n",
       "      <th>tsa_min</th>\n",
       "      <th>marshall</th>\n",
       "      <th>gos-12</th>\n",
       "      <th>gos-24</th>\n",
       "      <th>gos-3</th>\n",
       "      <th>gos-6</th>\n",
       "      <th>gos</th>\n",
       "    </tr>\n",
       "  </thead>\n",
       "  <tbody>\n",
       "    <tr>\n",
       "      <th>23671</th>\n",
       "      <td>NaN</td>\n",
       "      <td>NaN</td>\n",
       "      <td>NaN</td>\n",
       "      <td>NaN</td>\n",
       "      <td>NaN</td>\n",
       "      <td>NaN</td>\n",
       "      <td>534</td>\n",
       "      <td>2003-08-27 11:00:00</td>\n",
       "      <td>31.4</td>\n",
       "      <td>1978-05-14</td>\n",
       "      <td>...</td>\n",
       "      <td>13:00:00</td>\n",
       "      <td>0 days</td>\n",
       "      <td>780</td>\n",
       "      <td>0</td>\n",
       "      <td>2</td>\n",
       "      <td>3</td>\n",
       "      <td>NaN</td>\n",
       "      <td>3</td>\n",
       "      <td>3</td>\n",
       "      <td>3</td>\n",
       "    </tr>\n",
       "  </tbody>\n",
       "</table>\n",
       "<p>1 rows × 25 columns</p>\n",
       "</div>"
      ],
      "text/plain": [
       "       pbto2  pao2  pha  icp1  paco2  map  uid            datetime   bo2  \\\n",
       "23671    NaN   NaN  NaN   NaN    NaN  NaN  534 2003-08-27 11:00:00  31.4   \n",
       "\n",
       "       birthdate ...       tsi    tsa  tsi_min tsa_min marshall  gos-12  \\\n",
       "23671 1978-05-14 ...  13:00:00 0 days      780       0        2       3   \n",
       "\n",
       "       gos-24  gos-3  gos-6  gos  \n",
       "23671     NaN      3      3    3  \n",
       "\n",
       "[1 rows x 25 columns]"
      ]
     },
     "execution_count": 57,
     "metadata": {},
     "output_type": "execute_result"
    }
   ],
   "source": [
    "d_exp[d_exp['pbto2'].isnull()]"
   ]
  },
  {
   "cell_type": "markdown",
   "metadata": {},
   "source": [
    "# Modeling"
   ]
  },
  {
   "cell_type": "code",
   "execution_count": 58,
   "metadata": {
    "collapsed": false
   },
   "outputs": [],
   "source": [
    "#do.plot(kind='scatter', x='n_pbto2', y='gos')"
   ]
  },
  {
   "cell_type": "code",
   "execution_count": 60,
   "metadata": {
    "collapsed": false
   },
   "outputs": [],
   "source": [
    "%%R -i do\n",
    "library(dplyr)\n",
    "library(MASS)\n",
    "scale <- function(x) (x - mean(x)) / sd(x)\n",
    "d <- do %>% mutate_each(funs(as.numeric)) %>%\n",
    "    mutate_each(funs(scale), -gos) %>%\n",
    "    #dplyr::select(-pao2_300_800, -pbto2_20_100, -starts_with('n_'), -starts_with('pao2'))\n",
    "    dplyr::select(-paco2_35_45, -icp1_0_20, -pha_7.35_7.45, -pao2_30_100, -pbto2_20_100, -starts_with('n_'))"
   ]
  },
  {
   "cell_type": "code",
   "execution_count": 76,
   "metadata": {
    "collapsed": false
   },
   "outputs": [
    {
     "data": {
      "text/plain": [
       "\n",
       "Call:\n",
       "glm(formula = gos ~ ., family = \"binomial\", data = .)\n",
       "\n",
       "Deviance Residuals: \n",
       "    Min       1Q   Median       3Q      Max  \n",
       "-1.7271  -0.7224  -0.4305   0.3773   2.7564  \n",
       "\n",
       "Coefficients:\n",
       "              Estimate Std. Error z value Pr(>|z|)    \n",
       "(Intercept)   -1.54132    0.20578  -7.490 6.87e-14 ***\n",
       "age           -0.70317    0.20402  -3.447 0.000568 ***\n",
       "gcs            0.52774    0.18797   2.808 0.004991 ** \n",
       "icp1_20_inf   -0.60068    0.31090  -1.932 0.053348 .  \n",
       "marshall      -0.36173    0.19847  -1.823 0.068368 .  \n",
       "paco2_0_35    -0.04247    0.20178  -0.211 0.833277    \n",
       "paco2_45_inf   0.58806    0.21606   2.722 0.006494 ** \n",
       "pao2_0_30     -0.47814    0.20851  -2.293 0.021842 *  \n",
       "pao2_100_inf  -0.16213    0.17549  -0.924 0.355544    \n",
       "pbto2_0_20    -0.33005    0.18370  -1.797 0.072395 .  \n",
       "pbto2_100_inf -0.78856    0.42386  -1.860 0.062823 .  \n",
       "pha_0_7.35    -0.33376    0.22364  -1.492 0.135598    \n",
       "pha_7.45_inf  -0.35273    0.21635  -1.630 0.103034    \n",
       "sex            0.23948    0.19463   1.230 0.218546    \n",
       "---\n",
       "Signif. codes:  0 '***' 0.001 '**' 0.01 '*' 0.05 '.' 0.1 ' ' 1\n",
       "\n",
       "(Dispersion parameter for binomial family taken to be 1)\n",
       "\n",
       "    Null deviance: 298.50  on 262  degrees of freedom\n",
       "Residual deviance: 235.52  on 249  degrees of freedom\n",
       "AIC: 263.52\n",
       "\n",
       "Number of Fisher Scoring iterations: 6\n",
       "\n"
      ]
     },
     "metadata": {},
     "output_type": "display_data"
    }
   ],
   "source": [
    "%%R \n",
    "res <- d %>% mutate(gos = ifelse(gos <= 3, 0, 1)) %>%\n",
    "    glm(gos ~ ., data=., family='binomial')\n",
    "    #glm(gos ~ age + sex + marshall + gcs + pbto2_0_20 + pbto2_100_inf, data=., family='binomial')\n",
    "    #glm(gos ~ age + sex + marshall + gcs + icp1_20_inf, data=., family='binomial')\n",
    "    #glm(gos ~ age + sex + marshall + gcs + pao2_0_30, data=., family='binomial')\n",
    "    #glm(gos ~ age + sex + marshall + gcs + paco2_45_inf, data=., family='binomial')\n",
    "summary(res)"
   ]
  },
  {
   "cell_type": "code",
   "execution_count": 63,
   "metadata": {
    "collapsed": false
   },
   "outputs": [
    {
     "data": {
      "text/plain": [
       "Call:\n",
       "polr(formula = gos ~ ., data = ., Hess = TRUE)\n",
       "\n",
       "Coefficients:\n",
       "                 Value Std. Error t value\n",
       "age           -0.97370     0.1498 -6.5013\n",
       "gcs            0.71987     0.1362  5.2867\n",
       "icp1_20_inf   -0.49453     0.1702 -2.9063\n",
       "marshall      -0.31493     0.1394 -2.2587\n",
       "paco2_0_35    -0.09577     0.1399 -0.6846\n",
       "paco2_45_inf   0.52909     0.1565  3.3810\n",
       "pao2_0_30     -0.25299     0.1218 -2.0764\n",
       "pao2_100_inf  -0.25201     0.1288 -1.9573\n",
       "pbto2_0_20    -0.20411     0.1287 -1.5861\n",
       "pbto2_100_inf -0.07631     0.1230 -0.6204\n",
       "pha_0_7.35    -0.23234     0.1558 -1.4915\n",
       "pha_7.45_inf  -0.23581     0.1443 -1.6343\n",
       "sex            0.14677     0.1308  1.1224\n",
       "\n",
       "Intercepts:\n",
       "            Value   Std. Error t value\n",
       "Dead|Bad1   -1.4042  0.1725    -8.1411\n",
       "Bad1|Bad2   -1.0709  0.1626    -6.5874\n",
       "Bad2|Good1   1.5994  0.1785     8.9619\n",
       "Good1|Good2  3.7722  0.3217    11.7247\n",
       "\n",
       "Residual Deviance: 574.8123 \n",
       "AIC: 608.8123 \n",
       "                    Value Std. Error    t value      p value\n",
       "age           -0.97369683  0.1497703 -6.5012691 7.964519e-11\n",
       "gcs            0.71987412  0.1361668  5.2867079 1.245373e-07\n",
       "icp1_20_inf   -0.49453323  0.1701581 -2.9063166 3.657112e-03\n",
       "marshall      -0.31492779  0.1394311 -2.2586632 2.390434e-02\n",
       "paco2_0_35    -0.09576938  0.1398982 -0.6845646 4.936187e-01\n",
       "paco2_45_inf   0.52909472  0.1564922  3.3809654 7.223163e-04\n",
       "pao2_0_30     -0.25299139  0.1218431 -2.0763710 3.785965e-02\n",
       "pao2_100_inf  -0.25201020  0.1287564 -1.9572632 5.031653e-02\n",
       "pbto2_0_20    -0.20410751  0.1286829 -1.5861273 1.127104e-01\n",
       "pbto2_100_inf -0.07630815  0.1229960 -0.6204116 5.349868e-01\n",
       "pha_0_7.35    -0.23233623  0.1557731 -1.4915043 1.358291e-01\n",
       "pha_7.45_inf  -0.23581158  0.1442901 -1.6342885 1.021983e-01\n",
       "sex            0.14677463  0.1307716  1.1223738 2.617035e-01\n",
       "Dead|Bad1     -1.40421766  0.1724851 -8.1410939 3.917225e-16\n",
       "Bad1|Bad2     -1.07088221  0.1625659 -6.5873731 4.476764e-11\n",
       "Bad2|Good1     1.59936065  0.1784630  8.9618590 3.192498e-19\n",
       "Good1|Good2    3.77223082  0.3217346 11.7246653 9.527684e-32\n"
      ]
     },
     "metadata": {},
     "output_type": "display_data"
    }
   ],
   "source": [
    "%%R\n",
    "get.polr.coefs <- function(m){\n",
    "    coefs <- coef(summary(m))\n",
    "    p <- pnorm(abs(coefs[, \"t value\"]), lower.tail = FALSE) * 2\n",
    "    coefs <- cbind(coefs, \"p value\" = p)\n",
    "    coefs\n",
    "}\n",
    "m <- d %>% \n",
    "    mutate(gos=factor(gos, levels=1:5, labels=c('Dead', 'Bad1', 'Bad2', 'Good1', 'Good2'))) %>%\n",
    "    polr(gos ~ ., data = ., Hess=TRUE)\n",
    "print(summary(m))\n",
    "get.polr.coefs(m)"
   ]
  },
  {
   "cell_type": "code",
   "execution_count": 64,
   "metadata": {
    "collapsed": false
   },
   "outputs": [
    {
     "data": {
      "text/plain": [
       "Call:\n",
       "polr(formula = gos ~ ., data = ., Hess = TRUE)\n",
       "\n",
       "Coefficients:\n",
       "                 Value Std. Error t value\n",
       "age           -0.38884     0.2226 -1.7464\n",
       "gcs            0.33599     0.1945  1.7273\n",
       "icp1_20_inf   -0.55354     0.3287 -1.6839\n",
       "marshall      -0.35211     0.2020 -1.7431\n",
       "paco2_0_35    -0.07918     0.2155 -0.3674\n",
       "paco2_45_inf   0.47491     0.2275  2.0877\n",
       "pao2_0_30     -0.50257     0.2112 -2.3793\n",
       "pao2_100_inf  -0.06852     0.1837 -0.3730\n",
       "pbto2_0_20    -0.31826     0.1932 -1.6475\n",
       "pbto2_100_inf -0.75666     0.4291 -1.7633\n",
       "pha_0_7.35    -0.24683     0.2421 -1.0195\n",
       "pha_7.45_inf  -0.30188     0.2195 -1.3752\n",
       "sex            0.22092     0.2006  1.1013\n",
       "\n",
       "Intercepts:\n",
       "         Value    Std. Error t value \n",
       "Dead|Bad   1.1509   0.2193     5.2481\n",
       "Bad|Good  61.7721   0.2193   281.6788\n",
       "\n",
       "Residual Deviance: 214.8865 \n",
       "AIC: 244.8865 \n",
       "(68 observations deleted due to missingness)\n",
       "                    Value Std. Error     t value      p value\n",
       "age           -0.38883942  0.2226494  -1.7464201 8.073799e-02\n",
       "gcs            0.33599245  0.1945239   1.7272554 8.412180e-02\n",
       "icp1_20_inf   -0.55354006  0.3287314  -1.6838674 9.220729e-02\n",
       "marshall      -0.35210618  0.2019998  -1.7431016 8.131586e-02\n",
       "paco2_0_35    -0.07918059  0.2155037  -0.3674209 7.133051e-01\n",
       "paco2_45_inf   0.47490766  0.2274829   2.0876628 3.682826e-02\n",
       "pao2_0_30     -0.50257341  0.2112266  -2.3793099 1.734509e-02\n",
       "pao2_100_inf  -0.06852468  0.1836966  -0.3730319 7.091247e-01\n",
       "pbto2_0_20    -0.31826172  0.1931775  -1.6475091 9.945345e-02\n",
       "pbto2_100_inf -0.75666143  0.4291203  -1.7632852 7.785241e-02\n",
       "pha_0_7.35    -0.24682646  0.2421123  -1.0194710 3.079794e-01\n",
       "pha_7.45_inf  -0.30188290  0.2195201  -1.3751949 1.690710e-01\n",
       "sex            0.22092323  0.2005955   1.1013372 2.707499e-01\n",
       "Dead|Bad       1.15089737  0.2192998   5.2480554 1.537131e-07\n",
       "Bad|Good      61.77209040  0.2192998 281.6787670 0.000000e+00\n"
      ]
     },
     "metadata": {},
     "output_type": "display_data"
    }
   ],
   "source": [
    "%%R\n",
    "m <- d %>% \n",
    "    mutate(gos=ifelse(gos==1, 0, ifelse(gos <= 3, 1, 2))) %>%\n",
    "    mutate(gos=factor(gos, levels=1:3, labels=c('Dead', 'Bad', 'Good'))) %>%\n",
    "    polr(gos ~ ., data = ., Hess=TRUE)\n",
    "print(summary(m))\n",
    "get.polr.coefs(m)"
   ]
  },
  {
   "cell_type": "code",
   "execution_count": 4,
   "metadata": {
    "collapsed": false
   },
   "outputs": [
    {
     "data": {
      "text/plain": [
       "[<matplotlib.lines.Line2D at 0x10f05ba58>]"
      ]
     },
     "execution_count": 4,
     "metadata": {},
     "output_type": "execute_result"
    },
    {
     "data": {
      "image/png": "[encoded data removed]",
      "text/plain": [
       "<matplotlib.figure.Figure at 0x10ed68ba8>"
      ]
     },
     "metadata": {},
     "output_type": "display_data"
    }
   ],
   "source": [
    "import math\n",
    "x = np.linspace(-5, 5, 1000)\n",
    "\n",
    "a1, a2 = 1, 1\n",
    "b1, b2 = -15, 15\n",
    "c1, c2 = -2, 2\n",
    "def f1(x):\n",
    "    return a1 / (1 + np.exp(b1*(x - c1)))\n",
    "def f2(x):\n",
    "    return a2 / (1 + np.exp(b2*(x - c2)))\n",
    "fl1 = np.vectorize(f1)\n",
    "fl2 = np.vectorize(f2)\n",
    "\n",
    "y = (fl1(x) + fl2(x))\n",
    "#y = .5 * fl1(x)\n",
    "plt.plot(x, y)"
   ]
  },
  {
   "cell_type": "code",
   "execution_count": null,
   "metadata": {
    "collapsed": true
   },
   "outputs": [],
   "source": []
  }
 ],
 "metadata": {
  "kernelspec": {
   "display_name": "Python 3",
   "language": "python",
   "name": "python3"
  },
  "language_info": {
   "codemirror_mode": {
    "name": "ipython",
    "version": 3
   },
   "file_extension": ".py",
   "mimetype": "text/x-python",
   "name": "python",
   "nbconvert_exporter": "python",
   "pygments_lexer": "ipython3",
   "version": "3.4.3"
  }
 },
 "nbformat": 4,
 "nbformat_minor": 0
}
