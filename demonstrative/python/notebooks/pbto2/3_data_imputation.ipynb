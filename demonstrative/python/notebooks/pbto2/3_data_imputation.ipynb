{
 "cells": [
  {
   "cell_type": "code",
   "execution_count": 1,
   "metadata": {
    "collapsed": true
   },
   "outputs": [],
   "source": [
    "%matplotlib inline\n",
    "%load_ext rpy2.ipython\n",
    "from pbto2 import data"
   ]
  },
  {
   "cell_type": "code",
   "execution_count": 51,
   "metadata": {
    "collapsed": false
   },
   "outputs": [
    {
     "data": {
      "text/plain": [
       "<module 'pbto2.data' from '/Users/eczech/repos/portfolio/functional/ml/python/pbto2/data.py'>"
      ]
     },
     "execution_count": 51,
     "metadata": {},
     "output_type": "execute_result"
    }
   ],
   "source": [
    "import imp\n",
    "imp.reload(data)"
   ]
  },
  {
   "cell_type": "code",
   "execution_count": 52,
   "metadata": {
    "collapsed": true
   },
   "outputs": [],
   "source": [
    "d_raw = data.get_raw_data()\n",
    "d_raw = data.get_raw_feature_data(d_raw)"
   ]
  },
  {
   "cell_type": "code",
   "execution_count": 53,
   "metadata": {
    "collapsed": false
   },
   "outputs": [
    {
     "name": "stdout",
     "output_type": "stream",
     "text": [
      "feature\n",
      "pao2_mean          0.011799\n",
      "pao2_p10           0.011799\n",
      "pao2_p990          0.011799\n",
      "pao2_std           0.017699\n",
      "marshall           0.097345\n",
      "gos-3              0.197640\n",
      "gos-6              0.197640\n",
      "gos-12             0.235988\n",
      "gos-24             0.389381\n",
      "__n_records__    339.000000\n",
      "dtype: float64\n",
      "<class 'pandas.core.frame.DataFrame'>\n",
      "Int64Index: 339 entries, 461 to 1082\n",
      "Data columns (total 16 columns):\n",
      "age                    339 non-null float64\n",
      "gcs                    339 non-null float64\n",
      "gos-12                 259 non-null float64\n",
      "gos-24                 207 non-null float64\n",
      "gos-3                  272 non-null float64\n",
      "gos-6                  272 non-null float64\n",
      "marshall               306 non-null float64\n",
      "pao2_mean              335 non-null float64\n",
      "pao2_p10               335 non-null float64\n",
      "pao2_p990              335 non-null float64\n",
      "pao2_std               333 non-null float64\n",
      "pbto2_mean_over_30     339 non-null float64\n",
      "pbto2_mean_under_15    339 non-null float64\n",
      "pbto2_p10              339 non-null float64\n",
      "pbto2_std              339 non-null float64\n",
      "sex                    339 non-null float64\n",
      "dtypes: float64(16)\n",
      "memory usage: 45.0 KB\n"
     ]
    }
   ],
   "source": [
    "feats = [\n",
    "    (['.*gos-\\d{1,2}$', 'uid', 'age', 'sex', 'gcs', 'marshall'],),\n",
    "    (['pbto2'], ['mean_under_15', 'mean_over_30', 'std', 'p10']),\n",
    "    (['pao2'], ['mean', 'p10', 'p990', 'std'])\n",
    "]\n",
    "d, na_frac = data.get_prepared_features(d_raw, feats, impute=False, scale=True)\n",
    "print(na_frac)\n",
    "d.info()"
   ]
  },
  {
   "cell_type": "code",
   "execution_count": 54,
   "metadata": {
    "collapsed": false
   },
   "outputs": [
    {
     "name": "stdout",
     "output_type": "stream",
     "text": [
      "<class 'pandas.core.frame.DataFrame'>\n",
      "Int64Index: 300 entries, 461 to 1056\n",
      "Data columns (total 16 columns):\n",
      "age                    300 non-null float64\n",
      "gcs                    300 non-null float64\n",
      "gos-12                 259 non-null float64\n",
      "gos-24                 207 non-null float64\n",
      "gos-3                  272 non-null float64\n",
      "gos-6                  272 non-null float64\n",
      "marshall               298 non-null float64\n",
      "pao2_mean              297 non-null float64\n",
      "pao2_p10               297 non-null float64\n",
      "pao2_p990              297 non-null float64\n",
      "pao2_std               295 non-null float64\n",
      "pbto2_mean_over_30     300 non-null float64\n",
      "pbto2_mean_under_15    300 non-null float64\n",
      "pbto2_p10              300 non-null float64\n",
      "pbto2_std              300 non-null float64\n",
      "sex                    300 non-null float64\n",
      "dtypes: float64(16)\n",
      "memory usage: 39.8 KB\n"
     ]
    }
   ],
   "source": [
    "# Remove cases where ALL gos values are NA\n",
    "d = d[~d[[c for c in d if 'gos' in c]].isnull().apply(np.all, axis=1)]\n",
    "d.info()"
   ]
  },
  {
   "cell_type": "code",
   "execution_count": 55,
   "metadata": {
    "collapsed": false
   },
   "outputs": [],
   "source": [
    "d.reset_index().to_csv('/Users/eczech/data/ptbo2/export/data_to_impute.csv', index=False)"
   ]
  }
 ],
 "metadata": {
  "kernelspec": {
   "display_name": "Python 3",
   "language": "python",
   "name": "python3"
  },
  "language_info": {
   "codemirror_mode": {
    "name": "ipython",
    "version": 3
   },
   "file_extension": ".py",
   "mimetype": "text/x-python",
   "name": "python",
   "nbconvert_exporter": "python",
   "pygments_lexer": "ipython3",
   "version": "3.4.3"
  }
 },
 "nbformat": 4,
 "nbformat_minor": 0
}
