{
 "cells": [
  {
   "cell_type": "code",
   "execution_count": 100,
   "metadata": {
    "collapsed": true
   },
   "outputs": [],
   "source": [
    "%matplotlib inline\n",
    "import re\n",
    "import functools"
   ]
  },
  {
   "cell_type": "code",
   "execution_count": 349,
   "metadata": {
    "collapsed": false
   },
   "outputs": [],
   "source": [
    "d = pd.read_excel('/Users/eczech/data/ptbo2/pbto2_20151023_clean.xlsx', None)"
   ]
  },
  {
   "cell_type": "code",
   "execution_count": 350,
   "metadata": {
    "collapsed": false
   },
   "outputs": [
    {
     "data": {
      "text/plain": [
       "(339, ['BO2&Injy time', 'Demographics', 'Marsh & 12mGOS', 'Outcome'])"
      ]
     },
     "execution_count": 350,
     "metadata": {},
     "output_type": "execute_result"
    }
   ],
   "source": [
    "is_num = lambda x: re.compile('^\\d+$').match(x) is not None\n",
    "d_sheet = [k for k in d.keys() if is_num(k)]\n",
    "o_sheet = [k for k in d.keys() if k not in d_sheet]\n",
    "len(ids), o_sheet"
   ]
  },
  {
   "cell_type": "markdown",
   "metadata": {},
   "source": [
    "## Data Exploration"
   ]
  },
  {
   "cell_type": "code",
   "execution_count": 351,
   "metadata": {
    "collapsed": false
   },
   "outputs": [],
   "source": [
    "trans = {\n",
    "    'right_pupil_response': 'pupil_response_r',\n",
    "    'left_pupil_response' : 'pupil_response_l',\n",
    "    'right_pupil_size'    : 'pupil_size_r',\n",
    "    'left_pupil_size'     : 'pupil_size_l',\n",
    "    'icp_1'               : 'icp1'\n",
    "}\n",
    "def normalize_col(c):\n",
    "    c = c.strip().lower().replace(' ', '_').replace(',', '')\n",
    "    return trans.get(c, c)"
   ]
  },
  {
   "cell_type": "code",
   "execution_count": 352,
   "metadata": {
    "collapsed": false
   },
   "outputs": [
    {
     "data": {
      "text/plain": [
       "array(['base_deficit_arterial', 'base_excess_arterial', 'blood_gases',\n",
       "       'date', 'date/time', 'hco3', 'hco3a', 'icp', 'icp1', 'icp2', 'map',\n",
       "       'paco2', 'pao2', 'pbto2', 'pha', 'pupil_response',\n",
       "       'pupil_response_l', 'pupil_response_r', 'pupil_size',\n",
       "       'pupil_size_l', 'pupil_size_r', 'sao2', 'spo2', 'uid',\n",
       "       'unnamed:_14', 'unnamed:_19', 'vital_signs', None], dtype=object)"
      ]
     },
     "execution_count": 352,
     "metadata": {},
     "output_type": "execute_result"
    }
   ],
   "source": [
    "# Find the unique set of all columns that appear in data sheets\n",
    "col_lists = [[normalize_col(c) for c in d[k].columns.tolist()] for k in d_sheet]\n",
    "pd.Series(pd.DataFrame(col_lists).values.ravel()).order().unique()"
   ]
  },
  {
   "cell_type": "code",
   "execution_count": 353,
   "metadata": {
    "collapsed": false
   },
   "outputs": [
    {
     "name": "stdout",
     "output_type": "stream",
     "text": [
      "<class 'pandas.core.frame.DataFrame'>\n",
      "Int64Index: 24592 entries, 0 to 106\n",
      "Data columns (total 28 columns):\n",
      "base_deficit_arterial    4094 non-null object\n",
      "base_excess_arterial     2679 non-null object\n",
      "blood_gases              6755 non-null object\n",
      "date                     24588 non-null datetime64[ns]\n",
      "date/time                24592 non-null datetime64[ns]\n",
      "hco3                     23 non-null float64\n",
      "hco3a                    6702 non-null object\n",
      "icp                      0 non-null float64\n",
      "icp1                     16183 non-null object\n",
      "icp2                     8828 non-null object\n",
      "map                      15862 non-null object\n",
      "paco2                    6723 non-null object\n",
      "pao2                     6726 non-null object\n",
      "pbto2                    24592 non-null float64\n",
      "pha                      6726 non-null object\n",
      "pupil_response           1664 non-null object\n",
      "pupil_response_l         6675 non-null object\n",
      "pupil_response_r         6643 non-null object\n",
      "pupil_size               2366 non-null object\n",
      "pupil_size_l             6695 non-null object\n",
      "pupil_size_r             6695 non-null object\n",
      "sao2                     4400 non-null object\n",
      "sheet_name               24592 non-null int64\n",
      "spo2                     23608 non-null object\n",
      "uid                      24592 non-null int64\n",
      "unnamed:_14              0 non-null float64\n",
      "unnamed:_19              4 non-null float64\n",
      "vital_signs              24259 non-null object\n",
      "dtypes: datetime64[ns](2), float64(5), int64(2), object(19)\n",
      "memory usage: 5.4+ MB\n"
     ]
    }
   ],
   "source": [
    "def find_sheets_by_col(col, first_only=False):\n",
    "    \"\"\" Utility function for searching for sheets based on a column name\"\"\"\n",
    "    res = []\n",
    "    for k in d_sheet:\n",
    "        df = d[k].copy()\n",
    "        df.columns = [normalize_col(c) for c in df]\n",
    "        df['sheet_name'] = int(k)\n",
    "        if col is None or normalize_col(col) in df:\n",
    "            if first_only:\n",
    "                return df\n",
    "            res.append(df)\n",
    "    return functools.reduce(pd.DataFrame.append, res)\n",
    "\n",
    "# Load all measurement sheets into a single data frame\n",
    "dt = find_sheets_by_col(None)\n",
    "dt.info()"
   ]
  },
  {
   "cell_type": "markdown",
   "metadata": {},
   "source": [
    "#### Account for \"unnamed\" Columns"
   ]
  },
  {
   "cell_type": "code",
   "execution_count": 354,
   "metadata": {
    "collapsed": false
   },
   "outputs": [
    {
     "data": {
      "text/html": [
       "<div>\n",
       "<table border=\"1\" class=\"dataframe\">\n",
       "  <thead>\n",
       "    <tr style=\"text-align: right;\">\n",
       "      <th></th>\n",
       "      <th>unnamed:_14</th>\n",
       "      <th>unnamed:_19</th>\n",
       "    </tr>\n",
       "    <tr>\n",
       "      <th>sheet_name</th>\n",
       "      <th></th>\n",
       "      <th></th>\n",
       "    </tr>\n",
       "  </thead>\n",
       "  <tbody>\n",
       "    <tr>\n",
       "      <th>1051</th>\n",
       "      <td>NaN</td>\n",
       "      <td>11</td>\n",
       "    </tr>\n",
       "    <tr>\n",
       "      <th>1051</th>\n",
       "      <td>NaN</td>\n",
       "      <td>10</td>\n",
       "    </tr>\n",
       "    <tr>\n",
       "      <th>1046</th>\n",
       "      <td>NaN</td>\n",
       "      <td>9</td>\n",
       "    </tr>\n",
       "    <tr>\n",
       "      <th>1046</th>\n",
       "      <td>NaN</td>\n",
       "      <td>15</td>\n",
       "    </tr>\n",
       "  </tbody>\n",
       "</table>\n",
       "</div>"
      ],
      "text/plain": [
       "            unnamed:_14  unnamed:_19\n",
       "sheet_name                          \n",
       "1051                NaN           11\n",
       "1051                NaN           10\n",
       "1046                NaN            9\n",
       "1046                NaN           15"
      ]
     },
     "execution_count": 354,
     "metadata": {},
     "output_type": "execute_result"
    }
   ],
   "source": [
    "dt[~dt['sheet_name'].isin(['1051', '1055', '1046', '1052', '980'])]\\\n",
    "    .set_index('sheet_name')[[c for c in dt if 'unnamed' in c]]\\\n",
    "    .dropna(how='all', axis=0).iloc[:50,:]\n",
    "# This should be empty if all \"Unnamed\" column issues have been addressed.\n",
    "# This involves at least the following updates to the input spreadsheet:\n",
    "# - Add 'Vital Signs' header for patient 1046\n",
    "# - Change ICP header for patient 1052 to ICP1 and ICP2"
   ]
  },
  {
   "cell_type": "code",
   "execution_count": 355,
   "metadata": {
    "collapsed": true
   },
   "outputs": [],
   "source": [
    "dt = dt.drop([c for c in dt if 'unnamed' in c], axis=1)"
   ]
  },
  {
   "cell_type": "markdown",
   "metadata": {},
   "source": [
    "#### Known Issue Adjustments"
   ]
  },
  {
   "cell_type": "code",
   "execution_count": 356,
   "metadata": {
    "collapsed": true
   },
   "outputs": [],
   "source": [
    "# Patient 1062 - Pupil Size cell is randomly filled with this string -- so remove it\n",
    "#dt = dt[dt['pupil_size'] == 'Neurological Assessments']['sheet_name']\n",
    "dt = dt[dt['pupil_size'] != 'Neurological Assessments']"
   ]
  },
  {
   "cell_type": "markdown",
   "metadata": {},
   "source": [
    "### Questions\n",
    "\n",
    " - What does a pupil size of 'Left - 3mm, Left - 5mm, Right - 2mm, Right - 3mm' mean where there are multiple measurements for each side?\n",
    " - Same as above except for Pupil Response values like 'Left - Nonreactive, Left - Fixed, Right - Sluggish'?\n",
    " - More serious problems:\n",
    "     - _Sheet ID_ - _Cell Range_\n",
    "     - 1028 - Q78\n",
    "     - 1058 - Q92, R92, S92\n",
    "     - Pupil size and response extend way beyond dates:\n",
    "         - 953 - O98:P144\n",
    "         - 952 - O110:P165\n",
    "         - 949 - O94:P142\n",
    "         - 947 - O101:P154\n",
    "         - 938 - O106:P106\n",
    "         - 933 - O99:P128\n",
    "     - Huge sections of ptbo2 and dates completely missing:\n",
    "         - 951\n",
    "         - 948\n",
    "         - 945\n",
    "         - 944\n",
    "     - 969 - A2 --> why is UID not equal to number of sheet?\n",
    "     - 932&967 --> Why are pupil sizes set as dates?\n",
    " - Less serious problems:\n",
    "     - _Sheet ID_ - _Cell Range_\n",
    "     - 969 - R48 --> why is ICP '-8, 4'?\n",
    "     - 760 - L5 --> What does it mean to have two values here for \"Base Deficit, Arterial\" (ie '16, 15')?\n",
    "     - 1062 - O177 --> Where did \"Neurological Assessments\" come from?\n",
    "     - 785 - A4 --> Why is the UID 'Br'?\n",
    "     - 731 - A1 --> Why is UID column labeled UID100?\n",
    "     - 542 - B1:B45 --> Why is UID column in here twice?\n",
    "     - 1063, 1028, 1054 - O1:P1 --> Shouldn't these be \"Pupil Size\" and \"Pupil Response\"?\n",
    "     - 1051 - T72:T73\n",
    "     - 1055 - V58, V81, V87\n",
    "     - 980 - T119, T121:T123\n",
    "     - 812 - G108 --> How did this label get here?\n",
    " - Missing Headers:\n",
    "     - _Sheet ID_ - _Description_\n",
    "     - 1046 - 'Vital Signs' column header missing\n",
    "     - 1052 - What is last column supposed to be? ICP2?"
   ]
  },
  {
   "cell_type": "code",
   "execution_count": 357,
   "metadata": {
    "collapsed": false
   },
   "outputs": [
    {
     "name": "stdout",
     "output_type": "stream",
     "text": [
      "<class 'pandas.core.frame.DataFrame'>\n",
      "Int64Index: 24592 entries, 0 to 106\n",
      "Data columns (total 26 columns):\n",
      "base_deficit_arterial    4094 non-null object\n",
      "base_excess_arterial     2679 non-null object\n",
      "blood_gases              6755 non-null object\n",
      "date                     24588 non-null datetime64[ns]\n",
      "date/time                24592 non-null datetime64[ns]\n",
      "hco3                     23 non-null float64\n",
      "hco3a                    6702 non-null object\n",
      "icp                      0 non-null float64\n",
      "icp1                     16183 non-null object\n",
      "icp2                     8828 non-null object\n",
      "map                      15862 non-null object\n",
      "paco2                    6723 non-null object\n",
      "pao2                     6726 non-null object\n",
      "pbto2                    24592 non-null float64\n",
      "pha                      6726 non-null object\n",
      "pupil_response           1664 non-null object\n",
      "pupil_response_l         6675 non-null object\n",
      "pupil_response_r         6643 non-null object\n",
      "pupil_size               2366 non-null object\n",
      "pupil_size_l             6695 non-null object\n",
      "pupil_size_r             6695 non-null object\n",
      "sao2                     4400 non-null object\n",
      "sheet_name               24592 non-null int64\n",
      "spo2                     23608 non-null object\n",
      "uid                      24592 non-null int64\n",
      "vital_signs              24259 non-null object\n",
      "dtypes: datetime64[ns](2), float64(3), int64(2), object(19)\n",
      "memory usage: 5.1+ MB\n"
     ]
    }
   ],
   "source": [
    "dt.info()"
   ]
  },
  {
   "cell_type": "markdown",
   "metadata": {},
   "source": [
    "## Field Examination"
   ]
  },
  {
   "cell_type": "markdown",
   "metadata": {},
   "source": [
    "### UID"
   ]
  },
  {
   "cell_type": "code",
   "execution_count": 358,
   "metadata": {
    "collapsed": false
   },
   "outputs": [
    {
     "data": {
      "text/plain": [
       "True    24592\n",
       "dtype: int64"
      ]
     },
     "execution_count": 358,
     "metadata": {},
     "output_type": "execute_result"
    }
   ],
   "source": [
    "(dt['uid'] == dt['sheet_name']).value_counts()"
   ]
  },
  {
   "cell_type": "code",
   "execution_count": 359,
   "metadata": {
    "collapsed": false
   },
   "outputs": [
    {
     "data": {
      "text/plain": [
       "[]"
      ]
     },
     "execution_count": 359,
     "metadata": {},
     "output_type": "execute_result"
    }
   ],
   "source": [
    "sorted(dt[dt['uid'] != dt['sheet_name']]['sheet_name'].unique())"
   ]
  },
  {
   "cell_type": "markdown",
   "metadata": {},
   "source": [
    "### Pupil Size"
   ]
  },
  {
   "cell_type": "code",
   "execution_count": 360,
   "metadata": {
    "collapsed": true
   },
   "outputs": [],
   "source": [
    "def type_counts(x):\n",
    "    return pd.Series([v.__class__.__name__ for v in x]).value_counts()"
   ]
  },
  {
   "cell_type": "code",
   "execution_count": 361,
   "metadata": {
    "collapsed": false
   },
   "outputs": [
    {
     "data": {
      "text/plain": [
       "NA                                                                       22226\n",
       "Left - 3mm, Right - 3mm                                                    820\n",
       "Left - 2mm, Right - 2mm                                                    567\n",
       "Left - 4mm, Right - 4mm                                                    176\n",
       "Left - 2mm, Right - 4mm                                                     77\n",
       "Left - 2mm, Right - 3mm                                                     73\n",
       "Left - 5mm, Right - 2mm                                                     71\n",
       "Left - 6mm, Right - 4mm                                                     61\n",
       "Left - 8mm, Right - 6mm                                                     60\n",
       "Left - 8mm, Right - 5mm                                                     47\n",
       "Left - 3mm, Right - 5mm                                                     35\n",
       "Left - 4mm, Right - 3mm                                                     32\n",
       "Left - 8mm, Right - 3mm                                                     31\n",
       "Left - 3mm, Right - 2mm                                                     31\n",
       "Left - 2mm, Right - 6mm                                                     29\n",
       "Left - 5mm, Right - 3mm                                                     28\n",
       "Left - 3mm, Right - 4mm                                                     26\n",
       "Left - 7mm, Right - 5mm                                                     24\n",
       "Left - 6mm, Right - 3mm                                                     14\n",
       "Left - 5mm, Right - 5mm                                                     12\n",
       "Left - 4mm, Right - 2mm                                                     12\n",
       "Left - 2mm, Right - 5mm                                                     11\n",
       "Left - 3mm, Right - 6mm                                                      9\n",
       "Left - 5mm, Right - 4mm                                                      8\n",
       "Left - Swollen shut, Right - 3mm                                             7\n",
       "Left - 7mm, Right - 3mm                                                      7\n",
       "Left - 3mm, Left - 4mm, Right - 3mm, Right - 4mm                             7\n",
       "Left - 7mm, Right - 4mm                                                      7\n",
       "Left - 6mm, Right - 6mm                                                      6\n",
       "Left - 2mm, Left - 3mm, Right - 2mm, Right - 3mm                             6\n",
       "                                                                         ...  \n",
       "Left - 4mm, Right - 6mm                                                      2\n",
       "Left - 6mm, Right - 1mm                                                      2\n",
       "Left - 4mm, Right - Swollen shut                                             2\n",
       " Left - 8mm, Right - 8mm                                                     2\n",
       "Left - 3mm, Left - 4mm, Right - 2mm, Right - 3mm                             2\n",
       "Left - 4mm, Left - 5mm, Right - 3mm                                          1\n",
       " Left - 3mm, Right - 4mm                                                     1\n",
       "Left - 5mm, Right - 3mm, Left - 3mm, Right - 4mm                             1\n",
       "Left - 3mm                                                                   1\n",
       "Left - 3mm, Left - 5mm, Right - 2mm, Right - 3mm                             1\n",
       " Left - 7mm, Right - 7mm                                                     1\n",
       "Left - 4mm, Left - 5mm, Right - 4mm, Right - 5mm                             1\n",
       "Left - 7mm, Right - 5mm, Right - 6mm                                         1\n",
       "Left - 2mm, Left - 3mm, Right - 4mm, Right - 5mm                             1\n",
       "Left - 2mm, Right - 7mm                                                      1\n",
       "Left - Unable to assess, Right - Unable to assess                            1\n",
       "Left - 7mm, Right - 6mm                                                      1\n",
       "Left - 7mm, Left - 8mm, Right - 4mm, Right - 5mm                             1\n",
       "Left - 8mm, Right - 2mm                                                      1\n",
       "Left - 8mm, Left - Swollen shut, Right - 5mm                                 1\n",
       "Left - 7mm, Left - 8mm, Left - Swollen shut, Right - 4mm, Right - 5mm        1\n",
       "Left - 8mm, Right - 3mm, Right - 4mm                                         1\n",
       "Left - 6mm, Right - 7mm                                                      1\n",
       "Left - 2mm, Right - 1mm                                                      1\n",
       "Left - 3mm, Left - Swollen shut, Right - 5mm                                 1\n",
       "Left - 6mm, Right - 5mm                                                      1\n",
       "Left - 8mm, Right - 8mm                                                      1\n",
       "Left - 7mm, Left - Swollen shut, Right - 4mm                                 1\n",
       "Left - 4mm, Right - 5mm                                                      1\n",
       "Left - 2mm, Right - Unable to assess                                         1\n",
       "dtype: int64"
      ]
     },
     "execution_count": 361,
     "metadata": {},
     "output_type": "execute_result"
    }
   ],
   "source": [
    "dt['pupil_size'].fillna('NA').value_counts()"
   ]
  },
  {
   "cell_type": "code",
   "execution_count": 362,
   "metadata": {
    "collapsed": false
   },
   "outputs": [
    {
     "data": {
      "text/plain": [
       "NA                  17897\n",
       "3.0                  2113\n",
       "2.0                  1471\n",
       "3mm                   944\n",
       "4.0                   568\n",
       "2mm                   559\n",
       "4mm                   252\n",
       "5.0                   240\n",
       "6.0                   113\n",
       "7.0                    87\n",
       "UTA                    80\n",
       "6mm                    68\n",
       "8.0                    60\n",
       "1mm                    50\n",
       "5mm                    26\n",
       "9.0                    20\n",
       "Unable to assess       12\n",
       "1.0                    11\n",
       "7mm                     8\n",
       "8mm                     7\n",
       "UTA                     1\n",
       " 8mm                    1\n",
       " 1mm                    1\n",
       "c 2mm                   1\n",
       "c 5mm                   1\n",
       "c 3mm                   1\n",
       "dtype: int64"
      ]
     },
     "execution_count": 362,
     "metadata": {},
     "output_type": "execute_result"
    }
   ],
   "source": [
    "dt['pupil_size_l'].fillna('NA').value_counts()"
   ]
  },
  {
   "cell_type": "code",
   "execution_count": 363,
   "metadata": {
    "collapsed": false
   },
   "outputs": [
    {
     "data": {
      "text/plain": [
       "NA                  17897\n",
       "3.0                  2046\n",
       "2.0                  1241\n",
       "3mm                   796\n",
       "4.0                   532\n",
       "2mm                   445\n",
       "4mm                   343\n",
       "5.0                   341\n",
       "6.0                   201\n",
       "8.0                   152\n",
       "8mm                   100\n",
       "9.0                    79\n",
       "1mm                    74\n",
       "7.0                    72\n",
       "UTA                    67\n",
       "Unable to assess       51\n",
       "6mm                    49\n",
       "5mm                    40\n",
       "7mm                    23\n",
       "1.0                    21\n",
       "REyeSwl                 7\n",
       "2.5                     5\n",
       "c 3mm                   3\n",
       "Swollen shut            2\n",
       " 8mm                    1\n",
       "c 4mm                   1\n",
       "c 2mm                   1\n",
       "c 5mm                   1\n",
       " 1mm                    1\n",
       "dtype: int64"
      ]
     },
     "execution_count": 363,
     "metadata": {},
     "output_type": "execute_result"
    }
   ],
   "source": [
    "dt['pupil_size_r'].fillna('NA').value_counts()"
   ]
  },
  {
   "cell_type": "code",
   "execution_count": 364,
   "metadata": {
    "collapsed": false
   },
   "outputs": [
    {
     "data": {
      "text/plain": [
       "float    22226\n",
       "str       2366\n",
       "dtype: int64"
      ]
     },
     "execution_count": 364,
     "metadata": {},
     "output_type": "execute_result"
    }
   ],
   "source": [
    "type_counts(dt['pupil_size'])"
   ]
  },
  {
   "cell_type": "code",
   "execution_count": 365,
   "metadata": {
    "collapsed": false
   },
   "outputs": [
    {
     "name": "stdout",
     "output_type": "stream",
     "text": [
      "Ids with issues:  []\n",
      "Example invalid values: []\n"
     ]
    }
   ],
   "source": [
    "dprob = dt[dt['pupil_size'].apply(lambda x: not isinstance(x, str) and not pd.isnull(x))]\n",
    "print('Ids with issues: ', dprob['uid'].unique())\n",
    "print('Example invalid values:', dprob['pupil_size'].unique()[:3])"
   ]
  },
  {
   "cell_type": "code",
   "execution_count": 411,
   "metadata": {
    "collapsed": false
   },
   "outputs": [
    {
     "name": "stdout",
     "output_type": "stream",
     "text": [
      "<class 'pandas.core.frame.DataFrame'>\n",
      "Int64Index: 24592 entries, 0 to 106\n",
      "Data columns (total 2 columns):\n",
      "pupil_size_l    7033 non-null float64\n",
      "pupil_size_r    7045 non-null float64\n",
      "dtypes: float64(2)\n",
      "memory usage: 576.4 KB\n"
     ]
    }
   ],
   "source": [
    "PS_SIZE_REGEX = re.compile('(\\d+)mm')\n",
    "PS_LEFT_REGEX = re.compile('left - (\\d+)mm')\n",
    "PS_RIGHT_REGEX = re.compile('right - (\\d+)mm')\n",
    "\n",
    "def split_pupil_size(d):\n",
    "    def find_value(x, regex):\n",
    "        \"\"\" Extract numeric pupil size in mm from value (using given regex), if it exists\"\"\"\n",
    "        try:\n",
    "            return regex.findall(x.lower())[0]\n",
    "        except:\n",
    "            return None\n",
    "    d['pupil_size_l2'] = d['pupil_size'].apply(find_value, args=(PS_LEFT_REGEX,))\n",
    "    d['pupil_size_r2'] = d['pupil_size'].apply(find_value, args=(PS_RIGHT_REGEX,))\n",
    "    return d.drop('pupil_size', axis=1)\n",
    "\n",
    "\n",
    "def convert_pupil_size(x):\n",
    "    if pd.isnull(x) or isinstance(x, datetime.datetime):\n",
    "        return None\n",
    "    try:\n",
    "        return float(x)\n",
    "    except:\n",
    "        try:\n",
    "            float(PS_SIZE_REGEX.findall(x.lower())[0])\n",
    "        except:\n",
    "            return None\n",
    "        \n",
    "def prep_pupil_size(d):\n",
    "    d = split_pupil_size(d)\n",
    "    d['pupil_size_l'] = d['pupil_size_l'].apply(convert_pupil_size)\n",
    "    d['pupil_size_r'] = d['pupil_size_r'].apply(convert_pupil_size)\n",
    "    d['pupil_size_l2'] = d['pupil_size_l2'].apply(convert_pupil_size)\n",
    "    d['pupil_size_r2'] = d['pupil_size_r2'].apply(convert_pupil_size)\n",
    "    d['pupil_size_l'] = np.where(d['pupil_size_l'].isnull(), d['pupil_size_l2'], d['pupil_size_l'])\n",
    "    d['pupil_size_r'] = np.where(d['pupil_size_r'].isnull(), d['pupil_size_r2'], d['pupil_size_r'])\n",
    "    d['pupil_size_l'] = d['pupil_size_l'].astype(np.float64)\n",
    "    d['pupil_size_r'] = d['pupil_size_r'].astype(np.float64)\n",
    "    d = d.drop(['pupil_size_l2', 'pupil_size_r2'], axis=1)\n",
    "    return d\n",
    "\n",
    "x = prep_pupil_size(dt.copy())\n",
    "x[['pupil_size_l', 'pupil_size_r']].info()"
   ]
  },
  {
   "cell_type": "markdown",
   "metadata": {},
   "source": [
    "### Pupil Response"
   ]
  },
  {
   "cell_type": "code",
   "execution_count": 367,
   "metadata": {
    "collapsed": false
   },
   "outputs": [
    {
     "data": {
      "text/plain": [
       "NA                                                                22928\n",
       "Left - Brisk, Right - Brisk                                         853\n",
       "Left - Nonreactive, Right - Nonreactive                             188\n",
       "Left - Sluggish, Right - Brisk                                      159\n",
       "Left - Sluggish, Right - Sluggish                                   152\n",
       "Left - Brisk, Right - Sluggish                                      103\n",
       "Left - Fixed, Right - Sluggish                                       42\n",
       "Left - Fixed, Right - Fixed                                          40\n",
       "Left - Fixed, Right - Brisk                                          31\n",
       "Left - Nonreactive, Right - Brisk                                    17\n",
       "Left - Brisk, Right - Nonreactive                                    17\n",
       "Left - Nonreactive, Left - Fixed, Right - Sluggish                   17\n",
       "Left - Brisk, Right - Fixed                                          14\n",
       "Left - Nonreactive, Right - Sluggish                                  7\n",
       "Left - Nonreactive, Left - Fixed, Right - Brisk                       5\n",
       "Left - Brisk                                                          2\n",
       "Left - Nonreactive, Left - Fixed                                      2\n",
       "Left - Sluggish, Right - Nonreactive                                  2\n",
       "Left - Sluggish                                                       2\n",
       " Left - Sluggish, Right - Fixed                                       2\n",
       "Left - Brisk, Right - Brisk, Left - Brisk, Right - Brisk              1\n",
       "c Left - Brisk, Right - Brisk                                         1\n",
       "c Left - Sluggish, Right - Sluggish                                   1\n",
       "Left - Sluggish, Right - Brisk, Left - Sluggish, Right - Brisk        1\n",
       " Left - Nonreactive, Right - Nonreactive                              1\n",
       "c Left - Sluggish, Right - Brisk                                      1\n",
       "Left - Nonreactive, Right - Fixed                                     1\n",
       "Left - Brisk, Left - Sluggish, Right - Brisk, Right - Sluggish        1\n",
       " Left - Sluggish, Right - Sluggish                                    1\n",
       "dtype: int64"
      ]
     },
     "execution_count": 367,
     "metadata": {},
     "output_type": "execute_result"
    }
   ],
   "source": [
    "dt['pupil_response'].fillna('NA').value_counts()"
   ]
  },
  {
   "cell_type": "code",
   "execution_count": 369,
   "metadata": {
    "collapsed": false
   },
   "outputs": [
    {
     "data": {
      "text/plain": [
       "NA             17949\n",
       "Brisk           4513\n",
       "Fixed           1130\n",
       "Sluggish         675\n",
       "Nonreactive      232\n",
       "UTA               74\n",
       "Brisk             10\n",
       "Fixed              3\n",
       "Birsk              3\n",
       "c Sluggish         1\n",
       "Sluggish           1\n",
       " Fixed             1\n",
       "dtype: int64"
      ]
     },
     "execution_count": 369,
     "metadata": {},
     "output_type": "execute_result"
    }
   ],
   "source": [
    "dt['pupil_response_r'].fillna('NA').value_counts()"
   ]
  },
  {
   "cell_type": "code",
   "execution_count": 370,
   "metadata": {
    "collapsed": false
   },
   "outputs": [
    {
     "data": {
      "text/plain": [
       "NA               17917\n",
       "Brisk             4972\n",
       "Fixed              821\n",
       "Sluggish           582\n",
       "Nonreactive        154\n",
       "UTA                 81\n",
       "Sluggish            55\n",
       "c Nonreactive        2\n",
       "c Sluggish           1\n",
       " Sluggish            1\n",
       "Brisk                1\n",
       "Fixed                1\n",
       "Birsk                1\n",
       "c Brisk              1\n",
       "Brsik                1\n",
       " Fixed               1\n",
       "dtype: int64"
      ]
     },
     "execution_count": 370,
     "metadata": {},
     "output_type": "execute_result"
    }
   ],
   "source": [
    "dt['pupil_response_l'].fillna('NA').value_counts()"
   ]
  },
  {
   "cell_type": "code",
   "execution_count": 403,
   "metadata": {
    "collapsed": false
   },
   "outputs": [
    {
     "name": "stdout",
     "output_type": "stream",
     "text": [
      "<class 'pandas.core.frame.DataFrame'>\n",
      "Int64Index: 24592 entries, 0 to 106\n",
      "Data columns (total 2 columns):\n",
      "pupil_response_l    8339 non-null object\n",
      "pupil_response_r    8301 non-null object\n",
      "dtypes: object(2)\n",
      "memory usage: 576.4+ KB\n"
     ]
    }
   ],
   "source": [
    "PR_TYPES = 'sluggish|fixed|nonreactive|uta|brisk|brsik|birsk'\n",
    "PR_TYPE_REGEX = re.compile('({})'.format(PR_TYPES))\n",
    "PR_LEFT_REGEX = re.compile('left - ({})'.format(PR_TYPES))\n",
    "PR_RIGHT_REGEX = re.compile('right - ({})'.format(PR_TYPES))\n",
    "\n",
    "def split_pupil_response(d):\n",
    "    def find_value(x, regex):\n",
    "        \"\"\" Extract numeric pupil response category from value (using given regex), if it exists\"\"\"\n",
    "        try:\n",
    "            return regex.findall(x.lower())[0]\n",
    "        except:\n",
    "            return None\n",
    "    d['pupil_response_l2'] = d['pupil_response'].apply(find_value, args=(PR_LEFT_REGEX,))\n",
    "    d['pupil_response_r2'] = d['pupil_response'].apply(find_value, args=(PR_RIGHT_REGEX,))\n",
    "    return d.drop('pupil_response', axis=1)\n",
    "\n",
    "\n",
    "def convert_pupil_response(x):\n",
    "    if pd.isnull(x) or isinstance(x, datetime.datetime):\n",
    "        return None\n",
    "    try:\n",
    "        res = PR_TYPE_REGEX.findall(x.lower())[0]\n",
    "        return {'bikrs': 'brisk'}.get(''.join(sorted(res)), res)\n",
    "    except:\n",
    "        return None\n",
    "        \n",
    "def prep_pupil_response(d):\n",
    "    d = split_pupil_response(d)\n",
    "    d['pupil_response_l'] = d['pupil_response_l'].apply(convert_pupil_response)\n",
    "    d['pupil_response_r'] = d['pupil_response_r'].apply(convert_pupil_response)\n",
    "    d['pupil_response_l2'] = d['pupil_response_l2'].apply(convert_pupil_response)\n",
    "    d['pupil_response_r2'] = d['pupil_response_r2'].apply(convert_pupil_response)\n",
    "    d['pupil_response_l'] = np.where(d['pupil_response_l'].isnull(), d['pupil_response_l2'], d['pupil_response_l'])\n",
    "    d['pupil_response_r'] = np.where(d['pupil_response_r'].isnull(), d['pupil_response_r2'], d['pupil_response_r'])\n",
    "    d = d.drop(['pupil_response_l2', 'pupil_response_r2'], axis=1)\n",
    "    return d\n",
    "\n",
    "x = prep_pupil_response(dt.copy())\n",
    "x[['pupil_response_l', 'pupil_response_r']].info()"
   ]
  },
  {
   "cell_type": "code",
   "execution_count": 382,
   "metadata": {
    "collapsed": false
   },
   "outputs": [
    {
     "data": {
      "text/plain": [
       "True     17949\n",
       "False     6643\n",
       "dtype: int64"
      ]
     },
     "execution_count": 382,
     "metadata": {},
     "output_type": "execute_result"
    }
   ],
   "source": [
    "dt['pupil_response_r'].isnull().value_counts()"
   ]
  },
  {
   "cell_type": "code",
   "execution_count": 397,
   "metadata": {
    "collapsed": false
   },
   "outputs": [
    {
     "data": {
      "text/plain": [
       "True     22928\n",
       "False     1664\n",
       "dtype: int64"
      ]
     },
     "execution_count": 397,
     "metadata": {},
     "output_type": "execute_result"
    }
   ],
   "source": [
    "# There are some pupil response values that have only left pupil values, not right\n",
    "dt['pupil_response'].isnull().value_counts()"
   ]
  },
  {
   "cell_type": "markdown",
   "metadata": {},
   "source": [
    "### Blood Gases"
   ]
  },
  {
   "cell_type": "code",
   "execution_count": 432,
   "metadata": {
    "collapsed": false
   },
   "outputs": [
    {
     "data": {
      "text/plain": [
       "NaTType     14110\n",
       "datetime     6754\n",
       "float        3727\n",
       "str             1\n",
       "dtype: int64"
      ]
     },
     "execution_count": 432,
     "metadata": {},
     "output_type": "execute_result"
    }
   ],
   "source": [
    "type_counts(dt['blood_gases'])"
   ]
  },
  {
   "cell_type": "code",
   "execution_count": 433,
   "metadata": {
    "collapsed": false
   },
   "outputs": [
    {
     "data": {
      "text/plain": [
       "NaTType      17838\n",
       "Timestamp     6754\n",
       "dtype: int64"
      ]
     },
     "execution_count": 433,
     "metadata": {},
     "output_type": "execute_result"
    }
   ],
   "source": [
    "def prep_blood_gases(d):\n",
    "    def convert(x):\n",
    "        r = pd.to_datetime(x)\n",
    "        return r if isinstance(r, pd.Timestamp) else None\n",
    "    d['blood_gases'] = d['blood_gases'].apply(convert)\n",
    "    return d\n",
    "\n",
    "x = prep_blood_gases(dt.copy())\n",
    "type_counts(x['blood_gases'])"
   ]
  },
  {
   "cell_type": "markdown",
   "metadata": {},
   "source": [
    "### Base Deficit Arterial"
   ]
  },
  {
   "cell_type": "code",
   "execution_count": 434,
   "metadata": {
    "collapsed": false
   },
   "outputs": [
    {
     "data": {
      "text/plain": [
       "float    24401\n",
       "int        170\n",
       "str         21\n",
       "dtype: int64"
      ]
     },
     "execution_count": 434,
     "metadata": {},
     "output_type": "execute_result"
    }
   ],
   "source": [
    "type_counts(dt['base_deficit_arterial'])"
   ]
  },
  {
   "cell_type": "code",
   "execution_count": 438,
   "metadata": {
    "collapsed": false
   },
   "outputs": [
    {
     "data": {
      "text/plain": [
       "float64    24592\n",
       "dtype: int64"
      ]
     },
     "execution_count": 438,
     "metadata": {},
     "output_type": "execute_result"
    }
   ],
   "source": [
    "def prep_base_deficit(d):\n",
    "    def convert(x):\n",
    "        try:\n",
    "            return float(x)\n",
    "        except:\n",
    "            try:\n",
    "                return float(x.split(',')[0].replace('n', '').strip())\n",
    "            except:\n",
    "                return None\n",
    "    d['base_deficit_arterial'] = d['base_deficit_arterial'].apply(convert)\n",
    "    return d\n",
    "\n",
    "x = prep_base_deficit(dt.copy())\n",
    "type_counts(x['base_deficit_arterial'])"
   ]
  },
  {
   "cell_type": "markdown",
   "metadata": {},
   "source": []
  },
  {
   "cell_type": "markdown",
   "metadata": {},
   "source": [
    "### Prep"
   ]
  },
  {
   "cell_type": "code",
   "execution_count": 412,
   "metadata": {
    "collapsed": false
   },
   "outputs": [
    {
     "name": "stdout",
     "output_type": "stream",
     "text": [
      "<class 'pandas.core.frame.DataFrame'>\n",
      "Int64Index: 24592 entries, 0 to 106\n",
      "Data columns (total 24 columns):\n",
      "base_deficit_arterial    4094 non-null object\n",
      "base_excess_arterial     2679 non-null object\n",
      "blood_gases              6755 non-null object\n",
      "date                     24588 non-null datetime64[ns]\n",
      "date/time                24592 non-null datetime64[ns]\n",
      "hco3                     23 non-null float64\n",
      "hco3a                    6702 non-null object\n",
      "icp                      0 non-null float64\n",
      "icp1                     16183 non-null object\n",
      "icp2                     8828 non-null object\n",
      "map                      15862 non-null object\n",
      "paco2                    6723 non-null object\n",
      "pao2                     6726 non-null object\n",
      "pbto2                    24592 non-null float64\n",
      "pha                      6726 non-null object\n",
      "pupil_response_l         8339 non-null object\n",
      "pupil_response_r         8301 non-null object\n",
      "pupil_size_l             7033 non-null float64\n",
      "pupil_size_r             7045 non-null float64\n",
      "sao2                     4400 non-null object\n",
      "sheet_name               24592 non-null int64\n",
      "spo2                     23608 non-null object\n",
      "uid                      24592 non-null int64\n",
      "vital_signs              24259 non-null object\n",
      "dtypes: datetime64[ns](2), float64(5), int64(2), object(15)\n",
      "memory usage: 4.7+ MB\n"
     ]
    }
   ],
   "source": [
    "dex = dt.copy()\n",
    "dex = prep_pupil_size(dex)\n",
    "dex = prep_pupil_response(dex)\n",
    "dex.info()"
   ]
  },
  {
   "cell_type": "code",
   "execution_count": 418,
   "metadata": {
    "collapsed": false
   },
   "outputs": [
    {
     "data": {
      "text/plain": [
       "3.0    3068\n",
       "2.0    1945\n",
       "4.0     902\n",
       "5.0     475\n",
       "6.0     308\n",
       "8.0     155\n",
       "9.0      79\n",
       "7.0      78\n",
       "1.0      30\n",
       "2.5       5\n",
       "dtype: int64"
      ]
     },
     "execution_count": 418,
     "metadata": {},
     "output_type": "execute_result"
    }
   ],
   "source": [
    "dex['pupil_size_r'].value_counts()"
   ]
  },
  {
   "cell_type": "code",
   "execution_count": 16,
   "metadata": {
    "collapsed": false
   },
   "outputs": [
    {
     "data": {
      "text/html": [
       "<div>\n",
       "<table border=\"1\" class=\"dataframe\">\n",
       "  <thead>\n",
       "    <tr style=\"text-align: right;\">\n",
       "      <th></th>\n",
       "      <th>Base Deficit, Arterial</th>\n",
       "      <th>Base Excess, Arterial</th>\n",
       "      <th>Blood Gases</th>\n",
       "      <th>Date</th>\n",
       "      <th>Date/Time</th>\n",
       "      <th>HCO3</th>\n",
       "      <th>HCO3a</th>\n",
       "      <th>ICP</th>\n",
       "      <th>ICP 1</th>\n",
       "      <th>ICP 1</th>\n",
       "      <th>...</th>\n",
       "      <th>Unnamed: 14</th>\n",
       "      <th>Unnamed: 18</th>\n",
       "      <th>Unnamed: 19</th>\n",
       "      <th>Unnamed: 20</th>\n",
       "      <th>Unnamed: 21</th>\n",
       "      <th>Unnamed: 4</th>\n",
       "      <th>Vital Signs</th>\n",
       "      <th>pHa</th>\n",
       "      <th>right pupil response</th>\n",
       "      <th>right pupil size</th>\n",
       "    </tr>\n",
       "  </thead>\n",
       "  <tbody>\n",
       "    <tr>\n",
       "      <th>0</th>\n",
       "      <td>NaN</td>\n",
       "      <td>NaN</td>\n",
       "      <td>NaN</td>\n",
       "      <td>2012-11-11</td>\n",
       "      <td>2012-11-11 17:00:00</td>\n",
       "      <td>NaN</td>\n",
       "      <td>NaN</td>\n",
       "      <td>NaN</td>\n",
       "      <td>22</td>\n",
       "      <td>NaN</td>\n",
       "      <td>...</td>\n",
       "      <td>NaN</td>\n",
       "      <td>NaN</td>\n",
       "      <td>NaN</td>\n",
       "      <td>NaN</td>\n",
       "      <td>NaN</td>\n",
       "      <td>NaT</td>\n",
       "      <td>2012-11-11 17:00:00</td>\n",
       "      <td>NaN</td>\n",
       "      <td>NaN</td>\n",
       "      <td>NaN</td>\n",
       "    </tr>\n",
       "    <tr>\n",
       "      <th>1</th>\n",
       "      <td>NaN</td>\n",
       "      <td>NaN</td>\n",
       "      <td>NaN</td>\n",
       "      <td>2012-11-11</td>\n",
       "      <td>2012-11-11 18:00:00</td>\n",
       "      <td>NaN</td>\n",
       "      <td>NaN</td>\n",
       "      <td>NaN</td>\n",
       "      <td>10</td>\n",
       "      <td>NaN</td>\n",
       "      <td>...</td>\n",
       "      <td>NaN</td>\n",
       "      <td>NaN</td>\n",
       "      <td>NaN</td>\n",
       "      <td>NaN</td>\n",
       "      <td>NaN</td>\n",
       "      <td>NaT</td>\n",
       "      <td>2012-11-11 18:00:00</td>\n",
       "      <td>NaN</td>\n",
       "      <td>NaN</td>\n",
       "      <td>NaN</td>\n",
       "    </tr>\n",
       "    <tr>\n",
       "      <th>2</th>\n",
       "      <td>NaN</td>\n",
       "      <td>1</td>\n",
       "      <td>2012-11-11 20:20:00</td>\n",
       "      <td>2012-11-11</td>\n",
       "      <td>2012-11-11 20:00:00</td>\n",
       "      <td>NaN</td>\n",
       "      <td>24</td>\n",
       "      <td>NaN</td>\n",
       "      <td>1</td>\n",
       "      <td>NaN</td>\n",
       "      <td>...</td>\n",
       "      <td>NaN</td>\n",
       "      <td>NaN</td>\n",
       "      <td>NaN</td>\n",
       "      <td>NaN</td>\n",
       "      <td>NaN</td>\n",
       "      <td>NaT</td>\n",
       "      <td>2012-11-11 20:00:00</td>\n",
       "      <td>7.45</td>\n",
       "      <td>NaN</td>\n",
       "      <td>NaN</td>\n",
       "    </tr>\n",
       "    <tr>\n",
       "      <th>3</th>\n",
       "      <td>NaN</td>\n",
       "      <td>NaN</td>\n",
       "      <td>NaN</td>\n",
       "      <td>2012-11-11</td>\n",
       "      <td>2012-11-11 21:00:00</td>\n",
       "      <td>NaN</td>\n",
       "      <td>NaN</td>\n",
       "      <td>NaN</td>\n",
       "      <td>7</td>\n",
       "      <td>NaN</td>\n",
       "      <td>...</td>\n",
       "      <td>NaN</td>\n",
       "      <td>NaN</td>\n",
       "      <td>NaN</td>\n",
       "      <td>NaN</td>\n",
       "      <td>NaN</td>\n",
       "      <td>NaT</td>\n",
       "      <td>2012-11-11 21:00:00</td>\n",
       "      <td>NaN</td>\n",
       "      <td>NaN</td>\n",
       "      <td>NaN</td>\n",
       "    </tr>\n",
       "    <tr>\n",
       "      <th>4</th>\n",
       "      <td>NaN</td>\n",
       "      <td>NaN</td>\n",
       "      <td>NaN</td>\n",
       "      <td>2012-11-11</td>\n",
       "      <td>2012-11-11 22:00:00</td>\n",
       "      <td>NaN</td>\n",
       "      <td>NaN</td>\n",
       "      <td>NaN</td>\n",
       "      <td>6</td>\n",
       "      <td>NaN</td>\n",
       "      <td>...</td>\n",
       "      <td>NaN</td>\n",
       "      <td>NaN</td>\n",
       "      <td>NaN</td>\n",
       "      <td>NaN</td>\n",
       "      <td>NaN</td>\n",
       "      <td>NaT</td>\n",
       "      <td>2012-11-11 22:00:00</td>\n",
       "      <td>NaN</td>\n",
       "      <td>NaN</td>\n",
       "      <td>NaN</td>\n",
       "    </tr>\n",
       "  </tbody>\n",
       "</table>\n",
       "<p>5 rows × 45 columns</p>\n",
       "</div>"
      ],
      "text/plain": [
       "  Base Deficit, Arterial Base Excess, Arterial          Blood Gases  \\\n",
       "0                    NaN                   NaN                  NaN   \n",
       "1                    NaN                   NaN                  NaN   \n",
       "2                    NaN                     1  2012-11-11 20:20:00   \n",
       "3                    NaN                   NaN                  NaN   \n",
       "4                    NaN                   NaN                  NaN   \n",
       "\n",
       "        Date           Date/Time  HCO3 HCO3a  ICP ICP 1 ICP 1   \\\n",
       "0 2012-11-11 2012-11-11 17:00:00   NaN   NaN  NaN    22    NaN   \n",
       "1 2012-11-11 2012-11-11 18:00:00   NaN   NaN  NaN    10    NaN   \n",
       "2 2012-11-11 2012-11-11 20:00:00   NaN    24  NaN     1    NaN   \n",
       "3 2012-11-11 2012-11-11 21:00:00   NaN   NaN  NaN     7    NaN   \n",
       "4 2012-11-11 2012-11-11 22:00:00   NaN   NaN  NaN     6    NaN   \n",
       "\n",
       "        ...        Unnamed: 14 Unnamed: 18  Unnamed: 19 Unnamed: 20  \\\n",
       "0       ...                NaN         NaN          NaN         NaN   \n",
       "1       ...                NaN         NaN          NaN         NaN   \n",
       "2       ...                NaN         NaN          NaN         NaN   \n",
       "3       ...                NaN         NaN          NaN         NaN   \n",
       "4       ...                NaN         NaN          NaN         NaN   \n",
       "\n",
       "  Unnamed: 21 Unnamed: 4          Vital Signs   pHa  right pupil response  \\\n",
       "0         NaN        NaT  2012-11-11 17:00:00   NaN                   NaN   \n",
       "1         NaN        NaT  2012-11-11 18:00:00   NaN                   NaN   \n",
       "2         NaN        NaT  2012-11-11 20:00:00  7.45                   NaN   \n",
       "3         NaN        NaT  2012-11-11 21:00:00   NaN                   NaN   \n",
       "4         NaN        NaT  2012-11-11 22:00:00   NaN                   NaN   \n",
       "\n",
       "  right pupil size  \n",
       "0              NaN  \n",
       "1              NaN  \n",
       "2              NaN  \n",
       "3              NaN  \n",
       "4              NaN  \n",
       "\n",
       "[5 rows x 45 columns]"
      ]
     },
     "execution_count": 16,
     "metadata": {},
     "output_type": "execute_result"
    }
   ],
   "source": [
    "import functools\n",
    "measures = functools.reduce(pd.DataFrame.append, [d[k] for k in d_sheet])\n",
    "measures.head()"
   ]
  },
  {
   "cell_type": "code",
   "execution_count": null,
   "metadata": {
    "collapsed": true
   },
   "outputs": [],
   "source": []
  }
 ],
 "metadata": {
  "kernelspec": {
   "display_name": "Python 3",
   "language": "python",
   "name": "python3"
  },
  "language_info": {
   "codemirror_mode": {
    "name": "ipython",
    "version": 3
   },
   "file_extension": ".py",
   "mimetype": "text/x-python",
   "name": "python",
   "nbconvert_exporter": "python",
   "pygments_lexer": "ipython3",
   "version": "3.4.3"
  }
 },
 "nbformat": 4,
 "nbformat_minor": 0
}
