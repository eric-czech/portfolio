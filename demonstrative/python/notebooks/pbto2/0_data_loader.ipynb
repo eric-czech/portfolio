{
 "cells": [
  {
   "cell_type": "code",
   "execution_count": 2,
   "metadata": {
    "collapsed": false
   },
   "outputs": [
    {
     "name": "stdout",
     "output_type": "stream",
     "text": [
      "The rpy2.ipython extension is already loaded. To reload it, use:\n",
      "  %reload_ext rpy2.ipython\n"
     ]
    }
   ],
   "source": [
    "%matplotlib inline\n",
    "%load_ext rpy2.ipython\n",
    "import re\n",
    "import functools\n",
    "import datetime\n",
    "from pbto2 import prep"
   ]
  },
  {
   "cell_type": "code",
   "execution_count": 3,
   "metadata": {
    "collapsed": false
   },
   "outputs": [
    {
     "data": {
      "text/plain": [
       "<module 'pbto2.prep' from '/Users/eczech/repos/portfolio/functional/ml/python/pbto2/prep.py'>"
      ]
     },
     "execution_count": 3,
     "metadata": {},
     "output_type": "execute_result"
    }
   ],
   "source": [
    "import imp\n",
    "imp.reload(prep)"
   ]
  },
  {
   "cell_type": "code",
   "execution_count": 106,
   "metadata": {
    "collapsed": false
   },
   "outputs": [],
   "source": [
    "d = pd.read_excel('/Users/eczech/data/ptbo2/pbto2_20151023_clean.xlsx', None)"
   ]
  },
  {
   "cell_type": "code",
   "execution_count": 107,
   "metadata": {
    "collapsed": false
   },
   "outputs": [
    {
     "data": {
      "text/plain": [
       "(339, ['Outcome', 'BO2&Injy time', 'Marsh & 12mGOS', 'Demographics'])"
      ]
     },
     "execution_count": 107,
     "metadata": {},
     "output_type": "execute_result"
    }
   ],
   "source": [
    "is_num = lambda x: re.compile('^\\d+$').match(x) is not None\n",
    "d_sheet = [k for k in d.keys() if is_num(k)]\n",
    "o_sheet = [k for k in d.keys() if k not in d_sheet]\n",
    "len(d_sheet), o_sheet"
   ]
  },
  {
   "cell_type": "markdown",
   "metadata": {},
   "source": [
    "# Measurements"
   ]
  },
  {
   "cell_type": "markdown",
   "metadata": {},
   "source": [
    "## Data Exploration"
   ]
  },
  {
   "cell_type": "code",
   "execution_count": 108,
   "metadata": {
    "collapsed": false
   },
   "outputs": [
    {
     "data": {
      "text/plain": [
       "array(['base_deficit_arterial', 'base_excess_arterial', 'blood_gases',\n",
       "       'date', 'date/time', 'hco3', 'hco3a', 'icp', 'icp1', 'icp2', 'map',\n",
       "       'paco2', 'pao2', 'pbto2', 'pha', 'pupil_response',\n",
       "       'pupil_response_l', 'pupil_response_r', 'pupil_size',\n",
       "       'pupil_size_l', 'pupil_size_r', 'sao2', 'spo2', 'uid',\n",
       "       'unnamed:_14', 'unnamed:_19', 'vital_signs', None], dtype=object)"
      ]
     },
     "execution_count": 108,
     "metadata": {},
     "output_type": "execute_result"
    }
   ],
   "source": [
    "# Find the unique set of all columns that appear in data sheets\n",
    "col_lists = [[prep.normalize_col(c) for c in d[k].columns.tolist()] for k in d_sheet]\n",
    "pd.Series(pd.DataFrame(col_lists).values.ravel()).order().unique()"
   ]
  },
  {
   "cell_type": "code",
   "execution_count": 53,
   "metadata": {
    "collapsed": false
   },
   "outputs": [
    {
     "name": "stdout",
     "output_type": "stream",
     "text": [
      "<class 'pandas.core.frame.DataFrame'>\n",
      "Int64Index: 24591 entries, 0 to 114\n",
      "Data columns (total 28 columns):\n",
      "base_deficit_arterial    4094 non-null object\n",
      "base_excess_arterial     2679 non-null object\n",
      "blood_gases              6754 non-null object\n",
      "date                     24587 non-null datetime64[ns]\n",
      "date/time                24591 non-null datetime64[ns]\n",
      "hco3                     23 non-null float64\n",
      "hco3a                    6702 non-null object\n",
      "icp                      0 non-null float64\n",
      "icp1                     16183 non-null object\n",
      "icp2                     8828 non-null object\n",
      "map                      15862 non-null object\n",
      "paco2                    6723 non-null object\n",
      "pao2                     6726 non-null object\n",
      "pbto2                    24591 non-null float64\n",
      "pha                      6726 non-null object\n",
      "pupil_response           1664 non-null object\n",
      "pupil_response_l         6675 non-null object\n",
      "pupil_response_r         6643 non-null object\n",
      "pupil_size               2366 non-null object\n",
      "pupil_size_l             6695 non-null object\n",
      "pupil_size_r             6695 non-null object\n",
      "sao2                     4400 non-null object\n",
      "sheet_name               24591 non-null int64\n",
      "spo2                     23608 non-null object\n",
      "uid                      24591 non-null int64\n",
      "unnamed:_14              0 non-null float64\n",
      "unnamed:_19              4 non-null float64\n",
      "vital_signs              24259 non-null object\n",
      "dtypes: datetime64[ns](2), float64(5), int64(2), object(19)\n",
      "memory usage: 5.4+ MB\n"
     ]
    }
   ],
   "source": [
    "# Load all measurement sheets into a single data frame\n",
    "dt = prep.find_sheets_by_col(d, d_sheet, None)\n",
    "#dt = dt[dt['pupil_size'] != 'Neurological Assessments']\n",
    "dt.info()"
   ]
  },
  {
   "cell_type": "markdown",
   "metadata": {},
   "source": [
    "#### Account for \"unnamed\" Columns"
   ]
  },
  {
   "cell_type": "code",
   "execution_count": 54,
   "metadata": {
    "collapsed": false
   },
   "outputs": [
    {
     "data": {
      "text/html": [
       "<div>\n",
       "<table border=\"1\" class=\"dataframe\">\n",
       "  <thead>\n",
       "    <tr style=\"text-align: right;\">\n",
       "      <th></th>\n",
       "      <th>unnamed:_14</th>\n",
       "      <th>unnamed:_19</th>\n",
       "    </tr>\n",
       "    <tr>\n",
       "      <th>sheet_name</th>\n",
       "      <th></th>\n",
       "      <th></th>\n",
       "    </tr>\n",
       "  </thead>\n",
       "  <tbody>\n",
       "  </tbody>\n",
       "</table>\n",
       "</div>"
      ],
      "text/plain": [
       "Empty DataFrame\n",
       "Columns: [unnamed:_14, unnamed:_19]\n",
       "Index: []"
      ]
     },
     "execution_count": 54,
     "metadata": {},
     "output_type": "execute_result"
    }
   ],
   "source": [
    "dt[~dt['sheet_name'].isin([1051, 1055, 1046, 1052, 980])]\\\n",
    "    .set_index('sheet_name')[[c for c in dt if 'unnamed' in c]]\\\n",
    "    .dropna(how='all', axis=0).iloc[:50,:]\n",
    "# This should be empty if all \"Unnamed\" column issues have been addressed.\n",
    "# This involves at least the following updates to the input spreadsheet:\n",
    "# - Add 'Vital Signs' header for patient 1046\n",
    "# - Change ICP header for patient 1052 to ICP1 and ICP2"
   ]
  },
  {
   "cell_type": "code",
   "execution_count": 55,
   "metadata": {
    "collapsed": true
   },
   "outputs": [],
   "source": [
    "dt = dt.drop([c for c in dt if 'unnamed' in c], axis=1)"
   ]
  },
  {
   "cell_type": "markdown",
   "metadata": {},
   "source": [
    "#### Known Issue Adjustments"
   ]
  },
  {
   "cell_type": "markdown",
   "metadata": {},
   "source": [
    "### Questions\n",
    "\n",
    " - Why are there ~300 patients with demographic data but no other data?\n",
    "    - Number of total patient UIDs across all datasets = 622\n",
    "    - Number of UIDs not in 'Marsh & 12mGOS' sheet = 307\n",
    "    - Number of UIDs not in 'Outcome' sheet = 287\n",
    "    - Number of UIDs not in 'BO2&Injy time' sheet = 283\n",
    "    - Number of UIDs that don't have individual vitals sheets = 283\n",
    "    - Number of UIDs not in 'Demographics' sheet = 0 (many of the UIDs in this sheet appear nowhere else)\n",
    " - Why do these patients have injury times in the 'Demographics' sheet that are AFTER the first recorded vital signs?\n",
    "     - Bad patient UIDs: 611, 643, 659, 696, 789, 798\n",
    "     - For example, patient 611 has an injury time of 4/16/2005 12:45 but first vital is at 4/16/2005 5:00\n",
    "     - Are injury dates in a different TZ than datetime?\n",
    " - What does a pupil size of 'Left - 3mm, Left - 5mm, Right - 2mm, Right - 3mm' mean where there are multiple measurements for each side?\n",
    " - Same as above except for Pupil Response values like 'Left - Nonreactive, Left - Fixed, Right - Sluggish'?\n",
    " - What does it mean when PbtO2 hits 0 near end of measurements (e.g. patient 1028, 645, 1001)?\n",
    " - What's the difference between BO2 and PbtO2?  They seem to be the same, though the latter is much less sparse\n",
    " - Why are so many numeric values prefixed with 'n'?\n",
    " - More serious problems/inconsistencies:\n",
    "     - _Patient/Sheet ID_ - _Cell Range_\n",
    "     - Pupil size and response extend way beyond dates:\n",
    "         - 953 - O98:P144\n",
    "         - 952 - O110:P165\n",
    "         - 949 - O94:P142\n",
    "         - 947 - O101:P154\n",
    "         - 938 - O106:P106\n",
    "         - 933 - O99:P128\n",
    "     - Huge sections of pbto2 and dates completely missing:\n",
    "         - 951\n",
    "         - 948\n",
    "         - 945\n",
    "         - 944\n",
    "     - 1028 - Q78 --> Why is there an extra value when all other fields end at row 77?\n",
    "     - 1058 - Q92, R92, S92 --> Same as above except there were 3 values beyond rows for other columns\n",
    "     - 969 - A2 --> why is UID not equal to number of sheet?\n",
    "     - 932 & 967 --> Why are pupil sizes set as dates?\n",
    "     - 492 - C6 --> Why does date increase by 2 years? (Same thing happens in Demographics at cell C946)\n",
    "     - 528 - C3 --> Date increases by 10 years (Same thing happens in Demographics at cell C2000)\n",
    "     - 493 - C54 --> Date increases by 6 years (Same thing happens in Demographics at cell C999)\n",
    "     - 'Demograhpics' sheet, patient 809 --> Date increases by 1 year at cell C13832\n",
    " - Less serious problems/inconsistencies:\n",
    "     - _Patient/Sheet ID_ - _Cell Range_\n",
    "     - 969 - R48 --> why is ICP '-8, 4'?\n",
    "     - 760 - L5 --> What does it mean to have two values here for \"Base Deficit, Arterial\" (ie '16, 15')?\n",
    "     - 1062 - O177 --> Where did \"Neurological Assessments\" come from?\n",
    "     - 785 - A4 --> Why is the UID 'Br'?\n",
    "     - 731 - A1 --> Why is UID column labeled UID100?\n",
    "     - 542 - B1:B45 --> Why is UID column in here twice?\n",
    "     - 1063, 1028, 1054 - O1:P1 --> Shouldn't these be \"Pupil Size\" and \"Pupil Response\"?\n",
    "     - 1051 - T72:T73\n",
    "     - 1055 - V58, V81, V87\n",
    "     - 980 - T119, T121:T123\n",
    "     - 812 - G108 --> How did this label get here?\n",
    "     - 809 - Row 94 seems misplaced\n",
    " - Missing Headers:\n",
    "     - _Patient/Sheet ID_ - _Description_\n",
    "     - 1046 - 'Vital Signs' column header missing\n",
    "     - 1052 - What is last column supposed to be? ICP2?"
   ]
  },
  {
   "cell_type": "markdown",
   "metadata": {},
   "source": [
    "## Field Examination"
   ]
  },
  {
   "cell_type": "markdown",
   "metadata": {},
   "source": [
    "### UID"
   ]
  },
  {
   "cell_type": "code",
   "execution_count": 56,
   "metadata": {
    "collapsed": false
   },
   "outputs": [
    {
     "data": {
      "text/plain": [
       "True    24591\n",
       "dtype: int64"
      ]
     },
     "execution_count": 56,
     "metadata": {},
     "output_type": "execute_result"
    }
   ],
   "source": [
    "(dt['uid'] == dt['sheet_name']).value_counts()"
   ]
  },
  {
   "cell_type": "code",
   "execution_count": 57,
   "metadata": {
    "collapsed": false
   },
   "outputs": [
    {
     "data": {
      "text/plain": [
       "[]"
      ]
     },
     "execution_count": 57,
     "metadata": {},
     "output_type": "execute_result"
    }
   ],
   "source": [
    "sorted(dt[dt['uid'] != dt['sheet_name']]['sheet_name'].unique())"
   ]
  },
  {
   "cell_type": "markdown",
   "metadata": {},
   "source": [
    "### Pupil Size"
   ]
  },
  {
   "cell_type": "code",
   "execution_count": 58,
   "metadata": {
    "collapsed": true
   },
   "outputs": [],
   "source": [
    "def type_counts(x):\n",
    "    return pd.Series([v.__class__.__name__ for v in x]).value_counts()"
   ]
  },
  {
   "cell_type": "code",
   "execution_count": 59,
   "metadata": {
    "collapsed": false
   },
   "outputs": [
    {
     "data": {
      "text/plain": [
       "NA                                                                       22225\n",
       "Left - 3mm, Right - 3mm                                                    820\n",
       "Left - 2mm, Right - 2mm                                                    567\n",
       "Left - 4mm, Right - 4mm                                                    176\n",
       "Left - 2mm, Right - 4mm                                                     77\n",
       "Left - 2mm, Right - 3mm                                                     73\n",
       "Left - 5mm, Right - 2mm                                                     71\n",
       "Left - 6mm, Right - 4mm                                                     61\n",
       "Left - 8mm, Right - 6mm                                                     60\n",
       "Left - 8mm, Right - 5mm                                                     47\n",
       "Left - 3mm, Right - 5mm                                                     35\n",
       "Left - 4mm, Right - 3mm                                                     32\n",
       "Left - 3mm, Right - 2mm                                                     31\n",
       "Left - 8mm, Right - 3mm                                                     31\n",
       "Left - 2mm, Right - 6mm                                                     29\n",
       "Left - 5mm, Right - 3mm                                                     28\n",
       "Left - 3mm, Right - 4mm                                                     26\n",
       "Left - 7mm, Right - 5mm                                                     24\n",
       "Left - 6mm, Right - 3mm                                                     14\n",
       "Left - 4mm, Right - 2mm                                                     12\n",
       "Left - 5mm, Right - 5mm                                                     12\n",
       "Left - 2mm, Right - 5mm                                                     11\n",
       "Left - 3mm, Right - 6mm                                                      9\n",
       "Left - 5mm, Right - 4mm                                                      8\n",
       "Left - 7mm, Right - 4mm                                                      7\n",
       "Left - 3mm, Left - 4mm, Right - 3mm, Right - 4mm                             7\n",
       "Left - Swollen shut, Right - 3mm                                             7\n",
       "Left - 7mm, Right - 3mm                                                      7\n",
       "Left - 2mm, Left - 3mm, Right - 2mm, Right - 3mm                             6\n",
       "Left - 6mm, Right - 6mm                                                      6\n",
       "                                                                         ...  \n",
       " Left - 8mm, Right - 8mm                                                     2\n",
       "Left - 6mm, Right - 1mm                                                      2\n",
       "Left - 4mm, Right - Swollen shut                                             2\n",
       "Left - 3mm, Left - 4mm, Right - 2mm, Right - 3mm                             2\n",
       "Left - 4mm, Right - 6mm                                                      2\n",
       "Left - 6mm, Right - 5mm                                                      1\n",
       "Left - 7mm, Right - 6mm                                                      1\n",
       "Left - 4mm, Left - 5mm, Right - 4mm, Right - 5mm                             1\n",
       "Left - 2mm, Right - 7mm                                                      1\n",
       "Left - 3mm, Left - 5mm, Right - 2mm, Right - 3mm                             1\n",
       "Left - 8mm, Right - 3mm, Right - 4mm                                         1\n",
       "Left - Unable to assess, Right - Unable to assess                            1\n",
       "Left - 4mm, Left - 5mm, Right - 3mm                                          1\n",
       "Left - 2mm, Right - Unable to assess                                         1\n",
       "Left - 7mm, Left - 8mm, Left - Swollen shut, Right - 4mm, Right - 5mm        1\n",
       "Left - 3mm, Left - Swollen shut, Right - 5mm                                 1\n",
       "Left - 8mm, Left - Swollen shut, Right - 5mm                                 1\n",
       " Left - 7mm, Right - 7mm                                                     1\n",
       "Left - 5mm, Right - 3mm, Left - 3mm, Right - 4mm                             1\n",
       "Left - 3mm                                                                   1\n",
       "Left - 2mm, Left - 3mm, Right - 4mm, Right - 5mm                             1\n",
       "Left - 2mm, Right - 1mm                                                      1\n",
       "Left - 7mm, Left - 8mm, Right - 4mm, Right - 5mm                             1\n",
       "Left - 6mm, Right - 7mm                                                      1\n",
       "Left - 8mm, Right - 8mm                                                      1\n",
       "Left - 7mm, Right - 5mm, Right - 6mm                                         1\n",
       "Left - 8mm, Right - 2mm                                                      1\n",
       "Left - 4mm, Right - 5mm                                                      1\n",
       " Left - 3mm, Right - 4mm                                                     1\n",
       "Left - 7mm, Left - Swollen shut, Right - 4mm                                 1\n",
       "dtype: int64"
      ]
     },
     "execution_count": 59,
     "metadata": {},
     "output_type": "execute_result"
    }
   ],
   "source": [
    "dt['pupil_size'].fillna('NA').value_counts()"
   ]
  },
  {
   "cell_type": "code",
   "execution_count": 60,
   "metadata": {
    "collapsed": false
   },
   "outputs": [
    {
     "data": {
      "text/plain": [
       "NA                  17896\n",
       "3.0                  2113\n",
       "2.0                  1471\n",
       "3mm                   944\n",
       "4.0                   568\n",
       "2mm                   559\n",
       "4mm                   252\n",
       "5.0                   240\n",
       "6.0                   113\n",
       "7.0                    87\n",
       "UTA                    80\n",
       "6mm                    68\n",
       "8.0                    60\n",
       "1mm                    50\n",
       "5mm                    26\n",
       "9.0                    20\n",
       "Unable to assess       12\n",
       "1.0                    11\n",
       "7mm                     8\n",
       "8mm                     7\n",
       "c 3mm                   1\n",
       " 8mm                    1\n",
       "c 5mm                   1\n",
       " 1mm                    1\n",
       "UTA                     1\n",
       "c 2mm                   1\n",
       "dtype: int64"
      ]
     },
     "execution_count": 60,
     "metadata": {},
     "output_type": "execute_result"
    }
   ],
   "source": [
    "dt['pupil_size_l'].fillna('NA').value_counts()"
   ]
  },
  {
   "cell_type": "code",
   "execution_count": 61,
   "metadata": {
    "collapsed": false
   },
   "outputs": [
    {
     "data": {
      "text/plain": [
       "NA                  17896\n",
       "3.0                  2046\n",
       "2.0                  1241\n",
       "3mm                   796\n",
       "4.0                   532\n",
       "2mm                   445\n",
       "4mm                   343\n",
       "5.0                   341\n",
       "6.0                   201\n",
       "8.0                   152\n",
       "8mm                   100\n",
       "9.0                    79\n",
       "1mm                    74\n",
       "7.0                    72\n",
       "UTA                    67\n",
       "Unable to assess       51\n",
       "6mm                    49\n",
       "5mm                    40\n",
       "7mm                    23\n",
       "1.0                    21\n",
       "REyeSwl                 7\n",
       "2.5                     5\n",
       "c 3mm                   3\n",
       "Swollen shut            2\n",
       " 8mm                    1\n",
       "c 5mm                   1\n",
       " 1mm                    1\n",
       "c 4mm                   1\n",
       "c 2mm                   1\n",
       "dtype: int64"
      ]
     },
     "execution_count": 61,
     "metadata": {},
     "output_type": "execute_result"
    }
   ],
   "source": [
    "dt['pupil_size_r'].fillna('NA').value_counts()"
   ]
  },
  {
   "cell_type": "code",
   "execution_count": 62,
   "metadata": {
    "collapsed": false
   },
   "outputs": [
    {
     "data": {
      "text/plain": [
       "float    22225\n",
       "str       2366\n",
       "dtype: int64"
      ]
     },
     "execution_count": 62,
     "metadata": {},
     "output_type": "execute_result"
    }
   ],
   "source": [
    "type_counts(dt['pupil_size'])"
   ]
  },
  {
   "cell_type": "code",
   "execution_count": 63,
   "metadata": {
    "collapsed": false
   },
   "outputs": [
    {
     "name": "stdout",
     "output_type": "stream",
     "text": [
      "Ids with issues:  []\n",
      "Example invalid values: []\n"
     ]
    }
   ],
   "source": [
    "dprob = dt[dt['pupil_size'].apply(lambda x: not isinstance(x, str) and not pd.isnull(x))]\n",
    "print('Ids with issues: ', dprob['uid'].unique())\n",
    "print('Example invalid values:', dprob['pupil_size'].unique()[:3])"
   ]
  },
  {
   "cell_type": "code",
   "execution_count": 64,
   "metadata": {
    "collapsed": false
   },
   "outputs": [
    {
     "name": "stdout",
     "output_type": "stream",
     "text": [
      "<class 'pandas.core.frame.DataFrame'>\n",
      "Int64Index: 24591 entries, 0 to 114\n",
      "Data columns (total 2 columns):\n",
      "pupil_size_l    7033 non-null float64\n",
      "pupil_size_r    7033 non-null float64\n",
      "dtypes: float64(2)\n",
      "memory usage: 576.4 KB\n"
     ]
    }
   ],
   "source": [
    "x = prep.prep_pupil_size(dt.copy())\n",
    "x[['pupil_size_l', 'pupil_size_r']].info()"
   ]
  },
  {
   "cell_type": "markdown",
   "metadata": {},
   "source": [
    "### Pupil Response"
   ]
  },
  {
   "cell_type": "code",
   "execution_count": 65,
   "metadata": {
    "collapsed": false
   },
   "outputs": [
    {
     "data": {
      "text/plain": [
       "NA                                                                22927\n",
       "Left - Brisk, Right - Brisk                                         853\n",
       "Left - Nonreactive, Right - Nonreactive                             188\n",
       "Left - Sluggish, Right - Brisk                                      159\n",
       "Left - Sluggish, Right - Sluggish                                   152\n",
       "Left - Brisk, Right - Sluggish                                      103\n",
       "Left - Fixed, Right - Sluggish                                       42\n",
       "Left - Fixed, Right - Fixed                                          40\n",
       "Left - Fixed, Right - Brisk                                          31\n",
       "Left - Brisk, Right - Nonreactive                                    17\n",
       "Left - Nonreactive, Right - Brisk                                    17\n",
       "Left - Nonreactive, Left - Fixed, Right - Sluggish                   17\n",
       "Left - Brisk, Right - Fixed                                          14\n",
       "Left - Nonreactive, Right - Sluggish                                  7\n",
       "Left - Nonreactive, Left - Fixed, Right - Brisk                       5\n",
       "Left - Sluggish, Right - Nonreactive                                  2\n",
       " Left - Sluggish, Right - Fixed                                       2\n",
       "Left - Nonreactive, Left - Fixed                                      2\n",
       "Left - Sluggish                                                       2\n",
       "Left - Brisk                                                          2\n",
       "c Left - Brisk, Right - Brisk                                         1\n",
       " Left - Sluggish, Right - Sluggish                                    1\n",
       "c Left - Sluggish, Right - Sluggish                                   1\n",
       "c Left - Sluggish, Right - Brisk                                      1\n",
       "Left - Nonreactive, Right - Fixed                                     1\n",
       "Left - Brisk, Left - Sluggish, Right - Brisk, Right - Sluggish        1\n",
       "Left - Brisk, Right - Brisk, Left - Brisk, Right - Brisk              1\n",
       "Left - Sluggish, Right - Brisk, Left - Sluggish, Right - Brisk        1\n",
       " Left - Nonreactive, Right - Nonreactive                              1\n",
       "dtype: int64"
      ]
     },
     "execution_count": 65,
     "metadata": {},
     "output_type": "execute_result"
    }
   ],
   "source": [
    "dt['pupil_response'].fillna('NA').value_counts()"
   ]
  },
  {
   "cell_type": "code",
   "execution_count": 66,
   "metadata": {
    "collapsed": false
   },
   "outputs": [
    {
     "data": {
      "text/plain": [
       "NA             17948\n",
       "Brisk           4513\n",
       "Fixed           1130\n",
       "Sluggish         675\n",
       "Nonreactive      232\n",
       "UTA               74\n",
       "Brisk             10\n",
       "Birsk              3\n",
       "Fixed              3\n",
       " Fixed             1\n",
       "Sluggish           1\n",
       "c Sluggish         1\n",
       "dtype: int64"
      ]
     },
     "execution_count": 66,
     "metadata": {},
     "output_type": "execute_result"
    }
   ],
   "source": [
    "dt['pupil_response_r'].fillna('NA').value_counts()"
   ]
  },
  {
   "cell_type": "code",
   "execution_count": 67,
   "metadata": {
    "collapsed": false
   },
   "outputs": [
    {
     "data": {
      "text/plain": [
       "NA               17916\n",
       "Brisk             4972\n",
       "Fixed              821\n",
       "Sluggish           582\n",
       "Nonreactive        154\n",
       "UTA                 81\n",
       "Sluggish            55\n",
       "c Nonreactive        2\n",
       "Birsk                1\n",
       " Fixed               1\n",
       "Fixed                1\n",
       "Brsik                1\n",
       "Brisk                1\n",
       "c Sluggish           1\n",
       " Sluggish            1\n",
       "c Brisk              1\n",
       "dtype: int64"
      ]
     },
     "execution_count": 67,
     "metadata": {},
     "output_type": "execute_result"
    }
   ],
   "source": [
    "dt['pupil_response_l'].fillna('NA').value_counts()"
   ]
  },
  {
   "cell_type": "code",
   "execution_count": 68,
   "metadata": {
    "collapsed": false
   },
   "outputs": [
    {
     "name": "stdout",
     "output_type": "stream",
     "text": [
      "<class 'pandas.core.frame.DataFrame'>\n",
      "Int64Index: 24591 entries, 0 to 114\n",
      "Data columns (total 2 columns):\n",
      "pupil_response_l    8258 non-null float64\n",
      "pupil_response_r    8227 non-null float64\n",
      "dtypes: float64(2)\n",
      "memory usage: 576.4 KB\n"
     ]
    }
   ],
   "source": [
    "x = prep.prep_pupil_response(dt.copy())\n",
    "x[['pupil_response_l', 'pupil_response_r']].info()"
   ]
  },
  {
   "cell_type": "markdown",
   "metadata": {},
   "source": [
    "### Date Cols"
   ]
  },
  {
   "cell_type": "code",
   "execution_count": 69,
   "metadata": {
    "collapsed": true
   },
   "outputs": [],
   "source": [
    "date_cols = ['blood_gases', 'date', 'date/time', 'vital_signs']"
   ]
  },
  {
   "cell_type": "code",
   "execution_count": 70,
   "metadata": {
    "collapsed": false
   },
   "outputs": [
    {
     "name": "stdout",
     "output_type": "stream",
     "text": [
      "<class 'pandas.core.frame.DataFrame'>\n",
      "Int64Index: 24591 entries, 0 to 114\n",
      "Data columns (total 4 columns):\n",
      "blood_gases    6754 non-null datetime64[ns]\n",
      "date           24587 non-null datetime64[ns]\n",
      "date/time      24591 non-null datetime64[ns]\n",
      "vital_signs    24259 non-null datetime64[ns]\n",
      "dtypes: datetime64[ns](4)\n",
      "memory usage: 960.6 KB\n"
     ]
    }
   ],
   "source": [
    "x = dt.copy()\n",
    "for c in date_cols:\n",
    "    x[c] = x[c].apply(prep.convert_date)\n",
    "x[date_cols].info()\n",
    "#type_counts(dt['date/time'])"
   ]
  },
  {
   "cell_type": "markdown",
   "metadata": {},
   "source": [
    "### Floating Point Cols"
   ]
  },
  {
   "cell_type": "code",
   "execution_count": 71,
   "metadata": {
    "collapsed": true
   },
   "outputs": [],
   "source": [
    "float_cols = [\n",
    "    'base_deficit_arterial', 'base_excess_arterial', 'hco3', 'hco3a', \n",
    "    'icp1', 'icp2', 'map', 'paco2', 'pao2', 'pha', 'sao2', 'spo2'\n",
    "]"
   ]
  },
  {
   "cell_type": "code",
   "execution_count": 72,
   "metadata": {
    "collapsed": false
   },
   "outputs": [],
   "source": [
    "def examine(d, col):\n",
    "    r = d[[col]].copy()\n",
    "    r[col+'_float'] = d[col].apply(prep.extract_first_float)\n",
    "    return r.drop_duplicates()\n",
    "#examine(dt, 'pao2')"
   ]
  },
  {
   "cell_type": "markdown",
   "metadata": {},
   "source": [
    "### Prep"
   ]
  },
  {
   "cell_type": "code",
   "execution_count": 73,
   "metadata": {
    "collapsed": false
   },
   "outputs": [
    {
     "name": "stdout",
     "output_type": "stream",
     "text": [
      "<class 'pandas.core.frame.DataFrame'>\n",
      "Int64Index: 23671 entries, 0 to 96\n",
      "Data columns (total 23 columns):\n",
      "base_deficit_arterial    4083 non-null float64\n",
      "base_excess_arterial     2671 non-null float64\n",
      "blood_gases              6741 non-null datetime64[ns]\n",
      "datetime                 23671 non-null datetime64[ns]\n",
      "hco3                     23 non-null float64\n",
      "hco3a                    6689 non-null float64\n",
      "icp                      0 non-null float64\n",
      "icp1                     15930 non-null float64\n",
      "icp2                     8758 non-null float64\n",
      "map                      15591 non-null float64\n",
      "paco2                    6711 non-null float64\n",
      "pao2                     6713 non-null float64\n",
      "pbto2                    23671 non-null float64\n",
      "pha                      6714 non-null float64\n",
      "pupil_response_l         8176 non-null float64\n",
      "pupil_response_r         8145 non-null float64\n",
      "pupil_size_l             6951 non-null float64\n",
      "pupil_size_r             6951 non-null float64\n",
      "sao2                     4394 non-null float64\n",
      "sheet_name               23671 non-null int64\n",
      "spo2                     22810 non-null float64\n",
      "uid                      23671 non-null int64\n",
      "vital_signs              23353 non-null datetime64[ns]\n",
      "dtypes: datetime64[ns](3), float64(18), int64(2)\n",
      "memory usage: 4.3 MB\n"
     ]
    }
   ],
   "source": [
    "d_meas = dt.copy()\n",
    "d_meas = prep.prep_pupil_size(d_meas)\n",
    "d_meas = prep.prep_pupil_response(d_meas)\n",
    "for c in date_cols:\n",
    "    d_meas[c] = d_meas[c].apply(prep.convert_date)\n",
    "for c in float_cols:\n",
    "    d_meas[c] = d_meas[c].apply(prep.extract_first_float)\n",
    "d_meas = d_meas.rename(columns={'date/time': 'datetime'})\n",
    "\n",
    "# Take only one record pertaining to each timestamp and patient, preferring those with the most data present\n",
    "d_meas['num_na'] = d_meas.apply(pd.isnull).sum(axis=1)\n",
    "d_meas = d_meas.groupby(['uid', 'datetime'], group_keys=False)\\\n",
    "    .apply(lambda x: x.sort('num_na').head(1))\\\n",
    "    .drop(['num_na', 'date'], axis=1)\n",
    "\n",
    "d_meas.info()"
   ]
  },
  {
   "cell_type": "code",
   "execution_count": 96,
   "metadata": {
    "collapsed": false
   },
   "outputs": [],
   "source": [
    "# No longer interpolating here\n",
    "#d_meas = d_meas.groupby('uid', group_keys=False).apply(prep.interp_timeseries).reset_index()\n",
    "#d_meas.head()"
   ]
  },
  {
   "cell_type": "code",
   "execution_count": 97,
   "metadata": {
    "collapsed": false
   },
   "outputs": [],
   "source": [
    "#d_meas.groupby('uid').size().order(ascending=False).head()"
   ]
  },
  {
   "cell_type": "code",
   "execution_count": 35,
   "metadata": {
    "collapsed": false
   },
   "outputs": [
    {
     "data": {
      "text/plain": [
       "True    339\n",
       "dtype: int64"
      ]
     },
     "execution_count": 35,
     "metadata": {},
     "output_type": "execute_result"
    }
   ],
   "source": [
    "# def verify_timeseries(x):\n",
    "#     min_date = x['datetime'].min()\n",
    "#     max_date = x['datetime'].max()\n",
    "#     n_hours = int((max_date - min_date).value / (1E9 * 3600.)) + 1\n",
    "#     return n_hours == len(x)\n",
    "# d_meas.groupby('uid').apply(verify_timeseries).value_counts()"
   ]
  },
  {
   "cell_type": "markdown",
   "metadata": {},
   "source": [
    "# BO2"
   ]
  },
  {
   "cell_type": "code",
   "execution_count": 109,
   "metadata": {
    "collapsed": false
   },
   "outputs": [
    {
     "name": "stdout",
     "output_type": "stream",
     "text": [
      "<class 'pandas.core.frame.DataFrame'>\n",
      "Int64Index: 23673 entries, 0 to 24698\n",
      "Data columns (total 3 columns):\n",
      "uid         23673 non-null int64\n",
      "bo2         23673 non-null float64\n",
      "datetime    23673 non-null datetime64[ns]\n",
      "dtypes: datetime64[ns](1), float64(1), int64(1)\n",
      "memory usage: 739.8 KB\n"
     ]
    }
   ],
   "source": [
    "d_bo2 = d['BO2&Injy time'].copy()\n",
    "d_bo2.columns = [prep.normalize_col(c) for c in d_bo2]\n",
    "d_bo2 = d_bo2.drop(['date'], axis=1)\n",
    "d_bo2['datetime'] = d_bo2['datetime'].apply(prep.convert_date)\n",
    "\n",
    "# Take record with max bo2 for each instance of patient and date + time\n",
    "d_bo2 = d_bo2.groupby(['uid', 'datetime'], group_keys=False).apply(lambda x: x.sort('bo2').tail(1))\n",
    "\n",
    "d_bo2.info()"
   ]
  },
  {
   "cell_type": "code",
   "execution_count": 110,
   "metadata": {
    "collapsed": false
   },
   "outputs": [
    {
     "data": {
      "text/html": [
       "<div>\n",
       "<table border=\"1\" class=\"dataframe\">\n",
       "  <thead>\n",
       "    <tr style=\"text-align: right;\">\n",
       "      <th></th>\n",
       "      <th>uid</th>\n",
       "      <th>bo2</th>\n",
       "      <th>datetime</th>\n",
       "    </tr>\n",
       "  </thead>\n",
       "  <tbody>\n",
       "    <tr>\n",
       "      <th>0</th>\n",
       "      <td>461</td>\n",
       "      <td>21.2</td>\n",
       "      <td>2002-02-05 02:00:00</td>\n",
       "    </tr>\n",
       "    <tr>\n",
       "      <th>1</th>\n",
       "      <td>461</td>\n",
       "      <td>25.2</td>\n",
       "      <td>2002-02-05 05:00:00</td>\n",
       "    </tr>\n",
       "    <tr>\n",
       "      <th>2</th>\n",
       "      <td>461</td>\n",
       "      <td>74.5</td>\n",
       "      <td>2002-02-05 08:00:00</td>\n",
       "    </tr>\n",
       "    <tr>\n",
       "      <th>4</th>\n",
       "      <td>461</td>\n",
       "      <td>25.3</td>\n",
       "      <td>2002-02-05 10:00:00</td>\n",
       "    </tr>\n",
       "    <tr>\n",
       "      <th>5</th>\n",
       "      <td>461</td>\n",
       "      <td>40.0</td>\n",
       "      <td>2002-02-05 12:00:00</td>\n",
       "    </tr>\n",
       "  </tbody>\n",
       "</table>\n",
       "</div>"
      ],
      "text/plain": [
       "   uid   bo2            datetime\n",
       "0  461  21.2 2002-02-05 02:00:00\n",
       "1  461  25.2 2002-02-05 05:00:00\n",
       "2  461  74.5 2002-02-05 08:00:00\n",
       "4  461  25.3 2002-02-05 10:00:00\n",
       "5  461  40.0 2002-02-05 12:00:00"
      ]
     },
     "execution_count": 110,
     "metadata": {},
     "output_type": "execute_result"
    }
   ],
   "source": [
    "d_bo2.head()"
   ]
  },
  {
   "cell_type": "markdown",
   "metadata": {},
   "source": [
    "# Demographics"
   ]
  },
  {
   "cell_type": "code",
   "execution_count": 86,
   "metadata": {
    "collapsed": false
   },
   "outputs": [
    {
     "name": "stdout",
     "output_type": "stream",
     "text": [
      "<class 'pandas.core.frame.DataFrame'>\n",
      "Int64Index: 622 entries, 0 to 621\n",
      "Data columns (total 7 columns):\n",
      "uid            622 non-null int64\n",
      "birthdate      621 non-null datetime64[ns]\n",
      "age            622 non-null int64\n",
      "sex            621 non-null float64\n",
      "gcs            620 non-null float64\n",
      "death_date     254 non-null datetime64[ns]\n",
      "injury_date    622 non-null datetime64[ns]\n",
      "dtypes: datetime64[ns](3), float64(2), int64(2)\n",
      "memory usage: 38.9 KB\n"
     ]
    }
   ],
   "source": [
    "d_demo = d['Demographics'].copy()\n",
    "d_demo.columns = [prep.normalize_col(c) for c in d_demo]\n",
    "def prep_itime(x):\n",
    "    if pd.isnull(x) or not isinstance(x, datetime.time):\n",
    "        return None\n",
    "    return x.hour * 3600 #+ x.minute * 60 + x.second \n",
    "\n",
    "d_demo['itime_sec'] = d_demo['itime'].apply(prep_itime)\n",
    "\n",
    "def get_injury_date(x):\n",
    "    v = (x['idate'].value / 1.E9)\n",
    "    if not pd.isnull(x['itime_sec']):\n",
    "        v += x['itime_sec']        \n",
    "    return pd.to_datetime(v, unit='s')\n",
    "d_demo['injury_date'] = d_demo.apply(get_injury_date, axis=1)\n",
    "d_demo = d_demo.drop(['idate', 'itime', 'itime_sec'], axis=1)\n",
    "d_demo.info()"
   ]
  },
  {
   "cell_type": "code",
   "execution_count": 89,
   "metadata": {
    "collapsed": false
   },
   "outputs": [],
   "source": [
    "# Make sure there is only one outcome record per patient\n",
    "assert d_demo.groupby('uid').size().max() == 1, 'Found multiple outcomes for same uid'"
   ]
  },
  {
   "cell_type": "markdown",
   "metadata": {},
   "source": [
    "# Marshall Scores"
   ]
  },
  {
   "cell_type": "code",
   "execution_count": 90,
   "metadata": {
    "collapsed": false
   },
   "outputs": [
    {
     "name": "stdout",
     "output_type": "stream",
     "text": [
      "<class 'pandas.core.frame.DataFrame'>\n",
      "Int64Index: 415 entries, 0 to 414\n",
      "Data columns (total 2 columns):\n",
      "uid         415 non-null int64\n",
      "marshall    413 non-null float64\n",
      "dtypes: float64(1), int64(1)\n",
      "memory usage: 9.7 KB\n"
     ]
    }
   ],
   "source": [
    "d_marsh = d['Marsh & 12mGOS'].copy()\n",
    "d_marsh = d_marsh.drop('gos12', axis=1)\n",
    "d_marsh.info()"
   ]
  },
  {
   "cell_type": "code",
   "execution_count": 91,
   "metadata": {
    "collapsed": false
   },
   "outputs": [],
   "source": [
    "def resolve_duplicates(x):\n",
    "    if len(x) == 1:\n",
    "        return x\n",
    "    if len(x['marshall'].unique()) != 1:\n",
    "        raise ValueError('UID {} has multiple marshall scores that are not the same: {}'\n",
    "                         .format(x['uid'].iloc[0], x['marshall'].unique()))\n",
    "    return x.head(1)\n",
    "d_marsh = d_marsh.groupby('uid', group_keys=False).apply(resolve_duplicates).dropna()"
   ]
  },
  {
   "cell_type": "code",
   "execution_count": 92,
   "metadata": {
    "collapsed": true
   },
   "outputs": [],
   "source": [
    "# Make sure there is only one outcome record per patient\n",
    "assert d_marsh.groupby('uid').size().max() == 1, 'Found multiple outcomes for same uid'"
   ]
  },
  {
   "cell_type": "markdown",
   "metadata": {},
   "source": [
    "# Outcomes"
   ]
  },
  {
   "cell_type": "code",
   "execution_count": 93,
   "metadata": {
    "collapsed": false
   },
   "outputs": [
    {
     "name": "stdout",
     "output_type": "stream",
     "text": [
      "<class 'pandas.core.frame.DataFrame'>\n",
      "Int64Index: 1230 entries, 0 to 1229\n",
      "Data columns (total 3 columns):\n",
      "uid                        1230 non-null int64\n",
      "post_injury_test_period    1230 non-null object\n",
      "gos                        1090 non-null float64\n",
      "dtypes: float64(1), int64(1), object(1)\n",
      "memory usage: 38.4+ KB\n"
     ]
    }
   ],
   "source": [
    "d_outcome = d['Outcome'].copy()\n",
    "d_outcome.columns = [prep.normalize_col(c) for c in d_outcome]\n",
    "d_outcome.info()"
   ]
  },
  {
   "cell_type": "code",
   "execution_count": 94,
   "metadata": {
    "collapsed": false
   },
   "outputs": [
    {
     "data": {
      "text/plain": [
       "6 month     321\n",
       "3 month     321\n",
       "12 month    317\n",
       "24 month    271\n",
       "dtype: int64"
      ]
     },
     "execution_count": 94,
     "metadata": {},
     "output_type": "execute_result"
    }
   ],
   "source": [
    "d_outcome['post_injury_test_period'].value_counts()"
   ]
  },
  {
   "cell_type": "code",
   "execution_count": 95,
   "metadata": {
    "collapsed": false
   },
   "outputs": [
    {
     "data": {
      "text/html": [
       "<div>\n",
       "<table border=\"1\" class=\"dataframe\">\n",
       "  <thead>\n",
       "    <tr style=\"text-align: right;\">\n",
       "      <th></th>\n",
       "      <th>uid</th>\n",
       "      <th>gos-12</th>\n",
       "      <th>gos-24</th>\n",
       "      <th>gos-3</th>\n",
       "      <th>gos-6</th>\n",
       "    </tr>\n",
       "  </thead>\n",
       "  <tbody>\n",
       "    <tr>\n",
       "      <th>0</th>\n",
       "      <td>461</td>\n",
       "      <td>1</td>\n",
       "      <td>1</td>\n",
       "      <td>1</td>\n",
       "      <td>1</td>\n",
       "    </tr>\n",
       "    <tr>\n",
       "      <th>1</th>\n",
       "      <td>462</td>\n",
       "      <td>5</td>\n",
       "      <td>5</td>\n",
       "      <td>3</td>\n",
       "      <td>4</td>\n",
       "    </tr>\n",
       "    <tr>\n",
       "      <th>2</th>\n",
       "      <td>463</td>\n",
       "      <td>3</td>\n",
       "      <td>3</td>\n",
       "      <td>2</td>\n",
       "      <td>2</td>\n",
       "    </tr>\n",
       "    <tr>\n",
       "      <th>3</th>\n",
       "      <td>464</td>\n",
       "      <td>2</td>\n",
       "      <td>2</td>\n",
       "      <td>2</td>\n",
       "      <td>2</td>\n",
       "    </tr>\n",
       "    <tr>\n",
       "      <th>4</th>\n",
       "      <td>466</td>\n",
       "      <td>2</td>\n",
       "      <td>2</td>\n",
       "      <td>2</td>\n",
       "      <td>2</td>\n",
       "    </tr>\n",
       "  </tbody>\n",
       "</table>\n",
       "</div>"
      ],
      "text/plain": [
       "   uid  gos-12  gos-24  gos-3  gos-6\n",
       "0  461       1       1      1      1\n",
       "1  462       5       5      3      4\n",
       "2  463       3       3      2      2\n",
       "3  464       2       2      2      2\n",
       "4  466       2       2      2      2"
      ]
     },
     "execution_count": 95,
     "metadata": {},
     "output_type": "execute_result"
    }
   ],
   "source": [
    "d_outcome = d_outcome.set_index(['uid', 'post_injury_test_period']).unstack()\n",
    "d_outcome.columns = ['{}-{}'.format(c[0], c[1].lower().replace('month', '').strip()) for c in d_outcome]\n",
    "d_outcome = d_outcome.reset_index()\n",
    "d_outcome.head()"
   ]
  },
  {
   "cell_type": "code",
   "execution_count": 96,
   "metadata": {
    "collapsed": false
   },
   "outputs": [],
   "source": [
    "# Make sure there is only one outcome record per patient\n",
    "assert d_outcome.groupby('uid').size().max() == 1, 'Found multiple outcomes for same uid'"
   ]
  },
  {
   "cell_type": "markdown",
   "metadata": {},
   "source": [
    "# Merge Pre-Checks"
   ]
  },
  {
   "cell_type": "code",
   "execution_count": 97,
   "metadata": {
    "collapsed": false
   },
   "outputs": [
    {
     "name": "stdout",
     "output_type": "stream",
     "text": [
      "Number of patients total = 622\n",
      "Number of UIDs missing in dataset d_meas = 283\n",
      "Number of UIDs missing in dataset d_outcome = 287\n",
      "Number of UIDs missing in dataset d_bo2 = 283\n",
      "Number of UIDs missing in dataset d_demo = 0\n",
      "Number of UIDs missing in dataset d_marsh = 309\n"
     ]
    }
   ],
   "source": [
    "# Determine the unique set of patient ids present across all datasets\n",
    "d_all = {'d_meas': d_meas, 'd_bo2': d_bo2, 'd_demo': d_demo, 'd_marsh': d_marsh, 'd_outcome': d_outcome}\n",
    "uid = []\n",
    "for d in d_all.values():\n",
    "    uid.extend(d['uid'].unique())\n",
    "uid = np.unique(uid)\n",
    "print('Number of patients total = {}'.format(len(uid)))\n",
    "\n",
    "# Determine the number of uids NOT present in the overall set for each dataset\n",
    "for d in d_all:\n",
    "    print('Number of UIDs missing in dataset {} = {}'.format(d, len(np.setdiff1d(uid, d_all[d]['uid'].unique()))))\n",
    "    "
   ]
  },
  {
   "cell_type": "markdown",
   "metadata": {},
   "source": [
    "From this, it seems safe to conclude that many of the \"Demographic\" patient records don't necessarily have other records so they'll be ignored for now."
   ]
  },
  {
   "cell_type": "markdown",
   "metadata": {},
   "source": [
    "# Feature Generation"
   ]
  },
  {
   "cell_type": "code",
   "execution_count": 98,
   "metadata": {
    "collapsed": false
   },
   "outputs": [
    {
     "data": {
      "text/plain": [
       "(dtype('int64'), dtype('int64'), dtype('int64'), dtype('int64'))"
      ]
     },
     "execution_count": 98,
     "metadata": {},
     "output_type": "execute_result"
    }
   ],
   "source": [
    "d_meas['uid'].dtype, d_demo['uid'].dtype, d_bo2['uid'].dtype, d_outcome['uid'].dtype"
   ]
  },
  {
   "cell_type": "code",
   "execution_count": 99,
   "metadata": {
    "collapsed": false
   },
   "outputs": [
    {
     "name": "stdout",
     "output_type": "stream",
     "text": [
      "<class 'pandas.core.frame.DataFrame'>\n",
      "Int64Index: 23673 entries, 0 to 23672\n",
      "Data columns (total 30 columns):\n",
      "base_deficit_arterial    4083 non-null float64\n",
      "base_excess_arterial     2671 non-null float64\n",
      "blood_gases              6741 non-null datetime64[ns]\n",
      "datetime                 23673 non-null datetime64[ns]\n",
      "hco3                     23 non-null float64\n",
      "hco3a                    6689 non-null float64\n",
      "icp                      0 non-null float64\n",
      "icp1                     15930 non-null float64\n",
      "icp2                     8758 non-null float64\n",
      "map                      15591 non-null float64\n",
      "paco2                    6711 non-null float64\n",
      "pao2                     6713 non-null float64\n",
      "pbto2                    23671 non-null float64\n",
      "pha                      6714 non-null float64\n",
      "pupil_response_l         8176 non-null float64\n",
      "pupil_response_r         8145 non-null float64\n",
      "pupil_size_l             6951 non-null float64\n",
      "pupil_size_r             6951 non-null float64\n",
      "sao2                     4394 non-null float64\n",
      "sheet_name               23671 non-null float64\n",
      "spo2                     22810 non-null float64\n",
      "uid                      23673 non-null int64\n",
      "vital_signs              23353 non-null datetime64[ns]\n",
      "bo2                      23673 non-null float64\n",
      "birthdate                23673 non-null datetime64[ns]\n",
      "age                      23673 non-null int64\n",
      "sex                      23673 non-null float64\n",
      "gcs                      23673 non-null float64\n",
      "death_date               5215 non-null datetime64[ns]\n",
      "injury_date              23673 non-null datetime64[ns]\n",
      "dtypes: datetime64[ns](6), float64(22), int64(2)\n",
      "memory usage: 5.6 MB\n"
     ]
    }
   ],
   "source": [
    "# Join the only two datasets that have records over time \n",
    "# (all others are specific to a patient but do not vary in time)\n",
    "d_exp = pd.merge(d_meas, d_bo2, how='outer', on=['uid', 'datetime'])\n",
    "\n",
    "# Join the above to demographic data, ignoring demographic records that do not match\n",
    "d_exp = pd.merge(d_exp, d_demo, how='left', on=['uid'])\n",
    "\n",
    "# Make sure there were no records in 'd_exp' without a record in 'd_demo'\n",
    "assert d_exp['injury_date'].isnull().sum() == 0, 'Found vital signs data with no corresponding demographic record'\n",
    "# Make sure non of the vital signs records have a null date\n",
    "assert d_exp['datetime'].isnull().sum() == 0, 'Found vital signs record with null date'\n",
    "\n",
    "d_exp['uid'] = d_exp['uid'].astype(np.int64)\n",
    "d_exp.info()"
   ]
  },
  {
   "cell_type": "code",
   "execution_count": 100,
   "metadata": {
    "collapsed": false
   },
   "outputs": [
    {
     "data": {
      "text/html": [
       "<div>\n",
       "<table border=\"1\" class=\"dataframe\">\n",
       "  <thead>\n",
       "    <tr style=\"text-align: right;\">\n",
       "      <th></th>\n",
       "      <th>tsi</th>\n",
       "      <th>tsi_min</th>\n",
       "      <th>tsa</th>\n",
       "      <th>tsa_min</th>\n",
       "    </tr>\n",
       "  </thead>\n",
       "  <tbody>\n",
       "    <tr>\n",
       "      <th>0</th>\n",
       "      <td>1 days 05:00:00</td>\n",
       "      <td>1740</td>\n",
       "      <td>00:00:00</td>\n",
       "      <td>0</td>\n",
       "    </tr>\n",
       "    <tr>\n",
       "      <th>1</th>\n",
       "      <td>1 days 08:00:00</td>\n",
       "      <td>1920</td>\n",
       "      <td>03:00:00</td>\n",
       "      <td>180</td>\n",
       "    </tr>\n",
       "    <tr>\n",
       "      <th>2</th>\n",
       "      <td>1 days 11:00:00</td>\n",
       "      <td>2100</td>\n",
       "      <td>06:00:00</td>\n",
       "      <td>360</td>\n",
       "    </tr>\n",
       "    <tr>\n",
       "      <th>3</th>\n",
       "      <td>1 days 13:00:00</td>\n",
       "      <td>2220</td>\n",
       "      <td>08:00:00</td>\n",
       "      <td>480</td>\n",
       "    </tr>\n",
       "    <tr>\n",
       "      <th>4</th>\n",
       "      <td>1 days 15:00:00</td>\n",
       "      <td>2340</td>\n",
       "      <td>10:00:00</td>\n",
       "      <td>600</td>\n",
       "    </tr>\n",
       "  </tbody>\n",
       "</table>\n",
       "</div>"
      ],
      "text/plain": [
       "              tsi  tsi_min      tsa  tsa_min\n",
       "0 1 days 05:00:00     1740 00:00:00        0\n",
       "1 1 days 08:00:00     1920 03:00:00      180\n",
       "2 1 days 11:00:00     2100 06:00:00      360\n",
       "3 1 days 13:00:00     2220 08:00:00      480\n",
       "4 1 days 15:00:00     2340 10:00:00      600"
      ]
     },
     "execution_count": 100,
     "metadata": {},
     "output_type": "execute_result"
    }
   ],
   "source": [
    "def get_times(x):\n",
    "    # Add time since injury value to data frame for patient\n",
    "    x['tsi'] = x['datetime'] - x['injury_date']\n",
    "    x['tsa'] = x['datetime'] - x['datetime'].min()\n",
    "    return x\n",
    "d_exp = d_exp.groupby('uid', group_keys=False).apply(get_times)\n",
    "d_exp['tsi_min'] = [int(x.value / (1E9 * 60)) for x in d_exp['tsi']]\n",
    "d_exp['tsa_min'] = [int(x.value / (1E9 * 60)) for x in d_exp['tsa']]\n",
    "\n",
    "d_exp[['tsi', 'tsi_min', 'tsa', 'tsa_min']].head()"
   ]
  },
  {
   "cell_type": "code",
   "execution_count": 101,
   "metadata": {
    "collapsed": false
   },
   "outputs": [
    {
     "data": {
      "text/plain": [
       "[611, 643, 659, 696, 789, 798]"
      ]
     },
     "execution_count": 101,
     "metadata": {},
     "output_type": "execute_result"
    }
   ],
   "source": [
    "# Find patients with injury dates recorded as after first vital signs (shouldn't be possible)\n",
    "bad_uids = [int(v) for v in d_exp[d_exp['tsi_min'] <= 0]['uid'].unique()]\n",
    "\n",
    "# Set all tsi_min values to NA for these patients\n",
    "d_exp['tsi_min'] = d_exp['tsi_min'].where(~d_exp['uid'].isin(bad_uids), np.nan)\n",
    "\n",
    "bad_uids"
   ]
  },
  {
   "cell_type": "code",
   "execution_count": 102,
   "metadata": {
    "collapsed": false
   },
   "outputs": [
    {
     "name": "stdout",
     "output_type": "stream",
     "text": [
      "count    23673.000000\n",
      "mean      3105.563300\n",
      "std       2143.671294\n",
      "min          0.000000\n",
      "25%       1320.000000\n",
      "50%       2820.000000\n",
      "75%       4620.000000\n",
      "max      15600.000000\n",
      "Name: tsa_min, dtype: float64\n"
     ]
    },
    {
     "data": {
      "text/plain": [
       "<matplotlib.axes._subplots.AxesSubplot at 0x10cdb57f0>"
      ]
     },
     "execution_count": 102,
     "metadata": {},
     "output_type": "execute_result"
    },
    {
     "data": {
      "image/png": "[encoded data removed]",
      "text/plain": [
       "<matplotlib.figure.Figure at 0x10cd966d8>"
      ]
     },
     "metadata": {},
     "output_type": "display_data"
    }
   ],
   "source": [
    "print(d_exp['tsa_min'].describe())\n",
    "d_exp['tsa_min'].plot(kind='kde')"
   ]
  },
  {
   "cell_type": "markdown",
   "metadata": {},
   "source": [
    "### Merge Other Datasets"
   ]
  },
  {
   "cell_type": "code",
   "execution_count": 103,
   "metadata": {
    "collapsed": false
   },
   "outputs": [
    {
     "name": "stdout",
     "output_type": "stream",
     "text": [
      "<class 'pandas.core.frame.DataFrame'>\n",
      "Int64Index: 23673 entries, 0 to 23672\n",
      "Data columns (total 39 columns):\n",
      "base_deficit_arterial    4083 non-null float64\n",
      "base_excess_arterial     2671 non-null float64\n",
      "blood_gases              6741 non-null datetime64[ns]\n",
      "datetime                 23673 non-null datetime64[ns]\n",
      "hco3                     23 non-null float64\n",
      "hco3a                    6689 non-null float64\n",
      "icp                      0 non-null float64\n",
      "icp1                     15930 non-null float64\n",
      "icp2                     8758 non-null float64\n",
      "map                      15591 non-null float64\n",
      "paco2                    6711 non-null float64\n",
      "pao2                     6713 non-null float64\n",
      "pbto2                    23671 non-null float64\n",
      "pha                      6714 non-null float64\n",
      "pupil_response_l         8176 non-null float64\n",
      "pupil_response_r         8145 non-null float64\n",
      "pupil_size_l             6951 non-null float64\n",
      "pupil_size_r             6951 non-null float64\n",
      "sao2                     4394 non-null float64\n",
      "sheet_name               23671 non-null float64\n",
      "spo2                     22810 non-null float64\n",
      "uid                      23673 non-null int64\n",
      "vital_signs              23353 non-null datetime64[ns]\n",
      "bo2                      23673 non-null float64\n",
      "birthdate                23673 non-null datetime64[ns]\n",
      "age                      23673 non-null int64\n",
      "sex                      23673 non-null float64\n",
      "gcs                      23673 non-null float64\n",
      "death_date               5215 non-null datetime64[ns]\n",
      "injury_date              23673 non-null datetime64[ns]\n",
      "tsi                      23673 non-null timedelta64[ns]\n",
      "tsa                      23673 non-null timedelta64[ns]\n",
      "tsi_min                  23288 non-null float64\n",
      "tsa_min                  23673 non-null int64\n",
      "marshall                 21059 non-null float64\n",
      "gos-12                   18036 non-null float64\n",
      "gos-24                   13972 non-null float64\n",
      "gos-3                    18592 non-null float64\n",
      "gos-6                    18798 non-null float64\n",
      "dtypes: datetime64[ns](6), float64(28), int64(3), timedelta64[ns](2)\n",
      "memory usage: 7.2 MB\n"
     ]
    }
   ],
   "source": [
    "d_exp = pd.merge(d_exp, d_marsh, how='left', on=['uid'])\n",
    "d_exp = pd.merge(d_exp, d_outcome, how='left', on=['uid'])\n",
    "d_exp.info()"
   ]
  },
  {
   "cell_type": "markdown",
   "metadata": {},
   "source": [
    "# Export"
   ]
  },
  {
   "cell_type": "code",
   "execution_count": 104,
   "metadata": {
    "collapsed": false
   },
   "outputs": [],
   "source": [
    "d_exp.to_pickle('/Users/eczech/data/ptbo2/export/data_clean.pkl')"
   ]
  },
  {
   "cell_type": "code",
   "execution_count": null,
   "metadata": {
    "collapsed": true
   },
   "outputs": [],
   "source": []
  }
 ],
 "metadata": {
  "kernelspec": {
   "display_name": "Python 3",
   "language": "python",
   "name": "python3"
  },
  "language_info": {
   "codemirror_mode": {
    "name": "ipython",
    "version": 3
   },
   "file_extension": ".py",
   "mimetype": "text/x-python",
   "name": "python",
   "nbconvert_exporter": "python",
   "pygments_lexer": "ipython3",
   "version": "3.4.3"
  }
 },
 "nbformat": 4,
 "nbformat_minor": 0
}
