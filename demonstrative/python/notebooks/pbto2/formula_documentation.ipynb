{
 "cells": [
  {
   "cell_type": "markdown",
   "metadata": {},
   "source": [
    "$$ logit(y_i) = \\alpha + \\beta_0\\cdot Gender_i + \\beta_1 \\cdot Age_i + \\beta_2 \\cdot CommaScore_i + f(Oxygen_{ij}) $$\n",
    "\n",
    "where variables like $Gender_i$ are static covariates for patient $i$, ${Oxygen}_{ij} $ are the timeseries measurements for that same patient, and $f$ was defined like:\n",
    "\n",
    "$$ f(X_i) = \\sum_j{ \\frac{c_1}{1 + e^{-c_2(X_{ij} - c_3)}} + \\frac{c_4}{1 + e^{-c_5(X_{ij} - c_6)}}  } $$"
   ]
  },
  {
   "cell_type": "code",
   "execution_count": null,
   "metadata": {
    "collapsed": true
   },
   "outputs": [],
   "source": []
  }
 ],
 "metadata": {
  "kernelspec": {
   "display_name": "Python 3",
   "language": "python",
   "name": "python3"
  },
  "language_info": {
   "codemirror_mode": {
    "name": "ipython",
    "version": 3
   },
   "file_extension": ".py",
   "mimetype": "text/x-python",
   "name": "python",
   "nbconvert_exporter": "python",
   "pygments_lexer": "ipython3",
   "version": "3.4.3"
  }
 },
 "nbformat": 4,
 "nbformat_minor": 0
}
