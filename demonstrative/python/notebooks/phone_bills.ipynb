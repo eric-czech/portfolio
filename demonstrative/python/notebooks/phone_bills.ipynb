{
 "metadata": {
  "name": "",
  "signature": "sha256:85b0bfdc08cc5fbf1d27464ebc0372ad13ca7e61c8840537e27ab8ad38908470"
 },
 "nbformat": 3,
 "nbformat_minor": 0,
 "worksheets": [
  {
   "cells": [
    {
     "cell_type": "markdown",
     "metadata": {},
     "source": [
      "# Phone Call Classification\n",
      "\n",
      "Expensing phone bills is a monthly bummer for me (I don't have a strictly business phone) so I thought I'd try to make a quick classifier that could do it for me every month.\n",
      "\n",
      "Below, I walk through training an ensemble tree classifier to identify which calls can be expensed based on csv downloads from my Verizon account.  The statements are pretty detailed and it turns out that a classifier can use them to great effect, performing at least as well as I would (especially considering that I normally say \"screw it, call it 50/50\" half way through when doing it manually).\n",
      "\n",
      "The accuracy of the classifier on test data sets is close to perfect so any more I can just press a button to do the expensing and savor an extra 30 minutes of redditing."
     ]
    },
    {
     "cell_type": "code",
     "collapsed": false,
     "input": [
      "# Some standard pandas/numpy/sklearn imports I'll need\n",
      "import pandas as pd\n",
      "import numpy as np\n",
      "import datetime as dt\n",
      "import matplotlib.pyplot as plt\n",
      "from pandas import DataFrame, Series\n",
      "%pylab inline"
     ],
     "language": "python",
     "metadata": {},
     "outputs": [
      {
       "output_type": "stream",
       "stream": "stdout",
       "text": [
        "Populating the interactive namespace from numpy and matplotlib\n"
       ]
      },
      {
       "output_type": "stream",
       "stream": "stderr",
       "text": [
        "WARNING: pylab import has clobbered these variables: ['test', 'clf', 'split']\n",
        "`%matplotlib` prevents importing * from pylab and numpy\n"
       ]
      }
     ],
     "prompt_number": 7
    },
    {
     "cell_type": "markdown",
     "metadata": {},
     "source": [
      "### Load in raw (Verizon) phone bill data and remove unnecessary fields"
     ]
    },
    {
     "cell_type": "code",
     "collapsed": false,
     "input": [
      "data = pd.io.parsers.read_csv('/Users/eczech/Documents/durable/phone_bills/phone_bill_20140101_20140206.training.csv', sep=None)\n",
      "data = data[[col for col in data.columns.tolist() if not col in ('Airtime', 'Charges', 'Total', 'Description', 'Application Price')]]\n",
      "data.head()"
     ],
     "language": "python",
     "metadata": {},
     "outputs": [
      {
       "output_type": "stream",
       "stream": "stderr",
       "text": [
        "/Users/eczech/nbs/lib/python2.7/site-packages/pandas/io/parsers.py:639: ParserWarning: Falling back to the 'python' engine because the 'c' engine does not support sep=None with delim_whitespace=False; you can avoid this warning by specifying engine='python'.\n",
        "  ParserWarning)\n"
       ]
      },
      {
       "html": [
        "<div style=\"max-height:1000px;max-width:1500px;overflow:auto;\">\n",
        "<table border=\"1\" class=\"dataframe\">\n",
        "  <thead>\n",
        "    <tr style=\"text-align: right;\">\n",
        "      <th></th>\n",
        "      <th>Business</th>\n",
        "      <th>Date</th>\n",
        "      <th>Time</th>\n",
        "      <th>Number</th>\n",
        "      <th>Rate</th>\n",
        "      <th>Usage Type</th>\n",
        "      <th>Origin</th>\n",
        "      <th>Destination</th>\n",
        "      <th>Minutes</th>\n",
        "    </tr>\n",
        "  </thead>\n",
        "  <tbody>\n",
        "    <tr>\n",
        "      <th>0</th>\n",
        "      <td> 0</td>\n",
        "      <td> 01/07/2014</td>\n",
        "      <td>  9:48AM</td>\n",
        "      <td> 843-270-9399</td>\n",
        "      <td> Peak</td>\n",
        "      <td>                M2MAllow</td>\n",
        "      <td> Charleston SC</td>\n",
        "      <td>   Incoming CL</td>\n",
        "      <td>  4</td>\n",
        "    </tr>\n",
        "    <tr>\n",
        "      <th>1</th>\n",
        "      <td> 1</td>\n",
        "      <td> 01/07/2014</td>\n",
        "      <td> 11:32AM</td>\n",
        "      <td> 516-384-4100</td>\n",
        "      <td> Peak</td>\n",
        "      <td>               PlanAllow</td>\n",
        "      <td> Charleston SC</td>\n",
        "      <td> Gardencity NY</td>\n",
        "      <td>  1</td>\n",
        "    </tr>\n",
        "    <tr>\n",
        "      <th>2</th>\n",
        "      <td> 1</td>\n",
        "      <td> 01/07/2014</td>\n",
        "      <td> 11:50AM</td>\n",
        "      <td> 646-398-6444</td>\n",
        "      <td> Peak</td>\n",
        "      <td>               PlanAllow</td>\n",
        "      <td> Charleston SC</td>\n",
        "      <td>   Incoming CL</td>\n",
        "      <td> 13</td>\n",
        "    </tr>\n",
        "    <tr>\n",
        "      <th>3</th>\n",
        "      <td> 0</td>\n",
        "      <td> 01/07/2014</td>\n",
        "      <td>  5:13PM</td>\n",
        "      <td> 717-673-8466</td>\n",
        "      <td> Peak</td>\n",
        "      <td> PlanAllow,NoAnsBusyXfer</td>\n",
        "      <td>     Butler PA</td>\n",
        "      <td>    Lebanon PA</td>\n",
        "      <td>  1</td>\n",
        "    </tr>\n",
        "    <tr>\n",
        "      <th>4</th>\n",
        "      <td> 1</td>\n",
        "      <td> 01/07/2014</td>\n",
        "      <td>  5:24PM</td>\n",
        "      <td> 646-398-6444</td>\n",
        "      <td> Peak</td>\n",
        "      <td>               PlanAllow</td>\n",
        "      <td> Charleston SC</td>\n",
        "      <td>   Incoming CL</td>\n",
        "      <td>  6</td>\n",
        "    </tr>\n",
        "  </tbody>\n",
        "</table>\n",
        "</div>"
       ],
       "metadata": {},
       "output_type": "pyout",
       "prompt_number": 2,
       "text": [
        "   Business        Date     Time        Number  Rate               Usage Type  \\\n",
        "0         0  01/07/2014   9:48AM  843-270-9399  Peak                 M2MAllow   \n",
        "1         1  01/07/2014  11:32AM  516-384-4100  Peak                PlanAllow   \n",
        "2         1  01/07/2014  11:50AM  646-398-6444  Peak                PlanAllow   \n",
        "3         0  01/07/2014   5:13PM  717-673-8466  Peak  PlanAllow,NoAnsBusyXfer   \n",
        "4         1  01/07/2014   5:24PM  646-398-6444  Peak                PlanAllow   \n",
        "\n",
        "          Origin    Destination  Minutes  \n",
        "0  Charleston SC    Incoming CL        4  \n",
        "1  Charleston SC  Gardencity NY        1  \n",
        "2  Charleston SC    Incoming CL       13  \n",
        "3      Butler PA     Lebanon PA        1  \n",
        "4  Charleston SC    Incoming CL        6  "
       ]
      }
     ],
     "prompt_number": 2
    },
    {
     "cell_type": "markdown",
     "metadata": {},
     "source": [
      "Each call record above comes with details like when the call was made, how it was to, how long it was, etc. and for this particular dataset, I went through and added a __Business__ field to indicate whether the call was personal or for my job (0 = personal, 1 = business-related).\n",
      "\n",
      "There seems to be a good amount of useful information in each field, but we'll have to munge out some of the features to make them more amenable to a classifier."
     ]
    },
    {
     "cell_type": "markdown",
     "metadata": {},
     "source": [
      "### Extract relevant features from raw fields"
     ]
    },
    {
     "cell_type": "code",
     "collapsed": false,
     "input": [
      "# Parse city and state out of call origin\n",
      "data = data.merge(data.Origin.apply(lambda x: pd.Series({\n",
      "    'Origin State' : x.split(' ')[-1], \n",
      "    'Origin City'  : ' '.join(x.split(' ')[:-1])\n",
      "})), left_index=True, right_index=True)\n",
      "\n",
      "# Parse city and state out of call destination\n",
      "data = data.merge(data.Destination.apply(lambda x: pd.Series({\n",
      "    'Destination State' : x.split(' ')[-1], \n",
      "    'Destination City'  : ' '.join(x.split(' ')[:-1])\n",
      "})), left_index=True, right_index=True)\n",
      "\n",
      "# Parse out start time as number of minutes into day of call\n",
      "data['Start Time'] = data.Time.apply(lambda x: pd.to_datetime('1970-01-01 ' + x, format='%Y-%m-%d %H:%M%p').value / (60 * 1E9))\n",
      "\n",
      "# Parse out area code from phone number\n",
      "data['Area Code'] = data.Number.apply(lambda x: x.split('-')[0])\n",
      "\n",
      "# Restrict input data, again, to only the fields relevant after feature extraction\n",
      "data = data[[col for col in data.columns.tolist() if col not in ('Date', 'Time', 'Origin', 'Destination')]]\n",
      "\n",
      "data.head()"
     ],
     "language": "python",
     "metadata": {},
     "outputs": [
      {
       "html": [
        "<div style=\"max-height:1000px;max-width:1500px;overflow:auto;\">\n",
        "<table border=\"1\" class=\"dataframe\">\n",
        "  <thead>\n",
        "    <tr style=\"text-align: right;\">\n",
        "      <th></th>\n",
        "      <th>Business</th>\n",
        "      <th>Number</th>\n",
        "      <th>Rate</th>\n",
        "      <th>Usage Type</th>\n",
        "      <th>Minutes</th>\n",
        "      <th>Origin City</th>\n",
        "      <th>Origin State</th>\n",
        "      <th>Destination City</th>\n",
        "      <th>Destination State</th>\n",
        "      <th>Start Time</th>\n",
        "      <th>Area Code</th>\n",
        "    </tr>\n",
        "  </thead>\n",
        "  <tbody>\n",
        "    <tr>\n",
        "      <th>0</th>\n",
        "      <td> 0</td>\n",
        "      <td> 843-270-9399</td>\n",
        "      <td> Peak</td>\n",
        "      <td>                M2MAllow</td>\n",
        "      <td>  4</td>\n",
        "      <td> Charleston</td>\n",
        "      <td> SC</td>\n",
        "      <td>   Incoming</td>\n",
        "      <td> CL</td>\n",
        "      <td> 588</td>\n",
        "      <td> 843</td>\n",
        "    </tr>\n",
        "    <tr>\n",
        "      <th>1</th>\n",
        "      <td> 1</td>\n",
        "      <td> 516-384-4100</td>\n",
        "      <td> Peak</td>\n",
        "      <td>               PlanAllow</td>\n",
        "      <td>  1</td>\n",
        "      <td> Charleston</td>\n",
        "      <td> SC</td>\n",
        "      <td> Gardencity</td>\n",
        "      <td> NY</td>\n",
        "      <td> 692</td>\n",
        "      <td> 516</td>\n",
        "    </tr>\n",
        "    <tr>\n",
        "      <th>2</th>\n",
        "      <td> 1</td>\n",
        "      <td> 646-398-6444</td>\n",
        "      <td> Peak</td>\n",
        "      <td>               PlanAllow</td>\n",
        "      <td> 13</td>\n",
        "      <td> Charleston</td>\n",
        "      <td> SC</td>\n",
        "      <td>   Incoming</td>\n",
        "      <td> CL</td>\n",
        "      <td> 710</td>\n",
        "      <td> 646</td>\n",
        "    </tr>\n",
        "    <tr>\n",
        "      <th>3</th>\n",
        "      <td> 0</td>\n",
        "      <td> 717-673-8466</td>\n",
        "      <td> Peak</td>\n",
        "      <td> PlanAllow,NoAnsBusyXfer</td>\n",
        "      <td>  1</td>\n",
        "      <td>     Butler</td>\n",
        "      <td> PA</td>\n",
        "      <td>    Lebanon</td>\n",
        "      <td> PA</td>\n",
        "      <td> 313</td>\n",
        "      <td> 717</td>\n",
        "    </tr>\n",
        "    <tr>\n",
        "      <th>4</th>\n",
        "      <td> 1</td>\n",
        "      <td> 646-398-6444</td>\n",
        "      <td> Peak</td>\n",
        "      <td>               PlanAllow</td>\n",
        "      <td>  6</td>\n",
        "      <td> Charleston</td>\n",
        "      <td> SC</td>\n",
        "      <td>   Incoming</td>\n",
        "      <td> CL</td>\n",
        "      <td> 324</td>\n",
        "      <td> 646</td>\n",
        "    </tr>\n",
        "  </tbody>\n",
        "</table>\n",
        "</div>"
       ],
       "metadata": {},
       "output_type": "pyout",
       "prompt_number": 3,
       "text": [
        "   Business        Number  Rate               Usage Type  Minutes Origin City  \\\n",
        "0         0  843-270-9399  Peak                 M2MAllow        4  Charleston   \n",
        "1         1  516-384-4100  Peak                PlanAllow        1  Charleston   \n",
        "2         1  646-398-6444  Peak                PlanAllow       13  Charleston   \n",
        "3         0  717-673-8466  Peak  PlanAllow,NoAnsBusyXfer        1      Butler   \n",
        "4         1  646-398-6444  Peak                PlanAllow        6  Charleston   \n",
        "\n",
        "  Origin State Destination City Destination State  Start Time Area Code  \n",
        "0           SC         Incoming                CL         588       843  \n",
        "1           SC       Gardencity                NY         692       516  \n",
        "2           SC         Incoming                CL         710       646  \n",
        "3           PA          Lebanon                PA         313       717  \n",
        "4           SC         Incoming                CL         324       646  "
       ]
      }
     ],
     "prompt_number": 3
    },
    {
     "cell_type": "markdown",
     "metadata": {},
     "source": [
      "Ok, now we've got a more useful data set where the most likely useful features like state of origin/destination, call time of day as seconds, and area code are extracted correctly.  Before we can start to train a classifier though, we'll have to deal with all these categorical/non-numeric values."
     ]
    },
    {
     "cell_type": "markdown",
     "metadata": {},
     "source": [
      "### Encode categorical fields as numeric"
     ]
    },
    {
     "cell_type": "code",
     "collapsed": false,
     "input": [
      "from sklearn.preprocessing import LabelEncoder\n",
      "\n",
      "# Group column names by data type\n",
      "by_type = data.columns.to_series().groupby([t.name for t in data.dtypes])\n",
      "\n",
      "# Apply (and save) a label encoder for each non-numeric field\n",
      "encoders = {}\n",
      "for col in by_type.groups['object']:\n",
      "    encoders[col] = LabelEncoder()\n",
      "    \n",
      "    # Get the set of unique values present in this field\n",
      "    vals = list(set(data[col]))\n",
      "    \n",
      "    # Add an 'unknown' label to be mapped to N/A values\n",
      "    vals.append('Unknown')\n",
      "    \n",
      "    # Fit the encoder to the unique set of values\n",
      "    encoders[col] = encoders[col].fit(vals)\n",
      "    \n",
      "    # Convert any N/A values to our 'unknown' label and apply the encoder\n",
      "    data[col] = data[col].fillna('Unknown')\n",
      "    data[col] = encoders[col].transform(data[col])\n",
      "\n",
      "data.head()"
     ],
     "language": "python",
     "metadata": {},
     "outputs": [
      {
       "html": [
        "<div style=\"max-height:1000px;max-width:1500px;overflow:auto;\">\n",
        "<table border=\"1\" class=\"dataframe\">\n",
        "  <thead>\n",
        "    <tr style=\"text-align: right;\">\n",
        "      <th></th>\n",
        "      <th>Business</th>\n",
        "      <th>Number</th>\n",
        "      <th>Rate</th>\n",
        "      <th>Usage Type</th>\n",
        "      <th>Minutes</th>\n",
        "      <th>Origin City</th>\n",
        "      <th>Origin State</th>\n",
        "      <th>Destination City</th>\n",
        "      <th>Destination State</th>\n",
        "      <th>Start Time</th>\n",
        "      <th>Area Code</th>\n",
        "    </tr>\n",
        "  </thead>\n",
        "  <tbody>\n",
        "    <tr>\n",
        "      <th>0</th>\n",
        "      <td> 0</td>\n",
        "      <td> 15</td>\n",
        "      <td> 1</td>\n",
        "      <td> 0</td>\n",
        "      <td>  4</td>\n",
        "      <td> 1</td>\n",
        "      <td> 2</td>\n",
        "      <td> 3</td>\n",
        "      <td> 1</td>\n",
        "      <td> 588</td>\n",
        "      <td> 10</td>\n",
        "    </tr>\n",
        "    <tr>\n",
        "      <th>1</th>\n",
        "      <td> 1</td>\n",
        "      <td>  3</td>\n",
        "      <td> 1</td>\n",
        "      <td> 4</td>\n",
        "      <td>  1</td>\n",
        "      <td> 1</td>\n",
        "      <td> 2</td>\n",
        "      <td> 2</td>\n",
        "      <td> 3</td>\n",
        "      <td> 692</td>\n",
        "      <td>  3</td>\n",
        "    </tr>\n",
        "    <tr>\n",
        "      <th>2</th>\n",
        "      <td> 1</td>\n",
        "      <td>  7</td>\n",
        "      <td> 1</td>\n",
        "      <td> 4</td>\n",
        "      <td> 13</td>\n",
        "      <td> 1</td>\n",
        "      <td> 2</td>\n",
        "      <td> 3</td>\n",
        "      <td> 1</td>\n",
        "      <td> 710</td>\n",
        "      <td>  5</td>\n",
        "    </tr>\n",
        "    <tr>\n",
        "      <th>3</th>\n",
        "      <td> 0</td>\n",
        "      <td> 10</td>\n",
        "      <td> 1</td>\n",
        "      <td> 6</td>\n",
        "      <td>  1</td>\n",
        "      <td> 0</td>\n",
        "      <td> 1</td>\n",
        "      <td> 5</td>\n",
        "      <td> 4</td>\n",
        "      <td> 313</td>\n",
        "      <td>  7</td>\n",
        "    </tr>\n",
        "    <tr>\n",
        "      <th>4</th>\n",
        "      <td> 1</td>\n",
        "      <td>  7</td>\n",
        "      <td> 1</td>\n",
        "      <td> 4</td>\n",
        "      <td>  6</td>\n",
        "      <td> 1</td>\n",
        "      <td> 2</td>\n",
        "      <td> 3</td>\n",
        "      <td> 1</td>\n",
        "      <td> 324</td>\n",
        "      <td>  5</td>\n",
        "    </tr>\n",
        "  </tbody>\n",
        "</table>\n",
        "</div>"
       ],
       "metadata": {},
       "output_type": "pyout",
       "prompt_number": 4,
       "text": [
        "   Business  Number  Rate  Usage Type  Minutes  Origin City  Origin State  \\\n",
        "0         0      15     1           0        4            1             2   \n",
        "1         1       3     1           4        1            1             2   \n",
        "2         1       7     1           4       13            1             2   \n",
        "3         0      10     1           6        1            0             1   \n",
        "4         1       7     1           4        6            1             2   \n",
        "\n",
        "   Destination City  Destination State  Start Time  Area Code  \n",
        "0                 3                  1         588         10  \n",
        "1                 2                  3         692          3  \n",
        "2                 3                  1         710          5  \n",
        "3                 5                  4         313          7  \n",
        "4                 3                  1         324          5  "
       ]
      }
     ],
     "prompt_number": 4
    },
    {
     "cell_type": "markdown",
     "metadata": {},
     "source": [
      "Now we're ready to go!  All the string fields have been encoded on some one-dimensional numeric space which might not be as good as something like [One-Hot Encoding](http://en.wikipedia.org/wiki/One-hot), but for my purposes it will do just fine."
     ]
    },
    {
     "cell_type": "markdown",
     "metadata": {},
     "source": [
      "### Split data into training and test sets"
     ]
    },
    {
     "cell_type": "code",
     "collapsed": false,
     "input": [
      "# Use 75% train/25% test split\n",
      "i = np.random.permutation(data.shape[0])\n",
      "split = int(len(i)*.75)\n",
      "train, test = data.iloc[i[:split]], data.iloc[i[split:]]"
     ],
     "language": "python",
     "metadata": {},
     "outputs": [],
     "prompt_number": 8
    },
    {
     "cell_type": "markdown",
     "metadata": {},
     "source": [
      "We'll ignore the test set for now and instead see how well a classifier can do with cross-validation on the training data"
     ]
    },
    {
     "cell_type": "markdown",
     "metadata": {},
     "source": [
      "### Run 5-Fold classification on training set"
     ]
    },
    {
     "cell_type": "code",
     "collapsed": false,
     "input": [
      "from sklearn.ensemble import RandomForestClassifier\n",
      "from sklearn.cross_validation import KFold, cross_val_score\n",
      "\n",
      "clf = RandomForestClassifier(n_estimators=100)\n",
      "cv = KFold(train.shape[0], 5, shuffle=True, random_state=0)\n",
      "scores = cross_val_score(clf, train.iloc[:,1:], train.iloc[:,0], cv=cv)\n",
      "\n",
      "# Plot the accuracy for each fold\n",
      "Series(scores).plot(kind='bar', title='Accuracy per Fold')"
     ],
     "language": "python",
     "metadata": {},
     "outputs": [
      {
       "metadata": {},
       "output_type": "pyout",
       "prompt_number": 9,
       "text": [
        "<matplotlib.axes.AxesSubplot at 0x10b731590>"
       ]
      },
      {
       "metadata": {},
       "output_type": "display_data",
       "png": "[encoded data removed]",
       "text": [
        "<matplotlib.figure.Figure at 0x10b718dd0>"
       ]
      }
     ],
     "prompt_number": 9
    },
    {
     "cell_type": "markdown",
     "metadata": {},
     "source": [
      "Not bad!  When I do the classification manually I'd say I'm only about 90% correct so the error of the classifier is similar to my own (i.e. I'll take it).  And now lets see how well it generalizes.."
     ]
    },
    {
     "cell_type": "markdown",
     "metadata": {},
     "source": [
      "### Check generalization to test data"
     ]
    },
    {
     "cell_type": "code",
     "collapsed": false,
     "input": [
      "from sklearn.metrics import classification_report\n",
      "from sklearn.metrics import accuracy_score\n",
      "\n",
      "# Initialize features and response for each set (testing and training)\n",
      "x_train, y_train = train.iloc[:,1:], train.iloc[:,0]\n",
      "x_test, y_test = test.iloc[:,1:], test.iloc[:,0]\n",
      "\n",
      "# Train classifier using training set\n",
      "fit = clf.fit(x_train, y_train)\n",
      "\n",
      "# Make predictions on the test set\n",
      "predicted = clf.predict(x_test)\n",
      "\n",
      "# Show precision, recall, support, and accuracy\n",
      "print 'Performance Measures:'\n",
      "print classification_report(y_test.ravel(), predicted)\n",
      "print 'Overall Accuracy:'\n",
      "print accuracy_score(y_test.ravel(), predicted)"
     ],
     "language": "python",
     "metadata": {},
     "outputs": [
      {
       "output_type": "stream",
       "stream": "stdout",
       "text": [
        "Performance Measures:\n",
        "             precision    recall  f1-score   support\n",
        "\n",
        "          0       1.00      1.00      1.00        16\n",
        "          1       1.00      1.00      1.00         9\n",
        "\n",
        "avg / total       1.00      1.00      1.00        25\n",
        "\n",
        "Overall Accuracy:\n",
        "1.0\n"
       ]
      }
     ],
     "prompt_number": 10
    },
    {
     "cell_type": "markdown",
     "metadata": {},
     "source": [
      "Beautiful.  It would be nice if my training and test data sets were larger but I'll shoot myself if I have to go through that list and do any more manually, and this level accuracy should suffice. \n",
      "\n",
      "Out of curiosity, lets see which features are most important before using the classifier."
     ]
    },
    {
     "cell_type": "markdown",
     "metadata": {},
     "source": [
      "### Check feature influence"
     ]
    },
    {
     "cell_type": "code",
     "collapsed": false,
     "input": [
      "Series(dict(zip(x_train.columns.tolist(), fit.feature_importances_))).order(ascending=False).plot(kind='bar')"
     ],
     "language": "python",
     "metadata": {},
     "outputs": [
      {
       "metadata": {},
       "output_type": "pyout",
       "prompt_number": 11,
       "text": [
        "<matplotlib.axes.AxesSubplot at 0x10b73b290>"
       ]
      },
      {
       "metadata": {},
       "output_type": "display_data",
       "png": "[encoded data removed]",
       "text": [
        "<matplotlib.figure.Figure at 0x10b740510>"
       ]
      }
     ],
     "prompt_number": 11
    },
    {
     "cell_type": "markdown",
     "metadata": {},
     "source": [
      "No concerns here at all. I would have expected the area code and phone numbers themselves to be the most helpful for classifying incoming class while destination state would be the most important for outgoing calls (I usually make them to NY). I would have also expected that the length of the call and 'Start Time' would be important because my business-related calls are usually longer and more clustered towards the middle of the day."
     ]
    },
    {
     "cell_type": "markdown",
     "metadata": {},
     "source": [
      "### Export classifier and field encoders"
     ]
    },
    {
     "cell_type": "code",
     "collapsed": false,
     "input": [
      "import cPickle\n",
      "with open('/Users/eczech/Documents/durable/phone_bills/phone_bill_classifier.pkl', 'wb') as f:\n",
      "    cPickle.dump((clf, encoders), f)    "
     ],
     "language": "python",
     "metadata": {},
     "outputs": [],
     "prompt_number": 12
    },
    {
     "cell_type": "markdown",
     "metadata": {},
     "source": [
      "With the classifier saved, I can apply it to other bills and automatically break out which were personal or not.\n",
      "\n",
      "One thing to note here is that the field encoders also have to be saved for the sake of applying this thing.  The field encoding for new data sets has to match this one exactly and it's also very likely that new values not seen in this data set (i.e. new phone numbers, states, cities, etc.) will come up and the script applying the classifier should encode them as such."
     ]
    },
    {
     "cell_type": "markdown",
     "metadata": {},
     "source": [
      "## Applying the classifier"
     ]
    },
    {
     "cell_type": "markdown",
     "metadata": {},
     "source": [
      "To apply this all, I wrote a separate script to use the saved classifier on arbitrary bills.  The script goes through the same rigamarole -- extracting features, encoding fields, subsetting fields, etc. -- and the determines the classification for each record.\n",
      "\n",
      "Given that classification, then I can figure out how I spend my time on calls which I can then use to set my expenses for the month.\n",
      "\n",
      "For example, ouput of the script would look like this:"
     ]
    },
    {
     "cell_type": "markdown",
     "metadata": {},
     "source": [
      "### Summary of call lengths by type\n",
      "<table border=\"1\" class=\"dataframe\">\n",
      "  <thead>\n",
      "    <tr style=\"text-align: right;\">\n",
      "      <th></th>\n",
      "      <th>count</th>\n",
      "      <th>mean</th>\n",
      "      <th>std</th>\n",
      "      <th>min</th>\n",
      "      <th>25%</th>\n",
      "      <th>50%</th>\n",
      "      <th>75%</th>\n",
      "      <th>max</th>\n",
      "      <th>total_minutes</th>\n",
      "    </tr>\n",
      "    <tr>\n",
      "      <th>Business</th>\n",
      "      <th></th>\n",
      "      <th></th>\n",
      "      <th></th>\n",
      "      <th></th>\n",
      "      <th></th>\n",
      "      <th></th>\n",
      "      <th></th>\n",
      "      <th></th>\n",
      "      <th></th>\n",
      "    </tr>\n",
      "  </thead>\n",
      "  <tbody>\n",
      "    <tr>\n",
      "      <th>0</th>\n",
      "      <td> 72</td>\n",
      "      <td>  5.277778</td>\n",
      "      <td> 10.287723</td>\n",
      "      <td> 1</td>\n",
      "      <td> 1</td>\n",
      "      <td> 2</td>\n",
      "      <td>  4.00</td>\n",
      "      <td> 59</td>\n",
      "      <td> 380</td>\n",
      "    </tr>\n",
      "    <tr>\n",
      "      <th>1</th>\n",
      "      <td> 18</td>\n",
      "      <td> 14.888889</td>\n",
      "      <td> 15.940658</td>\n",
      "      <td> 1</td>\n",
      "      <td> 2</td>\n",
      "      <td> 9</td>\n",
      "      <td> 21.75</td>\n",
      "      <td> 59</td>\n",
      "      <td> 268</td>\n",
      "    </tr>\n",
      "  </tbody>\n",
      "</table>"
     ]
    },
    {
     "cell_type": "markdown",
     "metadata": {},
     "source": [
      "Not surprisingly, I make more personal calls but they're usually shorter (average of 5 mins vs 15 for business calls).\n",
      "\n",
      "Either way, this is sweet! I can use the split between minutes spent making calls of one type or another to determine how much of my phone bill to submit for reimbursement."
     ]
    }
   ],
   "metadata": {}
  }
 ]
}