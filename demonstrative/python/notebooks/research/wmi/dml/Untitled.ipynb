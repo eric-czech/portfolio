{
 "cells": [
  {
   "cell_type": "markdown",
   "metadata": {},
   "source": [
    "## Generate SQL Statements"
   ]
  },
  {
   "cell_type": "code",
   "execution_count": 1,
   "metadata": {
    "collapsed": true
   },
   "outputs": [],
   "source": [
    "params = [\n",
    "    'Alkalinity',\n",
    "    'Ammonia',\n",
    "    'Appearance',\n",
    "    'Arsenic',\n",
    "    'ChlorineFree',\n",
    "    'ChlorineTotal',\n",
    "    'Color',\n",
    "    'Conductivity',\n",
    "    'Copper',\n",
    "    'Ecoli',\n",
    "    'FecalColiforms',\n",
    "    'Fluoride',\n",
    "    'Hardness',\n",
    "    'HydrogenSulfide',\n",
    "    'Iron',\n",
    "    'Manganese',\n",
    "    'Nitrate',\n",
    "    'Nitrite',\n",
    "    'Odor',\n",
    "    'pH',\n",
    "    'Phosphate',\n",
    "    'Selenium',\n",
    "    'Smell',\n",
    "    'Sulfate',\n",
    "    'Temperature',\n",
    "    'TotalColiforms',\n",
    "    'Turbidity'\n",
    "]"
   ]
  },
  {
   "cell_type": "code",
   "execution_count": 8,
   "metadata": {},
   "outputs": [
    {
     "name": "stdout",
     "output_type": "stream",
     "text": [
      "MIN(Alkalinity) AS MinAlkalinity,\n",
      "MAX(Alkalinity) AS MaxAlkalinity,\n",
      "AVG(Alkalinity) AS MeanAlkalinity,\n",
      "MIN(Ammonia) AS MinAmmonia,\n",
      "MAX(Ammonia) AS MaxAmmonia,\n",
      "AVG(Ammonia) AS MeanAmmonia,\n",
      "MIN(Appearance) AS MinAppearance,\n",
      "MAX(Appearance) AS MaxAppearance,\n",
      "AVG(Appearance) AS MeanAppearance,\n",
      "MIN(Arsenic) AS MinArsenic,\n",
      "MAX(Arsenic) AS MaxArsenic,\n",
      "AVG(Arsenic) AS MeanArsenic,\n",
      "MIN(ChlorineFree) AS MinChlorineFree,\n",
      "MAX(ChlorineFree) AS MaxChlorineFree,\n",
      "AVG(ChlorineFree) AS MeanChlorineFree,\n",
      "MIN(ChlorineTotal) AS MinChlorineTotal,\n",
      "MAX(ChlorineTotal) AS MaxChlorineTotal,\n",
      "AVG(ChlorineTotal) AS MeanChlorineTotal,\n",
      "MIN(Color) AS MinColor,\n",
      "MAX(Color) AS MaxColor,\n",
      "AVG(Color) AS MeanColor,\n",
      "MIN(Conductivity) AS MinConductivity,\n",
      "MAX(Conductivity) AS MaxConductivity,\n",
      "AVG(Conductivity) AS MeanConductivity,\n",
      "MIN(Copper) AS MinCopper,\n",
      "MAX(Copper) AS MaxCopper,\n",
      "AVG(Copper) AS MeanCopper,\n",
      "MIN(Ecoli) AS MinEcoli,\n",
      "MAX(Ecoli) AS MaxEcoli,\n",
      "AVG(Ecoli) AS MeanEcoli,\n",
      "MIN(FecalColiforms) AS MinFecalColiforms,\n",
      "MAX(FecalColiforms) AS MaxFecalColiforms,\n",
      "AVG(FecalColiforms) AS MeanFecalColiforms,\n",
      "MIN(Fluoride) AS MinFluoride,\n",
      "MAX(Fluoride) AS MaxFluoride,\n",
      "AVG(Fluoride) AS MeanFluoride,\n",
      "MIN(Hardness) AS MinHardness,\n",
      "MAX(Hardness) AS MaxHardness,\n",
      "AVG(Hardness) AS MeanHardness,\n",
      "MIN(HydrogenSulfide) AS MinHydrogenSulfide,\n",
      "MAX(HydrogenSulfide) AS MaxHydrogenSulfide,\n",
      "AVG(HydrogenSulfide) AS MeanHydrogenSulfide,\n",
      "MIN(Iron) AS MinIron,\n",
      "MAX(Iron) AS MaxIron,\n",
      "AVG(Iron) AS MeanIron,\n",
      "MIN(Manganese) AS MinManganese,\n",
      "MAX(Manganese) AS MaxManganese,\n",
      "AVG(Manganese) AS MeanManganese,\n",
      "MIN(Nitrate) AS MinNitrate,\n",
      "MAX(Nitrate) AS MaxNitrate,\n",
      "AVG(Nitrate) AS MeanNitrate,\n",
      "MIN(Nitrite) AS MinNitrite,\n",
      "MAX(Nitrite) AS MaxNitrite,\n",
      "AVG(Nitrite) AS MeanNitrite,\n",
      "MIN(Odor) AS MinOdor,\n",
      "MAX(Odor) AS MaxOdor,\n",
      "AVG(Odor) AS MeanOdor,\n",
      "MIN(pH) AS MinpH,\n",
      "MAX(pH) AS MaxpH,\n",
      "AVG(pH) AS MeanpH,\n",
      "MIN(Phosphate) AS MinPhosphate,\n",
      "MAX(Phosphate) AS MaxPhosphate,\n",
      "AVG(Phosphate) AS MeanPhosphate,\n",
      "MIN(Selenium) AS MinSelenium,\n",
      "MAX(Selenium) AS MaxSelenium,\n",
      "AVG(Selenium) AS MeanSelenium,\n",
      "MIN(Smell) AS MinSmell,\n",
      "MAX(Smell) AS MaxSmell,\n",
      "AVG(Smell) AS MeanSmell,\n",
      "MIN(Sulfate) AS MinSulfate,\n",
      "MAX(Sulfate) AS MaxSulfate,\n",
      "AVG(Sulfate) AS MeanSulfate,\n",
      "MIN(Temperature) AS MinTemperature,\n",
      "MAX(Temperature) AS MaxTemperature,\n",
      "AVG(Temperature) AS MeanTemperature,\n",
      "MIN(TotalColiforms) AS MinTotalColiforms,\n",
      "MAX(TotalColiforms) AS MaxTotalColiforms,\n",
      "AVG(TotalColiforms) AS MeanTotalColiforms,\n",
      "MIN(Turbidity) AS MinTurbidity,\n",
      "MAX(Turbidity) AS MaxTurbidity,\n",
      "AVG(Turbidity) AS MeanTurbidity\n"
     ]
    }
   ],
   "source": [
    "r = []\n",
    "for p in params:\n",
    "    r.append('MIN({}) AS Min{}'.format(p, p))\n",
    "    r.append('MAX({}) AS Max{}'.format(p, p))\n",
    "    r.append('AVG({}) AS Mean{}'.format(p, p))\n",
    "print(\",\\n\".join(r))"
   ]
  },
  {
   "cell_type": "code",
   "execution_count": 11,
   "metadata": {},
   "outputs": [
    {
     "data": {
      "text/plain": [
       "['Alkalinity',\n",
       " 'Ammonia',\n",
       " 'Appearance',\n",
       " 'Arsenic',\n",
       " 'ChlorineFree',\n",
       " 'ChlorineTotal',\n",
       " 'Color',\n",
       " 'Conductivity',\n",
       " 'Copper',\n",
       " 'Ecoli',\n",
       " 'FecalColiforms',\n",
       " 'Fluoride',\n",
       " 'Hardness',\n",
       " 'HydrogenSulfide',\n",
       " 'Iron',\n",
       " 'Manganese',\n",
       " 'Nitrate',\n",
       " 'Nitrite',\n",
       " 'Odor',\n",
       " 'pH',\n",
       " 'Phosphate',\n",
       " 'Selenium',\n",
       " 'Smell',\n",
       " 'Sulfate',\n",
       " 'Temperature',\n",
       " 'TotalColiforms',\n",
       " 'Turbidity']"
      ]
     },
     "execution_count": 11,
     "metadata": {},
     "output_type": "execute_result"
    }
   ],
   "source": [
    "params"
   ]
  },
  {
   "cell_type": "code",
   "execution_count": 15,
   "metadata": {},
   "outputs": [
    {
     "name": "stdout",
     "output_type": "stream",
     "text": [
      "C.MaxAlkalinity AS WQTRMaxAlkalinity,\n",
      "C.MaxAmmonia AS WQTRMaxAmmonia,\n",
      "C.MaxAppearance AS WQTRMaxAppearance,\n",
      "C.MaxArsenic AS WQTRMaxArsenic,\n",
      "C.MaxChlorineFree AS WQTRMaxChlorineFree,\n",
      "C.MaxChlorineTotal AS WQTRMaxChlorineTotal,\n",
      "C.MaxColor AS WQTRMaxColor,\n",
      "C.MaxConductivity AS WQTRMaxConductivity,\n",
      "C.MaxCopper AS WQTRMaxCopper,\n",
      "C.MaxEcoli AS WQTRMaxEcoli,\n",
      "C.MaxFecalColiforms AS WQTRMaxFecalColiforms,\n",
      "C.MaxFluoride AS WQTRMaxFluoride,\n",
      "C.MaxHardness AS WQTRMaxHardness,\n",
      "C.MaxHydrogenSulfide AS WQTRMaxHydrogenSulfide,\n",
      "C.MaxIron AS WQTRMaxIron,\n",
      "C.MaxManganese AS WQTRMaxManganese,\n",
      "C.MaxNitrate AS WQTRMaxNitrate,\n",
      "C.MaxNitrite AS WQTRMaxNitrite,\n",
      "C.MaxOdor AS WQTRMaxOdor,\n",
      "C.MaxpH AS WQTRMaxpH,\n",
      "C.MaxPhosphate AS WQTRMaxPhosphate,\n",
      "C.MaxSelenium AS WQTRMaxSelenium,\n",
      "C.MaxSmell AS WQTRMaxSmell,\n",
      "C.MaxSulfate AS WQTRMaxSulfate,\n",
      "C.MaxTemperature AS WQTRMaxTemperature,\n",
      "C.MaxTotalColiforms AS WQTRMaxTotalColiforms,\n",
      "C.MaxTurbidity AS WQTRMaxTurbidity\n"
     ]
    }
   ],
   "source": [
    "r = []\n",
    "for p in params:\n",
    "    r.append(\"C.Max{} AS WQTRMax{}\".format(p, p))\n",
    "print(\",\\n\".join(r))"
   ]
  },
  {
   "cell_type": "code",
   "execution_count": 17,
   "metadata": {},
   "outputs": [
    {
     "name": "stdout",
     "output_type": "stream",
     "text": [
      "D.MinChlorineFree AS WQDPMinChlorineFree,\n",
      "D.MaxChlorineFree AS WQDPMaxChlorineFree,\n",
      "D.MeanChlorineFree AS WQDPMeanChlorineFree,\n",
      "D.MinChlorineTotal AS WQDPMinChlorineTotal,\n",
      "D.MaxChlorineTotal AS WQDPMaxChlorineTotal,\n",
      "D.MeanChlorineTotal AS WQDPMeanChlorineTotal,\n",
      "D.MinFecalColiforms AS WQDPMinFecalColiforms,\n",
      "D.MaxFecalColiforms AS WQDPMaxFecalColiforms,\n",
      "D.MeanFecalColiforms AS WQDPMeanFecalColiforms,\n",
      "D.MinTotalColiforms AS WQDPMinTotalColiforms,\n",
      "D.MaxTotalColiforms AS WQDPMaxTotalColiforms,\n",
      "D.MeanTotalColiforms AS WQDPMeanTotalColiforms,\n",
      "D.MinTurbidity AS WQDPMinTurbidity,\n",
      "D.MaxTurbidity AS WQDPMaxTurbidity,\n",
      "D.MeanTurbidity AS WQDPMeanTurbidity\n"
     ]
    }
   ],
   "source": [
    "r = []\n",
    "for p in ['ChlorineFree', 'ChlorineTotal', 'FecalColiforms', 'TotalColiforms', 'Turbidity']:\n",
    "    for s in ['Min', 'Max', 'Mean']:\n",
    "        r.append(\"D.{}{} AS WQDP{}{}\".format(s, p, s, p))\n",
    "print(\",\\n\".join(r))"
   ]
  },
  {
   "cell_type": "code",
   "execution_count": null,
   "metadata": {
    "collapsed": true
   },
   "outputs": [],
   "source": []
  }
 ],
 "metadata": {
  "kernelspec": {
   "display_name": "Python 3",
   "language": "python",
   "name": "python3"
  },
  "language_info": {
   "codemirror_mode": {
    "name": "ipython",
    "version": 3
   },
   "file_extension": ".py",
   "mimetype": "text/x-python",
   "name": "python",
   "nbconvert_exporter": "python",
   "pygments_lexer": "ipython3",
   "version": "3.5.2"
  }
 },
 "nbformat": 4,
 "nbformat_minor": 2
}
