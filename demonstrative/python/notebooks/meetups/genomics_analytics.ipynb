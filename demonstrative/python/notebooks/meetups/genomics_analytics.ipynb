{
 "cells": [
  {
   "cell_type": "code",
   "execution_count": 2,
   "metadata": {
    "collapsed": false
   },
   "outputs": [
    {
     "name": "stdout",
     "output_type": "stream",
     "text": [
      "The rpy2.ipython extension is already loaded. To reload it, use:\n",
      "  %reload_ext rpy2.ipython\n"
     ]
    }
   ],
   "source": [
    "%matplotlib inline\n",
    "%load_ext rpy2.ipython\n",
    "repo = 'https://raw.githubusercontent.com/guester/Charleston-Data-Analytics-Cancer-Genomics-Data-Challenge/master/'"
   ]
  },
  {
   "cell_type": "code",
   "execution_count": 3,
   "metadata": {
    "collapsed": true
   },
   "outputs": [],
   "source": [
    "import os\n",
    "import pickle\n",
    "def fetch(url):\n",
    "    fpath = '/tmp/genomics_analytics_'+url.split('/')[-1]+'.pkl'\n",
    "    if os.path.exists(fpath):\n",
    "        return pd.read_pickle(fpath)\n",
    "    else:\n",
    "        d = pd.read_csv(url)\n",
    "        d.to_pickle(fpath)\n",
    "        return d"
   ]
  },
  {
   "cell_type": "code",
   "execution_count": 4,
   "metadata": {
    "collapsed": false
   },
   "outputs": [],
   "source": [
    "d_cn_r = fetch(repo + 'copy_number.csv')"
   ]
  },
  {
   "cell_type": "code",
   "execution_count": 5,
   "metadata": {
    "collapsed": true
   },
   "outputs": [],
   "source": [
    "d_ge_r = fetch(repo + 'gene_expression.csv')"
   ]
  },
  {
   "cell_type": "code",
   "execution_count": 6,
   "metadata": {
    "collapsed": true
   },
   "outputs": [],
   "source": [
    "d_mu_r = fetch(repo + 'mutations.csv')"
   ]
  },
  {
   "cell_type": "code",
   "execution_count": 7,
   "metadata": {
    "collapsed": false
   },
   "outputs": [
    {
     "data": {
      "text/plain": [
       "array(['resistant', 'sensitive'], \n",
       "      dtype='<U9')"
      ]
     },
     "execution_count": 7,
     "metadata": {},
     "output_type": "execute_result"
    }
   ],
   "source": [
    "from sklearn.preprocessing import LabelEncoder, StandardScaler\n",
    "\n",
    "non_features = ['Response', 'Cell_Line']\n",
    "response = 'Response'\n",
    "\n",
    "scaler = StandardScaler()\n",
    "res_enc = LabelEncoder()\n",
    "res_enc.fit(['resistant', 'sensitive'])\n",
    "res_enc.classes_"
   ]
  },
  {
   "cell_type": "code",
   "execution_count": 8,
   "metadata": {
    "collapsed": true
   },
   "outputs": [],
   "source": [
    "def prep_generic(d, non_features, prefix):\n",
    "    d = d[d['Response'] != 'hidden'].copy()\n",
    "    d['Response'] = res_enc.transform(d['Response'])\n",
    "    d = d.rename(columns=lambda x: prefix + x if x not in non_features else x)\n",
    "    return d\n",
    "\n",
    "def prep_numeric(d, non_features):\n",
    "    # Drop columns with ALL NAs\n",
    "    ncol = d.shape[1]\n",
    "    d = d.dropna(axis=1, how='all')\n",
    "    \n",
    "    # Drop rows with fewer than 10 non-NA values\n",
    "    nrow = d.shape[0]\n",
    "    d = d.dropna(axis=0, how='all', thresh=10)\n",
    "    \n",
    "    # Standardize numeric values\n",
    "    features = [c for c in d if not c in non_features]\n",
    "    d[features] = d[features].apply(lambda x: scaler.fit_transform(x)).copy()\n",
    "    \n",
    "    print('Ncol before = {}, Ncol after = {}, Nrow before = {}, Nrow after = {}'\\\n",
    "        .format(ncol, d.shape[1], nrow, d.shape[0]))\n",
    "    return d\n",
    "\n",
    "def prep_character(d, non_features):\n",
    "    # Drop columns with ALL NAs\n",
    "    ncol = d.shape[1]\n",
    "    d = d.dropna(axis=1, how='all')\n",
    "    \n",
    "    # Label encode remaining columns\n",
    "    features = [c for c in d if not c in non_features]\n",
    "    d[features] = d[features].apply(lambda x: LabelEncoder().fit_transform(x.fillna('NA'))).copy()\n",
    "    \n",
    "    print('Ncol before = {}, Ncol after = {}'\\\n",
    "        .format(ncol, d.shape[1]))\n",
    "    return d"
   ]
  },
  {
   "cell_type": "code",
   "execution_count": 9,
   "metadata": {
    "collapsed": false
   },
   "outputs": [],
   "source": [
    "d_cn = prep_generic(d_cn_r, non_features, 'cn:')\n",
    "d_ge = prep_generic(d_ge_r, non_features, 'ge:')\n",
    "d_mu = prep_generic(d_mu_r, non_features, 'mu:')"
   ]
  },
  {
   "cell_type": "code",
   "execution_count": 10,
   "metadata": {
    "collapsed": false
   },
   "outputs": [
    {
     "name": "stdout",
     "output_type": "stream",
     "text": [
      "Copy Number:\n",
      "Ncol before = 39410, Ncol after = 21522, Nrow before = 81, Nrow after = 79\n",
      "Gene Expression:\n",
      "Ncol before = 39410, Ncol after = 16061, Nrow before = 81, Nrow after = 79\n",
      "Mutations:\n",
      "Ncol before = 39410, Ncol after = 1556\n"
     ]
    },
    {
     "name": "stderr",
     "output_type": "stream",
     "text": [
      "/Users/eczech/anaconda/envs/research3.3/lib/python3.3/site-packages/pandas/core/frame.py:2148: SettingWithCopyWarning: \n",
      "A value is trying to be set on a copy of a slice from a DataFrame.\n",
      "Try using .loc[row_indexer,col_indexer] = value instead\n",
      "\n",
      "See the the caveats in the documentation: http://pandas.pydata.org/pandas-docs/stable/indexing.html#indexing-view-versus-copy\n",
      "  self[k1] = value[k2]\n"
     ]
    }
   ],
   "source": [
    "print('Copy Number:')\n",
    "d_cn = prep_numeric(d_cn, non_features)\n",
    "\n",
    "print('Gene Expression:')\n",
    "d_ge = prep_numeric(d_ge, non_features)\n",
    "\n",
    "print('Mutations:')\n",
    "d_mu = prep_character(d_mu, non_features)"
   ]
  },
  {
   "cell_type": "code",
   "execution_count": 11,
   "metadata": {
    "collapsed": false
   },
   "outputs": [
    {
     "data": {
      "text/plain": [
       "[79, 81, 79]"
      ]
     },
     "execution_count": 11,
     "metadata": {},
     "output_type": "execute_result"
    }
   ],
   "source": [
    "list(map(len, [d_cn, d_mu, d_ge]))"
   ]
  },
  {
   "cell_type": "code",
   "execution_count": 12,
   "metadata": {
    "collapsed": false
   },
   "outputs": [
    {
     "name": "stdout",
     "output_type": "stream",
     "text": [
      "<class 'pandas.core.frame.DataFrame'>\n",
      "Index: 79 entries, A375 to WSUDLCL2\n",
      "Columns: 39134 entries, Response to mu:ZNF841\n",
      "dtypes: float64(37579), int64(1555)\n",
      "memory usage: 23.6+ MB\n"
     ]
    }
   ],
   "source": [
    "data = pd.concat([d.set_index(non_features) for d in [d_cn, d_ge, d_mu]], axis=1, join='inner')\n",
    "data = data.reset_index().set_index('Cell_Line')\n",
    "data.info()"
   ]
  },
  {
   "cell_type": "markdown",
   "metadata": {},
   "source": [
    "# Modeling"
   ]
  },
  {
   "cell_type": "code",
   "execution_count": 128,
   "metadata": {
    "collapsed": false
   },
   "outputs": [
    {
     "data": {
      "text/plain": [
       "<module 'ml.datasets' from '/Users/eczech/repos/portfolio/functional/ml/python/ml/datasets.py'>"
      ]
     },
     "execution_count": 128,
     "metadata": {},
     "output_type": "execute_result"
    }
   ],
   "source": [
    "from ml import models, datasets\n",
    "import imp\n",
    "imp.reload(models)\n",
    "imp.reload(datasets)"
   ]
  },
  {
   "cell_type": "code",
   "execution_count": 14,
   "metadata": {
    "collapsed": false
   },
   "outputs": [
    {
     "data": {
      "text/html": [
       "<div>\n",
       "<table border=\"1\" class=\"dataframe\">\n",
       "  <thead>\n",
       "    <tr style=\"text-align: right;\">\n",
       "      <th></th>\n",
       "      <th>Response</th>\n",
       "      <th>cn:A1BG</th>\n",
       "      <th>cn:A1BG.AS1</th>\n",
       "      <th>cn:A1CF</th>\n",
       "      <th>cn:A2M</th>\n",
       "      <th>cn:A2M.AS1</th>\n",
       "      <th>cn:A2ML1</th>\n",
       "      <th>cn:A2MP1</th>\n",
       "      <th>cn:A4GALT</th>\n",
       "      <th>cn:A4GNT</th>\n",
       "      <th>...</th>\n",
       "      <th>mu:ZNF470</th>\n",
       "      <th>mu:ZNF497</th>\n",
       "      <th>mu:ZNF521</th>\n",
       "      <th>mu:ZNF546</th>\n",
       "      <th>mu:ZNF573</th>\n",
       "      <th>mu:ZNF594</th>\n",
       "      <th>mu:ZNF608</th>\n",
       "      <th>mu:ZNF668</th>\n",
       "      <th>mu:ZNF717</th>\n",
       "      <th>mu:ZNF841</th>\n",
       "    </tr>\n",
       "    <tr>\n",
       "      <th>Cell_Line</th>\n",
       "      <th></th>\n",
       "      <th></th>\n",
       "      <th></th>\n",
       "      <th></th>\n",
       "      <th></th>\n",
       "      <th></th>\n",
       "      <th></th>\n",
       "      <th></th>\n",
       "      <th></th>\n",
       "      <th></th>\n",
       "      <th></th>\n",
       "      <th></th>\n",
       "      <th></th>\n",
       "      <th></th>\n",
       "      <th></th>\n",
       "      <th></th>\n",
       "      <th></th>\n",
       "      <th></th>\n",
       "      <th></th>\n",
       "      <th></th>\n",
       "      <th></th>\n",
       "    </tr>\n",
       "  </thead>\n",
       "  <tbody>\n",
       "    <tr>\n",
       "      <th>A375</th>\n",
       "      <td>0</td>\n",
       "      <td>-0.168216</td>\n",
       "      <td>-0.168216</td>\n",
       "      <td>-1.092218</td>\n",
       "      <td>0.000000</td>\n",
       "      <td>0.000000</td>\n",
       "      <td>-0.015456</td>\n",
       "      <td>0.000000</td>\n",
       "      <td>-0.906389</td>\n",
       "      <td>-0.376322</td>\n",
       "      <td>...</td>\n",
       "      <td>0</td>\n",
       "      <td>0</td>\n",
       "      <td>6</td>\n",
       "      <td>0</td>\n",
       "      <td>1</td>\n",
       "      <td>1</td>\n",
       "      <td>6</td>\n",
       "      <td>0</td>\n",
       "      <td>1</td>\n",
       "      <td>0</td>\n",
       "    </tr>\n",
       "    <tr>\n",
       "      <th>AMO1</th>\n",
       "      <td>0</td>\n",
       "      <td>1.160689</td>\n",
       "      <td>1.160689</td>\n",
       "      <td>-1.092218</td>\n",
       "      <td>1.187735</td>\n",
       "      <td>1.187735</td>\n",
       "      <td>1.205577</td>\n",
       "      <td>1.187735</td>\n",
       "      <td>-0.906389</td>\n",
       "      <td>-0.376322</td>\n",
       "      <td>...</td>\n",
       "      <td>1</td>\n",
       "      <td>0</td>\n",
       "      <td>6</td>\n",
       "      <td>0</td>\n",
       "      <td>1</td>\n",
       "      <td>1</td>\n",
       "      <td>6</td>\n",
       "      <td>0</td>\n",
       "      <td>1</td>\n",
       "      <td>0</td>\n",
       "    </tr>\n",
       "    <tr>\n",
       "      <th>CAL12T</th>\n",
       "      <td>0</td>\n",
       "      <td>-1.497120</td>\n",
       "      <td>-1.497120</td>\n",
       "      <td>1.832705</td>\n",
       "      <td>0.000000</td>\n",
       "      <td>0.000000</td>\n",
       "      <td>-0.015456</td>\n",
       "      <td>0.000000</td>\n",
       "      <td>-0.906389</td>\n",
       "      <td>1.039366</td>\n",
       "      <td>...</td>\n",
       "      <td>1</td>\n",
       "      <td>0</td>\n",
       "      <td>6</td>\n",
       "      <td>0</td>\n",
       "      <td>1</td>\n",
       "      <td>1</td>\n",
       "      <td>1</td>\n",
       "      <td>0</td>\n",
       "      <td>1</td>\n",
       "      <td>0</td>\n",
       "    </tr>\n",
       "    <tr>\n",
       "      <th>CFPAC1</th>\n",
       "      <td>0</td>\n",
       "      <td>-1.497120</td>\n",
       "      <td>-1.497120</td>\n",
       "      <td>1.832705</td>\n",
       "      <td>-1.187735</td>\n",
       "      <td>-1.187735</td>\n",
       "      <td>-1.236489</td>\n",
       "      <td>-1.187735</td>\n",
       "      <td>-0.906389</td>\n",
       "      <td>1.039366</td>\n",
       "      <td>...</td>\n",
       "      <td>1</td>\n",
       "      <td>0</td>\n",
       "      <td>6</td>\n",
       "      <td>0</td>\n",
       "      <td>1</td>\n",
       "      <td>1</td>\n",
       "      <td>6</td>\n",
       "      <td>0</td>\n",
       "      <td>1</td>\n",
       "      <td>0</td>\n",
       "    </tr>\n",
       "    <tr>\n",
       "      <th>COV318</th>\n",
       "      <td>0</td>\n",
       "      <td>1.160689</td>\n",
       "      <td>1.160689</td>\n",
       "      <td>-1.092218</td>\n",
       "      <td>0.000000</td>\n",
       "      <td>0.000000</td>\n",
       "      <td>-0.015456</td>\n",
       "      <td>0.000000</td>\n",
       "      <td>-0.906389</td>\n",
       "      <td>1.039366</td>\n",
       "      <td>...</td>\n",
       "      <td>1</td>\n",
       "      <td>0</td>\n",
       "      <td>6</td>\n",
       "      <td>0</td>\n",
       "      <td>1</td>\n",
       "      <td>1</td>\n",
       "      <td>0</td>\n",
       "      <td>0</td>\n",
       "      <td>1</td>\n",
       "      <td>0</td>\n",
       "    </tr>\n",
       "  </tbody>\n",
       "</table>\n",
       "<p>5 rows × 39134 columns</p>\n",
       "</div>"
      ],
      "text/plain": [
       "           Response   cn:A1BG  cn:A1BG.AS1   cn:A1CF    cn:A2M  cn:A2M.AS1  \\\n",
       "Cell_Line                                                                    \n",
       "A375              0 -0.168216    -0.168216 -1.092218  0.000000    0.000000   \n",
       "AMO1              0  1.160689     1.160689 -1.092218  1.187735    1.187735   \n",
       "CAL12T            0 -1.497120    -1.497120  1.832705  0.000000    0.000000   \n",
       "CFPAC1            0 -1.497120    -1.497120  1.832705 -1.187735   -1.187735   \n",
       "COV318            0  1.160689     1.160689 -1.092218  0.000000    0.000000   \n",
       "\n",
       "           cn:A2ML1  cn:A2MP1  cn:A4GALT  cn:A4GNT    ...      mu:ZNF470  \\\n",
       "Cell_Line                                             ...                  \n",
       "A375      -0.015456  0.000000  -0.906389 -0.376322    ...              0   \n",
       "AMO1       1.205577  1.187735  -0.906389 -0.376322    ...              1   \n",
       "CAL12T    -0.015456  0.000000  -0.906389  1.039366    ...              1   \n",
       "CFPAC1    -1.236489 -1.187735  -0.906389  1.039366    ...              1   \n",
       "COV318    -0.015456  0.000000  -0.906389  1.039366    ...              1   \n",
       "\n",
       "           mu:ZNF497  mu:ZNF521  mu:ZNF546  mu:ZNF573  mu:ZNF594  mu:ZNF608  \\\n",
       "Cell_Line                                                                     \n",
       "A375               0          6          0          1          1          6   \n",
       "AMO1               0          6          0          1          1          6   \n",
       "CAL12T             0          6          0          1          1          1   \n",
       "CFPAC1             0          6          0          1          1          6   \n",
       "COV318             0          6          0          1          1          0   \n",
       "\n",
       "           mu:ZNF668  mu:ZNF717  mu:ZNF841  \n",
       "Cell_Line                                   \n",
       "A375               0          1          0  \n",
       "AMO1               0          1          0  \n",
       "CAL12T             0          1          0  \n",
       "CFPAC1             0          1          0  \n",
       "COV318             0          1          0  \n",
       "\n",
       "[5 rows x 39134 columns]"
      ]
     },
     "execution_count": 14,
     "metadata": {},
     "output_type": "execute_result"
    }
   ],
   "source": [
    "data.head()"
   ]
  },
  {
   "cell_type": "code",
   "execution_count": 98,
   "metadata": {
    "collapsed": false
   },
   "outputs": [],
   "source": [
    "features = [c for c in data if not c in non_features]\n",
    "X, y = data[features], data[response]"
   ]
  },
  {
   "cell_type": "code",
   "execution_count": 99,
   "metadata": {
    "collapsed": false
   },
   "outputs": [
    {
     "data": {
      "text/plain": [
       "LogisticRegression(C=1.0, class_weight=None, dual=False, fit_intercept=True,\n",
       "          intercept_scaling=1, max_iter=100, multi_class='ovr',\n",
       "          penalty='l2', random_state=None, solver='liblinear', tol=0.0001,\n",
       "          verbose=0)"
      ]
     },
     "execution_count": 99,
     "metadata": {},
     "output_type": "execute_result"
    }
   ],
   "source": [
    "from sklearn.linear_model import LogisticRegression, LogisticRegressionCV\n",
    "\n",
    "GradientBoostingClassifier()\n",
    "RandomForestClassifier()\n",
    "LogisticRegression()"
   ]
  },
  {
   "cell_type": "code",
   "execution_count": 102,
   "metadata": {
    "collapsed": false
   },
   "outputs": [
    {
     "name": "stderr",
     "output_type": "stream",
     "text": [
      "[INFO/PoolWorker-103] child process calling self.run()\n",
      "[INFO/PoolWorker-104] child process calling self.run()\n",
      "[INFO/PoolWorker-103] child process calling self.run()\n",
      "[INFO/PoolWorker-103] child process calling self.run()\n",
      "[INFO/PoolWorker-105] child process calling self.run()\n",
      "[INFO/PoolWorker-104] child process calling self.run()\n",
      "[INFO/PoolWorker-103] child process calling self.run()\n",
      "[INFO/PoolWorker-105] child process calling self.run()\n",
      "[INFO/PoolWorker-104] child process calling self.run()\n",
      "[INFO/PoolWorker-103] child process calling self.run()\n",
      "[INFO/PoolWorker-105] child process calling self.run()\n",
      "[INFO/PoolWorker-104] child process calling self.run()\n",
      "[INFO/PoolWorker-103] child process calling self.run()\n",
      "[INFO/PoolWorker-105] child process calling self.run()\n",
      "[INFO/PoolWorker-104] child process calling self.run()\n",
      "[INFO/PoolWorker-103] child process calling self.run()\n",
      "[INFO/PoolWorker-105] child process calling self.run()\n",
      "[INFO/PoolWorker-104] child process calling self.run()\n",
      "[INFO/PoolWorker-103] child process calling self.run()\n",
      "[INFO/PoolWorker-104] child process calling self.run()\n",
      "[INFO/PoolWorker-103] child process calling self.run()\n",
      "[INFO/PoolWorker-104] child process calling self.run()\n",
      "[INFO/PoolWorker-103] child process calling self.run()\n",
      "[INFO/PoolWorker-105] child process calling self.run()\n",
      "[INFO/PoolWorker-104] child process calling self.run()\n",
      "[INFO/PoolWorker-103] child process calling self.run()\n",
      "[INFO/PoolWorker-104] child process calling self.run()\n",
      "[INFO/PoolWorker-103] child process calling self.run()\n",
      "[INFO/PoolWorker-103] child process calling self.run()\n",
      "[INFO/PoolWorker-106] child process calling self.run()\n",
      "[INFO/PoolWorker-107] child process calling self.run()\n",
      "[INFO/PoolWorker-108] child process calling self.run()\n",
      "[INFO/PoolWorker-105] child process calling self.run()\n",
      "[INFO/PoolWorker-104] child process calling self.run()\n",
      "[INFO/PoolWorker-103] child process calling self.run()\n",
      "[INFO/PoolWorker-106] child process calling self.run()\n",
      "[INFO/PoolWorker-107] child process calling self.run()\n",
      "[INFO/PoolWorker-108] child process calling self.run()\n",
      "[INFO/PoolWorker-105] child process calling self.run()\n",
      "[INFO/PoolWorker-104] child process calling self.run()\n",
      "[INFO/PoolWorker-103] child process calling self.run()\n",
      "[INFO/PoolWorker-106] child process calling self.run()\n",
      "[INFO/PoolWorker-107] child process calling self.run()\n",
      "[INFO/PoolWorker-108] child process calling self.run()\n",
      "[INFO/PoolWorker-105] child process calling self.run()\n",
      "[INFO/PoolWorker-104] child process calling self.run()\n",
      "[INFO/PoolWorker-103] {'n_estimators': 50}\n",
      "[INFO/PoolWorker-106] child process calling self.run()\n",
      "[INFO/PoolWorker-107] child process calling self.run()\n",
      "[INFO/PoolWorker-108] child process calling self.run()\n",
      "[INFO/PoolWorker-105] child process calling self.run()\n",
      "[INFO/PoolWorker-104] child process calling self.run()\n",
      "[INFO/PoolWorker-103] {'n_estimators': 50}\n",
      "[INFO/PoolWorker-106] child process calling self.run()\n",
      "[INFO/PoolWorker-107] child process calling self.run()\n",
      "[INFO/PoolWorker-108] child process calling self.run()\n",
      "[INFO/PoolWorker-105] child process calling self.run()\n",
      "[INFO/PoolWorker-104] child process calling self.run()\n",
      "[INFO/PoolWorker-103] {'n_estimators': 50}\n",
      "[INFO/PoolWorker-106] child process calling self.run()\n",
      "[INFO/PoolWorker-107] child process calling self.run()\n",
      "[INFO/PoolWorker-108] child process calling self.run()\n",
      "[INFO/PoolWorker-105] child process calling self.run()\n",
      "[INFO/PoolWorker-104] {'n_estimators': 100}\n",
      "[INFO/PoolWorker-103] {'n_estimators': 50}\n",
      "[INFO/PoolWorker-106] child process calling self.run()\n",
      "[INFO/PoolWorker-107] child process calling self.run()\n",
      "[INFO/PoolWorker-108] child process calling self.run()\n",
      "[INFO/PoolWorker-105] child process calling self.run()\n",
      "[INFO/PoolWorker-104] {'n_estimators': 100}\n",
      "[INFO/PoolWorker-103] {'n_estimators': 50}\n",
      "[INFO/PoolWorker-106] child process calling self.run()\n",
      "[INFO/PoolWorker-107] child process calling self.run()\n",
      "[INFO/PoolWorker-108] child process calling self.run()\n",
      "[INFO/PoolWorker-105] child process calling self.run()\n",
      "[INFO/PoolWorker-104] {'n_estimators': 100}\n",
      "[INFO/PoolWorker-103] {'n_estimators': 50}\n",
      "[INFO/PoolWorker-106] child process calling self.run()\n",
      "[INFO/PoolWorker-107] child process calling self.run()\n",
      "[INFO/PoolWorker-108] child process calling self.run()\n",
      "[INFO/PoolWorker-105] child process calling self.run()\n",
      "[INFO/PoolWorker-104] {'n_estimators': 100}\n",
      "[INFO/PoolWorker-103] {'n_estimators': 50}\n",
      "[INFO/PoolWorker-106] child process calling self.run()\n",
      "[INFO/PoolWorker-107] child process calling self.run()\n",
      "[INFO/PoolWorker-108] child process calling self.run()\n",
      "[INFO/PoolWorker-105] {'n_estimators': 100}\n",
      "[INFO/PoolWorker-104] {'n_estimators': 100}\n",
      "[INFO/PoolWorker-103] {'n_estimators': 50}\n",
      "[INFO/PoolWorker-106] child process calling self.run()\n",
      "[INFO/PoolWorker-107] child process calling self.run()\n",
      "[INFO/PoolWorker-108] child process calling self.run()\n",
      "[INFO/PoolWorker-105] {'n_estimators': 100}\n",
      "[INFO/PoolWorker-104] {'n_estimators': 100}\n",
      "[INFO/PoolWorker-103] {'n_estimators': 50}\n",
      "[INFO/PoolWorker-106] child process calling self.run()\n",
      "[INFO/PoolWorker-107] child process calling self.run()\n",
      "[INFO/PoolWorker-108] child process calling self.run()\n",
      "[INFO/PoolWorker-105] {'n_estimators': 100}\n",
      "[INFO/PoolWorker-104] {'n_estimators': 100}\n",
      "[INFO/PoolWorker-103] {'n_estimators': 50}\n",
      "[INFO/PoolWorker-106] child process calling self.run()\n",
      "[INFO/PoolWorker-107] child process calling self.run()\n",
      "[INFO/PoolWorker-108] child process calling self.run()\n",
      "[INFO/PoolWorker-105] {'n_estimators': 100}\n",
      "[INFO/PoolWorker-104] {'n_estimators': 100}\n",
      "[INFO/PoolWorker-103] {'n_estimators': 50}\n",
      "[INFO/PoolWorker-106] child process calling self.run()\n",
      "[INFO/PoolWorker-107] child process calling self.run()\n",
      "[INFO/PoolWorker-108] child process calling self.run()\n",
      "[INFO/PoolWorker-105] {'n_estimators': 100}\n",
      "[INFO/PoolWorker-104] {'n_estimators': 100}\n",
      "[INFO/PoolWorker-103] {'n_estimators': 50}\n",
      "[INFO/PoolWorker-106] child process calling self.run()\n",
      "[INFO/PoolWorker-107] child process calling self.run()\n",
      "[INFO/PoolWorker-108] child process calling self.run()\n",
      "[INFO/PoolWorker-105] {'n_estimators': 100}\n",
      "[INFO/PoolWorker-104] {'n_estimators': 100}\n",
      "[INFO/PoolWorker-103] {'n_estimators': 50}\n",
      "[INFO/PoolWorker-106] {'n_estimators': 150}\n",
      "[INFO/PoolWorker-107] {'n_estimators': 50}\n",
      "[INFO/PoolWorker-105] {'n_estimators': 100}\n",
      "[INFO/PoolWorker-104] {'n_estimators': 100}\n",
      "[INFO/PoolWorker-103] {'n_estimators': 50}\n",
      "[INFO/PoolWorker-106] {'n_estimators': 150}\n",
      "[INFO/PoolWorker-107] {'n_estimators': 50}\n",
      "[INFO/PoolWorker-105] {'n_estimators': 100}\n",
      "[INFO/PoolWorker-104] {'n_estimators': 100}\n",
      "[INFO/PoolWorker-103] {'n_estimators': 50}\n",
      "[INFO/PoolWorker-106] {'n_estimators': 150}\n",
      "[INFO/PoolWorker-107] {'n_estimators': 50}\n",
      "[INFO/PoolWorker-105] {'n_estimators': 100}\n",
      "[INFO/PoolWorker-104] {'n_estimators': 100}\n",
      "[INFO/PoolWorker-107] {'n_estimators': 50}\n",
      "[INFO/PoolWorker-106] {'n_estimators': 150}\n",
      "[INFO/PoolWorker-105] {'n_estimators': 100}\n",
      "[INFO/PoolWorker-104] {'n_estimators': 100}\n",
      "[INFO/PoolWorker-107] {'n_estimators': 50}\n",
      "[INFO/PoolWorker-106] {'n_estimators': 150}\n",
      "[INFO/PoolWorker-105] {'n_estimators': 100}\n",
      "[INFO/PoolWorker-104] {'n_estimators': 100}\n",
      "[INFO/PoolWorker-107] {'n_estimators': 50}\n",
      "[INFO/PoolWorker-106] {'n_estimators': 150}\n",
      "[INFO/PoolWorker-105] {'n_estimators': 100}\n",
      "[INFO/PoolWorker-107] {'n_estimators': 50}\n",
      "[INFO/PoolWorker-106] {'n_estimators': 150}\n",
      "[INFO/PoolWorker-105] {'n_estimators': 100}\n",
      "[INFO/PoolWorker-107] {'n_estimators': 50}\n",
      "[INFO/PoolWorker-106] {'n_estimators': 150}\n",
      "[INFO/PoolWorker-105] {'n_estimators': 100}\n",
      "[INFO/PoolWorker-107] {'n_estimators': 50}\n",
      "[INFO/PoolWorker-106] {'n_estimators': 150}\n",
      "[INFO/PoolWorker-105] {'n_estimators': 100}\n",
      "[INFO/PoolWorker-107] {'n_estimators': 50}\n",
      "[INFO/PoolWorker-106] {'n_estimators': 150}\n",
      "[INFO/PoolWorker-106] {'n_estimators': 150}\n",
      "[INFO/PoolWorker-107] {'n_estimators': 50}\n",
      "[INFO/PoolWorker-106] {'n_estimators': 150}\n",
      "[INFO/PoolWorker-107] {'n_estimators': 50}\n",
      "[INFO/PoolWorker-106] {'n_estimators': 150}\n",
      "[INFO/PoolWorker-107] {'n_estimators': 50}\n",
      "[INFO/PoolWorker-106] {'n_estimators': 150}\n",
      "[INFO/PoolWorker-107] {'n_estimators': 50}\n",
      "[INFO/PoolWorker-106] {'n_estimators': 150}\n",
      "[INFO/PoolWorker-107] {'n_estimators': 50}\n"
     ]
    }
   ],
   "source": [
    "from sklearn.ensemble import GradientBoostingClassifier, RandomForestClassifier, ExtraTreesClassifier\n",
    "from sklearn.linear_model import LogisticRegression, LogisticRegressionCV\n",
    "from sklearn.grid_search import GridSearchCV\n",
    "from sklearn.cross_validation import StratifiedKFold\n",
    "\n",
    "# gbr_grid = {\n",
    "#     'n_estimators': [100, 500],\n",
    "#     'learning_rate': [.1, .01, .001],\n",
    "#     'max_features': [1, .3, .1],\n",
    "#     'min_samples_leaf': [3],\n",
    "#     'max_depth': [2]\n",
    "# }\n",
    "# gbr_grid = {\n",
    "#     'n_estimators': [1, 10, 100],\n",
    "#     'learning_rate': [.1, .5, .01],\n",
    "#     'max_features': [.1, .01],\n",
    "#     'min_samples_leaf': [1],\n",
    "#     'max_depth': [3, 5]\n",
    "# }\n",
    "logreg_grid = {\n",
    "    'penalty': ['l1'],\n",
    "    'C': np.logspace(-3, 3, 10)\n",
    "}\n",
    "clfs = {\n",
    "    'gbr': GradientBoostingClassifier(loss='exponential', n_estimators=25),\n",
    "    'ext': ExtraTreesClassifier(n_estimators=100),\n",
    "    'rf': GridSearchCV(RandomForestClassifier(), {'n_estimators': [50, 100, 150]}),\n",
    "    'logreg': LogisticRegression(penalty='l1')\n",
    "}\n",
    "\n",
    "res = models.run_classifiers(X, y, clfs, StratifiedKFold(y, 5), \n",
    "                             keep_X=False, predict_proba=True, par_n_jobs=6)"
   ]
  },
  {
   "cell_type": "code",
   "execution_count": 108,
   "metadata": {
    "collapsed": false
   },
   "outputs": [
    {
     "data": {
      "text/plain": [
       "<matplotlib.axes._subplots.AxesSubplot at 0x12ff3e990>"
      ]
     },
     "execution_count": 108,
     "metadata": {},
     "output_type": "execute_result"
    },
    {
     "data": {
      "image/png": "[encoded data removed]",
      "text/plain": [
       "<matplotlib.figure.Figure at 0x11c52cbd0>"
      ]
     },
     "metadata": {},
     "output_type": "display_data"
    }
   ],
   "source": [
    "from sklearn.metrics import precision_score, roc_auc_score\n",
    "\n",
    "#score_func = lambda clf, y_true, y_pred: precision_score(y_true, y_pred)\n",
    "score_func = lambda clf, y_true, y_pred: roc_auc_score(y_true, y_pred)\n",
    "\n",
    "roc_scores = models.summarize_scores(res, score_func, use_proba=False)\n",
    "roc_scores.boxplot('score', 'model_name', figsize=(12,5))"
   ]
  },
  {
   "cell_type": "code",
   "execution_count": 104,
   "metadata": {
    "collapsed": false
   },
   "outputs": [
    {
     "data": {
      "text/html": [
       "<div>\n",
       "<table border=\"1\" class=\"dataframe\">\n",
       "  <thead>\n",
       "    <tr style=\"text-align: right;\">\n",
       "      <th></th>\n",
       "      <th>model_name</th>\n",
       "      <th>fold_id</th>\n",
       "      <th>fpr</th>\n",
       "      <th>tpr</th>\n",
       "    </tr>\n",
       "  </thead>\n",
       "  <tbody>\n",
       "    <tr>\n",
       "      <th>0</th>\n",
       "      <td>ext</td>\n",
       "      <td>1</td>\n",
       "      <td>0</td>\n",
       "      <td>0.250</td>\n",
       "    </tr>\n",
       "    <tr>\n",
       "      <th>1</th>\n",
       "      <td>ext</td>\n",
       "      <td>1</td>\n",
       "      <td>0</td>\n",
       "      <td>0.375</td>\n",
       "    </tr>\n",
       "    <tr>\n",
       "      <th>2</th>\n",
       "      <td>ext</td>\n",
       "      <td>1</td>\n",
       "      <td>0</td>\n",
       "      <td>0.500</td>\n",
       "    </tr>\n",
       "    <tr>\n",
       "      <th>3</th>\n",
       "      <td>ext</td>\n",
       "      <td>1</td>\n",
       "      <td>0</td>\n",
       "      <td>0.625</td>\n",
       "    </tr>\n",
       "    <tr>\n",
       "      <th>4</th>\n",
       "      <td>ext</td>\n",
       "      <td>1</td>\n",
       "      <td>0</td>\n",
       "      <td>0.750</td>\n",
       "    </tr>\n",
       "  </tbody>\n",
       "</table>\n",
       "</div>"
      ],
      "text/plain": [
       "  model_name  fold_id  fpr    tpr\n",
       "0        ext        1    0  0.250\n",
       "1        ext        1    0  0.375\n",
       "2        ext        1    0  0.500\n",
       "3        ext        1    0  0.625\n",
       "4        ext        1    0  0.750"
      ]
     },
     "execution_count": 104,
     "metadata": {},
     "output_type": "execute_result"
    }
   ],
   "source": [
    "imp.reload(models)\n",
    "imp.reload(datasets)\n",
    "x = models.summarize_curve(res)\n",
    "x.head()"
   ]
  },
  {
   "cell_type": "code",
   "execution_count": 105,
   "metadata": {
    "collapsed": false
   },
   "outputs": [
    {
     "data": {
      "image/png": "[encoded data removed]"
     },
     "metadata": {},
     "output_type": "display_data"
    }
   ],
   "source": [
    "%%R -i x -w 800 -h 800 -u px\n",
    "\n",
    "library(dplyr)\n",
    "library(ggplot2)\n",
    "\n",
    "x %>% mutate(fpr=as.numeric(fpr), tpr=as.numeric(tpr), fold_id=as.numeric(fold_id)) %>%\n",
    "    ggplot(aes(x=fpr, y=tpr, color=factor(fold_id))) + geom_line() + facet_wrap(~model_name) + \n",
    "    theme_bw() + geom_abline(linetype='dashed')"
   ]
  },
  {
   "cell_type": "code",
   "execution_count": 138,
   "metadata": {
    "collapsed": false
   },
   "outputs": [
    {
     "data": {
      "text/html": [
       "<div>\n",
       "<table border=\"1\" class=\"dataframe\">\n",
       "  <thead>\n",
       "    <tr style=\"text-align: right;\">\n",
       "      <th>model_name</th>\n",
       "      <th>ext</th>\n",
       "      <th>gbr</th>\n",
       "      <th>logreg</th>\n",
       "      <th>rf</th>\n",
       "    </tr>\n",
       "  </thead>\n",
       "  <tbody>\n",
       "    <tr>\n",
       "      <th>cn:A1BG</th>\n",
       "      <td>0.000000</td>\n",
       "      <td>0</td>\n",
       "      <td>0</td>\n",
       "      <td>0.000000</td>\n",
       "    </tr>\n",
       "    <tr>\n",
       "      <th>cn:A1BG.AS1</th>\n",
       "      <td>0.000000</td>\n",
       "      <td>0</td>\n",
       "      <td>0</td>\n",
       "      <td>0.000000</td>\n",
       "    </tr>\n",
       "    <tr>\n",
       "      <th>cn:A1CF</th>\n",
       "      <td>0.000000</td>\n",
       "      <td>0</td>\n",
       "      <td>0</td>\n",
       "      <td>0.000059</td>\n",
       "    </tr>\n",
       "    <tr>\n",
       "      <th>cn:A2M</th>\n",
       "      <td>0.000000</td>\n",
       "      <td>0</td>\n",
       "      <td>0</td>\n",
       "      <td>0.000000</td>\n",
       "    </tr>\n",
       "    <tr>\n",
       "      <th>cn:A2M.AS1</th>\n",
       "      <td>0.000132</td>\n",
       "      <td>0</td>\n",
       "      <td>0</td>\n",
       "      <td>0.000000</td>\n",
       "    </tr>\n",
       "  </tbody>\n",
       "</table>\n",
       "</div>"
      ],
      "text/plain": [
       "model_name        ext  gbr  logreg        rf\n",
       "cn:A1BG      0.000000    0       0  0.000000\n",
       "cn:A1BG.AS1  0.000000    0       0  0.000000\n",
       "cn:A1CF      0.000000    0       0  0.000059\n",
       "cn:A2M       0.000000    0       0  0.000000\n",
       "cn:A2M.AS1   0.000132    0       0  0.000000"
      ]
     },
     "execution_count": 138,
     "metadata": {},
     "output_type": "execute_result"
    }
   ],
   "source": [
    "feat_imp = models.summarize_importances(res)\n",
    "x = feat_imp.drop('fold_id', axis=1)\n",
    "x = x.groupby('model_name').aggregate(np.mean).T\n",
    "x['logreg'] = np.abs(x['logreg'])\n",
    "x.head()"
   ]
  },
  {
   "cell_type": "code",
   "execution_count": 140,
   "metadata": {
    "collapsed": false
   },
   "outputs": [
    {
     "data": {
      "image/png": "[encoded data removed]",
      "text/plain": [
       "<matplotlib.figure.Figure at 0x10c456350>"
      ]
     },
     "metadata": {},
     "output_type": "display_data"
    },
    {
     "data": {
      "image/png": "[encoded data removed]",
      "text/plain": [
       "<matplotlib.figure.Figure at 0x12087c8d0>"
      ]
     },
     "metadata": {},
     "output_type": "display_data"
    },
    {
     "data": {
      "image/png": "[encoded data removed]",
      "text/plain": [
       "<matplotlib.figure.Figure at 0x12b200fd0>"
      ]
     },
     "metadata": {},
     "output_type": "display_data"
    },
    {
     "data": {
      "image/png": "[encoded data removed]",
      "text/plain": [
       "<matplotlib.figure.Figure at 0x11d577b50>"
      ]
     },
     "metadata": {},
     "output_type": "display_data"
    }
   ],
   "source": [
    "for model in x:\n",
    "    plt.figure()\n",
    "    ax = x[model].order(ascending=False).head(25).plot(kind='bar', figsize=(12,3))\n",
    "    ax.set_title(model)"
   ]
  },
  {
   "cell_type": "code",
   "execution_count": 118,
   "metadata": {
    "collapsed": false
   },
   "outputs": [
    {
     "data": {
      "text/html": [
       "<div>\n",
       "<table border=\"1\" class=\"dataframe\">\n",
       "  <thead>\n",
       "    <tr style=\"text-align: right;\">\n",
       "      <th></th>\n",
       "      <th>fold_id</th>\n",
       "      <th>model_name</th>\n",
       "      <th>score</th>\n",
       "    </tr>\n",
       "  </thead>\n",
       "  <tbody>\n",
       "    <tr>\n",
       "      <th>0</th>\n",
       "      <td>1</td>\n",
       "      <td>rf</td>\n",
       "      <td>0.819444</td>\n",
       "    </tr>\n",
       "    <tr>\n",
       "      <th>1</th>\n",
       "      <td>1</td>\n",
       "      <td>ext</td>\n",
       "      <td>0.875000</td>\n",
       "    </tr>\n",
       "    <tr>\n",
       "      <th>2</th>\n",
       "      <td>1</td>\n",
       "      <td>gbr</td>\n",
       "      <td>0.645833</td>\n",
       "    </tr>\n",
       "    <tr>\n",
       "      <th>3</th>\n",
       "      <td>1</td>\n",
       "      <td>logreg</td>\n",
       "      <td>0.770833</td>\n",
       "    </tr>\n",
       "    <tr>\n",
       "      <th>4</th>\n",
       "      <td>2</td>\n",
       "      <td>rf</td>\n",
       "      <td>0.937500</td>\n",
       "    </tr>\n",
       "  </tbody>\n",
       "</table>\n",
       "</div>"
      ],
      "text/plain": [
       "   fold_id model_name     score\n",
       "0        1         rf  0.819444\n",
       "1        1        ext  0.875000\n",
       "2        1        gbr  0.645833\n",
       "3        1     logreg  0.770833\n",
       "4        2         rf  0.937500"
      ]
     },
     "execution_count": 118,
     "metadata": {},
     "output_type": "execute_result"
    }
   ],
   "source": [
    "roc_scores.head()"
   ]
  },
  {
   "cell_type": "code",
   "execution_count": 156,
   "metadata": {
    "collapsed": false
   },
   "outputs": [
    {
     "data": {
      "text/html": [
       "<div>\n",
       "<table border=\"1\" class=\"dataframe\">\n",
       "  <thead>\n",
       "    <tr style=\"text-align: right;\">\n",
       "      <th></th>\n",
       "      <th>model_name</th>\n",
       "      <th>feature</th>\n",
       "      <th>value</th>\n",
       "      <th>score</th>\n",
       "    </tr>\n",
       "  </thead>\n",
       "  <tbody>\n",
       "    <tr>\n",
       "      <th>0</th>\n",
       "      <td>ext</td>\n",
       "      <td>cn:A1BG</td>\n",
       "      <td>0</td>\n",
       "      <td>0.819444</td>\n",
       "    </tr>\n",
       "    <tr>\n",
       "      <th>1</th>\n",
       "      <td>ext</td>\n",
       "      <td>cn:A1BG.AS1</td>\n",
       "      <td>0</td>\n",
       "      <td>0.819444</td>\n",
       "    </tr>\n",
       "    <tr>\n",
       "      <th>2</th>\n",
       "      <td>ext</td>\n",
       "      <td>cn:A1CF</td>\n",
       "      <td>0</td>\n",
       "      <td>0.819444</td>\n",
       "    </tr>\n",
       "    <tr>\n",
       "      <th>3</th>\n",
       "      <td>ext</td>\n",
       "      <td>cn:A2M</td>\n",
       "      <td>0</td>\n",
       "      <td>0.819444</td>\n",
       "    </tr>\n",
       "    <tr>\n",
       "      <th>4</th>\n",
       "      <td>ext</td>\n",
       "      <td>cn:A2M.AS1</td>\n",
       "      <td>0</td>\n",
       "      <td>0.819444</td>\n",
       "    </tr>\n",
       "  </tbody>\n",
       "</table>\n",
       "</div>"
      ],
      "text/plain": [
       "  model_name      feature  value     score\n",
       "0        ext      cn:A1BG      0  0.819444\n",
       "1        ext  cn:A1BG.AS1      0  0.819444\n",
       "2        ext      cn:A1CF      0  0.819444\n",
       "3        ext       cn:A2M      0  0.819444\n",
       "4        ext   cn:A2M.AS1      0  0.819444"
      ]
     },
     "execution_count": 156,
     "metadata": {},
     "output_type": "execute_result"
    }
   ],
   "source": [
    "x = pd.melt(feat_imp, id_vars=['model_name', 'fold_id'], var_name='feature', value_name='value')\n",
    "x = x.groupby(['model_name', 'feature'])['value'].median().reset_index(name='value')\n",
    "x.head()\n",
    "y = roc_scores.groupby('model_name')['score'].median().reset_index(name='score')\n",
    "pd.merge(x, y).head()"
   ]
  },
  {
   "cell_type": "code",
   "execution_count": 88,
   "metadata": {
    "collapsed": false
   },
   "outputs": [
    {
     "data": {
      "text/html": [
       "<div>\n",
       "<table border=\"1\" class=\"dataframe\">\n",
       "  <thead>\n",
       "    <tr style=\"text-align: right;\">\n",
       "      <th></th>\n",
       "      <th>y_pred</th>\n",
       "      <th>y_true</th>\n",
       "      <th>y_proba_0</th>\n",
       "      <th>y_proba_1</th>\n",
       "      <th>model_name</th>\n",
       "      <th>fold_id</th>\n",
       "    </tr>\n",
       "  </thead>\n",
       "  <tbody>\n",
       "    <tr>\n",
       "      <th>0</th>\n",
       "      <td>0</td>\n",
       "      <td>0</td>\n",
       "      <td>0.82</td>\n",
       "      <td>0.18</td>\n",
       "      <td>rf</td>\n",
       "      <td>1</td>\n",
       "    </tr>\n",
       "    <tr>\n",
       "      <th>1</th>\n",
       "      <td>1</td>\n",
       "      <td>0</td>\n",
       "      <td>0.40</td>\n",
       "      <td>0.60</td>\n",
       "      <td>rf</td>\n",
       "      <td>1</td>\n",
       "    </tr>\n",
       "    <tr>\n",
       "      <th>2</th>\n",
       "      <td>0</td>\n",
       "      <td>0</td>\n",
       "      <td>0.68</td>\n",
       "      <td>0.32</td>\n",
       "      <td>rf</td>\n",
       "      <td>1</td>\n",
       "    </tr>\n",
       "    <tr>\n",
       "      <th>3</th>\n",
       "      <td>0</td>\n",
       "      <td>0</td>\n",
       "      <td>0.68</td>\n",
       "      <td>0.32</td>\n",
       "      <td>rf</td>\n",
       "      <td>1</td>\n",
       "    </tr>\n",
       "    <tr>\n",
       "      <th>4</th>\n",
       "      <td>0</td>\n",
       "      <td>0</td>\n",
       "      <td>0.70</td>\n",
       "      <td>0.30</td>\n",
       "      <td>rf</td>\n",
       "      <td>1</td>\n",
       "    </tr>\n",
       "  </tbody>\n",
       "</table>\n",
       "</div>"
      ],
      "text/plain": [
       "   y_pred  y_true  y_proba_0  y_proba_1 model_name  fold_id\n",
       "0       0       0       0.82       0.18         rf        1\n",
       "1       1       0       0.40       0.60         rf        1\n",
       "2       0       0       0.68       0.32         rf        1\n",
       "3       0       0       0.68       0.32         rf        1\n",
       "4       0       0       0.70       0.30         rf        1"
      ]
     },
     "execution_count": 88,
     "metadata": {},
     "output_type": "execute_result"
    }
   ],
   "source": [
    "preds = models.summarize_predictions(res)\n",
    "preds.head()"
   ]
  },
  {
   "cell_type": "code",
   "execution_count": null,
   "metadata": {
    "collapsed": true
   },
   "outputs": [],
   "source": []
  }
 ],
 "metadata": {
  "kernelspec": {
   "display_name": "Python 3",
   "language": "python",
   "name": "python3"
  },
  "language_info": {
   "codemirror_mode": {
    "name": "ipython",
    "version": 3
   },
   "file_extension": ".py",
   "mimetype": "text/x-python",
   "name": "python",
   "nbconvert_exporter": "python",
   "pygments_lexer": "ipython3",
   "version": "3.3.5"
  }
 },
 "nbformat": 4,
 "nbformat_minor": 0
}
