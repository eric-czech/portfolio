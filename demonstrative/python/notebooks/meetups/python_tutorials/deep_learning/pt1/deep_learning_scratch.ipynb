{
 "cells": [
  {
   "cell_type": "markdown",
   "metadata": {},
   "source": [
    "# Scratch Notebook (Ignore)"
   ]
  },
  {
   "cell_type": "code",
   "execution_count": null,
   "metadata": {
    "collapsed": true
   },
   "outputs": [],
   "source": [
    "%run -m ipy_startup\n",
    "%matplotlib inline\n",
    "\n",
    "import plotly as plty\n",
    "import plotly.graph_objs as go\n",
    "import cufflinks as cf\n",
    "cf.set_config_file(offline=True, theme='white', offline_link_text=None, offline_show_link=False)\n",
    "\n",
    "import logging\n",
    "console = logging.StreamHandler()\n",
    "console.setFormatter(logging.Formatter('%(asctime)s:%(levelname)s:%(name)s: %(message)s'))\n",
    "logger = logging.getLogger()\n",
    "logger.setLevel(logging.DEBUG)\n",
    "logger.addHandler(console)"
   ]
  },
  {
   "cell_type": "markdown",
   "metadata": {},
   "source": [
    "Notes\n",
    "\n",
    "- [Single Layer Approximation](http://stats.stackexchange.com/questions/200330/does-number-of-layers-in-neural-network-corresponds-to-degree-of-the-approximati)\n",
    "    - From Cybenko's proof for universal approximations of single layer network:\n",
    "        - \"that networks with one internal layer and an arbitrary continuous sigmoidal function can approximate continuous functions wih arbitrary precision providing that no constraints are placed on the number of nodes or the size of the weights\"\n",
    "        - \"requires the activation function be nonconstant, bounded, and monotonically-increasing continuous function\"\n",
    "- XOR can be done in single layer network with logit activitation, but not hard threshold or linear\n",
    "- [Showing approximation as steps](http://neuralnetworksanddeeplearning.com/chap4.html)\n",
    "- [On exponential number of response regions possible with deeper networks](http://stats.stackexchange.com/questions/196585/how-to-understand-the-geometric-intuition-of-the-inner-workings-of-neural-networ/197032#197032)\n",
    "- [Deep Learning Conspiracy](http://people.idsia.ch/~juergen/deep-learning-conspiracy.html)\n",
    "    - Dates and people associated with development of main ideas in deep learning\n",
    "- Vapnik created original SVM in 1963\n",
    "\n",
    "papers:\n",
    "- [On the Number of Linear Regions of Deep Neural Networks](https://arxiv.org/pdf/1402.1869.pdf)\n",
    "- [On the number of response regions of deep feed forward networks with piece-wise linear activations](http://arxiv.org/abs/1312.6098)\n",
    "    - Number of input region splits grows exponentially with parameters\n",
    "    - Main results:\n",
    "        - lower bound on maximal number of response regions per parameter for multi layer network:<br>\n",
    "            $ \\Omega(\\lfloor\\frac{k}{d}\\rfloor^{(l - 1)} \\frac{k^{(d-2)}}{l})$<br>\n",
    "            $l$ = number of layers<br>\n",
    "            $d$ = number of inputs<br>\n",
    "            $k$ = number of neurons ($\\geq d$)\n",
    "        - upper bound on maximal number of response regions per parameter for shallow network:<br>\n",
    "            $ O(l^{(d - 1)}k^{(d - 1)}) $\n",
    "        - on number of neurons being greater than number of inputs: One way deep networks are advantageous is by using first layer to provide activiation in direction of manifold, which effectively brings number of dimensions back well below number of neurons\n",
    "\n",
    "resources:\n",
    "\n",
    "Breakfast Reading:\n",
    "- [Neural Networks, Manifolds, and Topology](http://colah.github.io/posts/2014-03-NN-Manifolds-Topology/)\n",
    "- [A visual proof that neural nets can compute any function](http://neuralnetworksanddeeplearning.com/chap4.html)\n",
    "\n",
    "Best Book (free too):\n",
    "- [Deep Learning (2015 - Bengio)](https://github.com/HFTrader/DeepLearningBook/raw/master/DeepLearningBook.pdf)\n",
    "    - \"It has been proven in many diﬀerent settings that organizing computationthrough the composition of many nonlinearities and a hierarchy of reused featurescan give an exponential boost to statistical eﬃciency, on top of the exponentialboost given by using a distributed representation\"\n",
    "    - Most relevant sections to understanding why deep learning works: \n",
    "        - 15.4 Distributed Representation\n",
    "        - 15.5 Exponential Gains from Depth\n",
    "        - Together there are less than 10 pages here and they're a little dense but well worth the read\n",
    "        - number of regions created by $n$ hyperplaces in $R^d$ is $\\sum_{j=0}^{d}{{{N}\\choose{j}}} = O(n^d)$\n",
    "\n",
    "Best Survey Paper (also free):\n",
    "- [Deep Learning (2015 - Bengio, LeCunn, Hinton)](http://www.cs.toronto.edu/~hinton/absps/NatureDeepReview.pdf)\n",
    "\n",
    "Papers often cited as \"classic\" Deep Learning resources:\n",
    "- [A Fast Learning Algorithm for Deep Belief Nets (2006 - Hinton et al)](http://nuyoo.utm.mx/~jjf/rna/A8%20A%20fast%20learning%20algorithm%20for%20deep%20belief%20nets.pdf)\n",
    "- [Gradient-Based Learning Applied to Document Recognition (1998 - LeCun, Bengio et al)](http://yann.lecun.com/exdb/publis/pdf/lecun-01a.pdf)\n",
    "- [ImageNet Classification with Deep Convolutional Neural Networks (2012 - Hinton et al)](https://papers.nips.cc/paper/4824-imagenet-classification-with-deep-convolutional-neural-networks.pdf)\n"
   ]
  },
  {
   "cell_type": "markdown",
   "metadata": {},
   "source": [
    "Contents\n",
    "\n",
    "- [History](#history)\n",
    "- [Tensorflow Installation](#install)\n",
    "- [Hello World](#hello-world)\n"
   ]
  },
  {
   "cell_type": "markdown",
   "metadata": {},
   "source": [
    "History\n",
    "\n",
    "- First \"deep learning\" networks published in 1965\n",
    "- McCulloch and Pitts credited with first ANN model in 1943\n",
    "- Frank Rosenblatt (1958) created the (much overly hyped) Perceptron algorithm \n",
    "- Vladimir Arnold (Kolmogrov student) showed that single-layer NN can be used to solve Hilbert's 13th problem\n",
    "- Minsky and Papert (1969) showed that Perceptron could not solve XOR problem\n",
    "- Neural network research mostly abandoned until the mid 80s\n",
    "- In 1989, universal approximation of NNs shown (Cybenko, Funahashi, Hornik, Stinchcombe, White)\n",
    "- 1962 - Backpropogation\n",
    "- \n",
    "\n",
    "Notes\n",
    "\n",
    "Word2Vec Explanation:\n",
    "- http://mccormickml.com/2016/04/19/word2vec-tutorial-the-skip-gram-model/"
   ]
  },
  {
   "cell_type": "code",
   "execution_count": null,
   "metadata": {
    "collapsed": false
   },
   "outputs": [],
   "source": [
    "Image(url='https://i.stack.imgur.com/ddJFC.png', width=800)"
   ]
  },
  {
   "cell_type": "code",
   "execution_count": null,
   "metadata": {
    "collapsed": false
   },
   "outputs": [],
   "source": [
    "import jupyter_core\n",
    "custom_css = jupyter_core.paths.jupyter_config_dir() + '/custom/custom.css'\n",
    "\"File: {}\".format(custom_css)"
   ]
  },
  {
   "cell_type": "code",
   "execution_count": null,
   "metadata": {
    "collapsed": false
   },
   "outputs": [],
   "source": [
    "Image(url='http://ww2.tnstate.edu/ganter/BIO-311-Ch12-Eq5a.gif', width=500)"
   ]
  },
  {
   "cell_type": "code",
   "execution_count": null,
   "metadata": {
    "collapsed": false
   },
   "outputs": [],
   "source": [
    "from IPython.display import Image\n",
    "Image(url='https://i.stack.imgur.com/bmg5Z.png')"
   ]
  },
  {
   "cell_type": "code",
   "execution_count": null,
   "metadata": {
    "collapsed": false
   },
   "outputs": [],
   "source": [
    "from IPython.display import Image\n",
    "#Image(url='https://www.cs.toronto.edu/~frossard/post/linear_regression/sgd.gif')   \n",
    "Image(url='https://alykhantejani.github.io/images/gradient_descent_line_graph.gif')"
   ]
  },
  {
   "cell_type": "code",
   "execution_count": null,
   "metadata": {
    "collapsed": false
   },
   "outputs": [],
   "source": [
    "np.expand_dims([1, 2, 3], 1)"
   ]
  },
  {
   "cell_type": "code",
   "execution_count": 2,
   "metadata": {
    "collapsed": false
   },
   "outputs": [],
   "source": [
    "\n",
    "import tensorflow as tf\n",
    "\n",
    "#activation = lambda x: tf.reduce_max(x, axis=0)\n",
    "activation = lambda x: tf.abs(x)\n",
    "\n",
    "def get_one_layer_network(b, w1, w2):\n",
    "    X = tf.placeholder(tf.float64, shape=(None, 2))\n",
    "    \n",
    "    nw = len(w1[0])\n",
    "    b = tf.constant(b, dtype=tf.float64)\n",
    "    w1 = tf.constant(w1, shape=[2, nw], dtype=tf.float64)\n",
    "    z = activation(b + tf.matmul(X, w1))\n",
    "    \n",
    "    w2 = tf.constant(w2, shape=[nw], dtype=tf.float64)\n",
    "    y = tf.reduce_sum(tf.multiply(z, w2), axis=1)\n",
    "    return X, y\n",
    "\n",
    "def tf_print(t, transform=None):\n",
    "    def log_value(x):\n",
    "        logger.info('{} - {}'.format(t.name, x if transform is None else transform(x)))\n",
    "        return x\n",
    "    log_op = tf.py_func(log_value, [t], [t.dtype], name=t.name.split(':')[0])[0]\n",
    "    with tf.control_dependencies([log_op]):\n",
    "        r = tf.identity(t)\n",
    "    return r\n",
    "\n",
    "def get_two_layer_network(b1, b2, w1, w2, w3):\n",
    "    X = tf.placeholder(tf.float64, shape=(None, 2))\n",
    "    \n",
    "    b1 = tf.constant(b1, dtype=tf.float64)\n",
    "    w1 = tf.constant(w1, shape=[2, 2], dtype=tf.float64)\n",
    "    z1 = activation(b1 + tf.matmul(X, w1))\n",
    "    \n",
    "    b2 = tf.constant(b2, dtype=tf.float64)\n",
    "    w2 = tf.constant(w2, shape=[2, 1], dtype=tf.float64)\n",
    "    z2 = activation(b2 + tf.matmul(z1, w2))\n",
    "\n",
    "    y = tf.reduce_sum(tf.multiply(z2, w3), axis=1)\n",
    "    return X, y\n",
    "\n",
    "\n",
    "sess_config = tf.ConfigProto(device_count = {'GPU': 0}, log_device_placement=True)\n",
    "tf.logging.set_verbosity(tf.logging.DEBUG)\n",
    "\n",
    "\n",
    "def get_network_response_surface(X, network_fn):\n",
    "    with tf.Session(config=sess_config) as sess:\n",
    "        X_, y = network_fn()\n",
    "\n",
    "        with tf.device('/cpu:0'):\n",
    "            yv = sess.run(y, feed_dict={X_: X})\n",
    "        return yv\n",
    "    \n",
    "def plot_network_response_surface(v, y):\n",
    "    trace = go.Surface(x=v, y=v, z=y.reshape((len(v), -1), order='C'))\n",
    "    layout = go.Layout()\n",
    "    fig = go.Figure(data=[trace])\n",
    "    plty.offline.iplot(fig)"
   ]
  },
  {
   "cell_type": "code",
   "execution_count": 4,
   "metadata": {
    "collapsed": true
   },
   "outputs": [],
   "source": [
    "v = np.linspace(-15, 15, num=21)\n",
    "X = np.hstack([np.expand_dims(x.ravel(), 1) for x in np.meshgrid(v, v)])\n",
    "X = X.astype(np.float64)"
   ]
  },
  {
   "cell_type": "code",
   "execution_count": 7,
   "metadata": {
    "collapsed": false
   },
   "outputs": [
    {
     "data": {
      "text/html": [
       "<div id=\"c4ee4260-256e-4740-ae57-7231a68fceee\" style=\"height: 525px; width: 100%;\" class=\"plotly-graph-div\"></div><script type=\"text/javascript\">require([\"plotly\"], function(Plotly) { window.PLOTLYENV=window.PLOTLYENV || {};window.PLOTLYENV.BASE_URL=\"https://plot.ly\";Plotly.newPlot(\"c4ee4260-256e-4740-ae57-7231a68fceee\", [{\"y\": [-15.0, -13.5, -12.0, -10.5, -9.0, -7.5, -6.0, -4.5, -3.0, -1.5, 0.0, 1.5, 3.0, 4.5, 6.0, 7.5, 9.0, 10.5, 12.0, 13.5, 15.0], \"z\": [[3.0, 2.85, 2.7, 2.55, 2.4, 2.25, 2.1, 1.95, 1.8, 1.65, 1.5, 1.65, 1.8, 1.95, 2.1, 2.25, 2.4, 2.55, 2.7, 2.85, 3.0], [2.85, 2.7, 2.5500000000000003, 2.4000000000000004, 2.25, 2.1, 1.9500000000000002, 1.8, 1.6500000000000001, 1.5, 1.35, 1.5, 1.6500000000000001, 1.8, 1.9500000000000002, 2.1, 2.25, 2.4000000000000004, 2.5500000000000003, 2.7, 2.85], [2.7, 2.5500000000000003, 2.4000000000000004, 2.25, 2.1, 1.9500000000000002, 1.8000000000000003, 1.6500000000000001, 1.5000000000000002, 1.35, 1.2000000000000002, 1.35, 1.5000000000000002, 1.6500000000000001, 1.8000000000000003, 1.9500000000000002, 2.1, 2.25, 2.4000000000000004, 2.5500000000000003, 2.7], [2.55, 2.4000000000000004, 2.25, 2.1, 1.9500000000000002, 1.8, 1.6500000000000001, 1.5, 1.35, 1.2000000000000002, 1.05, 1.2000000000000002, 1.35, 1.5, 1.6500000000000001, 1.8, 1.9500000000000002, 2.1, 2.25, 2.4000000000000004, 2.55], [2.4, 2.25, 2.1, 1.9500000000000002, 1.8, 1.65, 1.5, 1.35, 1.2000000000000002, 1.05, 0.9, 1.05, 1.2000000000000002, 1.35, 1.5, 1.65, 1.8, 1.9500000000000002, 2.1, 2.25, 2.4], [2.25, 2.1, 1.9500000000000002, 1.8, 1.65, 1.5, 1.35, 1.2, 1.05, 0.9, 0.75, 0.9, 1.05, 1.2, 1.35, 1.5, 1.65, 1.8, 1.9500000000000002, 2.1, 2.25], [2.1, 1.9500000000000002, 1.8000000000000003, 1.6500000000000001, 1.5, 1.35, 1.2000000000000002, 1.05, 0.9000000000000001, 0.7500000000000001, 0.6000000000000001, 0.7500000000000001, 0.9000000000000001, 1.05, 1.2000000000000002, 1.35, 1.5, 1.6500000000000001, 1.8000000000000003, 1.9500000000000002, 2.1], [1.95, 1.8, 1.6500000000000001, 1.5, 1.35, 1.2, 1.05, 0.9, 0.75, 0.6000000000000001, 0.45, 0.6000000000000001, 0.75, 0.9, 1.05, 1.2, 1.35, 1.5, 1.6500000000000001, 1.8, 1.95], [1.8, 1.6500000000000001, 1.5000000000000002, 1.35, 1.2000000000000002, 1.05, 0.9000000000000001, 0.75, 0.6000000000000001, 0.45000000000000007, 0.30000000000000004, 0.45000000000000007, 0.6000000000000001, 0.75, 0.9000000000000001, 1.05, 1.2000000000000002, 1.35, 1.5000000000000002, 1.6500000000000001, 1.8], [1.65, 1.5, 1.35, 1.2000000000000002, 1.05, 0.9, 0.7500000000000001, 0.6000000000000001, 0.45000000000000007, 0.30000000000000004, 0.15000000000000002, 0.30000000000000004, 0.45000000000000007, 0.6000000000000001, 0.7500000000000001, 0.9, 1.05, 1.2000000000000002, 1.35, 1.5, 1.65], [1.5, 1.35, 1.2000000000000002, 1.05, 0.9, 0.75, 0.6000000000000001, 0.45, 0.30000000000000004, 0.15000000000000002, 0.0, 0.15000000000000002, 0.30000000000000004, 0.45, 0.6000000000000001, 0.75, 0.9, 1.05, 1.2000000000000002, 1.35, 1.5], [1.65, 1.5, 1.35, 1.2000000000000002, 1.05, 0.9, 0.7500000000000001, 0.6000000000000001, 0.45000000000000007, 0.30000000000000004, 0.15000000000000002, 0.30000000000000004, 0.45000000000000007, 0.6000000000000001, 0.7500000000000001, 0.9, 1.05, 1.2000000000000002, 1.35, 1.5, 1.65], [1.8, 1.6500000000000001, 1.5000000000000002, 1.35, 1.2000000000000002, 1.05, 0.9000000000000001, 0.75, 0.6000000000000001, 0.45000000000000007, 0.30000000000000004, 0.45000000000000007, 0.6000000000000001, 0.75, 0.9000000000000001, 1.05, 1.2000000000000002, 1.35, 1.5000000000000002, 1.6500000000000001, 1.8], [1.95, 1.8, 1.6500000000000001, 1.5, 1.35, 1.2, 1.05, 0.9, 0.75, 0.6000000000000001, 0.45, 0.6000000000000001, 0.75, 0.9, 1.05, 1.2, 1.35, 1.5, 1.6500000000000001, 1.8, 1.95], [2.1, 1.9500000000000002, 1.8000000000000003, 1.6500000000000001, 1.5, 1.35, 1.2000000000000002, 1.05, 0.9000000000000001, 0.7500000000000001, 0.6000000000000001, 0.7500000000000001, 0.9000000000000001, 1.05, 1.2000000000000002, 1.35, 1.5, 1.6500000000000001, 1.8000000000000003, 1.9500000000000002, 2.1], [2.25, 2.1, 1.9500000000000002, 1.8, 1.65, 1.5, 1.35, 1.2, 1.05, 0.9, 0.75, 0.9, 1.05, 1.2, 1.35, 1.5, 1.65, 1.8, 1.9500000000000002, 2.1, 2.25], [2.4, 2.25, 2.1, 1.9500000000000002, 1.8, 1.65, 1.5, 1.35, 1.2000000000000002, 1.05, 0.9, 1.05, 1.2000000000000002, 1.35, 1.5, 1.65, 1.8, 1.9500000000000002, 2.1, 2.25, 2.4], [2.55, 2.4000000000000004, 2.25, 2.1, 1.9500000000000002, 1.8, 1.6500000000000001, 1.5, 1.35, 1.2000000000000002, 1.05, 1.2000000000000002, 1.35, 1.5, 1.6500000000000001, 1.8, 1.9500000000000002, 2.1, 2.25, 2.4000000000000004, 2.55], [2.7, 2.5500000000000003, 2.4000000000000004, 2.25, 2.1, 1.9500000000000002, 1.8000000000000003, 1.6500000000000001, 1.5000000000000002, 1.35, 1.2000000000000002, 1.35, 1.5000000000000002, 1.6500000000000001, 1.8000000000000003, 1.9500000000000002, 2.1, 2.25, 2.4000000000000004, 2.5500000000000003, 2.7], [2.85, 2.7, 2.5500000000000003, 2.4000000000000004, 2.25, 2.1, 1.9500000000000002, 1.8, 1.6500000000000001, 1.5, 1.35, 1.5, 1.6500000000000001, 1.8, 1.9500000000000002, 2.1, 2.25, 2.4000000000000004, 2.5500000000000003, 2.7, 2.85], [3.0, 2.85, 2.7, 2.55, 2.4, 2.25, 2.1, 1.95, 1.8, 1.65, 1.5, 1.65, 1.8, 1.95, 2.1, 2.25, 2.4, 2.55, 2.7, 2.85, 3.0]], \"type\": \"surface\", \"x\": [-15.0, -13.5, -12.0, -10.5, -9.0, -7.5, -6.0, -4.5, -3.0, -1.5, 0.0, 1.5, 3.0, 4.5, 6.0, 7.5, 9.0, 10.5, 12.0, 13.5, 15.0]}], {}, {\"displaylogo\": false, \"showLink\": true, \"linkText\": \"Export to plot.ly\", \"modeBarButtonsToRemove\": [\"sendDataToCloud\"]})});</script>"
      ],
      "text/plain": [
       "<IPython.core.display.HTML object>"
      ]
     },
     "metadata": {},
     "output_type": "display_data"
    }
   ],
   "source": [
    "b = [0, 0]\n",
    "w1 = [[1, 0], [0, 1]]\n",
    "w2 = [.1, .1]\n",
    "network_fn = lambda: get_one_layer_network(b, w1, w2)\n",
    "y = get_network_response_surface(X, network_fn)\n",
    "plot_network_response_surface(v, y)"
   ]
  },
  {
   "cell_type": "code",
   "execution_count": 8,
   "metadata": {
    "collapsed": false
   },
   "outputs": [],
   "source": [
    "b = [-5, -5, -5]\n",
    "w1 = [[1, -1, 0], [1, 1, -3]]\n",
    "w2 = [.1, .1, .1]\n",
    "network_fn = lambda: get_one_layer_network(b, w1, w2)\n",
    "y = get_network_response_surface(X, network_fn)"
   ]
  },
  {
   "cell_type": "code",
   "execution_count": 9,
   "metadata": {
    "collapsed": false
   },
   "outputs": [
    {
     "data": {
      "text/html": [
       "<div id=\"d5ab3230-31eb-429f-8e60-c5ec7beed508\" style=\"height: 525px; width: 100%;\" class=\"plotly-graph-div\"></div><script type=\"text/javascript\">require([\"plotly\"], function(Plotly) { window.PLOTLYENV=window.PLOTLYENV || {};window.PLOTLYENV.BASE_URL=\"https://plot.ly\";Plotly.newPlot(\"d5ab3230-31eb-429f-8e60-c5ec7beed508\", [{\"y\": [-15.0, -13.5, -12.0, -10.5, -9.0, -7.5, -6.0, -4.5, -3.0, -1.5, 0.0, 1.5, 3.0, 4.5, 6.0, 7.5, 9.0, 10.5, 12.0, 13.5, 15.0], \"z\": [[8.0, 8.0, 8.0, 8.0, 8.0, 8.0, 8.0, 8.0, 8.0, 8.0, 8.0, 8.0, 8.0, 8.0, 8.0, 8.0, 8.0, 8.0, 8.0, 8.0, 8.0], [7.25, 7.25, 7.25, 7.25, 7.25, 7.25, 7.25, 7.25, 7.25, 7.25, 7.25, 7.25, 7.25, 7.25, 7.25, 7.25, 7.25, 7.25, 7.25, 7.25, 7.25], [6.5, 6.5, 6.5, 6.5, 6.5, 6.5, 6.5, 6.5, 6.5, 6.5, 6.5, 6.5, 6.5, 6.5, 6.5, 6.5, 6.5, 6.5, 6.5, 6.5, 6.5], [5.75, 5.750000000000001, 5.75, 5.75, 5.75, 5.750000000000001, 5.75, 5.75, 5.75, 5.750000000000001, 5.75, 5.750000000000001, 5.75, 5.75, 5.75, 5.750000000000001, 5.75, 5.75, 5.75, 5.750000000000001, 5.75], [5.200000000000001, 5.0, 5.0, 5.0, 5.0, 5.0, 5.0, 5.0, 5.0, 5.0, 5.0, 5.0, 5.0, 5.0, 5.0, 5.0, 5.0, 5.0, 5.0, 5.0, 5.200000000000001], [4.75, 4.45, 4.25, 4.25, 4.25, 4.25, 4.25, 4.25, 4.25, 4.25, 4.25, 4.25, 4.25, 4.25, 4.25, 4.25, 4.25, 4.25, 4.25, 4.45, 4.75], [4.3, 4.0, 3.7, 3.5, 3.5, 3.5, 3.5, 3.5, 3.5, 3.5, 3.5, 3.5, 3.5, 3.5, 3.5, 3.5, 3.5, 3.5, 3.7, 4.0, 4.3], [3.85, 3.5500000000000003, 3.25, 2.95, 2.75, 2.75, 2.75, 2.75, 2.75, 2.75, 2.75, 2.75, 2.75, 2.75, 2.75, 2.75, 2.75, 2.95, 3.25, 3.5500000000000003, 3.85], [3.4000000000000004, 3.1, 2.8, 2.5, 2.2, 2.0, 2.0, 2.0, 2.0, 2.0, 2.0, 2.0, 2.0, 2.0, 2.0, 2.0, 2.2, 2.5, 2.8, 3.1, 3.4000000000000004], [3.05, 2.75, 2.45, 2.15, 1.85, 1.5500000000000003, 1.35, 1.35, 1.35, 1.35, 1.35, 1.35, 1.35, 1.35, 1.35, 1.5500000000000003, 1.85, 2.15, 2.45, 2.75, 3.05], [3.5, 3.2, 2.9000000000000004, 2.6, 2.3000000000000003, 2.0, 1.7000000000000002, 1.5, 1.5, 1.5, 1.5, 1.5, 1.5, 1.5, 1.7000000000000002, 2.0, 2.3000000000000003, 2.6, 2.9000000000000004, 3.2, 3.5], [3.95, 3.6500000000000004, 3.3500000000000005, 3.0500000000000003, 2.75, 2.45, 2.1500000000000004, 1.85, 1.6500000000000001, 1.65, 1.6500000000000001, 1.65, 1.6500000000000001, 1.85, 2.1500000000000004, 2.45, 2.75, 3.0500000000000003, 3.3500000000000005, 3.6500000000000004, 3.95], [4.4, 4.1000000000000005, 3.8000000000000007, 3.5, 3.2, 2.9000000000000004, 2.6000000000000005, 2.3000000000000003, 2.0, 1.8000000000000003, 1.8000000000000003, 1.8000000000000003, 2.0, 2.3000000000000003, 2.6000000000000005, 2.9000000000000004, 3.2, 3.5, 3.8000000000000007, 4.1000000000000005, 4.4], [4.85, 4.550000000000001, 4.25, 3.95, 3.6500000000000004, 3.35, 3.0500000000000003, 2.75, 2.45, 2.1500000000000004, 1.9500000000000002, 2.1500000000000004, 2.45, 2.75, 3.0500000000000003, 3.35, 3.6500000000000004, 3.95, 4.25, 4.550000000000001, 4.85], [5.300000000000001, 5.0, 4.700000000000001, 4.4, 4.1000000000000005, 3.8000000000000003, 3.5000000000000004, 3.2, 2.9000000000000004, 2.6, 2.5000000000000004, 2.6, 2.9000000000000004, 3.2, 3.5000000000000004, 3.8000000000000003, 4.1000000000000005, 4.4, 4.700000000000001, 5.0, 5.300000000000001], [5.75, 5.45, 5.15, 4.85, 4.550000000000001, 4.25, 3.95, 3.6500000000000004, 3.35, 3.25, 3.25, 3.25, 3.35, 3.6500000000000004, 3.95, 4.25, 4.550000000000001, 4.85, 5.15, 5.45, 5.75], [6.2, 5.9, 5.6000000000000005, 5.300000000000001, 5.0, 4.7, 4.4, 4.1000000000000005, 4.0, 4.0, 4.0, 4.0, 4.0, 4.1000000000000005, 4.4, 4.7, 5.0, 5.300000000000001, 5.6000000000000005, 5.9, 6.2], [6.65, 6.3500000000000005, 6.050000000000001, 5.75, 5.450000000000001, 5.15, 4.8500000000000005, 4.75, 4.75, 4.75, 4.75, 4.75, 4.75, 4.75, 4.8500000000000005, 5.15, 5.450000000000001, 5.75, 6.050000000000001, 6.3500000000000005, 6.65], [7.1000000000000005, 6.800000000000001, 6.500000000000001, 6.200000000000001, 5.9, 5.6000000000000005, 5.500000000000001, 5.500000000000001, 5.5, 5.500000000000001, 5.500000000000001, 5.500000000000001, 5.5, 5.500000000000001, 5.500000000000001, 5.6000000000000005, 5.9, 6.200000000000001, 6.500000000000001, 6.800000000000001, 7.1000000000000005], [7.55, 7.25, 6.95, 6.65, 6.35, 6.25, 6.25, 6.25, 6.25, 6.25, 6.25, 6.25, 6.25, 6.25, 6.25, 6.25, 6.35, 6.65, 6.95, 7.25, 7.55], [8.0, 7.7, 7.4, 7.1, 7.0, 7.0, 7.0, 7.0, 7.0, 7.0, 7.0, 7.0, 7.0, 7.0, 7.0, 7.0, 7.0, 7.1, 7.4, 7.7, 8.0]], \"type\": \"surface\", \"x\": [-15.0, -13.5, -12.0, -10.5, -9.0, -7.5, -6.0, -4.5, -3.0, -1.5, 0.0, 1.5, 3.0, 4.5, 6.0, 7.5, 9.0, 10.5, 12.0, 13.5, 15.0]}], {}, {\"displaylogo\": false, \"showLink\": true, \"linkText\": \"Export to plot.ly\", \"modeBarButtonsToRemove\": [\"sendDataToCloud\"]})});</script>"
      ],
      "text/plain": [
       "<IPython.core.display.HTML object>"
      ]
     },
     "metadata": {},
     "output_type": "display_data"
    }
   ],
   "source": [
    "plot_network_response_surface(v, y)"
   ]
  },
  {
   "cell_type": "code",
   "execution_count": 316,
   "metadata": {
    "collapsed": false
   },
   "outputs": [],
   "source": [
    "b1 = [0, 0]\n",
    "b2 = [-15]\n",
    "w1 = [[1, 0], [0, 1]]\n",
    "w2 = [1, 1]\n",
    "w3 = [1]\n",
    "network_fn = lambda: get_two_layer_network(b1, b2, w1, w2, w3)\n",
    "y = get_network_response_surface(X, network_fn)"
   ]
  },
  {
   "cell_type": "code",
   "execution_count": 317,
   "metadata": {
    "collapsed": false
   },
   "outputs": [
    {
     "data": {
      "text/html": [
       "<div id=\"1c4d4b35-2ece-457a-85b8-fcba56d87ee7\" style=\"height: 525px; width: 100%;\" class=\"plotly-graph-div\"></div><script type=\"text/javascript\">require([\"plotly\"], function(Plotly) { window.PLOTLYENV=window.PLOTLYENV || {};window.PLOTLYENV.BASE_URL=\"https://plot.ly\";Plotly.newPlot(\"1c4d4b35-2ece-457a-85b8-fcba56d87ee7\", [{\"x\": [-15.0, -13.5, -12.0, -10.5, -9.0, -7.5, -6.0, -4.5, -3.0, -1.5, 0.0, 1.5, 3.0, 4.5, 6.0, 7.5, 9.0, 10.5, 12.0, 13.5, 15.0], \"y\": [-15.0, -13.5, -12.0, -10.5, -9.0, -7.5, -6.0, -4.5, -3.0, -1.5, 0.0, 1.5, 3.0, 4.5, 6.0, 7.5, 9.0, 10.5, 12.0, 13.5, 15.0], \"type\": \"surface\", \"z\": [[15.0, 13.5, 12.0, 10.5, 9.0, 7.5, 6.0, 4.5, 3.0, 1.5, 0.0, 1.5, 3.0, 4.5, 6.0, 7.5, 9.0, 10.5, 12.0, 13.5, 15.0], [13.5, 12.0, 10.5, 9.0, 7.5, 6.0, 4.5, 3.0, 1.5, 0.0, 1.5, 0.0, 1.5, 3.0, 4.5, 6.0, 7.5, 9.0, 10.5, 12.0, 13.5], [12.0, 10.5, 9.0, 7.5, 6.0, 4.5, 3.0, 1.5, 0.0, 1.5, 3.0, 1.5, 0.0, 1.5, 3.0, 4.5, 6.0, 7.5, 9.0, 10.5, 12.0], [10.5, 9.0, 7.5, 6.0, 4.5, 3.0, 1.5, 0.0, 1.5, 3.0, 4.5, 3.0, 1.5, 0.0, 1.5, 3.0, 4.5, 6.0, 7.5, 9.0, 10.5], [9.0, 7.5, 6.0, 4.5, 3.0, 1.5, 0.0, 1.5, 3.0, 4.5, 6.0, 4.5, 3.0, 1.5, 0.0, 1.5, 3.0, 4.5, 6.0, 7.5, 9.0], [7.5, 6.0, 4.5, 3.0, 1.5, 0.0, 1.5, 3.0, 4.5, 6.0, 7.5, 6.0, 4.5, 3.0, 1.5, 0.0, 1.5, 3.0, 4.5, 6.0, 7.5], [6.0, 4.5, 3.0, 1.5, 0.0, 1.5, 3.0, 4.5, 6.0, 7.5, 9.0, 7.5, 6.0, 4.5, 3.0, 1.5, 0.0, 1.5, 3.0, 4.5, 6.0], [4.5, 3.0, 1.5, 0.0, 1.5, 3.0, 4.5, 6.0, 7.5, 9.0, 10.5, 9.0, 7.5, 6.0, 4.5, 3.0, 1.5, 0.0, 1.5, 3.0, 4.5], [3.0, 1.5, 0.0, 1.5, 3.0, 4.5, 6.0, 7.5, 9.0, 10.5, 12.0, 10.5, 9.0, 7.5, 6.0, 4.5, 3.0, 1.5, 0.0, 1.5, 3.0], [1.5, 0.0, 1.5, 3.0, 4.5, 6.0, 7.5, 9.0, 10.5, 12.0, 13.5, 12.0, 10.5, 9.0, 7.5, 6.0, 4.5, 3.0, 1.5, 0.0, 1.5], [0.0, 1.5, 3.0, 4.5, 6.0, 7.5, 9.0, 10.5, 12.0, 13.5, 15.0, 13.5, 12.0, 10.5, 9.0, 7.5, 6.0, 4.5, 3.0, 1.5, 0.0], [1.5, 0.0, 1.5, 3.0, 4.5, 6.0, 7.5, 9.0, 10.5, 12.0, 13.5, 12.0, 10.5, 9.0, 7.5, 6.0, 4.5, 3.0, 1.5, 0.0, 1.5], [3.0, 1.5, 0.0, 1.5, 3.0, 4.5, 6.0, 7.5, 9.0, 10.5, 12.0, 10.5, 9.0, 7.5, 6.0, 4.5, 3.0, 1.5, 0.0, 1.5, 3.0], [4.5, 3.0, 1.5, 0.0, 1.5, 3.0, 4.5, 6.0, 7.5, 9.0, 10.5, 9.0, 7.5, 6.0, 4.5, 3.0, 1.5, 0.0, 1.5, 3.0, 4.5], [6.0, 4.5, 3.0, 1.5, 0.0, 1.5, 3.0, 4.5, 6.0, 7.5, 9.0, 7.5, 6.0, 4.5, 3.0, 1.5, 0.0, 1.5, 3.0, 4.5, 6.0], [7.5, 6.0, 4.5, 3.0, 1.5, 0.0, 1.5, 3.0, 4.5, 6.0, 7.5, 6.0, 4.5, 3.0, 1.5, 0.0, 1.5, 3.0, 4.5, 6.0, 7.5], [9.0, 7.5, 6.0, 4.5, 3.0, 1.5, 0.0, 1.5, 3.0, 4.5, 6.0, 4.5, 3.0, 1.5, 0.0, 1.5, 3.0, 4.5, 6.0, 7.5, 9.0], [10.5, 9.0, 7.5, 6.0, 4.5, 3.0, 1.5, 0.0, 1.5, 3.0, 4.5, 3.0, 1.5, 0.0, 1.5, 3.0, 4.5, 6.0, 7.5, 9.0, 10.5], [12.0, 10.5, 9.0, 7.5, 6.0, 4.5, 3.0, 1.5, 0.0, 1.5, 3.0, 1.5, 0.0, 1.5, 3.0, 4.5, 6.0, 7.5, 9.0, 10.5, 12.0], [13.5, 12.0, 10.5, 9.0, 7.5, 6.0, 4.5, 3.0, 1.5, 0.0, 1.5, 0.0, 1.5, 3.0, 4.5, 6.0, 7.5, 9.0, 10.5, 12.0, 13.5], [15.0, 13.5, 12.0, 10.5, 9.0, 7.5, 6.0, 4.5, 3.0, 1.5, 0.0, 1.5, 3.0, 4.5, 6.0, 7.5, 9.0, 10.5, 12.0, 13.5, 15.0]]}], {}, {\"displaylogo\": false, \"modeBarButtonsToRemove\": [\"sendDataToCloud\"], \"linkText\": \"Export to plot.ly\", \"showLink\": true})});</script>"
      ],
      "text/plain": [
       "<IPython.core.display.HTML object>"
      ]
     },
     "metadata": {},
     "output_type": "display_data"
    }
   ],
   "source": [
    "plot_network_response_surface(v, y)"
   ]
  },
  {
   "cell_type": "code",
   "execution_count": 169,
   "metadata": {
    "collapsed": false
   },
   "outputs": [
    {
     "data": {
      "text/plain": [
       "array([  0. ,   0. ,   0. ,   0. ,   0. ,   0. ,   0. ,   0. ,   0. ,\n",
       "         0. ,   0. ,   1.5,   3. ,   4.5,   6. ,   7.5,   9. ,  10.5,\n",
       "        12. ,  13.5,  15. ])"
      ]
     },
     "execution_count": 169,
     "metadata": {},
     "output_type": "execute_result"
    }
   ],
   "source": [
    "y[:21]"
   ]
  },
  {
   "cell_type": "markdown",
   "metadata": {},
   "source": [
    "# Alzheimers"
   ]
  },
  {
   "cell_type": "code",
   "execution_count": null,
   "metadata": {
    "collapsed": false
   },
   "outputs": [],
   "source": [
    "d = pd.read_csv('~/Downloads/Alzheimers.csv')\n",
    "d.head()"
   ]
  },
  {
   "cell_type": "code",
   "execution_count": null,
   "metadata": {
    "collapsed": false
   },
   "outputs": [],
   "source": [
    "d['gender'].value_counts()"
   ]
  },
  {
   "cell_type": "code",
   "execution_count": null,
   "metadata": {
    "collapsed": false
   },
   "outputs": [],
   "source": [
    "d['gender'] = d['gender'].str.upper().str[0]\n",
    "d['gender'].value_counts()"
   ]
  },
  {
   "cell_type": "code",
   "execution_count": null,
   "metadata": {
    "collapsed": false
   },
   "outputs": [],
   "source": [
    "d.groupby(['gender', 'Genotype']).size()"
   ]
  },
  {
   "cell_type": "code",
   "execution_count": null,
   "metadata": {
    "collapsed": false
   },
   "outputs": [],
   "source": [
    "d['Genotype'].value_counts()"
   ]
  },
  {
   "cell_type": "markdown",
   "metadata": {},
   "source": [
    "### Encoding"
   ]
  },
  {
   "cell_type": "code",
   "execution_count": null,
   "metadata": {
    "collapsed": false
   },
   "outputs": [],
   "source": [
    "d['response'].value_counts()"
   ]
  },
  {
   "cell_type": "code",
   "execution_count": null,
   "metadata": {
    "collapsed": false
   },
   "outputs": [],
   "source": [
    "df = d.copy()\n",
    "\n",
    "df = pd.get_dummies(df, prefix='gender', prefix_sep=':', columns=['gender'])\n",
    "df = pd.get_dummies(df, prefix='genotype', prefix_sep=':', columns=['Genotype'])\n",
    "df['response'] = df['response'].map({'NotImpaired': 0, 'Impaired': 1})\n",
    "df.filter(regex='age|gender|genotype|response').sample(n=6)"
   ]
  },
  {
   "cell_type": "code",
   "execution_count": null,
   "metadata": {
    "collapsed": false
   },
   "outputs": [],
   "source": [
    "len(d)"
   ]
  },
  {
   "cell_type": "code",
   "execution_count": null,
   "metadata": {
    "collapsed": true
   },
   "outputs": [],
   "source": [
    "cy = 'response'\n",
    "X, y = df[[c for c in df if c != cy]].astype(np.float64), df[cy]"
   ]
  },
  {
   "cell_type": "code",
   "execution_count": null,
   "metadata": {
    "collapsed": false
   },
   "outputs": [],
   "source": [
    "pd.set_option('display.max_info_columns', 1000)\n",
    "X.info()"
   ]
  },
  {
   "cell_type": "code",
   "execution_count": null,
   "metadata": {
    "collapsed": true
   },
   "outputs": [],
   "source": [
    "tf.real"
   ]
  },
  {
   "cell_type": "code",
   "execution_count": null,
   "metadata": {
    "collapsed": true
   },
   "outputs": [],
   "source": [
    "tf.contrib.learn.DNNClassifier"
   ]
  },
  {
   "cell_type": "code",
   "execution_count": null,
   "metadata": {
    "collapsed": false
   },
   "outputs": [],
   "source": [
    "# from sklearn.datasets import load_iris\n",
    "# load_iris().data"
   ]
  },
  {
   "cell_type": "code",
   "execution_count": null,
   "metadata": {
    "collapsed": true
   },
   "outputs": [],
   "source": []
  },
  {
   "cell_type": "code",
   "execution_count": null,
   "metadata": {
    "collapsed": false
   },
   "outputs": [],
   "source": [
    "from sklearn.pipeline import Pipeline\n",
    "from sklearn.preprocessing import StandardScaler\n",
    "from tensorflow.contrib.learn.python.learn.estimators.estimator import SKCompat\n",
    "from tensorflow.contrib.learn.python.learn.estimators import run_config\n",
    "\n",
    "#feature_columns = [tf.contrib.layers.real_valued_column(c) for c in X]\n",
    "feature_columns = tf.contrib.learn.infer_real_valued_columns_from_input(X.values)\n",
    "clf = SKCompat(tf.contrib.learn.DNNClassifier(\n",
    "    [10], feature_columns,\n",
    "    config=run_config.RunConfig(save_checkpoints_steps=10, save_checkpoints_secs=None, save_summary_steps=10)\n",
    "))\n",
    "clf = Pipeline([\n",
    "    ('scale', StandardScaler()),\n",
    "    ('clf', clf)\n",
    "])\n",
    "clf.fit(X, y, clf__max_steps=100)"
   ]
  },
  {
   "cell_type": "code",
   "execution_count": null,
   "metadata": {
    "collapsed": false
   },
   "outputs": [],
   "source": [
    "from sklearn.base import clone\n",
    "clf = SKCompat(tf.contrib.learn.DNNClassifier(\n",
    "    [10], feature_columns,\n",
    "    config=run_config.RunConfig(save_checkpoints_steps=10, save_checkpoints_secs=None, save_summary_steps=10)\n",
    "))\n",
    "clone(clf)"
   ]
  },
  {
   "cell_type": "code",
   "execution_count": null,
   "metadata": {
    "collapsed": false
   },
   "outputs": [],
   "source": [
    "clf.named_steps['clf']"
   ]
  },
  {
   "cell_type": "code",
   "execution_count": null,
   "metadata": {
    "collapsed": true
   },
   "outputs": [],
   "source": [
    "tf.contrib.learn.DNNClassifier()"
   ]
  },
  {
   "cell_type": "code",
   "execution_count": null,
   "metadata": {
    "collapsed": false
   },
   "outputs": [],
   "source": [
    "d['gender'].value_counts()"
   ]
  },
  {
   "cell_type": "code",
   "execution_count": null,
   "metadata": {
    "collapsed": false
   },
   "outputs": [],
   "source": []
  },
  {
   "cell_type": "code",
   "execution_count": null,
   "metadata": {
    "collapsed": true
   },
   "outputs": [],
   "source": []
  }
 ],
 "metadata": {
  "anaconda-cloud": {},
  "kernelspec": {
   "display_name": "Python 3",
   "language": "python",
   "name": "python3"
  },
  "language_info": {
   "codemirror_mode": {
    "name": "ipython",
    "version": 3
   },
   "file_extension": ".py",
   "mimetype": "text/x-python",
   "name": "python",
   "nbconvert_exporter": "python",
   "pygments_lexer": "ipython3",
   "version": "3.5.2"
  }
 },
 "nbformat": 4,
 "nbformat_minor": 2
}
