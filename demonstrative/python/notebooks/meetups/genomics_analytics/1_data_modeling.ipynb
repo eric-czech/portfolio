{
 "cells": [
  {
   "cell_type": "code",
   "execution_count": 1,
   "metadata": {
    "collapsed": false
   },
   "outputs": [],
   "source": [
    "%run -m ipy_startup\n",
    "%matplotlib inline\n",
    "%load_ext rpy2.ipython\n",
    "from genomics import data as gnd"
   ]
  },
  {
   "cell_type": "code",
   "execution_count": 2,
   "metadata": {
    "collapsed": false
   },
   "outputs": [
    {
     "data": {
      "text/plain": [
       "<module 'genomics.data' from '/Users/eczech/repos/portfolio/functional/ml/python/genomics/data.py'>"
      ]
     },
     "execution_count": 2,
     "metadata": {},
     "output_type": "execute_result"
    }
   ],
   "source": [
    "import imp\n",
    "imp.reload(gnd)"
   ]
  },
  {
   "cell_type": "markdown",
   "metadata": {},
   "source": [
    "# Data Loading"
   ]
  },
  {
   "cell_type": "code",
   "execution_count": 3,
   "metadata": {
    "collapsed": false
   },
   "outputs": [
    {
     "name": "stdout",
     "output_type": "stream",
     "text": [
      "Removing 6127 cols with more than 10 pct NA values\n",
      "Removing 808 cols with more than 10 pct NA values\n"
     ]
    }
   ],
   "source": [
    "datasets = gnd.get_raw_datasets()"
   ]
  },
  {
   "cell_type": "code",
   "execution_count": 4,
   "metadata": {
    "collapsed": false
   },
   "outputs": [
    {
     "name": "stdout",
     "output_type": "stream",
     "text": [
      "Frequency of row-wise NA pct values over threshold for removal:\n",
      "1    5\n",
      "dtype: int64\n",
      "Frequency of row-wise NA pct values over threshold for removal:\n",
      "1    5\n",
      "dtype: int64\n",
      "The following tumors will be removed due to high sparsity in their feature values: ['COLO699', 'HCC1359', 'HCC1833', 'HCC2108', 'NCIH2073', 'T3M10']\n"
     ]
    }
   ],
   "source": [
    "data = gnd.join_all_datasets(datasets, na_thresh=.9)"
   ]
  },
  {
   "cell_type": "code",
   "execution_count": 5,
   "metadata": {
    "collapsed": true
   },
   "outputs": [],
   "source": [
    "data['response'] = gnd.get_response_value(data)"
   ]
  },
  {
   "cell_type": "code",
   "execution_count": 6,
   "metadata": {
    "collapsed": false
   },
   "outputs": [
    {
     "data": {
      "text/html": [
       "<div>\n",
       "<table border=\"1\" class=\"dataframe\">\n",
       "  <thead>\n",
       "    <tr style=\"text-align: right;\">\n",
       "      <th></th>\n",
       "      <th>tumorID</th>\n",
       "      <th>res_AUC</th>\n",
       "      <th>res_IC50</th>\n",
       "      <th>type</th>\n",
       "      <th>cn:A1BG</th>\n",
       "      <th>cn:A1CF</th>\n",
       "      <th>cn:A2M</th>\n",
       "      <th>cn:A2ML1</th>\n",
       "      <th>cn:A4GALT</th>\n",
       "      <th>cn:A4GNT</th>\n",
       "      <th>...</th>\n",
       "      <th>ge:ZW10</th>\n",
       "      <th>ge:ZWILCH</th>\n",
       "      <th>ge:ZWINT</th>\n",
       "      <th>ge:ZXDC</th>\n",
       "      <th>ge:ZYG11A</th>\n",
       "      <th>ge:ZYG11B</th>\n",
       "      <th>ge:ZYX</th>\n",
       "      <th>ge:ZZEF1</th>\n",
       "      <th>ge:ZZZ3</th>\n",
       "      <th>response</th>\n",
       "    </tr>\n",
       "  </thead>\n",
       "  <tbody>\n",
       "    <tr>\n",
       "      <th>0</th>\n",
       "      <td>AMO1</td>\n",
       "      <td>7.1835</td>\n",
       "      <td>NaN</td>\n",
       "      <td>o</td>\n",
       "      <td>0.1540</td>\n",
       "      <td>-0.2066</td>\n",
       "      <td>0.356800</td>\n",
       "      <td>0.356800</td>\n",
       "      <td>-0.2340</td>\n",
       "      <td>0.10170</td>\n",
       "      <td>...</td>\n",
       "      <td>1.6412</td>\n",
       "      <td>-0.4759</td>\n",
       "      <td>0.3082</td>\n",
       "      <td>-0.7262</td>\n",
       "      <td>1.8097</td>\n",
       "      <td>-1.8718</td>\n",
       "      <td>-1.2941</td>\n",
       "      <td>0.8220</td>\n",
       "      <td>-1.3928</td>\n",
       "      <td>1.666203</td>\n",
       "    </tr>\n",
       "    <tr>\n",
       "      <th>1</th>\n",
       "      <td>BL70</td>\n",
       "      <td>5.1900</td>\n",
       "      <td>NaN</td>\n",
       "      <td>o</td>\n",
       "      <td>-0.0474</td>\n",
       "      <td>-0.0369</td>\n",
       "      <td>-0.016200</td>\n",
       "      <td>-0.016200</td>\n",
       "      <td>0.0061</td>\n",
       "      <td>-0.01819</td>\n",
       "      <td>...</td>\n",
       "      <td>1.0525</td>\n",
       "      <td>2.0108</td>\n",
       "      <td>0.4501</td>\n",
       "      <td>1.1429</td>\n",
       "      <td>-1.1830</td>\n",
       "      <td>-1.1503</td>\n",
       "      <td>-1.5781</td>\n",
       "      <td>1.8143</td>\n",
       "      <td>1.3070</td>\n",
       "      <td>0.535292</td>\n",
       "    </tr>\n",
       "    <tr>\n",
       "      <th>2</th>\n",
       "      <td>C2BBE1</td>\n",
       "      <td>5.1650</td>\n",
       "      <td>NaN</td>\n",
       "      <td>o</td>\n",
       "      <td>0.0481</td>\n",
       "      <td>0.9257</td>\n",
       "      <td>0.362000</td>\n",
       "      <td>0.362000</td>\n",
       "      <td>-0.1787</td>\n",
       "      <td>0.03810</td>\n",
       "      <td>...</td>\n",
       "      <td>2.1532</td>\n",
       "      <td>-0.2131</td>\n",
       "      <td>1.1403</td>\n",
       "      <td>-0.2701</td>\n",
       "      <td>0.3613</td>\n",
       "      <td>-0.1758</td>\n",
       "      <td>1.2259</td>\n",
       "      <td>-1.7602</td>\n",
       "      <td>-3.0451</td>\n",
       "      <td>0.521109</td>\n",
       "    </tr>\n",
       "    <tr>\n",
       "      <th>3</th>\n",
       "      <td>CALU3</td>\n",
       "      <td>3.0088</td>\n",
       "      <td>NaN</td>\n",
       "      <td>o</td>\n",
       "      <td>0.3349</td>\n",
       "      <td>0.1454</td>\n",
       "      <td>-0.009054</td>\n",
       "      <td>-0.009054</td>\n",
       "      <td>0.1193</td>\n",
       "      <td>0.73610</td>\n",
       "      <td>...</td>\n",
       "      <td>-0.0480</td>\n",
       "      <td>0.1517</td>\n",
       "      <td>0.7018</td>\n",
       "      <td>0.9007</td>\n",
       "      <td>-0.9018</td>\n",
       "      <td>-1.4952</td>\n",
       "      <td>-0.1633</td>\n",
       "      <td>-1.3113</td>\n",
       "      <td>-0.0842</td>\n",
       "      <td>-0.702101</td>\n",
       "    </tr>\n",
       "    <tr>\n",
       "      <th>4</th>\n",
       "      <td>CALU6</td>\n",
       "      <td>3.0762</td>\n",
       "      <td>NaN</td>\n",
       "      <td>o</td>\n",
       "      <td>0.2393</td>\n",
       "      <td>0.2413</td>\n",
       "      <td>0.436800</td>\n",
       "      <td>0.436800</td>\n",
       "      <td>-0.4056</td>\n",
       "      <td>0.14220</td>\n",
       "      <td>...</td>\n",
       "      <td>-0.7145</td>\n",
       "      <td>1.2962</td>\n",
       "      <td>-0.1922</td>\n",
       "      <td>-0.7649</td>\n",
       "      <td>-0.5098</td>\n",
       "      <td>-1.5750</td>\n",
       "      <td>-0.0347</td>\n",
       "      <td>0.8514</td>\n",
       "      <td>-0.0573</td>\n",
       "      <td>-0.663865</td>\n",
       "    </tr>\n",
       "  </tbody>\n",
       "</table>\n",
       "<p>5 rows × 36014 columns</p>\n",
       "</div>"
      ],
      "text/plain": [
       "  tumorID  res_AUC  res_IC50 type  cn:A1BG  cn:A1CF    cn:A2M  cn:A2ML1  \\\n",
       "0    AMO1   7.1835       NaN    o   0.1540  -0.2066  0.356800  0.356800   \n",
       "1    BL70   5.1900       NaN    o  -0.0474  -0.0369 -0.016200 -0.016200   \n",
       "2  C2BBE1   5.1650       NaN    o   0.0481   0.9257  0.362000  0.362000   \n",
       "3   CALU3   3.0088       NaN    o   0.3349   0.1454 -0.009054 -0.009054   \n",
       "4   CALU6   3.0762       NaN    o   0.2393   0.2413  0.436800  0.436800   \n",
       "\n",
       "   cn:A4GALT  cn:A4GNT    ...     ge:ZW10  ge:ZWILCH  ge:ZWINT  ge:ZXDC  \\\n",
       "0    -0.2340   0.10170    ...      1.6412    -0.4759    0.3082  -0.7262   \n",
       "1     0.0061  -0.01819    ...      1.0525     2.0108    0.4501   1.1429   \n",
       "2    -0.1787   0.03810    ...      2.1532    -0.2131    1.1403  -0.2701   \n",
       "3     0.1193   0.73610    ...     -0.0480     0.1517    0.7018   0.9007   \n",
       "4    -0.4056   0.14220    ...     -0.7145     1.2962   -0.1922  -0.7649   \n",
       "\n",
       "   ge:ZYG11A  ge:ZYG11B  ge:ZYX  ge:ZZEF1  ge:ZZZ3  response  \n",
       "0     1.8097    -1.8718 -1.2941    0.8220  -1.3928  1.666203  \n",
       "1    -1.1830    -1.1503 -1.5781    1.8143   1.3070  0.535292  \n",
       "2     0.3613    -0.1758  1.2259   -1.7602  -3.0451  0.521109  \n",
       "3    -0.9018    -1.4952 -0.1633   -1.3113  -0.0842 -0.702101  \n",
       "4    -0.5098    -1.5750 -0.0347    0.8514  -0.0573 -0.663865  \n",
       "\n",
       "[5 rows x 36014 columns]"
      ]
     },
     "execution_count": 6,
     "metadata": {},
     "output_type": "execute_result"
    }
   ],
   "source": [
    "data.head()"
   ]
  },
  {
   "cell_type": "markdown",
   "metadata": {},
   "source": [
    "# Data Prep"
   ]
  },
  {
   "cell_type": "markdown",
   "metadata": {},
   "source": [
    "For several different hold out set sizes:\n",
    "1. Split data into training and hold out\n",
    "2. Fit normalizing transforms on training data and apply to hold out\n",
    "3. Match features in hold out to training\n",
    "4. Store both training and hold out sets"
   ]
  },
  {
   "cell_type": "code",
   "execution_count": 8,
   "metadata": {
    "collapsed": true
   },
   "outputs": [],
   "source": [
    "def split_data(data, n_ho=30, n_features=8000, n_min_mu=3):\n",
    "    # Split into training and holdout\n",
    "    is_ho = gnd.get_hold_out_mask(data, n_ho=n_ho)\n",
    "    d_ho, d_tr = data.loc[is_ho], data[~is_ho]\n",
    "    \n",
    "    # Scale and dummy encode\n",
    "    d_tr, scalers = gnd.prep_data(d_tr, scalers=None)\n",
    "    d_ho, _ = gnd.prep_data(d_ho, scalers=scalers)\n",
    "    \n",
    "    # Run feature selection\n",
    "    d_tr, d_ho = gnd.normalize_data_split(d_tr, d_ho, min_mu_ct=n_min_mu)\n",
    "    d_tr, d_ho = gnd.select_features(d_tr, d_ho, k=n_features)\n",
    "    \n",
    "    return d_tr, d_ho"
   ]
  },
  {
   "cell_type": "code",
   "execution_count": null,
   "metadata": {
    "collapsed": false
   },
   "outputs": [],
   "source": [
    "#for n_ho in [30, 45, 60, 75, 90, 105]:\n",
    "for n_ho in [195, 225, 250]:\n",
    "    print('Creating data sets with hold out size {}'.format(n_ho))\n",
    "    d_tr, d_ho = split_data(data, n_ho=n_ho, n_features=8000)\n",
    "    gnd.export_dataset(d_tr, d_ho, n_ho)"
   ]
  },
  {
   "cell_type": "code",
   "execution_count": null,
   "metadata": {
    "collapsed": false
   },
   "outputs": [],
   "source": [
    "#d_tr_prep.reset_index().plot(kind='scatter', y='response', x='cn:A2M')"
   ]
  },
  {
   "cell_type": "markdown",
   "metadata": {},
   "source": [
    "# Modeling"
   ]
  },
  {
   "cell_type": "code",
   "execution_count": 12,
   "metadata": {
    "collapsed": true
   },
   "outputs": [],
   "source": [
    "n_ho = 30\n",
    "d_tr, d_ho = gnd.load_dataset(n_ho)"
   ]
  },
  {
   "cell_type": "code",
   "execution_count": null,
   "metadata": {
    "collapsed": false
   },
   "outputs": [],
   "source": [
    "from ml.model import models, common, importances\n",
    "from ml.model import summaries as ml_precis\n",
    "from ml.model import ensemble\n",
    "from sklearn.grid_search import GridSearchCV, RandomizedSearchCV\n",
    "from sklearn.cross_validation import KFold\n",
    "from sklearn.svm import SVR\n",
    "from sklearn.pipeline import Pipeline\n",
    "from sklearn.linear_model import RidgeCV, RandomizedLasso, Ridge, ElasticNetCV\n",
    "from sklearn.ensemble import GradientBoostingRegressor, ExtraTreesRegressor, RandomForestRegressor\n",
    "from sklearn.decomposition import PCA\n",
    "from sklearn.feature_selection import SelectKBest, f_regression\n",
    "from sklearn.preprocessing import PolynomialFeatures, StandardScaler\n",
    "from sklearn.kernel_approximation import Nystroem\n",
    "from sklearn.kernel_ridge import KernelRidge\n",
    "\n",
    "features = [c for c in d_tr if c != 'response']\n",
    "X, y = d_tr[features], d_tr['response']\n",
    "\n",
    "# gbr_grid = {\n",
    "#     'n_estimators': [1, 100, 1000],\n",
    "#     'learning_rate': [.001, .01, .1, 1],\n",
    "#     'min_samples_leaf': [1, 2, 5],\n",
    "#     'max_depth': [1, 5, 13]\n",
    "# }\n",
    "gbr_grid = {\n",
    "    'n_estimators': [100],\n",
    "    'learning_rate': [.01, .1, .2],\n",
    "    'min_samples_leaf': [3, 17, 25],\n",
    "    'max_depth': [5],\n",
    "    'max_features': [.3, .5, .7]\n",
    "}\n",
    "rf_grid = {\n",
    "    'n_estimators': [1, 10, 100, 250],\n",
    "    'min_samples_leaf': [1, 3],\n",
    "    'max_depth': [1]\n",
    "}\n",
    "etr_grid = {\n",
    "    'n_estimators': [10],\n",
    "    'min_samples_leaf': [5],\n",
    "    'min_samples_split': [10],\n",
    "    'max_features': ['auto', .1, .3, .5, .8],\n",
    "    'max_leaf_nodes': [40, 60, 80],\n",
    "    'max_depth': [None]\n",
    "}\n",
    "svr_grid = {\n",
    "    'C': np.logspace(-1, 2, 6),\n",
    "    'degree': [3],\n",
    "    'gamma': np.logspace(-6, -3, 6),\n",
    "    'kernel': ['rbf'],\n",
    "    'max_iter': [15000]\n",
    "}\n",
    "ridge_grid = {\n",
    "    'alpha': np.logspace(-2, 5, 50)\n",
    "}\n",
    "enet_grid = {\n",
    "    'l1_ratio': [.1, .3, .5, .7, .9, 1]\n",
    "}\n",
    "\n",
    "\n",
    "n_jobs = -1\n",
    "etr = ExtraTreesRegressor(n_estimators=100, max_depth=None, max_leaf_nodes=100, \n",
    "                          min_samples_leaf=5, min_samples_split=10, max_features=.85, n_jobs=-1)\n",
    "\n",
    "\n",
    "\n",
    "#rf = RandomForestRegressor()\n",
    "gbr = Pipeline([ \n",
    "            ('scale', StandardScaler()),\n",
    "            ('pca', PCA(n_components=.8)), \n",
    "            ('est', GridSearchCV(GradientBoostingRegressor(), gbr_grid, n_jobs=-1))\n",
    "        ])\n",
    "\n",
    "ridge = Pipeline([ \n",
    "            ('scale', StandardScaler()),\n",
    "            ('pca', PCA(n_components=.5)),\n",
    "            ('est', GridSearchCV(Ridge(normalize=True), ridge_grid, n_jobs=-1))\n",
    "        ])\n",
    "lasso = Pipeline([\n",
    "            ('scale', StandardScaler()),\n",
    "            ('pca', PCA(n_components=.5)), \n",
    "            ('est', LassoCV(normalize=True, n_jobs=-1))\n",
    "        ])\n",
    "enet = Pipeline([ \n",
    "            ('scale', StandardScaler()),\n",
    "            ('pca', PCA(n_components=.5)), \n",
    "            ('est', GridSearchCV(ElasticNetCV(n_jobs=-1, cv=5, max_iter=10000, normalize=True), enet_grid))\n",
    "        ])\n",
    "# nys_grid = {\n",
    "#     'kernel_params': [{'n_components': 232}],\n",
    "#     'kernel': ['rbf'],\n",
    "#     #'alpha': np.logspace(-2, 2, 1),\n",
    "#     'gamma': np.logspace(-6, -3, 1)\n",
    "# }\n",
    "nys_grid = {\n",
    "    'feat__n_components': [100, 232],\n",
    "    'feat__gamma': [.00006, .00001, .0001],#np.logspace(-6, -3, 8),\n",
    "    'est__alpha': np.logspace(-3, 1, 5)\n",
    "}\n",
    "nys =  GridSearchCV(Pipeline([ \n",
    "        ('scale', StandardScaler()),\n",
    "        #('pca', PCA(n_components=.9)),\n",
    "        ('feat', Nystroem()),\n",
    "        ('est', Ridge()) \n",
    "    ]), nys_grid, cv=5, n_jobs=1)\n",
    "\n",
    "svr = GridSearchCV(SVR(), svr_grid, cv=5, n_jobs=1)\n",
    "\n",
    "ens = ensemble.EnsembleRegressor([enet, ridge, etr, svr])\n",
    "#clfs = {'ridge': ridge, 'lasso': lasso, 'ens': ensemble}\n",
    "#clfs = {'enet': enet}\n",
    "clfs = {'nys': nys}\n",
    "\n",
    "res = models.run_regressors(\n",
    "    X, y, clfs, KFold(len(y), 10), keep_X=False, \n",
    "    par_n_jobs=1, par_verbose=1,\n",
    "    log_file='/tmp/genomics_cv.log')"
   ]
  },
  {
   "cell_type": "code",
   "execution_count": null,
   "metadata": {
    "collapsed": false
   },
   "outputs": [],
   "source": [
    "#PCA(n_components=.75).fit_transform(X).shape"
   ]
  },
  {
   "cell_type": "code",
   "execution_count": null,
   "metadata": {
    "collapsed": false
   },
   "outputs": [],
   "source": [
    "ml_precis.summarize_grid_parameters(res)"
   ]
  },
  {
   "cell_type": "code",
   "execution_count": null,
   "metadata": {
    "collapsed": false
   },
   "outputs": [],
   "source": [
    "from sklearn.metrics import mean_squared_error\n",
    "score_func = lambda clf, y_true, y_pred: np.sqrt(mean_squared_error(y_true, y_pred))\n",
    "#score_func = lambda clf, y_true, y_pred: mean_squared_error(y_true, y_pred)\n",
    "scores = models.summarize_scores(res, score_func)\n",
    "scores.groupby('model_name').mean()"
   ]
  },
  {
   "cell_type": "code",
   "execution_count": null,
   "metadata": {
    "collapsed": false
   },
   "outputs": [],
   "source": [
    "ml_precis.plot_model_scores(res, score_func)"
   ]
  },
  {
   "cell_type": "code",
   "execution_count": null,
   "metadata": {
    "collapsed": true
   },
   "outputs": [],
   "source": [
    "ml_precis.plot_feature_importance(res)"
   ]
  },
  {
   "cell_type": "code",
   "execution_count": null,
   "metadata": {
    "collapsed": true
   },
   "outputs": [],
   "source": [
    "preds = models.summarize_predictions(res)"
   ]
  },
  {
   "cell_type": "markdown",
   "metadata": {},
   "source": [
    "# Predictions"
   ]
  },
  {
   "cell_type": "code",
   "execution_count": null,
   "metadata": {
    "collapsed": false
   },
   "outputs": [],
   "source": [
    "nys_grid = {\n",
    "    'feat__n_components': [100],\n",
    "    #'feat__n_components': [100],\n",
    "    'feat__gamma': [.00006],#np.logspace(-6, -3, 8),\n",
    "    'est__alpha': np.logspace(-3, 1, 5)\n",
    "}\n",
    "nys =  GridSearchCV(Pipeline([ \n",
    "        ('scale', StandardScaler()),\n",
    "        #('pca', PCA(n_components=.9)),\n",
    "        ('feat', Nystroem()),\n",
    "        ('est', Ridge()) \n",
    "    ]), nys_grid, cv=5, n_jobs=1)\n",
    "ens = ensemble.EnsembleRegressor([enet, ridge, nys])\n",
    "n_ho = 250\n",
    "d_tr_p, d_ho_p = gnd.load_dataset(n_ho)\n",
    "features = [c for c in d_tr_p if c != 'response']\n",
    "X, y = d_tr_p[features], d_tr_p['response']\n",
    "ens.fit(X, y)"
   ]
  },
  {
   "cell_type": "code",
   "execution_count": null,
   "metadata": {
    "collapsed": false
   },
   "outputs": [],
   "source": [
    "X_ho = d_ho_p[features]\n",
    "y_ho = ens.predict(X_ho)\n",
    "plt.scatter(y_ho, d_ho_p['response'])\n",
    "plt.gca().set_xlim(-2, 1)"
   ]
  },
  {
   "cell_type": "code",
   "execution_count": null,
   "metadata": {
    "collapsed": false
   },
   "outputs": [],
   "source": [
    "X_ho = d_ho_p[features]\n",
    "y_ho = ens.predict(X_ho)\n",
    "plt.scatter(y_ho, d_ho_p['response'])\n",
    "plt.gca().set_xlim(-2, 1)"
   ]
  },
  {
   "cell_type": "markdown",
   "metadata": {},
   "source": [
    "# Clustering"
   ]
  },
  {
   "cell_type": "code",
   "execution_count": 9,
   "metadata": {
    "collapsed": false
   },
   "outputs": [],
   "source": [
    "n_ho = 30\n",
    "d_tr, d_ho = split_data(data, n_ho=n_ho, n_features=1000)"
   ]
  },
  {
   "cell_type": "code",
   "execution_count": 14,
   "metadata": {
    "collapsed": true
   },
   "outputs": [],
   "source": [
    "d_tr.reset_index().to_csv('/tmp/d_tr.csv', index=False)"
   ]
  },
  {
   "cell_type": "code",
   "execution_count": 48,
   "metadata": {
    "collapsed": false
   },
   "outputs": [],
   "source": [
    "p = d_tr.reset_index()\n",
    "#d_tr.plot(kind='scatter', x='cn:SLC26A2', y='ge:SOX4')\n",
    "p['color'] = p['type'].map({'o': 0, 'c': 2, 'h': 1}).astype(np.int64)\n",
    "p = p[['cn:PDE6A','cn:SLC26A2','color']]"
   ]
  },
  {
   "cell_type": "code",
   "execution_count": 49,
   "metadata": {
    "collapsed": false
   },
   "outputs": [
    {
     "data": {
      "image/png": "[encoded data removed]"
     },
     "metadata": {},
     "output_type": "display_data"
    }
   ],
   "source": [
    "%%R -i p -w 400 -h 400 -u px\n",
    "library(dplyr)\n",
    "library(ggplot2)\n",
    "library(reshape2)\n",
    "p %>% mutate_each(funs(as.numeric)) %>% mutate(color=factor(color)) %>% setNames(c('x', 'y', 'c')) %>% \n",
    "    ggplot(aes(x=x, y=y, color=c)) + geom_jitter(alpha=.7, position = position_jitter(width = .2)) + \n",
    "    theme_bw()"
   ]
  },
  {
   "cell_type": "code",
   "execution_count": 10,
   "metadata": {
    "collapsed": true
   },
   "outputs": [],
   "source": [
    "cors = d_tr.corr()"
   ]
  },
  {
   "cell_type": "code",
   "execution_count": 11,
   "metadata": {
    "collapsed": false
   },
   "outputs": [
    {
     "name": "stderr",
     "output_type": "stream",
     "text": [
      "/Users/eczech/anaconda/envs/research3.4/lib/python3.4/site-packages/sklearn/manifold/mds.py:394: UserWarning: The MDS API has changed. ``fit`` now constructs an dissimilarity matrix from data. To use a custom dissimilarity matrix, set ``dissimilarity=precomputed``.\n",
      "  warnings.warn(\"The MDS API has changed. ``fit`` now constructs an\"\n"
     ]
    }
   ],
   "source": [
    "from sklearn.manifold import TSNE, MDS\n",
    "#tsne = TSNE().fit_transform(d_tr.T)\n",
    "mds = MDS().fit_transform(cors)"
   ]
  },
  {
   "cell_type": "code",
   "execution_count": 12,
   "metadata": {
    "collapsed": false
   },
   "outputs": [
    {
     "data": {
      "text/plain": [
       "(1000, 2)"
      ]
     },
     "execution_count": 12,
     "metadata": {},
     "output_type": "execute_result"
    }
   ],
   "source": [
    "mds.shape"
   ]
  },
  {
   "cell_type": "code",
   "execution_count": 13,
   "metadata": {
    "collapsed": false
   },
   "outputs": [
    {
     "data": {
      "image/png": "[encoded data removed]",
      "text/plain": [
       "<matplotlib.figure.Figure at 0x10f690748>"
      ]
     },
     "metadata": {},
     "output_type": "display_data"
    }
   ],
   "source": [
    "plt.scatter(mds[:, 0], mds[:, 1])\n",
    "plt.gcf().set_size_inches(12, 6)"
   ]
  },
  {
   "cell_type": "code",
   "execution_count": null,
   "metadata": {
    "collapsed": true
   },
   "outputs": [],
   "source": []
  }
 ],
 "metadata": {
  "kernelspec": {
   "display_name": "Python 3",
   "language": "python",
   "name": "python3"
  },
  "language_info": {
   "codemirror_mode": {
    "name": "ipython",
    "version": 3
   },
   "file_extension": ".py",
   "mimetype": "text/x-python",
   "name": "python",
   "nbconvert_exporter": "python",
   "pygments_lexer": "ipython3",
   "version": "3.4.3"
  }
 },
 "nbformat": 4,
 "nbformat_minor": 0
}
