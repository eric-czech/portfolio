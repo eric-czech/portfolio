{
 "cells": [
  {
   "cell_type": "code",
   "execution_count": 56,
   "metadata": {
    "collapsed": true
   },
   "outputs": [],
   "source": [
    "d = {}\n",
    "for i in range(3):\n",
    "    d[i] = pd.read_excel('/Users/eczech/Downloads/MeetupDataChallenge-1.xlsx', sheetname=i)"
   ]
  },
  {
   "cell_type": "code",
   "execution_count": 57,
   "metadata": {
    "collapsed": true
   },
   "outputs": [],
   "source": [
    "d_yield, d_comp, d_run = d.values()"
   ]
  },
  {
   "cell_type": "code",
   "execution_count": 58,
   "metadata": {
    "collapsed": false
   },
   "outputs": [
    {
     "data": {
      "text/plain": [
       "(   Run Number   Component    Lot ID\n",
       " 0           1  Cassette 1  10004280\n",
       " 1           1  Cassette 2  10004282\n",
       " 2           1   Filter 4a  10004283\n",
       " 3           1   Filter 4b  10004284\n",
       " 4           1    Filter 1  10004285,    Run Number  Final Yield 2  Purity\n",
       " 0           1          16.75    75.5\n",
       " 1           2          16.81    81.8\n",
       " 2           3          16.96    67.0\n",
       " 3           4          16.53    70.3\n",
       " 4           5          18.55    80.1,      Stage              Class   Component\n",
       " 0  Stage 2  Materials - Parts  Cassette 1\n",
       " 1  Stage 2  Materials - Parts  Cassette 2\n",
       " 2  Stage 3  Materials - Parts   Filter 4a\n",
       " 3  Stage 3  Materials - Parts   Filter 4b\n",
       " 4  Stage 1  Materials - Parts    Filter 1)"
      ]
     },
     "execution_count": 58,
     "metadata": {},
     "output_type": "execute_result"
    }
   ],
   "source": [
    "d_run.head(), d_yield.head(), d_comp.head()"
   ]
  },
  {
   "cell_type": "code",
   "execution_count": 63,
   "metadata": {
    "collapsed": false
   },
   "outputs": [
    {
     "data": {
      "text/plain": [
       "(set(), set(), 32, 32)"
      ]
     },
     "execution_count": 63,
     "metadata": {},
     "output_type": "execute_result"
    }
   ],
   "source": [
    "s1 = set(d_comp['Component'].unique())\n",
    "s2 = set(d_run['Component'].unique())\n",
    "s1 - s2, s2 - s1, len(s1), len(s2)"
   ]
  },
  {
   "cell_type": "code",
   "execution_count": 64,
   "metadata": {
    "collapsed": false
   },
   "outputs": [
    {
     "data": {
      "text/html": [
       "<div style=\"max-height:1000px;max-width:1500px;overflow:auto;\">\n",
       "<table border=\"1\" class=\"dataframe\">\n",
       "  <thead>\n",
       "    <tr style=\"text-align: right;\">\n",
       "      <th></th>\n",
       "      <th>Stage</th>\n",
       "      <th>Class</th>\n",
       "      <th>Component</th>\n",
       "    </tr>\n",
       "  </thead>\n",
       "  <tbody>\n",
       "    <tr>\n",
       "      <th>31</th>\n",
       "      <td> Stage 1</td>\n",
       "      <td> Materials - Chemicals</td>\n",
       "      <td> WFI Source</td>\n",
       "    </tr>\n",
       "    <tr>\n",
       "      <th>32</th>\n",
       "      <td> Stage 2</td>\n",
       "      <td> Materials - Chemicals</td>\n",
       "      <td> WFI Source</td>\n",
       "    </tr>\n",
       "    <tr>\n",
       "      <th>33</th>\n",
       "      <td> Stage 3</td>\n",
       "      <td> Materials - Chemicals</td>\n",
       "      <td> WFI Source</td>\n",
       "    </tr>\n",
       "  </tbody>\n",
       "</table>\n",
       "</div>"
      ],
      "text/plain": [
       "      Stage                  Class   Component\n",
       "31  Stage 1  Materials - Chemicals  WFI Source\n",
       "32  Stage 2  Materials - Chemicals  WFI Source\n",
       "33  Stage 3  Materials - Chemicals  WFI Source"
      ]
     },
     "execution_count": 64,
     "metadata": {},
     "output_type": "execute_result"
    }
   ],
   "source": [
    "d_comp[d_comp.Component == 'WFI Source']"
   ]
  },
  {
   "cell_type": "code",
   "execution_count": 65,
   "metadata": {
    "collapsed": false
   },
   "outputs": [
    {
     "data": {
      "text/plain": [
       "(32, 34)"
      ]
     },
     "execution_count": 65,
     "metadata": {},
     "output_type": "execute_result"
    }
   ],
   "source": [
    "d_comp2 = d_comp[d_comp.Component != 'WFI Source']\\\n",
    "    .append(d_comp[(d_comp.Component == 'WFI Source') & (d_comp.Stage == 'Stage 1')])\n",
    "len(d_comp2), len(d_comp)"
   ]
  },
  {
   "cell_type": "code",
   "execution_count": 66,
   "metadata": {
    "collapsed": true
   },
   "outputs": [],
   "source": [
    "d_comp = d_comp2"
   ]
  },
  {
   "cell_type": "code",
   "execution_count": 72,
   "metadata": {
    "collapsed": false
   },
   "outputs": [],
   "source": [
    "m = pd.merge(d_yield, d_run, on='Run Number', how='outer')\n",
    "m = pd.merge(m, d_comp, on='Component', how='outer')\n",
    "m.to_csv('/tmp/MeetupDataChallenge-1-Merged.csv', index=False, sep='\\t')"
   ]
  },
  {
   "cell_type": "code",
   "execution_count": 73,
   "metadata": {
    "collapsed": false
   },
   "outputs": [
    {
     "data": {
      "text/html": [
       "<div style=\"max-height:1000px;max-width:1500px;overflow:auto;\">\n",
       "<table border=\"1\" class=\"dataframe\">\n",
       "  <thead>\n",
       "    <tr style=\"text-align: right;\">\n",
       "      <th></th>\n",
       "      <th>Run Number</th>\n",
       "      <th>Final Yield 2</th>\n",
       "      <th>Purity</th>\n",
       "      <th>Component</th>\n",
       "      <th>Lot ID</th>\n",
       "      <th>Stage</th>\n",
       "      <th>Class</th>\n",
       "    </tr>\n",
       "  </thead>\n",
       "  <tbody>\n",
       "    <tr>\n",
       "      <th>0</th>\n",
       "      <td> 1</td>\n",
       "      <td> 16.75</td>\n",
       "      <td> 75.5</td>\n",
       "      <td> Cassette 1</td>\n",
       "      <td> 10004280</td>\n",
       "      <td> Stage 2</td>\n",
       "      <td> Materials - Parts</td>\n",
       "    </tr>\n",
       "    <tr>\n",
       "      <th>1</th>\n",
       "      <td> 2</td>\n",
       "      <td> 16.81</td>\n",
       "      <td> 81.8</td>\n",
       "      <td> Cassette 1</td>\n",
       "      <td> 10004280</td>\n",
       "      <td> Stage 2</td>\n",
       "      <td> Materials - Parts</td>\n",
       "    </tr>\n",
       "    <tr>\n",
       "      <th>2</th>\n",
       "      <td> 3</td>\n",
       "      <td> 16.96</td>\n",
       "      <td> 67.0</td>\n",
       "      <td> Cassette 1</td>\n",
       "      <td> 10004280</td>\n",
       "      <td> Stage 2</td>\n",
       "      <td> Materials - Parts</td>\n",
       "    </tr>\n",
       "    <tr>\n",
       "      <th>3</th>\n",
       "      <td> 4</td>\n",
       "      <td> 16.53</td>\n",
       "      <td> 70.3</td>\n",
       "      <td> Cassette 1</td>\n",
       "      <td> 10004280</td>\n",
       "      <td> Stage 2</td>\n",
       "      <td> Materials - Parts</td>\n",
       "    </tr>\n",
       "    <tr>\n",
       "      <th>4</th>\n",
       "      <td> 5</td>\n",
       "      <td> 18.55</td>\n",
       "      <td> 80.1</td>\n",
       "      <td> Cassette 1</td>\n",
       "      <td> 10004280</td>\n",
       "      <td> Stage 2</td>\n",
       "      <td> Materials - Parts</td>\n",
       "    </tr>\n",
       "  </tbody>\n",
       "</table>\n",
       "</div>"
      ],
      "text/plain": [
       "   Run Number  Final Yield 2  Purity   Component    Lot ID    Stage  \\\n",
       "0           1          16.75    75.5  Cassette 1  10004280  Stage 2   \n",
       "1           2          16.81    81.8  Cassette 1  10004280  Stage 2   \n",
       "2           3          16.96    67.0  Cassette 1  10004280  Stage 2   \n",
       "3           4          16.53    70.3  Cassette 1  10004280  Stage 2   \n",
       "4           5          18.55    80.1  Cassette 1  10004280  Stage 2   \n",
       "\n",
       "               Class  \n",
       "0  Materials - Parts  \n",
       "1  Materials - Parts  \n",
       "2  Materials - Parts  \n",
       "3  Materials - Parts  \n",
       "4  Materials - Parts  "
      ]
     },
     "execution_count": 73,
     "metadata": {},
     "output_type": "execute_result"
    }
   ],
   "source": [
    "m.head()"
   ]
  },
  {
   "cell_type": "code",
   "execution_count": 74,
   "metadata": {
    "collapsed": false
   },
   "outputs": [
    {
     "data": {
      "text/plain": [
       "1    17536\n",
       "dtype: int64"
      ]
     },
     "execution_count": 74,
     "metadata": {},
     "output_type": "execute_result"
    }
   ],
   "source": [
    "m.groupby(['Run Number', 'Component', 'Class']).size().value_counts()"
   ]
  },
  {
   "cell_type": "code",
   "execution_count": 75,
   "metadata": {
    "collapsed": false
   },
   "outputs": [
    {
     "data": {
      "text/plain": [
       "1    17536\n",
       "dtype: int64"
      ]
     },
     "execution_count": 75,
     "metadata": {},
     "output_type": "execute_result"
    }
   ],
   "source": [
    "m.groupby(['Run Number', 'Component']).size().value_counts()"
   ]
  },
  {
   "cell_type": "code",
   "execution_count": 76,
   "metadata": {
    "collapsed": false
   },
   "outputs": [
    {
     "data": {
      "text/html": [
       "<div style=\"max-height:1000px;max-width:1500px;overflow:auto;\">\n",
       "<table border=\"1\" class=\"dataframe\">\n",
       "  <thead>\n",
       "    <tr style=\"text-align: right;\">\n",
       "      <th></th>\n",
       "      <th>Run Number</th>\n",
       "      <th>Final Yield 2</th>\n",
       "      <th>Purity</th>\n",
       "      <th>Component</th>\n",
       "      <th>Lot ID</th>\n",
       "      <th>Stage</th>\n",
       "      <th>Class</th>\n",
       "    </tr>\n",
       "  </thead>\n",
       "  <tbody>\n",
       "  </tbody>\n",
       "</table>\n",
       "</div>"
      ],
      "text/plain": [
       "Empty DataFrame\n",
       "Columns: [Run Number, Final Yield 2, Purity, Component, Lot ID, Stage, Class]\n",
       "Index: []"
      ]
     },
     "execution_count": 76,
     "metadata": {},
     "output_type": "execute_result"
    }
   ],
   "source": [
    "m[m.isnull().any(axis=1)]"
   ]
  },
  {
   "cell_type": "code",
   "execution_count": 77,
   "metadata": {
    "collapsed": false
   },
   "outputs": [
    {
     "data": {
      "text/plain": [
       "32"
      ]
     },
     "execution_count": 77,
     "metadata": {},
     "output_type": "execute_result"
    }
   ],
   "source": [
    "len(m[m['Run Number'] == 1])"
   ]
  },
  {
   "cell_type": "code",
   "execution_count": null,
   "metadata": {
    "collapsed": true
   },
   "outputs": [],
   "source": []
  }
 ],
 "metadata": {
  "kernelspec": {
   "display_name": "Python 3",
   "language": "python",
   "name": "python3"
  },
  "language_info": {
   "codemirror_mode": {
    "name": "ipython",
    "version": 3
   },
   "file_extension": ".py",
   "mimetype": "text/x-python",
   "name": "python",
   "nbconvert_exporter": "python",
   "pygments_lexer": "ipython3",
   "version": "3.3.5"
  }
 },
 "nbformat": 4,
 "nbformat_minor": 0
}
